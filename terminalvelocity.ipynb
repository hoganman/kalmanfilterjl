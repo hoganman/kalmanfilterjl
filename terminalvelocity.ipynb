{
 "cells": [
  {
   "cell_type": "markdown",
   "id": "0fe47ebd",
   "metadata": {},
   "source": [
    "Consider a sky-diver falling towards the surface of Earth. The diver brought with them a temperature sensor that took multiple measurements along the descent. The diver is interested in determining their terminal velocity given these measurements.\n",
    "\n",
    "Problem: Given a temperature measurement, can one estimate the velocity as a function of time?"
   ]
  },
  {
   "cell_type": "code",
   "execution_count": 320,
   "id": "27006630",
   "metadata": {},
   "outputs": [],
   "source": [
    "using LinearAlgebra\n",
    "using Random\n",
    "using PlotlyJS\n",
    "\n",
    "include(\"kalmanflt.jl\");"
   ]
  },
  {
   "cell_type": "markdown",
   "id": "3512e124",
   "metadata": {},
   "source": [
    "The system is a particle falling due to gravity WITH air resistance. For this simulation, the falling object will acheive terminal velocity. The velocity as a function of time is modeled as"
   ]
  },
  {
   "cell_type": "markdown",
   "id": "743cba50",
   "metadata": {},
   "source": [
    "$$\n",
    "v(t) = v_{\\infty} \\tanh\\left(\\frac{g t}{v_{\\infty}}\\right)\n",
    "$$"
   ]
  },
  {
   "cell_type": "markdown",
   "id": "c53f0c0a",
   "metadata": {},
   "source": [
    "where $v_{\\infty}$ is the terminal velocity as time approaches infinity and $g$ is the acceleration due to gravity. "
   ]
  },
  {
   "cell_type": "code",
   "execution_count": 321,
   "id": "ab647c04",
   "metadata": {},
   "outputs": [],
   "source": [
    "accel_ms2 = -9.8 # meter / sec^2\n",
    "v_inf = 54 # meter / sec\n",
    "time_steps = 100\n",
    "delta_time_sec = 0.15  # sec\n",
    "time_axis_sec = [delta_time_sec * (t-1) for t in 1:time_steps];"
   ]
  },
  {
   "cell_type": "code",
   "execution_count": 322,
   "id": "fc0c964a",
   "metadata": {},
   "outputs": [
    {
     "data": {
      "application/vnd.plotly.v1+json": {
       "config": {
        "editable": false,
        "responsive": true,
        "scrollZoom": true,
        "showLink": false,
        "staticPlot": false
       },
       "data": [
        {
         "mode": "markers+lines",
         "name": "Velocity",
         "type": "scatter",
         "x": [
          0,
          0.15,
          0.3,
          0.44999999999999996,
          0.6,
          0.75,
          0.8999999999999999,
          1.05,
          1.2,
          1.3499999999999999,
          1.5,
          1.65,
          1.7999999999999998,
          1.95,
          2.1,
          2.25,
          2.4,
          2.55,
          2.6999999999999997,
          2.85,
          3,
          3.15,
          3.3,
          3.4499999999999997,
          3.5999999999999996,
          3.75,
          3.9,
          4.05,
          4.2,
          4.35,
          4.5,
          4.6499999999999995,
          4.8,
          4.95,
          5.1,
          5.25,
          5.3999999999999995,
          5.55,
          5.7,
          5.85,
          6,
          6.1499999999999995,
          6.3,
          6.45,
          6.6,
          6.75,
          6.8999999999999995,
          7.05,
          7.199999999999999,
          7.35,
          7.5,
          7.6499999999999995,
          7.8,
          7.949999999999999,
          8.1,
          8.25,
          8.4,
          8.549999999999999,
          8.7,
          8.85,
          9,
          9.15,
          9.299999999999999,
          9.45,
          9.6,
          9.75,
          9.9,
          10.049999999999999,
          10.2,
          10.35,
          10.5,
          10.65,
          10.799999999999999,
          10.95,
          11.1,
          11.25,
          11.4,
          11.549999999999999,
          11.7,
          11.85,
          12,
          12.15,
          12.299999999999999,
          12.45,
          12.6,
          12.75,
          12.9,
          13.049999999999999,
          13.2,
          13.35,
          13.5,
          13.65,
          13.799999999999999,
          13.95,
          14.1,
          14.25,
          14.399999999999999,
          14.549999999999999,
          14.7,
          14.85
         ],
         "y": [
          0,
          -1.4696369934044147,
          -2.93709852658733,
          -4.400222001365922,
          -5.856870382376402,
          -7.304944578798362,
          -8.742395356033516,
          -10.16723463628391,
          -11.577546059717076,
          -12.971494693053733,
          -14.347335789499724,
          -15.703422522455,
          -17.03821263483159,
          -18.350273965559705,
          -19.638288834435137,
          -20.90105728537547,
          -22.137499205973473,
          -23.34665535759246,
          -24.52768736484199,
          -25.67987672588044,
          -26.80262291546983,
          -27.895440660987738,
          -28.957956477682536,
          -29.98990455340419,
          -30.991122074971138,
          -31.961544088403226,
          -32.90119798365641,
          -33.810197691450995,
          -34.688737675521686,
          -35.53708679836574,
          -36.35558213255502,
          -37.144622783125925,
          -37.9046637796703,
          -38.63621008970526,
          -39.339810797859954,
          -40.016053488522715,
          -40.66555886295581,
          -41.28897561560103,
          -41.88697558843546,
          -42.46024921684409,
          -43.00950127558594,
          -43.53544692905797,
          -44.03880808620917,
          -44.520310057115914,
          -44.98067850538016,
          -45.42063668813034,
          -45.84090297345663,
          -46.24218862356786,
          -46.62519583077545,
          -46.99061599255645,
          -47.33912821138381,
          -47.671398004701715,
          -47.988076210331954,
          -48.28979807269157,
          -48.57718249545122,
          -48.85083144664045,
          -49.1113295026847,
          -49.35924351841675,
          -49.595122410722695,
          -49.81949704414125,
          -50.03288020742079,
          -50.235766670737405,
          -50.428633313978935,
          -50.61193931719506,
          -50.78612640499483,
          -50.951619137334774,
          -51.10882523977744,
          -51.258135966910245,
          -51.399926493192694,
          -51.534556326047706,
          -51.662369736526415,
          -51.783696203356946,
          -51.89885086663515,
          -52.00813498783056,
          -52.111836413164276,
          -52.21023003776825,
          -52.30357826835899,
          -52.39213148245431,
          -52.476128482430816,
          -52.5557969429643,
          -52.631353850616115,
          -52.70300593452784,
          -52.77095008736578,
          -52.835373775817175,
          -52.896455440083116,
          -52.95436488194061,
          -53.009263641058915,
          -53.06130535935484,
          -53.11063613325919,
          -53.15739485384285,
          -53.20171353481754,
          -53.24371762848386,
          -53.28352632974826,
          -53.321252868373215,
          -53.35700478965965,
          -53.39088422379107,
          -53.42298814409283,
          -53.45340861447991,
          -53.48223302638248,
          -53.50954432545027
         ]
        }
       ],
       "frames": [],
       "layout": {
        "legend": {
         "title": "Legend Title"
        },
        "margin": {
         "b": 50,
         "l": 50,
         "r": 50,
         "t": 60
        },
        "template": {
         "data": {
          "bar": [
           {
            "error_x": {
             "color": "#2a3f5f"
            },
            "error_y": {
             "color": "#2a3f5f"
            },
            "marker": {
             "line": {
              "color": "#E5ECF6",
              "width": 0.5
             }
            },
            "type": "bar"
           }
          ],
          "barpolar": [
           {
            "marker": {
             "line": {
              "color": "#E5ECF6",
              "width": 0.5
             }
            },
            "type": "barpolar"
           }
          ],
          "carpet": [
           {
            "aaxis": {
             "endlinecolor": "#2a3f5f",
             "gridcolor": "white",
             "linecolor": "white",
             "minorgridcolor": "white",
             "startlinecolor": "#2a3f5f"
            },
            "baxis": {
             "endlinecolor": "#2a3f5f",
             "gridcolor": "white",
             "linecolor": "white",
             "minorgridcolor": "white",
             "startlinecolor": "#2a3f5f"
            },
            "type": "carpet"
           }
          ],
          "choropleth": [
           {
            "colorbar": {
             "outlinewidth": 0,
             "ticks": ""
            },
            "type": "choropleth"
           }
          ],
          "contour": [
           {
            "colorbar": {
             "outlinewidth": 0,
             "ticks": ""
            },
            "colorscale": [
             [
              0,
              "#0d0887"
             ],
             [
              0.1111111111111111,
              "#46039f"
             ],
             [
              0.2222222222222222,
              "#7201a8"
             ],
             [
              0.3333333333333333,
              "#9c179e"
             ],
             [
              0.4444444444444444,
              "#bd3786"
             ],
             [
              0.5555555555555556,
              "#d8576b"
             ],
             [
              0.6666666666666666,
              "#ed7953"
             ],
             [
              0.7777777777777778,
              "#fb9f3a"
             ],
             [
              0.8888888888888888,
              "#fdca26"
             ],
             [
              1,
              "#f0f921"
             ]
            ],
            "type": "contour"
           }
          ],
          "contourcarpet": [
           {
            "colorbar": {
             "outlinewidth": 0,
             "ticks": ""
            },
            "type": "contourcarpet"
           }
          ],
          "heatmap": [
           {
            "colorbar": {
             "outlinewidth": 0,
             "ticks": ""
            },
            "colorscale": [
             [
              0,
              "#0d0887"
             ],
             [
              0.1111111111111111,
              "#46039f"
             ],
             [
              0.2222222222222222,
              "#7201a8"
             ],
             [
              0.3333333333333333,
              "#9c179e"
             ],
             [
              0.4444444444444444,
              "#bd3786"
             ],
             [
              0.5555555555555556,
              "#d8576b"
             ],
             [
              0.6666666666666666,
              "#ed7953"
             ],
             [
              0.7777777777777778,
              "#fb9f3a"
             ],
             [
              0.8888888888888888,
              "#fdca26"
             ],
             [
              1,
              "#f0f921"
             ]
            ],
            "type": "heatmap"
           }
          ],
          "heatmapgl": [
           {
            "colorbar": {
             "outlinewidth": 0,
             "ticks": ""
            },
            "colorscale": [
             [
              0,
              "#0d0887"
             ],
             [
              0.1111111111111111,
              "#46039f"
             ],
             [
              0.2222222222222222,
              "#7201a8"
             ],
             [
              0.3333333333333333,
              "#9c179e"
             ],
             [
              0.4444444444444444,
              "#bd3786"
             ],
             [
              0.5555555555555556,
              "#d8576b"
             ],
             [
              0.6666666666666666,
              "#ed7953"
             ],
             [
              0.7777777777777778,
              "#fb9f3a"
             ],
             [
              0.8888888888888888,
              "#fdca26"
             ],
             [
              1,
              "#f0f921"
             ]
            ],
            "type": "heatmapgl"
           }
          ],
          "histogram": [
           {
            "marker": {
             "colorbar": {
              "outlinewidth": 0,
              "ticks": ""
             }
            },
            "type": "histogram"
           }
          ],
          "histogram2d": [
           {
            "colorbar": {
             "outlinewidth": 0,
             "ticks": ""
            },
            "colorscale": [
             [
              0,
              "#0d0887"
             ],
             [
              0.1111111111111111,
              "#46039f"
             ],
             [
              0.2222222222222222,
              "#7201a8"
             ],
             [
              0.3333333333333333,
              "#9c179e"
             ],
             [
              0.4444444444444444,
              "#bd3786"
             ],
             [
              0.5555555555555556,
              "#d8576b"
             ],
             [
              0.6666666666666666,
              "#ed7953"
             ],
             [
              0.7777777777777778,
              "#fb9f3a"
             ],
             [
              0.8888888888888888,
              "#fdca26"
             ],
             [
              1,
              "#f0f921"
             ]
            ],
            "type": "histogram2d"
           }
          ],
          "histogram2dcontour": [
           {
            "colorbar": {
             "outlinewidth": 0,
             "ticks": ""
            },
            "colorscale": [
             [
              0,
              "#0d0887"
             ],
             [
              0.1111111111111111,
              "#46039f"
             ],
             [
              0.2222222222222222,
              "#7201a8"
             ],
             [
              0.3333333333333333,
              "#9c179e"
             ],
             [
              0.4444444444444444,
              "#bd3786"
             ],
             [
              0.5555555555555556,
              "#d8576b"
             ],
             [
              0.6666666666666666,
              "#ed7953"
             ],
             [
              0.7777777777777778,
              "#fb9f3a"
             ],
             [
              0.8888888888888888,
              "#fdca26"
             ],
             [
              1,
              "#f0f921"
             ]
            ],
            "type": "histogram2dcontour"
           }
          ],
          "mesh3d": [
           {
            "colorbar": {
             "outlinewidth": 0,
             "ticks": ""
            },
            "type": "mesh3d"
           }
          ],
          "parcoords": [
           {
            "line": {
             "colorbar": {
              "outlinewidth": 0,
              "ticks": ""
             }
            },
            "type": "parcoords"
           }
          ],
          "pie": [
           {
            "automargin": true,
            "type": "pie"
           }
          ],
          "scatter": [
           {
            "marker": {
             "colorbar": {
              "outlinewidth": 0,
              "ticks": ""
             }
            },
            "type": "scatter"
           }
          ],
          "scatter3d": [
           {
            "line": {
             "colorbar": {
              "outlinewidth": 0,
              "ticks": ""
             }
            },
            "marker": {
             "colorbar": {
              "outlinewidth": 0,
              "ticks": ""
             }
            },
            "type": "scatter3d"
           }
          ],
          "scattercarpet": [
           {
            "marker": {
             "colorbar": {
              "outlinewidth": 0,
              "ticks": ""
             }
            },
            "type": "scattercarpet"
           }
          ],
          "scattergeo": [
           {
            "marker": {
             "colorbar": {
              "outlinewidth": 0,
              "ticks": ""
             }
            },
            "type": "scattergeo"
           }
          ],
          "scattergl": [
           {
            "marker": {
             "colorbar": {
              "outlinewidth": 0,
              "ticks": ""
             }
            },
            "type": "scattergl"
           }
          ],
          "scattermapbox": [
           {
            "marker": {
             "colorbar": {
              "outlinewidth": 0,
              "ticks": ""
             }
            },
            "type": "scattermapbox"
           }
          ],
          "scatterpolar": [
           {
            "marker": {
             "colorbar": {
              "outlinewidth": 0,
              "ticks": ""
             }
            },
            "type": "scatterpolar"
           }
          ],
          "scatterpolargl": [
           {
            "marker": {
             "colorbar": {
              "outlinewidth": 0,
              "ticks": ""
             }
            },
            "type": "scatterpolargl"
           }
          ],
          "scatterternary": [
           {
            "marker": {
             "colorbar": {
              "outlinewidth": 0,
              "ticks": ""
             }
            },
            "type": "scatterternary"
           }
          ],
          "surface": [
           {
            "colorbar": {
             "outlinewidth": 0,
             "ticks": ""
            },
            "colorscale": [
             [
              0,
              "#0d0887"
             ],
             [
              0.1111111111111111,
              "#46039f"
             ],
             [
              0.2222222222222222,
              "#7201a8"
             ],
             [
              0.3333333333333333,
              "#9c179e"
             ],
             [
              0.4444444444444444,
              "#bd3786"
             ],
             [
              0.5555555555555556,
              "#d8576b"
             ],
             [
              0.6666666666666666,
              "#ed7953"
             ],
             [
              0.7777777777777778,
              "#fb9f3a"
             ],
             [
              0.8888888888888888,
              "#fdca26"
             ],
             [
              1,
              "#f0f921"
             ]
            ],
            "type": "surface"
           }
          ],
          "table": [
           {
            "cells": {
             "fill": {
              "color": "#EBF0F8"
             },
             "line": {
              "color": "white"
             }
            },
            "header": {
             "fill": {
              "color": "#C8D4E3"
             },
             "line": {
              "color": "white"
             }
            },
            "type": "table"
           }
          ]
         },
         "layout": {
          "annotationdefaults": {
           "arrowcolor": "#2a3f5f",
           "arrowhead": 0,
           "arrowwidth": 1
          },
          "autotypenumbers": "strict",
          "coloraxis": {
           "colorbar": {
            "outlinewidth": 0,
            "ticks": ""
           }
          },
          "colorscale": {
           "diverging": [
            [
             0,
             "#8e0152"
            ],
            [
             0.1,
             "#c51b7d"
            ],
            [
             0.2,
             "#de77ae"
            ],
            [
             0.3,
             "#f1b6da"
            ],
            [
             0.4,
             "#fde0ef"
            ],
            [
             0.5,
             "#f7f7f7"
            ],
            [
             0.6,
             "#e6f5d0"
            ],
            [
             0.7,
             "#b8e186"
            ],
            [
             0.8,
             "#7fbc41"
            ],
            [
             0.9,
             "#4d9221"
            ],
            [
             1,
             "#276419"
            ]
           ],
           "sequential": [
            [
             0,
             "#0d0887"
            ],
            [
             0.1111111111111111,
             "#46039f"
            ],
            [
             0.2222222222222222,
             "#7201a8"
            ],
            [
             0.3333333333333333,
             "#9c179e"
            ],
            [
             0.4444444444444444,
             "#bd3786"
            ],
            [
             0.5555555555555556,
             "#d8576b"
            ],
            [
             0.6666666666666666,
             "#ed7953"
            ],
            [
             0.7777777777777778,
             "#fb9f3a"
            ],
            [
             0.8888888888888888,
             "#fdca26"
            ],
            [
             1,
             "#f0f921"
            ]
           ],
           "sequentialminus": [
            [
             0,
             "#0d0887"
            ],
            [
             0.1111111111111111,
             "#46039f"
            ],
            [
             0.2222222222222222,
             "#7201a8"
            ],
            [
             0.3333333333333333,
             "#9c179e"
            ],
            [
             0.4444444444444444,
             "#bd3786"
            ],
            [
             0.5555555555555556,
             "#d8576b"
            ],
            [
             0.6666666666666666,
             "#ed7953"
            ],
            [
             0.7777777777777778,
             "#fb9f3a"
            ],
            [
             0.8888888888888888,
             "#fdca26"
            ],
            [
             1,
             "#f0f921"
            ]
           ]
          },
          "colorway": [
           "#636efa",
           "#EF553B",
           "#00cc96",
           "#ab63fa",
           "#FFA15A",
           "#19d3f3",
           "#FF6692",
           "#B6E880",
           "#FF97FF",
           "#FECB52"
          ],
          "font": {
           "color": "#2a3f5f"
          },
          "geo": {
           "bgcolor": "white",
           "lakecolor": "white",
           "landcolor": "#E5ECF6",
           "showlakes": true,
           "showland": true,
           "subunitcolor": "white"
          },
          "hoverlabel": {
           "align": "left"
          },
          "hovermode": "closest",
          "mapbox": {
           "style": "light"
          },
          "paper_bgcolor": "white",
          "plot_bgcolor": "#E5ECF6",
          "polar": {
           "angularaxis": {
            "gridcolor": "white",
            "linecolor": "white",
            "ticks": ""
           },
           "bgcolor": "#E5ECF6",
           "radialaxis": {
            "gridcolor": "white",
            "linecolor": "white",
            "ticks": ""
           }
          },
          "scene": {
           "xaxis": {
            "backgroundcolor": "#E5ECF6",
            "gridcolor": "white",
            "gridwidth": 2,
            "linecolor": "white",
            "showbackground": true,
            "ticks": "",
            "zerolinecolor": "white"
           },
           "yaxis": {
            "backgroundcolor": "#E5ECF6",
            "gridcolor": "white",
            "gridwidth": 2,
            "linecolor": "white",
            "showbackground": true,
            "ticks": "",
            "zerolinecolor": "white"
           },
           "zaxis": {
            "backgroundcolor": "#E5ECF6",
            "gridcolor": "white",
            "gridwidth": 2,
            "linecolor": "white",
            "showbackground": true,
            "ticks": "",
            "zerolinecolor": "white"
           }
          },
          "shapedefaults": {
           "line": {
            "color": "#2a3f5f"
           }
          },
          "ternary": {
           "aaxis": {
            "gridcolor": "white",
            "linecolor": "white",
            "ticks": ""
           },
           "baxis": {
            "gridcolor": "white",
            "linecolor": "white",
            "ticks": ""
           },
           "bgcolor": "#E5ECF6",
           "caxis": {
            "gridcolor": "white",
            "linecolor": "white",
            "ticks": ""
           }
          },
          "title": {
           "x": 0.05
          },
          "xaxis": {
           "automargin": true,
           "gridcolor": "white",
           "linecolor": "white",
           "ticks": "",
           "title": {
            "standoff": 15
           },
           "zerolinecolor": "white",
           "zerolinewidth": 2
          },
          "yaxis": {
           "automargin": true,
           "gridcolor": "white",
           "linecolor": "white",
           "ticks": "",
           "title": {
            "standoff": 15
           },
           "zerolinecolor": "white",
           "zerolinewidth": 2
          }
         }
        },
        "title": "Velocity Model",
        "xaxis": {
         "title": {
          "text": "Time (second)"
         }
        },
        "yaxis": {
         "title": {
          "text": "Velocity (meter / second)"
         }
        }
       }
      },
      "text/html": [
       "<div\n",
       "    class=\"webio-mountpoint\"\n",
       "    data-webio-mountpoint=\"2222178738313983635\"\n",
       ">\n",
       "    <script>\n",
       "    (function(){\n",
       "    // Some integrations (namely, IJulia/Jupyter) use an alternate render pathway than\n",
       "    // just putting the html on the page. If WebIO isn't defined, then it's pretty likely\n",
       "    // that we're in one of those situations and the integration just isn't installed\n",
       "    // correctly.\n",
       "    if (typeof window.WebIO === \"undefined\") {\n",
       "        document\n",
       "            .querySelector('[data-webio-mountpoint=\"2222178738313983635\"]')\n",
       "            .innerHTML = (\n",
       "                '<div style=\"padding: 1em; background-color: #f8d6da; border: 1px solid #f5c6cb; font-weight: bold;\">' +\n",
       "                '<p><strong>WebIO not detected.</strong></p>' +\n",
       "                '<p>Please read ' +\n",
       "                '<a href=\"https://juliagizmos.github.io/WebIO.jl/latest/troubleshooting/not-detected/\" target=\"_blank\">the troubleshooting guide</a> ' +\n",
       "                'for more information on how to resolve this issue.</p>' +\n",
       "                '<p><a href=\"https://juliagizmos.github.io/WebIO.jl/latest/troubleshooting/not-detected/\" target=\"_blank\">https://juliagizmos.github.io/WebIO.jl/latest/troubleshooting/not-detected/</a></p>' +\n",
       "                '</div>'\n",
       "            );\n",
       "        return;\n",
       "    }\n",
       "    WebIO.mount(\n",
       "        document.querySelector('[data-webio-mountpoint=\"2222178738313983635\"]'),\n",
       "        {\"props\":{},\"nodeType\":\"Scope\",\"type\":\"node\",\"instanceArgs\":{\"imports\":{\"data\":[{\"name\":\"Plotly\",\"type\":\"js\",\"url\":\"\\/assetserver\\/627f17ff06762af3874159c00b9b1e00e50688bc-plotly.min.js\"},{\"name\":null,\"type\":\"js\",\"url\":\"\\/assetserver\\/1a276a0acb11ad47020d3f379225d41bbd0aeef0-plotly_webio.bundle.js\"}],\"type\":\"async_block\"},\"id\":\"253267748431847289\",\"handlers\":{\"_toImage\":[\"(function (options){return this.Plotly.toImage(this.plotElem,options).then((function (data){return WebIO.setval({\\\"name\\\":\\\"image\\\",\\\"scope\\\":\\\"253267748431847289\\\",\\\"id\\\":\\\"8776988710842948595\\\",\\\"type\\\":\\\"observable\\\"},data)}))})\"],\"__get_gd_contents\":[\"(function (prop){prop==\\\"data\\\" ? (WebIO.setval({\\\"name\\\":\\\"__gd_contents\\\",\\\"scope\\\":\\\"253267748431847289\\\",\\\"id\\\":\\\"1066803328180563930\\\",\\\"type\\\":\\\"observable\\\"},this.plotElem.data)) : undefined; return prop==\\\"layout\\\" ? (WebIO.setval({\\\"name\\\":\\\"__gd_contents\\\",\\\"scope\\\":\\\"253267748431847289\\\",\\\"id\\\":\\\"1066803328180563930\\\",\\\"type\\\":\\\"observable\\\"},this.plotElem.layout)) : undefined})\"],\"_downloadImage\":[\"(function (options){return this.Plotly.downloadImage(this.plotElem,options)})\"],\"_commands\":[\"(function (args){var fn=args.shift(); var elem=this.plotElem; var Plotly=this.Plotly; args.unshift(elem); return Plotly[fn].apply(this,args)})\"]},\"systemjs_options\":null,\"mount_callbacks\":[\"function () {\\n    var handler = ((function (Plotly,PlotlyWebIO){PlotlyWebIO.init(WebIO); var gd=this.dom.querySelector(\\\"#plot-56a2ab56-2ec5-4b74-bf92-7a95bba86d23\\\"); this.plotElem=gd; this.Plotly=Plotly; (window.Blink!==undefined) ? (gd.style.width=\\\"100%\\\", gd.style.height=\\\"100vh\\\", gd.style.marginLeft=\\\"0%\\\", gd.style.marginTop=\\\"0vh\\\") : undefined; window.onresize=(function (){return Plotly.Plots.resize(gd)}); Plotly.newPlot(gd,[{\\\"mode\\\":\\\"markers+lines\\\",\\\"y\\\":[-0.0,-1.4696369934044147,-2.93709852658733,-4.400222001365922,-5.856870382376402,-7.304944578798362,-8.742395356033516,-10.16723463628391,-11.577546059717076,-12.971494693053733,-14.347335789499724,-15.703422522455,-17.03821263483159,-18.350273965559705,-19.638288834435137,-20.90105728537547,-22.137499205973473,-23.34665535759246,-24.52768736484199,-25.67987672588044,-26.80262291546983,-27.895440660987738,-28.957956477682536,-29.98990455340419,-30.991122074971138,-31.961544088403226,-32.90119798365641,-33.810197691450995,-34.688737675521686,-35.53708679836574,-36.35558213255502,-37.144622783125925,-37.9046637796703,-38.63621008970526,-39.339810797859954,-40.016053488522715,-40.66555886295581,-41.28897561560103,-41.88697558843546,-42.46024921684409,-43.00950127558594,-43.53544692905797,-44.03880808620917,-44.520310057115914,-44.98067850538016,-45.42063668813034,-45.84090297345663,-46.24218862356786,-46.62519583077545,-46.99061599255645,-47.33912821138381,-47.671398004701715,-47.988076210331954,-48.28979807269157,-48.57718249545122,-48.85083144664045,-49.1113295026847,-49.35924351841675,-49.595122410722695,-49.81949704414125,-50.03288020742079,-50.235766670737405,-50.428633313978935,-50.61193931719506,-50.78612640499483,-50.951619137334774,-51.10882523977744,-51.258135966910245,-51.399926493192694,-51.534556326047706,-51.662369736526415,-51.783696203356946,-51.89885086663515,-52.00813498783056,-52.111836413164276,-52.21023003776825,-52.30357826835899,-52.39213148245431,-52.476128482430816,-52.5557969429643,-52.631353850616115,-52.70300593452784,-52.77095008736578,-52.835373775817175,-52.896455440083116,-52.95436488194061,-53.009263641058915,-53.06130535935484,-53.11063613325919,-53.15739485384285,-53.20171353481754,-53.24371762848386,-53.28352632974826,-53.321252868373215,-53.35700478965965,-53.39088422379107,-53.42298814409283,-53.45340861447991,-53.48223302638248,-53.50954432545027],\\\"type\\\":\\\"scatter\\\",\\\"name\\\":\\\"Velocity\\\",\\\"x\\\":[0.0,0.15,0.3,0.44999999999999996,0.6,0.75,0.8999999999999999,1.05,1.2,1.3499999999999999,1.5,1.65,1.7999999999999998,1.95,2.1,2.25,2.4,2.55,2.6999999999999997,2.85,3.0,3.15,3.3,3.4499999999999997,3.5999999999999996,3.75,3.9,4.05,4.2,4.35,4.5,4.6499999999999995,4.8,4.95,5.1,5.25,5.3999999999999995,5.55,5.7,5.85,6.0,6.1499999999999995,6.3,6.45,6.6,6.75,6.8999999999999995,7.05,7.199999999999999,7.35,7.5,7.6499999999999995,7.8,7.949999999999999,8.1,8.25,8.4,8.549999999999999,8.7,8.85,9.0,9.15,9.299999999999999,9.45,9.6,9.75,9.9,10.049999999999999,10.2,10.35,10.5,10.65,10.799999999999999,10.95,11.1,11.25,11.4,11.549999999999999,11.7,11.85,12.0,12.15,12.299999999999999,12.45,12.6,12.75,12.9,13.049999999999999,13.2,13.35,13.5,13.65,13.799999999999999,13.95,14.1,14.25,14.399999999999999,14.549999999999999,14.7,14.85]}],{\\\"xaxis\\\":{\\\"title\\\":{\\\"text\\\":\\\"Time (second)\\\"}},\\\"template\\\":{\\\"layout\\\":{\\\"coloraxis\\\":{\\\"colorbar\\\":{\\\"ticks\\\":\\\"\\\",\\\"outlinewidth\\\":0}},\\\"xaxis\\\":{\\\"gridcolor\\\":\\\"white\\\",\\\"zerolinewidth\\\":2,\\\"title\\\":{\\\"standoff\\\":15},\\\"ticks\\\":\\\"\\\",\\\"zerolinecolor\\\":\\\"white\\\",\\\"automargin\\\":true,\\\"linecolor\\\":\\\"white\\\"},\\\"hovermode\\\":\\\"closest\\\",\\\"paper_bgcolor\\\":\\\"white\\\",\\\"geo\\\":{\\\"showlakes\\\":true,\\\"showland\\\":true,\\\"landcolor\\\":\\\"#E5ECF6\\\",\\\"bgcolor\\\":\\\"white\\\",\\\"subunitcolor\\\":\\\"white\\\",\\\"lakecolor\\\":\\\"white\\\"},\\\"colorscale\\\":{\\\"sequential\\\":[[0.0,\\\"#0d0887\\\"],[0.1111111111111111,\\\"#46039f\\\"],[0.2222222222222222,\\\"#7201a8\\\"],[0.3333333333333333,\\\"#9c179e\\\"],[0.4444444444444444,\\\"#bd3786\\\"],[0.5555555555555556,\\\"#d8576b\\\"],[0.6666666666666666,\\\"#ed7953\\\"],[0.7777777777777778,\\\"#fb9f3a\\\"],[0.8888888888888888,\\\"#fdca26\\\"],[1.0,\\\"#f0f921\\\"]],\\\"diverging\\\":[[0,\\\"#8e0152\\\"],[0.1,\\\"#c51b7d\\\"],[0.2,\\\"#de77ae\\\"],[0.3,\\\"#f1b6da\\\"],[0.4,\\\"#fde0ef\\\"],[0.5,\\\"#f7f7f7\\\"],[0.6,\\\"#e6f5d0\\\"],[0.7,\\\"#b8e186\\\"],[0.8,\\\"#7fbc41\\\"],[0.9,\\\"#4d9221\\\"],[1,\\\"#276419\\\"]],\\\"sequentialminus\\\":[[0.0,\\\"#0d0887\\\"],[0.1111111111111111,\\\"#46039f\\\"],[0.2222222222222222,\\\"#7201a8\\\"],[0.3333333333333333,\\\"#9c179e\\\"],[0.4444444444444444,\\\"#bd3786\\\"],[0.5555555555555556,\\\"#d8576b\\\"],[0.6666666666666666,\\\"#ed7953\\\"],[0.7777777777777778,\\\"#fb9f3a\\\"],[0.8888888888888888,\\\"#fdca26\\\"],[1.0,\\\"#f0f921\\\"]]},\\\"yaxis\\\":{\\\"gridcolor\\\":\\\"white\\\",\\\"zerolinewidth\\\":2,\\\"title\\\":{\\\"standoff\\\":15},\\\"ticks\\\":\\\"\\\",\\\"zerolinecolor\\\":\\\"white\\\",\\\"automargin\\\":true,\\\"linecolor\\\":\\\"white\\\"},\\\"shapedefaults\\\":{\\\"line\\\":{\\\"color\\\":\\\"#2a3f5f\\\"}},\\\"hoverlabel\\\":{\\\"align\\\":\\\"left\\\"},\\\"mapbox\\\":{\\\"style\\\":\\\"light\\\"},\\\"polar\\\":{\\\"angularaxis\\\":{\\\"gridcolor\\\":\\\"white\\\",\\\"ticks\\\":\\\"\\\",\\\"linecolor\\\":\\\"white\\\"},\\\"bgcolor\\\":\\\"#E5ECF6\\\",\\\"radialaxis\\\":{\\\"gridcolor\\\":\\\"white\\\",\\\"ticks\\\":\\\"\\\",\\\"linecolor\\\":\\\"white\\\"}},\\\"autotypenumbers\\\":\\\"strict\\\",\\\"font\\\":{\\\"color\\\":\\\"#2a3f5f\\\"},\\\"ternary\\\":{\\\"baxis\\\":{\\\"gridcolor\\\":\\\"white\\\",\\\"ticks\\\":\\\"\\\",\\\"linecolor\\\":\\\"white\\\"},\\\"bgcolor\\\":\\\"#E5ECF6\\\",\\\"caxis\\\":{\\\"gridcolor\\\":\\\"white\\\",\\\"ticks\\\":\\\"\\\",\\\"linecolor\\\":\\\"white\\\"},\\\"aaxis\\\":{\\\"gridcolor\\\":\\\"white\\\",\\\"ticks\\\":\\\"\\\",\\\"linecolor\\\":\\\"white\\\"}},\\\"annotationdefaults\\\":{\\\"arrowhead\\\":0,\\\"arrowwidth\\\":1,\\\"arrowcolor\\\":\\\"#2a3f5f\\\"},\\\"plot_bgcolor\\\":\\\"#E5ECF6\\\",\\\"title\\\":{\\\"x\\\":0.05},\\\"scene\\\":{\\\"xaxis\\\":{\\\"gridcolor\\\":\\\"white\\\",\\\"gridwidth\\\":2,\\\"backgroundcolor\\\":\\\"#E5ECF6\\\",\\\"ticks\\\":\\\"\\\",\\\"showbackground\\\":true,\\\"zerolinecolor\\\":\\\"white\\\",\\\"linecolor\\\":\\\"white\\\"},\\\"zaxis\\\":{\\\"gridcolor\\\":\\\"white\\\",\\\"gridwidth\\\":2,\\\"backgroundcolor\\\":\\\"#E5ECF6\\\",\\\"ticks\\\":\\\"\\\",\\\"showbackground\\\":true,\\\"zerolinecolor\\\":\\\"white\\\",\\\"linecolor\\\":\\\"white\\\"},\\\"yaxis\\\":{\\\"gridcolor\\\":\\\"white\\\",\\\"gridwidth\\\":2,\\\"backgroundcolor\\\":\\\"#E5ECF6\\\",\\\"ticks\\\":\\\"\\\",\\\"showbackground\\\":true,\\\"zerolinecolor\\\":\\\"white\\\",\\\"linecolor\\\":\\\"white\\\"}},\\\"colorway\\\":[\\\"#636efa\\\",\\\"#EF553B\\\",\\\"#00cc96\\\",\\\"#ab63fa\\\",\\\"#FFA15A\\\",\\\"#19d3f3\\\",\\\"#FF6692\\\",\\\"#B6E880\\\",\\\"#FF97FF\\\",\\\"#FECB52\\\"]},\\\"data\\\":{\\\"barpolar\\\":[{\\\"type\\\":\\\"barpolar\\\",\\\"marker\\\":{\\\"line\\\":{\\\"color\\\":\\\"#E5ECF6\\\",\\\"width\\\":0.5}}}],\\\"carpet\\\":[{\\\"aaxis\\\":{\\\"gridcolor\\\":\\\"white\\\",\\\"endlinecolor\\\":\\\"#2a3f5f\\\",\\\"minorgridcolor\\\":\\\"white\\\",\\\"startlinecolor\\\":\\\"#2a3f5f\\\",\\\"linecolor\\\":\\\"white\\\"},\\\"type\\\":\\\"carpet\\\",\\\"baxis\\\":{\\\"gridcolor\\\":\\\"white\\\",\\\"endlinecolor\\\":\\\"#2a3f5f\\\",\\\"minorgridcolor\\\":\\\"white\\\",\\\"startlinecolor\\\":\\\"#2a3f5f\\\",\\\"linecolor\\\":\\\"white\\\"}}],\\\"scatterpolar\\\":[{\\\"type\\\":\\\"scatterpolar\\\",\\\"marker\\\":{\\\"colorbar\\\":{\\\"ticks\\\":\\\"\\\",\\\"outlinewidth\\\":0}}}],\\\"parcoords\\\":[{\\\"line\\\":{\\\"colorbar\\\":{\\\"ticks\\\":\\\"\\\",\\\"outlinewidth\\\":0}},\\\"type\\\":\\\"parcoords\\\"}],\\\"scatter\\\":[{\\\"type\\\":\\\"scatter\\\",\\\"marker\\\":{\\\"colorbar\\\":{\\\"ticks\\\":\\\"\\\",\\\"outlinewidth\\\":0}}}],\\\"histogram2dcontour\\\":[{\\\"colorbar\\\":{\\\"ticks\\\":\\\"\\\",\\\"outlinewidth\\\":0},\\\"type\\\":\\\"histogram2dcontour\\\",\\\"colorscale\\\":[[0.0,\\\"#0d0887\\\"],[0.1111111111111111,\\\"#46039f\\\"],[0.2222222222222222,\\\"#7201a8\\\"],[0.3333333333333333,\\\"#9c179e\\\"],[0.4444444444444444,\\\"#bd3786\\\"],[0.5555555555555556,\\\"#d8576b\\\"],[0.6666666666666666,\\\"#ed7953\\\"],[0.7777777777777778,\\\"#fb9f3a\\\"],[0.8888888888888888,\\\"#fdca26\\\"],[1.0,\\\"#f0f921\\\"]]}],\\\"contour\\\":[{\\\"colorbar\\\":{\\\"ticks\\\":\\\"\\\",\\\"outlinewidth\\\":0},\\\"type\\\":\\\"contour\\\",\\\"colorscale\\\":[[0.0,\\\"#0d0887\\\"],[0.1111111111111111,\\\"#46039f\\\"],[0.2222222222222222,\\\"#7201a8\\\"],[0.3333333333333333,\\\"#9c179e\\\"],[0.4444444444444444,\\\"#bd3786\\\"],[0.5555555555555556,\\\"#d8576b\\\"],[0.6666666666666666,\\\"#ed7953\\\"],[0.7777777777777778,\\\"#fb9f3a\\\"],[0.8888888888888888,\\\"#fdca26\\\"],[1.0,\\\"#f0f921\\\"]]}],\\\"scattercarpet\\\":[{\\\"type\\\":\\\"scattercarpet\\\",\\\"marker\\\":{\\\"colorbar\\\":{\\\"ticks\\\":\\\"\\\",\\\"outlinewidth\\\":0}}}],\\\"mesh3d\\\":[{\\\"colorbar\\\":{\\\"ticks\\\":\\\"\\\",\\\"outlinewidth\\\":0},\\\"type\\\":\\\"mesh3d\\\"}],\\\"surface\\\":[{\\\"colorbar\\\":{\\\"ticks\\\":\\\"\\\",\\\"outlinewidth\\\":0},\\\"type\\\":\\\"surface\\\",\\\"colorscale\\\":[[0.0,\\\"#0d0887\\\"],[0.1111111111111111,\\\"#46039f\\\"],[0.2222222222222222,\\\"#7201a8\\\"],[0.3333333333333333,\\\"#9c179e\\\"],[0.4444444444444444,\\\"#bd3786\\\"],[0.5555555555555556,\\\"#d8576b\\\"],[0.6666666666666666,\\\"#ed7953\\\"],[0.7777777777777778,\\\"#fb9f3a\\\"],[0.8888888888888888,\\\"#fdca26\\\"],[1.0,\\\"#f0f921\\\"]]}],\\\"scattermapbox\\\":[{\\\"type\\\":\\\"scattermapbox\\\",\\\"marker\\\":{\\\"colorbar\\\":{\\\"ticks\\\":\\\"\\\",\\\"outlinewidth\\\":0}}}],\\\"scattergeo\\\":[{\\\"type\\\":\\\"scattergeo\\\",\\\"marker\\\":{\\\"colorbar\\\":{\\\"ticks\\\":\\\"\\\",\\\"outlinewidth\\\":0}}}],\\\"histogram\\\":[{\\\"type\\\":\\\"histogram\\\",\\\"marker\\\":{\\\"colorbar\\\":{\\\"ticks\\\":\\\"\\\",\\\"outlinewidth\\\":0}}}],\\\"pie\\\":[{\\\"type\\\":\\\"pie\\\",\\\"automargin\\\":true}],\\\"choropleth\\\":[{\\\"colorbar\\\":{\\\"ticks\\\":\\\"\\\",\\\"outlinewidth\\\":0},\\\"type\\\":\\\"choropleth\\\"}],\\\"heatmapgl\\\":[{\\\"colorbar\\\":{\\\"ticks\\\":\\\"\\\",\\\"outlinewidth\\\":0},\\\"type\\\":\\\"heatmapgl\\\",\\\"colorscale\\\":[[0.0,\\\"#0d0887\\\"],[0.1111111111111111,\\\"#46039f\\\"],[0.2222222222222222,\\\"#7201a8\\\"],[0.3333333333333333,\\\"#9c179e\\\"],[0.4444444444444444,\\\"#bd3786\\\"],[0.5555555555555556,\\\"#d8576b\\\"],[0.6666666666666666,\\\"#ed7953\\\"],[0.7777777777777778,\\\"#fb9f3a\\\"],[0.8888888888888888,\\\"#fdca26\\\"],[1.0,\\\"#f0f921\\\"]]}],\\\"bar\\\":[{\\\"type\\\":\\\"bar\\\",\\\"error_y\\\":{\\\"color\\\":\\\"#2a3f5f\\\"},\\\"error_x\\\":{\\\"color\\\":\\\"#2a3f5f\\\"},\\\"marker\\\":{\\\"line\\\":{\\\"color\\\":\\\"#E5ECF6\\\",\\\"width\\\":0.5}}}],\\\"heatmap\\\":[{\\\"colorbar\\\":{\\\"ticks\\\":\\\"\\\",\\\"outlinewidth\\\":0},\\\"type\\\":\\\"heatmap\\\",\\\"colorscale\\\":[[0.0,\\\"#0d0887\\\"],[0.1111111111111111,\\\"#46039f\\\"],[0.2222222222222222,\\\"#7201a8\\\"],[0.3333333333333333,\\\"#9c179e\\\"],[0.4444444444444444,\\\"#bd3786\\\"],[0.5555555555555556,\\\"#d8576b\\\"],[0.6666666666666666,\\\"#ed7953\\\"],[0.7777777777777778,\\\"#fb9f3a\\\"],[0.8888888888888888,\\\"#fdca26\\\"],[1.0,\\\"#f0f921\\\"]]}],\\\"contourcarpet\\\":[{\\\"colorbar\\\":{\\\"ticks\\\":\\\"\\\",\\\"outlinewidth\\\":0},\\\"type\\\":\\\"contourcarpet\\\"}],\\\"table\\\":[{\\\"type\\\":\\\"table\\\",\\\"header\\\":{\\\"line\\\":{\\\"color\\\":\\\"white\\\"},\\\"fill\\\":{\\\"color\\\":\\\"#C8D4E3\\\"}},\\\"cells\\\":{\\\"line\\\":{\\\"color\\\":\\\"white\\\"},\\\"fill\\\":{\\\"color\\\":\\\"#EBF0F8\\\"}}}],\\\"scatter3d\\\":[{\\\"line\\\":{\\\"colorbar\\\":{\\\"ticks\\\":\\\"\\\",\\\"outlinewidth\\\":0}},\\\"type\\\":\\\"scatter3d\\\",\\\"marker\\\":{\\\"colorbar\\\":{\\\"ticks\\\":\\\"\\\",\\\"outlinewidth\\\":0}}}],\\\"scattergl\\\":[{\\\"type\\\":\\\"scattergl\\\",\\\"marker\\\":{\\\"colorbar\\\":{\\\"ticks\\\":\\\"\\\",\\\"outlinewidth\\\":0}}}],\\\"histogram2d\\\":[{\\\"colorbar\\\":{\\\"ticks\\\":\\\"\\\",\\\"outlinewidth\\\":0},\\\"type\\\":\\\"histogram2d\\\",\\\"colorscale\\\":[[0.0,\\\"#0d0887\\\"],[0.1111111111111111,\\\"#46039f\\\"],[0.2222222222222222,\\\"#7201a8\\\"],[0.3333333333333333,\\\"#9c179e\\\"],[0.4444444444444444,\\\"#bd3786\\\"],[0.5555555555555556,\\\"#d8576b\\\"],[0.6666666666666666,\\\"#ed7953\\\"],[0.7777777777777778,\\\"#fb9f3a\\\"],[0.8888888888888888,\\\"#fdca26\\\"],[1.0,\\\"#f0f921\\\"]]}],\\\"scatterternary\\\":[{\\\"type\\\":\\\"scatterternary\\\",\\\"marker\\\":{\\\"colorbar\\\":{\\\"ticks\\\":\\\"\\\",\\\"outlinewidth\\\":0}}}],\\\"scatterpolargl\\\":[{\\\"type\\\":\\\"scatterpolargl\\\",\\\"marker\\\":{\\\"colorbar\\\":{\\\"ticks\\\":\\\"\\\",\\\"outlinewidth\\\":0}}}]}},\\\"legend\\\":{\\\"title\\\":\\\"Legend Title\\\"},\\\"margin\\\":{\\\"l\\\":50,\\\"b\\\":50,\\\"r\\\":50,\\\"t\\\":60},\\\"title\\\":\\\"Velocity Model\\\",\\\"yaxis\\\":{\\\"title\\\":{\\\"text\\\":\\\"Velocity (meter \\/ second)\\\"}}},{\\\"showLink\\\":false,\\\"editable\\\":false,\\\"responsive\\\":true,\\\"staticPlot\\\":false,\\\"scrollZoom\\\":true}); gd.on(\\\"plotly_hover\\\",(function (data){var filtered_data=WebIO.PlotlyCommands.filterEventData(gd,data,\\\"hover\\\"); return !(filtered_data.isnil) ? (WebIO.setval({\\\"name\\\":\\\"hover\\\",\\\"scope\\\":\\\"253267748431847289\\\",\\\"id\\\":\\\"8749142777845155314\\\",\\\"type\\\":\\\"observable\\\"},filtered_data.out)) : undefined})); gd.on(\\\"plotly_unhover\\\",(function (){return WebIO.setval({\\\"name\\\":\\\"hover\\\",\\\"scope\\\":\\\"253267748431847289\\\",\\\"id\\\":\\\"8749142777845155314\\\",\\\"type\\\":\\\"observable\\\"},{})})); gd.on(\\\"plotly_selected\\\",(function (data){var filtered_data=WebIO.PlotlyCommands.filterEventData(gd,data,\\\"selected\\\"); return !(filtered_data.isnil) ? (WebIO.setval({\\\"name\\\":\\\"selected\\\",\\\"scope\\\":\\\"253267748431847289\\\",\\\"id\\\":\\\"7043127278976928841\\\",\\\"type\\\":\\\"observable\\\"},filtered_data.out)) : undefined})); gd.on(\\\"plotly_deselect\\\",(function (){return WebIO.setval({\\\"name\\\":\\\"selected\\\",\\\"scope\\\":\\\"253267748431847289\\\",\\\"id\\\":\\\"7043127278976928841\\\",\\\"type\\\":\\\"observable\\\"},{})})); gd.on(\\\"plotly_relayout\\\",(function (data){var filtered_data=WebIO.PlotlyCommands.filterEventData(gd,data,\\\"relayout\\\"); return !(filtered_data.isnil) ? (WebIO.setval({\\\"name\\\":\\\"relayout\\\",\\\"scope\\\":\\\"253267748431847289\\\",\\\"id\\\":\\\"17392846821068096152\\\",\\\"type\\\":\\\"observable\\\"},filtered_data.out)) : undefined})); return gd.on(\\\"plotly_click\\\",(function (data){var filtered_data=WebIO.PlotlyCommands.filterEventData(gd,data,\\\"click\\\"); return !(filtered_data.isnil) ? (WebIO.setval({\\\"name\\\":\\\"click\\\",\\\"scope\\\":\\\"253267748431847289\\\",\\\"id\\\":\\\"10734365442102287915\\\",\\\"type\\\":\\\"observable\\\"},filtered_data.out)) : undefined}))}));\\n    (WebIO.importBlock({\\\"data\\\":[{\\\"name\\\":\\\"Plotly\\\",\\\"type\\\":\\\"js\\\",\\\"url\\\":\\\"\\/assetserver\\/627f17ff06762af3874159c00b9b1e00e50688bc-plotly.min.js\\\"},{\\\"name\\\":null,\\\"type\\\":\\\"js\\\",\\\"url\\\":\\\"\\/assetserver\\/1a276a0acb11ad47020d3f379225d41bbd0aeef0-plotly_webio.bundle.js\\\"}],\\\"type\\\":\\\"async_block\\\"})).then((imports) => handler.apply(this, imports));\\n}\\n\"],\"observables\":{\"_toImage\":{\"sync\":false,\"id\":\"11417423174874292378\",\"value\":{}},\"hover\":{\"sync\":false,\"id\":\"8749142777845155314\",\"value\":{}},\"selected\":{\"sync\":false,\"id\":\"7043127278976928841\",\"value\":{}},\"__gd_contents\":{\"sync\":false,\"id\":\"1066803328180563930\",\"value\":{}},\"click\":{\"sync\":false,\"id\":\"10734365442102287915\",\"value\":{}},\"image\":{\"sync\":true,\"id\":\"8776988710842948595\",\"value\":\"\"},\"__get_gd_contents\":{\"sync\":false,\"id\":\"16495564443118476293\",\"value\":\"\"},\"_downloadImage\":{\"sync\":false,\"id\":\"12802838264950404976\",\"value\":{}},\"relayout\":{\"sync\":false,\"id\":\"17392846821068096152\",\"value\":{}},\"_commands\":{\"sync\":false,\"id\":\"16950065832577313867\",\"value\":[]}}},\"children\":[{\"props\":{\"id\":\"plot-56a2ab56-2ec5-4b74-bf92-7a95bba86d23\"},\"nodeType\":\"DOM\",\"type\":\"node\",\"instanceArgs\":{\"namespace\":\"html\",\"tag\":\"div\"},\"children\":[]}]},\n",
       "        window,\n",
       "    );\n",
       "    })()\n",
       "    </script>\n",
       "</div>\n"
      ],
      "text/plain": [
       "data: [\n",
       "  \"scatter with fields mode, name, type, x, and y\"\n",
       "]\n",
       "\n",
       "layout: \"layout with fields legend, margin, template, title, xaxis, and yaxis\"\n",
       "\n"
      ]
     },
     "execution_count": 322,
     "metadata": {},
     "output_type": "execute_result"
    }
   ],
   "source": [
    "plot(\n",
    "    [\n",
    "        # Velocity\n",
    "        scatter(\n",
    "            mode=\"markers+lines\",\n",
    "            x=time_axis_sec,\n",
    "            y=[v_inf * tanh(accel_ms2 * t / v_inf) for t in time_axis_sec],\n",
    "            name=\"Velocity\"\n",
    "        ),\n",
    "    ],\n",
    "    Layout(\n",
    "        title=\"Velocity Model\",\n",
    "        xaxis_title=\"Time (second)\",\n",
    "        yaxis_title=\"Velocity (meter / second)\",\n",
    "        legend_title=\"Legend Title\",\n",
    "    ),\n",
    "    config=PlotConfig(scrollZoom=true)\n",
    ")"
   ]
  },
  {
   "cell_type": "markdown",
   "id": "941393cc",
   "metadata": {},
   "source": [
    "We want to model the position and velocity of an object falling, but we CANNOT use the following equations\n",
    "$$\n",
    "\\begin{align}\n",
    "h &= h_{0} + v_0 t + \\frac{1}{2} a t^{2} \\\\\n",
    "v &= v_{0} + g t\n",
    "\\end{align}\n",
    "$$"
   ]
  },
  {
   "cell_type": "markdown",
   "id": "54f8ad1a",
   "metadata": {},
   "source": [
    "since the acceleration is NOT constant in time"
   ]
  },
  {
   "cell_type": "markdown",
   "id": "72ae2c85",
   "metadata": {},
   "source": [
    "$$\n",
    "\\begin{align}\n",
    "a &= \\frac{dv}{dt} = g \\ \\text{sech}^2\\left(\\frac{g t}{v_{\\infty}}\\right)\n",
    "\\end{align}\n",
    "$$"
   ]
  },
  {
   "cell_type": "markdown",
   "id": "44359b98",
   "metadata": {},
   "source": [
    "Let's consider the following model instead"
   ]
  },
  {
   "cell_type": "markdown",
   "id": "97603b68",
   "metadata": {},
   "source": [
    "$$\n",
    "\\begin{align}\n",
    "h \\rightarrow h + \\delta h &= \\sum\\limits_{n=0}^{\\infty}\\left.\\left(\\frac{d}{dt}\\right)^{n} h\\right|_{t=T}\\frac{\\left(\\Delta t\\right)^n}{n!} \\\\\n",
    "     &= h(T) + v(T) \\Delta t + \\frac{1}{2} a(T) \\left(\\Delta t\\right)^2 + \\frac{1}{3!} j(T) \\left(\\Delta t\\right)^3 + \\frac{1}{4!} s(T) \\left(\\Delta t\\right)^4 + \\mathcal{O}(t^5)\n",
    "\\end{align}\n",
    "$$"
   ]
  },
  {
   "cell_type": "markdown",
   "id": "84a22547",
   "metadata": {},
   "source": [
    "The terms in the sum above are given by"
   ]
  },
  {
   "cell_type": "markdown",
   "id": "c66a77a1",
   "metadata": {},
   "source": [
    "$$\n",
    "\\begin{align}\n",
    "v(t) &= v_{\\infty} \\tanh\\left(\\frac{g t}{v_{\\infty}}\\right) & \\text{Velocity}\\\\\n",
    "a(t) &= \\frac{dv}{dt}     = g \\ \\text{sech}^2\\left(\\frac{g t}{v_{\\infty}}\\right) & \\text{Acceleration}\\\\\n",
    "j(t) &= \\frac{d^2v}{dt^2} = -\\frac{2 g^2}{v_{\\infty}} \\tanh \\left(\\frac{g t}{v_{\\infty}}\\right) \\text{sech}^2\\left(\\frac{g t}{v_{\\infty}}\\right) & \\text{Jerk} \\\\\n",
    "s(t) &= \\frac{d^3v}{dt^3} = \\frac{2 g^3}{v_{\\infty}^2} \\left(\\cosh \\left(\\frac{2 g t}{v_{\\infty}}\\right)-2\\right) \\text{sech}^4\\left(\\frac{g t}{v_{\\infty}}\\right) & \\text{Snap} \\\\\n",
    "\\vdots\n",
    "\\end{align}\n",
    "$$"
   ]
  },
  {
   "cell_type": "markdown",
   "id": "aa0b5049",
   "metadata": {},
   "source": [
    "and we must determine when to truncate the series. Let's plot each derivative."
   ]
  },
  {
   "cell_type": "code",
   "execution_count": 323,
   "id": "4f880b8c",
   "metadata": {},
   "outputs": [
    {
     "data": {
      "application/vnd.plotly.v1+json": {
       "config": {
        "editable": false,
        "responsive": true,
        "scrollZoom": true,
        "showLink": false,
        "staticPlot": false
       },
       "data": [
        {
         "mode": "markers+lines",
         "name": "Velocity",
         "type": "scatter",
         "x": [
          0,
          0.15,
          0.3,
          0.44999999999999996,
          0.6,
          0.75,
          0.8999999999999999,
          1.05,
          1.2,
          1.3499999999999999,
          1.5,
          1.65,
          1.7999999999999998,
          1.95,
          2.1,
          2.25,
          2.4,
          2.55,
          2.6999999999999997,
          2.85,
          3,
          3.15,
          3.3,
          3.4499999999999997,
          3.5999999999999996,
          3.75,
          3.9,
          4.05,
          4.2,
          4.35,
          4.5,
          4.6499999999999995,
          4.8,
          4.95,
          5.1,
          5.25,
          5.3999999999999995,
          5.55,
          5.7,
          5.85,
          6,
          6.1499999999999995,
          6.3,
          6.45,
          6.6,
          6.75,
          6.8999999999999995,
          7.05,
          7.199999999999999,
          7.35,
          7.5,
          7.6499999999999995,
          7.8,
          7.949999999999999,
          8.1,
          8.25,
          8.4,
          8.549999999999999,
          8.7,
          8.85,
          9,
          9.15,
          9.299999999999999,
          9.45,
          9.6,
          9.75,
          9.9,
          10.049999999999999,
          10.2,
          10.35,
          10.5,
          10.65,
          10.799999999999999,
          10.95,
          11.1,
          11.25,
          11.4,
          11.549999999999999,
          11.7,
          11.85,
          12,
          12.15,
          12.299999999999999,
          12.45,
          12.6,
          12.75,
          12.9,
          13.049999999999999,
          13.2,
          13.35,
          13.5,
          13.65,
          13.799999999999999,
          13.95,
          14.1,
          14.25,
          14.399999999999999,
          14.549999999999999,
          14.7,
          14.85
         ],
         "y": [
          0,
          -1.4696369934044147,
          -2.93709852658733,
          -4.400222001365922,
          -5.856870382376402,
          -7.304944578798362,
          -8.742395356033516,
          -10.16723463628391,
          -11.577546059717076,
          -12.971494693053733,
          -14.347335789499724,
          -15.703422522455,
          -17.03821263483159,
          -18.350273965559705,
          -19.638288834435137,
          -20.90105728537547,
          -22.137499205973473,
          -23.34665535759246,
          -24.52768736484199,
          -25.67987672588044,
          -26.80262291546983,
          -27.895440660987738,
          -28.957956477682536,
          -29.98990455340419,
          -30.991122074971138,
          -31.961544088403226,
          -32.90119798365641,
          -33.810197691450995,
          -34.688737675521686,
          -35.53708679836574,
          -36.35558213255502,
          -37.144622783125925,
          -37.9046637796703,
          -38.63621008970526,
          -39.339810797859954,
          -40.016053488522715,
          -40.66555886295581,
          -41.28897561560103,
          -41.88697558843546,
          -42.46024921684409,
          -43.00950127558594,
          -43.53544692905797,
          -44.03880808620917,
          -44.520310057115914,
          -44.98067850538016,
          -45.42063668813034,
          -45.84090297345663,
          -46.24218862356786,
          -46.62519583077545,
          -46.99061599255645,
          -47.33912821138381,
          -47.671398004701715,
          -47.988076210331954,
          -48.28979807269157,
          -48.57718249545122,
          -48.85083144664045,
          -49.1113295026847,
          -49.35924351841675,
          -49.595122410722695,
          -49.81949704414125,
          -50.03288020742079,
          -50.235766670737405,
          -50.428633313978935,
          -50.61193931719506,
          -50.78612640499483,
          -50.951619137334774,
          -51.10882523977744,
          -51.258135966910245,
          -51.399926493192694,
          -51.534556326047706,
          -51.662369736526415,
          -51.783696203356946,
          -51.89885086663515,
          -52.00813498783056,
          -52.111836413164276,
          -52.21023003776825,
          -52.30357826835899,
          -52.39213148245431,
          -52.476128482430816,
          -52.5557969429643,
          -52.631353850616115,
          -52.70300593452784,
          -52.77095008736578,
          -52.835373775817175,
          -52.896455440083116,
          -52.95436488194061,
          -53.009263641058915,
          -53.06130535935484,
          -53.11063613325919,
          -53.15739485384285,
          -53.20171353481754,
          -53.24371762848386,
          -53.28352632974826,
          -53.321252868373215,
          -53.35700478965965,
          -53.39088422379107,
          -53.42298814409283,
          -53.45340861447991,
          -53.48223302638248,
          -53.50954432545027
         ]
        },
        {
         "mode": "markers+lines",
         "name": "Acceleration",
         "type": "scatter",
         "x": [
          0,
          0.15,
          0.3,
          0.44999999999999996,
          0.6,
          0.75,
          0.8999999999999999,
          1.05,
          1.2,
          1.3499999999999999,
          1.5,
          1.65,
          1.7999999999999998,
          1.95,
          2.1,
          2.25,
          2.4,
          2.55,
          2.6999999999999997,
          2.85,
          3,
          3.15,
          3.3,
          3.4499999999999997,
          3.5999999999999996,
          3.75,
          3.9,
          4.05,
          4.2,
          4.35,
          4.5,
          4.6499999999999995,
          4.8,
          4.95,
          5.1,
          5.25,
          5.3999999999999995,
          5.55,
          5.7,
          5.85,
          6,
          6.1499999999999995,
          6.3,
          6.45,
          6.6,
          6.75,
          6.8999999999999995,
          7.05,
          7.199999999999999,
          7.35,
          7.5,
          7.6499999999999995,
          7.8,
          7.949999999999999,
          8.1,
          8.25,
          8.4,
          8.549999999999999,
          8.7,
          8.85,
          9,
          9.15,
          9.299999999999999,
          9.45,
          9.6,
          9.75,
          9.9,
          10.049999999999999,
          10.2,
          10.35,
          10.5,
          10.65,
          10.799999999999999,
          10.95,
          11.1,
          11.25,
          11.4,
          11.549999999999999,
          11.7,
          11.85,
          12,
          12.15,
          12.299999999999999,
          12.45,
          12.6,
          12.75,
          12.9,
          13.049999999999999,
          13.2,
          13.35,
          13.5,
          13.65,
          13.799999999999999,
          13.95,
          14.1,
          14.25,
          14.399999999999999,
          14.549999999999999,
          14.7,
          14.85
         ],
         "y": [
          -9.8,
          -9.792741302350704,
          -9.771008172840249,
          -9.734928962317978,
          -9.684715802255013,
          -9.620661965043455,
          -9.543138247496662,
          -9.45258845354504,
          -9.349524069583083,
          -9.23451824046474,
          -9.108199165392572,
          -8.971243040670878,
          -8.824366680404868,
          -8.668319946780258,
          -8.503878118731805,
          -8.331834321901182,
          -8.152992134181803,
          -7.968158470307008,
          -7.778136836357748,
          -7.583721031264445,
          -7.385689357867314,
          -7.184799391367373,
          -6.98178333849078,
          -6.777344006790646,
          -6.57215139054716,
          -6.366839867953893,
          -6.162005993880108,
          -5.958206863592943,
          -5.755959015463874,
          -5.555737834868694,
          -5.357977417170731,
          -5.16307084476439,
          -4.971370831533427,
          -4.783190687606567,
          -4.598805557821708,
          -4.418453888681808,
          -4.2423390806454275,
          -4.070631285192104,
          -3.903469309097172,
          -3.740962591613928,
          -3.583193223679232,
          -3.430217981733313,
          -3.2820703521917576,
          -3.1387625259598724,
          -3.000287345582026,
          -2.8666201906309032,
          -2.737720789734474,
          -2.613534950193154,
          -2.4939961984465118,
          -2.379027326705406,
          -2.268541842875317,
          -2.1624453224683635,
          -2.0606366625471355,
          -1.9630092388775726,
          -1.8694519684072548,
          -1.779850279946799,
          -1.6940869965334622,
          -1.6120431334150958,
          -1.5335986159263473,
          -1.4586329217538576,
          -1.3870256522183937,
          -1.3186570372536504,
          -1.2534083787468064,
          -1.1911624368364668,
          -1.1318037636500977,
          -1.0752189888144763,
          -1.02129706089743,
          -0.9699294487441267,
          -0.9210103064626193,
          -0.8744366055962551,
          -0.8301082377994201,
          -0.7879280911113388,
          -0.7478021027033894,
          -0.7096392907607778,
          -0.6733517679514883,
          -0.6388547387354455,
          -0.6060664825758997,
          -0.5749083249338671,
          -0.5453045977555054,
          -0.5171825910017356,
          -0.49047249661937947,
          -0.4651073462133764,
          -0.441022943550118,
          -0.41815779290225297,
          -0.39645302413510075,
          -0.37585231533363855,
          -0.35630181367645847,
          -0.33775005517858536,
          -0.32014788384819,
          -0.30344837073247155,
          -0.28760673326483943,
          -0.2725802552685591,
          -0.25832820792072403,
          -0.24481177193436623,
          -0.23199396117528368,
          -0.21983954789335763,
          -0.20831498971534623,
          -0.1973883585170641,
          -0.18702927126710733,
          -0.17720882291159068
         ]
        },
        {
         "mode": "markers+lines",
         "name": "Jerk",
         "type": "scatter",
         "x": [
          0,
          0.15,
          0.3,
          0.44999999999999996,
          0.6,
          0.75,
          0.8999999999999999,
          1.05,
          1.2,
          1.3499999999999999,
          1.5,
          1.65,
          1.7999999999999998,
          1.95,
          2.1,
          2.25,
          2.4,
          2.55,
          2.6999999999999997,
          2.85,
          3,
          3.15,
          3.3,
          3.4499999999999997,
          3.5999999999999996,
          3.75,
          3.9,
          4.05,
          4.2,
          4.35,
          4.5,
          4.6499999999999995,
          4.8,
          4.95,
          5.1,
          5.25,
          5.3999999999999995,
          5.55,
          5.7,
          5.85,
          6,
          6.1499999999999995,
          6.3,
          6.45,
          6.6,
          6.75,
          6.8999999999999995,
          7.05,
          7.199999999999999,
          7.35,
          7.5,
          7.6499999999999995,
          7.8,
          7.949999999999999,
          8.1,
          8.25,
          8.4,
          8.549999999999999,
          8.7,
          8.85,
          9,
          9.15,
          9.299999999999999,
          9.45,
          9.6,
          9.75,
          9.9,
          10.049999999999999,
          10.2,
          10.35,
          10.5,
          10.65,
          10.799999999999999,
          10.95,
          11.1,
          11.25,
          11.4,
          11.549999999999999,
          11.7,
          11.85,
          12,
          12.15,
          12.299999999999999,
          12.45,
          12.6,
          12.75,
          12.9,
          13.049999999999999,
          13.2,
          13.35,
          13.5,
          13.65,
          13.799999999999999,
          13.95,
          14.1,
          14.25,
          14.399999999999999,
          14.549999999999999,
          14.7,
          14.85
         ],
         "y": [
          0,
          -0.0026326869730203817,
          -0.010491828893463473,
          -0.023461552938475343,
          -0.0413516552463402,
          -0.06390187451081818,
          -0.09078767461605913,
          -0.12162734713512507,
          -0.1559902057111407,
          -0.1934056156695735,
          -0.2333725846070102,
          -0.2753696334736646,
          -0.3188646725084469,
          -0.36332462143326005,
          -0.4082245372343004,
          -0.4530560439637435,
          -0.4973348953685678,
          -0.5406075407808655,
          -0.582456605600023,
          -0.6225052380129221,
          -0.6604203117105621,
          -0.6959145089336033,
          -0.728747338206748,
          -0.75872516593212,
          -0.7857003602626371,
          -0.8095696593252222,
          -0.8302718841263222,
          -0.8477851197720295,
          -0.8621234875498563,
          -0.8733336256267306,
          -0.881490988346727,
          -0.8866960640975906,
          -0.8890706001631937,
          -0.888753910538451,
          -0.8858993299259599,
          -0.8806708645434937,
          -0.8732400783390262,
          -0.8637832420332558,
          -0.8524787622995827,
          -0.8395048994800631,
          -0.8250377745865077,
          -0.8092496599548116,
          -0.792307542768263,
          -0.774371946668028,
          -0.7555959937275636,
          -0.7361246870685223,
          -0.7160943932167961,
          -0.6956325028152512,
          -0.6748572484040803,
          -0.6538776585371078,
          -0.6327936284185915,
          -0.6116960884268391,
          -0.5906672532566123,
          -0.5697809358919077,
          -0.5491029121559016,
          -0.5286913231278494,
          -0.508597104229784,
          -0.4888644312398956,
          -0.4695311748632221,
          -0.4506293567690226,
          -0.43218560117882965,
          -0.41422157715508146,
          -0.3967544276965187,
          -0.37979718259508105,
          -0.363359152754016,
          -0.3474463043138757,
          -0.332061611488781,
          -0.3172053874870873,
          -0.3028755932860482,
          -0.28906812435691115,
          -0.27577707570266147,
          -0.26299498578254676,
          -0.2507130600624298,
          -0.23892137505422825,
          -0.22760906379708118,
          -0.2167644837926901,
          -0.20637536844229235,
          -0.19642896304717158,
          -0.1869121464322467,
          -0.17781153923636075,
          -0.16911359988629154,
          -0.16080470923664592,
          -0.152871244816798,
          -0.14529964558063688,
          -0.13807646800659706,
          -0.13118843434548152,
          -0.12462247376296887,
          -0.11836575707322221,
          -0.1124057257103625,
          -0.10673011553622332,
          -0.10132697603615386,
          -0.09618468540998544,
          -0.09129196202279863,
          -0.08663787263996833,
          -0.0822118378331845,
          -0.07800363490877589,
          -0.07400339867667735,
          -0.07020162034774695,
          -0.06658914481877581,
          -0.06315716657836583
         ]
        },
        {
         "mode": "markers+lines",
         "name": "Snap",
         "type": "scatter",
         "x": [
          0,
          0.15,
          0.3,
          0.44999999999999996,
          0.6,
          0.75,
          0.8999999999999999,
          1.05,
          1.2,
          1.3499999999999999,
          1.5,
          1.65,
          1.7999999999999998,
          1.95,
          2.1,
          2.25,
          2.4,
          2.55,
          2.6999999999999997,
          2.85,
          3,
          3.15,
          3.3,
          3.4499999999999997,
          3.5999999999999996,
          3.75,
          3.9,
          4.05,
          4.2,
          4.35,
          4.5,
          4.6499999999999995,
          4.8,
          4.95,
          5.1,
          5.25,
          5.3999999999999995,
          5.55,
          5.7,
          5.85,
          6,
          6.1499999999999995,
          6.3,
          6.45,
          6.6,
          6.75,
          6.8999999999999995,
          7.05,
          7.199999999999999,
          7.35,
          7.5,
          7.6499999999999995,
          7.8,
          7.949999999999999,
          8.1,
          8.25,
          8.4,
          8.549999999999999,
          8.7,
          8.85,
          9,
          9.15,
          9.299999999999999,
          9.45,
          9.6,
          9.75,
          9.9,
          10.049999999999999,
          10.2,
          10.35,
          10.5,
          10.65,
          10.799999999999999,
          10.95,
          11.1,
          11.25,
          11.4,
          11.549999999999999,
          11.7,
          11.85,
          12,
          12.15,
          12.299999999999999,
          12.45,
          12.6,
          12.75,
          12.9,
          13.049999999999999,
          13.2,
          13.35,
          13.5,
          13.65,
          13.799999999999999,
          13.95,
          14.1,
          14.25,
          14.399999999999999,
          14.549999999999999,
          14.7,
          14.85
         ],
         "y": [
          0.645536351165981,
          0.6436248612884623,
          0.6379144109354913,
          0.6284765410277483,
          0.6154287803251212,
          0.5989321448121304,
          0.5791877511518186,
          0.5564326522102905,
          0.5309350249309025,
          0.5029888574044763,
          0.47290829230676135,
          0.4410217877740989,
          0.40766625442309906,
          0.3731813190638232,
          0.3379038524461009,
          0.30216288105416317,
          0.2662749825948227,
          0.23054024253527722,
          0.1952388259523319,
          0.16062819609600804,
          0.1269409893647,
          0.09438353659494397,
          0.0631350032648412,
          0.0333471067868702,
          0.00514435773091081,
          -0.021375236388250753,
          -0.04613907130811298,
          -0.06909851913276449,
          -0.09022724319062118,
          -0.10951932123574024,
          -0.12698723964647107,
          -0.14265981601474298,
          -0.15658010133681252,
          -0.16880330627413415,
          -0.1793947889725857,
          -0.18842813498328154,
          -0.19598335314151707,
          -0.2021452050042173,
          -0.20700167974466144,
          -0.2106426213365381,
          -0.21315851046955864,
          -0.2146393999358449,
          -0.21517399919406774,
          -0.21484890142105234,
          -0.21374794454817714,
          -0.21195169649300485,
          -0.2095370539707777,
          -0.20657694383964054,
          -0.20314011583289154,
          -0.19929101569956723,
          -0.1950897281542747,
          -0.19059197957706675,
          -0.18584919105903425,
          -0.18090857312016068,
          -0.17581325419994634,
          -0.17060243581124573,
          -0.16531156803191271,
          -0.15997253977026285,
          -0.15461387896629586,
          -0.14926095857202307,
          -0.14393620478511687,
          -0.13865930458701173,
          -0.13344741015819842,
          -0.12831533821001442,
          -0.12327576268531037,
          -0.11833939964239519,
          -0.11351518345075806,
          -0.10881043369675165,
          -0.10423101242647126,
          -0.09978147154530294,
          -0.0954651903528919,
          -0.09128450332225835,
          -0.0872408183360242,
          -0.08333472567447277,
          -0.07956609811252545,
          -0.07593418252845349,
          -0.07243768345878071,
          -0.06907483905363253,
          -0.06584348989676178,
          -0.06274114115638989,
          -0.059765018528404004,
          -0.05691211842367412,
          -0.054179252837462916,
          -0.05156308932206939,
          -0.04906018646481596,
          -0.04666702525294964,
          -0.04438003668556764,
          -0.042195625970763005,
          -0.0401101936242151,
          -0.038120153763722575,
          -0.0362219498729381,
          -0.03441206828700551,
          -0.03268704963305297,
          -0.031043498439664148,
          -0.029478091111596428,
          -0.027987582449182605,
          -0.02656881087605255,
          -0.025218702524048474,
          -0.023934274310460395,
          -0.022712636129957223
         ]
        }
       ],
       "frames": [],
       "layout": {
        "legend": {
         "title": "Legend Title"
        },
        "margin": {
         "b": 50,
         "l": 50,
         "r": 50,
         "t": 60
        },
        "template": {
         "data": {
          "bar": [
           {
            "error_x": {
             "color": "#2a3f5f"
            },
            "error_y": {
             "color": "#2a3f5f"
            },
            "marker": {
             "line": {
              "color": "#E5ECF6",
              "width": 0.5
             }
            },
            "type": "bar"
           }
          ],
          "barpolar": [
           {
            "marker": {
             "line": {
              "color": "#E5ECF6",
              "width": 0.5
             }
            },
            "type": "barpolar"
           }
          ],
          "carpet": [
           {
            "aaxis": {
             "endlinecolor": "#2a3f5f",
             "gridcolor": "white",
             "linecolor": "white",
             "minorgridcolor": "white",
             "startlinecolor": "#2a3f5f"
            },
            "baxis": {
             "endlinecolor": "#2a3f5f",
             "gridcolor": "white",
             "linecolor": "white",
             "minorgridcolor": "white",
             "startlinecolor": "#2a3f5f"
            },
            "type": "carpet"
           }
          ],
          "choropleth": [
           {
            "colorbar": {
             "outlinewidth": 0,
             "ticks": ""
            },
            "type": "choropleth"
           }
          ],
          "contour": [
           {
            "colorbar": {
             "outlinewidth": 0,
             "ticks": ""
            },
            "colorscale": [
             [
              0,
              "#0d0887"
             ],
             [
              0.1111111111111111,
              "#46039f"
             ],
             [
              0.2222222222222222,
              "#7201a8"
             ],
             [
              0.3333333333333333,
              "#9c179e"
             ],
             [
              0.4444444444444444,
              "#bd3786"
             ],
             [
              0.5555555555555556,
              "#d8576b"
             ],
             [
              0.6666666666666666,
              "#ed7953"
             ],
             [
              0.7777777777777778,
              "#fb9f3a"
             ],
             [
              0.8888888888888888,
              "#fdca26"
             ],
             [
              1,
              "#f0f921"
             ]
            ],
            "type": "contour"
           }
          ],
          "contourcarpet": [
           {
            "colorbar": {
             "outlinewidth": 0,
             "ticks": ""
            },
            "type": "contourcarpet"
           }
          ],
          "heatmap": [
           {
            "colorbar": {
             "outlinewidth": 0,
             "ticks": ""
            },
            "colorscale": [
             [
              0,
              "#0d0887"
             ],
             [
              0.1111111111111111,
              "#46039f"
             ],
             [
              0.2222222222222222,
              "#7201a8"
             ],
             [
              0.3333333333333333,
              "#9c179e"
             ],
             [
              0.4444444444444444,
              "#bd3786"
             ],
             [
              0.5555555555555556,
              "#d8576b"
             ],
             [
              0.6666666666666666,
              "#ed7953"
             ],
             [
              0.7777777777777778,
              "#fb9f3a"
             ],
             [
              0.8888888888888888,
              "#fdca26"
             ],
             [
              1,
              "#f0f921"
             ]
            ],
            "type": "heatmap"
           }
          ],
          "heatmapgl": [
           {
            "colorbar": {
             "outlinewidth": 0,
             "ticks": ""
            },
            "colorscale": [
             [
              0,
              "#0d0887"
             ],
             [
              0.1111111111111111,
              "#46039f"
             ],
             [
              0.2222222222222222,
              "#7201a8"
             ],
             [
              0.3333333333333333,
              "#9c179e"
             ],
             [
              0.4444444444444444,
              "#bd3786"
             ],
             [
              0.5555555555555556,
              "#d8576b"
             ],
             [
              0.6666666666666666,
              "#ed7953"
             ],
             [
              0.7777777777777778,
              "#fb9f3a"
             ],
             [
              0.8888888888888888,
              "#fdca26"
             ],
             [
              1,
              "#f0f921"
             ]
            ],
            "type": "heatmapgl"
           }
          ],
          "histogram": [
           {
            "marker": {
             "colorbar": {
              "outlinewidth": 0,
              "ticks": ""
             }
            },
            "type": "histogram"
           }
          ],
          "histogram2d": [
           {
            "colorbar": {
             "outlinewidth": 0,
             "ticks": ""
            },
            "colorscale": [
             [
              0,
              "#0d0887"
             ],
             [
              0.1111111111111111,
              "#46039f"
             ],
             [
              0.2222222222222222,
              "#7201a8"
             ],
             [
              0.3333333333333333,
              "#9c179e"
             ],
             [
              0.4444444444444444,
              "#bd3786"
             ],
             [
              0.5555555555555556,
              "#d8576b"
             ],
             [
              0.6666666666666666,
              "#ed7953"
             ],
             [
              0.7777777777777778,
              "#fb9f3a"
             ],
             [
              0.8888888888888888,
              "#fdca26"
             ],
             [
              1,
              "#f0f921"
             ]
            ],
            "type": "histogram2d"
           }
          ],
          "histogram2dcontour": [
           {
            "colorbar": {
             "outlinewidth": 0,
             "ticks": ""
            },
            "colorscale": [
             [
              0,
              "#0d0887"
             ],
             [
              0.1111111111111111,
              "#46039f"
             ],
             [
              0.2222222222222222,
              "#7201a8"
             ],
             [
              0.3333333333333333,
              "#9c179e"
             ],
             [
              0.4444444444444444,
              "#bd3786"
             ],
             [
              0.5555555555555556,
              "#d8576b"
             ],
             [
              0.6666666666666666,
              "#ed7953"
             ],
             [
              0.7777777777777778,
              "#fb9f3a"
             ],
             [
              0.8888888888888888,
              "#fdca26"
             ],
             [
              1,
              "#f0f921"
             ]
            ],
            "type": "histogram2dcontour"
           }
          ],
          "mesh3d": [
           {
            "colorbar": {
             "outlinewidth": 0,
             "ticks": ""
            },
            "type": "mesh3d"
           }
          ],
          "parcoords": [
           {
            "line": {
             "colorbar": {
              "outlinewidth": 0,
              "ticks": ""
             }
            },
            "type": "parcoords"
           }
          ],
          "pie": [
           {
            "automargin": true,
            "type": "pie"
           }
          ],
          "scatter": [
           {
            "marker": {
             "colorbar": {
              "outlinewidth": 0,
              "ticks": ""
             }
            },
            "type": "scatter"
           }
          ],
          "scatter3d": [
           {
            "line": {
             "colorbar": {
              "outlinewidth": 0,
              "ticks": ""
             }
            },
            "marker": {
             "colorbar": {
              "outlinewidth": 0,
              "ticks": ""
             }
            },
            "type": "scatter3d"
           }
          ],
          "scattercarpet": [
           {
            "marker": {
             "colorbar": {
              "outlinewidth": 0,
              "ticks": ""
             }
            },
            "type": "scattercarpet"
           }
          ],
          "scattergeo": [
           {
            "marker": {
             "colorbar": {
              "outlinewidth": 0,
              "ticks": ""
             }
            },
            "type": "scattergeo"
           }
          ],
          "scattergl": [
           {
            "marker": {
             "colorbar": {
              "outlinewidth": 0,
              "ticks": ""
             }
            },
            "type": "scattergl"
           }
          ],
          "scattermapbox": [
           {
            "marker": {
             "colorbar": {
              "outlinewidth": 0,
              "ticks": ""
             }
            },
            "type": "scattermapbox"
           }
          ],
          "scatterpolar": [
           {
            "marker": {
             "colorbar": {
              "outlinewidth": 0,
              "ticks": ""
             }
            },
            "type": "scatterpolar"
           }
          ],
          "scatterpolargl": [
           {
            "marker": {
             "colorbar": {
              "outlinewidth": 0,
              "ticks": ""
             }
            },
            "type": "scatterpolargl"
           }
          ],
          "scatterternary": [
           {
            "marker": {
             "colorbar": {
              "outlinewidth": 0,
              "ticks": ""
             }
            },
            "type": "scatterternary"
           }
          ],
          "surface": [
           {
            "colorbar": {
             "outlinewidth": 0,
             "ticks": ""
            },
            "colorscale": [
             [
              0,
              "#0d0887"
             ],
             [
              0.1111111111111111,
              "#46039f"
             ],
             [
              0.2222222222222222,
              "#7201a8"
             ],
             [
              0.3333333333333333,
              "#9c179e"
             ],
             [
              0.4444444444444444,
              "#bd3786"
             ],
             [
              0.5555555555555556,
              "#d8576b"
             ],
             [
              0.6666666666666666,
              "#ed7953"
             ],
             [
              0.7777777777777778,
              "#fb9f3a"
             ],
             [
              0.8888888888888888,
              "#fdca26"
             ],
             [
              1,
              "#f0f921"
             ]
            ],
            "type": "surface"
           }
          ],
          "table": [
           {
            "cells": {
             "fill": {
              "color": "#EBF0F8"
             },
             "line": {
              "color": "white"
             }
            },
            "header": {
             "fill": {
              "color": "#C8D4E3"
             },
             "line": {
              "color": "white"
             }
            },
            "type": "table"
           }
          ]
         },
         "layout": {
          "annotationdefaults": {
           "arrowcolor": "#2a3f5f",
           "arrowhead": 0,
           "arrowwidth": 1
          },
          "autotypenumbers": "strict",
          "coloraxis": {
           "colorbar": {
            "outlinewidth": 0,
            "ticks": ""
           }
          },
          "colorscale": {
           "diverging": [
            [
             0,
             "#8e0152"
            ],
            [
             0.1,
             "#c51b7d"
            ],
            [
             0.2,
             "#de77ae"
            ],
            [
             0.3,
             "#f1b6da"
            ],
            [
             0.4,
             "#fde0ef"
            ],
            [
             0.5,
             "#f7f7f7"
            ],
            [
             0.6,
             "#e6f5d0"
            ],
            [
             0.7,
             "#b8e186"
            ],
            [
             0.8,
             "#7fbc41"
            ],
            [
             0.9,
             "#4d9221"
            ],
            [
             1,
             "#276419"
            ]
           ],
           "sequential": [
            [
             0,
             "#0d0887"
            ],
            [
             0.1111111111111111,
             "#46039f"
            ],
            [
             0.2222222222222222,
             "#7201a8"
            ],
            [
             0.3333333333333333,
             "#9c179e"
            ],
            [
             0.4444444444444444,
             "#bd3786"
            ],
            [
             0.5555555555555556,
             "#d8576b"
            ],
            [
             0.6666666666666666,
             "#ed7953"
            ],
            [
             0.7777777777777778,
             "#fb9f3a"
            ],
            [
             0.8888888888888888,
             "#fdca26"
            ],
            [
             1,
             "#f0f921"
            ]
           ],
           "sequentialminus": [
            [
             0,
             "#0d0887"
            ],
            [
             0.1111111111111111,
             "#46039f"
            ],
            [
             0.2222222222222222,
             "#7201a8"
            ],
            [
             0.3333333333333333,
             "#9c179e"
            ],
            [
             0.4444444444444444,
             "#bd3786"
            ],
            [
             0.5555555555555556,
             "#d8576b"
            ],
            [
             0.6666666666666666,
             "#ed7953"
            ],
            [
             0.7777777777777778,
             "#fb9f3a"
            ],
            [
             0.8888888888888888,
             "#fdca26"
            ],
            [
             1,
             "#f0f921"
            ]
           ]
          },
          "colorway": [
           "#636efa",
           "#EF553B",
           "#00cc96",
           "#ab63fa",
           "#FFA15A",
           "#19d3f3",
           "#FF6692",
           "#B6E880",
           "#FF97FF",
           "#FECB52"
          ],
          "font": {
           "color": "#2a3f5f"
          },
          "geo": {
           "bgcolor": "white",
           "lakecolor": "white",
           "landcolor": "#E5ECF6",
           "showlakes": true,
           "showland": true,
           "subunitcolor": "white"
          },
          "hoverlabel": {
           "align": "left"
          },
          "hovermode": "closest",
          "mapbox": {
           "style": "light"
          },
          "paper_bgcolor": "white",
          "plot_bgcolor": "#E5ECF6",
          "polar": {
           "angularaxis": {
            "gridcolor": "white",
            "linecolor": "white",
            "ticks": ""
           },
           "bgcolor": "#E5ECF6",
           "radialaxis": {
            "gridcolor": "white",
            "linecolor": "white",
            "ticks": ""
           }
          },
          "scene": {
           "xaxis": {
            "backgroundcolor": "#E5ECF6",
            "gridcolor": "white",
            "gridwidth": 2,
            "linecolor": "white",
            "showbackground": true,
            "ticks": "",
            "zerolinecolor": "white"
           },
           "yaxis": {
            "backgroundcolor": "#E5ECF6",
            "gridcolor": "white",
            "gridwidth": 2,
            "linecolor": "white",
            "showbackground": true,
            "ticks": "",
            "zerolinecolor": "white"
           },
           "zaxis": {
            "backgroundcolor": "#E5ECF6",
            "gridcolor": "white",
            "gridwidth": 2,
            "linecolor": "white",
            "showbackground": true,
            "ticks": "",
            "zerolinecolor": "white"
           }
          },
          "shapedefaults": {
           "line": {
            "color": "#2a3f5f"
           }
          },
          "ternary": {
           "aaxis": {
            "gridcolor": "white",
            "linecolor": "white",
            "ticks": ""
           },
           "baxis": {
            "gridcolor": "white",
            "linecolor": "white",
            "ticks": ""
           },
           "bgcolor": "#E5ECF6",
           "caxis": {
            "gridcolor": "white",
            "linecolor": "white",
            "ticks": ""
           }
          },
          "title": {
           "x": 0.05
          },
          "xaxis": {
           "automargin": true,
           "gridcolor": "white",
           "linecolor": "white",
           "ticks": "",
           "title": {
            "standoff": 15
           },
           "zerolinecolor": "white",
           "zerolinewidth": 2
          },
          "yaxis": {
           "automargin": true,
           "gridcolor": "white",
           "linecolor": "white",
           "ticks": "",
           "title": {
            "standoff": 15
           },
           "zerolinecolor": "white",
           "zerolinewidth": 2
          }
         }
        },
        "title": "Velocity Model",
        "xaxis": {
         "title": {
          "text": "Time (second)"
         }
        },
        "yaxis": {
         "title": {
          "text": "(d/dt)^n v per Unit Time"
         }
        }
       }
      },
      "text/html": [
       "<div\n",
       "    class=\"webio-mountpoint\"\n",
       "    data-webio-mountpoint=\"10953721065799801112\"\n",
       ">\n",
       "    <script>\n",
       "    (function(){\n",
       "    // Some integrations (namely, IJulia/Jupyter) use an alternate render pathway than\n",
       "    // just putting the html on the page. If WebIO isn't defined, then it's pretty likely\n",
       "    // that we're in one of those situations and the integration just isn't installed\n",
       "    // correctly.\n",
       "    if (typeof window.WebIO === \"undefined\") {\n",
       "        document\n",
       "            .querySelector('[data-webio-mountpoint=\"10953721065799801112\"]')\n",
       "            .innerHTML = (\n",
       "                '<div style=\"padding: 1em; background-color: #f8d6da; border: 1px solid #f5c6cb; font-weight: bold;\">' +\n",
       "                '<p><strong>WebIO not detected.</strong></p>' +\n",
       "                '<p>Please read ' +\n",
       "                '<a href=\"https://juliagizmos.github.io/WebIO.jl/latest/troubleshooting/not-detected/\" target=\"_blank\">the troubleshooting guide</a> ' +\n",
       "                'for more information on how to resolve this issue.</p>' +\n",
       "                '<p><a href=\"https://juliagizmos.github.io/WebIO.jl/latest/troubleshooting/not-detected/\" target=\"_blank\">https://juliagizmos.github.io/WebIO.jl/latest/troubleshooting/not-detected/</a></p>' +\n",
       "                '</div>'\n",
       "            );\n",
       "        return;\n",
       "    }\n",
       "    WebIO.mount(\n",
       "        document.querySelector('[data-webio-mountpoint=\"10953721065799801112\"]'),\n",
       "        {\"props\":{},\"nodeType\":\"Scope\",\"type\":\"node\",\"instanceArgs\":{\"imports\":{\"data\":[{\"name\":\"Plotly\",\"type\":\"js\",\"url\":\"\\/assetserver\\/627f17ff06762af3874159c00b9b1e00e50688bc-plotly.min.js\"},{\"name\":null,\"type\":\"js\",\"url\":\"\\/assetserver\\/1a276a0acb11ad47020d3f379225d41bbd0aeef0-plotly_webio.bundle.js\"}],\"type\":\"async_block\"},\"id\":\"3123590504419813610\",\"handlers\":{\"_toImage\":[\"(function (options){return this.Plotly.toImage(this.plotElem,options).then((function (data){return WebIO.setval({\\\"name\\\":\\\"image\\\",\\\"scope\\\":\\\"3123590504419813610\\\",\\\"id\\\":\\\"1820329173463151069\\\",\\\"type\\\":\\\"observable\\\"},data)}))})\"],\"__get_gd_contents\":[\"(function (prop){prop==\\\"data\\\" ? (WebIO.setval({\\\"name\\\":\\\"__gd_contents\\\",\\\"scope\\\":\\\"3123590504419813610\\\",\\\"id\\\":\\\"11524414974175011161\\\",\\\"type\\\":\\\"observable\\\"},this.plotElem.data)) : undefined; return prop==\\\"layout\\\" ? (WebIO.setval({\\\"name\\\":\\\"__gd_contents\\\",\\\"scope\\\":\\\"3123590504419813610\\\",\\\"id\\\":\\\"11524414974175011161\\\",\\\"type\\\":\\\"observable\\\"},this.plotElem.layout)) : undefined})\"],\"_downloadImage\":[\"(function (options){return this.Plotly.downloadImage(this.plotElem,options)})\"],\"_commands\":[\"(function (args){var fn=args.shift(); var elem=this.plotElem; var Plotly=this.Plotly; args.unshift(elem); return Plotly[fn].apply(this,args)})\"]},\"systemjs_options\":null,\"mount_callbacks\":[\"function () {\\n    var handler = ((function (Plotly,PlotlyWebIO){PlotlyWebIO.init(WebIO); var gd=this.dom.querySelector(\\\"#plot-5769056c-56d2-4670-8b00-9b3324c545ef\\\"); this.plotElem=gd; this.Plotly=Plotly; (window.Blink!==undefined) ? (gd.style.width=\\\"100%\\\", gd.style.height=\\\"100vh\\\", gd.style.marginLeft=\\\"0%\\\", gd.style.marginTop=\\\"0vh\\\") : undefined; window.onresize=(function (){return Plotly.Plots.resize(gd)}); Plotly.newPlot(gd,[{\\\"mode\\\":\\\"markers+lines\\\",\\\"y\\\":[-0.0,-1.4696369934044147,-2.93709852658733,-4.400222001365922,-5.856870382376402,-7.304944578798362,-8.742395356033516,-10.16723463628391,-11.577546059717076,-12.971494693053733,-14.347335789499724,-15.703422522455,-17.03821263483159,-18.350273965559705,-19.638288834435137,-20.90105728537547,-22.137499205973473,-23.34665535759246,-24.52768736484199,-25.67987672588044,-26.80262291546983,-27.895440660987738,-28.957956477682536,-29.98990455340419,-30.991122074971138,-31.961544088403226,-32.90119798365641,-33.810197691450995,-34.688737675521686,-35.53708679836574,-36.35558213255502,-37.144622783125925,-37.9046637796703,-38.63621008970526,-39.339810797859954,-40.016053488522715,-40.66555886295581,-41.28897561560103,-41.88697558843546,-42.46024921684409,-43.00950127558594,-43.53544692905797,-44.03880808620917,-44.520310057115914,-44.98067850538016,-45.42063668813034,-45.84090297345663,-46.24218862356786,-46.62519583077545,-46.99061599255645,-47.33912821138381,-47.671398004701715,-47.988076210331954,-48.28979807269157,-48.57718249545122,-48.85083144664045,-49.1113295026847,-49.35924351841675,-49.595122410722695,-49.81949704414125,-50.03288020742079,-50.235766670737405,-50.428633313978935,-50.61193931719506,-50.78612640499483,-50.951619137334774,-51.10882523977744,-51.258135966910245,-51.399926493192694,-51.534556326047706,-51.662369736526415,-51.783696203356946,-51.89885086663515,-52.00813498783056,-52.111836413164276,-52.21023003776825,-52.30357826835899,-52.39213148245431,-52.476128482430816,-52.5557969429643,-52.631353850616115,-52.70300593452784,-52.77095008736578,-52.835373775817175,-52.896455440083116,-52.95436488194061,-53.009263641058915,-53.06130535935484,-53.11063613325919,-53.15739485384285,-53.20171353481754,-53.24371762848386,-53.28352632974826,-53.321252868373215,-53.35700478965965,-53.39088422379107,-53.42298814409283,-53.45340861447991,-53.48223302638248,-53.50954432545027],\\\"type\\\":\\\"scatter\\\",\\\"name\\\":\\\"Velocity\\\",\\\"x\\\":[0.0,0.15,0.3,0.44999999999999996,0.6,0.75,0.8999999999999999,1.05,1.2,1.3499999999999999,1.5,1.65,1.7999999999999998,1.95,2.1,2.25,2.4,2.55,2.6999999999999997,2.85,3.0,3.15,3.3,3.4499999999999997,3.5999999999999996,3.75,3.9,4.05,4.2,4.35,4.5,4.6499999999999995,4.8,4.95,5.1,5.25,5.3999999999999995,5.55,5.7,5.85,6.0,6.1499999999999995,6.3,6.45,6.6,6.75,6.8999999999999995,7.05,7.199999999999999,7.35,7.5,7.6499999999999995,7.8,7.949999999999999,8.1,8.25,8.4,8.549999999999999,8.7,8.85,9.0,9.15,9.299999999999999,9.45,9.6,9.75,9.9,10.049999999999999,10.2,10.35,10.5,10.65,10.799999999999999,10.95,11.1,11.25,11.4,11.549999999999999,11.7,11.85,12.0,12.15,12.299999999999999,12.45,12.6,12.75,12.9,13.049999999999999,13.2,13.35,13.5,13.65,13.799999999999999,13.95,14.1,14.25,14.399999999999999,14.549999999999999,14.7,14.85]},{\\\"mode\\\":\\\"markers+lines\\\",\\\"y\\\":[-9.8,-9.792741302350704,-9.771008172840249,-9.734928962317978,-9.684715802255013,-9.620661965043455,-9.543138247496662,-9.45258845354504,-9.349524069583083,-9.23451824046474,-9.108199165392572,-8.971243040670878,-8.824366680404868,-8.668319946780258,-8.503878118731805,-8.331834321901182,-8.152992134181803,-7.968158470307008,-7.778136836357748,-7.583721031264445,-7.385689357867314,-7.184799391367373,-6.98178333849078,-6.777344006790646,-6.57215139054716,-6.366839867953893,-6.162005993880108,-5.958206863592943,-5.755959015463874,-5.555737834868694,-5.357977417170731,-5.16307084476439,-4.971370831533427,-4.783190687606567,-4.598805557821708,-4.418453888681808,-4.2423390806454275,-4.070631285192104,-3.903469309097172,-3.740962591613928,-3.583193223679232,-3.430217981733313,-3.2820703521917576,-3.1387625259598724,-3.000287345582026,-2.8666201906309032,-2.737720789734474,-2.613534950193154,-2.4939961984465118,-2.379027326705406,-2.268541842875317,-2.1624453224683635,-2.0606366625471355,-1.9630092388775726,-1.8694519684072548,-1.779850279946799,-1.6940869965334622,-1.6120431334150958,-1.5335986159263473,-1.4586329217538576,-1.3870256522183937,-1.3186570372536504,-1.2534083787468064,-1.1911624368364668,-1.1318037636500977,-1.0752189888144763,-1.02129706089743,-0.9699294487441267,-0.9210103064626193,-0.8744366055962551,-0.8301082377994201,-0.7879280911113388,-0.7478021027033894,-0.7096392907607778,-0.6733517679514883,-0.6388547387354455,-0.6060664825758997,-0.5749083249338671,-0.5453045977555054,-0.5171825910017356,-0.49047249661937947,-0.4651073462133764,-0.441022943550118,-0.41815779290225297,-0.39645302413510075,-0.37585231533363855,-0.35630181367645847,-0.33775005517858536,-0.32014788384819,-0.30344837073247155,-0.28760673326483943,-0.2725802552685591,-0.25832820792072403,-0.24481177193436623,-0.23199396117528368,-0.21983954789335763,-0.20831498971534623,-0.1973883585170641,-0.18702927126710733,-0.17720882291159068],\\\"type\\\":\\\"scatter\\\",\\\"name\\\":\\\"Acceleration\\\",\\\"x\\\":[0.0,0.15,0.3,0.44999999999999996,0.6,0.75,0.8999999999999999,1.05,1.2,1.3499999999999999,1.5,1.65,1.7999999999999998,1.95,2.1,2.25,2.4,2.55,2.6999999999999997,2.85,3.0,3.15,3.3,3.4499999999999997,3.5999999999999996,3.75,3.9,4.05,4.2,4.35,4.5,4.6499999999999995,4.8,4.95,5.1,5.25,5.3999999999999995,5.55,5.7,5.85,6.0,6.1499999999999995,6.3,6.45,6.6,6.75,6.8999999999999995,7.05,7.199999999999999,7.35,7.5,7.6499999999999995,7.8,7.949999999999999,8.1,8.25,8.4,8.549999999999999,8.7,8.85,9.0,9.15,9.299999999999999,9.45,9.6,9.75,9.9,10.049999999999999,10.2,10.35,10.5,10.65,10.799999999999999,10.95,11.1,11.25,11.4,11.549999999999999,11.7,11.85,12.0,12.15,12.299999999999999,12.45,12.6,12.75,12.9,13.049999999999999,13.2,13.35,13.5,13.65,13.799999999999999,13.95,14.1,14.25,14.399999999999999,14.549999999999999,14.7,14.85]},{\\\"mode\\\":\\\"markers+lines\\\",\\\"y\\\":[-0.0,-0.0026326869730203817,-0.010491828893463473,-0.023461552938475343,-0.0413516552463402,-0.06390187451081818,-0.09078767461605913,-0.12162734713512507,-0.1559902057111407,-0.1934056156695735,-0.2333725846070102,-0.2753696334736646,-0.3188646725084469,-0.36332462143326005,-0.4082245372343004,-0.4530560439637435,-0.4973348953685678,-0.5406075407808655,-0.582456605600023,-0.6225052380129221,-0.6604203117105621,-0.6959145089336033,-0.728747338206748,-0.75872516593212,-0.7857003602626371,-0.8095696593252222,-0.8302718841263222,-0.8477851197720295,-0.8621234875498563,-0.8733336256267306,-0.881490988346727,-0.8866960640975906,-0.8890706001631937,-0.888753910538451,-0.8858993299259599,-0.8806708645434937,-0.8732400783390262,-0.8637832420332558,-0.8524787622995827,-0.8395048994800631,-0.8250377745865077,-0.8092496599548116,-0.792307542768263,-0.774371946668028,-0.7555959937275636,-0.7361246870685223,-0.7160943932167961,-0.6956325028152512,-0.6748572484040803,-0.6538776585371078,-0.6327936284185915,-0.6116960884268391,-0.5906672532566123,-0.5697809358919077,-0.5491029121559016,-0.5286913231278494,-0.508597104229784,-0.4888644312398956,-0.4695311748632221,-0.4506293567690226,-0.43218560117882965,-0.41422157715508146,-0.3967544276965187,-0.37979718259508105,-0.363359152754016,-0.3474463043138757,-0.332061611488781,-0.3172053874870873,-0.3028755932860482,-0.28906812435691115,-0.27577707570266147,-0.26299498578254676,-0.2507130600624298,-0.23892137505422825,-0.22760906379708118,-0.2167644837926901,-0.20637536844229235,-0.19642896304717158,-0.1869121464322467,-0.17781153923636075,-0.16911359988629154,-0.16080470923664592,-0.152871244816798,-0.14529964558063688,-0.13807646800659706,-0.13118843434548152,-0.12462247376296887,-0.11836575707322221,-0.1124057257103625,-0.10673011553622332,-0.10132697603615386,-0.09618468540998544,-0.09129196202279863,-0.08663787263996833,-0.0822118378331845,-0.07800363490877589,-0.07400339867667735,-0.07020162034774695,-0.06658914481877581,-0.06315716657836583],\\\"type\\\":\\\"scatter\\\",\\\"name\\\":\\\"Jerk\\\",\\\"x\\\":[0.0,0.15,0.3,0.44999999999999996,0.6,0.75,0.8999999999999999,1.05,1.2,1.3499999999999999,1.5,1.65,1.7999999999999998,1.95,2.1,2.25,2.4,2.55,2.6999999999999997,2.85,3.0,3.15,3.3,3.4499999999999997,3.5999999999999996,3.75,3.9,4.05,4.2,4.35,4.5,4.6499999999999995,4.8,4.95,5.1,5.25,5.3999999999999995,5.55,5.7,5.85,6.0,6.1499999999999995,6.3,6.45,6.6,6.75,6.8999999999999995,7.05,7.199999999999999,7.35,7.5,7.6499999999999995,7.8,7.949999999999999,8.1,8.25,8.4,8.549999999999999,8.7,8.85,9.0,9.15,9.299999999999999,9.45,9.6,9.75,9.9,10.049999999999999,10.2,10.35,10.5,10.65,10.799999999999999,10.95,11.1,11.25,11.4,11.549999999999999,11.7,11.85,12.0,12.15,12.299999999999999,12.45,12.6,12.75,12.9,13.049999999999999,13.2,13.35,13.5,13.65,13.799999999999999,13.95,14.1,14.25,14.399999999999999,14.549999999999999,14.7,14.85]},{\\\"mode\\\":\\\"markers+lines\\\",\\\"y\\\":[0.645536351165981,0.6436248612884623,0.6379144109354913,0.6284765410277483,0.6154287803251212,0.5989321448121304,0.5791877511518186,0.5564326522102905,0.5309350249309025,0.5029888574044763,0.47290829230676135,0.4410217877740989,0.40766625442309906,0.3731813190638232,0.3379038524461009,0.30216288105416317,0.2662749825948227,0.23054024253527722,0.1952388259523319,0.16062819609600804,0.1269409893647,0.09438353659494397,0.0631350032648412,0.0333471067868702,0.00514435773091081,-0.021375236388250753,-0.04613907130811298,-0.06909851913276449,-0.09022724319062118,-0.10951932123574024,-0.12698723964647107,-0.14265981601474298,-0.15658010133681252,-0.16880330627413415,-0.1793947889725857,-0.18842813498328154,-0.19598335314151707,-0.2021452050042173,-0.20700167974466144,-0.2106426213365381,-0.21315851046955864,-0.2146393999358449,-0.21517399919406774,-0.21484890142105234,-0.21374794454817714,-0.21195169649300485,-0.2095370539707777,-0.20657694383964054,-0.20314011583289154,-0.19929101569956723,-0.1950897281542747,-0.19059197957706675,-0.18584919105903425,-0.18090857312016068,-0.17581325419994634,-0.17060243581124573,-0.16531156803191271,-0.15997253977026285,-0.15461387896629586,-0.14926095857202307,-0.14393620478511687,-0.13865930458701173,-0.13344741015819842,-0.12831533821001442,-0.12327576268531037,-0.11833939964239519,-0.11351518345075806,-0.10881043369675165,-0.10423101242647126,-0.09978147154530294,-0.0954651903528919,-0.09128450332225835,-0.0872408183360242,-0.08333472567447277,-0.07956609811252545,-0.07593418252845349,-0.07243768345878071,-0.06907483905363253,-0.06584348989676178,-0.06274114115638989,-0.059765018528404004,-0.05691211842367412,-0.054179252837462916,-0.05156308932206939,-0.04906018646481596,-0.04666702525294964,-0.04438003668556764,-0.042195625970763005,-0.0401101936242151,-0.038120153763722575,-0.0362219498729381,-0.03441206828700551,-0.03268704963305297,-0.031043498439664148,-0.029478091111596428,-0.027987582449182605,-0.02656881087605255,-0.025218702524048474,-0.023934274310460395,-0.022712636129957223],\\\"type\\\":\\\"scatter\\\",\\\"name\\\":\\\"Snap\\\",\\\"x\\\":[0.0,0.15,0.3,0.44999999999999996,0.6,0.75,0.8999999999999999,1.05,1.2,1.3499999999999999,1.5,1.65,1.7999999999999998,1.95,2.1,2.25,2.4,2.55,2.6999999999999997,2.85,3.0,3.15,3.3,3.4499999999999997,3.5999999999999996,3.75,3.9,4.05,4.2,4.35,4.5,4.6499999999999995,4.8,4.95,5.1,5.25,5.3999999999999995,5.55,5.7,5.85,6.0,6.1499999999999995,6.3,6.45,6.6,6.75,6.8999999999999995,7.05,7.199999999999999,7.35,7.5,7.6499999999999995,7.8,7.949999999999999,8.1,8.25,8.4,8.549999999999999,8.7,8.85,9.0,9.15,9.299999999999999,9.45,9.6,9.75,9.9,10.049999999999999,10.2,10.35,10.5,10.65,10.799999999999999,10.95,11.1,11.25,11.4,11.549999999999999,11.7,11.85,12.0,12.15,12.299999999999999,12.45,12.6,12.75,12.9,13.049999999999999,13.2,13.35,13.5,13.65,13.799999999999999,13.95,14.1,14.25,14.399999999999999,14.549999999999999,14.7,14.85]}],{\\\"xaxis\\\":{\\\"title\\\":{\\\"text\\\":\\\"Time (second)\\\"}},\\\"template\\\":{\\\"layout\\\":{\\\"coloraxis\\\":{\\\"colorbar\\\":{\\\"ticks\\\":\\\"\\\",\\\"outlinewidth\\\":0}},\\\"xaxis\\\":{\\\"gridcolor\\\":\\\"white\\\",\\\"zerolinewidth\\\":2,\\\"title\\\":{\\\"standoff\\\":15},\\\"ticks\\\":\\\"\\\",\\\"zerolinecolor\\\":\\\"white\\\",\\\"automargin\\\":true,\\\"linecolor\\\":\\\"white\\\"},\\\"hovermode\\\":\\\"closest\\\",\\\"paper_bgcolor\\\":\\\"white\\\",\\\"geo\\\":{\\\"showlakes\\\":true,\\\"showland\\\":true,\\\"landcolor\\\":\\\"#E5ECF6\\\",\\\"bgcolor\\\":\\\"white\\\",\\\"subunitcolor\\\":\\\"white\\\",\\\"lakecolor\\\":\\\"white\\\"},\\\"colorscale\\\":{\\\"sequential\\\":[[0.0,\\\"#0d0887\\\"],[0.1111111111111111,\\\"#46039f\\\"],[0.2222222222222222,\\\"#7201a8\\\"],[0.3333333333333333,\\\"#9c179e\\\"],[0.4444444444444444,\\\"#bd3786\\\"],[0.5555555555555556,\\\"#d8576b\\\"],[0.6666666666666666,\\\"#ed7953\\\"],[0.7777777777777778,\\\"#fb9f3a\\\"],[0.8888888888888888,\\\"#fdca26\\\"],[1.0,\\\"#f0f921\\\"]],\\\"diverging\\\":[[0,\\\"#8e0152\\\"],[0.1,\\\"#c51b7d\\\"],[0.2,\\\"#de77ae\\\"],[0.3,\\\"#f1b6da\\\"],[0.4,\\\"#fde0ef\\\"],[0.5,\\\"#f7f7f7\\\"],[0.6,\\\"#e6f5d0\\\"],[0.7,\\\"#b8e186\\\"],[0.8,\\\"#7fbc41\\\"],[0.9,\\\"#4d9221\\\"],[1,\\\"#276419\\\"]],\\\"sequentialminus\\\":[[0.0,\\\"#0d0887\\\"],[0.1111111111111111,\\\"#46039f\\\"],[0.2222222222222222,\\\"#7201a8\\\"],[0.3333333333333333,\\\"#9c179e\\\"],[0.4444444444444444,\\\"#bd3786\\\"],[0.5555555555555556,\\\"#d8576b\\\"],[0.6666666666666666,\\\"#ed7953\\\"],[0.7777777777777778,\\\"#fb9f3a\\\"],[0.8888888888888888,\\\"#fdca26\\\"],[1.0,\\\"#f0f921\\\"]]},\\\"yaxis\\\":{\\\"gridcolor\\\":\\\"white\\\",\\\"zerolinewidth\\\":2,\\\"title\\\":{\\\"standoff\\\":15},\\\"ticks\\\":\\\"\\\",\\\"zerolinecolor\\\":\\\"white\\\",\\\"automargin\\\":true,\\\"linecolor\\\":\\\"white\\\"},\\\"shapedefaults\\\":{\\\"line\\\":{\\\"color\\\":\\\"#2a3f5f\\\"}},\\\"hoverlabel\\\":{\\\"align\\\":\\\"left\\\"},\\\"mapbox\\\":{\\\"style\\\":\\\"light\\\"},\\\"polar\\\":{\\\"angularaxis\\\":{\\\"gridcolor\\\":\\\"white\\\",\\\"ticks\\\":\\\"\\\",\\\"linecolor\\\":\\\"white\\\"},\\\"bgcolor\\\":\\\"#E5ECF6\\\",\\\"radialaxis\\\":{\\\"gridcolor\\\":\\\"white\\\",\\\"ticks\\\":\\\"\\\",\\\"linecolor\\\":\\\"white\\\"}},\\\"autotypenumbers\\\":\\\"strict\\\",\\\"font\\\":{\\\"color\\\":\\\"#2a3f5f\\\"},\\\"ternary\\\":{\\\"baxis\\\":{\\\"gridcolor\\\":\\\"white\\\",\\\"ticks\\\":\\\"\\\",\\\"linecolor\\\":\\\"white\\\"},\\\"bgcolor\\\":\\\"#E5ECF6\\\",\\\"caxis\\\":{\\\"gridcolor\\\":\\\"white\\\",\\\"ticks\\\":\\\"\\\",\\\"linecolor\\\":\\\"white\\\"},\\\"aaxis\\\":{\\\"gridcolor\\\":\\\"white\\\",\\\"ticks\\\":\\\"\\\",\\\"linecolor\\\":\\\"white\\\"}},\\\"annotationdefaults\\\":{\\\"arrowhead\\\":0,\\\"arrowwidth\\\":1,\\\"arrowcolor\\\":\\\"#2a3f5f\\\"},\\\"plot_bgcolor\\\":\\\"#E5ECF6\\\",\\\"title\\\":{\\\"x\\\":0.05},\\\"scene\\\":{\\\"xaxis\\\":{\\\"gridcolor\\\":\\\"white\\\",\\\"gridwidth\\\":2,\\\"backgroundcolor\\\":\\\"#E5ECF6\\\",\\\"ticks\\\":\\\"\\\",\\\"showbackground\\\":true,\\\"zerolinecolor\\\":\\\"white\\\",\\\"linecolor\\\":\\\"white\\\"},\\\"zaxis\\\":{\\\"gridcolor\\\":\\\"white\\\",\\\"gridwidth\\\":2,\\\"backgroundcolor\\\":\\\"#E5ECF6\\\",\\\"ticks\\\":\\\"\\\",\\\"showbackground\\\":true,\\\"zerolinecolor\\\":\\\"white\\\",\\\"linecolor\\\":\\\"white\\\"},\\\"yaxis\\\":{\\\"gridcolor\\\":\\\"white\\\",\\\"gridwidth\\\":2,\\\"backgroundcolor\\\":\\\"#E5ECF6\\\",\\\"ticks\\\":\\\"\\\",\\\"showbackground\\\":true,\\\"zerolinecolor\\\":\\\"white\\\",\\\"linecolor\\\":\\\"white\\\"}},\\\"colorway\\\":[\\\"#636efa\\\",\\\"#EF553B\\\",\\\"#00cc96\\\",\\\"#ab63fa\\\",\\\"#FFA15A\\\",\\\"#19d3f3\\\",\\\"#FF6692\\\",\\\"#B6E880\\\",\\\"#FF97FF\\\",\\\"#FECB52\\\"]},\\\"data\\\":{\\\"barpolar\\\":[{\\\"type\\\":\\\"barpolar\\\",\\\"marker\\\":{\\\"line\\\":{\\\"color\\\":\\\"#E5ECF6\\\",\\\"width\\\":0.5}}}],\\\"carpet\\\":[{\\\"aaxis\\\":{\\\"gridcolor\\\":\\\"white\\\",\\\"endlinecolor\\\":\\\"#2a3f5f\\\",\\\"minorgridcolor\\\":\\\"white\\\",\\\"startlinecolor\\\":\\\"#2a3f5f\\\",\\\"linecolor\\\":\\\"white\\\"},\\\"type\\\":\\\"carpet\\\",\\\"baxis\\\":{\\\"gridcolor\\\":\\\"white\\\",\\\"endlinecolor\\\":\\\"#2a3f5f\\\",\\\"minorgridcolor\\\":\\\"white\\\",\\\"startlinecolor\\\":\\\"#2a3f5f\\\",\\\"linecolor\\\":\\\"white\\\"}}],\\\"scatterpolar\\\":[{\\\"type\\\":\\\"scatterpolar\\\",\\\"marker\\\":{\\\"colorbar\\\":{\\\"ticks\\\":\\\"\\\",\\\"outlinewidth\\\":0}}}],\\\"parcoords\\\":[{\\\"line\\\":{\\\"colorbar\\\":{\\\"ticks\\\":\\\"\\\",\\\"outlinewidth\\\":0}},\\\"type\\\":\\\"parcoords\\\"}],\\\"scatter\\\":[{\\\"type\\\":\\\"scatter\\\",\\\"marker\\\":{\\\"colorbar\\\":{\\\"ticks\\\":\\\"\\\",\\\"outlinewidth\\\":0}}}],\\\"histogram2dcontour\\\":[{\\\"colorbar\\\":{\\\"ticks\\\":\\\"\\\",\\\"outlinewidth\\\":0},\\\"type\\\":\\\"histogram2dcontour\\\",\\\"colorscale\\\":[[0.0,\\\"#0d0887\\\"],[0.1111111111111111,\\\"#46039f\\\"],[0.2222222222222222,\\\"#7201a8\\\"],[0.3333333333333333,\\\"#9c179e\\\"],[0.4444444444444444,\\\"#bd3786\\\"],[0.5555555555555556,\\\"#d8576b\\\"],[0.6666666666666666,\\\"#ed7953\\\"],[0.7777777777777778,\\\"#fb9f3a\\\"],[0.8888888888888888,\\\"#fdca26\\\"],[1.0,\\\"#f0f921\\\"]]}],\\\"contour\\\":[{\\\"colorbar\\\":{\\\"ticks\\\":\\\"\\\",\\\"outlinewidth\\\":0},\\\"type\\\":\\\"contour\\\",\\\"colorscale\\\":[[0.0,\\\"#0d0887\\\"],[0.1111111111111111,\\\"#46039f\\\"],[0.2222222222222222,\\\"#7201a8\\\"],[0.3333333333333333,\\\"#9c179e\\\"],[0.4444444444444444,\\\"#bd3786\\\"],[0.5555555555555556,\\\"#d8576b\\\"],[0.6666666666666666,\\\"#ed7953\\\"],[0.7777777777777778,\\\"#fb9f3a\\\"],[0.8888888888888888,\\\"#fdca26\\\"],[1.0,\\\"#f0f921\\\"]]}],\\\"scattercarpet\\\":[{\\\"type\\\":\\\"scattercarpet\\\",\\\"marker\\\":{\\\"colorbar\\\":{\\\"ticks\\\":\\\"\\\",\\\"outlinewidth\\\":0}}}],\\\"mesh3d\\\":[{\\\"colorbar\\\":{\\\"ticks\\\":\\\"\\\",\\\"outlinewidth\\\":0},\\\"type\\\":\\\"mesh3d\\\"}],\\\"surface\\\":[{\\\"colorbar\\\":{\\\"ticks\\\":\\\"\\\",\\\"outlinewidth\\\":0},\\\"type\\\":\\\"surface\\\",\\\"colorscale\\\":[[0.0,\\\"#0d0887\\\"],[0.1111111111111111,\\\"#46039f\\\"],[0.2222222222222222,\\\"#7201a8\\\"],[0.3333333333333333,\\\"#9c179e\\\"],[0.4444444444444444,\\\"#bd3786\\\"],[0.5555555555555556,\\\"#d8576b\\\"],[0.6666666666666666,\\\"#ed7953\\\"],[0.7777777777777778,\\\"#fb9f3a\\\"],[0.8888888888888888,\\\"#fdca26\\\"],[1.0,\\\"#f0f921\\\"]]}],\\\"scattermapbox\\\":[{\\\"type\\\":\\\"scattermapbox\\\",\\\"marker\\\":{\\\"colorbar\\\":{\\\"ticks\\\":\\\"\\\",\\\"outlinewidth\\\":0}}}],\\\"scattergeo\\\":[{\\\"type\\\":\\\"scattergeo\\\",\\\"marker\\\":{\\\"colorbar\\\":{\\\"ticks\\\":\\\"\\\",\\\"outlinewidth\\\":0}}}],\\\"histogram\\\":[{\\\"type\\\":\\\"histogram\\\",\\\"marker\\\":{\\\"colorbar\\\":{\\\"ticks\\\":\\\"\\\",\\\"outlinewidth\\\":0}}}],\\\"pie\\\":[{\\\"type\\\":\\\"pie\\\",\\\"automargin\\\":true}],\\\"choropleth\\\":[{\\\"colorbar\\\":{\\\"ticks\\\":\\\"\\\",\\\"outlinewidth\\\":0},\\\"type\\\":\\\"choropleth\\\"}],\\\"heatmapgl\\\":[{\\\"colorbar\\\":{\\\"ticks\\\":\\\"\\\",\\\"outlinewidth\\\":0},\\\"type\\\":\\\"heatmapgl\\\",\\\"colorscale\\\":[[0.0,\\\"#0d0887\\\"],[0.1111111111111111,\\\"#46039f\\\"],[0.2222222222222222,\\\"#7201a8\\\"],[0.3333333333333333,\\\"#9c179e\\\"],[0.4444444444444444,\\\"#bd3786\\\"],[0.5555555555555556,\\\"#d8576b\\\"],[0.6666666666666666,\\\"#ed7953\\\"],[0.7777777777777778,\\\"#fb9f3a\\\"],[0.8888888888888888,\\\"#fdca26\\\"],[1.0,\\\"#f0f921\\\"]]}],\\\"bar\\\":[{\\\"type\\\":\\\"bar\\\",\\\"error_y\\\":{\\\"color\\\":\\\"#2a3f5f\\\"},\\\"error_x\\\":{\\\"color\\\":\\\"#2a3f5f\\\"},\\\"marker\\\":{\\\"line\\\":{\\\"color\\\":\\\"#E5ECF6\\\",\\\"width\\\":0.5}}}],\\\"heatmap\\\":[{\\\"colorbar\\\":{\\\"ticks\\\":\\\"\\\",\\\"outlinewidth\\\":0},\\\"type\\\":\\\"heatmap\\\",\\\"colorscale\\\":[[0.0,\\\"#0d0887\\\"],[0.1111111111111111,\\\"#46039f\\\"],[0.2222222222222222,\\\"#7201a8\\\"],[0.3333333333333333,\\\"#9c179e\\\"],[0.4444444444444444,\\\"#bd3786\\\"],[0.5555555555555556,\\\"#d8576b\\\"],[0.6666666666666666,\\\"#ed7953\\\"],[0.7777777777777778,\\\"#fb9f3a\\\"],[0.8888888888888888,\\\"#fdca26\\\"],[1.0,\\\"#f0f921\\\"]]}],\\\"contourcarpet\\\":[{\\\"colorbar\\\":{\\\"ticks\\\":\\\"\\\",\\\"outlinewidth\\\":0},\\\"type\\\":\\\"contourcarpet\\\"}],\\\"table\\\":[{\\\"type\\\":\\\"table\\\",\\\"header\\\":{\\\"line\\\":{\\\"color\\\":\\\"white\\\"},\\\"fill\\\":{\\\"color\\\":\\\"#C8D4E3\\\"}},\\\"cells\\\":{\\\"line\\\":{\\\"color\\\":\\\"white\\\"},\\\"fill\\\":{\\\"color\\\":\\\"#EBF0F8\\\"}}}],\\\"scatter3d\\\":[{\\\"line\\\":{\\\"colorbar\\\":{\\\"ticks\\\":\\\"\\\",\\\"outlinewidth\\\":0}},\\\"type\\\":\\\"scatter3d\\\",\\\"marker\\\":{\\\"colorbar\\\":{\\\"ticks\\\":\\\"\\\",\\\"outlinewidth\\\":0}}}],\\\"scattergl\\\":[{\\\"type\\\":\\\"scattergl\\\",\\\"marker\\\":{\\\"colorbar\\\":{\\\"ticks\\\":\\\"\\\",\\\"outlinewidth\\\":0}}}],\\\"histogram2d\\\":[{\\\"colorbar\\\":{\\\"ticks\\\":\\\"\\\",\\\"outlinewidth\\\":0},\\\"type\\\":\\\"histogram2d\\\",\\\"colorscale\\\":[[0.0,\\\"#0d0887\\\"],[0.1111111111111111,\\\"#46039f\\\"],[0.2222222222222222,\\\"#7201a8\\\"],[0.3333333333333333,\\\"#9c179e\\\"],[0.4444444444444444,\\\"#bd3786\\\"],[0.5555555555555556,\\\"#d8576b\\\"],[0.6666666666666666,\\\"#ed7953\\\"],[0.7777777777777778,\\\"#fb9f3a\\\"],[0.8888888888888888,\\\"#fdca26\\\"],[1.0,\\\"#f0f921\\\"]]}],\\\"scatterternary\\\":[{\\\"type\\\":\\\"scatterternary\\\",\\\"marker\\\":{\\\"colorbar\\\":{\\\"ticks\\\":\\\"\\\",\\\"outlinewidth\\\":0}}}],\\\"scatterpolargl\\\":[{\\\"type\\\":\\\"scatterpolargl\\\",\\\"marker\\\":{\\\"colorbar\\\":{\\\"ticks\\\":\\\"\\\",\\\"outlinewidth\\\":0}}}]}},\\\"legend\\\":{\\\"title\\\":\\\"Legend Title\\\"},\\\"margin\\\":{\\\"l\\\":50,\\\"b\\\":50,\\\"r\\\":50,\\\"t\\\":60},\\\"title\\\":\\\"Velocity Model\\\",\\\"yaxis\\\":{\\\"title\\\":{\\\"text\\\":\\\"(d\\/dt)^n v per Unit Time\\\"}}},{\\\"showLink\\\":false,\\\"editable\\\":false,\\\"responsive\\\":true,\\\"staticPlot\\\":false,\\\"scrollZoom\\\":true}); gd.on(\\\"plotly_hover\\\",(function (data){var filtered_data=WebIO.PlotlyCommands.filterEventData(gd,data,\\\"hover\\\"); return !(filtered_data.isnil) ? (WebIO.setval({\\\"name\\\":\\\"hover\\\",\\\"scope\\\":\\\"3123590504419813610\\\",\\\"id\\\":\\\"11425253428476264596\\\",\\\"type\\\":\\\"observable\\\"},filtered_data.out)) : undefined})); gd.on(\\\"plotly_unhover\\\",(function (){return WebIO.setval({\\\"name\\\":\\\"hover\\\",\\\"scope\\\":\\\"3123590504419813610\\\",\\\"id\\\":\\\"11425253428476264596\\\",\\\"type\\\":\\\"observable\\\"},{})})); gd.on(\\\"plotly_selected\\\",(function (data){var filtered_data=WebIO.PlotlyCommands.filterEventData(gd,data,\\\"selected\\\"); return !(filtered_data.isnil) ? (WebIO.setval({\\\"name\\\":\\\"selected\\\",\\\"scope\\\":\\\"3123590504419813610\\\",\\\"id\\\":\\\"11130741656074559561\\\",\\\"type\\\":\\\"observable\\\"},filtered_data.out)) : undefined})); gd.on(\\\"plotly_deselect\\\",(function (){return WebIO.setval({\\\"name\\\":\\\"selected\\\",\\\"scope\\\":\\\"3123590504419813610\\\",\\\"id\\\":\\\"11130741656074559561\\\",\\\"type\\\":\\\"observable\\\"},{})})); gd.on(\\\"plotly_relayout\\\",(function (data){var filtered_data=WebIO.PlotlyCommands.filterEventData(gd,data,\\\"relayout\\\"); return !(filtered_data.isnil) ? (WebIO.setval({\\\"name\\\":\\\"relayout\\\",\\\"scope\\\":\\\"3123590504419813610\\\",\\\"id\\\":\\\"2996480818839433994\\\",\\\"type\\\":\\\"observable\\\"},filtered_data.out)) : undefined})); return gd.on(\\\"plotly_click\\\",(function (data){var filtered_data=WebIO.PlotlyCommands.filterEventData(gd,data,\\\"click\\\"); return !(filtered_data.isnil) ? (WebIO.setval({\\\"name\\\":\\\"click\\\",\\\"scope\\\":\\\"3123590504419813610\\\",\\\"id\\\":\\\"4911614384206907799\\\",\\\"type\\\":\\\"observable\\\"},filtered_data.out)) : undefined}))}));\\n    (WebIO.importBlock({\\\"data\\\":[{\\\"name\\\":\\\"Plotly\\\",\\\"type\\\":\\\"js\\\",\\\"url\\\":\\\"\\/assetserver\\/627f17ff06762af3874159c00b9b1e00e50688bc-plotly.min.js\\\"},{\\\"name\\\":null,\\\"type\\\":\\\"js\\\",\\\"url\\\":\\\"\\/assetserver\\/1a276a0acb11ad47020d3f379225d41bbd0aeef0-plotly_webio.bundle.js\\\"}],\\\"type\\\":\\\"async_block\\\"})).then((imports) => handler.apply(this, imports));\\n}\\n\"],\"observables\":{\"_toImage\":{\"sync\":false,\"id\":\"17623890742805019898\",\"value\":{}},\"hover\":{\"sync\":false,\"id\":\"11425253428476264596\",\"value\":{}},\"selected\":{\"sync\":false,\"id\":\"11130741656074559561\",\"value\":{}},\"__gd_contents\":{\"sync\":false,\"id\":\"11524414974175011161\",\"value\":{}},\"click\":{\"sync\":false,\"id\":\"4911614384206907799\",\"value\":{}},\"image\":{\"sync\":true,\"id\":\"1820329173463151069\",\"value\":\"\"},\"__get_gd_contents\":{\"sync\":false,\"id\":\"18374117351038844158\",\"value\":\"\"},\"_downloadImage\":{\"sync\":false,\"id\":\"9855472804094431366\",\"value\":{}},\"relayout\":{\"sync\":false,\"id\":\"2996480818839433994\",\"value\":{}},\"_commands\":{\"sync\":false,\"id\":\"13056970558639331619\",\"value\":[]}}},\"children\":[{\"props\":{\"id\":\"plot-5769056c-56d2-4670-8b00-9b3324c545ef\"},\"nodeType\":\"DOM\",\"type\":\"node\",\"instanceArgs\":{\"namespace\":\"html\",\"tag\":\"div\"},\"children\":[]}]},\n",
       "        window,\n",
       "    );\n",
       "    })()\n",
       "    </script>\n",
       "</div>\n"
      ],
      "text/plain": [
       "data: [\n",
       "  \"scatter with fields mode, name, type, x, and y\",\n",
       "  \"scatter with fields mode, name, type, x, and y\",\n",
       "  \"scatter with fields mode, name, type, x, and y\",\n",
       "  \"scatter with fields mode, name, type, x, and y\"\n",
       "]\n",
       "\n",
       "layout: \"layout with fields legend, margin, template, title, xaxis, and yaxis\"\n",
       "\n"
      ]
     },
     "execution_count": 323,
     "metadata": {},
     "output_type": "execute_result"
    }
   ],
   "source": [
    "plot(\n",
    "    [\n",
    "        # Velocity\n",
    "        scatter(\n",
    "            mode=\"markers+lines\",\n",
    "            x=time_axis_sec,\n",
    "            y=[v_inf * tanh(accel_ms2 * t / v_inf) for t in time_axis_sec],\n",
    "            name=\"Velocity\"\n",
    "        ),\n",
    "        # Acceleration\n",
    "        scatter(\n",
    "            mode=\"markers+lines\",\n",
    "            x=time_axis_sec,\n",
    "            y=[accel_ms2 * sech(accel_ms2 * t / v_inf)^2 for t in time_axis_sec],\n",
    "            name=\"Acceleration\"\n",
    "        ),\n",
    "        # Jerk\n",
    "        scatter(\n",
    "            mode=\"markers+lines\",\n",
    "            x=time_axis_sec,\n",
    "            y=[-2 * accel_ms2^2 / v_inf * tanh(accel_ms2 * t / v_inf)^2 * sech(accel_ms2 * t / v_inf)^2 for t in time_axis_sec],\n",
    "            name=\"Jerk\"\n",
    "        ),\n",
    "        # Snap\n",
    "        scatter(\n",
    "            mode=\"markers+lines\",\n",
    "            x=time_axis_sec,\n",
    "            y=[2 * accel_ms2^3 / v_inf^2 * (cosh(2 * accel_ms2 * t / v_inf) - 2) * sech(accel_ms2 * t / v_inf)^4 for t in time_axis_sec],\n",
    "            name=\"Snap\"\n",
    "        ),\n",
    "    ],\n",
    "    Layout(\n",
    "        title=\"Velocity Model\",\n",
    "        xaxis_title=\"Time (second)\",\n",
    "        yaxis_title=\"(d/dt)^n v per Unit Time\",\n",
    "        legend_title=\"Legend Title\",\n",
    "    ),\n",
    "    config=PlotConfig(scrollZoom=true)\n",
    ")"
   ]
  },
  {
   "cell_type": "markdown",
   "id": "abc23098",
   "metadata": {},
   "source": [
    "For this example, we will truncate the series up to the jerk term."
   ]
  },
  {
   "cell_type": "markdown",
   "id": "8268cc8c",
   "metadata": {},
   "source": [
    "What we need now is a mapping between temperature and altitude.\n",
    "I will use the data from https://www.engineeringtoolbox.com/air-altitude-temperature-d_461.html and linearize the temperature model. For the terminal velocity, I make-up a weak, linear relationship between temperature and terminal velocity."
   ]
  },
  {
   "cell_type": "code",
   "execution_count": 324,
   "id": "6bcd037e",
   "metadata": {},
   "outputs": [],
   "source": [
    "function get_velocity_infinity_ms(\n",
    "        temperature_K::Float64\n",
    "    )::Float64\n",
    "    \"\"\"Get the velocity as time goes to infinity.\n",
    "    v_inf between ~46 and ~54 meters / sec\n",
    "\n",
    "    :param temperature_K: Temperature in Kelvin\n",
    "    :return: Terminal velocity in meters / sec\n",
    "    \"\"\"\n",
    "    return -0.1481 * temperature_K + 94.44\n",
    "end\n",
    "\n",
    "function get_temperature_K(\n",
    "        altitude_m::Float64, \n",
    "        vary_slope_by::Float64=0.0, \n",
    "        vary_intercept_by::Float64=0.0\n",
    "    )::Float64\n",
    "    \"\"\"Get the temperature in Kelvin as a function of altitude\n",
    "\n",
    "    :param altitude_m: Altitude in meters\n",
    "    :param vary_slope_by: Positive definite constant to vary the slope of temperature changes\n",
    "    :param vary_intercept_by: Positive definite constant to vary the intercept of temperature changes\n",
    "    :returns: Float64\n",
    "    \"\"\"\n",
    "    slope = -0.006_835 # Kelvin / meter\n",
    "    intercept = 288.706 # Kelvin\n",
    "    if vary_slope_by > 0\n",
    "        slope *= vary_slope_by\n",
    "    end\n",
    "    if vary_intercept_by > 0\n",
    "        intercept *= vary_intercept_by\n",
    "    end\n",
    "    temerature = slope * altitude_m + intercept\n",
    "    return temerature\n",
    "end;"
   ]
  },
  {
   "cell_type": "code",
   "execution_count": 325,
   "id": "bf3229d5",
   "metadata": {},
   "outputs": [
    {
     "data": {
      "application/vnd.plotly.v1+json": {
       "config": {
        "editable": false,
        "responsive": true,
        "scrollZoom": true,
        "showLink": false,
        "staticPlot": false
       },
       "data": [
        {
         "mode": "markers+lines",
         "type": "scatter",
         "x": [
          273,
          274,
          275,
          276,
          277,
          278,
          279,
          280,
          281,
          282,
          283,
          284,
          285,
          286,
          287,
          288,
          289,
          290,
          291,
          292,
          293,
          294,
          295,
          296,
          297,
          298,
          299,
          300
         ],
         "y": [
          54.0087,
          53.8606,
          53.7125,
          53.56439999999999,
          53.41629999999999,
          53.26819999999999,
          53.120099999999994,
          52.971999999999994,
          52.823899999999995,
          52.675799999999995,
          52.527699999999996,
          52.379599999999996,
          52.2315,
          52.0834,
          51.9353,
          51.7872,
          51.63909999999999,
          51.49099999999999,
          51.34289999999999,
          51.194799999999994,
          51.046699999999994,
          50.898599999999995,
          50.750499999999995,
          50.602399999999996,
          50.454299999999996,
          50.3062,
          50.1581,
          50.01
         ]
        }
       ],
       "frames": [],
       "layout": {
        "legend": {
         "title": "Legend Title"
        },
        "margin": {
         "b": 50,
         "l": 50,
         "r": 50,
         "t": 60
        },
        "template": {
         "data": {
          "bar": [
           {
            "error_x": {
             "color": "#2a3f5f"
            },
            "error_y": {
             "color": "#2a3f5f"
            },
            "marker": {
             "line": {
              "color": "#E5ECF6",
              "width": 0.5
             }
            },
            "type": "bar"
           }
          ],
          "barpolar": [
           {
            "marker": {
             "line": {
              "color": "#E5ECF6",
              "width": 0.5
             }
            },
            "type": "barpolar"
           }
          ],
          "carpet": [
           {
            "aaxis": {
             "endlinecolor": "#2a3f5f",
             "gridcolor": "white",
             "linecolor": "white",
             "minorgridcolor": "white",
             "startlinecolor": "#2a3f5f"
            },
            "baxis": {
             "endlinecolor": "#2a3f5f",
             "gridcolor": "white",
             "linecolor": "white",
             "minorgridcolor": "white",
             "startlinecolor": "#2a3f5f"
            },
            "type": "carpet"
           }
          ],
          "choropleth": [
           {
            "colorbar": {
             "outlinewidth": 0,
             "ticks": ""
            },
            "type": "choropleth"
           }
          ],
          "contour": [
           {
            "colorbar": {
             "outlinewidth": 0,
             "ticks": ""
            },
            "colorscale": [
             [
              0,
              "#0d0887"
             ],
             [
              0.1111111111111111,
              "#46039f"
             ],
             [
              0.2222222222222222,
              "#7201a8"
             ],
             [
              0.3333333333333333,
              "#9c179e"
             ],
             [
              0.4444444444444444,
              "#bd3786"
             ],
             [
              0.5555555555555556,
              "#d8576b"
             ],
             [
              0.6666666666666666,
              "#ed7953"
             ],
             [
              0.7777777777777778,
              "#fb9f3a"
             ],
             [
              0.8888888888888888,
              "#fdca26"
             ],
             [
              1,
              "#f0f921"
             ]
            ],
            "type": "contour"
           }
          ],
          "contourcarpet": [
           {
            "colorbar": {
             "outlinewidth": 0,
             "ticks": ""
            },
            "type": "contourcarpet"
           }
          ],
          "heatmap": [
           {
            "colorbar": {
             "outlinewidth": 0,
             "ticks": ""
            },
            "colorscale": [
             [
              0,
              "#0d0887"
             ],
             [
              0.1111111111111111,
              "#46039f"
             ],
             [
              0.2222222222222222,
              "#7201a8"
             ],
             [
              0.3333333333333333,
              "#9c179e"
             ],
             [
              0.4444444444444444,
              "#bd3786"
             ],
             [
              0.5555555555555556,
              "#d8576b"
             ],
             [
              0.6666666666666666,
              "#ed7953"
             ],
             [
              0.7777777777777778,
              "#fb9f3a"
             ],
             [
              0.8888888888888888,
              "#fdca26"
             ],
             [
              1,
              "#f0f921"
             ]
            ],
            "type": "heatmap"
           }
          ],
          "heatmapgl": [
           {
            "colorbar": {
             "outlinewidth": 0,
             "ticks": ""
            },
            "colorscale": [
             [
              0,
              "#0d0887"
             ],
             [
              0.1111111111111111,
              "#46039f"
             ],
             [
              0.2222222222222222,
              "#7201a8"
             ],
             [
              0.3333333333333333,
              "#9c179e"
             ],
             [
              0.4444444444444444,
              "#bd3786"
             ],
             [
              0.5555555555555556,
              "#d8576b"
             ],
             [
              0.6666666666666666,
              "#ed7953"
             ],
             [
              0.7777777777777778,
              "#fb9f3a"
             ],
             [
              0.8888888888888888,
              "#fdca26"
             ],
             [
              1,
              "#f0f921"
             ]
            ],
            "type": "heatmapgl"
           }
          ],
          "histogram": [
           {
            "marker": {
             "colorbar": {
              "outlinewidth": 0,
              "ticks": ""
             }
            },
            "type": "histogram"
           }
          ],
          "histogram2d": [
           {
            "colorbar": {
             "outlinewidth": 0,
             "ticks": ""
            },
            "colorscale": [
             [
              0,
              "#0d0887"
             ],
             [
              0.1111111111111111,
              "#46039f"
             ],
             [
              0.2222222222222222,
              "#7201a8"
             ],
             [
              0.3333333333333333,
              "#9c179e"
             ],
             [
              0.4444444444444444,
              "#bd3786"
             ],
             [
              0.5555555555555556,
              "#d8576b"
             ],
             [
              0.6666666666666666,
              "#ed7953"
             ],
             [
              0.7777777777777778,
              "#fb9f3a"
             ],
             [
              0.8888888888888888,
              "#fdca26"
             ],
             [
              1,
              "#f0f921"
             ]
            ],
            "type": "histogram2d"
           }
          ],
          "histogram2dcontour": [
           {
            "colorbar": {
             "outlinewidth": 0,
             "ticks": ""
            },
            "colorscale": [
             [
              0,
              "#0d0887"
             ],
             [
              0.1111111111111111,
              "#46039f"
             ],
             [
              0.2222222222222222,
              "#7201a8"
             ],
             [
              0.3333333333333333,
              "#9c179e"
             ],
             [
              0.4444444444444444,
              "#bd3786"
             ],
             [
              0.5555555555555556,
              "#d8576b"
             ],
             [
              0.6666666666666666,
              "#ed7953"
             ],
             [
              0.7777777777777778,
              "#fb9f3a"
             ],
             [
              0.8888888888888888,
              "#fdca26"
             ],
             [
              1,
              "#f0f921"
             ]
            ],
            "type": "histogram2dcontour"
           }
          ],
          "mesh3d": [
           {
            "colorbar": {
             "outlinewidth": 0,
             "ticks": ""
            },
            "type": "mesh3d"
           }
          ],
          "parcoords": [
           {
            "line": {
             "colorbar": {
              "outlinewidth": 0,
              "ticks": ""
             }
            },
            "type": "parcoords"
           }
          ],
          "pie": [
           {
            "automargin": true,
            "type": "pie"
           }
          ],
          "scatter": [
           {
            "marker": {
             "colorbar": {
              "outlinewidth": 0,
              "ticks": ""
             }
            },
            "type": "scatter"
           }
          ],
          "scatter3d": [
           {
            "line": {
             "colorbar": {
              "outlinewidth": 0,
              "ticks": ""
             }
            },
            "marker": {
             "colorbar": {
              "outlinewidth": 0,
              "ticks": ""
             }
            },
            "type": "scatter3d"
           }
          ],
          "scattercarpet": [
           {
            "marker": {
             "colorbar": {
              "outlinewidth": 0,
              "ticks": ""
             }
            },
            "type": "scattercarpet"
           }
          ],
          "scattergeo": [
           {
            "marker": {
             "colorbar": {
              "outlinewidth": 0,
              "ticks": ""
             }
            },
            "type": "scattergeo"
           }
          ],
          "scattergl": [
           {
            "marker": {
             "colorbar": {
              "outlinewidth": 0,
              "ticks": ""
             }
            },
            "type": "scattergl"
           }
          ],
          "scattermapbox": [
           {
            "marker": {
             "colorbar": {
              "outlinewidth": 0,
              "ticks": ""
             }
            },
            "type": "scattermapbox"
           }
          ],
          "scatterpolar": [
           {
            "marker": {
             "colorbar": {
              "outlinewidth": 0,
              "ticks": ""
             }
            },
            "type": "scatterpolar"
           }
          ],
          "scatterpolargl": [
           {
            "marker": {
             "colorbar": {
              "outlinewidth": 0,
              "ticks": ""
             }
            },
            "type": "scatterpolargl"
           }
          ],
          "scatterternary": [
           {
            "marker": {
             "colorbar": {
              "outlinewidth": 0,
              "ticks": ""
             }
            },
            "type": "scatterternary"
           }
          ],
          "surface": [
           {
            "colorbar": {
             "outlinewidth": 0,
             "ticks": ""
            },
            "colorscale": [
             [
              0,
              "#0d0887"
             ],
             [
              0.1111111111111111,
              "#46039f"
             ],
             [
              0.2222222222222222,
              "#7201a8"
             ],
             [
              0.3333333333333333,
              "#9c179e"
             ],
             [
              0.4444444444444444,
              "#bd3786"
             ],
             [
              0.5555555555555556,
              "#d8576b"
             ],
             [
              0.6666666666666666,
              "#ed7953"
             ],
             [
              0.7777777777777778,
              "#fb9f3a"
             ],
             [
              0.8888888888888888,
              "#fdca26"
             ],
             [
              1,
              "#f0f921"
             ]
            ],
            "type": "surface"
           }
          ],
          "table": [
           {
            "cells": {
             "fill": {
              "color": "#EBF0F8"
             },
             "line": {
              "color": "white"
             }
            },
            "header": {
             "fill": {
              "color": "#C8D4E3"
             },
             "line": {
              "color": "white"
             }
            },
            "type": "table"
           }
          ]
         },
         "layout": {
          "annotationdefaults": {
           "arrowcolor": "#2a3f5f",
           "arrowhead": 0,
           "arrowwidth": 1
          },
          "autotypenumbers": "strict",
          "coloraxis": {
           "colorbar": {
            "outlinewidth": 0,
            "ticks": ""
           }
          },
          "colorscale": {
           "diverging": [
            [
             0,
             "#8e0152"
            ],
            [
             0.1,
             "#c51b7d"
            ],
            [
             0.2,
             "#de77ae"
            ],
            [
             0.3,
             "#f1b6da"
            ],
            [
             0.4,
             "#fde0ef"
            ],
            [
             0.5,
             "#f7f7f7"
            ],
            [
             0.6,
             "#e6f5d0"
            ],
            [
             0.7,
             "#b8e186"
            ],
            [
             0.8,
             "#7fbc41"
            ],
            [
             0.9,
             "#4d9221"
            ],
            [
             1,
             "#276419"
            ]
           ],
           "sequential": [
            [
             0,
             "#0d0887"
            ],
            [
             0.1111111111111111,
             "#46039f"
            ],
            [
             0.2222222222222222,
             "#7201a8"
            ],
            [
             0.3333333333333333,
             "#9c179e"
            ],
            [
             0.4444444444444444,
             "#bd3786"
            ],
            [
             0.5555555555555556,
             "#d8576b"
            ],
            [
             0.6666666666666666,
             "#ed7953"
            ],
            [
             0.7777777777777778,
             "#fb9f3a"
            ],
            [
             0.8888888888888888,
             "#fdca26"
            ],
            [
             1,
             "#f0f921"
            ]
           ],
           "sequentialminus": [
            [
             0,
             "#0d0887"
            ],
            [
             0.1111111111111111,
             "#46039f"
            ],
            [
             0.2222222222222222,
             "#7201a8"
            ],
            [
             0.3333333333333333,
             "#9c179e"
            ],
            [
             0.4444444444444444,
             "#bd3786"
            ],
            [
             0.5555555555555556,
             "#d8576b"
            ],
            [
             0.6666666666666666,
             "#ed7953"
            ],
            [
             0.7777777777777778,
             "#fb9f3a"
            ],
            [
             0.8888888888888888,
             "#fdca26"
            ],
            [
             1,
             "#f0f921"
            ]
           ]
          },
          "colorway": [
           "#636efa",
           "#EF553B",
           "#00cc96",
           "#ab63fa",
           "#FFA15A",
           "#19d3f3",
           "#FF6692",
           "#B6E880",
           "#FF97FF",
           "#FECB52"
          ],
          "font": {
           "color": "#2a3f5f"
          },
          "geo": {
           "bgcolor": "white",
           "lakecolor": "white",
           "landcolor": "#E5ECF6",
           "showlakes": true,
           "showland": true,
           "subunitcolor": "white"
          },
          "hoverlabel": {
           "align": "left"
          },
          "hovermode": "closest",
          "mapbox": {
           "style": "light"
          },
          "paper_bgcolor": "white",
          "plot_bgcolor": "#E5ECF6",
          "polar": {
           "angularaxis": {
            "gridcolor": "white",
            "linecolor": "white",
            "ticks": ""
           },
           "bgcolor": "#E5ECF6",
           "radialaxis": {
            "gridcolor": "white",
            "linecolor": "white",
            "ticks": ""
           }
          },
          "scene": {
           "xaxis": {
            "backgroundcolor": "#E5ECF6",
            "gridcolor": "white",
            "gridwidth": 2,
            "linecolor": "white",
            "showbackground": true,
            "ticks": "",
            "zerolinecolor": "white"
           },
           "yaxis": {
            "backgroundcolor": "#E5ECF6",
            "gridcolor": "white",
            "gridwidth": 2,
            "linecolor": "white",
            "showbackground": true,
            "ticks": "",
            "zerolinecolor": "white"
           },
           "zaxis": {
            "backgroundcolor": "#E5ECF6",
            "gridcolor": "white",
            "gridwidth": 2,
            "linecolor": "white",
            "showbackground": true,
            "ticks": "",
            "zerolinecolor": "white"
           }
          },
          "shapedefaults": {
           "line": {
            "color": "#2a3f5f"
           }
          },
          "ternary": {
           "aaxis": {
            "gridcolor": "white",
            "linecolor": "white",
            "ticks": ""
           },
           "baxis": {
            "gridcolor": "white",
            "linecolor": "white",
            "ticks": ""
           },
           "bgcolor": "#E5ECF6",
           "caxis": {
            "gridcolor": "white",
            "linecolor": "white",
            "ticks": ""
           }
          },
          "title": {
           "x": 0.05
          },
          "xaxis": {
           "automargin": true,
           "gridcolor": "white",
           "linecolor": "white",
           "ticks": "",
           "title": {
            "standoff": 15
           },
           "zerolinecolor": "white",
           "zerolinewidth": 2
          },
          "yaxis": {
           "automargin": true,
           "gridcolor": "white",
           "linecolor": "white",
           "ticks": "",
           "title": {
            "standoff": 15
           },
           "zerolinecolor": "white",
           "zerolinewidth": 2
          }
         }
        },
        "title": "Terminal Velocity Model",
        "xaxis": {
         "title": {
          "text": "Temperature (Kelvin)"
         }
        },
        "yaxis": {
         "title": {
          "text": "Velocity (meters / seconds)"
         }
        }
       }
      },
      "text/html": [
       "<div\n",
       "    class=\"webio-mountpoint\"\n",
       "    data-webio-mountpoint=\"7598724638978462385\"\n",
       ">\n",
       "    <script>\n",
       "    (function(){\n",
       "    // Some integrations (namely, IJulia/Jupyter) use an alternate render pathway than\n",
       "    // just putting the html on the page. If WebIO isn't defined, then it's pretty likely\n",
       "    // that we're in one of those situations and the integration just isn't installed\n",
       "    // correctly.\n",
       "    if (typeof window.WebIO === \"undefined\") {\n",
       "        document\n",
       "            .querySelector('[data-webio-mountpoint=\"7598724638978462385\"]')\n",
       "            .innerHTML = (\n",
       "                '<div style=\"padding: 1em; background-color: #f8d6da; border: 1px solid #f5c6cb; font-weight: bold;\">' +\n",
       "                '<p><strong>WebIO not detected.</strong></p>' +\n",
       "                '<p>Please read ' +\n",
       "                '<a href=\"https://juliagizmos.github.io/WebIO.jl/latest/troubleshooting/not-detected/\" target=\"_blank\">the troubleshooting guide</a> ' +\n",
       "                'for more information on how to resolve this issue.</p>' +\n",
       "                '<p><a href=\"https://juliagizmos.github.io/WebIO.jl/latest/troubleshooting/not-detected/\" target=\"_blank\">https://juliagizmos.github.io/WebIO.jl/latest/troubleshooting/not-detected/</a></p>' +\n",
       "                '</div>'\n",
       "            );\n",
       "        return;\n",
       "    }\n",
       "    WebIO.mount(\n",
       "        document.querySelector('[data-webio-mountpoint=\"7598724638978462385\"]'),\n",
       "        {\"props\":{},\"nodeType\":\"Scope\",\"type\":\"node\",\"instanceArgs\":{\"imports\":{\"data\":[{\"name\":\"Plotly\",\"type\":\"js\",\"url\":\"\\/assetserver\\/627f17ff06762af3874159c00b9b1e00e50688bc-plotly.min.js\"},{\"name\":null,\"type\":\"js\",\"url\":\"\\/assetserver\\/1a276a0acb11ad47020d3f379225d41bbd0aeef0-plotly_webio.bundle.js\"}],\"type\":\"async_block\"},\"id\":\"2420234569363787128\",\"handlers\":{\"_toImage\":[\"(function (options){return this.Plotly.toImage(this.plotElem,options).then((function (data){return WebIO.setval({\\\"name\\\":\\\"image\\\",\\\"scope\\\":\\\"2420234569363787128\\\",\\\"id\\\":\\\"16566923832193271050\\\",\\\"type\\\":\\\"observable\\\"},data)}))})\"],\"__get_gd_contents\":[\"(function (prop){prop==\\\"data\\\" ? (WebIO.setval({\\\"name\\\":\\\"__gd_contents\\\",\\\"scope\\\":\\\"2420234569363787128\\\",\\\"id\\\":\\\"9658687472033814843\\\",\\\"type\\\":\\\"observable\\\"},this.plotElem.data)) : undefined; return prop==\\\"layout\\\" ? (WebIO.setval({\\\"name\\\":\\\"__gd_contents\\\",\\\"scope\\\":\\\"2420234569363787128\\\",\\\"id\\\":\\\"9658687472033814843\\\",\\\"type\\\":\\\"observable\\\"},this.plotElem.layout)) : undefined})\"],\"_downloadImage\":[\"(function (options){return this.Plotly.downloadImage(this.plotElem,options)})\"],\"_commands\":[\"(function (args){var fn=args.shift(); var elem=this.plotElem; var Plotly=this.Plotly; args.unshift(elem); return Plotly[fn].apply(this,args)})\"]},\"systemjs_options\":null,\"mount_callbacks\":[\"function () {\\n    var handler = ((function (Plotly,PlotlyWebIO){PlotlyWebIO.init(WebIO); var gd=this.dom.querySelector(\\\"#plot-9a16c8d8-67f0-4b21-bbd0-5e3f77fcfd0e\\\"); this.plotElem=gd; this.Plotly=Plotly; (window.Blink!==undefined) ? (gd.style.width=\\\"100%\\\", gd.style.height=\\\"100vh\\\", gd.style.marginLeft=\\\"0%\\\", gd.style.marginTop=\\\"0vh\\\") : undefined; window.onresize=(function (){return Plotly.Plots.resize(gd)}); Plotly.newPlot(gd,[{\\\"mode\\\":\\\"markers+lines\\\",\\\"y\\\":[54.0087,53.8606,53.7125,53.56439999999999,53.41629999999999,53.26819999999999,53.120099999999994,52.971999999999994,52.823899999999995,52.675799999999995,52.527699999999996,52.379599999999996,52.2315,52.0834,51.9353,51.7872,51.63909999999999,51.49099999999999,51.34289999999999,51.194799999999994,51.046699999999994,50.898599999999995,50.750499999999995,50.602399999999996,50.454299999999996,50.3062,50.1581,50.01],\\\"type\\\":\\\"scatter\\\",\\\"x\\\":[273.0,274.0,275.0,276.0,277.0,278.0,279.0,280.0,281.0,282.0,283.0,284.0,285.0,286.0,287.0,288.0,289.0,290.0,291.0,292.0,293.0,294.0,295.0,296.0,297.0,298.0,299.0,300.0]}],{\\\"xaxis\\\":{\\\"title\\\":{\\\"text\\\":\\\"Temperature (Kelvin)\\\"}},\\\"template\\\":{\\\"layout\\\":{\\\"coloraxis\\\":{\\\"colorbar\\\":{\\\"ticks\\\":\\\"\\\",\\\"outlinewidth\\\":0}},\\\"xaxis\\\":{\\\"gridcolor\\\":\\\"white\\\",\\\"zerolinewidth\\\":2,\\\"title\\\":{\\\"standoff\\\":15},\\\"ticks\\\":\\\"\\\",\\\"zerolinecolor\\\":\\\"white\\\",\\\"automargin\\\":true,\\\"linecolor\\\":\\\"white\\\"},\\\"hovermode\\\":\\\"closest\\\",\\\"paper_bgcolor\\\":\\\"white\\\",\\\"geo\\\":{\\\"showlakes\\\":true,\\\"showland\\\":true,\\\"landcolor\\\":\\\"#E5ECF6\\\",\\\"bgcolor\\\":\\\"white\\\",\\\"subunitcolor\\\":\\\"white\\\",\\\"lakecolor\\\":\\\"white\\\"},\\\"colorscale\\\":{\\\"sequential\\\":[[0.0,\\\"#0d0887\\\"],[0.1111111111111111,\\\"#46039f\\\"],[0.2222222222222222,\\\"#7201a8\\\"],[0.3333333333333333,\\\"#9c179e\\\"],[0.4444444444444444,\\\"#bd3786\\\"],[0.5555555555555556,\\\"#d8576b\\\"],[0.6666666666666666,\\\"#ed7953\\\"],[0.7777777777777778,\\\"#fb9f3a\\\"],[0.8888888888888888,\\\"#fdca26\\\"],[1.0,\\\"#f0f921\\\"]],\\\"diverging\\\":[[0,\\\"#8e0152\\\"],[0.1,\\\"#c51b7d\\\"],[0.2,\\\"#de77ae\\\"],[0.3,\\\"#f1b6da\\\"],[0.4,\\\"#fde0ef\\\"],[0.5,\\\"#f7f7f7\\\"],[0.6,\\\"#e6f5d0\\\"],[0.7,\\\"#b8e186\\\"],[0.8,\\\"#7fbc41\\\"],[0.9,\\\"#4d9221\\\"],[1,\\\"#276419\\\"]],\\\"sequentialminus\\\":[[0.0,\\\"#0d0887\\\"],[0.1111111111111111,\\\"#46039f\\\"],[0.2222222222222222,\\\"#7201a8\\\"],[0.3333333333333333,\\\"#9c179e\\\"],[0.4444444444444444,\\\"#bd3786\\\"],[0.5555555555555556,\\\"#d8576b\\\"],[0.6666666666666666,\\\"#ed7953\\\"],[0.7777777777777778,\\\"#fb9f3a\\\"],[0.8888888888888888,\\\"#fdca26\\\"],[1.0,\\\"#f0f921\\\"]]},\\\"yaxis\\\":{\\\"gridcolor\\\":\\\"white\\\",\\\"zerolinewidth\\\":2,\\\"title\\\":{\\\"standoff\\\":15},\\\"ticks\\\":\\\"\\\",\\\"zerolinecolor\\\":\\\"white\\\",\\\"automargin\\\":true,\\\"linecolor\\\":\\\"white\\\"},\\\"shapedefaults\\\":{\\\"line\\\":{\\\"color\\\":\\\"#2a3f5f\\\"}},\\\"hoverlabel\\\":{\\\"align\\\":\\\"left\\\"},\\\"mapbox\\\":{\\\"style\\\":\\\"light\\\"},\\\"polar\\\":{\\\"angularaxis\\\":{\\\"gridcolor\\\":\\\"white\\\",\\\"ticks\\\":\\\"\\\",\\\"linecolor\\\":\\\"white\\\"},\\\"bgcolor\\\":\\\"#E5ECF6\\\",\\\"radialaxis\\\":{\\\"gridcolor\\\":\\\"white\\\",\\\"ticks\\\":\\\"\\\",\\\"linecolor\\\":\\\"white\\\"}},\\\"autotypenumbers\\\":\\\"strict\\\",\\\"font\\\":{\\\"color\\\":\\\"#2a3f5f\\\"},\\\"ternary\\\":{\\\"baxis\\\":{\\\"gridcolor\\\":\\\"white\\\",\\\"ticks\\\":\\\"\\\",\\\"linecolor\\\":\\\"white\\\"},\\\"bgcolor\\\":\\\"#E5ECF6\\\",\\\"caxis\\\":{\\\"gridcolor\\\":\\\"white\\\",\\\"ticks\\\":\\\"\\\",\\\"linecolor\\\":\\\"white\\\"},\\\"aaxis\\\":{\\\"gridcolor\\\":\\\"white\\\",\\\"ticks\\\":\\\"\\\",\\\"linecolor\\\":\\\"white\\\"}},\\\"annotationdefaults\\\":{\\\"arrowhead\\\":0,\\\"arrowwidth\\\":1,\\\"arrowcolor\\\":\\\"#2a3f5f\\\"},\\\"plot_bgcolor\\\":\\\"#E5ECF6\\\",\\\"title\\\":{\\\"x\\\":0.05},\\\"scene\\\":{\\\"xaxis\\\":{\\\"gridcolor\\\":\\\"white\\\",\\\"gridwidth\\\":2,\\\"backgroundcolor\\\":\\\"#E5ECF6\\\",\\\"ticks\\\":\\\"\\\",\\\"showbackground\\\":true,\\\"zerolinecolor\\\":\\\"white\\\",\\\"linecolor\\\":\\\"white\\\"},\\\"zaxis\\\":{\\\"gridcolor\\\":\\\"white\\\",\\\"gridwidth\\\":2,\\\"backgroundcolor\\\":\\\"#E5ECF6\\\",\\\"ticks\\\":\\\"\\\",\\\"showbackground\\\":true,\\\"zerolinecolor\\\":\\\"white\\\",\\\"linecolor\\\":\\\"white\\\"},\\\"yaxis\\\":{\\\"gridcolor\\\":\\\"white\\\",\\\"gridwidth\\\":2,\\\"backgroundcolor\\\":\\\"#E5ECF6\\\",\\\"ticks\\\":\\\"\\\",\\\"showbackground\\\":true,\\\"zerolinecolor\\\":\\\"white\\\",\\\"linecolor\\\":\\\"white\\\"}},\\\"colorway\\\":[\\\"#636efa\\\",\\\"#EF553B\\\",\\\"#00cc96\\\",\\\"#ab63fa\\\",\\\"#FFA15A\\\",\\\"#19d3f3\\\",\\\"#FF6692\\\",\\\"#B6E880\\\",\\\"#FF97FF\\\",\\\"#FECB52\\\"]},\\\"data\\\":{\\\"barpolar\\\":[{\\\"type\\\":\\\"barpolar\\\",\\\"marker\\\":{\\\"line\\\":{\\\"color\\\":\\\"#E5ECF6\\\",\\\"width\\\":0.5}}}],\\\"carpet\\\":[{\\\"aaxis\\\":{\\\"gridcolor\\\":\\\"white\\\",\\\"endlinecolor\\\":\\\"#2a3f5f\\\",\\\"minorgridcolor\\\":\\\"white\\\",\\\"startlinecolor\\\":\\\"#2a3f5f\\\",\\\"linecolor\\\":\\\"white\\\"},\\\"type\\\":\\\"carpet\\\",\\\"baxis\\\":{\\\"gridcolor\\\":\\\"white\\\",\\\"endlinecolor\\\":\\\"#2a3f5f\\\",\\\"minorgridcolor\\\":\\\"white\\\",\\\"startlinecolor\\\":\\\"#2a3f5f\\\",\\\"linecolor\\\":\\\"white\\\"}}],\\\"scatterpolar\\\":[{\\\"type\\\":\\\"scatterpolar\\\",\\\"marker\\\":{\\\"colorbar\\\":{\\\"ticks\\\":\\\"\\\",\\\"outlinewidth\\\":0}}}],\\\"parcoords\\\":[{\\\"line\\\":{\\\"colorbar\\\":{\\\"ticks\\\":\\\"\\\",\\\"outlinewidth\\\":0}},\\\"type\\\":\\\"parcoords\\\"}],\\\"scatter\\\":[{\\\"type\\\":\\\"scatter\\\",\\\"marker\\\":{\\\"colorbar\\\":{\\\"ticks\\\":\\\"\\\",\\\"outlinewidth\\\":0}}}],\\\"histogram2dcontour\\\":[{\\\"colorbar\\\":{\\\"ticks\\\":\\\"\\\",\\\"outlinewidth\\\":0},\\\"type\\\":\\\"histogram2dcontour\\\",\\\"colorscale\\\":[[0.0,\\\"#0d0887\\\"],[0.1111111111111111,\\\"#46039f\\\"],[0.2222222222222222,\\\"#7201a8\\\"],[0.3333333333333333,\\\"#9c179e\\\"],[0.4444444444444444,\\\"#bd3786\\\"],[0.5555555555555556,\\\"#d8576b\\\"],[0.6666666666666666,\\\"#ed7953\\\"],[0.7777777777777778,\\\"#fb9f3a\\\"],[0.8888888888888888,\\\"#fdca26\\\"],[1.0,\\\"#f0f921\\\"]]}],\\\"contour\\\":[{\\\"colorbar\\\":{\\\"ticks\\\":\\\"\\\",\\\"outlinewidth\\\":0},\\\"type\\\":\\\"contour\\\",\\\"colorscale\\\":[[0.0,\\\"#0d0887\\\"],[0.1111111111111111,\\\"#46039f\\\"],[0.2222222222222222,\\\"#7201a8\\\"],[0.3333333333333333,\\\"#9c179e\\\"],[0.4444444444444444,\\\"#bd3786\\\"],[0.5555555555555556,\\\"#d8576b\\\"],[0.6666666666666666,\\\"#ed7953\\\"],[0.7777777777777778,\\\"#fb9f3a\\\"],[0.8888888888888888,\\\"#fdca26\\\"],[1.0,\\\"#f0f921\\\"]]}],\\\"scattercarpet\\\":[{\\\"type\\\":\\\"scattercarpet\\\",\\\"marker\\\":{\\\"colorbar\\\":{\\\"ticks\\\":\\\"\\\",\\\"outlinewidth\\\":0}}}],\\\"mesh3d\\\":[{\\\"colorbar\\\":{\\\"ticks\\\":\\\"\\\",\\\"outlinewidth\\\":0},\\\"type\\\":\\\"mesh3d\\\"}],\\\"surface\\\":[{\\\"colorbar\\\":{\\\"ticks\\\":\\\"\\\",\\\"outlinewidth\\\":0},\\\"type\\\":\\\"surface\\\",\\\"colorscale\\\":[[0.0,\\\"#0d0887\\\"],[0.1111111111111111,\\\"#46039f\\\"],[0.2222222222222222,\\\"#7201a8\\\"],[0.3333333333333333,\\\"#9c179e\\\"],[0.4444444444444444,\\\"#bd3786\\\"],[0.5555555555555556,\\\"#d8576b\\\"],[0.6666666666666666,\\\"#ed7953\\\"],[0.7777777777777778,\\\"#fb9f3a\\\"],[0.8888888888888888,\\\"#fdca26\\\"],[1.0,\\\"#f0f921\\\"]]}],\\\"scattermapbox\\\":[{\\\"type\\\":\\\"scattermapbox\\\",\\\"marker\\\":{\\\"colorbar\\\":{\\\"ticks\\\":\\\"\\\",\\\"outlinewidth\\\":0}}}],\\\"scattergeo\\\":[{\\\"type\\\":\\\"scattergeo\\\",\\\"marker\\\":{\\\"colorbar\\\":{\\\"ticks\\\":\\\"\\\",\\\"outlinewidth\\\":0}}}],\\\"histogram\\\":[{\\\"type\\\":\\\"histogram\\\",\\\"marker\\\":{\\\"colorbar\\\":{\\\"ticks\\\":\\\"\\\",\\\"outlinewidth\\\":0}}}],\\\"pie\\\":[{\\\"type\\\":\\\"pie\\\",\\\"automargin\\\":true}],\\\"choropleth\\\":[{\\\"colorbar\\\":{\\\"ticks\\\":\\\"\\\",\\\"outlinewidth\\\":0},\\\"type\\\":\\\"choropleth\\\"}],\\\"heatmapgl\\\":[{\\\"colorbar\\\":{\\\"ticks\\\":\\\"\\\",\\\"outlinewidth\\\":0},\\\"type\\\":\\\"heatmapgl\\\",\\\"colorscale\\\":[[0.0,\\\"#0d0887\\\"],[0.1111111111111111,\\\"#46039f\\\"],[0.2222222222222222,\\\"#7201a8\\\"],[0.3333333333333333,\\\"#9c179e\\\"],[0.4444444444444444,\\\"#bd3786\\\"],[0.5555555555555556,\\\"#d8576b\\\"],[0.6666666666666666,\\\"#ed7953\\\"],[0.7777777777777778,\\\"#fb9f3a\\\"],[0.8888888888888888,\\\"#fdca26\\\"],[1.0,\\\"#f0f921\\\"]]}],\\\"bar\\\":[{\\\"type\\\":\\\"bar\\\",\\\"error_y\\\":{\\\"color\\\":\\\"#2a3f5f\\\"},\\\"error_x\\\":{\\\"color\\\":\\\"#2a3f5f\\\"},\\\"marker\\\":{\\\"line\\\":{\\\"color\\\":\\\"#E5ECF6\\\",\\\"width\\\":0.5}}}],\\\"heatmap\\\":[{\\\"colorbar\\\":{\\\"ticks\\\":\\\"\\\",\\\"outlinewidth\\\":0},\\\"type\\\":\\\"heatmap\\\",\\\"colorscale\\\":[[0.0,\\\"#0d0887\\\"],[0.1111111111111111,\\\"#46039f\\\"],[0.2222222222222222,\\\"#7201a8\\\"],[0.3333333333333333,\\\"#9c179e\\\"],[0.4444444444444444,\\\"#bd3786\\\"],[0.5555555555555556,\\\"#d8576b\\\"],[0.6666666666666666,\\\"#ed7953\\\"],[0.7777777777777778,\\\"#fb9f3a\\\"],[0.8888888888888888,\\\"#fdca26\\\"],[1.0,\\\"#f0f921\\\"]]}],\\\"contourcarpet\\\":[{\\\"colorbar\\\":{\\\"ticks\\\":\\\"\\\",\\\"outlinewidth\\\":0},\\\"type\\\":\\\"contourcarpet\\\"}],\\\"table\\\":[{\\\"type\\\":\\\"table\\\",\\\"header\\\":{\\\"line\\\":{\\\"color\\\":\\\"white\\\"},\\\"fill\\\":{\\\"color\\\":\\\"#C8D4E3\\\"}},\\\"cells\\\":{\\\"line\\\":{\\\"color\\\":\\\"white\\\"},\\\"fill\\\":{\\\"color\\\":\\\"#EBF0F8\\\"}}}],\\\"scatter3d\\\":[{\\\"line\\\":{\\\"colorbar\\\":{\\\"ticks\\\":\\\"\\\",\\\"outlinewidth\\\":0}},\\\"type\\\":\\\"scatter3d\\\",\\\"marker\\\":{\\\"colorbar\\\":{\\\"ticks\\\":\\\"\\\",\\\"outlinewidth\\\":0}}}],\\\"scattergl\\\":[{\\\"type\\\":\\\"scattergl\\\",\\\"marker\\\":{\\\"colorbar\\\":{\\\"ticks\\\":\\\"\\\",\\\"outlinewidth\\\":0}}}],\\\"histogram2d\\\":[{\\\"colorbar\\\":{\\\"ticks\\\":\\\"\\\",\\\"outlinewidth\\\":0},\\\"type\\\":\\\"histogram2d\\\",\\\"colorscale\\\":[[0.0,\\\"#0d0887\\\"],[0.1111111111111111,\\\"#46039f\\\"],[0.2222222222222222,\\\"#7201a8\\\"],[0.3333333333333333,\\\"#9c179e\\\"],[0.4444444444444444,\\\"#bd3786\\\"],[0.5555555555555556,\\\"#d8576b\\\"],[0.6666666666666666,\\\"#ed7953\\\"],[0.7777777777777778,\\\"#fb9f3a\\\"],[0.8888888888888888,\\\"#fdca26\\\"],[1.0,\\\"#f0f921\\\"]]}],\\\"scatterternary\\\":[{\\\"type\\\":\\\"scatterternary\\\",\\\"marker\\\":{\\\"colorbar\\\":{\\\"ticks\\\":\\\"\\\",\\\"outlinewidth\\\":0}}}],\\\"scatterpolargl\\\":[{\\\"type\\\":\\\"scatterpolargl\\\",\\\"marker\\\":{\\\"colorbar\\\":{\\\"ticks\\\":\\\"\\\",\\\"outlinewidth\\\":0}}}]}},\\\"legend\\\":{\\\"title\\\":\\\"Legend Title\\\"},\\\"margin\\\":{\\\"l\\\":50,\\\"b\\\":50,\\\"r\\\":50,\\\"t\\\":60},\\\"title\\\":\\\"Terminal Velocity Model\\\",\\\"yaxis\\\":{\\\"title\\\":{\\\"text\\\":\\\"Velocity (meters \\/ seconds)\\\"}}},{\\\"showLink\\\":false,\\\"editable\\\":false,\\\"responsive\\\":true,\\\"staticPlot\\\":false,\\\"scrollZoom\\\":true}); gd.on(\\\"plotly_hover\\\",(function (data){var filtered_data=WebIO.PlotlyCommands.filterEventData(gd,data,\\\"hover\\\"); return !(filtered_data.isnil) ? (WebIO.setval({\\\"name\\\":\\\"hover\\\",\\\"scope\\\":\\\"2420234569363787128\\\",\\\"id\\\":\\\"11008261648418645283\\\",\\\"type\\\":\\\"observable\\\"},filtered_data.out)) : undefined})); gd.on(\\\"plotly_unhover\\\",(function (){return WebIO.setval({\\\"name\\\":\\\"hover\\\",\\\"scope\\\":\\\"2420234569363787128\\\",\\\"id\\\":\\\"11008261648418645283\\\",\\\"type\\\":\\\"observable\\\"},{})})); gd.on(\\\"plotly_selected\\\",(function (data){var filtered_data=WebIO.PlotlyCommands.filterEventData(gd,data,\\\"selected\\\"); return !(filtered_data.isnil) ? (WebIO.setval({\\\"name\\\":\\\"selected\\\",\\\"scope\\\":\\\"2420234569363787128\\\",\\\"id\\\":\\\"18373342141636721617\\\",\\\"type\\\":\\\"observable\\\"},filtered_data.out)) : undefined})); gd.on(\\\"plotly_deselect\\\",(function (){return WebIO.setval({\\\"name\\\":\\\"selected\\\",\\\"scope\\\":\\\"2420234569363787128\\\",\\\"id\\\":\\\"18373342141636721617\\\",\\\"type\\\":\\\"observable\\\"},{})})); gd.on(\\\"plotly_relayout\\\",(function (data){var filtered_data=WebIO.PlotlyCommands.filterEventData(gd,data,\\\"relayout\\\"); return !(filtered_data.isnil) ? (WebIO.setval({\\\"name\\\":\\\"relayout\\\",\\\"scope\\\":\\\"2420234569363787128\\\",\\\"id\\\":\\\"7364744561998684627\\\",\\\"type\\\":\\\"observable\\\"},filtered_data.out)) : undefined})); return gd.on(\\\"plotly_click\\\",(function (data){var filtered_data=WebIO.PlotlyCommands.filterEventData(gd,data,\\\"click\\\"); return !(filtered_data.isnil) ? (WebIO.setval({\\\"name\\\":\\\"click\\\",\\\"scope\\\":\\\"2420234569363787128\\\",\\\"id\\\":\\\"7594023965203960865\\\",\\\"type\\\":\\\"observable\\\"},filtered_data.out)) : undefined}))}));\\n    (WebIO.importBlock({\\\"data\\\":[{\\\"name\\\":\\\"Plotly\\\",\\\"type\\\":\\\"js\\\",\\\"url\\\":\\\"\\/assetserver\\/627f17ff06762af3874159c00b9b1e00e50688bc-plotly.min.js\\\"},{\\\"name\\\":null,\\\"type\\\":\\\"js\\\",\\\"url\\\":\\\"\\/assetserver\\/1a276a0acb11ad47020d3f379225d41bbd0aeef0-plotly_webio.bundle.js\\\"}],\\\"type\\\":\\\"async_block\\\"})).then((imports) => handler.apply(this, imports));\\n}\\n\"],\"observables\":{\"_toImage\":{\"sync\":false,\"id\":\"5425042712092311743\",\"value\":{}},\"hover\":{\"sync\":false,\"id\":\"11008261648418645283\",\"value\":{}},\"selected\":{\"sync\":false,\"id\":\"18373342141636721617\",\"value\":{}},\"__gd_contents\":{\"sync\":false,\"id\":\"9658687472033814843\",\"value\":{}},\"click\":{\"sync\":false,\"id\":\"7594023965203960865\",\"value\":{}},\"image\":{\"sync\":true,\"id\":\"16566923832193271050\",\"value\":\"\"},\"__get_gd_contents\":{\"sync\":false,\"id\":\"11987064603775822039\",\"value\":\"\"},\"_downloadImage\":{\"sync\":false,\"id\":\"6902866780953903677\",\"value\":{}},\"relayout\":{\"sync\":false,\"id\":\"7364744561998684627\",\"value\":{}},\"_commands\":{\"sync\":false,\"id\":\"11974266488138532908\",\"value\":[]}}},\"children\":[{\"props\":{\"id\":\"plot-9a16c8d8-67f0-4b21-bbd0-5e3f77fcfd0e\"},\"nodeType\":\"DOM\",\"type\":\"node\",\"instanceArgs\":{\"namespace\":\"html\",\"tag\":\"div\"},\"children\":[]}]},\n",
       "        window,\n",
       "    );\n",
       "    })()\n",
       "    </script>\n",
       "</div>\n"
      ],
      "text/plain": [
       "data: [\n",
       "  \"scatter with fields mode, type, x, and y\"\n",
       "]\n",
       "\n",
       "layout: \"layout with fields legend, margin, template, title, xaxis, and yaxis\"\n",
       "\n"
      ]
     },
     "execution_count": 325,
     "metadata": {},
     "output_type": "execute_result"
    }
   ],
   "source": [
    "temperature_range_K = 273.0:300.0\n",
    "\n",
    "plot(\n",
    "    [\n",
    "        scatter(\n",
    "            mode=\"markers+lines\",\n",
    "            x=temperature_range_K,\n",
    "            y=[get_velocity_infinity_ms(T) for T in temperature_range_K]\n",
    "        )\n",
    "    ],\n",
    "    Layout(\n",
    "        title=\"Terminal Velocity Model\",\n",
    "        xaxis_title=\"Temperature (Kelvin)\",\n",
    "        yaxis_title=\"Velocity (meters / seconds)\",\n",
    "        legend_title=\"Legend Title\",\n",
    "    ),\n",
    "    config=PlotConfig(scrollZoom=true)\n",
    ")"
   ]
  },
  {
   "cell_type": "code",
   "execution_count": 326,
   "id": "c2c7a6a8",
   "metadata": {},
   "outputs": [
    {
     "data": {
      "application/vnd.plotly.v1+json": {
       "config": {
        "editable": false,
        "responsive": true,
        "scrollZoom": true,
        "showLink": false,
        "staticPlot": false
       },
       "data": [
        {
         "mode": "markers+lines",
         "type": "scatter",
         "x": [
          0,
          100,
          200,
          300,
          400,
          500,
          600,
          700,
          800,
          900,
          1000,
          1100,
          1200,
          1300,
          1400,
          1500,
          1600,
          1700,
          1800,
          1900,
          2000,
          2100,
          2200,
          2300,
          2400,
          2500,
          2600,
          2700,
          2800,
          2900,
          3000
         ],
         "y": [
          288.706,
          288.02250000000004,
          287.339,
          286.6555,
          285.97200000000004,
          285.2885,
          284.605,
          283.92150000000004,
          283.238,
          282.5545,
          281.87100000000004,
          281.1875,
          280.504,
          279.82050000000004,
          279.137,
          278.4535,
          277.77000000000004,
          277.0865,
          276.403,
          275.71950000000004,
          275.036,
          274.3525,
          273.66900000000004,
          272.9855,
          272.302,
          271.61850000000004,
          270.935,
          270.2515,
          269.56800000000004,
          268.8845,
          268.201
         ]
        }
       ],
       "frames": [],
       "layout": {
        "legend": {
         "title": "Legend Title"
        },
        "margin": {
         "b": 50,
         "l": 50,
         "r": 50,
         "t": 60
        },
        "template": {
         "data": {
          "bar": [
           {
            "error_x": {
             "color": "#2a3f5f"
            },
            "error_y": {
             "color": "#2a3f5f"
            },
            "marker": {
             "line": {
              "color": "#E5ECF6",
              "width": 0.5
             }
            },
            "type": "bar"
           }
          ],
          "barpolar": [
           {
            "marker": {
             "line": {
              "color": "#E5ECF6",
              "width": 0.5
             }
            },
            "type": "barpolar"
           }
          ],
          "carpet": [
           {
            "aaxis": {
             "endlinecolor": "#2a3f5f",
             "gridcolor": "white",
             "linecolor": "white",
             "minorgridcolor": "white",
             "startlinecolor": "#2a3f5f"
            },
            "baxis": {
             "endlinecolor": "#2a3f5f",
             "gridcolor": "white",
             "linecolor": "white",
             "minorgridcolor": "white",
             "startlinecolor": "#2a3f5f"
            },
            "type": "carpet"
           }
          ],
          "choropleth": [
           {
            "colorbar": {
             "outlinewidth": 0,
             "ticks": ""
            },
            "type": "choropleth"
           }
          ],
          "contour": [
           {
            "colorbar": {
             "outlinewidth": 0,
             "ticks": ""
            },
            "colorscale": [
             [
              0,
              "#0d0887"
             ],
             [
              0.1111111111111111,
              "#46039f"
             ],
             [
              0.2222222222222222,
              "#7201a8"
             ],
             [
              0.3333333333333333,
              "#9c179e"
             ],
             [
              0.4444444444444444,
              "#bd3786"
             ],
             [
              0.5555555555555556,
              "#d8576b"
             ],
             [
              0.6666666666666666,
              "#ed7953"
             ],
             [
              0.7777777777777778,
              "#fb9f3a"
             ],
             [
              0.8888888888888888,
              "#fdca26"
             ],
             [
              1,
              "#f0f921"
             ]
            ],
            "type": "contour"
           }
          ],
          "contourcarpet": [
           {
            "colorbar": {
             "outlinewidth": 0,
             "ticks": ""
            },
            "type": "contourcarpet"
           }
          ],
          "heatmap": [
           {
            "colorbar": {
             "outlinewidth": 0,
             "ticks": ""
            },
            "colorscale": [
             [
              0,
              "#0d0887"
             ],
             [
              0.1111111111111111,
              "#46039f"
             ],
             [
              0.2222222222222222,
              "#7201a8"
             ],
             [
              0.3333333333333333,
              "#9c179e"
             ],
             [
              0.4444444444444444,
              "#bd3786"
             ],
             [
              0.5555555555555556,
              "#d8576b"
             ],
             [
              0.6666666666666666,
              "#ed7953"
             ],
             [
              0.7777777777777778,
              "#fb9f3a"
             ],
             [
              0.8888888888888888,
              "#fdca26"
             ],
             [
              1,
              "#f0f921"
             ]
            ],
            "type": "heatmap"
           }
          ],
          "heatmapgl": [
           {
            "colorbar": {
             "outlinewidth": 0,
             "ticks": ""
            },
            "colorscale": [
             [
              0,
              "#0d0887"
             ],
             [
              0.1111111111111111,
              "#46039f"
             ],
             [
              0.2222222222222222,
              "#7201a8"
             ],
             [
              0.3333333333333333,
              "#9c179e"
             ],
             [
              0.4444444444444444,
              "#bd3786"
             ],
             [
              0.5555555555555556,
              "#d8576b"
             ],
             [
              0.6666666666666666,
              "#ed7953"
             ],
             [
              0.7777777777777778,
              "#fb9f3a"
             ],
             [
              0.8888888888888888,
              "#fdca26"
             ],
             [
              1,
              "#f0f921"
             ]
            ],
            "type": "heatmapgl"
           }
          ],
          "histogram": [
           {
            "marker": {
             "colorbar": {
              "outlinewidth": 0,
              "ticks": ""
             }
            },
            "type": "histogram"
           }
          ],
          "histogram2d": [
           {
            "colorbar": {
             "outlinewidth": 0,
             "ticks": ""
            },
            "colorscale": [
             [
              0,
              "#0d0887"
             ],
             [
              0.1111111111111111,
              "#46039f"
             ],
             [
              0.2222222222222222,
              "#7201a8"
             ],
             [
              0.3333333333333333,
              "#9c179e"
             ],
             [
              0.4444444444444444,
              "#bd3786"
             ],
             [
              0.5555555555555556,
              "#d8576b"
             ],
             [
              0.6666666666666666,
              "#ed7953"
             ],
             [
              0.7777777777777778,
              "#fb9f3a"
             ],
             [
              0.8888888888888888,
              "#fdca26"
             ],
             [
              1,
              "#f0f921"
             ]
            ],
            "type": "histogram2d"
           }
          ],
          "histogram2dcontour": [
           {
            "colorbar": {
             "outlinewidth": 0,
             "ticks": ""
            },
            "colorscale": [
             [
              0,
              "#0d0887"
             ],
             [
              0.1111111111111111,
              "#46039f"
             ],
             [
              0.2222222222222222,
              "#7201a8"
             ],
             [
              0.3333333333333333,
              "#9c179e"
             ],
             [
              0.4444444444444444,
              "#bd3786"
             ],
             [
              0.5555555555555556,
              "#d8576b"
             ],
             [
              0.6666666666666666,
              "#ed7953"
             ],
             [
              0.7777777777777778,
              "#fb9f3a"
             ],
             [
              0.8888888888888888,
              "#fdca26"
             ],
             [
              1,
              "#f0f921"
             ]
            ],
            "type": "histogram2dcontour"
           }
          ],
          "mesh3d": [
           {
            "colorbar": {
             "outlinewidth": 0,
             "ticks": ""
            },
            "type": "mesh3d"
           }
          ],
          "parcoords": [
           {
            "line": {
             "colorbar": {
              "outlinewidth": 0,
              "ticks": ""
             }
            },
            "type": "parcoords"
           }
          ],
          "pie": [
           {
            "automargin": true,
            "type": "pie"
           }
          ],
          "scatter": [
           {
            "marker": {
             "colorbar": {
              "outlinewidth": 0,
              "ticks": ""
             }
            },
            "type": "scatter"
           }
          ],
          "scatter3d": [
           {
            "line": {
             "colorbar": {
              "outlinewidth": 0,
              "ticks": ""
             }
            },
            "marker": {
             "colorbar": {
              "outlinewidth": 0,
              "ticks": ""
             }
            },
            "type": "scatter3d"
           }
          ],
          "scattercarpet": [
           {
            "marker": {
             "colorbar": {
              "outlinewidth": 0,
              "ticks": ""
             }
            },
            "type": "scattercarpet"
           }
          ],
          "scattergeo": [
           {
            "marker": {
             "colorbar": {
              "outlinewidth": 0,
              "ticks": ""
             }
            },
            "type": "scattergeo"
           }
          ],
          "scattergl": [
           {
            "marker": {
             "colorbar": {
              "outlinewidth": 0,
              "ticks": ""
             }
            },
            "type": "scattergl"
           }
          ],
          "scattermapbox": [
           {
            "marker": {
             "colorbar": {
              "outlinewidth": 0,
              "ticks": ""
             }
            },
            "type": "scattermapbox"
           }
          ],
          "scatterpolar": [
           {
            "marker": {
             "colorbar": {
              "outlinewidth": 0,
              "ticks": ""
             }
            },
            "type": "scatterpolar"
           }
          ],
          "scatterpolargl": [
           {
            "marker": {
             "colorbar": {
              "outlinewidth": 0,
              "ticks": ""
             }
            },
            "type": "scatterpolargl"
           }
          ],
          "scatterternary": [
           {
            "marker": {
             "colorbar": {
              "outlinewidth": 0,
              "ticks": ""
             }
            },
            "type": "scatterternary"
           }
          ],
          "surface": [
           {
            "colorbar": {
             "outlinewidth": 0,
             "ticks": ""
            },
            "colorscale": [
             [
              0,
              "#0d0887"
             ],
             [
              0.1111111111111111,
              "#46039f"
             ],
             [
              0.2222222222222222,
              "#7201a8"
             ],
             [
              0.3333333333333333,
              "#9c179e"
             ],
             [
              0.4444444444444444,
              "#bd3786"
             ],
             [
              0.5555555555555556,
              "#d8576b"
             ],
             [
              0.6666666666666666,
              "#ed7953"
             ],
             [
              0.7777777777777778,
              "#fb9f3a"
             ],
             [
              0.8888888888888888,
              "#fdca26"
             ],
             [
              1,
              "#f0f921"
             ]
            ],
            "type": "surface"
           }
          ],
          "table": [
           {
            "cells": {
             "fill": {
              "color": "#EBF0F8"
             },
             "line": {
              "color": "white"
             }
            },
            "header": {
             "fill": {
              "color": "#C8D4E3"
             },
             "line": {
              "color": "white"
             }
            },
            "type": "table"
           }
          ]
         },
         "layout": {
          "annotationdefaults": {
           "arrowcolor": "#2a3f5f",
           "arrowhead": 0,
           "arrowwidth": 1
          },
          "autotypenumbers": "strict",
          "coloraxis": {
           "colorbar": {
            "outlinewidth": 0,
            "ticks": ""
           }
          },
          "colorscale": {
           "diverging": [
            [
             0,
             "#8e0152"
            ],
            [
             0.1,
             "#c51b7d"
            ],
            [
             0.2,
             "#de77ae"
            ],
            [
             0.3,
             "#f1b6da"
            ],
            [
             0.4,
             "#fde0ef"
            ],
            [
             0.5,
             "#f7f7f7"
            ],
            [
             0.6,
             "#e6f5d0"
            ],
            [
             0.7,
             "#b8e186"
            ],
            [
             0.8,
             "#7fbc41"
            ],
            [
             0.9,
             "#4d9221"
            ],
            [
             1,
             "#276419"
            ]
           ],
           "sequential": [
            [
             0,
             "#0d0887"
            ],
            [
             0.1111111111111111,
             "#46039f"
            ],
            [
             0.2222222222222222,
             "#7201a8"
            ],
            [
             0.3333333333333333,
             "#9c179e"
            ],
            [
             0.4444444444444444,
             "#bd3786"
            ],
            [
             0.5555555555555556,
             "#d8576b"
            ],
            [
             0.6666666666666666,
             "#ed7953"
            ],
            [
             0.7777777777777778,
             "#fb9f3a"
            ],
            [
             0.8888888888888888,
             "#fdca26"
            ],
            [
             1,
             "#f0f921"
            ]
           ],
           "sequentialminus": [
            [
             0,
             "#0d0887"
            ],
            [
             0.1111111111111111,
             "#46039f"
            ],
            [
             0.2222222222222222,
             "#7201a8"
            ],
            [
             0.3333333333333333,
             "#9c179e"
            ],
            [
             0.4444444444444444,
             "#bd3786"
            ],
            [
             0.5555555555555556,
             "#d8576b"
            ],
            [
             0.6666666666666666,
             "#ed7953"
            ],
            [
             0.7777777777777778,
             "#fb9f3a"
            ],
            [
             0.8888888888888888,
             "#fdca26"
            ],
            [
             1,
             "#f0f921"
            ]
           ]
          },
          "colorway": [
           "#636efa",
           "#EF553B",
           "#00cc96",
           "#ab63fa",
           "#FFA15A",
           "#19d3f3",
           "#FF6692",
           "#B6E880",
           "#FF97FF",
           "#FECB52"
          ],
          "font": {
           "color": "#2a3f5f"
          },
          "geo": {
           "bgcolor": "white",
           "lakecolor": "white",
           "landcolor": "#E5ECF6",
           "showlakes": true,
           "showland": true,
           "subunitcolor": "white"
          },
          "hoverlabel": {
           "align": "left"
          },
          "hovermode": "closest",
          "mapbox": {
           "style": "light"
          },
          "paper_bgcolor": "white",
          "plot_bgcolor": "#E5ECF6",
          "polar": {
           "angularaxis": {
            "gridcolor": "white",
            "linecolor": "white",
            "ticks": ""
           },
           "bgcolor": "#E5ECF6",
           "radialaxis": {
            "gridcolor": "white",
            "linecolor": "white",
            "ticks": ""
           }
          },
          "scene": {
           "xaxis": {
            "backgroundcolor": "#E5ECF6",
            "gridcolor": "white",
            "gridwidth": 2,
            "linecolor": "white",
            "showbackground": true,
            "ticks": "",
            "zerolinecolor": "white"
           },
           "yaxis": {
            "backgroundcolor": "#E5ECF6",
            "gridcolor": "white",
            "gridwidth": 2,
            "linecolor": "white",
            "showbackground": true,
            "ticks": "",
            "zerolinecolor": "white"
           },
           "zaxis": {
            "backgroundcolor": "#E5ECF6",
            "gridcolor": "white",
            "gridwidth": 2,
            "linecolor": "white",
            "showbackground": true,
            "ticks": "",
            "zerolinecolor": "white"
           }
          },
          "shapedefaults": {
           "line": {
            "color": "#2a3f5f"
           }
          },
          "ternary": {
           "aaxis": {
            "gridcolor": "white",
            "linecolor": "white",
            "ticks": ""
           },
           "baxis": {
            "gridcolor": "white",
            "linecolor": "white",
            "ticks": ""
           },
           "bgcolor": "#E5ECF6",
           "caxis": {
            "gridcolor": "white",
            "linecolor": "white",
            "ticks": ""
           }
          },
          "title": {
           "x": 0.05
          },
          "xaxis": {
           "automargin": true,
           "gridcolor": "white",
           "linecolor": "white",
           "ticks": "",
           "title": {
            "standoff": 15
           },
           "zerolinecolor": "white",
           "zerolinewidth": 2
          },
          "yaxis": {
           "automargin": true,
           "gridcolor": "white",
           "linecolor": "white",
           "ticks": "",
           "title": {
            "standoff": 15
           },
           "zerolinecolor": "white",
           "zerolinewidth": 2
          }
         }
        },
        "title": "Temperature Model",
        "xaxis": {
         "title": {
          "text": "Altitude (meters)"
         }
        },
        "yaxis": {
         "title": {
          "text": "Velocity (meters / seconds)"
         }
        }
       }
      },
      "text/html": [
       "<div\n",
       "    class=\"webio-mountpoint\"\n",
       "    data-webio-mountpoint=\"15093969113232006260\"\n",
       ">\n",
       "    <script>\n",
       "    (function(){\n",
       "    // Some integrations (namely, IJulia/Jupyter) use an alternate render pathway than\n",
       "    // just putting the html on the page. If WebIO isn't defined, then it's pretty likely\n",
       "    // that we're in one of those situations and the integration just isn't installed\n",
       "    // correctly.\n",
       "    if (typeof window.WebIO === \"undefined\") {\n",
       "        document\n",
       "            .querySelector('[data-webio-mountpoint=\"15093969113232006260\"]')\n",
       "            .innerHTML = (\n",
       "                '<div style=\"padding: 1em; background-color: #f8d6da; border: 1px solid #f5c6cb; font-weight: bold;\">' +\n",
       "                '<p><strong>WebIO not detected.</strong></p>' +\n",
       "                '<p>Please read ' +\n",
       "                '<a href=\"https://juliagizmos.github.io/WebIO.jl/latest/troubleshooting/not-detected/\" target=\"_blank\">the troubleshooting guide</a> ' +\n",
       "                'for more information on how to resolve this issue.</p>' +\n",
       "                '<p><a href=\"https://juliagizmos.github.io/WebIO.jl/latest/troubleshooting/not-detected/\" target=\"_blank\">https://juliagizmos.github.io/WebIO.jl/latest/troubleshooting/not-detected/</a></p>' +\n",
       "                '</div>'\n",
       "            );\n",
       "        return;\n",
       "    }\n",
       "    WebIO.mount(\n",
       "        document.querySelector('[data-webio-mountpoint=\"15093969113232006260\"]'),\n",
       "        {\"props\":{},\"nodeType\":\"Scope\",\"type\":\"node\",\"instanceArgs\":{\"imports\":{\"data\":[{\"name\":\"Plotly\",\"type\":\"js\",\"url\":\"\\/assetserver\\/627f17ff06762af3874159c00b9b1e00e50688bc-plotly.min.js\"},{\"name\":null,\"type\":\"js\",\"url\":\"\\/assetserver\\/1a276a0acb11ad47020d3f379225d41bbd0aeef0-plotly_webio.bundle.js\"}],\"type\":\"async_block\"},\"id\":\"16193652564865646092\",\"handlers\":{\"_toImage\":[\"(function (options){return this.Plotly.toImage(this.plotElem,options).then((function (data){return WebIO.setval({\\\"name\\\":\\\"image\\\",\\\"scope\\\":\\\"16193652564865646092\\\",\\\"id\\\":\\\"13153156761412938070\\\",\\\"type\\\":\\\"observable\\\"},data)}))})\"],\"__get_gd_contents\":[\"(function (prop){prop==\\\"data\\\" ? (WebIO.setval({\\\"name\\\":\\\"__gd_contents\\\",\\\"scope\\\":\\\"16193652564865646092\\\",\\\"id\\\":\\\"18157321918790787974\\\",\\\"type\\\":\\\"observable\\\"},this.plotElem.data)) : undefined; return prop==\\\"layout\\\" ? (WebIO.setval({\\\"name\\\":\\\"__gd_contents\\\",\\\"scope\\\":\\\"16193652564865646092\\\",\\\"id\\\":\\\"18157321918790787974\\\",\\\"type\\\":\\\"observable\\\"},this.plotElem.layout)) : undefined})\"],\"_downloadImage\":[\"(function (options){return this.Plotly.downloadImage(this.plotElem,options)})\"],\"_commands\":[\"(function (args){var fn=args.shift(); var elem=this.plotElem; var Plotly=this.Plotly; args.unshift(elem); return Plotly[fn].apply(this,args)})\"]},\"systemjs_options\":null,\"mount_callbacks\":[\"function () {\\n    var handler = ((function (Plotly,PlotlyWebIO){PlotlyWebIO.init(WebIO); var gd=this.dom.querySelector(\\\"#plot-20e3543e-b548-40bc-93cb-313889ac2440\\\"); this.plotElem=gd; this.Plotly=Plotly; (window.Blink!==undefined) ? (gd.style.width=\\\"100%\\\", gd.style.height=\\\"100vh\\\", gd.style.marginLeft=\\\"0%\\\", gd.style.marginTop=\\\"0vh\\\") : undefined; window.onresize=(function (){return Plotly.Plots.resize(gd)}); Plotly.newPlot(gd,[{\\\"mode\\\":\\\"markers+lines\\\",\\\"y\\\":[288.706,288.02250000000004,287.339,286.6555,285.97200000000004,285.2885,284.605,283.92150000000004,283.238,282.5545,281.87100000000004,281.1875,280.504,279.82050000000004,279.137,278.4535,277.77000000000004,277.0865,276.403,275.71950000000004,275.036,274.3525,273.66900000000004,272.9855,272.302,271.61850000000004,270.935,270.2515,269.56800000000004,268.8845,268.201],\\\"type\\\":\\\"scatter\\\",\\\"x\\\":[0.0,100.0,200.0,300.0,400.0,500.0,600.0,700.0,800.0,900.0,1000.0,1100.0,1200.0,1300.0,1400.0,1500.0,1600.0,1700.0,1800.0,1900.0,2000.0,2100.0,2200.0,2300.0,2400.0,2500.0,2600.0,2700.0,2800.0,2900.0,3000.0]}],{\\\"xaxis\\\":{\\\"title\\\":{\\\"text\\\":\\\"Altitude (meters)\\\"}},\\\"template\\\":{\\\"layout\\\":{\\\"coloraxis\\\":{\\\"colorbar\\\":{\\\"ticks\\\":\\\"\\\",\\\"outlinewidth\\\":0}},\\\"xaxis\\\":{\\\"gridcolor\\\":\\\"white\\\",\\\"zerolinewidth\\\":2,\\\"title\\\":{\\\"standoff\\\":15},\\\"ticks\\\":\\\"\\\",\\\"zerolinecolor\\\":\\\"white\\\",\\\"automargin\\\":true,\\\"linecolor\\\":\\\"white\\\"},\\\"hovermode\\\":\\\"closest\\\",\\\"paper_bgcolor\\\":\\\"white\\\",\\\"geo\\\":{\\\"showlakes\\\":true,\\\"showland\\\":true,\\\"landcolor\\\":\\\"#E5ECF6\\\",\\\"bgcolor\\\":\\\"white\\\",\\\"subunitcolor\\\":\\\"white\\\",\\\"lakecolor\\\":\\\"white\\\"},\\\"colorscale\\\":{\\\"sequential\\\":[[0.0,\\\"#0d0887\\\"],[0.1111111111111111,\\\"#46039f\\\"],[0.2222222222222222,\\\"#7201a8\\\"],[0.3333333333333333,\\\"#9c179e\\\"],[0.4444444444444444,\\\"#bd3786\\\"],[0.5555555555555556,\\\"#d8576b\\\"],[0.6666666666666666,\\\"#ed7953\\\"],[0.7777777777777778,\\\"#fb9f3a\\\"],[0.8888888888888888,\\\"#fdca26\\\"],[1.0,\\\"#f0f921\\\"]],\\\"diverging\\\":[[0,\\\"#8e0152\\\"],[0.1,\\\"#c51b7d\\\"],[0.2,\\\"#de77ae\\\"],[0.3,\\\"#f1b6da\\\"],[0.4,\\\"#fde0ef\\\"],[0.5,\\\"#f7f7f7\\\"],[0.6,\\\"#e6f5d0\\\"],[0.7,\\\"#b8e186\\\"],[0.8,\\\"#7fbc41\\\"],[0.9,\\\"#4d9221\\\"],[1,\\\"#276419\\\"]],\\\"sequentialminus\\\":[[0.0,\\\"#0d0887\\\"],[0.1111111111111111,\\\"#46039f\\\"],[0.2222222222222222,\\\"#7201a8\\\"],[0.3333333333333333,\\\"#9c179e\\\"],[0.4444444444444444,\\\"#bd3786\\\"],[0.5555555555555556,\\\"#d8576b\\\"],[0.6666666666666666,\\\"#ed7953\\\"],[0.7777777777777778,\\\"#fb9f3a\\\"],[0.8888888888888888,\\\"#fdca26\\\"],[1.0,\\\"#f0f921\\\"]]},\\\"yaxis\\\":{\\\"gridcolor\\\":\\\"white\\\",\\\"zerolinewidth\\\":2,\\\"title\\\":{\\\"standoff\\\":15},\\\"ticks\\\":\\\"\\\",\\\"zerolinecolor\\\":\\\"white\\\",\\\"automargin\\\":true,\\\"linecolor\\\":\\\"white\\\"},\\\"shapedefaults\\\":{\\\"line\\\":{\\\"color\\\":\\\"#2a3f5f\\\"}},\\\"hoverlabel\\\":{\\\"align\\\":\\\"left\\\"},\\\"mapbox\\\":{\\\"style\\\":\\\"light\\\"},\\\"polar\\\":{\\\"angularaxis\\\":{\\\"gridcolor\\\":\\\"white\\\",\\\"ticks\\\":\\\"\\\",\\\"linecolor\\\":\\\"white\\\"},\\\"bgcolor\\\":\\\"#E5ECF6\\\",\\\"radialaxis\\\":{\\\"gridcolor\\\":\\\"white\\\",\\\"ticks\\\":\\\"\\\",\\\"linecolor\\\":\\\"white\\\"}},\\\"autotypenumbers\\\":\\\"strict\\\",\\\"font\\\":{\\\"color\\\":\\\"#2a3f5f\\\"},\\\"ternary\\\":{\\\"baxis\\\":{\\\"gridcolor\\\":\\\"white\\\",\\\"ticks\\\":\\\"\\\",\\\"linecolor\\\":\\\"white\\\"},\\\"bgcolor\\\":\\\"#E5ECF6\\\",\\\"caxis\\\":{\\\"gridcolor\\\":\\\"white\\\",\\\"ticks\\\":\\\"\\\",\\\"linecolor\\\":\\\"white\\\"},\\\"aaxis\\\":{\\\"gridcolor\\\":\\\"white\\\",\\\"ticks\\\":\\\"\\\",\\\"linecolor\\\":\\\"white\\\"}},\\\"annotationdefaults\\\":{\\\"arrowhead\\\":0,\\\"arrowwidth\\\":1,\\\"arrowcolor\\\":\\\"#2a3f5f\\\"},\\\"plot_bgcolor\\\":\\\"#E5ECF6\\\",\\\"title\\\":{\\\"x\\\":0.05},\\\"scene\\\":{\\\"xaxis\\\":{\\\"gridcolor\\\":\\\"white\\\",\\\"gridwidth\\\":2,\\\"backgroundcolor\\\":\\\"#E5ECF6\\\",\\\"ticks\\\":\\\"\\\",\\\"showbackground\\\":true,\\\"zerolinecolor\\\":\\\"white\\\",\\\"linecolor\\\":\\\"white\\\"},\\\"zaxis\\\":{\\\"gridcolor\\\":\\\"white\\\",\\\"gridwidth\\\":2,\\\"backgroundcolor\\\":\\\"#E5ECF6\\\",\\\"ticks\\\":\\\"\\\",\\\"showbackground\\\":true,\\\"zerolinecolor\\\":\\\"white\\\",\\\"linecolor\\\":\\\"white\\\"},\\\"yaxis\\\":{\\\"gridcolor\\\":\\\"white\\\",\\\"gridwidth\\\":2,\\\"backgroundcolor\\\":\\\"#E5ECF6\\\",\\\"ticks\\\":\\\"\\\",\\\"showbackground\\\":true,\\\"zerolinecolor\\\":\\\"white\\\",\\\"linecolor\\\":\\\"white\\\"}},\\\"colorway\\\":[\\\"#636efa\\\",\\\"#EF553B\\\",\\\"#00cc96\\\",\\\"#ab63fa\\\",\\\"#FFA15A\\\",\\\"#19d3f3\\\",\\\"#FF6692\\\",\\\"#B6E880\\\",\\\"#FF97FF\\\",\\\"#FECB52\\\"]},\\\"data\\\":{\\\"barpolar\\\":[{\\\"type\\\":\\\"barpolar\\\",\\\"marker\\\":{\\\"line\\\":{\\\"color\\\":\\\"#E5ECF6\\\",\\\"width\\\":0.5}}}],\\\"carpet\\\":[{\\\"aaxis\\\":{\\\"gridcolor\\\":\\\"white\\\",\\\"endlinecolor\\\":\\\"#2a3f5f\\\",\\\"minorgridcolor\\\":\\\"white\\\",\\\"startlinecolor\\\":\\\"#2a3f5f\\\",\\\"linecolor\\\":\\\"white\\\"},\\\"type\\\":\\\"carpet\\\",\\\"baxis\\\":{\\\"gridcolor\\\":\\\"white\\\",\\\"endlinecolor\\\":\\\"#2a3f5f\\\",\\\"minorgridcolor\\\":\\\"white\\\",\\\"startlinecolor\\\":\\\"#2a3f5f\\\",\\\"linecolor\\\":\\\"white\\\"}}],\\\"scatterpolar\\\":[{\\\"type\\\":\\\"scatterpolar\\\",\\\"marker\\\":{\\\"colorbar\\\":{\\\"ticks\\\":\\\"\\\",\\\"outlinewidth\\\":0}}}],\\\"parcoords\\\":[{\\\"line\\\":{\\\"colorbar\\\":{\\\"ticks\\\":\\\"\\\",\\\"outlinewidth\\\":0}},\\\"type\\\":\\\"parcoords\\\"}],\\\"scatter\\\":[{\\\"type\\\":\\\"scatter\\\",\\\"marker\\\":{\\\"colorbar\\\":{\\\"ticks\\\":\\\"\\\",\\\"outlinewidth\\\":0}}}],\\\"histogram2dcontour\\\":[{\\\"colorbar\\\":{\\\"ticks\\\":\\\"\\\",\\\"outlinewidth\\\":0},\\\"type\\\":\\\"histogram2dcontour\\\",\\\"colorscale\\\":[[0.0,\\\"#0d0887\\\"],[0.1111111111111111,\\\"#46039f\\\"],[0.2222222222222222,\\\"#7201a8\\\"],[0.3333333333333333,\\\"#9c179e\\\"],[0.4444444444444444,\\\"#bd3786\\\"],[0.5555555555555556,\\\"#d8576b\\\"],[0.6666666666666666,\\\"#ed7953\\\"],[0.7777777777777778,\\\"#fb9f3a\\\"],[0.8888888888888888,\\\"#fdca26\\\"],[1.0,\\\"#f0f921\\\"]]}],\\\"contour\\\":[{\\\"colorbar\\\":{\\\"ticks\\\":\\\"\\\",\\\"outlinewidth\\\":0},\\\"type\\\":\\\"contour\\\",\\\"colorscale\\\":[[0.0,\\\"#0d0887\\\"],[0.1111111111111111,\\\"#46039f\\\"],[0.2222222222222222,\\\"#7201a8\\\"],[0.3333333333333333,\\\"#9c179e\\\"],[0.4444444444444444,\\\"#bd3786\\\"],[0.5555555555555556,\\\"#d8576b\\\"],[0.6666666666666666,\\\"#ed7953\\\"],[0.7777777777777778,\\\"#fb9f3a\\\"],[0.8888888888888888,\\\"#fdca26\\\"],[1.0,\\\"#f0f921\\\"]]}],\\\"scattercarpet\\\":[{\\\"type\\\":\\\"scattercarpet\\\",\\\"marker\\\":{\\\"colorbar\\\":{\\\"ticks\\\":\\\"\\\",\\\"outlinewidth\\\":0}}}],\\\"mesh3d\\\":[{\\\"colorbar\\\":{\\\"ticks\\\":\\\"\\\",\\\"outlinewidth\\\":0},\\\"type\\\":\\\"mesh3d\\\"}],\\\"surface\\\":[{\\\"colorbar\\\":{\\\"ticks\\\":\\\"\\\",\\\"outlinewidth\\\":0},\\\"type\\\":\\\"surface\\\",\\\"colorscale\\\":[[0.0,\\\"#0d0887\\\"],[0.1111111111111111,\\\"#46039f\\\"],[0.2222222222222222,\\\"#7201a8\\\"],[0.3333333333333333,\\\"#9c179e\\\"],[0.4444444444444444,\\\"#bd3786\\\"],[0.5555555555555556,\\\"#d8576b\\\"],[0.6666666666666666,\\\"#ed7953\\\"],[0.7777777777777778,\\\"#fb9f3a\\\"],[0.8888888888888888,\\\"#fdca26\\\"],[1.0,\\\"#f0f921\\\"]]}],\\\"scattermapbox\\\":[{\\\"type\\\":\\\"scattermapbox\\\",\\\"marker\\\":{\\\"colorbar\\\":{\\\"ticks\\\":\\\"\\\",\\\"outlinewidth\\\":0}}}],\\\"scattergeo\\\":[{\\\"type\\\":\\\"scattergeo\\\",\\\"marker\\\":{\\\"colorbar\\\":{\\\"ticks\\\":\\\"\\\",\\\"outlinewidth\\\":0}}}],\\\"histogram\\\":[{\\\"type\\\":\\\"histogram\\\",\\\"marker\\\":{\\\"colorbar\\\":{\\\"ticks\\\":\\\"\\\",\\\"outlinewidth\\\":0}}}],\\\"pie\\\":[{\\\"type\\\":\\\"pie\\\",\\\"automargin\\\":true}],\\\"choropleth\\\":[{\\\"colorbar\\\":{\\\"ticks\\\":\\\"\\\",\\\"outlinewidth\\\":0},\\\"type\\\":\\\"choropleth\\\"}],\\\"heatmapgl\\\":[{\\\"colorbar\\\":{\\\"ticks\\\":\\\"\\\",\\\"outlinewidth\\\":0},\\\"type\\\":\\\"heatmapgl\\\",\\\"colorscale\\\":[[0.0,\\\"#0d0887\\\"],[0.1111111111111111,\\\"#46039f\\\"],[0.2222222222222222,\\\"#7201a8\\\"],[0.3333333333333333,\\\"#9c179e\\\"],[0.4444444444444444,\\\"#bd3786\\\"],[0.5555555555555556,\\\"#d8576b\\\"],[0.6666666666666666,\\\"#ed7953\\\"],[0.7777777777777778,\\\"#fb9f3a\\\"],[0.8888888888888888,\\\"#fdca26\\\"],[1.0,\\\"#f0f921\\\"]]}],\\\"bar\\\":[{\\\"type\\\":\\\"bar\\\",\\\"error_y\\\":{\\\"color\\\":\\\"#2a3f5f\\\"},\\\"error_x\\\":{\\\"color\\\":\\\"#2a3f5f\\\"},\\\"marker\\\":{\\\"line\\\":{\\\"color\\\":\\\"#E5ECF6\\\",\\\"width\\\":0.5}}}],\\\"heatmap\\\":[{\\\"colorbar\\\":{\\\"ticks\\\":\\\"\\\",\\\"outlinewidth\\\":0},\\\"type\\\":\\\"heatmap\\\",\\\"colorscale\\\":[[0.0,\\\"#0d0887\\\"],[0.1111111111111111,\\\"#46039f\\\"],[0.2222222222222222,\\\"#7201a8\\\"],[0.3333333333333333,\\\"#9c179e\\\"],[0.4444444444444444,\\\"#bd3786\\\"],[0.5555555555555556,\\\"#d8576b\\\"],[0.6666666666666666,\\\"#ed7953\\\"],[0.7777777777777778,\\\"#fb9f3a\\\"],[0.8888888888888888,\\\"#fdca26\\\"],[1.0,\\\"#f0f921\\\"]]}],\\\"contourcarpet\\\":[{\\\"colorbar\\\":{\\\"ticks\\\":\\\"\\\",\\\"outlinewidth\\\":0},\\\"type\\\":\\\"contourcarpet\\\"}],\\\"table\\\":[{\\\"type\\\":\\\"table\\\",\\\"header\\\":{\\\"line\\\":{\\\"color\\\":\\\"white\\\"},\\\"fill\\\":{\\\"color\\\":\\\"#C8D4E3\\\"}},\\\"cells\\\":{\\\"line\\\":{\\\"color\\\":\\\"white\\\"},\\\"fill\\\":{\\\"color\\\":\\\"#EBF0F8\\\"}}}],\\\"scatter3d\\\":[{\\\"line\\\":{\\\"colorbar\\\":{\\\"ticks\\\":\\\"\\\",\\\"outlinewidth\\\":0}},\\\"type\\\":\\\"scatter3d\\\",\\\"marker\\\":{\\\"colorbar\\\":{\\\"ticks\\\":\\\"\\\",\\\"outlinewidth\\\":0}}}],\\\"scattergl\\\":[{\\\"type\\\":\\\"scattergl\\\",\\\"marker\\\":{\\\"colorbar\\\":{\\\"ticks\\\":\\\"\\\",\\\"outlinewidth\\\":0}}}],\\\"histogram2d\\\":[{\\\"colorbar\\\":{\\\"ticks\\\":\\\"\\\",\\\"outlinewidth\\\":0},\\\"type\\\":\\\"histogram2d\\\",\\\"colorscale\\\":[[0.0,\\\"#0d0887\\\"],[0.1111111111111111,\\\"#46039f\\\"],[0.2222222222222222,\\\"#7201a8\\\"],[0.3333333333333333,\\\"#9c179e\\\"],[0.4444444444444444,\\\"#bd3786\\\"],[0.5555555555555556,\\\"#d8576b\\\"],[0.6666666666666666,\\\"#ed7953\\\"],[0.7777777777777778,\\\"#fb9f3a\\\"],[0.8888888888888888,\\\"#fdca26\\\"],[1.0,\\\"#f0f921\\\"]]}],\\\"scatterternary\\\":[{\\\"type\\\":\\\"scatterternary\\\",\\\"marker\\\":{\\\"colorbar\\\":{\\\"ticks\\\":\\\"\\\",\\\"outlinewidth\\\":0}}}],\\\"scatterpolargl\\\":[{\\\"type\\\":\\\"scatterpolargl\\\",\\\"marker\\\":{\\\"colorbar\\\":{\\\"ticks\\\":\\\"\\\",\\\"outlinewidth\\\":0}}}]}},\\\"legend\\\":{\\\"title\\\":\\\"Legend Title\\\"},\\\"margin\\\":{\\\"l\\\":50,\\\"b\\\":50,\\\"r\\\":50,\\\"t\\\":60},\\\"title\\\":\\\"Temperature Model\\\",\\\"yaxis\\\":{\\\"title\\\":{\\\"text\\\":\\\"Velocity (meters \\/ seconds)\\\"}}},{\\\"showLink\\\":false,\\\"editable\\\":false,\\\"responsive\\\":true,\\\"staticPlot\\\":false,\\\"scrollZoom\\\":true}); gd.on(\\\"plotly_hover\\\",(function (data){var filtered_data=WebIO.PlotlyCommands.filterEventData(gd,data,\\\"hover\\\"); return !(filtered_data.isnil) ? (WebIO.setval({\\\"name\\\":\\\"hover\\\",\\\"scope\\\":\\\"16193652564865646092\\\",\\\"id\\\":\\\"1624878186792900315\\\",\\\"type\\\":\\\"observable\\\"},filtered_data.out)) : undefined})); gd.on(\\\"plotly_unhover\\\",(function (){return WebIO.setval({\\\"name\\\":\\\"hover\\\",\\\"scope\\\":\\\"16193652564865646092\\\",\\\"id\\\":\\\"1624878186792900315\\\",\\\"type\\\":\\\"observable\\\"},{})})); gd.on(\\\"plotly_selected\\\",(function (data){var filtered_data=WebIO.PlotlyCommands.filterEventData(gd,data,\\\"selected\\\"); return !(filtered_data.isnil) ? (WebIO.setval({\\\"name\\\":\\\"selected\\\",\\\"scope\\\":\\\"16193652564865646092\\\",\\\"id\\\":\\\"16908563509791912754\\\",\\\"type\\\":\\\"observable\\\"},filtered_data.out)) : undefined})); gd.on(\\\"plotly_deselect\\\",(function (){return WebIO.setval({\\\"name\\\":\\\"selected\\\",\\\"scope\\\":\\\"16193652564865646092\\\",\\\"id\\\":\\\"16908563509791912754\\\",\\\"type\\\":\\\"observable\\\"},{})})); gd.on(\\\"plotly_relayout\\\",(function (data){var filtered_data=WebIO.PlotlyCommands.filterEventData(gd,data,\\\"relayout\\\"); return !(filtered_data.isnil) ? (WebIO.setval({\\\"name\\\":\\\"relayout\\\",\\\"scope\\\":\\\"16193652564865646092\\\",\\\"id\\\":\\\"17012457456618023591\\\",\\\"type\\\":\\\"observable\\\"},filtered_data.out)) : undefined})); return gd.on(\\\"plotly_click\\\",(function (data){var filtered_data=WebIO.PlotlyCommands.filterEventData(gd,data,\\\"click\\\"); return !(filtered_data.isnil) ? (WebIO.setval({\\\"name\\\":\\\"click\\\",\\\"scope\\\":\\\"16193652564865646092\\\",\\\"id\\\":\\\"16546669722028740159\\\",\\\"type\\\":\\\"observable\\\"},filtered_data.out)) : undefined}))}));\\n    (WebIO.importBlock({\\\"data\\\":[{\\\"name\\\":\\\"Plotly\\\",\\\"type\\\":\\\"js\\\",\\\"url\\\":\\\"\\/assetserver\\/627f17ff06762af3874159c00b9b1e00e50688bc-plotly.min.js\\\"},{\\\"name\\\":null,\\\"type\\\":\\\"js\\\",\\\"url\\\":\\\"\\/assetserver\\/1a276a0acb11ad47020d3f379225d41bbd0aeef0-plotly_webio.bundle.js\\\"}],\\\"type\\\":\\\"async_block\\\"})).then((imports) => handler.apply(this, imports));\\n}\\n\"],\"observables\":{\"_toImage\":{\"sync\":false,\"id\":\"2712284477668768212\",\"value\":{}},\"hover\":{\"sync\":false,\"id\":\"1624878186792900315\",\"value\":{}},\"selected\":{\"sync\":false,\"id\":\"16908563509791912754\",\"value\":{}},\"__gd_contents\":{\"sync\":false,\"id\":\"18157321918790787974\",\"value\":{}},\"click\":{\"sync\":false,\"id\":\"16546669722028740159\",\"value\":{}},\"image\":{\"sync\":true,\"id\":\"13153156761412938070\",\"value\":\"\"},\"__get_gd_contents\":{\"sync\":false,\"id\":\"10474036481103976228\",\"value\":\"\"},\"_downloadImage\":{\"sync\":false,\"id\":\"8918480700366288161\",\"value\":{}},\"relayout\":{\"sync\":false,\"id\":\"17012457456618023591\",\"value\":{}},\"_commands\":{\"sync\":false,\"id\":\"6951464110427597308\",\"value\":[]}}},\"children\":[{\"props\":{\"id\":\"plot-20e3543e-b548-40bc-93cb-313889ac2440\"},\"nodeType\":\"DOM\",\"type\":\"node\",\"instanceArgs\":{\"namespace\":\"html\",\"tag\":\"div\"},\"children\":[]}]},\n",
       "        window,\n",
       "    );\n",
       "    })()\n",
       "    </script>\n",
       "</div>\n"
      ],
      "text/plain": [
       "data: [\n",
       "  \"scatter with fields mode, type, x, and y\"\n",
       "]\n",
       "\n",
       "layout: \"layout with fields legend, margin, template, title, xaxis, and yaxis\"\n",
       "\n"
      ]
     },
     "execution_count": 326,
     "metadata": {},
     "output_type": "execute_result"
    }
   ],
   "source": [
    "altitude_range_m = 0.0:100.0:3000.0\n",
    "\n",
    "plot(\n",
    "    [\n",
    "        scatter(\n",
    "            mode=\"markers+lines\",\n",
    "            x=altitude_range_m,\n",
    "            y=[get_temperature_K(A) for A in altitude_range_m]\n",
    "        )\n",
    "    ],\n",
    "    Layout(\n",
    "        title=\"Temperature Model\",\n",
    "        xaxis_title=\"Altitude (meters)\",\n",
    "        yaxis_title=\"Velocity (meters / seconds)\",\n",
    "        legend_title=\"Legend Title\",\n",
    "    ),\n",
    "    config=PlotConfig(scrollZoom=true)\n",
    ")"
   ]
  },
  {
   "cell_type": "markdown",
   "id": "811e16aa",
   "metadata": {},
   "source": [
    "With those two models established, let's define the observation matrix as\n",
    "\n",
    "$$\n",
    "\\begin{align}\n",
    "H &= H(t) \\\\\n",
    "&=\n",
    "\\begin{bmatrix}\n",
    "T(a)/a \\\\\n",
    "-L/(v_\\infty(300) - v_\\infty(T(a)))\n",
    "\\end{bmatrix}\n",
    "\\end{align}\n",
    "$$\n",
    "\n",
    "where $a$ is the altitude, $T$ is the temperature as a function of $a$, and $L$ is a tuning parameter"
   ]
  },
  {
   "cell_type": "code",
   "execution_count": 327,
   "id": "be7891ef",
   "metadata": {},
   "outputs": [],
   "source": [
    "function get_observation_mat(\n",
    "        altitude_m::Float64,\n",
    "        vary_temperature_slope_by::Float64=0.0,\n",
    "        vary_temperature_intercept_by::Float64=0.0\n",
    "    )::Matrix{Float64}\n",
    "    \"\"\"Get the observation matrix\n",
    "    \n",
    "    :param altitude_m: Altitude in meters\n",
    "    :param vary_temperature_slope_by: Positive definite constant to vary the slope of temperature changes\n",
    "    :param vary_temperature_intercept_by: Positive definite constant to vary the intercept of temperature changes \n",
    "    :returns: Matrix\n",
    "    \"\"\"\n",
    "    temperature_K = get_temperature_K(altitude_m, \n",
    "                                  vary_temperature_slope_by, \n",
    "                                  vary_temperature_intercept_by)\n",
    "    velocity_terminal_ms = get_velocity_infinity_ms(temperature_K)\n",
    "    observation_mat = [temperature_K/altitude_m -2.0/(get_velocity_infinity_ms(300.0) - velocity_terminal_ms)]\n",
    "#     observation_mat = [temperature_K/altitude_m 0.0]\n",
    "    return observation_mat\n",
    "end;"
   ]
  },
  {
   "cell_type": "markdown",
   "id": "576b5982",
   "metadata": {},
   "source": [
    "Let's consider the state transition and control matrices. They are given by\n",
    "$$\n",
    "\\begin{align}\n",
    "x_n =& F x_{n-1} + G u \\\\\n",
    "    =& \n",
    "\\begin{bmatrix}\n",
    "1 & \\Delta t \\\\\n",
    "0 & 1\n",
    "\\end{bmatrix}\n",
    "\\begin{bmatrix}\n",
    "h_{n-1} \\\\\n",
    "v_{n-1}\n",
    "\\end{bmatrix}\n",
    "+\n",
    "\\begin{bmatrix}\n",
    "\\frac{1}{2} a(T) \\left(\\Delta t\\right)^2 + \\frac{1}{3!} j(T) \\left(\\Delta t\\right)^3 & 0 \\\\\n",
    "0 & a(T) \\Delta t + \\frac{1}{2} j(T) \\left(\\Delta t\\right)^2\n",
    "\\end{bmatrix}\n",
    "\\begin{bmatrix}\n",
    "1 \\\\\n",
    "1\n",
    "\\end{bmatrix} \\\\\n",
    "\\begin{bmatrix}\n",
    "h_n \\\\\n",
    "v_n\n",
    "\\end{bmatrix}\n",
    "=& \n",
    "\\begin{bmatrix}\n",
    "h(t_{n-1}) + v(t_{n-1}) \\Delta t + \\frac{1}{2} a(t_n) \\left(\\Delta t\\right)^2 + \\frac{1}{3!} j(t_{n-1}) \\left(\\Delta t\\right)^3 \\\\\n",
    "v(t_{n-1}) + a(t_{n-1}) \\Delta t + \\frac{1}{2} j(t_{n-1}) \\left(\\Delta t\\right)^2\n",
    "\\end{bmatrix}\n",
    "\\end{align}\n",
    "$$"
   ]
  },
  {
   "cell_type": "code",
   "execution_count": 328,
   "id": "0e0b4b8d",
   "metadata": {},
   "outputs": [],
   "source": [
    "function get_control_mat(\n",
    "        state_vec::Vector,\n",
    "        total_time_sec::Float64,\n",
    "        delta_time_sec::Float64\n",
    "    )::Matrix{Float64}\n",
    "    \"\"\"Get the control matrix\n",
    "    \n",
    "    :param state_vec: State vector\n",
    "    :param total_time_sec: Total time of system measurements\n",
    "    :param delta_time_sec: Time differential between measurements\n",
    "    :returns: Matrix\n",
    "    \"\"\"\n",
    "\n",
    "    temperature_K = get_temperature_K(state_vec[1])\n",
    "    vel_inf_ms = get_velocity_infinity_ms(temperature_K)\n",
    "    arg = accel_ms2 * total_time_sec / vel_inf_ms\n",
    "    current_acceleration_ms2 = accel_ms2 * sech(arg)^2\n",
    "    current_jerk_ms3 = -2 * accel_ms2^2 / vel_inf_ms * sech(arg)^2 * tanh(arg)\n",
    "    control_mat11 = (1. / factorial(2) * current_acceleration_ms2 * delta_time_sec^2\n",
    "                     + 1. / factorial(3) * current_jerk_ms3 * delta_time_sec^3)\n",
    "    control_mat_12 = 0.\n",
    "    control_mat_21 = 0.\n",
    "    control_mat_22 = (current_acceleration_ms2 * delta_time_sec\n",
    "                       + 1. / factorial(2) * current_jerk_ms3 * delta_time_sec^2)\n",
    "    control_mat = [control_mat11 control_mat_12; control_mat_21 control_mat_22]\n",
    "    return control_mat\n",
    "end;"
   ]
  },
  {
   "cell_type": "code",
   "execution_count": 329,
   "id": "76f11b5e",
   "metadata": {},
   "outputs": [],
   "source": [
    "function get_model_estimate(\n",
    "        state_vec::Vector,\n",
    "        total_time_sec::Float64,\n",
    "        delta_time_sec::Float64\n",
    "    )::Vector{Float64}\n",
    "    \"\"\"Get the model estimate for current state\n",
    "\n",
    "    :param state_vec: State vector\n",
    "    :param total_time_sec: Total time of system measurements\n",
    "    :param delta_time_sec: Time differential between measurements\n",
    "    :returns: Vector\n",
    "    \"\"\"\n",
    "\n",
    "    state_transition = [1.0 delta_time_sec; 0.0 1.0]\n",
    "    control_mat = get_control_mat(state_vec, total_time_sec, delta_time_sec)\n",
    "    external_input_vector = Vector([1, 1])\n",
    "    model_estimate_vec = (state_transition * state_vec\n",
    "                          + control_mat * external_input_vector)\n",
    "    return model_estimate_vec\n",
    "end\n",
    "\n",
    "function get_measurement_vec(\n",
    "        true_state::Vector,\n",
    "        vary_temperature_slope_by::Float64=0.0,\n",
    "        vary_temperature_intercept_by::Float64=0.0\n",
    "    )::Vector{Float64}\n",
    "    \"\"\"Get the simulated measurement as a function of the true state\n",
    "\n",
    "    :param true_state: True state vector\n",
    "    :param vary_temperature_slope_by: Positive definite constant to vary the slope of temperature changes\n",
    "    :param vary_temperature_intercept_by: Positive definite constant to vary the intercept of temperature changes \n",
    "    :returns: Measurement vector\n",
    "    \"\"\"\n",
    "    \"\"\"Get the next measurement\n",
    "    In a 'real' physical system, we would not need to simulate the measurement\"\"\"\n",
    "\n",
    "    altitude_m = true_state[1]\n",
    "    observation_mat = get_observation_mat(altitude_m, \n",
    "                                          vary_temperature_slope_by, \n",
    "                                          vary_temperature_intercept_by)\n",
    "\n",
    "    measurement_vec::Vector = observation_mat * true_state + artificial_noise_K\n",
    "    return measurement_vec\n",
    "\n",
    "end;"
   ]
  },
  {
   "cell_type": "code",
   "execution_count": 330,
   "id": "b49028c4",
   "metadata": {},
   "outputs": [],
   "source": [
    "\"\"\"Use these two variables to simulate differences variations between the truth and observation\n",
    "for the temperature vs altitude\n",
    "\"\"\"\n",
    "temperature_variation_slope = 0.0\n",
    "temperature_variation_intercept = 0.0\n",
    "\n",
    "\"\"\"Temperature variations\"\"\"\n",
    "artificial_noise_K = 0.1 * randn(1) # Kelvin\n",
    "observation_cov = 5.0^2 * I(1)  # Kelvin^2\n",
    "\n",
    "\"\"\"Define a system where a falling object is thought to be released at rest \n",
    "at 3 km above the Earth's surface with wind resistence. The true position \n",
    "is 3020.\n",
    "\"\"\"\n",
    "true_state_vector = Vector([3020.0, +0.05])\n",
    "initial_state_vector = Vector([3000.0, -0.001])\n",
    "initial_state_cov = Diagonal([1000.0^2, 10.0^2])\n",
    "initial_state = kfstate{Float64}(initial_state_vector, initial_state_cov)\n",
    "\n",
    "\"\"\"Initialize the transition and control matrices at first time step\"\"\"\n",
    "state_transition_mat = [1.0 delta_time_sec; 0.0 1.0]\n",
    "control_mat = get_control_mat(initial_state_vector, delta_time_sec, delta_time_sec)\n",
    "system_noise_mat = [10.0^2 0; 0 1.0^2]\n",
    "external_input_vector = Vector([1, 1])\n",
    "system = kfsystem{Float64}(state_transition_mat, control_mat, system_noise_mat)\n",
    "\n",
    "\"\"\"Initialize the observation matrix\"\"\"\n",
    "observation_mat = get_observation_mat(initial_state.state[1],\n",
    "                              temperature_variation_slope,\n",
    "                              temperature_variation_intercept)\n",
    "observations = kfobservation{Float64}(observation_mat, observation_cov);"
   ]
  },
  {
   "cell_type": "code",
   "execution_count": 331,
   "id": "c241649d",
   "metadata": {},
   "outputs": [],
   "source": [
    "next_state = kfstate{Float64}(initial_state.state, initial_state.cov)\n",
    "states_fcn_time = Vector{kfstate{Float64}}(undef, time_steps)\n",
    "true_state_fcn_time = Array{Vector{Float64}}(undef, time_steps)\n",
    "measurements_array = Array{Float64}(undef, time_steps);"
   ]
  },
  {
   "cell_type": "code",
   "execution_count": 332,
   "id": "2c288fed",
   "metadata": {},
   "outputs": [],
   "source": [
    "for step in 1:time_steps\n",
    "\n",
    "    # At current time, get measurement\n",
    "    time_sec = step * delta_time_sec\n",
    "    true_state_vector = get_model_estimate(true_state_vector, time_sec, delta_time_sec)\n",
    "    measurement_vec = get_measurement_vec(true_state_vector,\n",
    "                                      temperature_variation_slope,\n",
    "                                      temperature_variation_intercept)\n",
    "    true_state_fcn_time[step] = true_state_vector\n",
    "    \n",
    "    # Predict the next state\n",
    "    predicted_state = extrapulate_state(next_state, system, external_input_vector)\n",
    "\n",
    "    # Update the estimate\n",
    "    next_state = update_state(predicted_state, observations, measurement_vec)\n",
    "\n",
    "    # Update the system control and observation matrix for the next measurement\n",
    "    new_control_mat = get_control_mat(next_state.state, time_sec, delta_time_sec)\n",
    "    system.control = new_control_mat\n",
    "    new_observations_mat = get_observation_mat(next_state.state[1],\n",
    "                                               temperature_variation_slope,\n",
    "                                               temperature_variation_intercept)\n",
    "    observations.obs = new_observations_mat\n",
    "\n",
    "    # Save the results\n",
    "    measurements_array[step] = measurement_vec[1]\n",
    "    states_fcn_time[step] = next_state\n",
    "\n",
    "end"
   ]
  },
  {
   "cell_type": "code",
   "execution_count": 333,
   "id": "d1133cce",
   "metadata": {},
   "outputs": [
    {
     "data": {
      "application/vnd.plotly.v1+json": {
       "config": {
        "editable": false,
        "responsive": true,
        "scrollZoom": true,
        "showLink": false,
        "staticPlot": false
       },
       "data": [
        {
         "mode": "markers",
         "name": "Measurement",
         "type": "scatter",
         "x": [
          0,
          0.15,
          0.3,
          0.44999999999999996,
          0.6,
          0.75,
          0.8999999999999999,
          1.05,
          1.2,
          1.3499999999999999,
          1.5,
          1.65,
          1.7999999999999998,
          1.95,
          2.1,
          2.25,
          2.4,
          2.55,
          2.6999999999999997,
          2.85,
          3,
          3.15,
          3.3,
          3.4499999999999997,
          3.5999999999999996,
          3.75,
          3.9,
          4.05,
          4.2,
          4.35,
          4.5,
          4.6499999999999995,
          4.8,
          4.95,
          5.1,
          5.25,
          5.3999999999999995,
          5.55,
          5.7,
          5.85,
          6,
          6.1499999999999995,
          6.3,
          6.45,
          6.6,
          6.75,
          6.8999999999999995,
          7.05,
          7.199999999999999,
          7.35,
          7.5,
          7.6499999999999995,
          7.8,
          7.949999999999999,
          8.1,
          8.25,
          8.4,
          8.549999999999999,
          8.7,
          8.85,
          9,
          9.15,
          9.299999999999999,
          9.45,
          9.6,
          9.75,
          9.9,
          10.049999999999999,
          10.2,
          10.35,
          10.5,
          10.65,
          10.799999999999999,
          10.95,
          11.1,
          11.25,
          11.4,
          11.549999999999999,
          11.7,
          11.85,
          12,
          12.15,
          12.299999999999999,
          12.45,
          12.6,
          12.75,
          12.9,
          13.049999999999999,
          13.2,
          13.35,
          13.5,
          13.65,
          13.799999999999999,
          13.95,
          14.1,
          14.25,
          14.399999999999999,
          14.549999999999999,
          14.7,
          14.85
         ],
         "y": [
          267.445695556788,
          266.8288780773738,
          266.2160546926947,
          265.60799851403897,
          265.0054628059503,
          264.40917704111314,
          263.81984321445475,
          263.23813245399987,
          262.6646819604656,
          262.10009230158755,
          261.5449250808695,
          260.9997009940327,
          260.4648982800522,
          259.94095156746926,
          259.42825111079054,
          258.9271424063472,
          258.437926172091,
          257.96085867151777,
          257.4961523582869,
          257.04397681518236,
          256.6044599588304,
          256.1776894800542,
          255.7637144888645,
          255.362547332821,
          254.97416555779282,
          254.59851398093687,
          254.23550684692688,
          253.88503004003672,
          253.54694332653543,
          253.22108260391593,
          252.90726213569368,
          252.60527675281048,
          252.31490400500962,
          252.0359062478625,
          251.7680326533844,
          251.51102113434132,
          251.2646001743972,
          251.02849055815807,
          250.80240699692442,
          250.58605964755372,
          250.3791555232605,
          250.1813997964372,
          249.99249699467433,
          249.81215209209108,
          249.6400714988737,
          249.47596395256272,
          249.31954131514445,
          249.17051928039837,
          249.0286179962414,
          248.89356260700444,
          248.76508372068753,
          248.64291780627946,
          248.5268075262027,
          248.41650200887094,
          248.31175706622642,
          248.21233536097094,
          248.11800652802333,
          248.0285472545332,
          247.94374132256286,
          247.86337961832257,
          247.78726011160813,
          247.7151878088564,
          247.64697468299664,
          247.5824395830462,
          247.52140812617125,
          247.46371257471552,
          247.4091917004899,
          247.3576906384143,
          247.309060731413,
          247.26315936828544,
          247.2198498161044,
          247.17900104853572,
          247.14048757132673,
          247.10418924607274,
          247.06999111324572,
          247.0377832153518,
          247.00746042097745,
          246.97892225038618,
          246.95207270323846,
          246.92682008892578,
          246.90307685993616,
          246.8807594486024,
          246.85978810752263,
          246.84008675389134,
          246.82158281792792,
          246.80420709554886,
          246.78789360539074,
          246.7725794502564,
          246.75820468302845,
          246.74471217706656,
          246.73204750108292,
          246.72015879847012,
          246.70899667103808,
          246.6985140671031,
          246.68866617385837,
          246.6794103139451,
          246.6707058461357,
          246.6625140700312,
          246.6547981346721,
          246.64752295095445
         ]
        }
       ],
       "frames": [],
       "layout": {
        "legend": {
         "title": "Legend Title"
        },
        "margin": {
         "b": 50,
         "l": 50,
         "r": 50,
         "t": 60
        },
        "template": {
         "data": {
          "bar": [
           {
            "error_x": {
             "color": "#2a3f5f"
            },
            "error_y": {
             "color": "#2a3f5f"
            },
            "marker": {
             "line": {
              "color": "#E5ECF6",
              "width": 0.5
             }
            },
            "type": "bar"
           }
          ],
          "barpolar": [
           {
            "marker": {
             "line": {
              "color": "#E5ECF6",
              "width": 0.5
             }
            },
            "type": "barpolar"
           }
          ],
          "carpet": [
           {
            "aaxis": {
             "endlinecolor": "#2a3f5f",
             "gridcolor": "white",
             "linecolor": "white",
             "minorgridcolor": "white",
             "startlinecolor": "#2a3f5f"
            },
            "baxis": {
             "endlinecolor": "#2a3f5f",
             "gridcolor": "white",
             "linecolor": "white",
             "minorgridcolor": "white",
             "startlinecolor": "#2a3f5f"
            },
            "type": "carpet"
           }
          ],
          "choropleth": [
           {
            "colorbar": {
             "outlinewidth": 0,
             "ticks": ""
            },
            "type": "choropleth"
           }
          ],
          "contour": [
           {
            "colorbar": {
             "outlinewidth": 0,
             "ticks": ""
            },
            "colorscale": [
             [
              0,
              "#0d0887"
             ],
             [
              0.1111111111111111,
              "#46039f"
             ],
             [
              0.2222222222222222,
              "#7201a8"
             ],
             [
              0.3333333333333333,
              "#9c179e"
             ],
             [
              0.4444444444444444,
              "#bd3786"
             ],
             [
              0.5555555555555556,
              "#d8576b"
             ],
             [
              0.6666666666666666,
              "#ed7953"
             ],
             [
              0.7777777777777778,
              "#fb9f3a"
             ],
             [
              0.8888888888888888,
              "#fdca26"
             ],
             [
              1,
              "#f0f921"
             ]
            ],
            "type": "contour"
           }
          ],
          "contourcarpet": [
           {
            "colorbar": {
             "outlinewidth": 0,
             "ticks": ""
            },
            "type": "contourcarpet"
           }
          ],
          "heatmap": [
           {
            "colorbar": {
             "outlinewidth": 0,
             "ticks": ""
            },
            "colorscale": [
             [
              0,
              "#0d0887"
             ],
             [
              0.1111111111111111,
              "#46039f"
             ],
             [
              0.2222222222222222,
              "#7201a8"
             ],
             [
              0.3333333333333333,
              "#9c179e"
             ],
             [
              0.4444444444444444,
              "#bd3786"
             ],
             [
              0.5555555555555556,
              "#d8576b"
             ],
             [
              0.6666666666666666,
              "#ed7953"
             ],
             [
              0.7777777777777778,
              "#fb9f3a"
             ],
             [
              0.8888888888888888,
              "#fdca26"
             ],
             [
              1,
              "#f0f921"
             ]
            ],
            "type": "heatmap"
           }
          ],
          "heatmapgl": [
           {
            "colorbar": {
             "outlinewidth": 0,
             "ticks": ""
            },
            "colorscale": [
             [
              0,
              "#0d0887"
             ],
             [
              0.1111111111111111,
              "#46039f"
             ],
             [
              0.2222222222222222,
              "#7201a8"
             ],
             [
              0.3333333333333333,
              "#9c179e"
             ],
             [
              0.4444444444444444,
              "#bd3786"
             ],
             [
              0.5555555555555556,
              "#d8576b"
             ],
             [
              0.6666666666666666,
              "#ed7953"
             ],
             [
              0.7777777777777778,
              "#fb9f3a"
             ],
             [
              0.8888888888888888,
              "#fdca26"
             ],
             [
              1,
              "#f0f921"
             ]
            ],
            "type": "heatmapgl"
           }
          ],
          "histogram": [
           {
            "marker": {
             "colorbar": {
              "outlinewidth": 0,
              "ticks": ""
             }
            },
            "type": "histogram"
           }
          ],
          "histogram2d": [
           {
            "colorbar": {
             "outlinewidth": 0,
             "ticks": ""
            },
            "colorscale": [
             [
              0,
              "#0d0887"
             ],
             [
              0.1111111111111111,
              "#46039f"
             ],
             [
              0.2222222222222222,
              "#7201a8"
             ],
             [
              0.3333333333333333,
              "#9c179e"
             ],
             [
              0.4444444444444444,
              "#bd3786"
             ],
             [
              0.5555555555555556,
              "#d8576b"
             ],
             [
              0.6666666666666666,
              "#ed7953"
             ],
             [
              0.7777777777777778,
              "#fb9f3a"
             ],
             [
              0.8888888888888888,
              "#fdca26"
             ],
             [
              1,
              "#f0f921"
             ]
            ],
            "type": "histogram2d"
           }
          ],
          "histogram2dcontour": [
           {
            "colorbar": {
             "outlinewidth": 0,
             "ticks": ""
            },
            "colorscale": [
             [
              0,
              "#0d0887"
             ],
             [
              0.1111111111111111,
              "#46039f"
             ],
             [
              0.2222222222222222,
              "#7201a8"
             ],
             [
              0.3333333333333333,
              "#9c179e"
             ],
             [
              0.4444444444444444,
              "#bd3786"
             ],
             [
              0.5555555555555556,
              "#d8576b"
             ],
             [
              0.6666666666666666,
              "#ed7953"
             ],
             [
              0.7777777777777778,
              "#fb9f3a"
             ],
             [
              0.8888888888888888,
              "#fdca26"
             ],
             [
              1,
              "#f0f921"
             ]
            ],
            "type": "histogram2dcontour"
           }
          ],
          "mesh3d": [
           {
            "colorbar": {
             "outlinewidth": 0,
             "ticks": ""
            },
            "type": "mesh3d"
           }
          ],
          "parcoords": [
           {
            "line": {
             "colorbar": {
              "outlinewidth": 0,
              "ticks": ""
             }
            },
            "type": "parcoords"
           }
          ],
          "pie": [
           {
            "automargin": true,
            "type": "pie"
           }
          ],
          "scatter": [
           {
            "marker": {
             "colorbar": {
              "outlinewidth": 0,
              "ticks": ""
             }
            },
            "type": "scatter"
           }
          ],
          "scatter3d": [
           {
            "line": {
             "colorbar": {
              "outlinewidth": 0,
              "ticks": ""
             }
            },
            "marker": {
             "colorbar": {
              "outlinewidth": 0,
              "ticks": ""
             }
            },
            "type": "scatter3d"
           }
          ],
          "scattercarpet": [
           {
            "marker": {
             "colorbar": {
              "outlinewidth": 0,
              "ticks": ""
             }
            },
            "type": "scattercarpet"
           }
          ],
          "scattergeo": [
           {
            "marker": {
             "colorbar": {
              "outlinewidth": 0,
              "ticks": ""
             }
            },
            "type": "scattergeo"
           }
          ],
          "scattergl": [
           {
            "marker": {
             "colorbar": {
              "outlinewidth": 0,
              "ticks": ""
             }
            },
            "type": "scattergl"
           }
          ],
          "scattermapbox": [
           {
            "marker": {
             "colorbar": {
              "outlinewidth": 0,
              "ticks": ""
             }
            },
            "type": "scattermapbox"
           }
          ],
          "scatterpolar": [
           {
            "marker": {
             "colorbar": {
              "outlinewidth": 0,
              "ticks": ""
             }
            },
            "type": "scatterpolar"
           }
          ],
          "scatterpolargl": [
           {
            "marker": {
             "colorbar": {
              "outlinewidth": 0,
              "ticks": ""
             }
            },
            "type": "scatterpolargl"
           }
          ],
          "scatterternary": [
           {
            "marker": {
             "colorbar": {
              "outlinewidth": 0,
              "ticks": ""
             }
            },
            "type": "scatterternary"
           }
          ],
          "surface": [
           {
            "colorbar": {
             "outlinewidth": 0,
             "ticks": ""
            },
            "colorscale": [
             [
              0,
              "#0d0887"
             ],
             [
              0.1111111111111111,
              "#46039f"
             ],
             [
              0.2222222222222222,
              "#7201a8"
             ],
             [
              0.3333333333333333,
              "#9c179e"
             ],
             [
              0.4444444444444444,
              "#bd3786"
             ],
             [
              0.5555555555555556,
              "#d8576b"
             ],
             [
              0.6666666666666666,
              "#ed7953"
             ],
             [
              0.7777777777777778,
              "#fb9f3a"
             ],
             [
              0.8888888888888888,
              "#fdca26"
             ],
             [
              1,
              "#f0f921"
             ]
            ],
            "type": "surface"
           }
          ],
          "table": [
           {
            "cells": {
             "fill": {
              "color": "#EBF0F8"
             },
             "line": {
              "color": "white"
             }
            },
            "header": {
             "fill": {
              "color": "#C8D4E3"
             },
             "line": {
              "color": "white"
             }
            },
            "type": "table"
           }
          ]
         },
         "layout": {
          "annotationdefaults": {
           "arrowcolor": "#2a3f5f",
           "arrowhead": 0,
           "arrowwidth": 1
          },
          "autotypenumbers": "strict",
          "coloraxis": {
           "colorbar": {
            "outlinewidth": 0,
            "ticks": ""
           }
          },
          "colorscale": {
           "diverging": [
            [
             0,
             "#8e0152"
            ],
            [
             0.1,
             "#c51b7d"
            ],
            [
             0.2,
             "#de77ae"
            ],
            [
             0.3,
             "#f1b6da"
            ],
            [
             0.4,
             "#fde0ef"
            ],
            [
             0.5,
             "#f7f7f7"
            ],
            [
             0.6,
             "#e6f5d0"
            ],
            [
             0.7,
             "#b8e186"
            ],
            [
             0.8,
             "#7fbc41"
            ],
            [
             0.9,
             "#4d9221"
            ],
            [
             1,
             "#276419"
            ]
           ],
           "sequential": [
            [
             0,
             "#0d0887"
            ],
            [
             0.1111111111111111,
             "#46039f"
            ],
            [
             0.2222222222222222,
             "#7201a8"
            ],
            [
             0.3333333333333333,
             "#9c179e"
            ],
            [
             0.4444444444444444,
             "#bd3786"
            ],
            [
             0.5555555555555556,
             "#d8576b"
            ],
            [
             0.6666666666666666,
             "#ed7953"
            ],
            [
             0.7777777777777778,
             "#fb9f3a"
            ],
            [
             0.8888888888888888,
             "#fdca26"
            ],
            [
             1,
             "#f0f921"
            ]
           ],
           "sequentialminus": [
            [
             0,
             "#0d0887"
            ],
            [
             0.1111111111111111,
             "#46039f"
            ],
            [
             0.2222222222222222,
             "#7201a8"
            ],
            [
             0.3333333333333333,
             "#9c179e"
            ],
            [
             0.4444444444444444,
             "#bd3786"
            ],
            [
             0.5555555555555556,
             "#d8576b"
            ],
            [
             0.6666666666666666,
             "#ed7953"
            ],
            [
             0.7777777777777778,
             "#fb9f3a"
            ],
            [
             0.8888888888888888,
             "#fdca26"
            ],
            [
             1,
             "#f0f921"
            ]
           ]
          },
          "colorway": [
           "#636efa",
           "#EF553B",
           "#00cc96",
           "#ab63fa",
           "#FFA15A",
           "#19d3f3",
           "#FF6692",
           "#B6E880",
           "#FF97FF",
           "#FECB52"
          ],
          "font": {
           "color": "#2a3f5f"
          },
          "geo": {
           "bgcolor": "white",
           "lakecolor": "white",
           "landcolor": "#E5ECF6",
           "showlakes": true,
           "showland": true,
           "subunitcolor": "white"
          },
          "hoverlabel": {
           "align": "left"
          },
          "hovermode": "closest",
          "mapbox": {
           "style": "light"
          },
          "paper_bgcolor": "white",
          "plot_bgcolor": "#E5ECF6",
          "polar": {
           "angularaxis": {
            "gridcolor": "white",
            "linecolor": "white",
            "ticks": ""
           },
           "bgcolor": "#E5ECF6",
           "radialaxis": {
            "gridcolor": "white",
            "linecolor": "white",
            "ticks": ""
           }
          },
          "scene": {
           "xaxis": {
            "backgroundcolor": "#E5ECF6",
            "gridcolor": "white",
            "gridwidth": 2,
            "linecolor": "white",
            "showbackground": true,
            "ticks": "",
            "zerolinecolor": "white"
           },
           "yaxis": {
            "backgroundcolor": "#E5ECF6",
            "gridcolor": "white",
            "gridwidth": 2,
            "linecolor": "white",
            "showbackground": true,
            "ticks": "",
            "zerolinecolor": "white"
           },
           "zaxis": {
            "backgroundcolor": "#E5ECF6",
            "gridcolor": "white",
            "gridwidth": 2,
            "linecolor": "white",
            "showbackground": true,
            "ticks": "",
            "zerolinecolor": "white"
           }
          },
          "shapedefaults": {
           "line": {
            "color": "#2a3f5f"
           }
          },
          "ternary": {
           "aaxis": {
            "gridcolor": "white",
            "linecolor": "white",
            "ticks": ""
           },
           "baxis": {
            "gridcolor": "white",
            "linecolor": "white",
            "ticks": ""
           },
           "bgcolor": "#E5ECF6",
           "caxis": {
            "gridcolor": "white",
            "linecolor": "white",
            "ticks": ""
           }
          },
          "title": {
           "x": 0.05
          },
          "xaxis": {
           "automargin": true,
           "gridcolor": "white",
           "linecolor": "white",
           "ticks": "",
           "title": {
            "standoff": 15
           },
           "zerolinecolor": "white",
           "zerolinewidth": 2
          },
          "yaxis": {
           "automargin": true,
           "gridcolor": "white",
           "linecolor": "white",
           "ticks": "",
           "title": {
            "standoff": 15
           },
           "zerolinecolor": "white",
           "zerolinewidth": 2
          }
         }
        },
        "title": "Measurement",
        "xaxis": {
         "title": {
          "text": "Time (second)"
         }
        },
        "yaxis": {
         "title": {
          "text": "Temperature (Kelvin)"
         }
        }
       }
      },
      "text/html": [
       "<div\n",
       "    class=\"webio-mountpoint\"\n",
       "    data-webio-mountpoint=\"14719205260545077936\"\n",
       ">\n",
       "    <script>\n",
       "    (function(){\n",
       "    // Some integrations (namely, IJulia/Jupyter) use an alternate render pathway than\n",
       "    // just putting the html on the page. If WebIO isn't defined, then it's pretty likely\n",
       "    // that we're in one of those situations and the integration just isn't installed\n",
       "    // correctly.\n",
       "    if (typeof window.WebIO === \"undefined\") {\n",
       "        document\n",
       "            .querySelector('[data-webio-mountpoint=\"14719205260545077936\"]')\n",
       "            .innerHTML = (\n",
       "                '<div style=\"padding: 1em; background-color: #f8d6da; border: 1px solid #f5c6cb; font-weight: bold;\">' +\n",
       "                '<p><strong>WebIO not detected.</strong></p>' +\n",
       "                '<p>Please read ' +\n",
       "                '<a href=\"https://juliagizmos.github.io/WebIO.jl/latest/troubleshooting/not-detected/\" target=\"_blank\">the troubleshooting guide</a> ' +\n",
       "                'for more information on how to resolve this issue.</p>' +\n",
       "                '<p><a href=\"https://juliagizmos.github.io/WebIO.jl/latest/troubleshooting/not-detected/\" target=\"_blank\">https://juliagizmos.github.io/WebIO.jl/latest/troubleshooting/not-detected/</a></p>' +\n",
       "                '</div>'\n",
       "            );\n",
       "        return;\n",
       "    }\n",
       "    WebIO.mount(\n",
       "        document.querySelector('[data-webio-mountpoint=\"14719205260545077936\"]'),\n",
       "        {\"props\":{},\"nodeType\":\"Scope\",\"type\":\"node\",\"instanceArgs\":{\"imports\":{\"data\":[{\"name\":\"Plotly\",\"type\":\"js\",\"url\":\"\\/assetserver\\/627f17ff06762af3874159c00b9b1e00e50688bc-plotly.min.js\"},{\"name\":null,\"type\":\"js\",\"url\":\"\\/assetserver\\/1a276a0acb11ad47020d3f379225d41bbd0aeef0-plotly_webio.bundle.js\"}],\"type\":\"async_block\"},\"id\":\"9243769067840023557\",\"handlers\":{\"_toImage\":[\"(function (options){return this.Plotly.toImage(this.plotElem,options).then((function (data){return WebIO.setval({\\\"name\\\":\\\"image\\\",\\\"scope\\\":\\\"9243769067840023557\\\",\\\"id\\\":\\\"15652835288227883122\\\",\\\"type\\\":\\\"observable\\\"},data)}))})\"],\"__get_gd_contents\":[\"(function (prop){prop==\\\"data\\\" ? (WebIO.setval({\\\"name\\\":\\\"__gd_contents\\\",\\\"scope\\\":\\\"9243769067840023557\\\",\\\"id\\\":\\\"7953406082080173504\\\",\\\"type\\\":\\\"observable\\\"},this.plotElem.data)) : undefined; return prop==\\\"layout\\\" ? (WebIO.setval({\\\"name\\\":\\\"__gd_contents\\\",\\\"scope\\\":\\\"9243769067840023557\\\",\\\"id\\\":\\\"7953406082080173504\\\",\\\"type\\\":\\\"observable\\\"},this.plotElem.layout)) : undefined})\"],\"_downloadImage\":[\"(function (options){return this.Plotly.downloadImage(this.plotElem,options)})\"],\"_commands\":[\"(function (args){var fn=args.shift(); var elem=this.plotElem; var Plotly=this.Plotly; args.unshift(elem); return Plotly[fn].apply(this,args)})\"]},\"systemjs_options\":null,\"mount_callbacks\":[\"function () {\\n    var handler = ((function (Plotly,PlotlyWebIO){PlotlyWebIO.init(WebIO); var gd=this.dom.querySelector(\\\"#plot-2e101a23-6a30-4c08-9d51-6b4e8d8cc159\\\"); this.plotElem=gd; this.Plotly=Plotly; (window.Blink!==undefined) ? (gd.style.width=\\\"100%\\\", gd.style.height=\\\"100vh\\\", gd.style.marginLeft=\\\"0%\\\", gd.style.marginTop=\\\"0vh\\\") : undefined; window.onresize=(function (){return Plotly.Plots.resize(gd)}); Plotly.newPlot(gd,[{\\\"mode\\\":\\\"markers\\\",\\\"y\\\":[267.445695556788,266.8288780773738,266.2160546926947,265.60799851403897,265.0054628059503,264.40917704111314,263.81984321445475,263.23813245399987,262.6646819604656,262.10009230158755,261.5449250808695,260.9997009940327,260.4648982800522,259.94095156746926,259.42825111079054,258.9271424063472,258.437926172091,257.96085867151777,257.4961523582869,257.04397681518236,256.6044599588304,256.1776894800542,255.7637144888645,255.362547332821,254.97416555779282,254.59851398093687,254.23550684692688,253.88503004003672,253.54694332653543,253.22108260391593,252.90726213569368,252.60527675281048,252.31490400500962,252.0359062478625,251.7680326533844,251.51102113434132,251.2646001743972,251.02849055815807,250.80240699692442,250.58605964755372,250.3791555232605,250.1813997964372,249.99249699467433,249.81215209209108,249.6400714988737,249.47596395256272,249.31954131514445,249.17051928039837,249.0286179962414,248.89356260700444,248.76508372068753,248.64291780627946,248.5268075262027,248.41650200887094,248.31175706622642,248.21233536097094,248.11800652802333,248.0285472545332,247.94374132256286,247.86337961832257,247.78726011160813,247.7151878088564,247.64697468299664,247.5824395830462,247.52140812617125,247.46371257471552,247.4091917004899,247.3576906384143,247.309060731413,247.26315936828544,247.2198498161044,247.17900104853572,247.14048757132673,247.10418924607274,247.06999111324572,247.0377832153518,247.00746042097745,246.97892225038618,246.95207270323846,246.92682008892578,246.90307685993616,246.8807594486024,246.85978810752263,246.84008675389134,246.82158281792792,246.80420709554886,246.78789360539074,246.7725794502564,246.75820468302845,246.74471217706656,246.73204750108292,246.72015879847012,246.70899667103808,246.6985140671031,246.68866617385837,246.6794103139451,246.6707058461357,246.6625140700312,246.6547981346721,246.64752295095445],\\\"type\\\":\\\"scatter\\\",\\\"name\\\":\\\"Measurement\\\",\\\"x\\\":[0.0,0.15,0.3,0.44999999999999996,0.6,0.75,0.8999999999999999,1.05,1.2,1.3499999999999999,1.5,1.65,1.7999999999999998,1.95,2.1,2.25,2.4,2.55,2.6999999999999997,2.85,3.0,3.15,3.3,3.4499999999999997,3.5999999999999996,3.75,3.9,4.05,4.2,4.35,4.5,4.6499999999999995,4.8,4.95,5.1,5.25,5.3999999999999995,5.55,5.7,5.85,6.0,6.1499999999999995,6.3,6.45,6.6,6.75,6.8999999999999995,7.05,7.199999999999999,7.35,7.5,7.6499999999999995,7.8,7.949999999999999,8.1,8.25,8.4,8.549999999999999,8.7,8.85,9.0,9.15,9.299999999999999,9.45,9.6,9.75,9.9,10.049999999999999,10.2,10.35,10.5,10.65,10.799999999999999,10.95,11.1,11.25,11.4,11.549999999999999,11.7,11.85,12.0,12.15,12.299999999999999,12.45,12.6,12.75,12.9,13.049999999999999,13.2,13.35,13.5,13.65,13.799999999999999,13.95,14.1,14.25,14.399999999999999,14.549999999999999,14.7,14.85]}],{\\\"xaxis\\\":{\\\"title\\\":{\\\"text\\\":\\\"Time (second)\\\"}},\\\"template\\\":{\\\"layout\\\":{\\\"coloraxis\\\":{\\\"colorbar\\\":{\\\"ticks\\\":\\\"\\\",\\\"outlinewidth\\\":0}},\\\"xaxis\\\":{\\\"gridcolor\\\":\\\"white\\\",\\\"zerolinewidth\\\":2,\\\"title\\\":{\\\"standoff\\\":15},\\\"ticks\\\":\\\"\\\",\\\"zerolinecolor\\\":\\\"white\\\",\\\"automargin\\\":true,\\\"linecolor\\\":\\\"white\\\"},\\\"hovermode\\\":\\\"closest\\\",\\\"paper_bgcolor\\\":\\\"white\\\",\\\"geo\\\":{\\\"showlakes\\\":true,\\\"showland\\\":true,\\\"landcolor\\\":\\\"#E5ECF6\\\",\\\"bgcolor\\\":\\\"white\\\",\\\"subunitcolor\\\":\\\"white\\\",\\\"lakecolor\\\":\\\"white\\\"},\\\"colorscale\\\":{\\\"sequential\\\":[[0.0,\\\"#0d0887\\\"],[0.1111111111111111,\\\"#46039f\\\"],[0.2222222222222222,\\\"#7201a8\\\"],[0.3333333333333333,\\\"#9c179e\\\"],[0.4444444444444444,\\\"#bd3786\\\"],[0.5555555555555556,\\\"#d8576b\\\"],[0.6666666666666666,\\\"#ed7953\\\"],[0.7777777777777778,\\\"#fb9f3a\\\"],[0.8888888888888888,\\\"#fdca26\\\"],[1.0,\\\"#f0f921\\\"]],\\\"diverging\\\":[[0,\\\"#8e0152\\\"],[0.1,\\\"#c51b7d\\\"],[0.2,\\\"#de77ae\\\"],[0.3,\\\"#f1b6da\\\"],[0.4,\\\"#fde0ef\\\"],[0.5,\\\"#f7f7f7\\\"],[0.6,\\\"#e6f5d0\\\"],[0.7,\\\"#b8e186\\\"],[0.8,\\\"#7fbc41\\\"],[0.9,\\\"#4d9221\\\"],[1,\\\"#276419\\\"]],\\\"sequentialminus\\\":[[0.0,\\\"#0d0887\\\"],[0.1111111111111111,\\\"#46039f\\\"],[0.2222222222222222,\\\"#7201a8\\\"],[0.3333333333333333,\\\"#9c179e\\\"],[0.4444444444444444,\\\"#bd3786\\\"],[0.5555555555555556,\\\"#d8576b\\\"],[0.6666666666666666,\\\"#ed7953\\\"],[0.7777777777777778,\\\"#fb9f3a\\\"],[0.8888888888888888,\\\"#fdca26\\\"],[1.0,\\\"#f0f921\\\"]]},\\\"yaxis\\\":{\\\"gridcolor\\\":\\\"white\\\",\\\"zerolinewidth\\\":2,\\\"title\\\":{\\\"standoff\\\":15},\\\"ticks\\\":\\\"\\\",\\\"zerolinecolor\\\":\\\"white\\\",\\\"automargin\\\":true,\\\"linecolor\\\":\\\"white\\\"},\\\"shapedefaults\\\":{\\\"line\\\":{\\\"color\\\":\\\"#2a3f5f\\\"}},\\\"hoverlabel\\\":{\\\"align\\\":\\\"left\\\"},\\\"mapbox\\\":{\\\"style\\\":\\\"light\\\"},\\\"polar\\\":{\\\"angularaxis\\\":{\\\"gridcolor\\\":\\\"white\\\",\\\"ticks\\\":\\\"\\\",\\\"linecolor\\\":\\\"white\\\"},\\\"bgcolor\\\":\\\"#E5ECF6\\\",\\\"radialaxis\\\":{\\\"gridcolor\\\":\\\"white\\\",\\\"ticks\\\":\\\"\\\",\\\"linecolor\\\":\\\"white\\\"}},\\\"autotypenumbers\\\":\\\"strict\\\",\\\"font\\\":{\\\"color\\\":\\\"#2a3f5f\\\"},\\\"ternary\\\":{\\\"baxis\\\":{\\\"gridcolor\\\":\\\"white\\\",\\\"ticks\\\":\\\"\\\",\\\"linecolor\\\":\\\"white\\\"},\\\"bgcolor\\\":\\\"#E5ECF6\\\",\\\"caxis\\\":{\\\"gridcolor\\\":\\\"white\\\",\\\"ticks\\\":\\\"\\\",\\\"linecolor\\\":\\\"white\\\"},\\\"aaxis\\\":{\\\"gridcolor\\\":\\\"white\\\",\\\"ticks\\\":\\\"\\\",\\\"linecolor\\\":\\\"white\\\"}},\\\"annotationdefaults\\\":{\\\"arrowhead\\\":0,\\\"arrowwidth\\\":1,\\\"arrowcolor\\\":\\\"#2a3f5f\\\"},\\\"plot_bgcolor\\\":\\\"#E5ECF6\\\",\\\"title\\\":{\\\"x\\\":0.05},\\\"scene\\\":{\\\"xaxis\\\":{\\\"gridcolor\\\":\\\"white\\\",\\\"gridwidth\\\":2,\\\"backgroundcolor\\\":\\\"#E5ECF6\\\",\\\"ticks\\\":\\\"\\\",\\\"showbackground\\\":true,\\\"zerolinecolor\\\":\\\"white\\\",\\\"linecolor\\\":\\\"white\\\"},\\\"zaxis\\\":{\\\"gridcolor\\\":\\\"white\\\",\\\"gridwidth\\\":2,\\\"backgroundcolor\\\":\\\"#E5ECF6\\\",\\\"ticks\\\":\\\"\\\",\\\"showbackground\\\":true,\\\"zerolinecolor\\\":\\\"white\\\",\\\"linecolor\\\":\\\"white\\\"},\\\"yaxis\\\":{\\\"gridcolor\\\":\\\"white\\\",\\\"gridwidth\\\":2,\\\"backgroundcolor\\\":\\\"#E5ECF6\\\",\\\"ticks\\\":\\\"\\\",\\\"showbackground\\\":true,\\\"zerolinecolor\\\":\\\"white\\\",\\\"linecolor\\\":\\\"white\\\"}},\\\"colorway\\\":[\\\"#636efa\\\",\\\"#EF553B\\\",\\\"#00cc96\\\",\\\"#ab63fa\\\",\\\"#FFA15A\\\",\\\"#19d3f3\\\",\\\"#FF6692\\\",\\\"#B6E880\\\",\\\"#FF97FF\\\",\\\"#FECB52\\\"]},\\\"data\\\":{\\\"barpolar\\\":[{\\\"type\\\":\\\"barpolar\\\",\\\"marker\\\":{\\\"line\\\":{\\\"color\\\":\\\"#E5ECF6\\\",\\\"width\\\":0.5}}}],\\\"carpet\\\":[{\\\"aaxis\\\":{\\\"gridcolor\\\":\\\"white\\\",\\\"endlinecolor\\\":\\\"#2a3f5f\\\",\\\"minorgridcolor\\\":\\\"white\\\",\\\"startlinecolor\\\":\\\"#2a3f5f\\\",\\\"linecolor\\\":\\\"white\\\"},\\\"type\\\":\\\"carpet\\\",\\\"baxis\\\":{\\\"gridcolor\\\":\\\"white\\\",\\\"endlinecolor\\\":\\\"#2a3f5f\\\",\\\"minorgridcolor\\\":\\\"white\\\",\\\"startlinecolor\\\":\\\"#2a3f5f\\\",\\\"linecolor\\\":\\\"white\\\"}}],\\\"scatterpolar\\\":[{\\\"type\\\":\\\"scatterpolar\\\",\\\"marker\\\":{\\\"colorbar\\\":{\\\"ticks\\\":\\\"\\\",\\\"outlinewidth\\\":0}}}],\\\"parcoords\\\":[{\\\"line\\\":{\\\"colorbar\\\":{\\\"ticks\\\":\\\"\\\",\\\"outlinewidth\\\":0}},\\\"type\\\":\\\"parcoords\\\"}],\\\"scatter\\\":[{\\\"type\\\":\\\"scatter\\\",\\\"marker\\\":{\\\"colorbar\\\":{\\\"ticks\\\":\\\"\\\",\\\"outlinewidth\\\":0}}}],\\\"histogram2dcontour\\\":[{\\\"colorbar\\\":{\\\"ticks\\\":\\\"\\\",\\\"outlinewidth\\\":0},\\\"type\\\":\\\"histogram2dcontour\\\",\\\"colorscale\\\":[[0.0,\\\"#0d0887\\\"],[0.1111111111111111,\\\"#46039f\\\"],[0.2222222222222222,\\\"#7201a8\\\"],[0.3333333333333333,\\\"#9c179e\\\"],[0.4444444444444444,\\\"#bd3786\\\"],[0.5555555555555556,\\\"#d8576b\\\"],[0.6666666666666666,\\\"#ed7953\\\"],[0.7777777777777778,\\\"#fb9f3a\\\"],[0.8888888888888888,\\\"#fdca26\\\"],[1.0,\\\"#f0f921\\\"]]}],\\\"contour\\\":[{\\\"colorbar\\\":{\\\"ticks\\\":\\\"\\\",\\\"outlinewidth\\\":0},\\\"type\\\":\\\"contour\\\",\\\"colorscale\\\":[[0.0,\\\"#0d0887\\\"],[0.1111111111111111,\\\"#46039f\\\"],[0.2222222222222222,\\\"#7201a8\\\"],[0.3333333333333333,\\\"#9c179e\\\"],[0.4444444444444444,\\\"#bd3786\\\"],[0.5555555555555556,\\\"#d8576b\\\"],[0.6666666666666666,\\\"#ed7953\\\"],[0.7777777777777778,\\\"#fb9f3a\\\"],[0.8888888888888888,\\\"#fdca26\\\"],[1.0,\\\"#f0f921\\\"]]}],\\\"scattercarpet\\\":[{\\\"type\\\":\\\"scattercarpet\\\",\\\"marker\\\":{\\\"colorbar\\\":{\\\"ticks\\\":\\\"\\\",\\\"outlinewidth\\\":0}}}],\\\"mesh3d\\\":[{\\\"colorbar\\\":{\\\"ticks\\\":\\\"\\\",\\\"outlinewidth\\\":0},\\\"type\\\":\\\"mesh3d\\\"}],\\\"surface\\\":[{\\\"colorbar\\\":{\\\"ticks\\\":\\\"\\\",\\\"outlinewidth\\\":0},\\\"type\\\":\\\"surface\\\",\\\"colorscale\\\":[[0.0,\\\"#0d0887\\\"],[0.1111111111111111,\\\"#46039f\\\"],[0.2222222222222222,\\\"#7201a8\\\"],[0.3333333333333333,\\\"#9c179e\\\"],[0.4444444444444444,\\\"#bd3786\\\"],[0.5555555555555556,\\\"#d8576b\\\"],[0.6666666666666666,\\\"#ed7953\\\"],[0.7777777777777778,\\\"#fb9f3a\\\"],[0.8888888888888888,\\\"#fdca26\\\"],[1.0,\\\"#f0f921\\\"]]}],\\\"scattermapbox\\\":[{\\\"type\\\":\\\"scattermapbox\\\",\\\"marker\\\":{\\\"colorbar\\\":{\\\"ticks\\\":\\\"\\\",\\\"outlinewidth\\\":0}}}],\\\"scattergeo\\\":[{\\\"type\\\":\\\"scattergeo\\\",\\\"marker\\\":{\\\"colorbar\\\":{\\\"ticks\\\":\\\"\\\",\\\"outlinewidth\\\":0}}}],\\\"histogram\\\":[{\\\"type\\\":\\\"histogram\\\",\\\"marker\\\":{\\\"colorbar\\\":{\\\"ticks\\\":\\\"\\\",\\\"outlinewidth\\\":0}}}],\\\"pie\\\":[{\\\"type\\\":\\\"pie\\\",\\\"automargin\\\":true}],\\\"choropleth\\\":[{\\\"colorbar\\\":{\\\"ticks\\\":\\\"\\\",\\\"outlinewidth\\\":0},\\\"type\\\":\\\"choropleth\\\"}],\\\"heatmapgl\\\":[{\\\"colorbar\\\":{\\\"ticks\\\":\\\"\\\",\\\"outlinewidth\\\":0},\\\"type\\\":\\\"heatmapgl\\\",\\\"colorscale\\\":[[0.0,\\\"#0d0887\\\"],[0.1111111111111111,\\\"#46039f\\\"],[0.2222222222222222,\\\"#7201a8\\\"],[0.3333333333333333,\\\"#9c179e\\\"],[0.4444444444444444,\\\"#bd3786\\\"],[0.5555555555555556,\\\"#d8576b\\\"],[0.6666666666666666,\\\"#ed7953\\\"],[0.7777777777777778,\\\"#fb9f3a\\\"],[0.8888888888888888,\\\"#fdca26\\\"],[1.0,\\\"#f0f921\\\"]]}],\\\"bar\\\":[{\\\"type\\\":\\\"bar\\\",\\\"error_y\\\":{\\\"color\\\":\\\"#2a3f5f\\\"},\\\"error_x\\\":{\\\"color\\\":\\\"#2a3f5f\\\"},\\\"marker\\\":{\\\"line\\\":{\\\"color\\\":\\\"#E5ECF6\\\",\\\"width\\\":0.5}}}],\\\"heatmap\\\":[{\\\"colorbar\\\":{\\\"ticks\\\":\\\"\\\",\\\"outlinewidth\\\":0},\\\"type\\\":\\\"heatmap\\\",\\\"colorscale\\\":[[0.0,\\\"#0d0887\\\"],[0.1111111111111111,\\\"#46039f\\\"],[0.2222222222222222,\\\"#7201a8\\\"],[0.3333333333333333,\\\"#9c179e\\\"],[0.4444444444444444,\\\"#bd3786\\\"],[0.5555555555555556,\\\"#d8576b\\\"],[0.6666666666666666,\\\"#ed7953\\\"],[0.7777777777777778,\\\"#fb9f3a\\\"],[0.8888888888888888,\\\"#fdca26\\\"],[1.0,\\\"#f0f921\\\"]]}],\\\"contourcarpet\\\":[{\\\"colorbar\\\":{\\\"ticks\\\":\\\"\\\",\\\"outlinewidth\\\":0},\\\"type\\\":\\\"contourcarpet\\\"}],\\\"table\\\":[{\\\"type\\\":\\\"table\\\",\\\"header\\\":{\\\"line\\\":{\\\"color\\\":\\\"white\\\"},\\\"fill\\\":{\\\"color\\\":\\\"#C8D4E3\\\"}},\\\"cells\\\":{\\\"line\\\":{\\\"color\\\":\\\"white\\\"},\\\"fill\\\":{\\\"color\\\":\\\"#EBF0F8\\\"}}}],\\\"scatter3d\\\":[{\\\"line\\\":{\\\"colorbar\\\":{\\\"ticks\\\":\\\"\\\",\\\"outlinewidth\\\":0}},\\\"type\\\":\\\"scatter3d\\\",\\\"marker\\\":{\\\"colorbar\\\":{\\\"ticks\\\":\\\"\\\",\\\"outlinewidth\\\":0}}}],\\\"scattergl\\\":[{\\\"type\\\":\\\"scattergl\\\",\\\"marker\\\":{\\\"colorbar\\\":{\\\"ticks\\\":\\\"\\\",\\\"outlinewidth\\\":0}}}],\\\"histogram2d\\\":[{\\\"colorbar\\\":{\\\"ticks\\\":\\\"\\\",\\\"outlinewidth\\\":0},\\\"type\\\":\\\"histogram2d\\\",\\\"colorscale\\\":[[0.0,\\\"#0d0887\\\"],[0.1111111111111111,\\\"#46039f\\\"],[0.2222222222222222,\\\"#7201a8\\\"],[0.3333333333333333,\\\"#9c179e\\\"],[0.4444444444444444,\\\"#bd3786\\\"],[0.5555555555555556,\\\"#d8576b\\\"],[0.6666666666666666,\\\"#ed7953\\\"],[0.7777777777777778,\\\"#fb9f3a\\\"],[0.8888888888888888,\\\"#fdca26\\\"],[1.0,\\\"#f0f921\\\"]]}],\\\"scatterternary\\\":[{\\\"type\\\":\\\"scatterternary\\\",\\\"marker\\\":{\\\"colorbar\\\":{\\\"ticks\\\":\\\"\\\",\\\"outlinewidth\\\":0}}}],\\\"scatterpolargl\\\":[{\\\"type\\\":\\\"scatterpolargl\\\",\\\"marker\\\":{\\\"colorbar\\\":{\\\"ticks\\\":\\\"\\\",\\\"outlinewidth\\\":0}}}]}},\\\"legend\\\":{\\\"title\\\":\\\"Legend Title\\\"},\\\"margin\\\":{\\\"l\\\":50,\\\"b\\\":50,\\\"r\\\":50,\\\"t\\\":60},\\\"title\\\":\\\"Measurement\\\",\\\"yaxis\\\":{\\\"title\\\":{\\\"text\\\":\\\"Temperature (Kelvin)\\\"}}},{\\\"showLink\\\":false,\\\"editable\\\":false,\\\"responsive\\\":true,\\\"staticPlot\\\":false,\\\"scrollZoom\\\":true}); gd.on(\\\"plotly_hover\\\",(function (data){var filtered_data=WebIO.PlotlyCommands.filterEventData(gd,data,\\\"hover\\\"); return !(filtered_data.isnil) ? (WebIO.setval({\\\"name\\\":\\\"hover\\\",\\\"scope\\\":\\\"9243769067840023557\\\",\\\"id\\\":\\\"10288255254946381743\\\",\\\"type\\\":\\\"observable\\\"},filtered_data.out)) : undefined})); gd.on(\\\"plotly_unhover\\\",(function (){return WebIO.setval({\\\"name\\\":\\\"hover\\\",\\\"scope\\\":\\\"9243769067840023557\\\",\\\"id\\\":\\\"10288255254946381743\\\",\\\"type\\\":\\\"observable\\\"},{})})); gd.on(\\\"plotly_selected\\\",(function (data){var filtered_data=WebIO.PlotlyCommands.filterEventData(gd,data,\\\"selected\\\"); return !(filtered_data.isnil) ? (WebIO.setval({\\\"name\\\":\\\"selected\\\",\\\"scope\\\":\\\"9243769067840023557\\\",\\\"id\\\":\\\"14088433077447156795\\\",\\\"type\\\":\\\"observable\\\"},filtered_data.out)) : undefined})); gd.on(\\\"plotly_deselect\\\",(function (){return WebIO.setval({\\\"name\\\":\\\"selected\\\",\\\"scope\\\":\\\"9243769067840023557\\\",\\\"id\\\":\\\"14088433077447156795\\\",\\\"type\\\":\\\"observable\\\"},{})})); gd.on(\\\"plotly_relayout\\\",(function (data){var filtered_data=WebIO.PlotlyCommands.filterEventData(gd,data,\\\"relayout\\\"); return !(filtered_data.isnil) ? (WebIO.setval({\\\"name\\\":\\\"relayout\\\",\\\"scope\\\":\\\"9243769067840023557\\\",\\\"id\\\":\\\"1743804706229589323\\\",\\\"type\\\":\\\"observable\\\"},filtered_data.out)) : undefined})); return gd.on(\\\"plotly_click\\\",(function (data){var filtered_data=WebIO.PlotlyCommands.filterEventData(gd,data,\\\"click\\\"); return !(filtered_data.isnil) ? (WebIO.setval({\\\"name\\\":\\\"click\\\",\\\"scope\\\":\\\"9243769067840023557\\\",\\\"id\\\":\\\"1831878798143510342\\\",\\\"type\\\":\\\"observable\\\"},filtered_data.out)) : undefined}))}));\\n    (WebIO.importBlock({\\\"data\\\":[{\\\"name\\\":\\\"Plotly\\\",\\\"type\\\":\\\"js\\\",\\\"url\\\":\\\"\\/assetserver\\/627f17ff06762af3874159c00b9b1e00e50688bc-plotly.min.js\\\"},{\\\"name\\\":null,\\\"type\\\":\\\"js\\\",\\\"url\\\":\\\"\\/assetserver\\/1a276a0acb11ad47020d3f379225d41bbd0aeef0-plotly_webio.bundle.js\\\"}],\\\"type\\\":\\\"async_block\\\"})).then((imports) => handler.apply(this, imports));\\n}\\n\"],\"observables\":{\"_toImage\":{\"sync\":false,\"id\":\"7475019872671027054\",\"value\":{}},\"hover\":{\"sync\":false,\"id\":\"10288255254946381743\",\"value\":{}},\"selected\":{\"sync\":false,\"id\":\"14088433077447156795\",\"value\":{}},\"__gd_contents\":{\"sync\":false,\"id\":\"7953406082080173504\",\"value\":{}},\"click\":{\"sync\":false,\"id\":\"1831878798143510342\",\"value\":{}},\"image\":{\"sync\":true,\"id\":\"15652835288227883122\",\"value\":\"\"},\"__get_gd_contents\":{\"sync\":false,\"id\":\"6014329111260934726\",\"value\":\"\"},\"_downloadImage\":{\"sync\":false,\"id\":\"4358012281020687575\",\"value\":{}},\"relayout\":{\"sync\":false,\"id\":\"1743804706229589323\",\"value\":{}},\"_commands\":{\"sync\":false,\"id\":\"10993514182635366663\",\"value\":[]}}},\"children\":[{\"props\":{\"id\":\"plot-2e101a23-6a30-4c08-9d51-6b4e8d8cc159\"},\"nodeType\":\"DOM\",\"type\":\"node\",\"instanceArgs\":{\"namespace\":\"html\",\"tag\":\"div\"},\"children\":[]}]},\n",
       "        window,\n",
       "    );\n",
       "    })()\n",
       "    </script>\n",
       "</div>\n"
      ],
      "text/plain": [
       "data: [\n",
       "  \"scatter with fields mode, name, type, x, and y\"\n",
       "]\n",
       "\n",
       "layout: \"layout with fields legend, margin, template, title, xaxis, and yaxis\"\n",
       "\n"
      ]
     },
     "execution_count": 333,
     "metadata": {},
     "output_type": "execute_result"
    }
   ],
   "source": [
    "plot(\n",
    "    [\n",
    "        # True position\n",
    "        scatter(\n",
    "            mode=\"markers\",\n",
    "            x=time_axis_sec,\n",
    "            y=measurements_array,\n",
    "            name=\"Measurement\"\n",
    "        )\n",
    "    ],\n",
    "    Layout(\n",
    "        title=\"Measurement\",\n",
    "        xaxis_title=\"Time (second)\",\n",
    "        yaxis_title=\"Temperature (Kelvin)\",\n",
    "        legend_title=\"Legend Title\",\n",
    "    ),\n",
    "    config=PlotConfig(scrollZoom=true)\n",
    ")"
   ]
  },
  {
   "cell_type": "code",
   "execution_count": 334,
   "id": "ac0e2ffa",
   "metadata": {},
   "outputs": [
    {
     "data": {
      "application/vnd.plotly.v1+json": {
       "config": {
        "editable": false,
        "responsive": true,
        "scrollZoom": true,
        "showLink": false,
        "staticPlot": false
       },
       "data": [
        {
         "mode": "markers",
         "name": "True Position",
         "type": "scatter",
         "x": [
          0,
          0.15,
          0.3,
          0.44999999999999996,
          0.6,
          0.75,
          0.8999999999999999,
          1.05,
          1.2,
          1.3499999999999999,
          1.5,
          1.65,
          1.7999999999999998,
          1.95,
          2.1,
          2.25,
          2.4,
          2.55,
          2.6999999999999997,
          2.85,
          3,
          3.15,
          3.3,
          3.4499999999999997,
          3.5999999999999996,
          3.75,
          3.9,
          4.05,
          4.2,
          4.35,
          4.5,
          4.6499999999999995,
          4.8,
          4.95,
          5.1,
          5.25,
          5.3999999999999995,
          5.55,
          5.7,
          5.85,
          6,
          6.1499999999999995,
          6.3,
          6.45,
          6.6,
          6.75,
          6.8999999999999995,
          7.05,
          7.199999999999999,
          7.35,
          7.5,
          7.6499999999999995,
          7.8,
          7.949999999999999,
          8.1,
          8.25,
          8.4,
          8.549999999999999,
          8.7,
          8.85,
          9,
          9.15,
          9.299999999999999,
          9.45,
          9.6,
          9.75,
          9.9,
          10.049999999999999,
          10.2,
          10.35,
          10.5,
          10.65,
          10.799999999999999,
          10.95,
          11.1,
          11.25,
          11.4,
          11.549999999999999,
          11.7,
          11.85,
          12,
          12.15,
          12.299999999999999,
          12.45,
          12.6,
          12.75,
          12.9,
          13.049999999999999,
          13.2,
          13.35,
          13.5,
          13.65,
          13.799999999999999,
          13.95,
          14.1,
          14.25,
          14.399999999999999,
          14.549999999999999,
          14.7,
          14.85
         ],
         "y": [
          3019.897382423571,
          3019.574873249816,
          3019.0332628489627,
          3018.273651483815,
          3017.297443091601,
          3016.10633742,
          3014.702320609538,
          3013.087654331168,
          3011.264863602305,
          3009.2367234167436,
          3007.006244333493,
          3004.5766571766144,
          3001.9513970025455,
          2999.1340864932304,
          2996.128518932724,
          2992.938640921968,
          2989.5685349813343,
          2986.0224021835547,
          2982.30454495103,
          2978.419350141562,
          2974.371272535524,
          2970.164818825688,
          2965.804532198631,
          2961.2949775840984,
          2956.640727636187,
          2951.8463494978764,
          2946.9163923885417,
          2941.8553760427408,
          2936.667780017915,
          2931.35803387881,
          2925.9305082574356,
          2920.3895067793264,
          2914.739258839744,
          2908.983913207282,
          2903.1275324270787,
          2897.174087991475,
          2891.127456242458,
          2884.99141496749,
          2878.769640648368,
          2872.465706321423,
          2866.083080006686,
          2859.6251236634516,
          2853.0950926299847,
          2846.4961355057994,
          2839.8312944359814,
          2833.1035057583435,
          2826.3156009757417,
          2819.4703080175987,
          2812.5702527565404,
          2805.617960747983,
          2798.6158591625053,
          2791.5662788828686,
          2784.4714567395617,
          2777.3335378607417,
          2770.154578114394,
          2762.9365466224335,
          2755.6813283282804,
          2748.3907266012043,
          2741.0664658623664,
          2733.7101942190798,
          2726.3234860952575,
          2718.907844847413,
          2711.464705356848,
          2703.9954365898616,
          2696.5013441189053,
          2688.9836725986183,
          2681.4436081916037,
          2673.8822809396465,
          2666.300767076843,
          2658.700091281794,
          2651.0812288666507,
          2643.445107901349,
          2635.792611271875,
          2628.124578671852,
          2620.4418085271122,
          2612.7450598532987,
          2605.0350540468025,
          2597.312476609642,
          2589.5779788090886,
          2581.8321792730553,
          2574.075665522428,
          2566.3089954416428,
          2558.5326986889468,
          2550.7472780478565,
          2542.9532107214104,
          2535.150949570859,
          2527.3409243004926,
          2519.5235425903093,
          2511.6991911782684,
          2503.8682368938594,
          2496.0310276447212,
          2488.187893358035,
          2480.3391468783934,
          2472.4850848238225,
          2464.625988401612,
          2456.7621241855672,
          2448.8937448562624,
          2441.021089905843,
          2433.1443863088725,
          2425.263849160684
         ]
        },
        {
         "error_y": {
          "array": [
           73.17725524756327,
           61.096269137287436,
           56.06245923239207,
           53.019774752029434,
           50.807720393498755,
           49.00897292012762,
           47.434797562628546,
           45.98691893790784,
           44.609320638371706,
           43.268337328763124,
           41.943374493586205,
           40.62214420548715,
           39.29799688344113,
           37.968289896201824,
           36.63329482615956,
           35.29539838419858,
           33.958474770260615,
           32.62736980207025,
           31.307469399528504,
           30.004340977808003,
           28.723443123931382,
           27.469900681914858,
           26.248341569820195,
           25.06278990276103,
           23.91660827641059,
           22.81248089130998,
           21.752428751596558,
           20.737848416704065,
           19.769566566023933,
           18.8479037570441,
           17.972742028852725,
           17.143592274002415,
           16.35965846828754,
           15.619896850256938,
           14.923068956586192,
           14.267788047676204,
           13.652558917693023,
           13.07581140023669,
           12.535928082645015,
           12.031266854952875,
           11.560178966787944,
           11.12102326598527,
           10.712177261392123,
           10.332045600543879,
           9.979066488973794,
           9.65171650791759,
           9.348514215438394,
           9.06802284569301,
           8.808852354540393,
           8.569660998748162,
           8.349156582041775,
           8.146097455140277,
           7.959293319321347,
           7.787605854136421,
           7.62994916941196,
           7.485290068980775,
           7.352648107695621,
           7.231095422939447,
           7.119756325675856,
           7.017806642674618,
           6.924472809589354,
           6.839030722928654,
           6.760804366757284,
           6.689164236562077,
           6.623525587743565,
           6.563346539500837,
           6.508126066495772,
           6.4574019107771905,
           6.410748445261323,
           6.367774517887025,
           6.328121302682335,
           6.291460180663288,
           6.257490669971261,
           6.2259384211333035,
           6.19655328994773,
           6.169107497359108,
           6.143393882859382,
           6.119224255470715,
           6.096427844241649,
           6.0748498484135265,
           6.054350085968676,
           6.034801738126686,
           6.016090186477332,
           5.998111938793534,
           5.9807736391208195,
           5.9639911574586995,
           5.947688754204274,
           5.931798314492613,
           5.916258647618695,
           5.901014846841809,
           5.886017705038452,
           5.87122318186963,
           5.856591918351748,
           5.842088794957421,
           5.827682529616213,
           5.813345312229855,
           5.799052472557289,
           5.784782178558885,
           5.770515162513846,
           5.756234472438717
          ],
          "type": "data"
         },
         "mode": "markers",
         "name": "Estimated Position",
         "type": "scatter",
         "x": [
          0,
          0.15,
          0.3,
          0.44999999999999996,
          0.6,
          0.75,
          0.8999999999999999,
          1.05,
          1.2,
          1.3499999999999999,
          1.5,
          1.65,
          1.7999999999999998,
          1.95,
          2.1,
          2.25,
          2.4,
          2.55,
          2.6999999999999997,
          2.85,
          3,
          3.15,
          3.3,
          3.4499999999999997,
          3.5999999999999996,
          3.75,
          3.9,
          4.05,
          4.2,
          4.35,
          4.5,
          4.6499999999999995,
          4.8,
          4.95,
          5.1,
          5.25,
          5.3999999999999995,
          5.55,
          5.7,
          5.85,
          6,
          6.1499999999999995,
          6.3,
          6.45,
          6.6,
          6.75,
          6.8999999999999995,
          7.05,
          7.199999999999999,
          7.35,
          7.5,
          7.6499999999999995,
          7.8,
          7.949999999999999,
          8.1,
          8.25,
          8.4,
          8.549999999999999,
          8.7,
          8.85,
          9,
          9.15,
          9.299999999999999,
          9.45,
          9.6,
          9.75,
          9.9,
          10.049999999999999,
          10.2,
          10.35,
          10.5,
          10.65,
          10.799999999999999,
          10.95,
          11.1,
          11.25,
          11.4,
          11.549999999999999,
          11.7,
          11.85,
          12,
          12.15,
          12.299999999999999,
          12.45,
          12.6,
          12.75,
          12.9,
          13.049999999999999,
          13.2,
          13.35,
          13.5,
          13.65,
          13.799999999999999,
          13.95,
          14.1,
          14.25,
          14.399999999999999,
          14.549999999999999,
          14.7,
          14.85
         ],
         "y": [
          2998.5364589176975,
          2997.63557798095,
          2996.8051804738843,
          2995.905825135969,
          2994.8744606453165,
          2993.6754023511717,
          2992.286151387417,
          2990.692140667433,
          2988.884410134404,
          2986.858362595484,
          2984.6129278474464,
          2982.149875641989,
          2979.473186641565,
          2976.5884643890467,
          2973.5024012435683,
          2970.2223181808113,
          2966.7557933762114,
          2963.1103846570445,
          2959.2934408991437,
          2955.3119899404023,
          2951.1726865846163,
          2946.8818035514714,
          2942.445249896552,
          2937.868604403514,
          2933.157154810812,
          2928.315936844529,
          2923.34976955726,
          2918.263285327272,
          2913.0609541057847,
          2907.7471022354644,
          2902.3259265374863,
          2896.8015045001484,
          2891.1778013946446,
          2885.458675060889,
          2879.647878992264,
          2873.7490642290877,
          2867.7657804604414,
          2861.7014766389234,
          2855.559501334495,
          2849.3431029909966,
          2843.0554302001037,
          2836.6995320702267,
          2830.2783587398235,
          2823.794762063837,
          2817.2514964868774,
          2810.65122010591,
          2803.996495917647,
          2797.289793240669,
          2790.5334892989495,
          2783.729870951417,
          2776.8811365511324,
          2769.9893979173144,
          2763.056682403569,
          2756.084935046203,
          2749.076020777221,
          2742.031726687518,
          2734.9537643267613,
          2727.8437720275056,
          2720.7033172421407,
          2713.533898882324,
          2706.3369496515725,
          2699.113838362677,
          2691.865872232544,
          2684.5942991479506,
          2677.3003098965337,
          2669.9850403581117,
          2662.649573652144,
          2655.2949422378074,
          2647.9221299637575,
          2640.5320740652105,
          2633.1256671064693,
          2625.703758867476,
          2618.2671581733825,
          2610.8166346664884,
          2603.352920520225,
          2595.876712095154,
          2588.388671537196,
          2580.889428318533,
          2573.379580721821,
          2565.8596972685114,
          2558.330318092231,
          2550.791956258282,
          2543.2450990304314,
          2535.6902090862413,
          2528.127725682255,
          2520.558065770411,
          2512.9816250670956,
          2505.398779076275,
          2497.8098840681555,
          2490.2152780148513,
          2482.6152814845154,
          2475.010198495405,
          2467.4003173313295,
          2459.7859113199124,
          2452.1672395750875,
          2444.5445477052167,
          2436.918068488185,
          2429.2880225148115,
          2421.654618801874,
          2414.0180553760083
         ]
        }
       ],
       "frames": [],
       "layout": {
        "legend": {
         "title": "Legend Title"
        },
        "margin": {
         "b": 50,
         "l": 50,
         "r": 50,
         "t": 60
        },
        "template": {
         "data": {
          "bar": [
           {
            "error_x": {
             "color": "#2a3f5f"
            },
            "error_y": {
             "color": "#2a3f5f"
            },
            "marker": {
             "line": {
              "color": "#E5ECF6",
              "width": 0.5
             }
            },
            "type": "bar"
           }
          ],
          "barpolar": [
           {
            "marker": {
             "line": {
              "color": "#E5ECF6",
              "width": 0.5
             }
            },
            "type": "barpolar"
           }
          ],
          "carpet": [
           {
            "aaxis": {
             "endlinecolor": "#2a3f5f",
             "gridcolor": "white",
             "linecolor": "white",
             "minorgridcolor": "white",
             "startlinecolor": "#2a3f5f"
            },
            "baxis": {
             "endlinecolor": "#2a3f5f",
             "gridcolor": "white",
             "linecolor": "white",
             "minorgridcolor": "white",
             "startlinecolor": "#2a3f5f"
            },
            "type": "carpet"
           }
          ],
          "choropleth": [
           {
            "colorbar": {
             "outlinewidth": 0,
             "ticks": ""
            },
            "type": "choropleth"
           }
          ],
          "contour": [
           {
            "colorbar": {
             "outlinewidth": 0,
             "ticks": ""
            },
            "colorscale": [
             [
              0,
              "#0d0887"
             ],
             [
              0.1111111111111111,
              "#46039f"
             ],
             [
              0.2222222222222222,
              "#7201a8"
             ],
             [
              0.3333333333333333,
              "#9c179e"
             ],
             [
              0.4444444444444444,
              "#bd3786"
             ],
             [
              0.5555555555555556,
              "#d8576b"
             ],
             [
              0.6666666666666666,
              "#ed7953"
             ],
             [
              0.7777777777777778,
              "#fb9f3a"
             ],
             [
              0.8888888888888888,
              "#fdca26"
             ],
             [
              1,
              "#f0f921"
             ]
            ],
            "type": "contour"
           }
          ],
          "contourcarpet": [
           {
            "colorbar": {
             "outlinewidth": 0,
             "ticks": ""
            },
            "type": "contourcarpet"
           }
          ],
          "heatmap": [
           {
            "colorbar": {
             "outlinewidth": 0,
             "ticks": ""
            },
            "colorscale": [
             [
              0,
              "#0d0887"
             ],
             [
              0.1111111111111111,
              "#46039f"
             ],
             [
              0.2222222222222222,
              "#7201a8"
             ],
             [
              0.3333333333333333,
              "#9c179e"
             ],
             [
              0.4444444444444444,
              "#bd3786"
             ],
             [
              0.5555555555555556,
              "#d8576b"
             ],
             [
              0.6666666666666666,
              "#ed7953"
             ],
             [
              0.7777777777777778,
              "#fb9f3a"
             ],
             [
              0.8888888888888888,
              "#fdca26"
             ],
             [
              1,
              "#f0f921"
             ]
            ],
            "type": "heatmap"
           }
          ],
          "heatmapgl": [
           {
            "colorbar": {
             "outlinewidth": 0,
             "ticks": ""
            },
            "colorscale": [
             [
              0,
              "#0d0887"
             ],
             [
              0.1111111111111111,
              "#46039f"
             ],
             [
              0.2222222222222222,
              "#7201a8"
             ],
             [
              0.3333333333333333,
              "#9c179e"
             ],
             [
              0.4444444444444444,
              "#bd3786"
             ],
             [
              0.5555555555555556,
              "#d8576b"
             ],
             [
              0.6666666666666666,
              "#ed7953"
             ],
             [
              0.7777777777777778,
              "#fb9f3a"
             ],
             [
              0.8888888888888888,
              "#fdca26"
             ],
             [
              1,
              "#f0f921"
             ]
            ],
            "type": "heatmapgl"
           }
          ],
          "histogram": [
           {
            "marker": {
             "colorbar": {
              "outlinewidth": 0,
              "ticks": ""
             }
            },
            "type": "histogram"
           }
          ],
          "histogram2d": [
           {
            "colorbar": {
             "outlinewidth": 0,
             "ticks": ""
            },
            "colorscale": [
             [
              0,
              "#0d0887"
             ],
             [
              0.1111111111111111,
              "#46039f"
             ],
             [
              0.2222222222222222,
              "#7201a8"
             ],
             [
              0.3333333333333333,
              "#9c179e"
             ],
             [
              0.4444444444444444,
              "#bd3786"
             ],
             [
              0.5555555555555556,
              "#d8576b"
             ],
             [
              0.6666666666666666,
              "#ed7953"
             ],
             [
              0.7777777777777778,
              "#fb9f3a"
             ],
             [
              0.8888888888888888,
              "#fdca26"
             ],
             [
              1,
              "#f0f921"
             ]
            ],
            "type": "histogram2d"
           }
          ],
          "histogram2dcontour": [
           {
            "colorbar": {
             "outlinewidth": 0,
             "ticks": ""
            },
            "colorscale": [
             [
              0,
              "#0d0887"
             ],
             [
              0.1111111111111111,
              "#46039f"
             ],
             [
              0.2222222222222222,
              "#7201a8"
             ],
             [
              0.3333333333333333,
              "#9c179e"
             ],
             [
              0.4444444444444444,
              "#bd3786"
             ],
             [
              0.5555555555555556,
              "#d8576b"
             ],
             [
              0.6666666666666666,
              "#ed7953"
             ],
             [
              0.7777777777777778,
              "#fb9f3a"
             ],
             [
              0.8888888888888888,
              "#fdca26"
             ],
             [
              1,
              "#f0f921"
             ]
            ],
            "type": "histogram2dcontour"
           }
          ],
          "mesh3d": [
           {
            "colorbar": {
             "outlinewidth": 0,
             "ticks": ""
            },
            "type": "mesh3d"
           }
          ],
          "parcoords": [
           {
            "line": {
             "colorbar": {
              "outlinewidth": 0,
              "ticks": ""
             }
            },
            "type": "parcoords"
           }
          ],
          "pie": [
           {
            "automargin": true,
            "type": "pie"
           }
          ],
          "scatter": [
           {
            "marker": {
             "colorbar": {
              "outlinewidth": 0,
              "ticks": ""
             }
            },
            "type": "scatter"
           }
          ],
          "scatter3d": [
           {
            "line": {
             "colorbar": {
              "outlinewidth": 0,
              "ticks": ""
             }
            },
            "marker": {
             "colorbar": {
              "outlinewidth": 0,
              "ticks": ""
             }
            },
            "type": "scatter3d"
           }
          ],
          "scattercarpet": [
           {
            "marker": {
             "colorbar": {
              "outlinewidth": 0,
              "ticks": ""
             }
            },
            "type": "scattercarpet"
           }
          ],
          "scattergeo": [
           {
            "marker": {
             "colorbar": {
              "outlinewidth": 0,
              "ticks": ""
             }
            },
            "type": "scattergeo"
           }
          ],
          "scattergl": [
           {
            "marker": {
             "colorbar": {
              "outlinewidth": 0,
              "ticks": ""
             }
            },
            "type": "scattergl"
           }
          ],
          "scattermapbox": [
           {
            "marker": {
             "colorbar": {
              "outlinewidth": 0,
              "ticks": ""
             }
            },
            "type": "scattermapbox"
           }
          ],
          "scatterpolar": [
           {
            "marker": {
             "colorbar": {
              "outlinewidth": 0,
              "ticks": ""
             }
            },
            "type": "scatterpolar"
           }
          ],
          "scatterpolargl": [
           {
            "marker": {
             "colorbar": {
              "outlinewidth": 0,
              "ticks": ""
             }
            },
            "type": "scatterpolargl"
           }
          ],
          "scatterternary": [
           {
            "marker": {
             "colorbar": {
              "outlinewidth": 0,
              "ticks": ""
             }
            },
            "type": "scatterternary"
           }
          ],
          "surface": [
           {
            "colorbar": {
             "outlinewidth": 0,
             "ticks": ""
            },
            "colorscale": [
             [
              0,
              "#0d0887"
             ],
             [
              0.1111111111111111,
              "#46039f"
             ],
             [
              0.2222222222222222,
              "#7201a8"
             ],
             [
              0.3333333333333333,
              "#9c179e"
             ],
             [
              0.4444444444444444,
              "#bd3786"
             ],
             [
              0.5555555555555556,
              "#d8576b"
             ],
             [
              0.6666666666666666,
              "#ed7953"
             ],
             [
              0.7777777777777778,
              "#fb9f3a"
             ],
             [
              0.8888888888888888,
              "#fdca26"
             ],
             [
              1,
              "#f0f921"
             ]
            ],
            "type": "surface"
           }
          ],
          "table": [
           {
            "cells": {
             "fill": {
              "color": "#EBF0F8"
             },
             "line": {
              "color": "white"
             }
            },
            "header": {
             "fill": {
              "color": "#C8D4E3"
             },
             "line": {
              "color": "white"
             }
            },
            "type": "table"
           }
          ]
         },
         "layout": {
          "annotationdefaults": {
           "arrowcolor": "#2a3f5f",
           "arrowhead": 0,
           "arrowwidth": 1
          },
          "autotypenumbers": "strict",
          "coloraxis": {
           "colorbar": {
            "outlinewidth": 0,
            "ticks": ""
           }
          },
          "colorscale": {
           "diverging": [
            [
             0,
             "#8e0152"
            ],
            [
             0.1,
             "#c51b7d"
            ],
            [
             0.2,
             "#de77ae"
            ],
            [
             0.3,
             "#f1b6da"
            ],
            [
             0.4,
             "#fde0ef"
            ],
            [
             0.5,
             "#f7f7f7"
            ],
            [
             0.6,
             "#e6f5d0"
            ],
            [
             0.7,
             "#b8e186"
            ],
            [
             0.8,
             "#7fbc41"
            ],
            [
             0.9,
             "#4d9221"
            ],
            [
             1,
             "#276419"
            ]
           ],
           "sequential": [
            [
             0,
             "#0d0887"
            ],
            [
             0.1111111111111111,
             "#46039f"
            ],
            [
             0.2222222222222222,
             "#7201a8"
            ],
            [
             0.3333333333333333,
             "#9c179e"
            ],
            [
             0.4444444444444444,
             "#bd3786"
            ],
            [
             0.5555555555555556,
             "#d8576b"
            ],
            [
             0.6666666666666666,
             "#ed7953"
            ],
            [
             0.7777777777777778,
             "#fb9f3a"
            ],
            [
             0.8888888888888888,
             "#fdca26"
            ],
            [
             1,
             "#f0f921"
            ]
           ],
           "sequentialminus": [
            [
             0,
             "#0d0887"
            ],
            [
             0.1111111111111111,
             "#46039f"
            ],
            [
             0.2222222222222222,
             "#7201a8"
            ],
            [
             0.3333333333333333,
             "#9c179e"
            ],
            [
             0.4444444444444444,
             "#bd3786"
            ],
            [
             0.5555555555555556,
             "#d8576b"
            ],
            [
             0.6666666666666666,
             "#ed7953"
            ],
            [
             0.7777777777777778,
             "#fb9f3a"
            ],
            [
             0.8888888888888888,
             "#fdca26"
            ],
            [
             1,
             "#f0f921"
            ]
           ]
          },
          "colorway": [
           "#636efa",
           "#EF553B",
           "#00cc96",
           "#ab63fa",
           "#FFA15A",
           "#19d3f3",
           "#FF6692",
           "#B6E880",
           "#FF97FF",
           "#FECB52"
          ],
          "font": {
           "color": "#2a3f5f"
          },
          "geo": {
           "bgcolor": "white",
           "lakecolor": "white",
           "landcolor": "#E5ECF6",
           "showlakes": true,
           "showland": true,
           "subunitcolor": "white"
          },
          "hoverlabel": {
           "align": "left"
          },
          "hovermode": "closest",
          "mapbox": {
           "style": "light"
          },
          "paper_bgcolor": "white",
          "plot_bgcolor": "#E5ECF6",
          "polar": {
           "angularaxis": {
            "gridcolor": "white",
            "linecolor": "white",
            "ticks": ""
           },
           "bgcolor": "#E5ECF6",
           "radialaxis": {
            "gridcolor": "white",
            "linecolor": "white",
            "ticks": ""
           }
          },
          "scene": {
           "xaxis": {
            "backgroundcolor": "#E5ECF6",
            "gridcolor": "white",
            "gridwidth": 2,
            "linecolor": "white",
            "showbackground": true,
            "ticks": "",
            "zerolinecolor": "white"
           },
           "yaxis": {
            "backgroundcolor": "#E5ECF6",
            "gridcolor": "white",
            "gridwidth": 2,
            "linecolor": "white",
            "showbackground": true,
            "ticks": "",
            "zerolinecolor": "white"
           },
           "zaxis": {
            "backgroundcolor": "#E5ECF6",
            "gridcolor": "white",
            "gridwidth": 2,
            "linecolor": "white",
            "showbackground": true,
            "ticks": "",
            "zerolinecolor": "white"
           }
          },
          "shapedefaults": {
           "line": {
            "color": "#2a3f5f"
           }
          },
          "ternary": {
           "aaxis": {
            "gridcolor": "white",
            "linecolor": "white",
            "ticks": ""
           },
           "baxis": {
            "gridcolor": "white",
            "linecolor": "white",
            "ticks": ""
           },
           "bgcolor": "#E5ECF6",
           "caxis": {
            "gridcolor": "white",
            "linecolor": "white",
            "ticks": ""
           }
          },
          "title": {
           "x": 0.05
          },
          "xaxis": {
           "automargin": true,
           "gridcolor": "white",
           "linecolor": "white",
           "ticks": "",
           "title": {
            "standoff": 15
           },
           "zerolinecolor": "white",
           "zerolinewidth": 2
          },
          "yaxis": {
           "automargin": true,
           "gridcolor": "white",
           "linecolor": "white",
           "ticks": "",
           "title": {
            "standoff": 15
           },
           "zerolinecolor": "white",
           "zerolinewidth": 2
          }
         }
        },
        "title": "Position Measurement",
        "xaxis": {
         "title": {
          "text": "Time (second)"
         }
        },
        "yaxis": {
         "title": {
          "text": "Position (meters)"
         }
        }
       }
      },
      "text/html": [
       "<div\n",
       "    class=\"webio-mountpoint\"\n",
       "    data-webio-mountpoint=\"4072462934334298509\"\n",
       ">\n",
       "    <script>\n",
       "    (function(){\n",
       "    // Some integrations (namely, IJulia/Jupyter) use an alternate render pathway than\n",
       "    // just putting the html on the page. If WebIO isn't defined, then it's pretty likely\n",
       "    // that we're in one of those situations and the integration just isn't installed\n",
       "    // correctly.\n",
       "    if (typeof window.WebIO === \"undefined\") {\n",
       "        document\n",
       "            .querySelector('[data-webio-mountpoint=\"4072462934334298509\"]')\n",
       "            .innerHTML = (\n",
       "                '<div style=\"padding: 1em; background-color: #f8d6da; border: 1px solid #f5c6cb; font-weight: bold;\">' +\n",
       "                '<p><strong>WebIO not detected.</strong></p>' +\n",
       "                '<p>Please read ' +\n",
       "                '<a href=\"https://juliagizmos.github.io/WebIO.jl/latest/troubleshooting/not-detected/\" target=\"_blank\">the troubleshooting guide</a> ' +\n",
       "                'for more information on how to resolve this issue.</p>' +\n",
       "                '<p><a href=\"https://juliagizmos.github.io/WebIO.jl/latest/troubleshooting/not-detected/\" target=\"_blank\">https://juliagizmos.github.io/WebIO.jl/latest/troubleshooting/not-detected/</a></p>' +\n",
       "                '</div>'\n",
       "            );\n",
       "        return;\n",
       "    }\n",
       "    WebIO.mount(\n",
       "        document.querySelector('[data-webio-mountpoint=\"4072462934334298509\"]'),\n",
       "        {\"props\":{},\"nodeType\":\"Scope\",\"type\":\"node\",\"instanceArgs\":{\"imports\":{\"data\":[{\"name\":\"Plotly\",\"type\":\"js\",\"url\":\"\\/assetserver\\/627f17ff06762af3874159c00b9b1e00e50688bc-plotly.min.js\"},{\"name\":null,\"type\":\"js\",\"url\":\"\\/assetserver\\/1a276a0acb11ad47020d3f379225d41bbd0aeef0-plotly_webio.bundle.js\"}],\"type\":\"async_block\"},\"id\":\"13924270514684682393\",\"handlers\":{\"_toImage\":[\"(function (options){return this.Plotly.toImage(this.plotElem,options).then((function (data){return WebIO.setval({\\\"name\\\":\\\"image\\\",\\\"scope\\\":\\\"13924270514684682393\\\",\\\"id\\\":\\\"8818058044998857046\\\",\\\"type\\\":\\\"observable\\\"},data)}))})\"],\"__get_gd_contents\":[\"(function (prop){prop==\\\"data\\\" ? (WebIO.setval({\\\"name\\\":\\\"__gd_contents\\\",\\\"scope\\\":\\\"13924270514684682393\\\",\\\"id\\\":\\\"15602896036874411770\\\",\\\"type\\\":\\\"observable\\\"},this.plotElem.data)) : undefined; return prop==\\\"layout\\\" ? (WebIO.setval({\\\"name\\\":\\\"__gd_contents\\\",\\\"scope\\\":\\\"13924270514684682393\\\",\\\"id\\\":\\\"15602896036874411770\\\",\\\"type\\\":\\\"observable\\\"},this.plotElem.layout)) : undefined})\"],\"_downloadImage\":[\"(function (options){return this.Plotly.downloadImage(this.plotElem,options)})\"],\"_commands\":[\"(function (args){var fn=args.shift(); var elem=this.plotElem; var Plotly=this.Plotly; args.unshift(elem); return Plotly[fn].apply(this,args)})\"]},\"systemjs_options\":null,\"mount_callbacks\":[\"function () {\\n    var handler = ((function (Plotly,PlotlyWebIO){PlotlyWebIO.init(WebIO); var gd=this.dom.querySelector(\\\"#plot-120bf96c-9eb6-43f0-8923-d4f2b0c13007\\\"); this.plotElem=gd; this.Plotly=Plotly; (window.Blink!==undefined) ? (gd.style.width=\\\"100%\\\", gd.style.height=\\\"100vh\\\", gd.style.marginLeft=\\\"0%\\\", gd.style.marginTop=\\\"0vh\\\") : undefined; window.onresize=(function (){return Plotly.Plots.resize(gd)}); Plotly.newPlot(gd,[{\\\"mode\\\":\\\"markers\\\",\\\"y\\\":[3019.897382423571,3019.574873249816,3019.0332628489627,3018.273651483815,3017.297443091601,3016.10633742,3014.702320609538,3013.087654331168,3011.264863602305,3009.2367234167436,3007.006244333493,3004.5766571766144,3001.9513970025455,2999.1340864932304,2996.128518932724,2992.938640921968,2989.5685349813343,2986.0224021835547,2982.30454495103,2978.419350141562,2974.371272535524,2970.164818825688,2965.804532198631,2961.2949775840984,2956.640727636187,2951.8463494978764,2946.9163923885417,2941.8553760427408,2936.667780017915,2931.35803387881,2925.9305082574356,2920.3895067793264,2914.739258839744,2908.983913207282,2903.1275324270787,2897.174087991475,2891.127456242458,2884.99141496749,2878.769640648368,2872.465706321423,2866.083080006686,2859.6251236634516,2853.0950926299847,2846.4961355057994,2839.8312944359814,2833.1035057583435,2826.3156009757417,2819.4703080175987,2812.5702527565404,2805.617960747983,2798.6158591625053,2791.5662788828686,2784.4714567395617,2777.3335378607417,2770.154578114394,2762.9365466224335,2755.6813283282804,2748.3907266012043,2741.0664658623664,2733.7101942190798,2726.3234860952575,2718.907844847413,2711.464705356848,2703.9954365898616,2696.5013441189053,2688.9836725986183,2681.4436081916037,2673.8822809396465,2666.300767076843,2658.700091281794,2651.0812288666507,2643.445107901349,2635.792611271875,2628.124578671852,2620.4418085271122,2612.7450598532987,2605.0350540468025,2597.312476609642,2589.5779788090886,2581.8321792730553,2574.075665522428,2566.3089954416428,2558.5326986889468,2550.7472780478565,2542.9532107214104,2535.150949570859,2527.3409243004926,2519.5235425903093,2511.6991911782684,2503.8682368938594,2496.0310276447212,2488.187893358035,2480.3391468783934,2472.4850848238225,2464.625988401612,2456.7621241855672,2448.8937448562624,2441.021089905843,2433.1443863088725,2425.263849160684],\\\"type\\\":\\\"scatter\\\",\\\"name\\\":\\\"True Position\\\",\\\"x\\\":[0.0,0.15,0.3,0.44999999999999996,0.6,0.75,0.8999999999999999,1.05,1.2,1.3499999999999999,1.5,1.65,1.7999999999999998,1.95,2.1,2.25,2.4,2.55,2.6999999999999997,2.85,3.0,3.15,3.3,3.4499999999999997,3.5999999999999996,3.75,3.9,4.05,4.2,4.35,4.5,4.6499999999999995,4.8,4.95,5.1,5.25,5.3999999999999995,5.55,5.7,5.85,6.0,6.1499999999999995,6.3,6.45,6.6,6.75,6.8999999999999995,7.05,7.199999999999999,7.35,7.5,7.6499999999999995,7.8,7.949999999999999,8.1,8.25,8.4,8.549999999999999,8.7,8.85,9.0,9.15,9.299999999999999,9.45,9.6,9.75,9.9,10.049999999999999,10.2,10.35,10.5,10.65,10.799999999999999,10.95,11.1,11.25,11.4,11.549999999999999,11.7,11.85,12.0,12.15,12.299999999999999,12.45,12.6,12.75,12.9,13.049999999999999,13.2,13.35,13.5,13.65,13.799999999999999,13.95,14.1,14.25,14.399999999999999,14.549999999999999,14.7,14.85]},{\\\"mode\\\":\\\"markers\\\",\\\"y\\\":[2998.5364589176975,2997.63557798095,2996.8051804738843,2995.905825135969,2994.8744606453165,2993.6754023511717,2992.286151387417,2990.692140667433,2988.884410134404,2986.858362595484,2984.6129278474464,2982.149875641989,2979.473186641565,2976.5884643890467,2973.5024012435683,2970.2223181808113,2966.7557933762114,2963.1103846570445,2959.2934408991437,2955.3119899404023,2951.1726865846163,2946.8818035514714,2942.445249896552,2937.868604403514,2933.157154810812,2928.315936844529,2923.34976955726,2918.263285327272,2913.0609541057847,2907.7471022354644,2902.3259265374863,2896.8015045001484,2891.1778013946446,2885.458675060889,2879.647878992264,2873.7490642290877,2867.7657804604414,2861.7014766389234,2855.559501334495,2849.3431029909966,2843.0554302001037,2836.6995320702267,2830.2783587398235,2823.794762063837,2817.2514964868774,2810.65122010591,2803.996495917647,2797.289793240669,2790.5334892989495,2783.729870951417,2776.8811365511324,2769.9893979173144,2763.056682403569,2756.084935046203,2749.076020777221,2742.031726687518,2734.9537643267613,2727.8437720275056,2720.7033172421407,2713.533898882324,2706.3369496515725,2699.113838362677,2691.865872232544,2684.5942991479506,2677.3003098965337,2669.9850403581117,2662.649573652144,2655.2949422378074,2647.9221299637575,2640.5320740652105,2633.1256671064693,2625.703758867476,2618.2671581733825,2610.8166346664884,2603.352920520225,2595.876712095154,2588.388671537196,2580.889428318533,2573.379580721821,2565.8596972685114,2558.330318092231,2550.791956258282,2543.2450990304314,2535.6902090862413,2528.127725682255,2520.558065770411,2512.9816250670956,2505.398779076275,2497.8098840681555,2490.2152780148513,2482.6152814845154,2475.010198495405,2467.4003173313295,2459.7859113199124,2452.1672395750875,2444.5445477052167,2436.918068488185,2429.2880225148115,2421.654618801874,2414.0180553760083],\\\"type\\\":\\\"scatter\\\",\\\"name\\\":\\\"Estimated Position\\\",\\\"error_y\\\":{\\\"type\\\":\\\"data\\\",\\\"array\\\":[73.17725524756327,61.096269137287436,56.06245923239207,53.019774752029434,50.807720393498755,49.00897292012762,47.434797562628546,45.98691893790784,44.609320638371706,43.268337328763124,41.943374493586205,40.62214420548715,39.29799688344113,37.968289896201824,36.63329482615956,35.29539838419858,33.958474770260615,32.62736980207025,31.307469399528504,30.004340977808003,28.723443123931382,27.469900681914858,26.248341569820195,25.06278990276103,23.91660827641059,22.81248089130998,21.752428751596558,20.737848416704065,19.769566566023933,18.8479037570441,17.972742028852725,17.143592274002415,16.35965846828754,15.619896850256938,14.923068956586192,14.267788047676204,13.652558917693023,13.07581140023669,12.535928082645015,12.031266854952875,11.560178966787944,11.12102326598527,10.712177261392123,10.332045600543879,9.979066488973794,9.65171650791759,9.348514215438394,9.06802284569301,8.808852354540393,8.569660998748162,8.349156582041775,8.146097455140277,7.959293319321347,7.787605854136421,7.62994916941196,7.485290068980775,7.352648107695621,7.231095422939447,7.119756325675856,7.017806642674618,6.924472809589354,6.839030722928654,6.760804366757284,6.689164236562077,6.623525587743565,6.563346539500837,6.508126066495772,6.4574019107771905,6.410748445261323,6.367774517887025,6.328121302682335,6.291460180663288,6.257490669971261,6.2259384211333035,6.19655328994773,6.169107497359108,6.143393882859382,6.119224255470715,6.096427844241649,6.0748498484135265,6.054350085968676,6.034801738126686,6.016090186477332,5.998111938793534,5.9807736391208195,5.9639911574586995,5.947688754204274,5.931798314492613,5.916258647618695,5.901014846841809,5.886017705038452,5.87122318186963,5.856591918351748,5.842088794957421,5.827682529616213,5.813345312229855,5.799052472557289,5.784782178558885,5.770515162513846,5.756234472438717]},\\\"x\\\":[0.0,0.15,0.3,0.44999999999999996,0.6,0.75,0.8999999999999999,1.05,1.2,1.3499999999999999,1.5,1.65,1.7999999999999998,1.95,2.1,2.25,2.4,2.55,2.6999999999999997,2.85,3.0,3.15,3.3,3.4499999999999997,3.5999999999999996,3.75,3.9,4.05,4.2,4.35,4.5,4.6499999999999995,4.8,4.95,5.1,5.25,5.3999999999999995,5.55,5.7,5.85,6.0,6.1499999999999995,6.3,6.45,6.6,6.75,6.8999999999999995,7.05,7.199999999999999,7.35,7.5,7.6499999999999995,7.8,7.949999999999999,8.1,8.25,8.4,8.549999999999999,8.7,8.85,9.0,9.15,9.299999999999999,9.45,9.6,9.75,9.9,10.049999999999999,10.2,10.35,10.5,10.65,10.799999999999999,10.95,11.1,11.25,11.4,11.549999999999999,11.7,11.85,12.0,12.15,12.299999999999999,12.45,12.6,12.75,12.9,13.049999999999999,13.2,13.35,13.5,13.65,13.799999999999999,13.95,14.1,14.25,14.399999999999999,14.549999999999999,14.7,14.85]}],{\\\"xaxis\\\":{\\\"title\\\":{\\\"text\\\":\\\"Time (second)\\\"}},\\\"template\\\":{\\\"layout\\\":{\\\"coloraxis\\\":{\\\"colorbar\\\":{\\\"ticks\\\":\\\"\\\",\\\"outlinewidth\\\":0}},\\\"xaxis\\\":{\\\"gridcolor\\\":\\\"white\\\",\\\"zerolinewidth\\\":2,\\\"title\\\":{\\\"standoff\\\":15},\\\"ticks\\\":\\\"\\\",\\\"zerolinecolor\\\":\\\"white\\\",\\\"automargin\\\":true,\\\"linecolor\\\":\\\"white\\\"},\\\"hovermode\\\":\\\"closest\\\",\\\"paper_bgcolor\\\":\\\"white\\\",\\\"geo\\\":{\\\"showlakes\\\":true,\\\"showland\\\":true,\\\"landcolor\\\":\\\"#E5ECF6\\\",\\\"bgcolor\\\":\\\"white\\\",\\\"subunitcolor\\\":\\\"white\\\",\\\"lakecolor\\\":\\\"white\\\"},\\\"colorscale\\\":{\\\"sequential\\\":[[0.0,\\\"#0d0887\\\"],[0.1111111111111111,\\\"#46039f\\\"],[0.2222222222222222,\\\"#7201a8\\\"],[0.3333333333333333,\\\"#9c179e\\\"],[0.4444444444444444,\\\"#bd3786\\\"],[0.5555555555555556,\\\"#d8576b\\\"],[0.6666666666666666,\\\"#ed7953\\\"],[0.7777777777777778,\\\"#fb9f3a\\\"],[0.8888888888888888,\\\"#fdca26\\\"],[1.0,\\\"#f0f921\\\"]],\\\"diverging\\\":[[0,\\\"#8e0152\\\"],[0.1,\\\"#c51b7d\\\"],[0.2,\\\"#de77ae\\\"],[0.3,\\\"#f1b6da\\\"],[0.4,\\\"#fde0ef\\\"],[0.5,\\\"#f7f7f7\\\"],[0.6,\\\"#e6f5d0\\\"],[0.7,\\\"#b8e186\\\"],[0.8,\\\"#7fbc41\\\"],[0.9,\\\"#4d9221\\\"],[1,\\\"#276419\\\"]],\\\"sequentialminus\\\":[[0.0,\\\"#0d0887\\\"],[0.1111111111111111,\\\"#46039f\\\"],[0.2222222222222222,\\\"#7201a8\\\"],[0.3333333333333333,\\\"#9c179e\\\"],[0.4444444444444444,\\\"#bd3786\\\"],[0.5555555555555556,\\\"#d8576b\\\"],[0.6666666666666666,\\\"#ed7953\\\"],[0.7777777777777778,\\\"#fb9f3a\\\"],[0.8888888888888888,\\\"#fdca26\\\"],[1.0,\\\"#f0f921\\\"]]},\\\"yaxis\\\":{\\\"gridcolor\\\":\\\"white\\\",\\\"zerolinewidth\\\":2,\\\"title\\\":{\\\"standoff\\\":15},\\\"ticks\\\":\\\"\\\",\\\"zerolinecolor\\\":\\\"white\\\",\\\"automargin\\\":true,\\\"linecolor\\\":\\\"white\\\"},\\\"shapedefaults\\\":{\\\"line\\\":{\\\"color\\\":\\\"#2a3f5f\\\"}},\\\"hoverlabel\\\":{\\\"align\\\":\\\"left\\\"},\\\"mapbox\\\":{\\\"style\\\":\\\"light\\\"},\\\"polar\\\":{\\\"angularaxis\\\":{\\\"gridcolor\\\":\\\"white\\\",\\\"ticks\\\":\\\"\\\",\\\"linecolor\\\":\\\"white\\\"},\\\"bgcolor\\\":\\\"#E5ECF6\\\",\\\"radialaxis\\\":{\\\"gridcolor\\\":\\\"white\\\",\\\"ticks\\\":\\\"\\\",\\\"linecolor\\\":\\\"white\\\"}},\\\"autotypenumbers\\\":\\\"strict\\\",\\\"font\\\":{\\\"color\\\":\\\"#2a3f5f\\\"},\\\"ternary\\\":{\\\"baxis\\\":{\\\"gridcolor\\\":\\\"white\\\",\\\"ticks\\\":\\\"\\\",\\\"linecolor\\\":\\\"white\\\"},\\\"bgcolor\\\":\\\"#E5ECF6\\\",\\\"caxis\\\":{\\\"gridcolor\\\":\\\"white\\\",\\\"ticks\\\":\\\"\\\",\\\"linecolor\\\":\\\"white\\\"},\\\"aaxis\\\":{\\\"gridcolor\\\":\\\"white\\\",\\\"ticks\\\":\\\"\\\",\\\"linecolor\\\":\\\"white\\\"}},\\\"annotationdefaults\\\":{\\\"arrowhead\\\":0,\\\"arrowwidth\\\":1,\\\"arrowcolor\\\":\\\"#2a3f5f\\\"},\\\"plot_bgcolor\\\":\\\"#E5ECF6\\\",\\\"title\\\":{\\\"x\\\":0.05},\\\"scene\\\":{\\\"xaxis\\\":{\\\"gridcolor\\\":\\\"white\\\",\\\"gridwidth\\\":2,\\\"backgroundcolor\\\":\\\"#E5ECF6\\\",\\\"ticks\\\":\\\"\\\",\\\"showbackground\\\":true,\\\"zerolinecolor\\\":\\\"white\\\",\\\"linecolor\\\":\\\"white\\\"},\\\"zaxis\\\":{\\\"gridcolor\\\":\\\"white\\\",\\\"gridwidth\\\":2,\\\"backgroundcolor\\\":\\\"#E5ECF6\\\",\\\"ticks\\\":\\\"\\\",\\\"showbackground\\\":true,\\\"zerolinecolor\\\":\\\"white\\\",\\\"linecolor\\\":\\\"white\\\"},\\\"yaxis\\\":{\\\"gridcolor\\\":\\\"white\\\",\\\"gridwidth\\\":2,\\\"backgroundcolor\\\":\\\"#E5ECF6\\\",\\\"ticks\\\":\\\"\\\",\\\"showbackground\\\":true,\\\"zerolinecolor\\\":\\\"white\\\",\\\"linecolor\\\":\\\"white\\\"}},\\\"colorway\\\":[\\\"#636efa\\\",\\\"#EF553B\\\",\\\"#00cc96\\\",\\\"#ab63fa\\\",\\\"#FFA15A\\\",\\\"#19d3f3\\\",\\\"#FF6692\\\",\\\"#B6E880\\\",\\\"#FF97FF\\\",\\\"#FECB52\\\"]},\\\"data\\\":{\\\"barpolar\\\":[{\\\"type\\\":\\\"barpolar\\\",\\\"marker\\\":{\\\"line\\\":{\\\"color\\\":\\\"#E5ECF6\\\",\\\"width\\\":0.5}}}],\\\"carpet\\\":[{\\\"aaxis\\\":{\\\"gridcolor\\\":\\\"white\\\",\\\"endlinecolor\\\":\\\"#2a3f5f\\\",\\\"minorgridcolor\\\":\\\"white\\\",\\\"startlinecolor\\\":\\\"#2a3f5f\\\",\\\"linecolor\\\":\\\"white\\\"},\\\"type\\\":\\\"carpet\\\",\\\"baxis\\\":{\\\"gridcolor\\\":\\\"white\\\",\\\"endlinecolor\\\":\\\"#2a3f5f\\\",\\\"minorgridcolor\\\":\\\"white\\\",\\\"startlinecolor\\\":\\\"#2a3f5f\\\",\\\"linecolor\\\":\\\"white\\\"}}],\\\"scatterpolar\\\":[{\\\"type\\\":\\\"scatterpolar\\\",\\\"marker\\\":{\\\"colorbar\\\":{\\\"ticks\\\":\\\"\\\",\\\"outlinewidth\\\":0}}}],\\\"parcoords\\\":[{\\\"line\\\":{\\\"colorbar\\\":{\\\"ticks\\\":\\\"\\\",\\\"outlinewidth\\\":0}},\\\"type\\\":\\\"parcoords\\\"}],\\\"scatter\\\":[{\\\"type\\\":\\\"scatter\\\",\\\"marker\\\":{\\\"colorbar\\\":{\\\"ticks\\\":\\\"\\\",\\\"outlinewidth\\\":0}}}],\\\"histogram2dcontour\\\":[{\\\"colorbar\\\":{\\\"ticks\\\":\\\"\\\",\\\"outlinewidth\\\":0},\\\"type\\\":\\\"histogram2dcontour\\\",\\\"colorscale\\\":[[0.0,\\\"#0d0887\\\"],[0.1111111111111111,\\\"#46039f\\\"],[0.2222222222222222,\\\"#7201a8\\\"],[0.3333333333333333,\\\"#9c179e\\\"],[0.4444444444444444,\\\"#bd3786\\\"],[0.5555555555555556,\\\"#d8576b\\\"],[0.6666666666666666,\\\"#ed7953\\\"],[0.7777777777777778,\\\"#fb9f3a\\\"],[0.8888888888888888,\\\"#fdca26\\\"],[1.0,\\\"#f0f921\\\"]]}],\\\"contour\\\":[{\\\"colorbar\\\":{\\\"ticks\\\":\\\"\\\",\\\"outlinewidth\\\":0},\\\"type\\\":\\\"contour\\\",\\\"colorscale\\\":[[0.0,\\\"#0d0887\\\"],[0.1111111111111111,\\\"#46039f\\\"],[0.2222222222222222,\\\"#7201a8\\\"],[0.3333333333333333,\\\"#9c179e\\\"],[0.4444444444444444,\\\"#bd3786\\\"],[0.5555555555555556,\\\"#d8576b\\\"],[0.6666666666666666,\\\"#ed7953\\\"],[0.7777777777777778,\\\"#fb9f3a\\\"],[0.8888888888888888,\\\"#fdca26\\\"],[1.0,\\\"#f0f921\\\"]]}],\\\"scattercarpet\\\":[{\\\"type\\\":\\\"scattercarpet\\\",\\\"marker\\\":{\\\"colorbar\\\":{\\\"ticks\\\":\\\"\\\",\\\"outlinewidth\\\":0}}}],\\\"mesh3d\\\":[{\\\"colorbar\\\":{\\\"ticks\\\":\\\"\\\",\\\"outlinewidth\\\":0},\\\"type\\\":\\\"mesh3d\\\"}],\\\"surface\\\":[{\\\"colorbar\\\":{\\\"ticks\\\":\\\"\\\",\\\"outlinewidth\\\":0},\\\"type\\\":\\\"surface\\\",\\\"colorscale\\\":[[0.0,\\\"#0d0887\\\"],[0.1111111111111111,\\\"#46039f\\\"],[0.2222222222222222,\\\"#7201a8\\\"],[0.3333333333333333,\\\"#9c179e\\\"],[0.4444444444444444,\\\"#bd3786\\\"],[0.5555555555555556,\\\"#d8576b\\\"],[0.6666666666666666,\\\"#ed7953\\\"],[0.7777777777777778,\\\"#fb9f3a\\\"],[0.8888888888888888,\\\"#fdca26\\\"],[1.0,\\\"#f0f921\\\"]]}],\\\"scattermapbox\\\":[{\\\"type\\\":\\\"scattermapbox\\\",\\\"marker\\\":{\\\"colorbar\\\":{\\\"ticks\\\":\\\"\\\",\\\"outlinewidth\\\":0}}}],\\\"scattergeo\\\":[{\\\"type\\\":\\\"scattergeo\\\",\\\"marker\\\":{\\\"colorbar\\\":{\\\"ticks\\\":\\\"\\\",\\\"outlinewidth\\\":0}}}],\\\"histogram\\\":[{\\\"type\\\":\\\"histogram\\\",\\\"marker\\\":{\\\"colorbar\\\":{\\\"ticks\\\":\\\"\\\",\\\"outlinewidth\\\":0}}}],\\\"pie\\\":[{\\\"type\\\":\\\"pie\\\",\\\"automargin\\\":true}],\\\"choropleth\\\":[{\\\"colorbar\\\":{\\\"ticks\\\":\\\"\\\",\\\"outlinewidth\\\":0},\\\"type\\\":\\\"choropleth\\\"}],\\\"heatmapgl\\\":[{\\\"colorbar\\\":{\\\"ticks\\\":\\\"\\\",\\\"outlinewidth\\\":0},\\\"type\\\":\\\"heatmapgl\\\",\\\"colorscale\\\":[[0.0,\\\"#0d0887\\\"],[0.1111111111111111,\\\"#46039f\\\"],[0.2222222222222222,\\\"#7201a8\\\"],[0.3333333333333333,\\\"#9c179e\\\"],[0.4444444444444444,\\\"#bd3786\\\"],[0.5555555555555556,\\\"#d8576b\\\"],[0.6666666666666666,\\\"#ed7953\\\"],[0.7777777777777778,\\\"#fb9f3a\\\"],[0.8888888888888888,\\\"#fdca26\\\"],[1.0,\\\"#f0f921\\\"]]}],\\\"bar\\\":[{\\\"type\\\":\\\"bar\\\",\\\"error_y\\\":{\\\"color\\\":\\\"#2a3f5f\\\"},\\\"error_x\\\":{\\\"color\\\":\\\"#2a3f5f\\\"},\\\"marker\\\":{\\\"line\\\":{\\\"color\\\":\\\"#E5ECF6\\\",\\\"width\\\":0.5}}}],\\\"heatmap\\\":[{\\\"colorbar\\\":{\\\"ticks\\\":\\\"\\\",\\\"outlinewidth\\\":0},\\\"type\\\":\\\"heatmap\\\",\\\"colorscale\\\":[[0.0,\\\"#0d0887\\\"],[0.1111111111111111,\\\"#46039f\\\"],[0.2222222222222222,\\\"#7201a8\\\"],[0.3333333333333333,\\\"#9c179e\\\"],[0.4444444444444444,\\\"#bd3786\\\"],[0.5555555555555556,\\\"#d8576b\\\"],[0.6666666666666666,\\\"#ed7953\\\"],[0.7777777777777778,\\\"#fb9f3a\\\"],[0.8888888888888888,\\\"#fdca26\\\"],[1.0,\\\"#f0f921\\\"]]}],\\\"contourcarpet\\\":[{\\\"colorbar\\\":{\\\"ticks\\\":\\\"\\\",\\\"outlinewidth\\\":0},\\\"type\\\":\\\"contourcarpet\\\"}],\\\"table\\\":[{\\\"type\\\":\\\"table\\\",\\\"header\\\":{\\\"line\\\":{\\\"color\\\":\\\"white\\\"},\\\"fill\\\":{\\\"color\\\":\\\"#C8D4E3\\\"}},\\\"cells\\\":{\\\"line\\\":{\\\"color\\\":\\\"white\\\"},\\\"fill\\\":{\\\"color\\\":\\\"#EBF0F8\\\"}}}],\\\"scatter3d\\\":[{\\\"line\\\":{\\\"colorbar\\\":{\\\"ticks\\\":\\\"\\\",\\\"outlinewidth\\\":0}},\\\"type\\\":\\\"scatter3d\\\",\\\"marker\\\":{\\\"colorbar\\\":{\\\"ticks\\\":\\\"\\\",\\\"outlinewidth\\\":0}}}],\\\"scattergl\\\":[{\\\"type\\\":\\\"scattergl\\\",\\\"marker\\\":{\\\"colorbar\\\":{\\\"ticks\\\":\\\"\\\",\\\"outlinewidth\\\":0}}}],\\\"histogram2d\\\":[{\\\"colorbar\\\":{\\\"ticks\\\":\\\"\\\",\\\"outlinewidth\\\":0},\\\"type\\\":\\\"histogram2d\\\",\\\"colorscale\\\":[[0.0,\\\"#0d0887\\\"],[0.1111111111111111,\\\"#46039f\\\"],[0.2222222222222222,\\\"#7201a8\\\"],[0.3333333333333333,\\\"#9c179e\\\"],[0.4444444444444444,\\\"#bd3786\\\"],[0.5555555555555556,\\\"#d8576b\\\"],[0.6666666666666666,\\\"#ed7953\\\"],[0.7777777777777778,\\\"#fb9f3a\\\"],[0.8888888888888888,\\\"#fdca26\\\"],[1.0,\\\"#f0f921\\\"]]}],\\\"scatterternary\\\":[{\\\"type\\\":\\\"scatterternary\\\",\\\"marker\\\":{\\\"colorbar\\\":{\\\"ticks\\\":\\\"\\\",\\\"outlinewidth\\\":0}}}],\\\"scatterpolargl\\\":[{\\\"type\\\":\\\"scatterpolargl\\\",\\\"marker\\\":{\\\"colorbar\\\":{\\\"ticks\\\":\\\"\\\",\\\"outlinewidth\\\":0}}}]}},\\\"legend\\\":{\\\"title\\\":\\\"Legend Title\\\"},\\\"margin\\\":{\\\"l\\\":50,\\\"b\\\":50,\\\"r\\\":50,\\\"t\\\":60},\\\"title\\\":\\\"Position Measurement\\\",\\\"yaxis\\\":{\\\"title\\\":{\\\"text\\\":\\\"Position (meters)\\\"}}},{\\\"showLink\\\":false,\\\"editable\\\":false,\\\"responsive\\\":true,\\\"staticPlot\\\":false,\\\"scrollZoom\\\":true}); gd.on(\\\"plotly_hover\\\",(function (data){var filtered_data=WebIO.PlotlyCommands.filterEventData(gd,data,\\\"hover\\\"); return !(filtered_data.isnil) ? (WebIO.setval({\\\"name\\\":\\\"hover\\\",\\\"scope\\\":\\\"13924270514684682393\\\",\\\"id\\\":\\\"5062584292982544077\\\",\\\"type\\\":\\\"observable\\\"},filtered_data.out)) : undefined})); gd.on(\\\"plotly_unhover\\\",(function (){return WebIO.setval({\\\"name\\\":\\\"hover\\\",\\\"scope\\\":\\\"13924270514684682393\\\",\\\"id\\\":\\\"5062584292982544077\\\",\\\"type\\\":\\\"observable\\\"},{})})); gd.on(\\\"plotly_selected\\\",(function (data){var filtered_data=WebIO.PlotlyCommands.filterEventData(gd,data,\\\"selected\\\"); return !(filtered_data.isnil) ? (WebIO.setval({\\\"name\\\":\\\"selected\\\",\\\"scope\\\":\\\"13924270514684682393\\\",\\\"id\\\":\\\"6399445368312779306\\\",\\\"type\\\":\\\"observable\\\"},filtered_data.out)) : undefined})); gd.on(\\\"plotly_deselect\\\",(function (){return WebIO.setval({\\\"name\\\":\\\"selected\\\",\\\"scope\\\":\\\"13924270514684682393\\\",\\\"id\\\":\\\"6399445368312779306\\\",\\\"type\\\":\\\"observable\\\"},{})})); gd.on(\\\"plotly_relayout\\\",(function (data){var filtered_data=WebIO.PlotlyCommands.filterEventData(gd,data,\\\"relayout\\\"); return !(filtered_data.isnil) ? (WebIO.setval({\\\"name\\\":\\\"relayout\\\",\\\"scope\\\":\\\"13924270514684682393\\\",\\\"id\\\":\\\"7916413953811947286\\\",\\\"type\\\":\\\"observable\\\"},filtered_data.out)) : undefined})); return gd.on(\\\"plotly_click\\\",(function (data){var filtered_data=WebIO.PlotlyCommands.filterEventData(gd,data,\\\"click\\\"); return !(filtered_data.isnil) ? (WebIO.setval({\\\"name\\\":\\\"click\\\",\\\"scope\\\":\\\"13924270514684682393\\\",\\\"id\\\":\\\"14297427154550651930\\\",\\\"type\\\":\\\"observable\\\"},filtered_data.out)) : undefined}))}));\\n    (WebIO.importBlock({\\\"data\\\":[{\\\"name\\\":\\\"Plotly\\\",\\\"type\\\":\\\"js\\\",\\\"url\\\":\\\"\\/assetserver\\/627f17ff06762af3874159c00b9b1e00e50688bc-plotly.min.js\\\"},{\\\"name\\\":null,\\\"type\\\":\\\"js\\\",\\\"url\\\":\\\"\\/assetserver\\/1a276a0acb11ad47020d3f379225d41bbd0aeef0-plotly_webio.bundle.js\\\"}],\\\"type\\\":\\\"async_block\\\"})).then((imports) => handler.apply(this, imports));\\n}\\n\"],\"observables\":{\"_toImage\":{\"sync\":false,\"id\":\"9933437812221409136\",\"value\":{}},\"hover\":{\"sync\":false,\"id\":\"5062584292982544077\",\"value\":{}},\"selected\":{\"sync\":false,\"id\":\"6399445368312779306\",\"value\":{}},\"__gd_contents\":{\"sync\":false,\"id\":\"15602896036874411770\",\"value\":{}},\"click\":{\"sync\":false,\"id\":\"14297427154550651930\",\"value\":{}},\"image\":{\"sync\":true,\"id\":\"8818058044998857046\",\"value\":\"\"},\"__get_gd_contents\":{\"sync\":false,\"id\":\"9128465250852291293\",\"value\":\"\"},\"_downloadImage\":{\"sync\":false,\"id\":\"10812310935982095770\",\"value\":{}},\"relayout\":{\"sync\":false,\"id\":\"7916413953811947286\",\"value\":{}},\"_commands\":{\"sync\":false,\"id\":\"15728265468730581865\",\"value\":[]}}},\"children\":[{\"props\":{\"id\":\"plot-120bf96c-9eb6-43f0-8923-d4f2b0c13007\"},\"nodeType\":\"DOM\",\"type\":\"node\",\"instanceArgs\":{\"namespace\":\"html\",\"tag\":\"div\"},\"children\":[]}]},\n",
       "        window,\n",
       "    );\n",
       "    })()\n",
       "    </script>\n",
       "</div>\n"
      ],
      "text/plain": [
       "data: [\n",
       "  \"scatter with fields mode, name, type, x, and y\",\n",
       "  \"scatter with fields error_y, mode, name, type, x, and y\"\n",
       "]\n",
       "\n",
       "layout: \"layout with fields legend, margin, template, title, xaxis, and yaxis\"\n",
       "\n"
      ]
     },
     "execution_count": 334,
     "metadata": {},
     "output_type": "execute_result"
    }
   ],
   "source": [
    "plot(\n",
    "    [\n",
    "        # True position\n",
    "        scatter(\n",
    "            mode=\"markers\",\n",
    "            x=time_axis_sec,\n",
    "            y=[tr_st[1] for tr_st in true_state_fcn_time],\n",
    "            name=\"True Position\"\n",
    "        ),\n",
    "        # Estimated position\n",
    "        scatter(\n",
    "            mode=\"markers\",\n",
    "            x=time_axis_sec,\n",
    "            y=[s.state[1] for s in states_fcn_time],\n",
    "            error_y=attr(\n",
    "                type=\"data\",\n",
    "                array=[sqrt(s.cov[1, 1]) for s in states_fcn_time]\n",
    "            ),\n",
    "            name=\"Estimated Position\"\n",
    "        )\n",
    "    ],\n",
    "    Layout(\n",
    "        title=\"Position Measurement\",\n",
    "        xaxis_title=\"Time (second)\",\n",
    "        yaxis_title=\"Position (meters)\",\n",
    "        legend_title=\"Legend Title\",\n",
    "    ),\n",
    "    config=PlotConfig(scrollZoom=true)\n",
    ")"
   ]
  },
  {
   "cell_type": "code",
   "execution_count": 335,
   "id": "d5e967dd",
   "metadata": {},
   "outputs": [
    {
     "data": {
      "application/vnd.plotly.v1+json": {
       "config": {
        "editable": false,
        "responsive": true,
        "scrollZoom": true,
        "showLink": false,
        "staticPlot": false
       },
       "data": [
        {
         "mode": "markers",
         "name": "True Velocity",
         "type": "scatter",
         "x": [
          0,
          0.15,
          0.3,
          0.44999999999999996,
          0.6,
          0.75,
          0.8999999999999999,
          1.05,
          1.2,
          1.3499999999999999,
          1.5,
          1.65,
          1.7999999999999998,
          1.95,
          2.1,
          2.25,
          2.4,
          2.55,
          2.6999999999999997,
          2.85,
          3,
          3.15,
          3.3,
          3.4499999999999997,
          3.5999999999999996,
          3.75,
          3.9,
          4.05,
          4.2,
          4.35,
          4.5,
          4.6499999999999995,
          4.8,
          4.95,
          5.1,
          5.25,
          5.3999999999999995,
          5.55,
          5.7,
          5.85,
          6,
          6.1499999999999995,
          6.3,
          6.45,
          6.6,
          6.75,
          6.8999999999999995,
          7.05,
          7.199999999999999,
          7.35,
          7.5,
          7.6499999999999995,
          7.8,
          7.949999999999999,
          8.1,
          8.25,
          8.4,
          8.549999999999999,
          8.7,
          8.85,
          9,
          9.15,
          9.299999999999999,
          9.45,
          9.6,
          9.75,
          9.9,
          10.049999999999999,
          10.2,
          10.35,
          10.5,
          10.65,
          10.799999999999999,
          10.95,
          11.1,
          11.25,
          11.4,
          11.549999999999999,
          11.7,
          11.85,
          12,
          12.15,
          12.299999999999999,
          12.45,
          12.6,
          12.75,
          12.9,
          13.049999999999999,
          13.2,
          13.35,
          13.5,
          13.65,
          13.799999999999999,
          13.95,
          14.1,
          14.25,
          14.399999999999999,
          14.549999999999999,
          14.7,
          14.85
         ],
         "y": [
          -1.4178813247209492,
          -2.8815369664407706,
          -4.338884050451041,
          -5.787875501096367,
          -7.226511280804608,
          -8.652849073906653,
          -10.065014298154756,
          -11.461209340075087,
          -12.839721925241717,
          -14.198932550805,
          -15.537320924694075,
          -16.853471373383044,
          -18.146077197517013,
          -19.413943971618156,
          -20.655991800154286,
          -21.87125655712368,
          -23.058890149719836,
          -24.21815985837984,
          -25.3484468154463,
          -26.449243692705192,
          -27.520151674178873,
          -28.560876794790005,
          -29.5712257279482,
          -30.551101105869304,
          -31.500496455669033,
          -32.4194908321539,
          -33.30824322495283,
          -34.16698681338966,
          -34.99602313748628,
          -35.795716247900664,
          -36.56648689162301,
          -37.3088067840439,
          -38.02319301171962,
          -38.71020260392241,
          -39.37042730498904,
          -40.00448857366038,
          -40.61303283011158,
          -41.19672696626099,
          -41.75625413025464,
          -42.292309791775764,
          -42.805598091035996,
          -43.296828470966,
          -43.766712589229115,
          -44.21596150421479,
          -44.64528312710675,
          -45.05537993043681,
          -45.446946902199265,
          -45.82066973358166,
          -46.17722322763251,
          -46.51726991570433,
          -46.84145886824858,
          -47.15042468646874,
          -47.444786661430314,
          -47.725148087455246,
          -47.99209571696969,
          -48.24619934440558,
          -48.4880115072588,
          -48.71806729296228,
          -48.9368842408256,
          -49.14496232891026,
          -49.34278403634086,
          -49.530814472186144,
          -49.70950156267334,
          -49.879276289117,
          -50.04055296954457,
          -50.19372957758088,
          -50.33918809270963,
          -50.47729487655901,
          -50.608401070359754,
          -50.73284300919566,
          -50.85094264910904,
          -50.96300800353629,
          -51.069333585932505,
          -51.17020085579894,
          -51.26587866565491,
          -51.35662370679661,
          -51.44268095196098,
          -51.524284093264505,
          -51.6016559740157,
          -51.67500901320776,
          -51.74454562168551,
          -51.810458609149904,
          -51.87293158131532,
          -51.93213932667066,
          -51.98824819241667,
          -52.04141644925948,
          -52.091794644835794,
          -52.13952594562911,
          -52.18474646731012,
          -52.227585593498745,
          -52.26816628300117,
          -52.30660536562331,
          -52.34301382670358,
          -52.377497080542675,
          -52.41015523293773,
          -52.44108333305255,
          -52.47037161487568,
          -52.498105728534206,
          -52.52436696174367,
          -52.54923245168394
         ]
        },
        {
         "error_y": {
          "array": [
           9.988052345401387,
           9.985899294462913,
           9.980201445519116,
           9.969191899672177,
           9.951158548661018,
           9.924469396625632,
           9.887609398146932,
           9.83922230336902,
           9.778154192226255,
           9.70349519915314,
           9.614615711568245,
           9.511193443245633,
           9.3932283375687,
           9.261043237059356,
           9.115269562083133,
           8.956818694396574,
           8.786841141220748,
           8.606676652614995,
           8.417799125335849,
           8.221760284459805,
           8.020135819302684,
           7.81447696971888,
           7.606269663846282,
           7.396902356113286,
           7.187642837323062,
           6.9796235764515995,
           6.773834648918721,
           6.571123010373913,
           6.372196761933509,
           6.177633080679467,
           5.987888612637157,
           5.803311302905459,
           5.624152835775896,
           5.450581052649174,
           5.282691892267557,
           5.120520548382676,
           4.964051661924738,
           4.813228458981783,
           4.6679608154040455,
           4.528132277508566,
           4.393606100249824,
           4.2642303831624995,
           4.139842393705188,
           4.020272170100696,
           3.9053454935757266,
           3.794886314736612,
           3.6887187119297935,
           3.586668451725314,
           3.4885642137500845,
           3.394238534396057,
           3.3035285166912196,
           3.2162763469906785,
           3.132329653184811,
           3.0515417338424498,
           2.9737716830862646,
           2.8988844319915006,
           2.8267507238537966,
           2.7572470377282428,
           2.6902554721415055,
           2.6256635987655166,
           2.5633642940629637,
           2.5032555554243503,
           2.445240307071842,
           2.3892261999693822,
           2.3351254091195868,
           2.2828544309177965,
           2.2323338826486805,
           2.183488305730439,
           2.136245973918839,
           2.090538707363312,
           2.046301693147873,
           2.003473312740369,
           1.9619949766057816,
           1.921810966105798,
           1.8828682827015446,
           1.8451165043941786,
           1.808507649274795,
           1.7729960460072955,
           1.7385382110326422,
           1.7050927322578209,
           1.672620158975972,
           1.6410828977537972,
           1.6104451140172396,
           1.5806726390654073,
           1.5517328822449263,
           1.5235947480215415,
           1.4962285576923253,
           1.469605975489741,
           1.4436999388376808,
           1.4184845925291438,
           1.3939352266051532,
           1.370028217724651,
           1.3467409738253109,
           1.324051881885305,
           1.3019402586059903,
           1.2803863038451688,
           1.2593710566399479,
           1.2388763536672682,
           1.2188847899988398,
           1.1993796820155171
          ],
          "type": "data"
         },
         "mode": "markers",
         "name": "Estimated Velocity",
         "type": "scatter",
         "x": [
          0,
          0.15,
          0.3,
          0.44999999999999996,
          0.6,
          0.75,
          0.8999999999999999,
          1.05,
          1.2,
          1.3499999999999999,
          1.5,
          1.65,
          1.7999999999999998,
          1.95,
          2.1,
          2.25,
          2.4,
          2.55,
          2.6999999999999997,
          2.85,
          3,
          3.15,
          3.3,
          3.4499999999999997,
          3.5999999999999996,
          3.75,
          3.9,
          4.05,
          4.2,
          4.35,
          4.5,
          4.6499999999999995,
          4.8,
          4.95,
          5.1,
          5.25,
          5.3999999999999995,
          5.55,
          5.7,
          5.85,
          6,
          6.1499999999999995,
          6.3,
          6.45,
          6.6,
          6.75,
          6.8999999999999995,
          7.05,
          7.199999999999999,
          7.35,
          7.5,
          7.6499999999999995,
          7.8,
          7.949999999999999,
          8.1,
          8.25,
          8.4,
          8.549999999999999,
          8.7,
          8.85,
          9,
          9.15,
          9.299999999999999,
          9.45,
          9.6,
          9.75,
          9.9,
          10.049999999999999,
          10.2,
          10.35,
          10.5,
          10.65,
          10.799999999999999,
          10.95,
          11.1,
          11.25,
          11.4,
          11.549999999999999,
          11.7,
          11.85,
          12,
          12.15,
          12.299999999999999,
          12.45,
          12.6,
          12.75,
          12.9,
          13.049999999999999,
          13.2,
          13.35,
          13.5,
          13.65,
          13.799999999999999,
          13.95,
          14.1,
          14.25,
          14.399999999999999,
          14.549999999999999,
          14.7,
          14.85
         ],
         "y": [
          -1.4695428556589276,
          -2.940494078681953,
          -4.40857678527538,
          -5.870211730486676,
          -7.321742885050151,
          -8.759605111488861,
          -10.180454418755794,
          -11.581272681676541,
          -12.959443329010256,
          -14.31279376043606,
          -15.639603278903648,
          -16.938579392710928,
          -18.208809054459284,
          -19.449693850600152,
          -20.66087888566811,
          -21.84218415692073,
          -22.993545029542883,
          -24.114965657838475,
          -25.206486508350686,
          -26.268165005572932,
          -27.300066966749437,
          -28.302265912479363,
          -29.274847372234607,
          -30.21791572382502,
          -31.131601700376958,
          -32.01606930762332,
          -32.87152142219753,
          -33.69820374714464,
          -34.496407080916214,
          -35.2664680284697,
          -36.00876837335271,
          -36.72373336317177,
          -37.41182915877812,
          -38.07355967562791,
          -38.70946301485151,
          -39.32010764833574,
          -39.90608849041046,
          -40.46802296041775,
          -41.00654711620572,
          -41.522311918422616,
          -42.01597966903595,
          -42.48822065427542,
          -42.93971001168055,
          -43.37112483264626,
          -43.78314150538483,
          -44.17643329820904,
          -44.551668179202345,
          -44.909506865444946,
          -45.25060109282198,
          -45.575592095903524,
          -45.88510928633495,
          -46.17976911751446,
          -46.460174122984185,
          -46.72691211585955,
          -46.9805555367156,
          -47.22166093759771,
          -47.450768590191444,
          -47.66840220664355,
          -47.87506876204953,
          -48.071258408192236,
          -48.257444468714944,
          -48.43408350652703,
          -48.60161545486044,
          -48.760463804010556,
          -48.91103583640024,
          -49.05372290319349,
          -49.18890073625203,
          -49.31692978977063,
          -49.438155606443075,
          -49.552909203498054,
          -49.66150747440335,
          -49.764253602465864,
          -49.861437482955125,
          -49.9533361507495,
          -50.040214210847395,
          -50.12232426940204,
          -50.19990736322871,
          -50.27319338599859,
          -50.34240150957568,
          -50.407740599172875,
          -50.46940962120272,
          -50.52759804287803,
          -50.58248622277966,
          -50.63424579175352,
          -50.68304002362911,
          -50.72902419536698,
          -50.772345936345396,
          -50.81314556658694,
          -50.85155642380557,
          -50.88770517922452,
          -50.921712142176176,
          -50.953691553547976,
          -50.983751868183575,
          -51.01199602638737,
          -51.03852171471332,
          -51.06342161624643,
          -51.086783650608076,
          -51.10869120393481,
          -51.12922334909514,
          -51.148455056420055
         ]
        }
       ],
       "frames": [],
       "layout": {
        "legend": {
         "title": "Legend Title"
        },
        "margin": {
         "b": 50,
         "l": 50,
         "r": 50,
         "t": 60
        },
        "template": {
         "data": {
          "bar": [
           {
            "error_x": {
             "color": "#2a3f5f"
            },
            "error_y": {
             "color": "#2a3f5f"
            },
            "marker": {
             "line": {
              "color": "#E5ECF6",
              "width": 0.5
             }
            },
            "type": "bar"
           }
          ],
          "barpolar": [
           {
            "marker": {
             "line": {
              "color": "#E5ECF6",
              "width": 0.5
             }
            },
            "type": "barpolar"
           }
          ],
          "carpet": [
           {
            "aaxis": {
             "endlinecolor": "#2a3f5f",
             "gridcolor": "white",
             "linecolor": "white",
             "minorgridcolor": "white",
             "startlinecolor": "#2a3f5f"
            },
            "baxis": {
             "endlinecolor": "#2a3f5f",
             "gridcolor": "white",
             "linecolor": "white",
             "minorgridcolor": "white",
             "startlinecolor": "#2a3f5f"
            },
            "type": "carpet"
           }
          ],
          "choropleth": [
           {
            "colorbar": {
             "outlinewidth": 0,
             "ticks": ""
            },
            "type": "choropleth"
           }
          ],
          "contour": [
           {
            "colorbar": {
             "outlinewidth": 0,
             "ticks": ""
            },
            "colorscale": [
             [
              0,
              "#0d0887"
             ],
             [
              0.1111111111111111,
              "#46039f"
             ],
             [
              0.2222222222222222,
              "#7201a8"
             ],
             [
              0.3333333333333333,
              "#9c179e"
             ],
             [
              0.4444444444444444,
              "#bd3786"
             ],
             [
              0.5555555555555556,
              "#d8576b"
             ],
             [
              0.6666666666666666,
              "#ed7953"
             ],
             [
              0.7777777777777778,
              "#fb9f3a"
             ],
             [
              0.8888888888888888,
              "#fdca26"
             ],
             [
              1,
              "#f0f921"
             ]
            ],
            "type": "contour"
           }
          ],
          "contourcarpet": [
           {
            "colorbar": {
             "outlinewidth": 0,
             "ticks": ""
            },
            "type": "contourcarpet"
           }
          ],
          "heatmap": [
           {
            "colorbar": {
             "outlinewidth": 0,
             "ticks": ""
            },
            "colorscale": [
             [
              0,
              "#0d0887"
             ],
             [
              0.1111111111111111,
              "#46039f"
             ],
             [
              0.2222222222222222,
              "#7201a8"
             ],
             [
              0.3333333333333333,
              "#9c179e"
             ],
             [
              0.4444444444444444,
              "#bd3786"
             ],
             [
              0.5555555555555556,
              "#d8576b"
             ],
             [
              0.6666666666666666,
              "#ed7953"
             ],
             [
              0.7777777777777778,
              "#fb9f3a"
             ],
             [
              0.8888888888888888,
              "#fdca26"
             ],
             [
              1,
              "#f0f921"
             ]
            ],
            "type": "heatmap"
           }
          ],
          "heatmapgl": [
           {
            "colorbar": {
             "outlinewidth": 0,
             "ticks": ""
            },
            "colorscale": [
             [
              0,
              "#0d0887"
             ],
             [
              0.1111111111111111,
              "#46039f"
             ],
             [
              0.2222222222222222,
              "#7201a8"
             ],
             [
              0.3333333333333333,
              "#9c179e"
             ],
             [
              0.4444444444444444,
              "#bd3786"
             ],
             [
              0.5555555555555556,
              "#d8576b"
             ],
             [
              0.6666666666666666,
              "#ed7953"
             ],
             [
              0.7777777777777778,
              "#fb9f3a"
             ],
             [
              0.8888888888888888,
              "#fdca26"
             ],
             [
              1,
              "#f0f921"
             ]
            ],
            "type": "heatmapgl"
           }
          ],
          "histogram": [
           {
            "marker": {
             "colorbar": {
              "outlinewidth": 0,
              "ticks": ""
             }
            },
            "type": "histogram"
           }
          ],
          "histogram2d": [
           {
            "colorbar": {
             "outlinewidth": 0,
             "ticks": ""
            },
            "colorscale": [
             [
              0,
              "#0d0887"
             ],
             [
              0.1111111111111111,
              "#46039f"
             ],
             [
              0.2222222222222222,
              "#7201a8"
             ],
             [
              0.3333333333333333,
              "#9c179e"
             ],
             [
              0.4444444444444444,
              "#bd3786"
             ],
             [
              0.5555555555555556,
              "#d8576b"
             ],
             [
              0.6666666666666666,
              "#ed7953"
             ],
             [
              0.7777777777777778,
              "#fb9f3a"
             ],
             [
              0.8888888888888888,
              "#fdca26"
             ],
             [
              1,
              "#f0f921"
             ]
            ],
            "type": "histogram2d"
           }
          ],
          "histogram2dcontour": [
           {
            "colorbar": {
             "outlinewidth": 0,
             "ticks": ""
            },
            "colorscale": [
             [
              0,
              "#0d0887"
             ],
             [
              0.1111111111111111,
              "#46039f"
             ],
             [
              0.2222222222222222,
              "#7201a8"
             ],
             [
              0.3333333333333333,
              "#9c179e"
             ],
             [
              0.4444444444444444,
              "#bd3786"
             ],
             [
              0.5555555555555556,
              "#d8576b"
             ],
             [
              0.6666666666666666,
              "#ed7953"
             ],
             [
              0.7777777777777778,
              "#fb9f3a"
             ],
             [
              0.8888888888888888,
              "#fdca26"
             ],
             [
              1,
              "#f0f921"
             ]
            ],
            "type": "histogram2dcontour"
           }
          ],
          "mesh3d": [
           {
            "colorbar": {
             "outlinewidth": 0,
             "ticks": ""
            },
            "type": "mesh3d"
           }
          ],
          "parcoords": [
           {
            "line": {
             "colorbar": {
              "outlinewidth": 0,
              "ticks": ""
             }
            },
            "type": "parcoords"
           }
          ],
          "pie": [
           {
            "automargin": true,
            "type": "pie"
           }
          ],
          "scatter": [
           {
            "marker": {
             "colorbar": {
              "outlinewidth": 0,
              "ticks": ""
             }
            },
            "type": "scatter"
           }
          ],
          "scatter3d": [
           {
            "line": {
             "colorbar": {
              "outlinewidth": 0,
              "ticks": ""
             }
            },
            "marker": {
             "colorbar": {
              "outlinewidth": 0,
              "ticks": ""
             }
            },
            "type": "scatter3d"
           }
          ],
          "scattercarpet": [
           {
            "marker": {
             "colorbar": {
              "outlinewidth": 0,
              "ticks": ""
             }
            },
            "type": "scattercarpet"
           }
          ],
          "scattergeo": [
           {
            "marker": {
             "colorbar": {
              "outlinewidth": 0,
              "ticks": ""
             }
            },
            "type": "scattergeo"
           }
          ],
          "scattergl": [
           {
            "marker": {
             "colorbar": {
              "outlinewidth": 0,
              "ticks": ""
             }
            },
            "type": "scattergl"
           }
          ],
          "scattermapbox": [
           {
            "marker": {
             "colorbar": {
              "outlinewidth": 0,
              "ticks": ""
             }
            },
            "type": "scattermapbox"
           }
          ],
          "scatterpolar": [
           {
            "marker": {
             "colorbar": {
              "outlinewidth": 0,
              "ticks": ""
             }
            },
            "type": "scatterpolar"
           }
          ],
          "scatterpolargl": [
           {
            "marker": {
             "colorbar": {
              "outlinewidth": 0,
              "ticks": ""
             }
            },
            "type": "scatterpolargl"
           }
          ],
          "scatterternary": [
           {
            "marker": {
             "colorbar": {
              "outlinewidth": 0,
              "ticks": ""
             }
            },
            "type": "scatterternary"
           }
          ],
          "surface": [
           {
            "colorbar": {
             "outlinewidth": 0,
             "ticks": ""
            },
            "colorscale": [
             [
              0,
              "#0d0887"
             ],
             [
              0.1111111111111111,
              "#46039f"
             ],
             [
              0.2222222222222222,
              "#7201a8"
             ],
             [
              0.3333333333333333,
              "#9c179e"
             ],
             [
              0.4444444444444444,
              "#bd3786"
             ],
             [
              0.5555555555555556,
              "#d8576b"
             ],
             [
              0.6666666666666666,
              "#ed7953"
             ],
             [
              0.7777777777777778,
              "#fb9f3a"
             ],
             [
              0.8888888888888888,
              "#fdca26"
             ],
             [
              1,
              "#f0f921"
             ]
            ],
            "type": "surface"
           }
          ],
          "table": [
           {
            "cells": {
             "fill": {
              "color": "#EBF0F8"
             },
             "line": {
              "color": "white"
             }
            },
            "header": {
             "fill": {
              "color": "#C8D4E3"
             },
             "line": {
              "color": "white"
             }
            },
            "type": "table"
           }
          ]
         },
         "layout": {
          "annotationdefaults": {
           "arrowcolor": "#2a3f5f",
           "arrowhead": 0,
           "arrowwidth": 1
          },
          "autotypenumbers": "strict",
          "coloraxis": {
           "colorbar": {
            "outlinewidth": 0,
            "ticks": ""
           }
          },
          "colorscale": {
           "diverging": [
            [
             0,
             "#8e0152"
            ],
            [
             0.1,
             "#c51b7d"
            ],
            [
             0.2,
             "#de77ae"
            ],
            [
             0.3,
             "#f1b6da"
            ],
            [
             0.4,
             "#fde0ef"
            ],
            [
             0.5,
             "#f7f7f7"
            ],
            [
             0.6,
             "#e6f5d0"
            ],
            [
             0.7,
             "#b8e186"
            ],
            [
             0.8,
             "#7fbc41"
            ],
            [
             0.9,
             "#4d9221"
            ],
            [
             1,
             "#276419"
            ]
           ],
           "sequential": [
            [
             0,
             "#0d0887"
            ],
            [
             0.1111111111111111,
             "#46039f"
            ],
            [
             0.2222222222222222,
             "#7201a8"
            ],
            [
             0.3333333333333333,
             "#9c179e"
            ],
            [
             0.4444444444444444,
             "#bd3786"
            ],
            [
             0.5555555555555556,
             "#d8576b"
            ],
            [
             0.6666666666666666,
             "#ed7953"
            ],
            [
             0.7777777777777778,
             "#fb9f3a"
            ],
            [
             0.8888888888888888,
             "#fdca26"
            ],
            [
             1,
             "#f0f921"
            ]
           ],
           "sequentialminus": [
            [
             0,
             "#0d0887"
            ],
            [
             0.1111111111111111,
             "#46039f"
            ],
            [
             0.2222222222222222,
             "#7201a8"
            ],
            [
             0.3333333333333333,
             "#9c179e"
            ],
            [
             0.4444444444444444,
             "#bd3786"
            ],
            [
             0.5555555555555556,
             "#d8576b"
            ],
            [
             0.6666666666666666,
             "#ed7953"
            ],
            [
             0.7777777777777778,
             "#fb9f3a"
            ],
            [
             0.8888888888888888,
             "#fdca26"
            ],
            [
             1,
             "#f0f921"
            ]
           ]
          },
          "colorway": [
           "#636efa",
           "#EF553B",
           "#00cc96",
           "#ab63fa",
           "#FFA15A",
           "#19d3f3",
           "#FF6692",
           "#B6E880",
           "#FF97FF",
           "#FECB52"
          ],
          "font": {
           "color": "#2a3f5f"
          },
          "geo": {
           "bgcolor": "white",
           "lakecolor": "white",
           "landcolor": "#E5ECF6",
           "showlakes": true,
           "showland": true,
           "subunitcolor": "white"
          },
          "hoverlabel": {
           "align": "left"
          },
          "hovermode": "closest",
          "mapbox": {
           "style": "light"
          },
          "paper_bgcolor": "white",
          "plot_bgcolor": "#E5ECF6",
          "polar": {
           "angularaxis": {
            "gridcolor": "white",
            "linecolor": "white",
            "ticks": ""
           },
           "bgcolor": "#E5ECF6",
           "radialaxis": {
            "gridcolor": "white",
            "linecolor": "white",
            "ticks": ""
           }
          },
          "scene": {
           "xaxis": {
            "backgroundcolor": "#E5ECF6",
            "gridcolor": "white",
            "gridwidth": 2,
            "linecolor": "white",
            "showbackground": true,
            "ticks": "",
            "zerolinecolor": "white"
           },
           "yaxis": {
            "backgroundcolor": "#E5ECF6",
            "gridcolor": "white",
            "gridwidth": 2,
            "linecolor": "white",
            "showbackground": true,
            "ticks": "",
            "zerolinecolor": "white"
           },
           "zaxis": {
            "backgroundcolor": "#E5ECF6",
            "gridcolor": "white",
            "gridwidth": 2,
            "linecolor": "white",
            "showbackground": true,
            "ticks": "",
            "zerolinecolor": "white"
           }
          },
          "shapedefaults": {
           "line": {
            "color": "#2a3f5f"
           }
          },
          "ternary": {
           "aaxis": {
            "gridcolor": "white",
            "linecolor": "white",
            "ticks": ""
           },
           "baxis": {
            "gridcolor": "white",
            "linecolor": "white",
            "ticks": ""
           },
           "bgcolor": "#E5ECF6",
           "caxis": {
            "gridcolor": "white",
            "linecolor": "white",
            "ticks": ""
           }
          },
          "title": {
           "x": 0.05
          },
          "xaxis": {
           "automargin": true,
           "gridcolor": "white",
           "linecolor": "white",
           "ticks": "",
           "title": {
            "standoff": 15
           },
           "zerolinecolor": "white",
           "zerolinewidth": 2
          },
          "yaxis": {
           "automargin": true,
           "gridcolor": "white",
           "linecolor": "white",
           "ticks": "",
           "title": {
            "standoff": 15
           },
           "zerolinecolor": "white",
           "zerolinewidth": 2
          }
         }
        },
        "title": "Velocity Measurement",
        "xaxis": {
         "title": {
          "text": "Time (second)"
         }
        },
        "yaxis": {
         "title": {
          "text": "Velocity (meters / seconds)"
         }
        }
       }
      },
      "text/html": [
       "<div\n",
       "    class=\"webio-mountpoint\"\n",
       "    data-webio-mountpoint=\"7153698398916200789\"\n",
       ">\n",
       "    <script>\n",
       "    (function(){\n",
       "    // Some integrations (namely, IJulia/Jupyter) use an alternate render pathway than\n",
       "    // just putting the html on the page. If WebIO isn't defined, then it's pretty likely\n",
       "    // that we're in one of those situations and the integration just isn't installed\n",
       "    // correctly.\n",
       "    if (typeof window.WebIO === \"undefined\") {\n",
       "        document\n",
       "            .querySelector('[data-webio-mountpoint=\"7153698398916200789\"]')\n",
       "            .innerHTML = (\n",
       "                '<div style=\"padding: 1em; background-color: #f8d6da; border: 1px solid #f5c6cb; font-weight: bold;\">' +\n",
       "                '<p><strong>WebIO not detected.</strong></p>' +\n",
       "                '<p>Please read ' +\n",
       "                '<a href=\"https://juliagizmos.github.io/WebIO.jl/latest/troubleshooting/not-detected/\" target=\"_blank\">the troubleshooting guide</a> ' +\n",
       "                'for more information on how to resolve this issue.</p>' +\n",
       "                '<p><a href=\"https://juliagizmos.github.io/WebIO.jl/latest/troubleshooting/not-detected/\" target=\"_blank\">https://juliagizmos.github.io/WebIO.jl/latest/troubleshooting/not-detected/</a></p>' +\n",
       "                '</div>'\n",
       "            );\n",
       "        return;\n",
       "    }\n",
       "    WebIO.mount(\n",
       "        document.querySelector('[data-webio-mountpoint=\"7153698398916200789\"]'),\n",
       "        {\"props\":{},\"nodeType\":\"Scope\",\"type\":\"node\",\"instanceArgs\":{\"imports\":{\"data\":[{\"name\":\"Plotly\",\"type\":\"js\",\"url\":\"\\/assetserver\\/627f17ff06762af3874159c00b9b1e00e50688bc-plotly.min.js\"},{\"name\":null,\"type\":\"js\",\"url\":\"\\/assetserver\\/1a276a0acb11ad47020d3f379225d41bbd0aeef0-plotly_webio.bundle.js\"}],\"type\":\"async_block\"},\"id\":\"2825753143179117817\",\"handlers\":{\"_toImage\":[\"(function (options){return this.Plotly.toImage(this.plotElem,options).then((function (data){return WebIO.setval({\\\"name\\\":\\\"image\\\",\\\"scope\\\":\\\"2825753143179117817\\\",\\\"id\\\":\\\"14071489442018639804\\\",\\\"type\\\":\\\"observable\\\"},data)}))})\"],\"__get_gd_contents\":[\"(function (prop){prop==\\\"data\\\" ? (WebIO.setval({\\\"name\\\":\\\"__gd_contents\\\",\\\"scope\\\":\\\"2825753143179117817\\\",\\\"id\\\":\\\"4105494733735958921\\\",\\\"type\\\":\\\"observable\\\"},this.plotElem.data)) : undefined; return prop==\\\"layout\\\" ? (WebIO.setval({\\\"name\\\":\\\"__gd_contents\\\",\\\"scope\\\":\\\"2825753143179117817\\\",\\\"id\\\":\\\"4105494733735958921\\\",\\\"type\\\":\\\"observable\\\"},this.plotElem.layout)) : undefined})\"],\"_downloadImage\":[\"(function (options){return this.Plotly.downloadImage(this.plotElem,options)})\"],\"_commands\":[\"(function (args){var fn=args.shift(); var elem=this.plotElem; var Plotly=this.Plotly; args.unshift(elem); return Plotly[fn].apply(this,args)})\"]},\"systemjs_options\":null,\"mount_callbacks\":[\"function () {\\n    var handler = ((function (Plotly,PlotlyWebIO){PlotlyWebIO.init(WebIO); var gd=this.dom.querySelector(\\\"#plot-a83fb155-984e-4417-b862-772266eb022b\\\"); this.plotElem=gd; this.Plotly=Plotly; (window.Blink!==undefined) ? (gd.style.width=\\\"100%\\\", gd.style.height=\\\"100vh\\\", gd.style.marginLeft=\\\"0%\\\", gd.style.marginTop=\\\"0vh\\\") : undefined; window.onresize=(function (){return Plotly.Plots.resize(gd)}); Plotly.newPlot(gd,[{\\\"mode\\\":\\\"markers\\\",\\\"y\\\":[-1.4178813247209492,-2.8815369664407706,-4.338884050451041,-5.787875501096367,-7.226511280804608,-8.652849073906653,-10.065014298154756,-11.461209340075087,-12.839721925241717,-14.198932550805,-15.537320924694075,-16.853471373383044,-18.146077197517013,-19.413943971618156,-20.655991800154286,-21.87125655712368,-23.058890149719836,-24.21815985837984,-25.3484468154463,-26.449243692705192,-27.520151674178873,-28.560876794790005,-29.5712257279482,-30.551101105869304,-31.500496455669033,-32.4194908321539,-33.30824322495283,-34.16698681338966,-34.99602313748628,-35.795716247900664,-36.56648689162301,-37.3088067840439,-38.02319301171962,-38.71020260392241,-39.37042730498904,-40.00448857366038,-40.61303283011158,-41.19672696626099,-41.75625413025464,-42.292309791775764,-42.805598091035996,-43.296828470966,-43.766712589229115,-44.21596150421479,-44.64528312710675,-45.05537993043681,-45.446946902199265,-45.82066973358166,-46.17722322763251,-46.51726991570433,-46.84145886824858,-47.15042468646874,-47.444786661430314,-47.725148087455246,-47.99209571696969,-48.24619934440558,-48.4880115072588,-48.71806729296228,-48.9368842408256,-49.14496232891026,-49.34278403634086,-49.530814472186144,-49.70950156267334,-49.879276289117,-50.04055296954457,-50.19372957758088,-50.33918809270963,-50.47729487655901,-50.608401070359754,-50.73284300919566,-50.85094264910904,-50.96300800353629,-51.069333585932505,-51.17020085579894,-51.26587866565491,-51.35662370679661,-51.44268095196098,-51.524284093264505,-51.6016559740157,-51.67500901320776,-51.74454562168551,-51.810458609149904,-51.87293158131532,-51.93213932667066,-51.98824819241667,-52.04141644925948,-52.091794644835794,-52.13952594562911,-52.18474646731012,-52.227585593498745,-52.26816628300117,-52.30660536562331,-52.34301382670358,-52.377497080542675,-52.41015523293773,-52.44108333305255,-52.47037161487568,-52.498105728534206,-52.52436696174367,-52.54923245168394],\\\"type\\\":\\\"scatter\\\",\\\"name\\\":\\\"True Velocity\\\",\\\"x\\\":[0.0,0.15,0.3,0.44999999999999996,0.6,0.75,0.8999999999999999,1.05,1.2,1.3499999999999999,1.5,1.65,1.7999999999999998,1.95,2.1,2.25,2.4,2.55,2.6999999999999997,2.85,3.0,3.15,3.3,3.4499999999999997,3.5999999999999996,3.75,3.9,4.05,4.2,4.35,4.5,4.6499999999999995,4.8,4.95,5.1,5.25,5.3999999999999995,5.55,5.7,5.85,6.0,6.1499999999999995,6.3,6.45,6.6,6.75,6.8999999999999995,7.05,7.199999999999999,7.35,7.5,7.6499999999999995,7.8,7.949999999999999,8.1,8.25,8.4,8.549999999999999,8.7,8.85,9.0,9.15,9.299999999999999,9.45,9.6,9.75,9.9,10.049999999999999,10.2,10.35,10.5,10.65,10.799999999999999,10.95,11.1,11.25,11.4,11.549999999999999,11.7,11.85,12.0,12.15,12.299999999999999,12.45,12.6,12.75,12.9,13.049999999999999,13.2,13.35,13.5,13.65,13.799999999999999,13.95,14.1,14.25,14.399999999999999,14.549999999999999,14.7,14.85]},{\\\"mode\\\":\\\"markers\\\",\\\"y\\\":[-1.4695428556589276,-2.940494078681953,-4.40857678527538,-5.870211730486676,-7.321742885050151,-8.759605111488861,-10.180454418755794,-11.581272681676541,-12.959443329010256,-14.31279376043606,-15.639603278903648,-16.938579392710928,-18.208809054459284,-19.449693850600152,-20.66087888566811,-21.84218415692073,-22.993545029542883,-24.114965657838475,-25.206486508350686,-26.268165005572932,-27.300066966749437,-28.302265912479363,-29.274847372234607,-30.21791572382502,-31.131601700376958,-32.01606930762332,-32.87152142219753,-33.69820374714464,-34.496407080916214,-35.2664680284697,-36.00876837335271,-36.72373336317177,-37.41182915877812,-38.07355967562791,-38.70946301485151,-39.32010764833574,-39.90608849041046,-40.46802296041775,-41.00654711620572,-41.522311918422616,-42.01597966903595,-42.48822065427542,-42.93971001168055,-43.37112483264626,-43.78314150538483,-44.17643329820904,-44.551668179202345,-44.909506865444946,-45.25060109282198,-45.575592095903524,-45.88510928633495,-46.17976911751446,-46.460174122984185,-46.72691211585955,-46.9805555367156,-47.22166093759771,-47.450768590191444,-47.66840220664355,-47.87506876204953,-48.071258408192236,-48.257444468714944,-48.43408350652703,-48.60161545486044,-48.760463804010556,-48.91103583640024,-49.05372290319349,-49.18890073625203,-49.31692978977063,-49.438155606443075,-49.552909203498054,-49.66150747440335,-49.764253602465864,-49.861437482955125,-49.9533361507495,-50.040214210847395,-50.12232426940204,-50.19990736322871,-50.27319338599859,-50.34240150957568,-50.407740599172875,-50.46940962120272,-50.52759804287803,-50.58248622277966,-50.63424579175352,-50.68304002362911,-50.72902419536698,-50.772345936345396,-50.81314556658694,-50.85155642380557,-50.88770517922452,-50.921712142176176,-50.953691553547976,-50.983751868183575,-51.01199602638737,-51.03852171471332,-51.06342161624643,-51.086783650608076,-51.10869120393481,-51.12922334909514,-51.148455056420055],\\\"type\\\":\\\"scatter\\\",\\\"name\\\":\\\"Estimated Velocity\\\",\\\"error_y\\\":{\\\"type\\\":\\\"data\\\",\\\"array\\\":[9.988052345401387,9.985899294462913,9.980201445519116,9.969191899672177,9.951158548661018,9.924469396625632,9.887609398146932,9.83922230336902,9.778154192226255,9.70349519915314,9.614615711568245,9.511193443245633,9.3932283375687,9.261043237059356,9.115269562083133,8.956818694396574,8.786841141220748,8.606676652614995,8.417799125335849,8.221760284459805,8.020135819302684,7.81447696971888,7.606269663846282,7.396902356113286,7.187642837323062,6.9796235764515995,6.773834648918721,6.571123010373913,6.372196761933509,6.177633080679467,5.987888612637157,5.803311302905459,5.624152835775896,5.450581052649174,5.282691892267557,5.120520548382676,4.964051661924738,4.813228458981783,4.6679608154040455,4.528132277508566,4.393606100249824,4.2642303831624995,4.139842393705188,4.020272170100696,3.9053454935757266,3.794886314736612,3.6887187119297935,3.586668451725314,3.4885642137500845,3.394238534396057,3.3035285166912196,3.2162763469906785,3.132329653184811,3.0515417338424498,2.9737716830862646,2.8988844319915006,2.8267507238537966,2.7572470377282428,2.6902554721415055,2.6256635987655166,2.5633642940629637,2.5032555554243503,2.445240307071842,2.3892261999693822,2.3351254091195868,2.2828544309177965,2.2323338826486805,2.183488305730439,2.136245973918839,2.090538707363312,2.046301693147873,2.003473312740369,1.9619949766057816,1.921810966105798,1.8828682827015446,1.8451165043941786,1.808507649274795,1.7729960460072955,1.7385382110326422,1.7050927322578209,1.672620158975972,1.6410828977537972,1.6104451140172396,1.5806726390654073,1.5517328822449263,1.5235947480215415,1.4962285576923253,1.469605975489741,1.4436999388376808,1.4184845925291438,1.3939352266051532,1.370028217724651,1.3467409738253109,1.324051881885305,1.3019402586059903,1.2803863038451688,1.2593710566399479,1.2388763536672682,1.2188847899988398,1.1993796820155171]},\\\"x\\\":[0.0,0.15,0.3,0.44999999999999996,0.6,0.75,0.8999999999999999,1.05,1.2,1.3499999999999999,1.5,1.65,1.7999999999999998,1.95,2.1,2.25,2.4,2.55,2.6999999999999997,2.85,3.0,3.15,3.3,3.4499999999999997,3.5999999999999996,3.75,3.9,4.05,4.2,4.35,4.5,4.6499999999999995,4.8,4.95,5.1,5.25,5.3999999999999995,5.55,5.7,5.85,6.0,6.1499999999999995,6.3,6.45,6.6,6.75,6.8999999999999995,7.05,7.199999999999999,7.35,7.5,7.6499999999999995,7.8,7.949999999999999,8.1,8.25,8.4,8.549999999999999,8.7,8.85,9.0,9.15,9.299999999999999,9.45,9.6,9.75,9.9,10.049999999999999,10.2,10.35,10.5,10.65,10.799999999999999,10.95,11.1,11.25,11.4,11.549999999999999,11.7,11.85,12.0,12.15,12.299999999999999,12.45,12.6,12.75,12.9,13.049999999999999,13.2,13.35,13.5,13.65,13.799999999999999,13.95,14.1,14.25,14.399999999999999,14.549999999999999,14.7,14.85]}],{\\\"xaxis\\\":{\\\"title\\\":{\\\"text\\\":\\\"Time (second)\\\"}},\\\"template\\\":{\\\"layout\\\":{\\\"coloraxis\\\":{\\\"colorbar\\\":{\\\"ticks\\\":\\\"\\\",\\\"outlinewidth\\\":0}},\\\"xaxis\\\":{\\\"gridcolor\\\":\\\"white\\\",\\\"zerolinewidth\\\":2,\\\"title\\\":{\\\"standoff\\\":15},\\\"ticks\\\":\\\"\\\",\\\"zerolinecolor\\\":\\\"white\\\",\\\"automargin\\\":true,\\\"linecolor\\\":\\\"white\\\"},\\\"hovermode\\\":\\\"closest\\\",\\\"paper_bgcolor\\\":\\\"white\\\",\\\"geo\\\":{\\\"showlakes\\\":true,\\\"showland\\\":true,\\\"landcolor\\\":\\\"#E5ECF6\\\",\\\"bgcolor\\\":\\\"white\\\",\\\"subunitcolor\\\":\\\"white\\\",\\\"lakecolor\\\":\\\"white\\\"},\\\"colorscale\\\":{\\\"sequential\\\":[[0.0,\\\"#0d0887\\\"],[0.1111111111111111,\\\"#46039f\\\"],[0.2222222222222222,\\\"#7201a8\\\"],[0.3333333333333333,\\\"#9c179e\\\"],[0.4444444444444444,\\\"#bd3786\\\"],[0.5555555555555556,\\\"#d8576b\\\"],[0.6666666666666666,\\\"#ed7953\\\"],[0.7777777777777778,\\\"#fb9f3a\\\"],[0.8888888888888888,\\\"#fdca26\\\"],[1.0,\\\"#f0f921\\\"]],\\\"diverging\\\":[[0,\\\"#8e0152\\\"],[0.1,\\\"#c51b7d\\\"],[0.2,\\\"#de77ae\\\"],[0.3,\\\"#f1b6da\\\"],[0.4,\\\"#fde0ef\\\"],[0.5,\\\"#f7f7f7\\\"],[0.6,\\\"#e6f5d0\\\"],[0.7,\\\"#b8e186\\\"],[0.8,\\\"#7fbc41\\\"],[0.9,\\\"#4d9221\\\"],[1,\\\"#276419\\\"]],\\\"sequentialminus\\\":[[0.0,\\\"#0d0887\\\"],[0.1111111111111111,\\\"#46039f\\\"],[0.2222222222222222,\\\"#7201a8\\\"],[0.3333333333333333,\\\"#9c179e\\\"],[0.4444444444444444,\\\"#bd3786\\\"],[0.5555555555555556,\\\"#d8576b\\\"],[0.6666666666666666,\\\"#ed7953\\\"],[0.7777777777777778,\\\"#fb9f3a\\\"],[0.8888888888888888,\\\"#fdca26\\\"],[1.0,\\\"#f0f921\\\"]]},\\\"yaxis\\\":{\\\"gridcolor\\\":\\\"white\\\",\\\"zerolinewidth\\\":2,\\\"title\\\":{\\\"standoff\\\":15},\\\"ticks\\\":\\\"\\\",\\\"zerolinecolor\\\":\\\"white\\\",\\\"automargin\\\":true,\\\"linecolor\\\":\\\"white\\\"},\\\"shapedefaults\\\":{\\\"line\\\":{\\\"color\\\":\\\"#2a3f5f\\\"}},\\\"hoverlabel\\\":{\\\"align\\\":\\\"left\\\"},\\\"mapbox\\\":{\\\"style\\\":\\\"light\\\"},\\\"polar\\\":{\\\"angularaxis\\\":{\\\"gridcolor\\\":\\\"white\\\",\\\"ticks\\\":\\\"\\\",\\\"linecolor\\\":\\\"white\\\"},\\\"bgcolor\\\":\\\"#E5ECF6\\\",\\\"radialaxis\\\":{\\\"gridcolor\\\":\\\"white\\\",\\\"ticks\\\":\\\"\\\",\\\"linecolor\\\":\\\"white\\\"}},\\\"autotypenumbers\\\":\\\"strict\\\",\\\"font\\\":{\\\"color\\\":\\\"#2a3f5f\\\"},\\\"ternary\\\":{\\\"baxis\\\":{\\\"gridcolor\\\":\\\"white\\\",\\\"ticks\\\":\\\"\\\",\\\"linecolor\\\":\\\"white\\\"},\\\"bgcolor\\\":\\\"#E5ECF6\\\",\\\"caxis\\\":{\\\"gridcolor\\\":\\\"white\\\",\\\"ticks\\\":\\\"\\\",\\\"linecolor\\\":\\\"white\\\"},\\\"aaxis\\\":{\\\"gridcolor\\\":\\\"white\\\",\\\"ticks\\\":\\\"\\\",\\\"linecolor\\\":\\\"white\\\"}},\\\"annotationdefaults\\\":{\\\"arrowhead\\\":0,\\\"arrowwidth\\\":1,\\\"arrowcolor\\\":\\\"#2a3f5f\\\"},\\\"plot_bgcolor\\\":\\\"#E5ECF6\\\",\\\"title\\\":{\\\"x\\\":0.05},\\\"scene\\\":{\\\"xaxis\\\":{\\\"gridcolor\\\":\\\"white\\\",\\\"gridwidth\\\":2,\\\"backgroundcolor\\\":\\\"#E5ECF6\\\",\\\"ticks\\\":\\\"\\\",\\\"showbackground\\\":true,\\\"zerolinecolor\\\":\\\"white\\\",\\\"linecolor\\\":\\\"white\\\"},\\\"zaxis\\\":{\\\"gridcolor\\\":\\\"white\\\",\\\"gridwidth\\\":2,\\\"backgroundcolor\\\":\\\"#E5ECF6\\\",\\\"ticks\\\":\\\"\\\",\\\"showbackground\\\":true,\\\"zerolinecolor\\\":\\\"white\\\",\\\"linecolor\\\":\\\"white\\\"},\\\"yaxis\\\":{\\\"gridcolor\\\":\\\"white\\\",\\\"gridwidth\\\":2,\\\"backgroundcolor\\\":\\\"#E5ECF6\\\",\\\"ticks\\\":\\\"\\\",\\\"showbackground\\\":true,\\\"zerolinecolor\\\":\\\"white\\\",\\\"linecolor\\\":\\\"white\\\"}},\\\"colorway\\\":[\\\"#636efa\\\",\\\"#EF553B\\\",\\\"#00cc96\\\",\\\"#ab63fa\\\",\\\"#FFA15A\\\",\\\"#19d3f3\\\",\\\"#FF6692\\\",\\\"#B6E880\\\",\\\"#FF97FF\\\",\\\"#FECB52\\\"]},\\\"data\\\":{\\\"barpolar\\\":[{\\\"type\\\":\\\"barpolar\\\",\\\"marker\\\":{\\\"line\\\":{\\\"color\\\":\\\"#E5ECF6\\\",\\\"width\\\":0.5}}}],\\\"carpet\\\":[{\\\"aaxis\\\":{\\\"gridcolor\\\":\\\"white\\\",\\\"endlinecolor\\\":\\\"#2a3f5f\\\",\\\"minorgridcolor\\\":\\\"white\\\",\\\"startlinecolor\\\":\\\"#2a3f5f\\\",\\\"linecolor\\\":\\\"white\\\"},\\\"type\\\":\\\"carpet\\\",\\\"baxis\\\":{\\\"gridcolor\\\":\\\"white\\\",\\\"endlinecolor\\\":\\\"#2a3f5f\\\",\\\"minorgridcolor\\\":\\\"white\\\",\\\"startlinecolor\\\":\\\"#2a3f5f\\\",\\\"linecolor\\\":\\\"white\\\"}}],\\\"scatterpolar\\\":[{\\\"type\\\":\\\"scatterpolar\\\",\\\"marker\\\":{\\\"colorbar\\\":{\\\"ticks\\\":\\\"\\\",\\\"outlinewidth\\\":0}}}],\\\"parcoords\\\":[{\\\"line\\\":{\\\"colorbar\\\":{\\\"ticks\\\":\\\"\\\",\\\"outlinewidth\\\":0}},\\\"type\\\":\\\"parcoords\\\"}],\\\"scatter\\\":[{\\\"type\\\":\\\"scatter\\\",\\\"marker\\\":{\\\"colorbar\\\":{\\\"ticks\\\":\\\"\\\",\\\"outlinewidth\\\":0}}}],\\\"histogram2dcontour\\\":[{\\\"colorbar\\\":{\\\"ticks\\\":\\\"\\\",\\\"outlinewidth\\\":0},\\\"type\\\":\\\"histogram2dcontour\\\",\\\"colorscale\\\":[[0.0,\\\"#0d0887\\\"],[0.1111111111111111,\\\"#46039f\\\"],[0.2222222222222222,\\\"#7201a8\\\"],[0.3333333333333333,\\\"#9c179e\\\"],[0.4444444444444444,\\\"#bd3786\\\"],[0.5555555555555556,\\\"#d8576b\\\"],[0.6666666666666666,\\\"#ed7953\\\"],[0.7777777777777778,\\\"#fb9f3a\\\"],[0.8888888888888888,\\\"#fdca26\\\"],[1.0,\\\"#f0f921\\\"]]}],\\\"contour\\\":[{\\\"colorbar\\\":{\\\"ticks\\\":\\\"\\\",\\\"outlinewidth\\\":0},\\\"type\\\":\\\"contour\\\",\\\"colorscale\\\":[[0.0,\\\"#0d0887\\\"],[0.1111111111111111,\\\"#46039f\\\"],[0.2222222222222222,\\\"#7201a8\\\"],[0.3333333333333333,\\\"#9c179e\\\"],[0.4444444444444444,\\\"#bd3786\\\"],[0.5555555555555556,\\\"#d8576b\\\"],[0.6666666666666666,\\\"#ed7953\\\"],[0.7777777777777778,\\\"#fb9f3a\\\"],[0.8888888888888888,\\\"#fdca26\\\"],[1.0,\\\"#f0f921\\\"]]}],\\\"scattercarpet\\\":[{\\\"type\\\":\\\"scattercarpet\\\",\\\"marker\\\":{\\\"colorbar\\\":{\\\"ticks\\\":\\\"\\\",\\\"outlinewidth\\\":0}}}],\\\"mesh3d\\\":[{\\\"colorbar\\\":{\\\"ticks\\\":\\\"\\\",\\\"outlinewidth\\\":0},\\\"type\\\":\\\"mesh3d\\\"}],\\\"surface\\\":[{\\\"colorbar\\\":{\\\"ticks\\\":\\\"\\\",\\\"outlinewidth\\\":0},\\\"type\\\":\\\"surface\\\",\\\"colorscale\\\":[[0.0,\\\"#0d0887\\\"],[0.1111111111111111,\\\"#46039f\\\"],[0.2222222222222222,\\\"#7201a8\\\"],[0.3333333333333333,\\\"#9c179e\\\"],[0.4444444444444444,\\\"#bd3786\\\"],[0.5555555555555556,\\\"#d8576b\\\"],[0.6666666666666666,\\\"#ed7953\\\"],[0.7777777777777778,\\\"#fb9f3a\\\"],[0.8888888888888888,\\\"#fdca26\\\"],[1.0,\\\"#f0f921\\\"]]}],\\\"scattermapbox\\\":[{\\\"type\\\":\\\"scattermapbox\\\",\\\"marker\\\":{\\\"colorbar\\\":{\\\"ticks\\\":\\\"\\\",\\\"outlinewidth\\\":0}}}],\\\"scattergeo\\\":[{\\\"type\\\":\\\"scattergeo\\\",\\\"marker\\\":{\\\"colorbar\\\":{\\\"ticks\\\":\\\"\\\",\\\"outlinewidth\\\":0}}}],\\\"histogram\\\":[{\\\"type\\\":\\\"histogram\\\",\\\"marker\\\":{\\\"colorbar\\\":{\\\"ticks\\\":\\\"\\\",\\\"outlinewidth\\\":0}}}],\\\"pie\\\":[{\\\"type\\\":\\\"pie\\\",\\\"automargin\\\":true}],\\\"choropleth\\\":[{\\\"colorbar\\\":{\\\"ticks\\\":\\\"\\\",\\\"outlinewidth\\\":0},\\\"type\\\":\\\"choropleth\\\"}],\\\"heatmapgl\\\":[{\\\"colorbar\\\":{\\\"ticks\\\":\\\"\\\",\\\"outlinewidth\\\":0},\\\"type\\\":\\\"heatmapgl\\\",\\\"colorscale\\\":[[0.0,\\\"#0d0887\\\"],[0.1111111111111111,\\\"#46039f\\\"],[0.2222222222222222,\\\"#7201a8\\\"],[0.3333333333333333,\\\"#9c179e\\\"],[0.4444444444444444,\\\"#bd3786\\\"],[0.5555555555555556,\\\"#d8576b\\\"],[0.6666666666666666,\\\"#ed7953\\\"],[0.7777777777777778,\\\"#fb9f3a\\\"],[0.8888888888888888,\\\"#fdca26\\\"],[1.0,\\\"#f0f921\\\"]]}],\\\"bar\\\":[{\\\"type\\\":\\\"bar\\\",\\\"error_y\\\":{\\\"color\\\":\\\"#2a3f5f\\\"},\\\"error_x\\\":{\\\"color\\\":\\\"#2a3f5f\\\"},\\\"marker\\\":{\\\"line\\\":{\\\"color\\\":\\\"#E5ECF6\\\",\\\"width\\\":0.5}}}],\\\"heatmap\\\":[{\\\"colorbar\\\":{\\\"ticks\\\":\\\"\\\",\\\"outlinewidth\\\":0},\\\"type\\\":\\\"heatmap\\\",\\\"colorscale\\\":[[0.0,\\\"#0d0887\\\"],[0.1111111111111111,\\\"#46039f\\\"],[0.2222222222222222,\\\"#7201a8\\\"],[0.3333333333333333,\\\"#9c179e\\\"],[0.4444444444444444,\\\"#bd3786\\\"],[0.5555555555555556,\\\"#d8576b\\\"],[0.6666666666666666,\\\"#ed7953\\\"],[0.7777777777777778,\\\"#fb9f3a\\\"],[0.8888888888888888,\\\"#fdca26\\\"],[1.0,\\\"#f0f921\\\"]]}],\\\"contourcarpet\\\":[{\\\"colorbar\\\":{\\\"ticks\\\":\\\"\\\",\\\"outlinewidth\\\":0},\\\"type\\\":\\\"contourcarpet\\\"}],\\\"table\\\":[{\\\"type\\\":\\\"table\\\",\\\"header\\\":{\\\"line\\\":{\\\"color\\\":\\\"white\\\"},\\\"fill\\\":{\\\"color\\\":\\\"#C8D4E3\\\"}},\\\"cells\\\":{\\\"line\\\":{\\\"color\\\":\\\"white\\\"},\\\"fill\\\":{\\\"color\\\":\\\"#EBF0F8\\\"}}}],\\\"scatter3d\\\":[{\\\"line\\\":{\\\"colorbar\\\":{\\\"ticks\\\":\\\"\\\",\\\"outlinewidth\\\":0}},\\\"type\\\":\\\"scatter3d\\\",\\\"marker\\\":{\\\"colorbar\\\":{\\\"ticks\\\":\\\"\\\",\\\"outlinewidth\\\":0}}}],\\\"scattergl\\\":[{\\\"type\\\":\\\"scattergl\\\",\\\"marker\\\":{\\\"colorbar\\\":{\\\"ticks\\\":\\\"\\\",\\\"outlinewidth\\\":0}}}],\\\"histogram2d\\\":[{\\\"colorbar\\\":{\\\"ticks\\\":\\\"\\\",\\\"outlinewidth\\\":0},\\\"type\\\":\\\"histogram2d\\\",\\\"colorscale\\\":[[0.0,\\\"#0d0887\\\"],[0.1111111111111111,\\\"#46039f\\\"],[0.2222222222222222,\\\"#7201a8\\\"],[0.3333333333333333,\\\"#9c179e\\\"],[0.4444444444444444,\\\"#bd3786\\\"],[0.5555555555555556,\\\"#d8576b\\\"],[0.6666666666666666,\\\"#ed7953\\\"],[0.7777777777777778,\\\"#fb9f3a\\\"],[0.8888888888888888,\\\"#fdca26\\\"],[1.0,\\\"#f0f921\\\"]]}],\\\"scatterternary\\\":[{\\\"type\\\":\\\"scatterternary\\\",\\\"marker\\\":{\\\"colorbar\\\":{\\\"ticks\\\":\\\"\\\",\\\"outlinewidth\\\":0}}}],\\\"scatterpolargl\\\":[{\\\"type\\\":\\\"scatterpolargl\\\",\\\"marker\\\":{\\\"colorbar\\\":{\\\"ticks\\\":\\\"\\\",\\\"outlinewidth\\\":0}}}]}},\\\"legend\\\":{\\\"title\\\":\\\"Legend Title\\\"},\\\"margin\\\":{\\\"l\\\":50,\\\"b\\\":50,\\\"r\\\":50,\\\"t\\\":60},\\\"title\\\":\\\"Velocity Measurement\\\",\\\"yaxis\\\":{\\\"title\\\":{\\\"text\\\":\\\"Velocity (meters \\/ seconds)\\\"}}},{\\\"showLink\\\":false,\\\"editable\\\":false,\\\"responsive\\\":true,\\\"staticPlot\\\":false,\\\"scrollZoom\\\":true}); gd.on(\\\"plotly_hover\\\",(function (data){var filtered_data=WebIO.PlotlyCommands.filterEventData(gd,data,\\\"hover\\\"); return !(filtered_data.isnil) ? (WebIO.setval({\\\"name\\\":\\\"hover\\\",\\\"scope\\\":\\\"2825753143179117817\\\",\\\"id\\\":\\\"15688631147536886104\\\",\\\"type\\\":\\\"observable\\\"},filtered_data.out)) : undefined})); gd.on(\\\"plotly_unhover\\\",(function (){return WebIO.setval({\\\"name\\\":\\\"hover\\\",\\\"scope\\\":\\\"2825753143179117817\\\",\\\"id\\\":\\\"15688631147536886104\\\",\\\"type\\\":\\\"observable\\\"},{})})); gd.on(\\\"plotly_selected\\\",(function (data){var filtered_data=WebIO.PlotlyCommands.filterEventData(gd,data,\\\"selected\\\"); return !(filtered_data.isnil) ? (WebIO.setval({\\\"name\\\":\\\"selected\\\",\\\"scope\\\":\\\"2825753143179117817\\\",\\\"id\\\":\\\"9878240213166942175\\\",\\\"type\\\":\\\"observable\\\"},filtered_data.out)) : undefined})); gd.on(\\\"plotly_deselect\\\",(function (){return WebIO.setval({\\\"name\\\":\\\"selected\\\",\\\"scope\\\":\\\"2825753143179117817\\\",\\\"id\\\":\\\"9878240213166942175\\\",\\\"type\\\":\\\"observable\\\"},{})})); gd.on(\\\"plotly_relayout\\\",(function (data){var filtered_data=WebIO.PlotlyCommands.filterEventData(gd,data,\\\"relayout\\\"); return !(filtered_data.isnil) ? (WebIO.setval({\\\"name\\\":\\\"relayout\\\",\\\"scope\\\":\\\"2825753143179117817\\\",\\\"id\\\":\\\"2486304586514602117\\\",\\\"type\\\":\\\"observable\\\"},filtered_data.out)) : undefined})); return gd.on(\\\"plotly_click\\\",(function (data){var filtered_data=WebIO.PlotlyCommands.filterEventData(gd,data,\\\"click\\\"); return !(filtered_data.isnil) ? (WebIO.setval({\\\"name\\\":\\\"click\\\",\\\"scope\\\":\\\"2825753143179117817\\\",\\\"id\\\":\\\"789462276653957647\\\",\\\"type\\\":\\\"observable\\\"},filtered_data.out)) : undefined}))}));\\n    (WebIO.importBlock({\\\"data\\\":[{\\\"name\\\":\\\"Plotly\\\",\\\"type\\\":\\\"js\\\",\\\"url\\\":\\\"\\/assetserver\\/627f17ff06762af3874159c00b9b1e00e50688bc-plotly.min.js\\\"},{\\\"name\\\":null,\\\"type\\\":\\\"js\\\",\\\"url\\\":\\\"\\/assetserver\\/1a276a0acb11ad47020d3f379225d41bbd0aeef0-plotly_webio.bundle.js\\\"}],\\\"type\\\":\\\"async_block\\\"})).then((imports) => handler.apply(this, imports));\\n}\\n\"],\"observables\":{\"_toImage\":{\"sync\":false,\"id\":\"15384771118965565128\",\"value\":{}},\"hover\":{\"sync\":false,\"id\":\"15688631147536886104\",\"value\":{}},\"selected\":{\"sync\":false,\"id\":\"9878240213166942175\",\"value\":{}},\"__gd_contents\":{\"sync\":false,\"id\":\"4105494733735958921\",\"value\":{}},\"click\":{\"sync\":false,\"id\":\"789462276653957647\",\"value\":{}},\"image\":{\"sync\":true,\"id\":\"14071489442018639804\",\"value\":\"\"},\"__get_gd_contents\":{\"sync\":false,\"id\":\"10726155229823516189\",\"value\":\"\"},\"_downloadImage\":{\"sync\":false,\"id\":\"7658955592244034094\",\"value\":{}},\"relayout\":{\"sync\":false,\"id\":\"2486304586514602117\",\"value\":{}},\"_commands\":{\"sync\":false,\"id\":\"7687282426287733936\",\"value\":[]}}},\"children\":[{\"props\":{\"id\":\"plot-a83fb155-984e-4417-b862-772266eb022b\"},\"nodeType\":\"DOM\",\"type\":\"node\",\"instanceArgs\":{\"namespace\":\"html\",\"tag\":\"div\"},\"children\":[]}]},\n",
       "        window,\n",
       "    );\n",
       "    })()\n",
       "    </script>\n",
       "</div>\n"
      ],
      "text/plain": [
       "data: [\n",
       "  \"scatter with fields mode, name, type, x, and y\",\n",
       "  \"scatter with fields error_y, mode, name, type, x, and y\"\n",
       "]\n",
       "\n",
       "layout: \"layout with fields legend, margin, template, title, xaxis, and yaxis\"\n",
       "\n"
      ]
     },
     "execution_count": 335,
     "metadata": {},
     "output_type": "execute_result"
    }
   ],
   "source": [
    "plot(\n",
    "    [\n",
    "        # True velocity\n",
    "        scatter(\n",
    "            mode=\"markers\",\n",
    "            x=time_axis_sec,\n",
    "            y=[tr_st[2] for tr_st in true_state_fcn_time],\n",
    "            name=\"True Velocity\"\n",
    "        ),\n",
    "        # Estimated velocity\n",
    "        scatter(\n",
    "            mode=\"markers\",\n",
    "            x=time_axis_sec,\n",
    "            y=[s.state[2] for s in states_fcn_time],\n",
    "            error_y=attr(\n",
    "                type=\"data\",\n",
    "                array=[sqrt(s.cov[2, 2]) for s in states_fcn_time]\n",
    "            ),\n",
    "            name=\"Estimated Velocity\"\n",
    "        )\n",
    "    ],\n",
    "    Layout(\n",
    "        title=\"Velocity Measurement\",\n",
    "        xaxis_title=\"Time (second)\",\n",
    "        yaxis_title=\"Velocity (meters / seconds)\",\n",
    "        legend_title=\"Legend Title\",\n",
    "    ),\n",
    "    config=PlotConfig(scrollZoom=true)\n",
    ")"
   ]
  },
  {
   "cell_type": "code",
   "execution_count": null,
   "id": "2b299fef",
   "metadata": {},
   "outputs": [],
   "source": []
  }
 ],
 "metadata": {
  "@webio": {
   "lastCommId": "2f27bac128244b90b25c54d37fc79f5f",
   "lastKernelId": "9fd0736b-4c1d-47a1-ba6a-25e107c7411b"
  },
  "kernelspec": {
   "display_name": "Julia 1.7.1",
   "language": "julia",
   "name": "julia-1.7"
  },
  "language_info": {
   "file_extension": ".jl",
   "mimetype": "application/julia",
   "name": "julia",
   "version": "1.7.1"
  }
 },
 "nbformat": 4,
 "nbformat_minor": 5
}
