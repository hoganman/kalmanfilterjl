{
 "cells": [
  {
   "cell_type": "markdown",
   "id": "0fe47ebd",
   "metadata": {},
   "source": [
    "Consider a sky-diver falling towards the surface of Earth. The diver brought with them a temperature sensor that took multiple measurements along the descent. The diver is interested in determining their terminal velocity given these measurements.\n",
    "\n",
    "Problem: Given a temperature measurement, can one estimate the velocity as a function of time?"
   ]
  },
  {
   "cell_type": "code",
   "execution_count": 1,
   "id": "27006630",
   "metadata": {},
   "outputs": [
    {
     "data": {
      "application/vnd.webio.node+json": {
       "children": [],
       "instanceArgs": {
        "namespace": "html",
        "tag": "div"
       },
       "nodeType": "DOM",
       "props": {},
       "type": "node"
      },
      "text/html": [
       "<div style=\"padding: 1em; background-color: #f8d6da; border: 1px solid #f5c6cb; font-weight: bold;\">\n",
       "<p>The WebIO Jupyter extension was not detected. See the\n",
       "<a href=\"https://juliagizmos.github.io/WebIO.jl/latest/providers/ijulia/\" target=\"_blank\">\n",
       "    WebIO Jupyter integration documentation\n",
       "</a>\n",
       "for more information.\n",
       "</div>\n"
      ],
      "text/plain": [
       "WebIO._IJuliaInit()"
      ]
     },
     "metadata": {
      "application/vnd.webio.node+json": {
       "kernelId": "f0c07aeb-441c-41f0-9c9a-4df6a9544006"
      }
     },
     "output_type": "display_data"
    }
   ],
   "source": [
    "using LinearAlgebra\n",
    "using Random\n",
    "using PlotlyJS\n",
    "\n",
    "include(\"kalmanflt.jl\");"
   ]
  },
  {
   "cell_type": "markdown",
   "id": "3512e124",
   "metadata": {},
   "source": [
    "The system is a particle falling due to gravity WITH air resistance. For this simulation, the falling object will acheive terminal velocity. The velocity as a function of time is modeled as"
   ]
  },
  {
   "cell_type": "markdown",
   "id": "743cba50",
   "metadata": {},
   "source": [
    "$$\n",
    "v(t) = v_{\\infty} \\tanh\\left(\\frac{g t}{v_{\\infty}}\\right)\n",
    "$$"
   ]
  },
  {
   "cell_type": "markdown",
   "id": "c53f0c0a",
   "metadata": {},
   "source": [
    "where $v_{\\infty}$ is the terminal velocity as time approaches infinity and $g$ is the acceleration due to gravity. "
   ]
  },
  {
   "cell_type": "code",
   "execution_count": 2,
   "id": "ab647c04",
   "metadata": {},
   "outputs": [],
   "source": [
    "accel_ms2 = -9.8 # meter / sec^2\n",
    "v_inf = 54 # meter / sec\n",
    "time_steps = 100\n",
    "delta_time_sec = 0.15  # sec\n",
    "time_axis_sec = [delta_time_sec * (t-1) for t in 1:time_steps];"
   ]
  },
  {
   "cell_type": "markdown",
   "id": "3aea39bd",
   "metadata": {},
   "source": [
    "Plot the velocity function"
   ]
  },
  {
   "cell_type": "code",
   "execution_count": 3,
   "id": "fc0c964a",
   "metadata": {},
   "outputs": [
    {
     "data": {
      "application/vnd.plotly.v1+json": {
       "config": {
        "editable": false,
        "responsive": true,
        "scrollZoom": true,
        "showLink": false,
        "staticPlot": false
       },
       "data": [
        {
         "mode": "markers+lines",
         "name": "Velocity",
         "type": "scatter",
         "x": [
          0,
          0.15,
          0.3,
          0.44999999999999996,
          0.6,
          0.75,
          0.8999999999999999,
          1.05,
          1.2,
          1.3499999999999999,
          1.5,
          1.65,
          1.7999999999999998,
          1.95,
          2.1,
          2.25,
          2.4,
          2.55,
          2.6999999999999997,
          2.85,
          3,
          3.15,
          3.3,
          3.4499999999999997,
          3.5999999999999996,
          3.75,
          3.9,
          4.05,
          4.2,
          4.35,
          4.5,
          4.6499999999999995,
          4.8,
          4.95,
          5.1,
          5.25,
          5.3999999999999995,
          5.55,
          5.7,
          5.85,
          6,
          6.1499999999999995,
          6.3,
          6.45,
          6.6,
          6.75,
          6.8999999999999995,
          7.05,
          7.199999999999999,
          7.35,
          7.5,
          7.6499999999999995,
          7.8,
          7.949999999999999,
          8.1,
          8.25,
          8.4,
          8.549999999999999,
          8.7,
          8.85,
          9,
          9.15,
          9.299999999999999,
          9.45,
          9.6,
          9.75,
          9.9,
          10.049999999999999,
          10.2,
          10.35,
          10.5,
          10.65,
          10.799999999999999,
          10.95,
          11.1,
          11.25,
          11.4,
          11.549999999999999,
          11.7,
          11.85,
          12,
          12.15,
          12.299999999999999,
          12.45,
          12.6,
          12.75,
          12.9,
          13.049999999999999,
          13.2,
          13.35,
          13.5,
          13.65,
          13.799999999999999,
          13.95,
          14.1,
          14.25,
          14.399999999999999,
          14.549999999999999,
          14.7,
          14.85
         ],
         "y": [
          0,
          -1.4696369934044147,
          -2.93709852658733,
          -4.400222001365922,
          -5.856870382376402,
          -7.304944578798362,
          -8.742395356033516,
          -10.16723463628391,
          -11.577546059717076,
          -12.971494693053733,
          -14.347335789499724,
          -15.703422522455,
          -17.03821263483159,
          -18.350273965559705,
          -19.638288834435137,
          -20.90105728537547,
          -22.137499205973473,
          -23.34665535759246,
          -24.52768736484199,
          -25.67987672588044,
          -26.80262291546983,
          -27.895440660987738,
          -28.957956477682536,
          -29.98990455340419,
          -30.991122074971138,
          -31.961544088403226,
          -32.90119798365641,
          -33.810197691450995,
          -34.688737675521686,
          -35.53708679836574,
          -36.35558213255502,
          -37.144622783125925,
          -37.9046637796703,
          -38.63621008970526,
          -39.339810797859954,
          -40.016053488522715,
          -40.66555886295581,
          -41.28897561560103,
          -41.88697558843546,
          -42.46024921684409,
          -43.00950127558594,
          -43.53544692905797,
          -44.03880808620917,
          -44.520310057115914,
          -44.98067850538016,
          -45.42063668813034,
          -45.84090297345663,
          -46.24218862356786,
          -46.62519583077545,
          -46.99061599255645,
          -47.33912821138381,
          -47.671398004701715,
          -47.988076210331954,
          -48.28979807269157,
          -48.57718249545122,
          -48.85083144664045,
          -49.1113295026847,
          -49.35924351841675,
          -49.595122410722695,
          -49.81949704414125,
          -50.03288020742079,
          -50.235766670737405,
          -50.428633313978935,
          -50.61193931719506,
          -50.78612640499483,
          -50.951619137334774,
          -51.10882523977744,
          -51.258135966910245,
          -51.399926493192694,
          -51.534556326047706,
          -51.662369736526415,
          -51.783696203356946,
          -51.89885086663515,
          -52.00813498783056,
          -52.111836413164276,
          -52.21023003776825,
          -52.30357826835899,
          -52.39213148245431,
          -52.476128482430816,
          -52.5557969429643,
          -52.631353850616115,
          -52.70300593452784,
          -52.77095008736578,
          -52.835373775817175,
          -52.896455440083116,
          -52.95436488194061,
          -53.009263641058915,
          -53.06130535935484,
          -53.11063613325919,
          -53.15739485384285,
          -53.20171353481754,
          -53.24371762848386,
          -53.28352632974826,
          -53.321252868373215,
          -53.35700478965965,
          -53.39088422379107,
          -53.42298814409283,
          -53.45340861447991,
          -53.48223302638248,
          -53.50954432545027
         ]
        }
       ],
       "frames": [],
       "layout": {
        "legend": {
         "title": "Legend Title"
        },
        "margin": {
         "b": 50,
         "l": 50,
         "r": 50,
         "t": 60
        },
        "template": {
         "data": {
          "bar": [
           {
            "error_x": {
             "color": "#2a3f5f"
            },
            "error_y": {
             "color": "#2a3f5f"
            },
            "marker": {
             "line": {
              "color": "#E5ECF6",
              "width": 0.5
             }
            },
            "type": "bar"
           }
          ],
          "barpolar": [
           {
            "marker": {
             "line": {
              "color": "#E5ECF6",
              "width": 0.5
             }
            },
            "type": "barpolar"
           }
          ],
          "carpet": [
           {
            "aaxis": {
             "endlinecolor": "#2a3f5f",
             "gridcolor": "white",
             "linecolor": "white",
             "minorgridcolor": "white",
             "startlinecolor": "#2a3f5f"
            },
            "baxis": {
             "endlinecolor": "#2a3f5f",
             "gridcolor": "white",
             "linecolor": "white",
             "minorgridcolor": "white",
             "startlinecolor": "#2a3f5f"
            },
            "type": "carpet"
           }
          ],
          "choropleth": [
           {
            "colorbar": {
             "outlinewidth": 0,
             "ticks": ""
            },
            "type": "choropleth"
           }
          ],
          "contour": [
           {
            "colorbar": {
             "outlinewidth": 0,
             "ticks": ""
            },
            "colorscale": [
             [
              0,
              "#0d0887"
             ],
             [
              0.1111111111111111,
              "#46039f"
             ],
             [
              0.2222222222222222,
              "#7201a8"
             ],
             [
              0.3333333333333333,
              "#9c179e"
             ],
             [
              0.4444444444444444,
              "#bd3786"
             ],
             [
              0.5555555555555556,
              "#d8576b"
             ],
             [
              0.6666666666666666,
              "#ed7953"
             ],
             [
              0.7777777777777778,
              "#fb9f3a"
             ],
             [
              0.8888888888888888,
              "#fdca26"
             ],
             [
              1,
              "#f0f921"
             ]
            ],
            "type": "contour"
           }
          ],
          "contourcarpet": [
           {
            "colorbar": {
             "outlinewidth": 0,
             "ticks": ""
            },
            "type": "contourcarpet"
           }
          ],
          "heatmap": [
           {
            "colorbar": {
             "outlinewidth": 0,
             "ticks": ""
            },
            "colorscale": [
             [
              0,
              "#0d0887"
             ],
             [
              0.1111111111111111,
              "#46039f"
             ],
             [
              0.2222222222222222,
              "#7201a8"
             ],
             [
              0.3333333333333333,
              "#9c179e"
             ],
             [
              0.4444444444444444,
              "#bd3786"
             ],
             [
              0.5555555555555556,
              "#d8576b"
             ],
             [
              0.6666666666666666,
              "#ed7953"
             ],
             [
              0.7777777777777778,
              "#fb9f3a"
             ],
             [
              0.8888888888888888,
              "#fdca26"
             ],
             [
              1,
              "#f0f921"
             ]
            ],
            "type": "heatmap"
           }
          ],
          "heatmapgl": [
           {
            "colorbar": {
             "outlinewidth": 0,
             "ticks": ""
            },
            "colorscale": [
             [
              0,
              "#0d0887"
             ],
             [
              0.1111111111111111,
              "#46039f"
             ],
             [
              0.2222222222222222,
              "#7201a8"
             ],
             [
              0.3333333333333333,
              "#9c179e"
             ],
             [
              0.4444444444444444,
              "#bd3786"
             ],
             [
              0.5555555555555556,
              "#d8576b"
             ],
             [
              0.6666666666666666,
              "#ed7953"
             ],
             [
              0.7777777777777778,
              "#fb9f3a"
             ],
             [
              0.8888888888888888,
              "#fdca26"
             ],
             [
              1,
              "#f0f921"
             ]
            ],
            "type": "heatmapgl"
           }
          ],
          "histogram": [
           {
            "marker": {
             "colorbar": {
              "outlinewidth": 0,
              "ticks": ""
             }
            },
            "type": "histogram"
           }
          ],
          "histogram2d": [
           {
            "colorbar": {
             "outlinewidth": 0,
             "ticks": ""
            },
            "colorscale": [
             [
              0,
              "#0d0887"
             ],
             [
              0.1111111111111111,
              "#46039f"
             ],
             [
              0.2222222222222222,
              "#7201a8"
             ],
             [
              0.3333333333333333,
              "#9c179e"
             ],
             [
              0.4444444444444444,
              "#bd3786"
             ],
             [
              0.5555555555555556,
              "#d8576b"
             ],
             [
              0.6666666666666666,
              "#ed7953"
             ],
             [
              0.7777777777777778,
              "#fb9f3a"
             ],
             [
              0.8888888888888888,
              "#fdca26"
             ],
             [
              1,
              "#f0f921"
             ]
            ],
            "type": "histogram2d"
           }
          ],
          "histogram2dcontour": [
           {
            "colorbar": {
             "outlinewidth": 0,
             "ticks": ""
            },
            "colorscale": [
             [
              0,
              "#0d0887"
             ],
             [
              0.1111111111111111,
              "#46039f"
             ],
             [
              0.2222222222222222,
              "#7201a8"
             ],
             [
              0.3333333333333333,
              "#9c179e"
             ],
             [
              0.4444444444444444,
              "#bd3786"
             ],
             [
              0.5555555555555556,
              "#d8576b"
             ],
             [
              0.6666666666666666,
              "#ed7953"
             ],
             [
              0.7777777777777778,
              "#fb9f3a"
             ],
             [
              0.8888888888888888,
              "#fdca26"
             ],
             [
              1,
              "#f0f921"
             ]
            ],
            "type": "histogram2dcontour"
           }
          ],
          "mesh3d": [
           {
            "colorbar": {
             "outlinewidth": 0,
             "ticks": ""
            },
            "type": "mesh3d"
           }
          ],
          "parcoords": [
           {
            "line": {
             "colorbar": {
              "outlinewidth": 0,
              "ticks": ""
             }
            },
            "type": "parcoords"
           }
          ],
          "pie": [
           {
            "automargin": true,
            "type": "pie"
           }
          ],
          "scatter": [
           {
            "marker": {
             "colorbar": {
              "outlinewidth": 0,
              "ticks": ""
             }
            },
            "type": "scatter"
           }
          ],
          "scatter3d": [
           {
            "line": {
             "colorbar": {
              "outlinewidth": 0,
              "ticks": ""
             }
            },
            "marker": {
             "colorbar": {
              "outlinewidth": 0,
              "ticks": ""
             }
            },
            "type": "scatter3d"
           }
          ],
          "scattercarpet": [
           {
            "marker": {
             "colorbar": {
              "outlinewidth": 0,
              "ticks": ""
             }
            },
            "type": "scattercarpet"
           }
          ],
          "scattergeo": [
           {
            "marker": {
             "colorbar": {
              "outlinewidth": 0,
              "ticks": ""
             }
            },
            "type": "scattergeo"
           }
          ],
          "scattergl": [
           {
            "marker": {
             "colorbar": {
              "outlinewidth": 0,
              "ticks": ""
             }
            },
            "type": "scattergl"
           }
          ],
          "scattermapbox": [
           {
            "marker": {
             "colorbar": {
              "outlinewidth": 0,
              "ticks": ""
             }
            },
            "type": "scattermapbox"
           }
          ],
          "scatterpolar": [
           {
            "marker": {
             "colorbar": {
              "outlinewidth": 0,
              "ticks": ""
             }
            },
            "type": "scatterpolar"
           }
          ],
          "scatterpolargl": [
           {
            "marker": {
             "colorbar": {
              "outlinewidth": 0,
              "ticks": ""
             }
            },
            "type": "scatterpolargl"
           }
          ],
          "scatterternary": [
           {
            "marker": {
             "colorbar": {
              "outlinewidth": 0,
              "ticks": ""
             }
            },
            "type": "scatterternary"
           }
          ],
          "surface": [
           {
            "colorbar": {
             "outlinewidth": 0,
             "ticks": ""
            },
            "colorscale": [
             [
              0,
              "#0d0887"
             ],
             [
              0.1111111111111111,
              "#46039f"
             ],
             [
              0.2222222222222222,
              "#7201a8"
             ],
             [
              0.3333333333333333,
              "#9c179e"
             ],
             [
              0.4444444444444444,
              "#bd3786"
             ],
             [
              0.5555555555555556,
              "#d8576b"
             ],
             [
              0.6666666666666666,
              "#ed7953"
             ],
             [
              0.7777777777777778,
              "#fb9f3a"
             ],
             [
              0.8888888888888888,
              "#fdca26"
             ],
             [
              1,
              "#f0f921"
             ]
            ],
            "type": "surface"
           }
          ],
          "table": [
           {
            "cells": {
             "fill": {
              "color": "#EBF0F8"
             },
             "line": {
              "color": "white"
             }
            },
            "header": {
             "fill": {
              "color": "#C8D4E3"
             },
             "line": {
              "color": "white"
             }
            },
            "type": "table"
           }
          ]
         },
         "layout": {
          "annotationdefaults": {
           "arrowcolor": "#2a3f5f",
           "arrowhead": 0,
           "arrowwidth": 1
          },
          "autotypenumbers": "strict",
          "coloraxis": {
           "colorbar": {
            "outlinewidth": 0,
            "ticks": ""
           }
          },
          "colorscale": {
           "diverging": [
            [
             0,
             "#8e0152"
            ],
            [
             0.1,
             "#c51b7d"
            ],
            [
             0.2,
             "#de77ae"
            ],
            [
             0.3,
             "#f1b6da"
            ],
            [
             0.4,
             "#fde0ef"
            ],
            [
             0.5,
             "#f7f7f7"
            ],
            [
             0.6,
             "#e6f5d0"
            ],
            [
             0.7,
             "#b8e186"
            ],
            [
             0.8,
             "#7fbc41"
            ],
            [
             0.9,
             "#4d9221"
            ],
            [
             1,
             "#276419"
            ]
           ],
           "sequential": [
            [
             0,
             "#0d0887"
            ],
            [
             0.1111111111111111,
             "#46039f"
            ],
            [
             0.2222222222222222,
             "#7201a8"
            ],
            [
             0.3333333333333333,
             "#9c179e"
            ],
            [
             0.4444444444444444,
             "#bd3786"
            ],
            [
             0.5555555555555556,
             "#d8576b"
            ],
            [
             0.6666666666666666,
             "#ed7953"
            ],
            [
             0.7777777777777778,
             "#fb9f3a"
            ],
            [
             0.8888888888888888,
             "#fdca26"
            ],
            [
             1,
             "#f0f921"
            ]
           ],
           "sequentialminus": [
            [
             0,
             "#0d0887"
            ],
            [
             0.1111111111111111,
             "#46039f"
            ],
            [
             0.2222222222222222,
             "#7201a8"
            ],
            [
             0.3333333333333333,
             "#9c179e"
            ],
            [
             0.4444444444444444,
             "#bd3786"
            ],
            [
             0.5555555555555556,
             "#d8576b"
            ],
            [
             0.6666666666666666,
             "#ed7953"
            ],
            [
             0.7777777777777778,
             "#fb9f3a"
            ],
            [
             0.8888888888888888,
             "#fdca26"
            ],
            [
             1,
             "#f0f921"
            ]
           ]
          },
          "colorway": [
           "#636efa",
           "#EF553B",
           "#00cc96",
           "#ab63fa",
           "#FFA15A",
           "#19d3f3",
           "#FF6692",
           "#B6E880",
           "#FF97FF",
           "#FECB52"
          ],
          "font": {
           "color": "#2a3f5f"
          },
          "geo": {
           "bgcolor": "white",
           "lakecolor": "white",
           "landcolor": "#E5ECF6",
           "showlakes": true,
           "showland": true,
           "subunitcolor": "white"
          },
          "hoverlabel": {
           "align": "left"
          },
          "hovermode": "closest",
          "mapbox": {
           "style": "light"
          },
          "paper_bgcolor": "white",
          "plot_bgcolor": "#E5ECF6",
          "polar": {
           "angularaxis": {
            "gridcolor": "white",
            "linecolor": "white",
            "ticks": ""
           },
           "bgcolor": "#E5ECF6",
           "radialaxis": {
            "gridcolor": "white",
            "linecolor": "white",
            "ticks": ""
           }
          },
          "scene": {
           "xaxis": {
            "backgroundcolor": "#E5ECF6",
            "gridcolor": "white",
            "gridwidth": 2,
            "linecolor": "white",
            "showbackground": true,
            "ticks": "",
            "zerolinecolor": "white"
           },
           "yaxis": {
            "backgroundcolor": "#E5ECF6",
            "gridcolor": "white",
            "gridwidth": 2,
            "linecolor": "white",
            "showbackground": true,
            "ticks": "",
            "zerolinecolor": "white"
           },
           "zaxis": {
            "backgroundcolor": "#E5ECF6",
            "gridcolor": "white",
            "gridwidth": 2,
            "linecolor": "white",
            "showbackground": true,
            "ticks": "",
            "zerolinecolor": "white"
           }
          },
          "shapedefaults": {
           "line": {
            "color": "#2a3f5f"
           }
          },
          "ternary": {
           "aaxis": {
            "gridcolor": "white",
            "linecolor": "white",
            "ticks": ""
           },
           "baxis": {
            "gridcolor": "white",
            "linecolor": "white",
            "ticks": ""
           },
           "bgcolor": "#E5ECF6",
           "caxis": {
            "gridcolor": "white",
            "linecolor": "white",
            "ticks": ""
           }
          },
          "title": {
           "x": 0.05
          },
          "xaxis": {
           "automargin": true,
           "gridcolor": "white",
           "linecolor": "white",
           "ticks": "",
           "title": {
            "standoff": 15
           },
           "zerolinecolor": "white",
           "zerolinewidth": 2
          },
          "yaxis": {
           "automargin": true,
           "gridcolor": "white",
           "linecolor": "white",
           "ticks": "",
           "title": {
            "standoff": 15
           },
           "zerolinecolor": "white",
           "zerolinewidth": 2
          }
         }
        },
        "title": "Velocity Model",
        "xaxis": {
         "title": {
          "text": "Time (second)"
         }
        },
        "yaxis": {
         "title": {
          "text": "Velocity (meter / second)"
         }
        }
       }
      },
      "text/html": [
       "<div\n",
       "    class=\"webio-mountpoint\"\n",
       "    data-webio-mountpoint=\"7107080689547336669\"\n",
       ">\n",
       "    <script>\n",
       "    (function(){\n",
       "    // Some integrations (namely, IJulia/Jupyter) use an alternate render pathway than\n",
       "    // just putting the html on the page. If WebIO isn't defined, then it's pretty likely\n",
       "    // that we're in one of those situations and the integration just isn't installed\n",
       "    // correctly.\n",
       "    if (typeof window.WebIO === \"undefined\") {\n",
       "        document\n",
       "            .querySelector('[data-webio-mountpoint=\"7107080689547336669\"]')\n",
       "            .innerHTML = (\n",
       "                '<div style=\"padding: 1em; background-color: #f8d6da; border: 1px solid #f5c6cb; font-weight: bold;\">' +\n",
       "                '<p><strong>WebIO not detected.</strong></p>' +\n",
       "                '<p>Please read ' +\n",
       "                '<a href=\"https://juliagizmos.github.io/WebIO.jl/latest/troubleshooting/not-detected/\" target=\"_blank\">the troubleshooting guide</a> ' +\n",
       "                'for more information on how to resolve this issue.</p>' +\n",
       "                '<p><a href=\"https://juliagizmos.github.io/WebIO.jl/latest/troubleshooting/not-detected/\" target=\"_blank\">https://juliagizmos.github.io/WebIO.jl/latest/troubleshooting/not-detected/</a></p>' +\n",
       "                '</div>'\n",
       "            );\n",
       "        return;\n",
       "    }\n",
       "    WebIO.mount(\n",
       "        document.querySelector('[data-webio-mountpoint=\"7107080689547336669\"]'),\n",
       "        {\"props\":{},\"nodeType\":\"Scope\",\"type\":\"node\",\"instanceArgs\":{\"imports\":{\"data\":[{\"name\":\"Plotly\",\"type\":\"js\",\"url\":\"\\/assetserver\\/f1f31522542ba34e1849be681911375aff952802-plotly.min.js\"},{\"name\":null,\"type\":\"js\",\"url\":\"\\/assetserver\\/124350e26addc0808d4fb3786957e66ae0b75a7e-plotly_webio.bundle.js\"}],\"type\":\"async_block\"},\"id\":\"16405539594852231120\",\"handlers\":{\"_toImage\":[\"(function (options){return this.Plotly.toImage(this.plotElem,options).then((function (data){return WebIO.setval({\\\"name\\\":\\\"image\\\",\\\"scope\\\":\\\"16405539594852231120\\\",\\\"id\\\":\\\"6494738267804058618\\\",\\\"type\\\":\\\"observable\\\"},data)}))})\"],\"__get_gd_contents\":[\"(function (prop){prop==\\\"data\\\" ? (WebIO.setval({\\\"name\\\":\\\"__gd_contents\\\",\\\"scope\\\":\\\"16405539594852231120\\\",\\\"id\\\":\\\"324185259303352118\\\",\\\"type\\\":\\\"observable\\\"},this.plotElem.data)) : undefined; return prop==\\\"layout\\\" ? (WebIO.setval({\\\"name\\\":\\\"__gd_contents\\\",\\\"scope\\\":\\\"16405539594852231120\\\",\\\"id\\\":\\\"324185259303352118\\\",\\\"type\\\":\\\"observable\\\"},this.plotElem.layout)) : undefined})\"],\"_downloadImage\":[\"(function (options){return this.Plotly.downloadImage(this.plotElem,options)})\"],\"_commands\":[\"(function (args){var fn=args.shift(); var elem=this.plotElem; var Plotly=this.Plotly; args.unshift(elem); return Plotly[fn].apply(this,args)})\"]},\"systemjs_options\":null,\"mount_callbacks\":[\"function () {\\n    var handler = ((function (Plotly,PlotlyWebIO){PlotlyWebIO.init(WebIO); var gd=this.dom.querySelector(\\\"#plot-6fee3bfe-4391-4ce1-b938-6c62a4bf0a9d\\\"); this.plotElem=gd; this.Plotly=Plotly; (window.Blink!==undefined) ? (gd.style.width=\\\"100%\\\", gd.style.height=\\\"100vh\\\", gd.style.marginLeft=\\\"0%\\\", gd.style.marginTop=\\\"0vh\\\") : undefined; window.onresize=(function (){return Plotly.Plots.resize(gd)}); Plotly.newPlot(gd,[{\\\"mode\\\":\\\"markers+lines\\\",\\\"y\\\":[-0.0,-1.4696369934044147,-2.93709852658733,-4.400222001365922,-5.856870382376402,-7.304944578798362,-8.742395356033516,-10.16723463628391,-11.577546059717076,-12.971494693053733,-14.347335789499724,-15.703422522455,-17.03821263483159,-18.350273965559705,-19.638288834435137,-20.90105728537547,-22.137499205973473,-23.34665535759246,-24.52768736484199,-25.67987672588044,-26.80262291546983,-27.895440660987738,-28.957956477682536,-29.98990455340419,-30.991122074971138,-31.961544088403226,-32.90119798365641,-33.810197691450995,-34.688737675521686,-35.53708679836574,-36.35558213255502,-37.144622783125925,-37.9046637796703,-38.63621008970526,-39.339810797859954,-40.016053488522715,-40.66555886295581,-41.28897561560103,-41.88697558843546,-42.46024921684409,-43.00950127558594,-43.53544692905797,-44.03880808620917,-44.520310057115914,-44.98067850538016,-45.42063668813034,-45.84090297345663,-46.24218862356786,-46.62519583077545,-46.99061599255645,-47.33912821138381,-47.671398004701715,-47.988076210331954,-48.28979807269157,-48.57718249545122,-48.85083144664045,-49.1113295026847,-49.35924351841675,-49.595122410722695,-49.81949704414125,-50.03288020742079,-50.235766670737405,-50.428633313978935,-50.61193931719506,-50.78612640499483,-50.951619137334774,-51.10882523977744,-51.258135966910245,-51.399926493192694,-51.534556326047706,-51.662369736526415,-51.783696203356946,-51.89885086663515,-52.00813498783056,-52.111836413164276,-52.21023003776825,-52.30357826835899,-52.39213148245431,-52.476128482430816,-52.5557969429643,-52.631353850616115,-52.70300593452784,-52.77095008736578,-52.835373775817175,-52.896455440083116,-52.95436488194061,-53.009263641058915,-53.06130535935484,-53.11063613325919,-53.15739485384285,-53.20171353481754,-53.24371762848386,-53.28352632974826,-53.321252868373215,-53.35700478965965,-53.39088422379107,-53.42298814409283,-53.45340861447991,-53.48223302638248,-53.50954432545027],\\\"type\\\":\\\"scatter\\\",\\\"name\\\":\\\"Velocity\\\",\\\"x\\\":[0.0,0.15,0.3,0.44999999999999996,0.6,0.75,0.8999999999999999,1.05,1.2,1.3499999999999999,1.5,1.65,1.7999999999999998,1.95,2.1,2.25,2.4,2.55,2.6999999999999997,2.85,3.0,3.15,3.3,3.4499999999999997,3.5999999999999996,3.75,3.9,4.05,4.2,4.35,4.5,4.6499999999999995,4.8,4.95,5.1,5.25,5.3999999999999995,5.55,5.7,5.85,6.0,6.1499999999999995,6.3,6.45,6.6,6.75,6.8999999999999995,7.05,7.199999999999999,7.35,7.5,7.6499999999999995,7.8,7.949999999999999,8.1,8.25,8.4,8.549999999999999,8.7,8.85,9.0,9.15,9.299999999999999,9.45,9.6,9.75,9.9,10.049999999999999,10.2,10.35,10.5,10.65,10.799999999999999,10.95,11.1,11.25,11.4,11.549999999999999,11.7,11.85,12.0,12.15,12.299999999999999,12.45,12.6,12.75,12.9,13.049999999999999,13.2,13.35,13.5,13.65,13.799999999999999,13.95,14.1,14.25,14.399999999999999,14.549999999999999,14.7,14.85]}],{\\\"xaxis\\\":{\\\"title\\\":{\\\"text\\\":\\\"Time (second)\\\"}},\\\"template\\\":{\\\"layout\\\":{\\\"coloraxis\\\":{\\\"colorbar\\\":{\\\"ticks\\\":\\\"\\\",\\\"outlinewidth\\\":0}},\\\"xaxis\\\":{\\\"gridcolor\\\":\\\"white\\\",\\\"zerolinewidth\\\":2,\\\"title\\\":{\\\"standoff\\\":15},\\\"ticks\\\":\\\"\\\",\\\"zerolinecolor\\\":\\\"white\\\",\\\"automargin\\\":true,\\\"linecolor\\\":\\\"white\\\"},\\\"hovermode\\\":\\\"closest\\\",\\\"paper_bgcolor\\\":\\\"white\\\",\\\"geo\\\":{\\\"showlakes\\\":true,\\\"showland\\\":true,\\\"landcolor\\\":\\\"#E5ECF6\\\",\\\"bgcolor\\\":\\\"white\\\",\\\"subunitcolor\\\":\\\"white\\\",\\\"lakecolor\\\":\\\"white\\\"},\\\"colorscale\\\":{\\\"sequential\\\":[[0.0,\\\"#0d0887\\\"],[0.1111111111111111,\\\"#46039f\\\"],[0.2222222222222222,\\\"#7201a8\\\"],[0.3333333333333333,\\\"#9c179e\\\"],[0.4444444444444444,\\\"#bd3786\\\"],[0.5555555555555556,\\\"#d8576b\\\"],[0.6666666666666666,\\\"#ed7953\\\"],[0.7777777777777778,\\\"#fb9f3a\\\"],[0.8888888888888888,\\\"#fdca26\\\"],[1.0,\\\"#f0f921\\\"]],\\\"diverging\\\":[[0,\\\"#8e0152\\\"],[0.1,\\\"#c51b7d\\\"],[0.2,\\\"#de77ae\\\"],[0.3,\\\"#f1b6da\\\"],[0.4,\\\"#fde0ef\\\"],[0.5,\\\"#f7f7f7\\\"],[0.6,\\\"#e6f5d0\\\"],[0.7,\\\"#b8e186\\\"],[0.8,\\\"#7fbc41\\\"],[0.9,\\\"#4d9221\\\"],[1,\\\"#276419\\\"]],\\\"sequentialminus\\\":[[0.0,\\\"#0d0887\\\"],[0.1111111111111111,\\\"#46039f\\\"],[0.2222222222222222,\\\"#7201a8\\\"],[0.3333333333333333,\\\"#9c179e\\\"],[0.4444444444444444,\\\"#bd3786\\\"],[0.5555555555555556,\\\"#d8576b\\\"],[0.6666666666666666,\\\"#ed7953\\\"],[0.7777777777777778,\\\"#fb9f3a\\\"],[0.8888888888888888,\\\"#fdca26\\\"],[1.0,\\\"#f0f921\\\"]]},\\\"yaxis\\\":{\\\"gridcolor\\\":\\\"white\\\",\\\"zerolinewidth\\\":2,\\\"title\\\":{\\\"standoff\\\":15},\\\"ticks\\\":\\\"\\\",\\\"zerolinecolor\\\":\\\"white\\\",\\\"automargin\\\":true,\\\"linecolor\\\":\\\"white\\\"},\\\"shapedefaults\\\":{\\\"line\\\":{\\\"color\\\":\\\"#2a3f5f\\\"}},\\\"hoverlabel\\\":{\\\"align\\\":\\\"left\\\"},\\\"mapbox\\\":{\\\"style\\\":\\\"light\\\"},\\\"polar\\\":{\\\"angularaxis\\\":{\\\"gridcolor\\\":\\\"white\\\",\\\"ticks\\\":\\\"\\\",\\\"linecolor\\\":\\\"white\\\"},\\\"bgcolor\\\":\\\"#E5ECF6\\\",\\\"radialaxis\\\":{\\\"gridcolor\\\":\\\"white\\\",\\\"ticks\\\":\\\"\\\",\\\"linecolor\\\":\\\"white\\\"}},\\\"autotypenumbers\\\":\\\"strict\\\",\\\"font\\\":{\\\"color\\\":\\\"#2a3f5f\\\"},\\\"ternary\\\":{\\\"baxis\\\":{\\\"gridcolor\\\":\\\"white\\\",\\\"ticks\\\":\\\"\\\",\\\"linecolor\\\":\\\"white\\\"},\\\"bgcolor\\\":\\\"#E5ECF6\\\",\\\"caxis\\\":{\\\"gridcolor\\\":\\\"white\\\",\\\"ticks\\\":\\\"\\\",\\\"linecolor\\\":\\\"white\\\"},\\\"aaxis\\\":{\\\"gridcolor\\\":\\\"white\\\",\\\"ticks\\\":\\\"\\\",\\\"linecolor\\\":\\\"white\\\"}},\\\"annotationdefaults\\\":{\\\"arrowhead\\\":0,\\\"arrowwidth\\\":1,\\\"arrowcolor\\\":\\\"#2a3f5f\\\"},\\\"plot_bgcolor\\\":\\\"#E5ECF6\\\",\\\"title\\\":{\\\"x\\\":0.05},\\\"scene\\\":{\\\"xaxis\\\":{\\\"gridcolor\\\":\\\"white\\\",\\\"gridwidth\\\":2,\\\"backgroundcolor\\\":\\\"#E5ECF6\\\",\\\"ticks\\\":\\\"\\\",\\\"showbackground\\\":true,\\\"zerolinecolor\\\":\\\"white\\\",\\\"linecolor\\\":\\\"white\\\"},\\\"zaxis\\\":{\\\"gridcolor\\\":\\\"white\\\",\\\"gridwidth\\\":2,\\\"backgroundcolor\\\":\\\"#E5ECF6\\\",\\\"ticks\\\":\\\"\\\",\\\"showbackground\\\":true,\\\"zerolinecolor\\\":\\\"white\\\",\\\"linecolor\\\":\\\"white\\\"},\\\"yaxis\\\":{\\\"gridcolor\\\":\\\"white\\\",\\\"gridwidth\\\":2,\\\"backgroundcolor\\\":\\\"#E5ECF6\\\",\\\"ticks\\\":\\\"\\\",\\\"showbackground\\\":true,\\\"zerolinecolor\\\":\\\"white\\\",\\\"linecolor\\\":\\\"white\\\"}},\\\"colorway\\\":[\\\"#636efa\\\",\\\"#EF553B\\\",\\\"#00cc96\\\",\\\"#ab63fa\\\",\\\"#FFA15A\\\",\\\"#19d3f3\\\",\\\"#FF6692\\\",\\\"#B6E880\\\",\\\"#FF97FF\\\",\\\"#FECB52\\\"]},\\\"data\\\":{\\\"barpolar\\\":[{\\\"type\\\":\\\"barpolar\\\",\\\"marker\\\":{\\\"line\\\":{\\\"color\\\":\\\"#E5ECF6\\\",\\\"width\\\":0.5}}}],\\\"carpet\\\":[{\\\"aaxis\\\":{\\\"gridcolor\\\":\\\"white\\\",\\\"endlinecolor\\\":\\\"#2a3f5f\\\",\\\"minorgridcolor\\\":\\\"white\\\",\\\"startlinecolor\\\":\\\"#2a3f5f\\\",\\\"linecolor\\\":\\\"white\\\"},\\\"type\\\":\\\"carpet\\\",\\\"baxis\\\":{\\\"gridcolor\\\":\\\"white\\\",\\\"endlinecolor\\\":\\\"#2a3f5f\\\",\\\"minorgridcolor\\\":\\\"white\\\",\\\"startlinecolor\\\":\\\"#2a3f5f\\\",\\\"linecolor\\\":\\\"white\\\"}}],\\\"scatterpolar\\\":[{\\\"type\\\":\\\"scatterpolar\\\",\\\"marker\\\":{\\\"colorbar\\\":{\\\"ticks\\\":\\\"\\\",\\\"outlinewidth\\\":0}}}],\\\"parcoords\\\":[{\\\"line\\\":{\\\"colorbar\\\":{\\\"ticks\\\":\\\"\\\",\\\"outlinewidth\\\":0}},\\\"type\\\":\\\"parcoords\\\"}],\\\"scatter\\\":[{\\\"type\\\":\\\"scatter\\\",\\\"marker\\\":{\\\"colorbar\\\":{\\\"ticks\\\":\\\"\\\",\\\"outlinewidth\\\":0}}}],\\\"histogram2dcontour\\\":[{\\\"colorbar\\\":{\\\"ticks\\\":\\\"\\\",\\\"outlinewidth\\\":0},\\\"type\\\":\\\"histogram2dcontour\\\",\\\"colorscale\\\":[[0.0,\\\"#0d0887\\\"],[0.1111111111111111,\\\"#46039f\\\"],[0.2222222222222222,\\\"#7201a8\\\"],[0.3333333333333333,\\\"#9c179e\\\"],[0.4444444444444444,\\\"#bd3786\\\"],[0.5555555555555556,\\\"#d8576b\\\"],[0.6666666666666666,\\\"#ed7953\\\"],[0.7777777777777778,\\\"#fb9f3a\\\"],[0.8888888888888888,\\\"#fdca26\\\"],[1.0,\\\"#f0f921\\\"]]}],\\\"contour\\\":[{\\\"colorbar\\\":{\\\"ticks\\\":\\\"\\\",\\\"outlinewidth\\\":0},\\\"type\\\":\\\"contour\\\",\\\"colorscale\\\":[[0.0,\\\"#0d0887\\\"],[0.1111111111111111,\\\"#46039f\\\"],[0.2222222222222222,\\\"#7201a8\\\"],[0.3333333333333333,\\\"#9c179e\\\"],[0.4444444444444444,\\\"#bd3786\\\"],[0.5555555555555556,\\\"#d8576b\\\"],[0.6666666666666666,\\\"#ed7953\\\"],[0.7777777777777778,\\\"#fb9f3a\\\"],[0.8888888888888888,\\\"#fdca26\\\"],[1.0,\\\"#f0f921\\\"]]}],\\\"scattercarpet\\\":[{\\\"type\\\":\\\"scattercarpet\\\",\\\"marker\\\":{\\\"colorbar\\\":{\\\"ticks\\\":\\\"\\\",\\\"outlinewidth\\\":0}}}],\\\"mesh3d\\\":[{\\\"colorbar\\\":{\\\"ticks\\\":\\\"\\\",\\\"outlinewidth\\\":0},\\\"type\\\":\\\"mesh3d\\\"}],\\\"surface\\\":[{\\\"colorbar\\\":{\\\"ticks\\\":\\\"\\\",\\\"outlinewidth\\\":0},\\\"type\\\":\\\"surface\\\",\\\"colorscale\\\":[[0.0,\\\"#0d0887\\\"],[0.1111111111111111,\\\"#46039f\\\"],[0.2222222222222222,\\\"#7201a8\\\"],[0.3333333333333333,\\\"#9c179e\\\"],[0.4444444444444444,\\\"#bd3786\\\"],[0.5555555555555556,\\\"#d8576b\\\"],[0.6666666666666666,\\\"#ed7953\\\"],[0.7777777777777778,\\\"#fb9f3a\\\"],[0.8888888888888888,\\\"#fdca26\\\"],[1.0,\\\"#f0f921\\\"]]}],\\\"scattermapbox\\\":[{\\\"type\\\":\\\"scattermapbox\\\",\\\"marker\\\":{\\\"colorbar\\\":{\\\"ticks\\\":\\\"\\\",\\\"outlinewidth\\\":0}}}],\\\"scattergeo\\\":[{\\\"type\\\":\\\"scattergeo\\\",\\\"marker\\\":{\\\"colorbar\\\":{\\\"ticks\\\":\\\"\\\",\\\"outlinewidth\\\":0}}}],\\\"histogram\\\":[{\\\"type\\\":\\\"histogram\\\",\\\"marker\\\":{\\\"colorbar\\\":{\\\"ticks\\\":\\\"\\\",\\\"outlinewidth\\\":0}}}],\\\"pie\\\":[{\\\"type\\\":\\\"pie\\\",\\\"automargin\\\":true}],\\\"choropleth\\\":[{\\\"colorbar\\\":{\\\"ticks\\\":\\\"\\\",\\\"outlinewidth\\\":0},\\\"type\\\":\\\"choropleth\\\"}],\\\"heatmapgl\\\":[{\\\"colorbar\\\":{\\\"ticks\\\":\\\"\\\",\\\"outlinewidth\\\":0},\\\"type\\\":\\\"heatmapgl\\\",\\\"colorscale\\\":[[0.0,\\\"#0d0887\\\"],[0.1111111111111111,\\\"#46039f\\\"],[0.2222222222222222,\\\"#7201a8\\\"],[0.3333333333333333,\\\"#9c179e\\\"],[0.4444444444444444,\\\"#bd3786\\\"],[0.5555555555555556,\\\"#d8576b\\\"],[0.6666666666666666,\\\"#ed7953\\\"],[0.7777777777777778,\\\"#fb9f3a\\\"],[0.8888888888888888,\\\"#fdca26\\\"],[1.0,\\\"#f0f921\\\"]]}],\\\"bar\\\":[{\\\"type\\\":\\\"bar\\\",\\\"error_y\\\":{\\\"color\\\":\\\"#2a3f5f\\\"},\\\"error_x\\\":{\\\"color\\\":\\\"#2a3f5f\\\"},\\\"marker\\\":{\\\"line\\\":{\\\"color\\\":\\\"#E5ECF6\\\",\\\"width\\\":0.5}}}],\\\"heatmap\\\":[{\\\"colorbar\\\":{\\\"ticks\\\":\\\"\\\",\\\"outlinewidth\\\":0},\\\"type\\\":\\\"heatmap\\\",\\\"colorscale\\\":[[0.0,\\\"#0d0887\\\"],[0.1111111111111111,\\\"#46039f\\\"],[0.2222222222222222,\\\"#7201a8\\\"],[0.3333333333333333,\\\"#9c179e\\\"],[0.4444444444444444,\\\"#bd3786\\\"],[0.5555555555555556,\\\"#d8576b\\\"],[0.6666666666666666,\\\"#ed7953\\\"],[0.7777777777777778,\\\"#fb9f3a\\\"],[0.8888888888888888,\\\"#fdca26\\\"],[1.0,\\\"#f0f921\\\"]]}],\\\"contourcarpet\\\":[{\\\"colorbar\\\":{\\\"ticks\\\":\\\"\\\",\\\"outlinewidth\\\":0},\\\"type\\\":\\\"contourcarpet\\\"}],\\\"table\\\":[{\\\"type\\\":\\\"table\\\",\\\"header\\\":{\\\"line\\\":{\\\"color\\\":\\\"white\\\"},\\\"fill\\\":{\\\"color\\\":\\\"#C8D4E3\\\"}},\\\"cells\\\":{\\\"line\\\":{\\\"color\\\":\\\"white\\\"},\\\"fill\\\":{\\\"color\\\":\\\"#EBF0F8\\\"}}}],\\\"scatter3d\\\":[{\\\"line\\\":{\\\"colorbar\\\":{\\\"ticks\\\":\\\"\\\",\\\"outlinewidth\\\":0}},\\\"type\\\":\\\"scatter3d\\\",\\\"marker\\\":{\\\"colorbar\\\":{\\\"ticks\\\":\\\"\\\",\\\"outlinewidth\\\":0}}}],\\\"scattergl\\\":[{\\\"type\\\":\\\"scattergl\\\",\\\"marker\\\":{\\\"colorbar\\\":{\\\"ticks\\\":\\\"\\\",\\\"outlinewidth\\\":0}}}],\\\"histogram2d\\\":[{\\\"colorbar\\\":{\\\"ticks\\\":\\\"\\\",\\\"outlinewidth\\\":0},\\\"type\\\":\\\"histogram2d\\\",\\\"colorscale\\\":[[0.0,\\\"#0d0887\\\"],[0.1111111111111111,\\\"#46039f\\\"],[0.2222222222222222,\\\"#7201a8\\\"],[0.3333333333333333,\\\"#9c179e\\\"],[0.4444444444444444,\\\"#bd3786\\\"],[0.5555555555555556,\\\"#d8576b\\\"],[0.6666666666666666,\\\"#ed7953\\\"],[0.7777777777777778,\\\"#fb9f3a\\\"],[0.8888888888888888,\\\"#fdca26\\\"],[1.0,\\\"#f0f921\\\"]]}],\\\"scatterternary\\\":[{\\\"type\\\":\\\"scatterternary\\\",\\\"marker\\\":{\\\"colorbar\\\":{\\\"ticks\\\":\\\"\\\",\\\"outlinewidth\\\":0}}}],\\\"scatterpolargl\\\":[{\\\"type\\\":\\\"scatterpolargl\\\",\\\"marker\\\":{\\\"colorbar\\\":{\\\"ticks\\\":\\\"\\\",\\\"outlinewidth\\\":0}}}]}},\\\"legend\\\":{\\\"title\\\":\\\"Legend Title\\\"},\\\"margin\\\":{\\\"l\\\":50,\\\"b\\\":50,\\\"r\\\":50,\\\"t\\\":60},\\\"title\\\":\\\"Velocity Model\\\",\\\"yaxis\\\":{\\\"title\\\":{\\\"text\\\":\\\"Velocity (meter \\/ second)\\\"}}},{\\\"showLink\\\":false,\\\"editable\\\":false,\\\"responsive\\\":true,\\\"staticPlot\\\":false,\\\"scrollZoom\\\":true}); gd.on(\\\"plotly_hover\\\",(function (data){var filtered_data=WebIO.PlotlyCommands.filterEventData(gd,data,\\\"hover\\\"); return !(filtered_data.isnil) ? (WebIO.setval({\\\"name\\\":\\\"hover\\\",\\\"scope\\\":\\\"16405539594852231120\\\",\\\"id\\\":\\\"17621415701897081025\\\",\\\"type\\\":\\\"observable\\\"},filtered_data.out)) : undefined})); gd.on(\\\"plotly_unhover\\\",(function (){return WebIO.setval({\\\"name\\\":\\\"hover\\\",\\\"scope\\\":\\\"16405539594852231120\\\",\\\"id\\\":\\\"17621415701897081025\\\",\\\"type\\\":\\\"observable\\\"},{})})); gd.on(\\\"plotly_selected\\\",(function (data){var filtered_data=WebIO.PlotlyCommands.filterEventData(gd,data,\\\"selected\\\"); return !(filtered_data.isnil) ? (WebIO.setval({\\\"name\\\":\\\"selected\\\",\\\"scope\\\":\\\"16405539594852231120\\\",\\\"id\\\":\\\"8850749191231784133\\\",\\\"type\\\":\\\"observable\\\"},filtered_data.out)) : undefined})); gd.on(\\\"plotly_deselect\\\",(function (){return WebIO.setval({\\\"name\\\":\\\"selected\\\",\\\"scope\\\":\\\"16405539594852231120\\\",\\\"id\\\":\\\"8850749191231784133\\\",\\\"type\\\":\\\"observable\\\"},{})})); gd.on(\\\"plotly_relayout\\\",(function (data){var filtered_data=WebIO.PlotlyCommands.filterEventData(gd,data,\\\"relayout\\\"); return !(filtered_data.isnil) ? (WebIO.setval({\\\"name\\\":\\\"relayout\\\",\\\"scope\\\":\\\"16405539594852231120\\\",\\\"id\\\":\\\"13926648834431099254\\\",\\\"type\\\":\\\"observable\\\"},filtered_data.out)) : undefined})); return gd.on(\\\"plotly_click\\\",(function (data){var filtered_data=WebIO.PlotlyCommands.filterEventData(gd,data,\\\"click\\\"); return !(filtered_data.isnil) ? (WebIO.setval({\\\"name\\\":\\\"click\\\",\\\"scope\\\":\\\"16405539594852231120\\\",\\\"id\\\":\\\"9955043231238696509\\\",\\\"type\\\":\\\"observable\\\"},filtered_data.out)) : undefined}))}));\\n    (WebIO.importBlock({\\\"data\\\":[{\\\"name\\\":\\\"Plotly\\\",\\\"type\\\":\\\"js\\\",\\\"url\\\":\\\"\\/assetserver\\/f1f31522542ba34e1849be681911375aff952802-plotly.min.js\\\"},{\\\"name\\\":null,\\\"type\\\":\\\"js\\\",\\\"url\\\":\\\"\\/assetserver\\/124350e26addc0808d4fb3786957e66ae0b75a7e-plotly_webio.bundle.js\\\"}],\\\"type\\\":\\\"async_block\\\"})).then((imports) => handler.apply(this, imports));\\n}\\n\"],\"observables\":{\"_toImage\":{\"sync\":false,\"id\":\"13847485536935444311\",\"value\":{}},\"hover\":{\"sync\":false,\"id\":\"17621415701897081025\",\"value\":{}},\"selected\":{\"sync\":false,\"id\":\"8850749191231784133\",\"value\":{}},\"__gd_contents\":{\"sync\":false,\"id\":\"324185259303352118\",\"value\":{}},\"click\":{\"sync\":false,\"id\":\"9955043231238696509\",\"value\":{}},\"image\":{\"sync\":true,\"id\":\"6494738267804058618\",\"value\":\"\"},\"__get_gd_contents\":{\"sync\":false,\"id\":\"10651008491786080316\",\"value\":\"\"},\"_downloadImage\":{\"sync\":false,\"id\":\"1425019194203345897\",\"value\":{}},\"relayout\":{\"sync\":false,\"id\":\"13926648834431099254\",\"value\":{}},\"_commands\":{\"sync\":false,\"id\":\"10436663544578520028\",\"value\":[]}}},\"children\":[{\"props\":{\"id\":\"plot-6fee3bfe-4391-4ce1-b938-6c62a4bf0a9d\"},\"nodeType\":\"DOM\",\"type\":\"node\",\"instanceArgs\":{\"namespace\":\"html\",\"tag\":\"div\"},\"children\":[]}]},\n",
       "        window,\n",
       "    );\n",
       "    })()\n",
       "    </script>\n",
       "</div>\n"
      ],
      "text/plain": [
       "data: [\n",
       "  \"scatter with fields mode, name, type, x, and y\"\n",
       "]\n",
       "\n",
       "layout: \"layout with fields legend, margin, template, title, xaxis, and yaxis\"\n",
       "\n"
      ]
     },
     "execution_count": 3,
     "metadata": {},
     "output_type": "execute_result"
    }
   ],
   "source": [
    "plot(\n",
    "    [\n",
    "        # Velocity\n",
    "        scatter(\n",
    "            mode=\"markers+lines\",\n",
    "            x=time_axis_sec,\n",
    "            y=[v_inf * tanh(accel_ms2 * t / v_inf) for t in time_axis_sec],\n",
    "            name=\"Velocity\"\n",
    "        ),\n",
    "    ],\n",
    "    Layout(\n",
    "        title=\"Velocity Model\",\n",
    "        xaxis_title=\"Time (second)\",\n",
    "        yaxis_title=\"Velocity (meter / second)\",\n",
    "        legend_title=\"Legend Title\",\n",
    "    ),\n",
    "    config=PlotConfig(scrollZoom=true)\n",
    ")"
   ]
  },
  {
   "cell_type": "markdown",
   "id": "941393cc",
   "metadata": {},
   "source": [
    "We want to model the position and velocity of an object falling, but we CANNOT use the following equations\n",
    "$$\n",
    "\\begin{align}\n",
    "h &= h_{0} + v_0 t + \\frac{1}{2} a t^{2} \\\\\n",
    "v &= v_{0} + g t\n",
    "\\end{align}\n",
    "$$"
   ]
  },
  {
   "cell_type": "markdown",
   "id": "54f8ad1a",
   "metadata": {},
   "source": [
    "since the acceleration is NOT constant in time"
   ]
  },
  {
   "cell_type": "markdown",
   "id": "72ae2c85",
   "metadata": {},
   "source": [
    "$$\n",
    "\\begin{align}\n",
    "a &= \\frac{dv}{dt} = g \\ \\text{sech}^2\\left(\\frac{g t}{v_{\\infty}}\\right)\n",
    "\\end{align}\n",
    "$$"
   ]
  },
  {
   "cell_type": "markdown",
   "id": "44359b98",
   "metadata": {},
   "source": [
    "Let's consider the following model instead"
   ]
  },
  {
   "cell_type": "markdown",
   "id": "97603b68",
   "metadata": {},
   "source": [
    "$$\n",
    "\\begin{align}\n",
    "h \\rightarrow h + \\delta h &= \\sum\\limits_{n=0}^{\\infty}\\left.\\left(\\frac{d}{dt}\\right)^{n} h\\right|_{t=T}\\frac{\\left(\\Delta t\\right)^n}{n!} \\\\\n",
    "     &= h(T) + v(T) \\Delta t + \\frac{1}{2} a(T) \\left(\\Delta t\\right)^2 + \\frac{1}{3!} j(T) \\left(\\Delta t\\right)^3 + \\frac{1}{4!} s(T) \\left(\\Delta t\\right)^4 + \\mathcal{O}(t^5)\n",
    "\\end{align}\n",
    "$$"
   ]
  },
  {
   "cell_type": "markdown",
   "id": "84a22547",
   "metadata": {},
   "source": [
    "The terms in the sum above are given by"
   ]
  },
  {
   "cell_type": "markdown",
   "id": "c66a77a1",
   "metadata": {},
   "source": [
    "$$\n",
    "\\begin{align}\n",
    "v(t) &= v_{\\infty} \\tanh\\left(\\frac{g t}{v_{\\infty}}\\right) & \\text{Velocity}\\\\\n",
    "a(t) &= \\frac{dv}{dt}     = g \\ \\text{sech}^2\\left(\\frac{g t}{v_{\\infty}}\\right) & \\text{Acceleration}\\\\\n",
    "j(t) &= \\frac{d^2v}{dt^2} = -\\frac{2 g^2}{v_{\\infty}} \\tanh \\left(\\frac{g t}{v_{\\infty}}\\right) \\text{sech}^2\\left(\\frac{g t}{v_{\\infty}}\\right) & \\text{Jerk} \\\\\n",
    "s(t) &= \\frac{d^3v}{dt^3} = \\frac{2 g^3}{v_{\\infty}^2} \\left(\\cosh \\left(\\frac{2 g t}{v_{\\infty}}\\right)-2\\right) \\text{sech}^4\\left(\\frac{g t}{v_{\\infty}}\\right) & \\text{Snap} \\\\\n",
    "\\vdots\n",
    "\\end{align}\n",
    "$$"
   ]
  },
  {
   "cell_type": "markdown",
   "id": "aa0b5049",
   "metadata": {},
   "source": [
    "and we must determine when to truncate the series. Let's plot each derivative."
   ]
  },
  {
   "cell_type": "markdown",
   "id": "48fe49e9",
   "metadata": {},
   "source": [
    "Plot each successive term in the sum"
   ]
  },
  {
   "cell_type": "code",
   "execution_count": 4,
   "id": "4f880b8c",
   "metadata": {},
   "outputs": [
    {
     "data": {
      "application/vnd.plotly.v1+json": {
       "config": {
        "editable": false,
        "responsive": true,
        "scrollZoom": true,
        "showLink": false,
        "staticPlot": false
       },
       "data": [
        {
         "mode": "markers+lines",
         "name": "Velocity",
         "type": "scatter",
         "x": [
          0,
          0.15,
          0.3,
          0.44999999999999996,
          0.6,
          0.75,
          0.8999999999999999,
          1.05,
          1.2,
          1.3499999999999999,
          1.5,
          1.65,
          1.7999999999999998,
          1.95,
          2.1,
          2.25,
          2.4,
          2.55,
          2.6999999999999997,
          2.85,
          3,
          3.15,
          3.3,
          3.4499999999999997,
          3.5999999999999996,
          3.75,
          3.9,
          4.05,
          4.2,
          4.35,
          4.5,
          4.6499999999999995,
          4.8,
          4.95,
          5.1,
          5.25,
          5.3999999999999995,
          5.55,
          5.7,
          5.85,
          6,
          6.1499999999999995,
          6.3,
          6.45,
          6.6,
          6.75,
          6.8999999999999995,
          7.05,
          7.199999999999999,
          7.35,
          7.5,
          7.6499999999999995,
          7.8,
          7.949999999999999,
          8.1,
          8.25,
          8.4,
          8.549999999999999,
          8.7,
          8.85,
          9,
          9.15,
          9.299999999999999,
          9.45,
          9.6,
          9.75,
          9.9,
          10.049999999999999,
          10.2,
          10.35,
          10.5,
          10.65,
          10.799999999999999,
          10.95,
          11.1,
          11.25,
          11.4,
          11.549999999999999,
          11.7,
          11.85,
          12,
          12.15,
          12.299999999999999,
          12.45,
          12.6,
          12.75,
          12.9,
          13.049999999999999,
          13.2,
          13.35,
          13.5,
          13.65,
          13.799999999999999,
          13.95,
          14.1,
          14.25,
          14.399999999999999,
          14.549999999999999,
          14.7,
          14.85
         ],
         "y": [
          0,
          -1.4696369934044147,
          -2.93709852658733,
          -4.400222001365922,
          -5.856870382376402,
          -7.304944578798362,
          -8.742395356033516,
          -10.16723463628391,
          -11.577546059717076,
          -12.971494693053733,
          -14.347335789499724,
          -15.703422522455,
          -17.03821263483159,
          -18.350273965559705,
          -19.638288834435137,
          -20.90105728537547,
          -22.137499205973473,
          -23.34665535759246,
          -24.52768736484199,
          -25.67987672588044,
          -26.80262291546983,
          -27.895440660987738,
          -28.957956477682536,
          -29.98990455340419,
          -30.991122074971138,
          -31.961544088403226,
          -32.90119798365641,
          -33.810197691450995,
          -34.688737675521686,
          -35.53708679836574,
          -36.35558213255502,
          -37.144622783125925,
          -37.9046637796703,
          -38.63621008970526,
          -39.339810797859954,
          -40.016053488522715,
          -40.66555886295581,
          -41.28897561560103,
          -41.88697558843546,
          -42.46024921684409,
          -43.00950127558594,
          -43.53544692905797,
          -44.03880808620917,
          -44.520310057115914,
          -44.98067850538016,
          -45.42063668813034,
          -45.84090297345663,
          -46.24218862356786,
          -46.62519583077545,
          -46.99061599255645,
          -47.33912821138381,
          -47.671398004701715,
          -47.988076210331954,
          -48.28979807269157,
          -48.57718249545122,
          -48.85083144664045,
          -49.1113295026847,
          -49.35924351841675,
          -49.595122410722695,
          -49.81949704414125,
          -50.03288020742079,
          -50.235766670737405,
          -50.428633313978935,
          -50.61193931719506,
          -50.78612640499483,
          -50.951619137334774,
          -51.10882523977744,
          -51.258135966910245,
          -51.399926493192694,
          -51.534556326047706,
          -51.662369736526415,
          -51.783696203356946,
          -51.89885086663515,
          -52.00813498783056,
          -52.111836413164276,
          -52.21023003776825,
          -52.30357826835899,
          -52.39213148245431,
          -52.476128482430816,
          -52.5557969429643,
          -52.631353850616115,
          -52.70300593452784,
          -52.77095008736578,
          -52.835373775817175,
          -52.896455440083116,
          -52.95436488194061,
          -53.009263641058915,
          -53.06130535935484,
          -53.11063613325919,
          -53.15739485384285,
          -53.20171353481754,
          -53.24371762848386,
          -53.28352632974826,
          -53.321252868373215,
          -53.35700478965965,
          -53.39088422379107,
          -53.42298814409283,
          -53.45340861447991,
          -53.48223302638248,
          -53.50954432545027
         ]
        },
        {
         "mode": "markers+lines",
         "name": "Acceleration",
         "type": "scatter",
         "x": [
          0,
          0.15,
          0.3,
          0.44999999999999996,
          0.6,
          0.75,
          0.8999999999999999,
          1.05,
          1.2,
          1.3499999999999999,
          1.5,
          1.65,
          1.7999999999999998,
          1.95,
          2.1,
          2.25,
          2.4,
          2.55,
          2.6999999999999997,
          2.85,
          3,
          3.15,
          3.3,
          3.4499999999999997,
          3.5999999999999996,
          3.75,
          3.9,
          4.05,
          4.2,
          4.35,
          4.5,
          4.6499999999999995,
          4.8,
          4.95,
          5.1,
          5.25,
          5.3999999999999995,
          5.55,
          5.7,
          5.85,
          6,
          6.1499999999999995,
          6.3,
          6.45,
          6.6,
          6.75,
          6.8999999999999995,
          7.05,
          7.199999999999999,
          7.35,
          7.5,
          7.6499999999999995,
          7.8,
          7.949999999999999,
          8.1,
          8.25,
          8.4,
          8.549999999999999,
          8.7,
          8.85,
          9,
          9.15,
          9.299999999999999,
          9.45,
          9.6,
          9.75,
          9.9,
          10.049999999999999,
          10.2,
          10.35,
          10.5,
          10.65,
          10.799999999999999,
          10.95,
          11.1,
          11.25,
          11.4,
          11.549999999999999,
          11.7,
          11.85,
          12,
          12.15,
          12.299999999999999,
          12.45,
          12.6,
          12.75,
          12.9,
          13.049999999999999,
          13.2,
          13.35,
          13.5,
          13.65,
          13.799999999999999,
          13.95,
          14.1,
          14.25,
          14.399999999999999,
          14.549999999999999,
          14.7,
          14.85
         ],
         "y": [
          -9.8,
          -9.792741302350704,
          -9.771008172840249,
          -9.734928962317978,
          -9.684715802255013,
          -9.620661965043455,
          -9.543138247496662,
          -9.45258845354504,
          -9.349524069583083,
          -9.23451824046474,
          -9.108199165392572,
          -8.971243040670878,
          -8.824366680404868,
          -8.668319946780258,
          -8.503878118731805,
          -8.331834321901182,
          -8.152992134181803,
          -7.968158470307008,
          -7.778136836357748,
          -7.583721031264445,
          -7.385689357867314,
          -7.184799391367373,
          -6.98178333849078,
          -6.777344006790646,
          -6.57215139054716,
          -6.366839867953893,
          -6.162005993880108,
          -5.958206863592943,
          -5.755959015463874,
          -5.555737834868694,
          -5.357977417170731,
          -5.16307084476439,
          -4.971370831533427,
          -4.783190687606567,
          -4.598805557821708,
          -4.418453888681808,
          -4.2423390806454275,
          -4.070631285192104,
          -3.903469309097172,
          -3.740962591613928,
          -3.583193223679232,
          -3.430217981733313,
          -3.2820703521917576,
          -3.1387625259598724,
          -3.000287345582026,
          -2.8666201906309032,
          -2.737720789734474,
          -2.613534950193154,
          -2.4939961984465118,
          -2.379027326705406,
          -2.268541842875317,
          -2.1624453224683635,
          -2.0606366625471355,
          -1.9630092388775726,
          -1.8694519684072548,
          -1.779850279946799,
          -1.6940869965334622,
          -1.6120431334150958,
          -1.5335986159263473,
          -1.4586329217538576,
          -1.3870256522183937,
          -1.3186570372536504,
          -1.2534083787468064,
          -1.1911624368364668,
          -1.1318037636500977,
          -1.0752189888144763,
          -1.02129706089743,
          -0.9699294487441267,
          -0.9210103064626193,
          -0.8744366055962551,
          -0.8301082377994201,
          -0.7879280911113388,
          -0.7478021027033894,
          -0.7096392907607778,
          -0.6733517679514883,
          -0.6388547387354455,
          -0.6060664825758997,
          -0.5749083249338671,
          -0.5453045977555054,
          -0.5171825910017356,
          -0.49047249661937947,
          -0.4651073462133764,
          -0.441022943550118,
          -0.41815779290225297,
          -0.39645302413510075,
          -0.37585231533363855,
          -0.35630181367645847,
          -0.33775005517858536,
          -0.32014788384819,
          -0.30344837073247155,
          -0.28760673326483943,
          -0.2725802552685591,
          -0.25832820792072403,
          -0.24481177193436623,
          -0.23199396117528368,
          -0.21983954789335763,
          -0.20831498971534623,
          -0.1973883585170641,
          -0.18702927126710733,
          -0.17720882291159068
         ]
        },
        {
         "mode": "markers+lines",
         "name": "Jerk",
         "type": "scatter",
         "x": [
          0,
          0.15,
          0.3,
          0.44999999999999996,
          0.6,
          0.75,
          0.8999999999999999,
          1.05,
          1.2,
          1.3499999999999999,
          1.5,
          1.65,
          1.7999999999999998,
          1.95,
          2.1,
          2.25,
          2.4,
          2.55,
          2.6999999999999997,
          2.85,
          3,
          3.15,
          3.3,
          3.4499999999999997,
          3.5999999999999996,
          3.75,
          3.9,
          4.05,
          4.2,
          4.35,
          4.5,
          4.6499999999999995,
          4.8,
          4.95,
          5.1,
          5.25,
          5.3999999999999995,
          5.55,
          5.7,
          5.85,
          6,
          6.1499999999999995,
          6.3,
          6.45,
          6.6,
          6.75,
          6.8999999999999995,
          7.05,
          7.199999999999999,
          7.35,
          7.5,
          7.6499999999999995,
          7.8,
          7.949999999999999,
          8.1,
          8.25,
          8.4,
          8.549999999999999,
          8.7,
          8.85,
          9,
          9.15,
          9.299999999999999,
          9.45,
          9.6,
          9.75,
          9.9,
          10.049999999999999,
          10.2,
          10.35,
          10.5,
          10.65,
          10.799999999999999,
          10.95,
          11.1,
          11.25,
          11.4,
          11.549999999999999,
          11.7,
          11.85,
          12,
          12.15,
          12.299999999999999,
          12.45,
          12.6,
          12.75,
          12.9,
          13.049999999999999,
          13.2,
          13.35,
          13.5,
          13.65,
          13.799999999999999,
          13.95,
          14.1,
          14.25,
          14.399999999999999,
          14.549999999999999,
          14.7,
          14.85
         ],
         "y": [
          0,
          -0.0026326869730203817,
          -0.010491828893463473,
          -0.023461552938475343,
          -0.0413516552463402,
          -0.06390187451081818,
          -0.09078767461605913,
          -0.12162734713512507,
          -0.1559902057111407,
          -0.1934056156695735,
          -0.2333725846070102,
          -0.2753696334736646,
          -0.3188646725084469,
          -0.36332462143326005,
          -0.4082245372343004,
          -0.4530560439637435,
          -0.4973348953685678,
          -0.5406075407808655,
          -0.582456605600023,
          -0.6225052380129221,
          -0.6604203117105621,
          -0.6959145089336033,
          -0.728747338206748,
          -0.75872516593212,
          -0.7857003602626371,
          -0.8095696593252222,
          -0.8302718841263222,
          -0.8477851197720295,
          -0.8621234875498563,
          -0.8733336256267306,
          -0.881490988346727,
          -0.8866960640975906,
          -0.8890706001631937,
          -0.888753910538451,
          -0.8858993299259599,
          -0.8806708645434937,
          -0.8732400783390262,
          -0.8637832420332558,
          -0.8524787622995827,
          -0.8395048994800631,
          -0.8250377745865077,
          -0.8092496599548116,
          -0.792307542768263,
          -0.774371946668028,
          -0.7555959937275636,
          -0.7361246870685223,
          -0.7160943932167961,
          -0.6956325028152512,
          -0.6748572484040803,
          -0.6538776585371078,
          -0.6327936284185915,
          -0.6116960884268391,
          -0.5906672532566123,
          -0.5697809358919077,
          -0.5491029121559016,
          -0.5286913231278494,
          -0.508597104229784,
          -0.4888644312398956,
          -0.4695311748632221,
          -0.4506293567690226,
          -0.43218560117882965,
          -0.41422157715508146,
          -0.3967544276965187,
          -0.37979718259508105,
          -0.363359152754016,
          -0.3474463043138757,
          -0.332061611488781,
          -0.3172053874870873,
          -0.3028755932860482,
          -0.28906812435691115,
          -0.27577707570266147,
          -0.26299498578254676,
          -0.2507130600624298,
          -0.23892137505422825,
          -0.22760906379708118,
          -0.2167644837926901,
          -0.20637536844229235,
          -0.19642896304717158,
          -0.1869121464322467,
          -0.17781153923636075,
          -0.16911359988629154,
          -0.16080470923664592,
          -0.152871244816798,
          -0.14529964558063688,
          -0.13807646800659706,
          -0.13118843434548152,
          -0.12462247376296887,
          -0.11836575707322221,
          -0.1124057257103625,
          -0.10673011553622332,
          -0.10132697603615386,
          -0.09618468540998544,
          -0.09129196202279863,
          -0.08663787263996833,
          -0.0822118378331845,
          -0.07800363490877589,
          -0.07400339867667735,
          -0.07020162034774695,
          -0.06658914481877581,
          -0.06315716657836583
         ]
        },
        {
         "mode": "markers+lines",
         "name": "Snap",
         "type": "scatter",
         "x": [
          0,
          0.15,
          0.3,
          0.44999999999999996,
          0.6,
          0.75,
          0.8999999999999999,
          1.05,
          1.2,
          1.3499999999999999,
          1.5,
          1.65,
          1.7999999999999998,
          1.95,
          2.1,
          2.25,
          2.4,
          2.55,
          2.6999999999999997,
          2.85,
          3,
          3.15,
          3.3,
          3.4499999999999997,
          3.5999999999999996,
          3.75,
          3.9,
          4.05,
          4.2,
          4.35,
          4.5,
          4.6499999999999995,
          4.8,
          4.95,
          5.1,
          5.25,
          5.3999999999999995,
          5.55,
          5.7,
          5.85,
          6,
          6.1499999999999995,
          6.3,
          6.45,
          6.6,
          6.75,
          6.8999999999999995,
          7.05,
          7.199999999999999,
          7.35,
          7.5,
          7.6499999999999995,
          7.8,
          7.949999999999999,
          8.1,
          8.25,
          8.4,
          8.549999999999999,
          8.7,
          8.85,
          9,
          9.15,
          9.299999999999999,
          9.45,
          9.6,
          9.75,
          9.9,
          10.049999999999999,
          10.2,
          10.35,
          10.5,
          10.65,
          10.799999999999999,
          10.95,
          11.1,
          11.25,
          11.4,
          11.549999999999999,
          11.7,
          11.85,
          12,
          12.15,
          12.299999999999999,
          12.45,
          12.6,
          12.75,
          12.9,
          13.049999999999999,
          13.2,
          13.35,
          13.5,
          13.65,
          13.799999999999999,
          13.95,
          14.1,
          14.25,
          14.399999999999999,
          14.549999999999999,
          14.7,
          14.85
         ],
         "y": [
          0.645536351165981,
          0.6436248612884623,
          0.6379144109354913,
          0.6284765410277483,
          0.6154287803251212,
          0.5989321448121304,
          0.5791877511518186,
          0.5564326522102905,
          0.5309350249309025,
          0.5029888574044763,
          0.47290829230676135,
          0.4410217877740989,
          0.40766625442309906,
          0.3731813190638232,
          0.3379038524461009,
          0.30216288105416317,
          0.2662749825948227,
          0.23054024253527722,
          0.1952388259523319,
          0.16062819609600804,
          0.1269409893647,
          0.09438353659494397,
          0.0631350032648412,
          0.0333471067868702,
          0.00514435773091081,
          -0.021375236388250753,
          -0.04613907130811298,
          -0.06909851913276449,
          -0.09022724319062118,
          -0.10951932123574024,
          -0.12698723964647107,
          -0.14265981601474298,
          -0.15658010133681252,
          -0.16880330627413415,
          -0.1793947889725857,
          -0.18842813498328154,
          -0.19598335314151707,
          -0.2021452050042173,
          -0.20700167974466144,
          -0.2106426213365381,
          -0.21315851046955864,
          -0.2146393999358449,
          -0.21517399919406774,
          -0.21484890142105234,
          -0.21374794454817714,
          -0.21195169649300485,
          -0.2095370539707777,
          -0.20657694383964054,
          -0.20314011583289154,
          -0.19929101569956723,
          -0.1950897281542747,
          -0.19059197957706675,
          -0.18584919105903425,
          -0.18090857312016068,
          -0.17581325419994634,
          -0.17060243581124573,
          -0.16531156803191271,
          -0.15997253977026285,
          -0.15461387896629586,
          -0.14926095857202307,
          -0.14393620478511687,
          -0.13865930458701173,
          -0.13344741015819842,
          -0.12831533821001442,
          -0.12327576268531037,
          -0.11833939964239519,
          -0.11351518345075806,
          -0.10881043369675165,
          -0.10423101242647126,
          -0.09978147154530294,
          -0.0954651903528919,
          -0.09128450332225835,
          -0.0872408183360242,
          -0.08333472567447277,
          -0.07956609811252545,
          -0.07593418252845349,
          -0.07243768345878071,
          -0.06907483905363253,
          -0.06584348989676178,
          -0.06274114115638989,
          -0.059765018528404004,
          -0.05691211842367412,
          -0.054179252837462916,
          -0.05156308932206939,
          -0.04906018646481596,
          -0.04666702525294964,
          -0.04438003668556764,
          -0.042195625970763005,
          -0.04011019362421509,
          -0.038120153763722575,
          -0.0362219498729381,
          -0.03441206828700551,
          -0.03268704963305297,
          -0.031043498439664148,
          -0.029478091111596428,
          -0.027987582449182605,
          -0.02656881087605255,
          -0.025218702524048474,
          -0.023934274310460395,
          -0.022712636129957223
         ]
        }
       ],
       "frames": [],
       "layout": {
        "legend": {
         "title": "Legend Title"
        },
        "margin": {
         "b": 50,
         "l": 50,
         "r": 50,
         "t": 60
        },
        "template": {
         "data": {
          "bar": [
           {
            "error_x": {
             "color": "#2a3f5f"
            },
            "error_y": {
             "color": "#2a3f5f"
            },
            "marker": {
             "line": {
              "color": "#E5ECF6",
              "width": 0.5
             }
            },
            "type": "bar"
           }
          ],
          "barpolar": [
           {
            "marker": {
             "line": {
              "color": "#E5ECF6",
              "width": 0.5
             }
            },
            "type": "barpolar"
           }
          ],
          "carpet": [
           {
            "aaxis": {
             "endlinecolor": "#2a3f5f",
             "gridcolor": "white",
             "linecolor": "white",
             "minorgridcolor": "white",
             "startlinecolor": "#2a3f5f"
            },
            "baxis": {
             "endlinecolor": "#2a3f5f",
             "gridcolor": "white",
             "linecolor": "white",
             "minorgridcolor": "white",
             "startlinecolor": "#2a3f5f"
            },
            "type": "carpet"
           }
          ],
          "choropleth": [
           {
            "colorbar": {
             "outlinewidth": 0,
             "ticks": ""
            },
            "type": "choropleth"
           }
          ],
          "contour": [
           {
            "colorbar": {
             "outlinewidth": 0,
             "ticks": ""
            },
            "colorscale": [
             [
              0,
              "#0d0887"
             ],
             [
              0.1111111111111111,
              "#46039f"
             ],
             [
              0.2222222222222222,
              "#7201a8"
             ],
             [
              0.3333333333333333,
              "#9c179e"
             ],
             [
              0.4444444444444444,
              "#bd3786"
             ],
             [
              0.5555555555555556,
              "#d8576b"
             ],
             [
              0.6666666666666666,
              "#ed7953"
             ],
             [
              0.7777777777777778,
              "#fb9f3a"
             ],
             [
              0.8888888888888888,
              "#fdca26"
             ],
             [
              1,
              "#f0f921"
             ]
            ],
            "type": "contour"
           }
          ],
          "contourcarpet": [
           {
            "colorbar": {
             "outlinewidth": 0,
             "ticks": ""
            },
            "type": "contourcarpet"
           }
          ],
          "heatmap": [
           {
            "colorbar": {
             "outlinewidth": 0,
             "ticks": ""
            },
            "colorscale": [
             [
              0,
              "#0d0887"
             ],
             [
              0.1111111111111111,
              "#46039f"
             ],
             [
              0.2222222222222222,
              "#7201a8"
             ],
             [
              0.3333333333333333,
              "#9c179e"
             ],
             [
              0.4444444444444444,
              "#bd3786"
             ],
             [
              0.5555555555555556,
              "#d8576b"
             ],
             [
              0.6666666666666666,
              "#ed7953"
             ],
             [
              0.7777777777777778,
              "#fb9f3a"
             ],
             [
              0.8888888888888888,
              "#fdca26"
             ],
             [
              1,
              "#f0f921"
             ]
            ],
            "type": "heatmap"
           }
          ],
          "heatmapgl": [
           {
            "colorbar": {
             "outlinewidth": 0,
             "ticks": ""
            },
            "colorscale": [
             [
              0,
              "#0d0887"
             ],
             [
              0.1111111111111111,
              "#46039f"
             ],
             [
              0.2222222222222222,
              "#7201a8"
             ],
             [
              0.3333333333333333,
              "#9c179e"
             ],
             [
              0.4444444444444444,
              "#bd3786"
             ],
             [
              0.5555555555555556,
              "#d8576b"
             ],
             [
              0.6666666666666666,
              "#ed7953"
             ],
             [
              0.7777777777777778,
              "#fb9f3a"
             ],
             [
              0.8888888888888888,
              "#fdca26"
             ],
             [
              1,
              "#f0f921"
             ]
            ],
            "type": "heatmapgl"
           }
          ],
          "histogram": [
           {
            "marker": {
             "colorbar": {
              "outlinewidth": 0,
              "ticks": ""
             }
            },
            "type": "histogram"
           }
          ],
          "histogram2d": [
           {
            "colorbar": {
             "outlinewidth": 0,
             "ticks": ""
            },
            "colorscale": [
             [
              0,
              "#0d0887"
             ],
             [
              0.1111111111111111,
              "#46039f"
             ],
             [
              0.2222222222222222,
              "#7201a8"
             ],
             [
              0.3333333333333333,
              "#9c179e"
             ],
             [
              0.4444444444444444,
              "#bd3786"
             ],
             [
              0.5555555555555556,
              "#d8576b"
             ],
             [
              0.6666666666666666,
              "#ed7953"
             ],
             [
              0.7777777777777778,
              "#fb9f3a"
             ],
             [
              0.8888888888888888,
              "#fdca26"
             ],
             [
              1,
              "#f0f921"
             ]
            ],
            "type": "histogram2d"
           }
          ],
          "histogram2dcontour": [
           {
            "colorbar": {
             "outlinewidth": 0,
             "ticks": ""
            },
            "colorscale": [
             [
              0,
              "#0d0887"
             ],
             [
              0.1111111111111111,
              "#46039f"
             ],
             [
              0.2222222222222222,
              "#7201a8"
             ],
             [
              0.3333333333333333,
              "#9c179e"
             ],
             [
              0.4444444444444444,
              "#bd3786"
             ],
             [
              0.5555555555555556,
              "#d8576b"
             ],
             [
              0.6666666666666666,
              "#ed7953"
             ],
             [
              0.7777777777777778,
              "#fb9f3a"
             ],
             [
              0.8888888888888888,
              "#fdca26"
             ],
             [
              1,
              "#f0f921"
             ]
            ],
            "type": "histogram2dcontour"
           }
          ],
          "mesh3d": [
           {
            "colorbar": {
             "outlinewidth": 0,
             "ticks": ""
            },
            "type": "mesh3d"
           }
          ],
          "parcoords": [
           {
            "line": {
             "colorbar": {
              "outlinewidth": 0,
              "ticks": ""
             }
            },
            "type": "parcoords"
           }
          ],
          "pie": [
           {
            "automargin": true,
            "type": "pie"
           }
          ],
          "scatter": [
           {
            "marker": {
             "colorbar": {
              "outlinewidth": 0,
              "ticks": ""
             }
            },
            "type": "scatter"
           }
          ],
          "scatter3d": [
           {
            "line": {
             "colorbar": {
              "outlinewidth": 0,
              "ticks": ""
             }
            },
            "marker": {
             "colorbar": {
              "outlinewidth": 0,
              "ticks": ""
             }
            },
            "type": "scatter3d"
           }
          ],
          "scattercarpet": [
           {
            "marker": {
             "colorbar": {
              "outlinewidth": 0,
              "ticks": ""
             }
            },
            "type": "scattercarpet"
           }
          ],
          "scattergeo": [
           {
            "marker": {
             "colorbar": {
              "outlinewidth": 0,
              "ticks": ""
             }
            },
            "type": "scattergeo"
           }
          ],
          "scattergl": [
           {
            "marker": {
             "colorbar": {
              "outlinewidth": 0,
              "ticks": ""
             }
            },
            "type": "scattergl"
           }
          ],
          "scattermapbox": [
           {
            "marker": {
             "colorbar": {
              "outlinewidth": 0,
              "ticks": ""
             }
            },
            "type": "scattermapbox"
           }
          ],
          "scatterpolar": [
           {
            "marker": {
             "colorbar": {
              "outlinewidth": 0,
              "ticks": ""
             }
            },
            "type": "scatterpolar"
           }
          ],
          "scatterpolargl": [
           {
            "marker": {
             "colorbar": {
              "outlinewidth": 0,
              "ticks": ""
             }
            },
            "type": "scatterpolargl"
           }
          ],
          "scatterternary": [
           {
            "marker": {
             "colorbar": {
              "outlinewidth": 0,
              "ticks": ""
             }
            },
            "type": "scatterternary"
           }
          ],
          "surface": [
           {
            "colorbar": {
             "outlinewidth": 0,
             "ticks": ""
            },
            "colorscale": [
             [
              0,
              "#0d0887"
             ],
             [
              0.1111111111111111,
              "#46039f"
             ],
             [
              0.2222222222222222,
              "#7201a8"
             ],
             [
              0.3333333333333333,
              "#9c179e"
             ],
             [
              0.4444444444444444,
              "#bd3786"
             ],
             [
              0.5555555555555556,
              "#d8576b"
             ],
             [
              0.6666666666666666,
              "#ed7953"
             ],
             [
              0.7777777777777778,
              "#fb9f3a"
             ],
             [
              0.8888888888888888,
              "#fdca26"
             ],
             [
              1,
              "#f0f921"
             ]
            ],
            "type": "surface"
           }
          ],
          "table": [
           {
            "cells": {
             "fill": {
              "color": "#EBF0F8"
             },
             "line": {
              "color": "white"
             }
            },
            "header": {
             "fill": {
              "color": "#C8D4E3"
             },
             "line": {
              "color": "white"
             }
            },
            "type": "table"
           }
          ]
         },
         "layout": {
          "annotationdefaults": {
           "arrowcolor": "#2a3f5f",
           "arrowhead": 0,
           "arrowwidth": 1
          },
          "autotypenumbers": "strict",
          "coloraxis": {
           "colorbar": {
            "outlinewidth": 0,
            "ticks": ""
           }
          },
          "colorscale": {
           "diverging": [
            [
             0,
             "#8e0152"
            ],
            [
             0.1,
             "#c51b7d"
            ],
            [
             0.2,
             "#de77ae"
            ],
            [
             0.3,
             "#f1b6da"
            ],
            [
             0.4,
             "#fde0ef"
            ],
            [
             0.5,
             "#f7f7f7"
            ],
            [
             0.6,
             "#e6f5d0"
            ],
            [
             0.7,
             "#b8e186"
            ],
            [
             0.8,
             "#7fbc41"
            ],
            [
             0.9,
             "#4d9221"
            ],
            [
             1,
             "#276419"
            ]
           ],
           "sequential": [
            [
             0,
             "#0d0887"
            ],
            [
             0.1111111111111111,
             "#46039f"
            ],
            [
             0.2222222222222222,
             "#7201a8"
            ],
            [
             0.3333333333333333,
             "#9c179e"
            ],
            [
             0.4444444444444444,
             "#bd3786"
            ],
            [
             0.5555555555555556,
             "#d8576b"
            ],
            [
             0.6666666666666666,
             "#ed7953"
            ],
            [
             0.7777777777777778,
             "#fb9f3a"
            ],
            [
             0.8888888888888888,
             "#fdca26"
            ],
            [
             1,
             "#f0f921"
            ]
           ],
           "sequentialminus": [
            [
             0,
             "#0d0887"
            ],
            [
             0.1111111111111111,
             "#46039f"
            ],
            [
             0.2222222222222222,
             "#7201a8"
            ],
            [
             0.3333333333333333,
             "#9c179e"
            ],
            [
             0.4444444444444444,
             "#bd3786"
            ],
            [
             0.5555555555555556,
             "#d8576b"
            ],
            [
             0.6666666666666666,
             "#ed7953"
            ],
            [
             0.7777777777777778,
             "#fb9f3a"
            ],
            [
             0.8888888888888888,
             "#fdca26"
            ],
            [
             1,
             "#f0f921"
            ]
           ]
          },
          "colorway": [
           "#636efa",
           "#EF553B",
           "#00cc96",
           "#ab63fa",
           "#FFA15A",
           "#19d3f3",
           "#FF6692",
           "#B6E880",
           "#FF97FF",
           "#FECB52"
          ],
          "font": {
           "color": "#2a3f5f"
          },
          "geo": {
           "bgcolor": "white",
           "lakecolor": "white",
           "landcolor": "#E5ECF6",
           "showlakes": true,
           "showland": true,
           "subunitcolor": "white"
          },
          "hoverlabel": {
           "align": "left"
          },
          "hovermode": "closest",
          "mapbox": {
           "style": "light"
          },
          "paper_bgcolor": "white",
          "plot_bgcolor": "#E5ECF6",
          "polar": {
           "angularaxis": {
            "gridcolor": "white",
            "linecolor": "white",
            "ticks": ""
           },
           "bgcolor": "#E5ECF6",
           "radialaxis": {
            "gridcolor": "white",
            "linecolor": "white",
            "ticks": ""
           }
          },
          "scene": {
           "xaxis": {
            "backgroundcolor": "#E5ECF6",
            "gridcolor": "white",
            "gridwidth": 2,
            "linecolor": "white",
            "showbackground": true,
            "ticks": "",
            "zerolinecolor": "white"
           },
           "yaxis": {
            "backgroundcolor": "#E5ECF6",
            "gridcolor": "white",
            "gridwidth": 2,
            "linecolor": "white",
            "showbackground": true,
            "ticks": "",
            "zerolinecolor": "white"
           },
           "zaxis": {
            "backgroundcolor": "#E5ECF6",
            "gridcolor": "white",
            "gridwidth": 2,
            "linecolor": "white",
            "showbackground": true,
            "ticks": "",
            "zerolinecolor": "white"
           }
          },
          "shapedefaults": {
           "line": {
            "color": "#2a3f5f"
           }
          },
          "ternary": {
           "aaxis": {
            "gridcolor": "white",
            "linecolor": "white",
            "ticks": ""
           },
           "baxis": {
            "gridcolor": "white",
            "linecolor": "white",
            "ticks": ""
           },
           "bgcolor": "#E5ECF6",
           "caxis": {
            "gridcolor": "white",
            "linecolor": "white",
            "ticks": ""
           }
          },
          "title": {
           "x": 0.05
          },
          "xaxis": {
           "automargin": true,
           "gridcolor": "white",
           "linecolor": "white",
           "ticks": "",
           "title": {
            "standoff": 15
           },
           "zerolinecolor": "white",
           "zerolinewidth": 2
          },
          "yaxis": {
           "automargin": true,
           "gridcolor": "white",
           "linecolor": "white",
           "ticks": "",
           "title": {
            "standoff": 15
           },
           "zerolinecolor": "white",
           "zerolinewidth": 2
          }
         }
        },
        "title": "Velocity Model",
        "xaxis": {
         "title": {
          "text": "Time (second)"
         }
        },
        "yaxis": {
         "title": {
          "text": "(d/dt)^n v per Unit Time"
         }
        }
       }
      },
      "text/html": [
       "<div\n",
       "    class=\"webio-mountpoint\"\n",
       "    data-webio-mountpoint=\"17733350584260745796\"\n",
       ">\n",
       "    <script>\n",
       "    (function(){\n",
       "    // Some integrations (namely, IJulia/Jupyter) use an alternate render pathway than\n",
       "    // just putting the html on the page. If WebIO isn't defined, then it's pretty likely\n",
       "    // that we're in one of those situations and the integration just isn't installed\n",
       "    // correctly.\n",
       "    if (typeof window.WebIO === \"undefined\") {\n",
       "        document\n",
       "            .querySelector('[data-webio-mountpoint=\"17733350584260745796\"]')\n",
       "            .innerHTML = (\n",
       "                '<div style=\"padding: 1em; background-color: #f8d6da; border: 1px solid #f5c6cb; font-weight: bold;\">' +\n",
       "                '<p><strong>WebIO not detected.</strong></p>' +\n",
       "                '<p>Please read ' +\n",
       "                '<a href=\"https://juliagizmos.github.io/WebIO.jl/latest/troubleshooting/not-detected/\" target=\"_blank\">the troubleshooting guide</a> ' +\n",
       "                'for more information on how to resolve this issue.</p>' +\n",
       "                '<p><a href=\"https://juliagizmos.github.io/WebIO.jl/latest/troubleshooting/not-detected/\" target=\"_blank\">https://juliagizmos.github.io/WebIO.jl/latest/troubleshooting/not-detected/</a></p>' +\n",
       "                '</div>'\n",
       "            );\n",
       "        return;\n",
       "    }\n",
       "    WebIO.mount(\n",
       "        document.querySelector('[data-webio-mountpoint=\"17733350584260745796\"]'),\n",
       "        {\"props\":{},\"nodeType\":\"Scope\",\"type\":\"node\",\"instanceArgs\":{\"imports\":{\"data\":[{\"name\":\"Plotly\",\"type\":\"js\",\"url\":\"\\/assetserver\\/f1f31522542ba34e1849be681911375aff952802-plotly.min.js\"},{\"name\":null,\"type\":\"js\",\"url\":\"\\/assetserver\\/124350e26addc0808d4fb3786957e66ae0b75a7e-plotly_webio.bundle.js\"}],\"type\":\"async_block\"},\"id\":\"11701664701831892227\",\"handlers\":{\"_toImage\":[\"(function (options){return this.Plotly.toImage(this.plotElem,options).then((function (data){return WebIO.setval({\\\"name\\\":\\\"image\\\",\\\"scope\\\":\\\"11701664701831892227\\\",\\\"id\\\":\\\"5813421278964297460\\\",\\\"type\\\":\\\"observable\\\"},data)}))})\"],\"__get_gd_contents\":[\"(function (prop){prop==\\\"data\\\" ? (WebIO.setval({\\\"name\\\":\\\"__gd_contents\\\",\\\"scope\\\":\\\"11701664701831892227\\\",\\\"id\\\":\\\"4194059075352982256\\\",\\\"type\\\":\\\"observable\\\"},this.plotElem.data)) : undefined; return prop==\\\"layout\\\" ? (WebIO.setval({\\\"name\\\":\\\"__gd_contents\\\",\\\"scope\\\":\\\"11701664701831892227\\\",\\\"id\\\":\\\"4194059075352982256\\\",\\\"type\\\":\\\"observable\\\"},this.plotElem.layout)) : undefined})\"],\"_downloadImage\":[\"(function (options){return this.Plotly.downloadImage(this.plotElem,options)})\"],\"_commands\":[\"(function (args){var fn=args.shift(); var elem=this.plotElem; var Plotly=this.Plotly; args.unshift(elem); return Plotly[fn].apply(this,args)})\"]},\"systemjs_options\":null,\"mount_callbacks\":[\"function () {\\n    var handler = ((function (Plotly,PlotlyWebIO){PlotlyWebIO.init(WebIO); var gd=this.dom.querySelector(\\\"#plot-3dc7e811-e4b7-487d-96e0-0b9c6a641281\\\"); this.plotElem=gd; this.Plotly=Plotly; (window.Blink!==undefined) ? (gd.style.width=\\\"100%\\\", gd.style.height=\\\"100vh\\\", gd.style.marginLeft=\\\"0%\\\", gd.style.marginTop=\\\"0vh\\\") : undefined; window.onresize=(function (){return Plotly.Plots.resize(gd)}); Plotly.newPlot(gd,[{\\\"mode\\\":\\\"markers+lines\\\",\\\"y\\\":[-0.0,-1.4696369934044147,-2.93709852658733,-4.400222001365922,-5.856870382376402,-7.304944578798362,-8.742395356033516,-10.16723463628391,-11.577546059717076,-12.971494693053733,-14.347335789499724,-15.703422522455,-17.03821263483159,-18.350273965559705,-19.638288834435137,-20.90105728537547,-22.137499205973473,-23.34665535759246,-24.52768736484199,-25.67987672588044,-26.80262291546983,-27.895440660987738,-28.957956477682536,-29.98990455340419,-30.991122074971138,-31.961544088403226,-32.90119798365641,-33.810197691450995,-34.688737675521686,-35.53708679836574,-36.35558213255502,-37.144622783125925,-37.9046637796703,-38.63621008970526,-39.339810797859954,-40.016053488522715,-40.66555886295581,-41.28897561560103,-41.88697558843546,-42.46024921684409,-43.00950127558594,-43.53544692905797,-44.03880808620917,-44.520310057115914,-44.98067850538016,-45.42063668813034,-45.84090297345663,-46.24218862356786,-46.62519583077545,-46.99061599255645,-47.33912821138381,-47.671398004701715,-47.988076210331954,-48.28979807269157,-48.57718249545122,-48.85083144664045,-49.1113295026847,-49.35924351841675,-49.595122410722695,-49.81949704414125,-50.03288020742079,-50.235766670737405,-50.428633313978935,-50.61193931719506,-50.78612640499483,-50.951619137334774,-51.10882523977744,-51.258135966910245,-51.399926493192694,-51.534556326047706,-51.662369736526415,-51.783696203356946,-51.89885086663515,-52.00813498783056,-52.111836413164276,-52.21023003776825,-52.30357826835899,-52.39213148245431,-52.476128482430816,-52.5557969429643,-52.631353850616115,-52.70300593452784,-52.77095008736578,-52.835373775817175,-52.896455440083116,-52.95436488194061,-53.009263641058915,-53.06130535935484,-53.11063613325919,-53.15739485384285,-53.20171353481754,-53.24371762848386,-53.28352632974826,-53.321252868373215,-53.35700478965965,-53.39088422379107,-53.42298814409283,-53.45340861447991,-53.48223302638248,-53.50954432545027],\\\"type\\\":\\\"scatter\\\",\\\"name\\\":\\\"Velocity\\\",\\\"x\\\":[0.0,0.15,0.3,0.44999999999999996,0.6,0.75,0.8999999999999999,1.05,1.2,1.3499999999999999,1.5,1.65,1.7999999999999998,1.95,2.1,2.25,2.4,2.55,2.6999999999999997,2.85,3.0,3.15,3.3,3.4499999999999997,3.5999999999999996,3.75,3.9,4.05,4.2,4.35,4.5,4.6499999999999995,4.8,4.95,5.1,5.25,5.3999999999999995,5.55,5.7,5.85,6.0,6.1499999999999995,6.3,6.45,6.6,6.75,6.8999999999999995,7.05,7.199999999999999,7.35,7.5,7.6499999999999995,7.8,7.949999999999999,8.1,8.25,8.4,8.549999999999999,8.7,8.85,9.0,9.15,9.299999999999999,9.45,9.6,9.75,9.9,10.049999999999999,10.2,10.35,10.5,10.65,10.799999999999999,10.95,11.1,11.25,11.4,11.549999999999999,11.7,11.85,12.0,12.15,12.299999999999999,12.45,12.6,12.75,12.9,13.049999999999999,13.2,13.35,13.5,13.65,13.799999999999999,13.95,14.1,14.25,14.399999999999999,14.549999999999999,14.7,14.85]},{\\\"mode\\\":\\\"markers+lines\\\",\\\"y\\\":[-9.8,-9.792741302350704,-9.771008172840249,-9.734928962317978,-9.684715802255013,-9.620661965043455,-9.543138247496662,-9.45258845354504,-9.349524069583083,-9.23451824046474,-9.108199165392572,-8.971243040670878,-8.824366680404868,-8.668319946780258,-8.503878118731805,-8.331834321901182,-8.152992134181803,-7.968158470307008,-7.778136836357748,-7.583721031264445,-7.385689357867314,-7.184799391367373,-6.98178333849078,-6.777344006790646,-6.57215139054716,-6.366839867953893,-6.162005993880108,-5.958206863592943,-5.755959015463874,-5.555737834868694,-5.357977417170731,-5.16307084476439,-4.971370831533427,-4.783190687606567,-4.598805557821708,-4.418453888681808,-4.2423390806454275,-4.070631285192104,-3.903469309097172,-3.740962591613928,-3.583193223679232,-3.430217981733313,-3.2820703521917576,-3.1387625259598724,-3.000287345582026,-2.8666201906309032,-2.737720789734474,-2.613534950193154,-2.4939961984465118,-2.379027326705406,-2.268541842875317,-2.1624453224683635,-2.0606366625471355,-1.9630092388775726,-1.8694519684072548,-1.779850279946799,-1.6940869965334622,-1.6120431334150958,-1.5335986159263473,-1.4586329217538576,-1.3870256522183937,-1.3186570372536504,-1.2534083787468064,-1.1911624368364668,-1.1318037636500977,-1.0752189888144763,-1.02129706089743,-0.9699294487441267,-0.9210103064626193,-0.8744366055962551,-0.8301082377994201,-0.7879280911113388,-0.7478021027033894,-0.7096392907607778,-0.6733517679514883,-0.6388547387354455,-0.6060664825758997,-0.5749083249338671,-0.5453045977555054,-0.5171825910017356,-0.49047249661937947,-0.4651073462133764,-0.441022943550118,-0.41815779290225297,-0.39645302413510075,-0.37585231533363855,-0.35630181367645847,-0.33775005517858536,-0.32014788384819,-0.30344837073247155,-0.28760673326483943,-0.2725802552685591,-0.25832820792072403,-0.24481177193436623,-0.23199396117528368,-0.21983954789335763,-0.20831498971534623,-0.1973883585170641,-0.18702927126710733,-0.17720882291159068],\\\"type\\\":\\\"scatter\\\",\\\"name\\\":\\\"Acceleration\\\",\\\"x\\\":[0.0,0.15,0.3,0.44999999999999996,0.6,0.75,0.8999999999999999,1.05,1.2,1.3499999999999999,1.5,1.65,1.7999999999999998,1.95,2.1,2.25,2.4,2.55,2.6999999999999997,2.85,3.0,3.15,3.3,3.4499999999999997,3.5999999999999996,3.75,3.9,4.05,4.2,4.35,4.5,4.6499999999999995,4.8,4.95,5.1,5.25,5.3999999999999995,5.55,5.7,5.85,6.0,6.1499999999999995,6.3,6.45,6.6,6.75,6.8999999999999995,7.05,7.199999999999999,7.35,7.5,7.6499999999999995,7.8,7.949999999999999,8.1,8.25,8.4,8.549999999999999,8.7,8.85,9.0,9.15,9.299999999999999,9.45,9.6,9.75,9.9,10.049999999999999,10.2,10.35,10.5,10.65,10.799999999999999,10.95,11.1,11.25,11.4,11.549999999999999,11.7,11.85,12.0,12.15,12.299999999999999,12.45,12.6,12.75,12.9,13.049999999999999,13.2,13.35,13.5,13.65,13.799999999999999,13.95,14.1,14.25,14.399999999999999,14.549999999999999,14.7,14.85]},{\\\"mode\\\":\\\"markers+lines\\\",\\\"y\\\":[-0.0,-0.0026326869730203817,-0.010491828893463473,-0.023461552938475343,-0.0413516552463402,-0.06390187451081818,-0.09078767461605913,-0.12162734713512507,-0.1559902057111407,-0.1934056156695735,-0.2333725846070102,-0.2753696334736646,-0.3188646725084469,-0.36332462143326005,-0.4082245372343004,-0.4530560439637435,-0.4973348953685678,-0.5406075407808655,-0.582456605600023,-0.6225052380129221,-0.6604203117105621,-0.6959145089336033,-0.728747338206748,-0.75872516593212,-0.7857003602626371,-0.8095696593252222,-0.8302718841263222,-0.8477851197720295,-0.8621234875498563,-0.8733336256267306,-0.881490988346727,-0.8866960640975906,-0.8890706001631937,-0.888753910538451,-0.8858993299259599,-0.8806708645434937,-0.8732400783390262,-0.8637832420332558,-0.8524787622995827,-0.8395048994800631,-0.8250377745865077,-0.8092496599548116,-0.792307542768263,-0.774371946668028,-0.7555959937275636,-0.7361246870685223,-0.7160943932167961,-0.6956325028152512,-0.6748572484040803,-0.6538776585371078,-0.6327936284185915,-0.6116960884268391,-0.5906672532566123,-0.5697809358919077,-0.5491029121559016,-0.5286913231278494,-0.508597104229784,-0.4888644312398956,-0.4695311748632221,-0.4506293567690226,-0.43218560117882965,-0.41422157715508146,-0.3967544276965187,-0.37979718259508105,-0.363359152754016,-0.3474463043138757,-0.332061611488781,-0.3172053874870873,-0.3028755932860482,-0.28906812435691115,-0.27577707570266147,-0.26299498578254676,-0.2507130600624298,-0.23892137505422825,-0.22760906379708118,-0.2167644837926901,-0.20637536844229235,-0.19642896304717158,-0.1869121464322467,-0.17781153923636075,-0.16911359988629154,-0.16080470923664592,-0.152871244816798,-0.14529964558063688,-0.13807646800659706,-0.13118843434548152,-0.12462247376296887,-0.11836575707322221,-0.1124057257103625,-0.10673011553622332,-0.10132697603615386,-0.09618468540998544,-0.09129196202279863,-0.08663787263996833,-0.0822118378331845,-0.07800363490877589,-0.07400339867667735,-0.07020162034774695,-0.06658914481877581,-0.06315716657836583],\\\"type\\\":\\\"scatter\\\",\\\"name\\\":\\\"Jerk\\\",\\\"x\\\":[0.0,0.15,0.3,0.44999999999999996,0.6,0.75,0.8999999999999999,1.05,1.2,1.3499999999999999,1.5,1.65,1.7999999999999998,1.95,2.1,2.25,2.4,2.55,2.6999999999999997,2.85,3.0,3.15,3.3,3.4499999999999997,3.5999999999999996,3.75,3.9,4.05,4.2,4.35,4.5,4.6499999999999995,4.8,4.95,5.1,5.25,5.3999999999999995,5.55,5.7,5.85,6.0,6.1499999999999995,6.3,6.45,6.6,6.75,6.8999999999999995,7.05,7.199999999999999,7.35,7.5,7.6499999999999995,7.8,7.949999999999999,8.1,8.25,8.4,8.549999999999999,8.7,8.85,9.0,9.15,9.299999999999999,9.45,9.6,9.75,9.9,10.049999999999999,10.2,10.35,10.5,10.65,10.799999999999999,10.95,11.1,11.25,11.4,11.549999999999999,11.7,11.85,12.0,12.15,12.299999999999999,12.45,12.6,12.75,12.9,13.049999999999999,13.2,13.35,13.5,13.65,13.799999999999999,13.95,14.1,14.25,14.399999999999999,14.549999999999999,14.7,14.85]},{\\\"mode\\\":\\\"markers+lines\\\",\\\"y\\\":[0.645536351165981,0.6436248612884623,0.6379144109354913,0.6284765410277483,0.6154287803251212,0.5989321448121304,0.5791877511518186,0.5564326522102905,0.5309350249309025,0.5029888574044763,0.47290829230676135,0.4410217877740989,0.40766625442309906,0.3731813190638232,0.3379038524461009,0.30216288105416317,0.2662749825948227,0.23054024253527722,0.1952388259523319,0.16062819609600804,0.1269409893647,0.09438353659494397,0.0631350032648412,0.0333471067868702,0.00514435773091081,-0.021375236388250753,-0.04613907130811298,-0.06909851913276449,-0.09022724319062118,-0.10951932123574024,-0.12698723964647107,-0.14265981601474298,-0.15658010133681252,-0.16880330627413415,-0.1793947889725857,-0.18842813498328154,-0.19598335314151707,-0.2021452050042173,-0.20700167974466144,-0.2106426213365381,-0.21315851046955864,-0.2146393999358449,-0.21517399919406774,-0.21484890142105234,-0.21374794454817714,-0.21195169649300485,-0.2095370539707777,-0.20657694383964054,-0.20314011583289154,-0.19929101569956723,-0.1950897281542747,-0.19059197957706675,-0.18584919105903425,-0.18090857312016068,-0.17581325419994634,-0.17060243581124573,-0.16531156803191271,-0.15997253977026285,-0.15461387896629586,-0.14926095857202307,-0.14393620478511687,-0.13865930458701173,-0.13344741015819842,-0.12831533821001442,-0.12327576268531037,-0.11833939964239519,-0.11351518345075806,-0.10881043369675165,-0.10423101242647126,-0.09978147154530294,-0.0954651903528919,-0.09128450332225835,-0.0872408183360242,-0.08333472567447277,-0.07956609811252545,-0.07593418252845349,-0.07243768345878071,-0.06907483905363253,-0.06584348989676178,-0.06274114115638989,-0.059765018528404004,-0.05691211842367412,-0.054179252837462916,-0.05156308932206939,-0.04906018646481596,-0.04666702525294964,-0.04438003668556764,-0.042195625970763005,-0.04011019362421509,-0.038120153763722575,-0.0362219498729381,-0.03441206828700551,-0.03268704963305297,-0.031043498439664148,-0.029478091111596428,-0.027987582449182605,-0.02656881087605255,-0.025218702524048474,-0.023934274310460395,-0.022712636129957223],\\\"type\\\":\\\"scatter\\\",\\\"name\\\":\\\"Snap\\\",\\\"x\\\":[0.0,0.15,0.3,0.44999999999999996,0.6,0.75,0.8999999999999999,1.05,1.2,1.3499999999999999,1.5,1.65,1.7999999999999998,1.95,2.1,2.25,2.4,2.55,2.6999999999999997,2.85,3.0,3.15,3.3,3.4499999999999997,3.5999999999999996,3.75,3.9,4.05,4.2,4.35,4.5,4.6499999999999995,4.8,4.95,5.1,5.25,5.3999999999999995,5.55,5.7,5.85,6.0,6.1499999999999995,6.3,6.45,6.6,6.75,6.8999999999999995,7.05,7.199999999999999,7.35,7.5,7.6499999999999995,7.8,7.949999999999999,8.1,8.25,8.4,8.549999999999999,8.7,8.85,9.0,9.15,9.299999999999999,9.45,9.6,9.75,9.9,10.049999999999999,10.2,10.35,10.5,10.65,10.799999999999999,10.95,11.1,11.25,11.4,11.549999999999999,11.7,11.85,12.0,12.15,12.299999999999999,12.45,12.6,12.75,12.9,13.049999999999999,13.2,13.35,13.5,13.65,13.799999999999999,13.95,14.1,14.25,14.399999999999999,14.549999999999999,14.7,14.85]}],{\\\"xaxis\\\":{\\\"title\\\":{\\\"text\\\":\\\"Time (second)\\\"}},\\\"template\\\":{\\\"layout\\\":{\\\"coloraxis\\\":{\\\"colorbar\\\":{\\\"ticks\\\":\\\"\\\",\\\"outlinewidth\\\":0}},\\\"xaxis\\\":{\\\"gridcolor\\\":\\\"white\\\",\\\"zerolinewidth\\\":2,\\\"title\\\":{\\\"standoff\\\":15},\\\"ticks\\\":\\\"\\\",\\\"zerolinecolor\\\":\\\"white\\\",\\\"automargin\\\":true,\\\"linecolor\\\":\\\"white\\\"},\\\"hovermode\\\":\\\"closest\\\",\\\"paper_bgcolor\\\":\\\"white\\\",\\\"geo\\\":{\\\"showlakes\\\":true,\\\"showland\\\":true,\\\"landcolor\\\":\\\"#E5ECF6\\\",\\\"bgcolor\\\":\\\"white\\\",\\\"subunitcolor\\\":\\\"white\\\",\\\"lakecolor\\\":\\\"white\\\"},\\\"colorscale\\\":{\\\"sequential\\\":[[0.0,\\\"#0d0887\\\"],[0.1111111111111111,\\\"#46039f\\\"],[0.2222222222222222,\\\"#7201a8\\\"],[0.3333333333333333,\\\"#9c179e\\\"],[0.4444444444444444,\\\"#bd3786\\\"],[0.5555555555555556,\\\"#d8576b\\\"],[0.6666666666666666,\\\"#ed7953\\\"],[0.7777777777777778,\\\"#fb9f3a\\\"],[0.8888888888888888,\\\"#fdca26\\\"],[1.0,\\\"#f0f921\\\"]],\\\"diverging\\\":[[0,\\\"#8e0152\\\"],[0.1,\\\"#c51b7d\\\"],[0.2,\\\"#de77ae\\\"],[0.3,\\\"#f1b6da\\\"],[0.4,\\\"#fde0ef\\\"],[0.5,\\\"#f7f7f7\\\"],[0.6,\\\"#e6f5d0\\\"],[0.7,\\\"#b8e186\\\"],[0.8,\\\"#7fbc41\\\"],[0.9,\\\"#4d9221\\\"],[1,\\\"#276419\\\"]],\\\"sequentialminus\\\":[[0.0,\\\"#0d0887\\\"],[0.1111111111111111,\\\"#46039f\\\"],[0.2222222222222222,\\\"#7201a8\\\"],[0.3333333333333333,\\\"#9c179e\\\"],[0.4444444444444444,\\\"#bd3786\\\"],[0.5555555555555556,\\\"#d8576b\\\"],[0.6666666666666666,\\\"#ed7953\\\"],[0.7777777777777778,\\\"#fb9f3a\\\"],[0.8888888888888888,\\\"#fdca26\\\"],[1.0,\\\"#f0f921\\\"]]},\\\"yaxis\\\":{\\\"gridcolor\\\":\\\"white\\\",\\\"zerolinewidth\\\":2,\\\"title\\\":{\\\"standoff\\\":15},\\\"ticks\\\":\\\"\\\",\\\"zerolinecolor\\\":\\\"white\\\",\\\"automargin\\\":true,\\\"linecolor\\\":\\\"white\\\"},\\\"shapedefaults\\\":{\\\"line\\\":{\\\"color\\\":\\\"#2a3f5f\\\"}},\\\"hoverlabel\\\":{\\\"align\\\":\\\"left\\\"},\\\"mapbox\\\":{\\\"style\\\":\\\"light\\\"},\\\"polar\\\":{\\\"angularaxis\\\":{\\\"gridcolor\\\":\\\"white\\\",\\\"ticks\\\":\\\"\\\",\\\"linecolor\\\":\\\"white\\\"},\\\"bgcolor\\\":\\\"#E5ECF6\\\",\\\"radialaxis\\\":{\\\"gridcolor\\\":\\\"white\\\",\\\"ticks\\\":\\\"\\\",\\\"linecolor\\\":\\\"white\\\"}},\\\"autotypenumbers\\\":\\\"strict\\\",\\\"font\\\":{\\\"color\\\":\\\"#2a3f5f\\\"},\\\"ternary\\\":{\\\"baxis\\\":{\\\"gridcolor\\\":\\\"white\\\",\\\"ticks\\\":\\\"\\\",\\\"linecolor\\\":\\\"white\\\"},\\\"bgcolor\\\":\\\"#E5ECF6\\\",\\\"caxis\\\":{\\\"gridcolor\\\":\\\"white\\\",\\\"ticks\\\":\\\"\\\",\\\"linecolor\\\":\\\"white\\\"},\\\"aaxis\\\":{\\\"gridcolor\\\":\\\"white\\\",\\\"ticks\\\":\\\"\\\",\\\"linecolor\\\":\\\"white\\\"}},\\\"annotationdefaults\\\":{\\\"arrowhead\\\":0,\\\"arrowwidth\\\":1,\\\"arrowcolor\\\":\\\"#2a3f5f\\\"},\\\"plot_bgcolor\\\":\\\"#E5ECF6\\\",\\\"title\\\":{\\\"x\\\":0.05},\\\"scene\\\":{\\\"xaxis\\\":{\\\"gridcolor\\\":\\\"white\\\",\\\"gridwidth\\\":2,\\\"backgroundcolor\\\":\\\"#E5ECF6\\\",\\\"ticks\\\":\\\"\\\",\\\"showbackground\\\":true,\\\"zerolinecolor\\\":\\\"white\\\",\\\"linecolor\\\":\\\"white\\\"},\\\"zaxis\\\":{\\\"gridcolor\\\":\\\"white\\\",\\\"gridwidth\\\":2,\\\"backgroundcolor\\\":\\\"#E5ECF6\\\",\\\"ticks\\\":\\\"\\\",\\\"showbackground\\\":true,\\\"zerolinecolor\\\":\\\"white\\\",\\\"linecolor\\\":\\\"white\\\"},\\\"yaxis\\\":{\\\"gridcolor\\\":\\\"white\\\",\\\"gridwidth\\\":2,\\\"backgroundcolor\\\":\\\"#E5ECF6\\\",\\\"ticks\\\":\\\"\\\",\\\"showbackground\\\":true,\\\"zerolinecolor\\\":\\\"white\\\",\\\"linecolor\\\":\\\"white\\\"}},\\\"colorway\\\":[\\\"#636efa\\\",\\\"#EF553B\\\",\\\"#00cc96\\\",\\\"#ab63fa\\\",\\\"#FFA15A\\\",\\\"#19d3f3\\\",\\\"#FF6692\\\",\\\"#B6E880\\\",\\\"#FF97FF\\\",\\\"#FECB52\\\"]},\\\"data\\\":{\\\"barpolar\\\":[{\\\"type\\\":\\\"barpolar\\\",\\\"marker\\\":{\\\"line\\\":{\\\"color\\\":\\\"#E5ECF6\\\",\\\"width\\\":0.5}}}],\\\"carpet\\\":[{\\\"aaxis\\\":{\\\"gridcolor\\\":\\\"white\\\",\\\"endlinecolor\\\":\\\"#2a3f5f\\\",\\\"minorgridcolor\\\":\\\"white\\\",\\\"startlinecolor\\\":\\\"#2a3f5f\\\",\\\"linecolor\\\":\\\"white\\\"},\\\"type\\\":\\\"carpet\\\",\\\"baxis\\\":{\\\"gridcolor\\\":\\\"white\\\",\\\"endlinecolor\\\":\\\"#2a3f5f\\\",\\\"minorgridcolor\\\":\\\"white\\\",\\\"startlinecolor\\\":\\\"#2a3f5f\\\",\\\"linecolor\\\":\\\"white\\\"}}],\\\"scatterpolar\\\":[{\\\"type\\\":\\\"scatterpolar\\\",\\\"marker\\\":{\\\"colorbar\\\":{\\\"ticks\\\":\\\"\\\",\\\"outlinewidth\\\":0}}}],\\\"parcoords\\\":[{\\\"line\\\":{\\\"colorbar\\\":{\\\"ticks\\\":\\\"\\\",\\\"outlinewidth\\\":0}},\\\"type\\\":\\\"parcoords\\\"}],\\\"scatter\\\":[{\\\"type\\\":\\\"scatter\\\",\\\"marker\\\":{\\\"colorbar\\\":{\\\"ticks\\\":\\\"\\\",\\\"outlinewidth\\\":0}}}],\\\"histogram2dcontour\\\":[{\\\"colorbar\\\":{\\\"ticks\\\":\\\"\\\",\\\"outlinewidth\\\":0},\\\"type\\\":\\\"histogram2dcontour\\\",\\\"colorscale\\\":[[0.0,\\\"#0d0887\\\"],[0.1111111111111111,\\\"#46039f\\\"],[0.2222222222222222,\\\"#7201a8\\\"],[0.3333333333333333,\\\"#9c179e\\\"],[0.4444444444444444,\\\"#bd3786\\\"],[0.5555555555555556,\\\"#d8576b\\\"],[0.6666666666666666,\\\"#ed7953\\\"],[0.7777777777777778,\\\"#fb9f3a\\\"],[0.8888888888888888,\\\"#fdca26\\\"],[1.0,\\\"#f0f921\\\"]]}],\\\"contour\\\":[{\\\"colorbar\\\":{\\\"ticks\\\":\\\"\\\",\\\"outlinewidth\\\":0},\\\"type\\\":\\\"contour\\\",\\\"colorscale\\\":[[0.0,\\\"#0d0887\\\"],[0.1111111111111111,\\\"#46039f\\\"],[0.2222222222222222,\\\"#7201a8\\\"],[0.3333333333333333,\\\"#9c179e\\\"],[0.4444444444444444,\\\"#bd3786\\\"],[0.5555555555555556,\\\"#d8576b\\\"],[0.6666666666666666,\\\"#ed7953\\\"],[0.7777777777777778,\\\"#fb9f3a\\\"],[0.8888888888888888,\\\"#fdca26\\\"],[1.0,\\\"#f0f921\\\"]]}],\\\"scattercarpet\\\":[{\\\"type\\\":\\\"scattercarpet\\\",\\\"marker\\\":{\\\"colorbar\\\":{\\\"ticks\\\":\\\"\\\",\\\"outlinewidth\\\":0}}}],\\\"mesh3d\\\":[{\\\"colorbar\\\":{\\\"ticks\\\":\\\"\\\",\\\"outlinewidth\\\":0},\\\"type\\\":\\\"mesh3d\\\"}],\\\"surface\\\":[{\\\"colorbar\\\":{\\\"ticks\\\":\\\"\\\",\\\"outlinewidth\\\":0},\\\"type\\\":\\\"surface\\\",\\\"colorscale\\\":[[0.0,\\\"#0d0887\\\"],[0.1111111111111111,\\\"#46039f\\\"],[0.2222222222222222,\\\"#7201a8\\\"],[0.3333333333333333,\\\"#9c179e\\\"],[0.4444444444444444,\\\"#bd3786\\\"],[0.5555555555555556,\\\"#d8576b\\\"],[0.6666666666666666,\\\"#ed7953\\\"],[0.7777777777777778,\\\"#fb9f3a\\\"],[0.8888888888888888,\\\"#fdca26\\\"],[1.0,\\\"#f0f921\\\"]]}],\\\"scattermapbox\\\":[{\\\"type\\\":\\\"scattermapbox\\\",\\\"marker\\\":{\\\"colorbar\\\":{\\\"ticks\\\":\\\"\\\",\\\"outlinewidth\\\":0}}}],\\\"scattergeo\\\":[{\\\"type\\\":\\\"scattergeo\\\",\\\"marker\\\":{\\\"colorbar\\\":{\\\"ticks\\\":\\\"\\\",\\\"outlinewidth\\\":0}}}],\\\"histogram\\\":[{\\\"type\\\":\\\"histogram\\\",\\\"marker\\\":{\\\"colorbar\\\":{\\\"ticks\\\":\\\"\\\",\\\"outlinewidth\\\":0}}}],\\\"pie\\\":[{\\\"type\\\":\\\"pie\\\",\\\"automargin\\\":true}],\\\"choropleth\\\":[{\\\"colorbar\\\":{\\\"ticks\\\":\\\"\\\",\\\"outlinewidth\\\":0},\\\"type\\\":\\\"choropleth\\\"}],\\\"heatmapgl\\\":[{\\\"colorbar\\\":{\\\"ticks\\\":\\\"\\\",\\\"outlinewidth\\\":0},\\\"type\\\":\\\"heatmapgl\\\",\\\"colorscale\\\":[[0.0,\\\"#0d0887\\\"],[0.1111111111111111,\\\"#46039f\\\"],[0.2222222222222222,\\\"#7201a8\\\"],[0.3333333333333333,\\\"#9c179e\\\"],[0.4444444444444444,\\\"#bd3786\\\"],[0.5555555555555556,\\\"#d8576b\\\"],[0.6666666666666666,\\\"#ed7953\\\"],[0.7777777777777778,\\\"#fb9f3a\\\"],[0.8888888888888888,\\\"#fdca26\\\"],[1.0,\\\"#f0f921\\\"]]}],\\\"bar\\\":[{\\\"type\\\":\\\"bar\\\",\\\"error_y\\\":{\\\"color\\\":\\\"#2a3f5f\\\"},\\\"error_x\\\":{\\\"color\\\":\\\"#2a3f5f\\\"},\\\"marker\\\":{\\\"line\\\":{\\\"color\\\":\\\"#E5ECF6\\\",\\\"width\\\":0.5}}}],\\\"heatmap\\\":[{\\\"colorbar\\\":{\\\"ticks\\\":\\\"\\\",\\\"outlinewidth\\\":0},\\\"type\\\":\\\"heatmap\\\",\\\"colorscale\\\":[[0.0,\\\"#0d0887\\\"],[0.1111111111111111,\\\"#46039f\\\"],[0.2222222222222222,\\\"#7201a8\\\"],[0.3333333333333333,\\\"#9c179e\\\"],[0.4444444444444444,\\\"#bd3786\\\"],[0.5555555555555556,\\\"#d8576b\\\"],[0.6666666666666666,\\\"#ed7953\\\"],[0.7777777777777778,\\\"#fb9f3a\\\"],[0.8888888888888888,\\\"#fdca26\\\"],[1.0,\\\"#f0f921\\\"]]}],\\\"contourcarpet\\\":[{\\\"colorbar\\\":{\\\"ticks\\\":\\\"\\\",\\\"outlinewidth\\\":0},\\\"type\\\":\\\"contourcarpet\\\"}],\\\"table\\\":[{\\\"type\\\":\\\"table\\\",\\\"header\\\":{\\\"line\\\":{\\\"color\\\":\\\"white\\\"},\\\"fill\\\":{\\\"color\\\":\\\"#C8D4E3\\\"}},\\\"cells\\\":{\\\"line\\\":{\\\"color\\\":\\\"white\\\"},\\\"fill\\\":{\\\"color\\\":\\\"#EBF0F8\\\"}}}],\\\"scatter3d\\\":[{\\\"line\\\":{\\\"colorbar\\\":{\\\"ticks\\\":\\\"\\\",\\\"outlinewidth\\\":0}},\\\"type\\\":\\\"scatter3d\\\",\\\"marker\\\":{\\\"colorbar\\\":{\\\"ticks\\\":\\\"\\\",\\\"outlinewidth\\\":0}}}],\\\"scattergl\\\":[{\\\"type\\\":\\\"scattergl\\\",\\\"marker\\\":{\\\"colorbar\\\":{\\\"ticks\\\":\\\"\\\",\\\"outlinewidth\\\":0}}}],\\\"histogram2d\\\":[{\\\"colorbar\\\":{\\\"ticks\\\":\\\"\\\",\\\"outlinewidth\\\":0},\\\"type\\\":\\\"histogram2d\\\",\\\"colorscale\\\":[[0.0,\\\"#0d0887\\\"],[0.1111111111111111,\\\"#46039f\\\"],[0.2222222222222222,\\\"#7201a8\\\"],[0.3333333333333333,\\\"#9c179e\\\"],[0.4444444444444444,\\\"#bd3786\\\"],[0.5555555555555556,\\\"#d8576b\\\"],[0.6666666666666666,\\\"#ed7953\\\"],[0.7777777777777778,\\\"#fb9f3a\\\"],[0.8888888888888888,\\\"#fdca26\\\"],[1.0,\\\"#f0f921\\\"]]}],\\\"scatterternary\\\":[{\\\"type\\\":\\\"scatterternary\\\",\\\"marker\\\":{\\\"colorbar\\\":{\\\"ticks\\\":\\\"\\\",\\\"outlinewidth\\\":0}}}],\\\"scatterpolargl\\\":[{\\\"type\\\":\\\"scatterpolargl\\\",\\\"marker\\\":{\\\"colorbar\\\":{\\\"ticks\\\":\\\"\\\",\\\"outlinewidth\\\":0}}}]}},\\\"legend\\\":{\\\"title\\\":\\\"Legend Title\\\"},\\\"margin\\\":{\\\"l\\\":50,\\\"b\\\":50,\\\"r\\\":50,\\\"t\\\":60},\\\"title\\\":\\\"Velocity Model\\\",\\\"yaxis\\\":{\\\"title\\\":{\\\"text\\\":\\\"(d\\/dt)^n v per Unit Time\\\"}}},{\\\"showLink\\\":false,\\\"editable\\\":false,\\\"responsive\\\":true,\\\"staticPlot\\\":false,\\\"scrollZoom\\\":true}); gd.on(\\\"plotly_hover\\\",(function (data){var filtered_data=WebIO.PlotlyCommands.filterEventData(gd,data,\\\"hover\\\"); return !(filtered_data.isnil) ? (WebIO.setval({\\\"name\\\":\\\"hover\\\",\\\"scope\\\":\\\"11701664701831892227\\\",\\\"id\\\":\\\"426688162989481740\\\",\\\"type\\\":\\\"observable\\\"},filtered_data.out)) : undefined})); gd.on(\\\"plotly_unhover\\\",(function (){return WebIO.setval({\\\"name\\\":\\\"hover\\\",\\\"scope\\\":\\\"11701664701831892227\\\",\\\"id\\\":\\\"426688162989481740\\\",\\\"type\\\":\\\"observable\\\"},{})})); gd.on(\\\"plotly_selected\\\",(function (data){var filtered_data=WebIO.PlotlyCommands.filterEventData(gd,data,\\\"selected\\\"); return !(filtered_data.isnil) ? (WebIO.setval({\\\"name\\\":\\\"selected\\\",\\\"scope\\\":\\\"11701664701831892227\\\",\\\"id\\\":\\\"13688177670908457669\\\",\\\"type\\\":\\\"observable\\\"},filtered_data.out)) : undefined})); gd.on(\\\"plotly_deselect\\\",(function (){return WebIO.setval({\\\"name\\\":\\\"selected\\\",\\\"scope\\\":\\\"11701664701831892227\\\",\\\"id\\\":\\\"13688177670908457669\\\",\\\"type\\\":\\\"observable\\\"},{})})); gd.on(\\\"plotly_relayout\\\",(function (data){var filtered_data=WebIO.PlotlyCommands.filterEventData(gd,data,\\\"relayout\\\"); return !(filtered_data.isnil) ? (WebIO.setval({\\\"name\\\":\\\"relayout\\\",\\\"scope\\\":\\\"11701664701831892227\\\",\\\"id\\\":\\\"8459690486134739597\\\",\\\"type\\\":\\\"observable\\\"},filtered_data.out)) : undefined})); return gd.on(\\\"plotly_click\\\",(function (data){var filtered_data=WebIO.PlotlyCommands.filterEventData(gd,data,\\\"click\\\"); return !(filtered_data.isnil) ? (WebIO.setval({\\\"name\\\":\\\"click\\\",\\\"scope\\\":\\\"11701664701831892227\\\",\\\"id\\\":\\\"17535668554663772150\\\",\\\"type\\\":\\\"observable\\\"},filtered_data.out)) : undefined}))}));\\n    (WebIO.importBlock({\\\"data\\\":[{\\\"name\\\":\\\"Plotly\\\",\\\"type\\\":\\\"js\\\",\\\"url\\\":\\\"\\/assetserver\\/f1f31522542ba34e1849be681911375aff952802-plotly.min.js\\\"},{\\\"name\\\":null,\\\"type\\\":\\\"js\\\",\\\"url\\\":\\\"\\/assetserver\\/124350e26addc0808d4fb3786957e66ae0b75a7e-plotly_webio.bundle.js\\\"}],\\\"type\\\":\\\"async_block\\\"})).then((imports) => handler.apply(this, imports));\\n}\\n\"],\"observables\":{\"_toImage\":{\"sync\":false,\"id\":\"15245381396238651524\",\"value\":{}},\"hover\":{\"sync\":false,\"id\":\"426688162989481740\",\"value\":{}},\"selected\":{\"sync\":false,\"id\":\"13688177670908457669\",\"value\":{}},\"__gd_contents\":{\"sync\":false,\"id\":\"4194059075352982256\",\"value\":{}},\"click\":{\"sync\":false,\"id\":\"17535668554663772150\",\"value\":{}},\"image\":{\"sync\":true,\"id\":\"5813421278964297460\",\"value\":\"\"},\"__get_gd_contents\":{\"sync\":false,\"id\":\"12775068390005322290\",\"value\":\"\"},\"_downloadImage\":{\"sync\":false,\"id\":\"3159851454168463112\",\"value\":{}},\"relayout\":{\"sync\":false,\"id\":\"8459690486134739597\",\"value\":{}},\"_commands\":{\"sync\":false,\"id\":\"13811645113003933241\",\"value\":[]}}},\"children\":[{\"props\":{\"id\":\"plot-3dc7e811-e4b7-487d-96e0-0b9c6a641281\"},\"nodeType\":\"DOM\",\"type\":\"node\",\"instanceArgs\":{\"namespace\":\"html\",\"tag\":\"div\"},\"children\":[]}]},\n",
       "        window,\n",
       "    );\n",
       "    })()\n",
       "    </script>\n",
       "</div>\n"
      ],
      "text/plain": [
       "data: [\n",
       "  \"scatter with fields mode, name, type, x, and y\",\n",
       "  \"scatter with fields mode, name, type, x, and y\",\n",
       "  \"scatter with fields mode, name, type, x, and y\",\n",
       "  \"scatter with fields mode, name, type, x, and y\"\n",
       "]\n",
       "\n",
       "layout: \"layout with fields legend, margin, template, title, xaxis, and yaxis\"\n",
       "\n"
      ]
     },
     "execution_count": 4,
     "metadata": {},
     "output_type": "execute_result"
    }
   ],
   "source": [
    "plot(\n",
    "    [\n",
    "        # Velocity\n",
    "        scatter(\n",
    "            mode=\"markers+lines\",\n",
    "            x=time_axis_sec,\n",
    "            y=[v_inf * tanh(accel_ms2 * t / v_inf) for t in time_axis_sec],\n",
    "            name=\"Velocity\"\n",
    "        ),\n",
    "        # Acceleration\n",
    "        scatter(\n",
    "            mode=\"markers+lines\",\n",
    "            x=time_axis_sec,\n",
    "            y=[accel_ms2 * sech(accel_ms2 * t / v_inf)^2 for t in time_axis_sec],\n",
    "            name=\"Acceleration\"\n",
    "        ),\n",
    "        # Jerk\n",
    "        scatter(\n",
    "            mode=\"markers+lines\",\n",
    "            x=time_axis_sec,\n",
    "            y=[-2 * accel_ms2^2 / v_inf * tanh(accel_ms2 * t / v_inf)^2 * sech(accel_ms2 * t / v_inf)^2 for t in time_axis_sec],\n",
    "            name=\"Jerk\"\n",
    "        ),\n",
    "        # Snap\n",
    "        scatter(\n",
    "            mode=\"markers+lines\",\n",
    "            x=time_axis_sec,\n",
    "            y=[2 * accel_ms2^3 / v_inf^2 * (cosh(2 * accel_ms2 * t / v_inf) - 2) * sech(accel_ms2 * t / v_inf)^4 for t in time_axis_sec],\n",
    "            name=\"Snap\"\n",
    "        ),\n",
    "    ],\n",
    "    Layout(\n",
    "        title=\"Velocity Model\",\n",
    "        xaxis_title=\"Time (second)\",\n",
    "        yaxis_title=\"(d/dt)^n v per Unit Time\",\n",
    "        legend_title=\"Legend Title\",\n",
    "    ),\n",
    "    config=PlotConfig(scrollZoom=true)\n",
    ")"
   ]
  },
  {
   "cell_type": "markdown",
   "id": "abc23098",
   "metadata": {},
   "source": [
    "For this example, we will truncate the series up to the `j` jerk term."
   ]
  },
  {
   "cell_type": "markdown",
   "id": "8268cc8c",
   "metadata": {},
   "source": [
    "What we need now is a mapping between temperature and altitude.\n",
    "I will use the data from https://www.engineeringtoolbox.com/air-altitude-temperature-d_461.html and linearize the temperature model. For the terminal velocity, I make-up a weak, linear relationship between temperature and terminal velocity."
   ]
  },
  {
   "cell_type": "code",
   "execution_count": 5,
   "id": "6bcd037e",
   "metadata": {},
   "outputs": [],
   "source": [
    "\"\"\"\n",
    "    get_velocity_infinity_ms(temperature_K)\n",
    "\n",
    "Get the velocity using a linear temperature model. The return values are between ~46 and ~54 meters / sec for most terrestial temperatures\n",
    "\n",
    "# Arguments\n",
    "- `temperature_K::Number`: The temperature in Kelvin\n",
    "\n",
    "# Returns\n",
    "`Float64` of the estimated terminal velocity in meters / second\n",
    "\"\"\"\n",
    "function get_velocity_infinity_ms(\n",
    "        temperature_K::Number\n",
    "    )::Float64\n",
    "    return -0.1481 * temperature_K + 94.44\n",
    "end\n",
    "\n",
    "\"\"\"\n",
    "    get_temperature_K(altitude_m[, vary_slope_by, vary_intercept_by])\n",
    "\n",
    "Get the temperature given an atltitude above the Earth's surface which can be varied with the last two optional parameters\n",
    "\n",
    "# Arguments\n",
    "- `altitude_m::Number`: The altitude above Earth in meters\n",
    "\n",
    "# Optional Arguments\n",
    "- `vary_slope_by::Number`: Positive definite constant to vary the slope of temperature changes\n",
    "- `vary_intercept_by::Number`: Positive definite constant to vary the intercept of temperature changes\n",
    "\n",
    "# Returns\n",
    "`Float64` of the estimated temperature Kelvin\n",
    "\"\"\"\n",
    "function get_temperature_K(\n",
    "        altitude_m::Number, \n",
    "        vary_slope_by::Number=0.0, \n",
    "        vary_intercept_by::Number=0.0\n",
    "    )::Float64\n",
    "    slope = -0.006_835 # Kelvin / meter\n",
    "    intercept = 288.706 # Kelvin\n",
    "    if vary_slope_by > 0\n",
    "        slope *= vary_slope_by\n",
    "    end\n",
    "    if vary_intercept_by > 0\n",
    "        intercept *= vary_intercept_by\n",
    "    end\n",
    "    temerature = slope * altitude_m + intercept\n",
    "    return temerature\n",
    "end;"
   ]
  },
  {
   "cell_type": "markdown",
   "id": "a229214d",
   "metadata": {},
   "source": [
    "Let's plot these two models"
   ]
  },
  {
   "cell_type": "code",
   "execution_count": 6,
   "id": "bf3229d5",
   "metadata": {},
   "outputs": [
    {
     "data": {
      "application/vnd.plotly.v1+json": {
       "config": {
        "editable": false,
        "responsive": true,
        "scrollZoom": true,
        "showLink": false,
        "staticPlot": false
       },
       "data": [
        {
         "mode": "markers+lines",
         "type": "scatter",
         "x": [
          273,
          274,
          275,
          276,
          277,
          278,
          279,
          280,
          281,
          282,
          283,
          284,
          285,
          286,
          287,
          288,
          289,
          290,
          291,
          292,
          293,
          294,
          295,
          296,
          297,
          298,
          299,
          300
         ],
         "y": [
          54.0087,
          53.8606,
          53.7125,
          53.56439999999999,
          53.41629999999999,
          53.26819999999999,
          53.120099999999994,
          52.971999999999994,
          52.823899999999995,
          52.675799999999995,
          52.527699999999996,
          52.379599999999996,
          52.2315,
          52.0834,
          51.9353,
          51.7872,
          51.63909999999999,
          51.49099999999999,
          51.34289999999999,
          51.194799999999994,
          51.046699999999994,
          50.898599999999995,
          50.750499999999995,
          50.602399999999996,
          50.454299999999996,
          50.3062,
          50.1581,
          50.01
         ]
        }
       ],
       "frames": [],
       "layout": {
        "legend": {
         "title": "Legend Title"
        },
        "margin": {
         "b": 50,
         "l": 50,
         "r": 50,
         "t": 60
        },
        "template": {
         "data": {
          "bar": [
           {
            "error_x": {
             "color": "#2a3f5f"
            },
            "error_y": {
             "color": "#2a3f5f"
            },
            "marker": {
             "line": {
              "color": "#E5ECF6",
              "width": 0.5
             }
            },
            "type": "bar"
           }
          ],
          "barpolar": [
           {
            "marker": {
             "line": {
              "color": "#E5ECF6",
              "width": 0.5
             }
            },
            "type": "barpolar"
           }
          ],
          "carpet": [
           {
            "aaxis": {
             "endlinecolor": "#2a3f5f",
             "gridcolor": "white",
             "linecolor": "white",
             "minorgridcolor": "white",
             "startlinecolor": "#2a3f5f"
            },
            "baxis": {
             "endlinecolor": "#2a3f5f",
             "gridcolor": "white",
             "linecolor": "white",
             "minorgridcolor": "white",
             "startlinecolor": "#2a3f5f"
            },
            "type": "carpet"
           }
          ],
          "choropleth": [
           {
            "colorbar": {
             "outlinewidth": 0,
             "ticks": ""
            },
            "type": "choropleth"
           }
          ],
          "contour": [
           {
            "colorbar": {
             "outlinewidth": 0,
             "ticks": ""
            },
            "colorscale": [
             [
              0,
              "#0d0887"
             ],
             [
              0.1111111111111111,
              "#46039f"
             ],
             [
              0.2222222222222222,
              "#7201a8"
             ],
             [
              0.3333333333333333,
              "#9c179e"
             ],
             [
              0.4444444444444444,
              "#bd3786"
             ],
             [
              0.5555555555555556,
              "#d8576b"
             ],
             [
              0.6666666666666666,
              "#ed7953"
             ],
             [
              0.7777777777777778,
              "#fb9f3a"
             ],
             [
              0.8888888888888888,
              "#fdca26"
             ],
             [
              1,
              "#f0f921"
             ]
            ],
            "type": "contour"
           }
          ],
          "contourcarpet": [
           {
            "colorbar": {
             "outlinewidth": 0,
             "ticks": ""
            },
            "type": "contourcarpet"
           }
          ],
          "heatmap": [
           {
            "colorbar": {
             "outlinewidth": 0,
             "ticks": ""
            },
            "colorscale": [
             [
              0,
              "#0d0887"
             ],
             [
              0.1111111111111111,
              "#46039f"
             ],
             [
              0.2222222222222222,
              "#7201a8"
             ],
             [
              0.3333333333333333,
              "#9c179e"
             ],
             [
              0.4444444444444444,
              "#bd3786"
             ],
             [
              0.5555555555555556,
              "#d8576b"
             ],
             [
              0.6666666666666666,
              "#ed7953"
             ],
             [
              0.7777777777777778,
              "#fb9f3a"
             ],
             [
              0.8888888888888888,
              "#fdca26"
             ],
             [
              1,
              "#f0f921"
             ]
            ],
            "type": "heatmap"
           }
          ],
          "heatmapgl": [
           {
            "colorbar": {
             "outlinewidth": 0,
             "ticks": ""
            },
            "colorscale": [
             [
              0,
              "#0d0887"
             ],
             [
              0.1111111111111111,
              "#46039f"
             ],
             [
              0.2222222222222222,
              "#7201a8"
             ],
             [
              0.3333333333333333,
              "#9c179e"
             ],
             [
              0.4444444444444444,
              "#bd3786"
             ],
             [
              0.5555555555555556,
              "#d8576b"
             ],
             [
              0.6666666666666666,
              "#ed7953"
             ],
             [
              0.7777777777777778,
              "#fb9f3a"
             ],
             [
              0.8888888888888888,
              "#fdca26"
             ],
             [
              1,
              "#f0f921"
             ]
            ],
            "type": "heatmapgl"
           }
          ],
          "histogram": [
           {
            "marker": {
             "colorbar": {
              "outlinewidth": 0,
              "ticks": ""
             }
            },
            "type": "histogram"
           }
          ],
          "histogram2d": [
           {
            "colorbar": {
             "outlinewidth": 0,
             "ticks": ""
            },
            "colorscale": [
             [
              0,
              "#0d0887"
             ],
             [
              0.1111111111111111,
              "#46039f"
             ],
             [
              0.2222222222222222,
              "#7201a8"
             ],
             [
              0.3333333333333333,
              "#9c179e"
             ],
             [
              0.4444444444444444,
              "#bd3786"
             ],
             [
              0.5555555555555556,
              "#d8576b"
             ],
             [
              0.6666666666666666,
              "#ed7953"
             ],
             [
              0.7777777777777778,
              "#fb9f3a"
             ],
             [
              0.8888888888888888,
              "#fdca26"
             ],
             [
              1,
              "#f0f921"
             ]
            ],
            "type": "histogram2d"
           }
          ],
          "histogram2dcontour": [
           {
            "colorbar": {
             "outlinewidth": 0,
             "ticks": ""
            },
            "colorscale": [
             [
              0,
              "#0d0887"
             ],
             [
              0.1111111111111111,
              "#46039f"
             ],
             [
              0.2222222222222222,
              "#7201a8"
             ],
             [
              0.3333333333333333,
              "#9c179e"
             ],
             [
              0.4444444444444444,
              "#bd3786"
             ],
             [
              0.5555555555555556,
              "#d8576b"
             ],
             [
              0.6666666666666666,
              "#ed7953"
             ],
             [
              0.7777777777777778,
              "#fb9f3a"
             ],
             [
              0.8888888888888888,
              "#fdca26"
             ],
             [
              1,
              "#f0f921"
             ]
            ],
            "type": "histogram2dcontour"
           }
          ],
          "mesh3d": [
           {
            "colorbar": {
             "outlinewidth": 0,
             "ticks": ""
            },
            "type": "mesh3d"
           }
          ],
          "parcoords": [
           {
            "line": {
             "colorbar": {
              "outlinewidth": 0,
              "ticks": ""
             }
            },
            "type": "parcoords"
           }
          ],
          "pie": [
           {
            "automargin": true,
            "type": "pie"
           }
          ],
          "scatter": [
           {
            "marker": {
             "colorbar": {
              "outlinewidth": 0,
              "ticks": ""
             }
            },
            "type": "scatter"
           }
          ],
          "scatter3d": [
           {
            "line": {
             "colorbar": {
              "outlinewidth": 0,
              "ticks": ""
             }
            },
            "marker": {
             "colorbar": {
              "outlinewidth": 0,
              "ticks": ""
             }
            },
            "type": "scatter3d"
           }
          ],
          "scattercarpet": [
           {
            "marker": {
             "colorbar": {
              "outlinewidth": 0,
              "ticks": ""
             }
            },
            "type": "scattercarpet"
           }
          ],
          "scattergeo": [
           {
            "marker": {
             "colorbar": {
              "outlinewidth": 0,
              "ticks": ""
             }
            },
            "type": "scattergeo"
           }
          ],
          "scattergl": [
           {
            "marker": {
             "colorbar": {
              "outlinewidth": 0,
              "ticks": ""
             }
            },
            "type": "scattergl"
           }
          ],
          "scattermapbox": [
           {
            "marker": {
             "colorbar": {
              "outlinewidth": 0,
              "ticks": ""
             }
            },
            "type": "scattermapbox"
           }
          ],
          "scatterpolar": [
           {
            "marker": {
             "colorbar": {
              "outlinewidth": 0,
              "ticks": ""
             }
            },
            "type": "scatterpolar"
           }
          ],
          "scatterpolargl": [
           {
            "marker": {
             "colorbar": {
              "outlinewidth": 0,
              "ticks": ""
             }
            },
            "type": "scatterpolargl"
           }
          ],
          "scatterternary": [
           {
            "marker": {
             "colorbar": {
              "outlinewidth": 0,
              "ticks": ""
             }
            },
            "type": "scatterternary"
           }
          ],
          "surface": [
           {
            "colorbar": {
             "outlinewidth": 0,
             "ticks": ""
            },
            "colorscale": [
             [
              0,
              "#0d0887"
             ],
             [
              0.1111111111111111,
              "#46039f"
             ],
             [
              0.2222222222222222,
              "#7201a8"
             ],
             [
              0.3333333333333333,
              "#9c179e"
             ],
             [
              0.4444444444444444,
              "#bd3786"
             ],
             [
              0.5555555555555556,
              "#d8576b"
             ],
             [
              0.6666666666666666,
              "#ed7953"
             ],
             [
              0.7777777777777778,
              "#fb9f3a"
             ],
             [
              0.8888888888888888,
              "#fdca26"
             ],
             [
              1,
              "#f0f921"
             ]
            ],
            "type": "surface"
           }
          ],
          "table": [
           {
            "cells": {
             "fill": {
              "color": "#EBF0F8"
             },
             "line": {
              "color": "white"
             }
            },
            "header": {
             "fill": {
              "color": "#C8D4E3"
             },
             "line": {
              "color": "white"
             }
            },
            "type": "table"
           }
          ]
         },
         "layout": {
          "annotationdefaults": {
           "arrowcolor": "#2a3f5f",
           "arrowhead": 0,
           "arrowwidth": 1
          },
          "autotypenumbers": "strict",
          "coloraxis": {
           "colorbar": {
            "outlinewidth": 0,
            "ticks": ""
           }
          },
          "colorscale": {
           "diverging": [
            [
             0,
             "#8e0152"
            ],
            [
             0.1,
             "#c51b7d"
            ],
            [
             0.2,
             "#de77ae"
            ],
            [
             0.3,
             "#f1b6da"
            ],
            [
             0.4,
             "#fde0ef"
            ],
            [
             0.5,
             "#f7f7f7"
            ],
            [
             0.6,
             "#e6f5d0"
            ],
            [
             0.7,
             "#b8e186"
            ],
            [
             0.8,
             "#7fbc41"
            ],
            [
             0.9,
             "#4d9221"
            ],
            [
             1,
             "#276419"
            ]
           ],
           "sequential": [
            [
             0,
             "#0d0887"
            ],
            [
             0.1111111111111111,
             "#46039f"
            ],
            [
             0.2222222222222222,
             "#7201a8"
            ],
            [
             0.3333333333333333,
             "#9c179e"
            ],
            [
             0.4444444444444444,
             "#bd3786"
            ],
            [
             0.5555555555555556,
             "#d8576b"
            ],
            [
             0.6666666666666666,
             "#ed7953"
            ],
            [
             0.7777777777777778,
             "#fb9f3a"
            ],
            [
             0.8888888888888888,
             "#fdca26"
            ],
            [
             1,
             "#f0f921"
            ]
           ],
           "sequentialminus": [
            [
             0,
             "#0d0887"
            ],
            [
             0.1111111111111111,
             "#46039f"
            ],
            [
             0.2222222222222222,
             "#7201a8"
            ],
            [
             0.3333333333333333,
             "#9c179e"
            ],
            [
             0.4444444444444444,
             "#bd3786"
            ],
            [
             0.5555555555555556,
             "#d8576b"
            ],
            [
             0.6666666666666666,
             "#ed7953"
            ],
            [
             0.7777777777777778,
             "#fb9f3a"
            ],
            [
             0.8888888888888888,
             "#fdca26"
            ],
            [
             1,
             "#f0f921"
            ]
           ]
          },
          "colorway": [
           "#636efa",
           "#EF553B",
           "#00cc96",
           "#ab63fa",
           "#FFA15A",
           "#19d3f3",
           "#FF6692",
           "#B6E880",
           "#FF97FF",
           "#FECB52"
          ],
          "font": {
           "color": "#2a3f5f"
          },
          "geo": {
           "bgcolor": "white",
           "lakecolor": "white",
           "landcolor": "#E5ECF6",
           "showlakes": true,
           "showland": true,
           "subunitcolor": "white"
          },
          "hoverlabel": {
           "align": "left"
          },
          "hovermode": "closest",
          "mapbox": {
           "style": "light"
          },
          "paper_bgcolor": "white",
          "plot_bgcolor": "#E5ECF6",
          "polar": {
           "angularaxis": {
            "gridcolor": "white",
            "linecolor": "white",
            "ticks": ""
           },
           "bgcolor": "#E5ECF6",
           "radialaxis": {
            "gridcolor": "white",
            "linecolor": "white",
            "ticks": ""
           }
          },
          "scene": {
           "xaxis": {
            "backgroundcolor": "#E5ECF6",
            "gridcolor": "white",
            "gridwidth": 2,
            "linecolor": "white",
            "showbackground": true,
            "ticks": "",
            "zerolinecolor": "white"
           },
           "yaxis": {
            "backgroundcolor": "#E5ECF6",
            "gridcolor": "white",
            "gridwidth": 2,
            "linecolor": "white",
            "showbackground": true,
            "ticks": "",
            "zerolinecolor": "white"
           },
           "zaxis": {
            "backgroundcolor": "#E5ECF6",
            "gridcolor": "white",
            "gridwidth": 2,
            "linecolor": "white",
            "showbackground": true,
            "ticks": "",
            "zerolinecolor": "white"
           }
          },
          "shapedefaults": {
           "line": {
            "color": "#2a3f5f"
           }
          },
          "ternary": {
           "aaxis": {
            "gridcolor": "white",
            "linecolor": "white",
            "ticks": ""
           },
           "baxis": {
            "gridcolor": "white",
            "linecolor": "white",
            "ticks": ""
           },
           "bgcolor": "#E5ECF6",
           "caxis": {
            "gridcolor": "white",
            "linecolor": "white",
            "ticks": ""
           }
          },
          "title": {
           "x": 0.05
          },
          "xaxis": {
           "automargin": true,
           "gridcolor": "white",
           "linecolor": "white",
           "ticks": "",
           "title": {
            "standoff": 15
           },
           "zerolinecolor": "white",
           "zerolinewidth": 2
          },
          "yaxis": {
           "automargin": true,
           "gridcolor": "white",
           "linecolor": "white",
           "ticks": "",
           "title": {
            "standoff": 15
           },
           "zerolinecolor": "white",
           "zerolinewidth": 2
          }
         }
        },
        "title": "Terminal Velocity Model",
        "xaxis": {
         "title": {
          "text": "Temperature (Kelvin)"
         }
        },
        "yaxis": {
         "title": {
          "text": "Velocity (meters / seconds)"
         }
        }
       }
      },
      "text/html": [
       "<div\n",
       "    class=\"webio-mountpoint\"\n",
       "    data-webio-mountpoint=\"14710197413994123239\"\n",
       ">\n",
       "    <script>\n",
       "    (function(){\n",
       "    // Some integrations (namely, IJulia/Jupyter) use an alternate render pathway than\n",
       "    // just putting the html on the page. If WebIO isn't defined, then it's pretty likely\n",
       "    // that we're in one of those situations and the integration just isn't installed\n",
       "    // correctly.\n",
       "    if (typeof window.WebIO === \"undefined\") {\n",
       "        document\n",
       "            .querySelector('[data-webio-mountpoint=\"14710197413994123239\"]')\n",
       "            .innerHTML = (\n",
       "                '<div style=\"padding: 1em; background-color: #f8d6da; border: 1px solid #f5c6cb; font-weight: bold;\">' +\n",
       "                '<p><strong>WebIO not detected.</strong></p>' +\n",
       "                '<p>Please read ' +\n",
       "                '<a href=\"https://juliagizmos.github.io/WebIO.jl/latest/troubleshooting/not-detected/\" target=\"_blank\">the troubleshooting guide</a> ' +\n",
       "                'for more information on how to resolve this issue.</p>' +\n",
       "                '<p><a href=\"https://juliagizmos.github.io/WebIO.jl/latest/troubleshooting/not-detected/\" target=\"_blank\">https://juliagizmos.github.io/WebIO.jl/latest/troubleshooting/not-detected/</a></p>' +\n",
       "                '</div>'\n",
       "            );\n",
       "        return;\n",
       "    }\n",
       "    WebIO.mount(\n",
       "        document.querySelector('[data-webio-mountpoint=\"14710197413994123239\"]'),\n",
       "        {\"props\":{},\"nodeType\":\"Scope\",\"type\":\"node\",\"instanceArgs\":{\"imports\":{\"data\":[{\"name\":\"Plotly\",\"type\":\"js\",\"url\":\"\\/assetserver\\/f1f31522542ba34e1849be681911375aff952802-plotly.min.js\"},{\"name\":null,\"type\":\"js\",\"url\":\"\\/assetserver\\/124350e26addc0808d4fb3786957e66ae0b75a7e-plotly_webio.bundle.js\"}],\"type\":\"async_block\"},\"id\":\"1134272173407680801\",\"handlers\":{\"_toImage\":[\"(function (options){return this.Plotly.toImage(this.plotElem,options).then((function (data){return WebIO.setval({\\\"name\\\":\\\"image\\\",\\\"scope\\\":\\\"1134272173407680801\\\",\\\"id\\\":\\\"4785220324163487772\\\",\\\"type\\\":\\\"observable\\\"},data)}))})\"],\"__get_gd_contents\":[\"(function (prop){prop==\\\"data\\\" ? (WebIO.setval({\\\"name\\\":\\\"__gd_contents\\\",\\\"scope\\\":\\\"1134272173407680801\\\",\\\"id\\\":\\\"8010155156907824049\\\",\\\"type\\\":\\\"observable\\\"},this.plotElem.data)) : undefined; return prop==\\\"layout\\\" ? (WebIO.setval({\\\"name\\\":\\\"__gd_contents\\\",\\\"scope\\\":\\\"1134272173407680801\\\",\\\"id\\\":\\\"8010155156907824049\\\",\\\"type\\\":\\\"observable\\\"},this.plotElem.layout)) : undefined})\"],\"_downloadImage\":[\"(function (options){return this.Plotly.downloadImage(this.plotElem,options)})\"],\"_commands\":[\"(function (args){var fn=args.shift(); var elem=this.plotElem; var Plotly=this.Plotly; args.unshift(elem); return Plotly[fn].apply(this,args)})\"]},\"systemjs_options\":null,\"mount_callbacks\":[\"function () {\\n    var handler = ((function (Plotly,PlotlyWebIO){PlotlyWebIO.init(WebIO); var gd=this.dom.querySelector(\\\"#plot-3ec4b097-eac9-48cc-b438-d19a3c64715c\\\"); this.plotElem=gd; this.Plotly=Plotly; (window.Blink!==undefined) ? (gd.style.width=\\\"100%\\\", gd.style.height=\\\"100vh\\\", gd.style.marginLeft=\\\"0%\\\", gd.style.marginTop=\\\"0vh\\\") : undefined; window.onresize=(function (){return Plotly.Plots.resize(gd)}); Plotly.newPlot(gd,[{\\\"mode\\\":\\\"markers+lines\\\",\\\"y\\\":[54.0087,53.8606,53.7125,53.56439999999999,53.41629999999999,53.26819999999999,53.120099999999994,52.971999999999994,52.823899999999995,52.675799999999995,52.527699999999996,52.379599999999996,52.2315,52.0834,51.9353,51.7872,51.63909999999999,51.49099999999999,51.34289999999999,51.194799999999994,51.046699999999994,50.898599999999995,50.750499999999995,50.602399999999996,50.454299999999996,50.3062,50.1581,50.01],\\\"type\\\":\\\"scatter\\\",\\\"x\\\":[273.0,274.0,275.0,276.0,277.0,278.0,279.0,280.0,281.0,282.0,283.0,284.0,285.0,286.0,287.0,288.0,289.0,290.0,291.0,292.0,293.0,294.0,295.0,296.0,297.0,298.0,299.0,300.0]}],{\\\"xaxis\\\":{\\\"title\\\":{\\\"text\\\":\\\"Temperature (Kelvin)\\\"}},\\\"template\\\":{\\\"layout\\\":{\\\"coloraxis\\\":{\\\"colorbar\\\":{\\\"ticks\\\":\\\"\\\",\\\"outlinewidth\\\":0}},\\\"xaxis\\\":{\\\"gridcolor\\\":\\\"white\\\",\\\"zerolinewidth\\\":2,\\\"title\\\":{\\\"standoff\\\":15},\\\"ticks\\\":\\\"\\\",\\\"zerolinecolor\\\":\\\"white\\\",\\\"automargin\\\":true,\\\"linecolor\\\":\\\"white\\\"},\\\"hovermode\\\":\\\"closest\\\",\\\"paper_bgcolor\\\":\\\"white\\\",\\\"geo\\\":{\\\"showlakes\\\":true,\\\"showland\\\":true,\\\"landcolor\\\":\\\"#E5ECF6\\\",\\\"bgcolor\\\":\\\"white\\\",\\\"subunitcolor\\\":\\\"white\\\",\\\"lakecolor\\\":\\\"white\\\"},\\\"colorscale\\\":{\\\"sequential\\\":[[0.0,\\\"#0d0887\\\"],[0.1111111111111111,\\\"#46039f\\\"],[0.2222222222222222,\\\"#7201a8\\\"],[0.3333333333333333,\\\"#9c179e\\\"],[0.4444444444444444,\\\"#bd3786\\\"],[0.5555555555555556,\\\"#d8576b\\\"],[0.6666666666666666,\\\"#ed7953\\\"],[0.7777777777777778,\\\"#fb9f3a\\\"],[0.8888888888888888,\\\"#fdca26\\\"],[1.0,\\\"#f0f921\\\"]],\\\"diverging\\\":[[0,\\\"#8e0152\\\"],[0.1,\\\"#c51b7d\\\"],[0.2,\\\"#de77ae\\\"],[0.3,\\\"#f1b6da\\\"],[0.4,\\\"#fde0ef\\\"],[0.5,\\\"#f7f7f7\\\"],[0.6,\\\"#e6f5d0\\\"],[0.7,\\\"#b8e186\\\"],[0.8,\\\"#7fbc41\\\"],[0.9,\\\"#4d9221\\\"],[1,\\\"#276419\\\"]],\\\"sequentialminus\\\":[[0.0,\\\"#0d0887\\\"],[0.1111111111111111,\\\"#46039f\\\"],[0.2222222222222222,\\\"#7201a8\\\"],[0.3333333333333333,\\\"#9c179e\\\"],[0.4444444444444444,\\\"#bd3786\\\"],[0.5555555555555556,\\\"#d8576b\\\"],[0.6666666666666666,\\\"#ed7953\\\"],[0.7777777777777778,\\\"#fb9f3a\\\"],[0.8888888888888888,\\\"#fdca26\\\"],[1.0,\\\"#f0f921\\\"]]},\\\"yaxis\\\":{\\\"gridcolor\\\":\\\"white\\\",\\\"zerolinewidth\\\":2,\\\"title\\\":{\\\"standoff\\\":15},\\\"ticks\\\":\\\"\\\",\\\"zerolinecolor\\\":\\\"white\\\",\\\"automargin\\\":true,\\\"linecolor\\\":\\\"white\\\"},\\\"shapedefaults\\\":{\\\"line\\\":{\\\"color\\\":\\\"#2a3f5f\\\"}},\\\"hoverlabel\\\":{\\\"align\\\":\\\"left\\\"},\\\"mapbox\\\":{\\\"style\\\":\\\"light\\\"},\\\"polar\\\":{\\\"angularaxis\\\":{\\\"gridcolor\\\":\\\"white\\\",\\\"ticks\\\":\\\"\\\",\\\"linecolor\\\":\\\"white\\\"},\\\"bgcolor\\\":\\\"#E5ECF6\\\",\\\"radialaxis\\\":{\\\"gridcolor\\\":\\\"white\\\",\\\"ticks\\\":\\\"\\\",\\\"linecolor\\\":\\\"white\\\"}},\\\"autotypenumbers\\\":\\\"strict\\\",\\\"font\\\":{\\\"color\\\":\\\"#2a3f5f\\\"},\\\"ternary\\\":{\\\"baxis\\\":{\\\"gridcolor\\\":\\\"white\\\",\\\"ticks\\\":\\\"\\\",\\\"linecolor\\\":\\\"white\\\"},\\\"bgcolor\\\":\\\"#E5ECF6\\\",\\\"caxis\\\":{\\\"gridcolor\\\":\\\"white\\\",\\\"ticks\\\":\\\"\\\",\\\"linecolor\\\":\\\"white\\\"},\\\"aaxis\\\":{\\\"gridcolor\\\":\\\"white\\\",\\\"ticks\\\":\\\"\\\",\\\"linecolor\\\":\\\"white\\\"}},\\\"annotationdefaults\\\":{\\\"arrowhead\\\":0,\\\"arrowwidth\\\":1,\\\"arrowcolor\\\":\\\"#2a3f5f\\\"},\\\"plot_bgcolor\\\":\\\"#E5ECF6\\\",\\\"title\\\":{\\\"x\\\":0.05},\\\"scene\\\":{\\\"xaxis\\\":{\\\"gridcolor\\\":\\\"white\\\",\\\"gridwidth\\\":2,\\\"backgroundcolor\\\":\\\"#E5ECF6\\\",\\\"ticks\\\":\\\"\\\",\\\"showbackground\\\":true,\\\"zerolinecolor\\\":\\\"white\\\",\\\"linecolor\\\":\\\"white\\\"},\\\"zaxis\\\":{\\\"gridcolor\\\":\\\"white\\\",\\\"gridwidth\\\":2,\\\"backgroundcolor\\\":\\\"#E5ECF6\\\",\\\"ticks\\\":\\\"\\\",\\\"showbackground\\\":true,\\\"zerolinecolor\\\":\\\"white\\\",\\\"linecolor\\\":\\\"white\\\"},\\\"yaxis\\\":{\\\"gridcolor\\\":\\\"white\\\",\\\"gridwidth\\\":2,\\\"backgroundcolor\\\":\\\"#E5ECF6\\\",\\\"ticks\\\":\\\"\\\",\\\"showbackground\\\":true,\\\"zerolinecolor\\\":\\\"white\\\",\\\"linecolor\\\":\\\"white\\\"}},\\\"colorway\\\":[\\\"#636efa\\\",\\\"#EF553B\\\",\\\"#00cc96\\\",\\\"#ab63fa\\\",\\\"#FFA15A\\\",\\\"#19d3f3\\\",\\\"#FF6692\\\",\\\"#B6E880\\\",\\\"#FF97FF\\\",\\\"#FECB52\\\"]},\\\"data\\\":{\\\"barpolar\\\":[{\\\"type\\\":\\\"barpolar\\\",\\\"marker\\\":{\\\"line\\\":{\\\"color\\\":\\\"#E5ECF6\\\",\\\"width\\\":0.5}}}],\\\"carpet\\\":[{\\\"aaxis\\\":{\\\"gridcolor\\\":\\\"white\\\",\\\"endlinecolor\\\":\\\"#2a3f5f\\\",\\\"minorgridcolor\\\":\\\"white\\\",\\\"startlinecolor\\\":\\\"#2a3f5f\\\",\\\"linecolor\\\":\\\"white\\\"},\\\"type\\\":\\\"carpet\\\",\\\"baxis\\\":{\\\"gridcolor\\\":\\\"white\\\",\\\"endlinecolor\\\":\\\"#2a3f5f\\\",\\\"minorgridcolor\\\":\\\"white\\\",\\\"startlinecolor\\\":\\\"#2a3f5f\\\",\\\"linecolor\\\":\\\"white\\\"}}],\\\"scatterpolar\\\":[{\\\"type\\\":\\\"scatterpolar\\\",\\\"marker\\\":{\\\"colorbar\\\":{\\\"ticks\\\":\\\"\\\",\\\"outlinewidth\\\":0}}}],\\\"parcoords\\\":[{\\\"line\\\":{\\\"colorbar\\\":{\\\"ticks\\\":\\\"\\\",\\\"outlinewidth\\\":0}},\\\"type\\\":\\\"parcoords\\\"}],\\\"scatter\\\":[{\\\"type\\\":\\\"scatter\\\",\\\"marker\\\":{\\\"colorbar\\\":{\\\"ticks\\\":\\\"\\\",\\\"outlinewidth\\\":0}}}],\\\"histogram2dcontour\\\":[{\\\"colorbar\\\":{\\\"ticks\\\":\\\"\\\",\\\"outlinewidth\\\":0},\\\"type\\\":\\\"histogram2dcontour\\\",\\\"colorscale\\\":[[0.0,\\\"#0d0887\\\"],[0.1111111111111111,\\\"#46039f\\\"],[0.2222222222222222,\\\"#7201a8\\\"],[0.3333333333333333,\\\"#9c179e\\\"],[0.4444444444444444,\\\"#bd3786\\\"],[0.5555555555555556,\\\"#d8576b\\\"],[0.6666666666666666,\\\"#ed7953\\\"],[0.7777777777777778,\\\"#fb9f3a\\\"],[0.8888888888888888,\\\"#fdca26\\\"],[1.0,\\\"#f0f921\\\"]]}],\\\"contour\\\":[{\\\"colorbar\\\":{\\\"ticks\\\":\\\"\\\",\\\"outlinewidth\\\":0},\\\"type\\\":\\\"contour\\\",\\\"colorscale\\\":[[0.0,\\\"#0d0887\\\"],[0.1111111111111111,\\\"#46039f\\\"],[0.2222222222222222,\\\"#7201a8\\\"],[0.3333333333333333,\\\"#9c179e\\\"],[0.4444444444444444,\\\"#bd3786\\\"],[0.5555555555555556,\\\"#d8576b\\\"],[0.6666666666666666,\\\"#ed7953\\\"],[0.7777777777777778,\\\"#fb9f3a\\\"],[0.8888888888888888,\\\"#fdca26\\\"],[1.0,\\\"#f0f921\\\"]]}],\\\"scattercarpet\\\":[{\\\"type\\\":\\\"scattercarpet\\\",\\\"marker\\\":{\\\"colorbar\\\":{\\\"ticks\\\":\\\"\\\",\\\"outlinewidth\\\":0}}}],\\\"mesh3d\\\":[{\\\"colorbar\\\":{\\\"ticks\\\":\\\"\\\",\\\"outlinewidth\\\":0},\\\"type\\\":\\\"mesh3d\\\"}],\\\"surface\\\":[{\\\"colorbar\\\":{\\\"ticks\\\":\\\"\\\",\\\"outlinewidth\\\":0},\\\"type\\\":\\\"surface\\\",\\\"colorscale\\\":[[0.0,\\\"#0d0887\\\"],[0.1111111111111111,\\\"#46039f\\\"],[0.2222222222222222,\\\"#7201a8\\\"],[0.3333333333333333,\\\"#9c179e\\\"],[0.4444444444444444,\\\"#bd3786\\\"],[0.5555555555555556,\\\"#d8576b\\\"],[0.6666666666666666,\\\"#ed7953\\\"],[0.7777777777777778,\\\"#fb9f3a\\\"],[0.8888888888888888,\\\"#fdca26\\\"],[1.0,\\\"#f0f921\\\"]]}],\\\"scattermapbox\\\":[{\\\"type\\\":\\\"scattermapbox\\\",\\\"marker\\\":{\\\"colorbar\\\":{\\\"ticks\\\":\\\"\\\",\\\"outlinewidth\\\":0}}}],\\\"scattergeo\\\":[{\\\"type\\\":\\\"scattergeo\\\",\\\"marker\\\":{\\\"colorbar\\\":{\\\"ticks\\\":\\\"\\\",\\\"outlinewidth\\\":0}}}],\\\"histogram\\\":[{\\\"type\\\":\\\"histogram\\\",\\\"marker\\\":{\\\"colorbar\\\":{\\\"ticks\\\":\\\"\\\",\\\"outlinewidth\\\":0}}}],\\\"pie\\\":[{\\\"type\\\":\\\"pie\\\",\\\"automargin\\\":true}],\\\"choropleth\\\":[{\\\"colorbar\\\":{\\\"ticks\\\":\\\"\\\",\\\"outlinewidth\\\":0},\\\"type\\\":\\\"choropleth\\\"}],\\\"heatmapgl\\\":[{\\\"colorbar\\\":{\\\"ticks\\\":\\\"\\\",\\\"outlinewidth\\\":0},\\\"type\\\":\\\"heatmapgl\\\",\\\"colorscale\\\":[[0.0,\\\"#0d0887\\\"],[0.1111111111111111,\\\"#46039f\\\"],[0.2222222222222222,\\\"#7201a8\\\"],[0.3333333333333333,\\\"#9c179e\\\"],[0.4444444444444444,\\\"#bd3786\\\"],[0.5555555555555556,\\\"#d8576b\\\"],[0.6666666666666666,\\\"#ed7953\\\"],[0.7777777777777778,\\\"#fb9f3a\\\"],[0.8888888888888888,\\\"#fdca26\\\"],[1.0,\\\"#f0f921\\\"]]}],\\\"bar\\\":[{\\\"type\\\":\\\"bar\\\",\\\"error_y\\\":{\\\"color\\\":\\\"#2a3f5f\\\"},\\\"error_x\\\":{\\\"color\\\":\\\"#2a3f5f\\\"},\\\"marker\\\":{\\\"line\\\":{\\\"color\\\":\\\"#E5ECF6\\\",\\\"width\\\":0.5}}}],\\\"heatmap\\\":[{\\\"colorbar\\\":{\\\"ticks\\\":\\\"\\\",\\\"outlinewidth\\\":0},\\\"type\\\":\\\"heatmap\\\",\\\"colorscale\\\":[[0.0,\\\"#0d0887\\\"],[0.1111111111111111,\\\"#46039f\\\"],[0.2222222222222222,\\\"#7201a8\\\"],[0.3333333333333333,\\\"#9c179e\\\"],[0.4444444444444444,\\\"#bd3786\\\"],[0.5555555555555556,\\\"#d8576b\\\"],[0.6666666666666666,\\\"#ed7953\\\"],[0.7777777777777778,\\\"#fb9f3a\\\"],[0.8888888888888888,\\\"#fdca26\\\"],[1.0,\\\"#f0f921\\\"]]}],\\\"contourcarpet\\\":[{\\\"colorbar\\\":{\\\"ticks\\\":\\\"\\\",\\\"outlinewidth\\\":0},\\\"type\\\":\\\"contourcarpet\\\"}],\\\"table\\\":[{\\\"type\\\":\\\"table\\\",\\\"header\\\":{\\\"line\\\":{\\\"color\\\":\\\"white\\\"},\\\"fill\\\":{\\\"color\\\":\\\"#C8D4E3\\\"}},\\\"cells\\\":{\\\"line\\\":{\\\"color\\\":\\\"white\\\"},\\\"fill\\\":{\\\"color\\\":\\\"#EBF0F8\\\"}}}],\\\"scatter3d\\\":[{\\\"line\\\":{\\\"colorbar\\\":{\\\"ticks\\\":\\\"\\\",\\\"outlinewidth\\\":0}},\\\"type\\\":\\\"scatter3d\\\",\\\"marker\\\":{\\\"colorbar\\\":{\\\"ticks\\\":\\\"\\\",\\\"outlinewidth\\\":0}}}],\\\"scattergl\\\":[{\\\"type\\\":\\\"scattergl\\\",\\\"marker\\\":{\\\"colorbar\\\":{\\\"ticks\\\":\\\"\\\",\\\"outlinewidth\\\":0}}}],\\\"histogram2d\\\":[{\\\"colorbar\\\":{\\\"ticks\\\":\\\"\\\",\\\"outlinewidth\\\":0},\\\"type\\\":\\\"histogram2d\\\",\\\"colorscale\\\":[[0.0,\\\"#0d0887\\\"],[0.1111111111111111,\\\"#46039f\\\"],[0.2222222222222222,\\\"#7201a8\\\"],[0.3333333333333333,\\\"#9c179e\\\"],[0.4444444444444444,\\\"#bd3786\\\"],[0.5555555555555556,\\\"#d8576b\\\"],[0.6666666666666666,\\\"#ed7953\\\"],[0.7777777777777778,\\\"#fb9f3a\\\"],[0.8888888888888888,\\\"#fdca26\\\"],[1.0,\\\"#f0f921\\\"]]}],\\\"scatterternary\\\":[{\\\"type\\\":\\\"scatterternary\\\",\\\"marker\\\":{\\\"colorbar\\\":{\\\"ticks\\\":\\\"\\\",\\\"outlinewidth\\\":0}}}],\\\"scatterpolargl\\\":[{\\\"type\\\":\\\"scatterpolargl\\\",\\\"marker\\\":{\\\"colorbar\\\":{\\\"ticks\\\":\\\"\\\",\\\"outlinewidth\\\":0}}}]}},\\\"legend\\\":{\\\"title\\\":\\\"Legend Title\\\"},\\\"margin\\\":{\\\"l\\\":50,\\\"b\\\":50,\\\"r\\\":50,\\\"t\\\":60},\\\"title\\\":\\\"Terminal Velocity Model\\\",\\\"yaxis\\\":{\\\"title\\\":{\\\"text\\\":\\\"Velocity (meters \\/ seconds)\\\"}}},{\\\"showLink\\\":false,\\\"editable\\\":false,\\\"responsive\\\":true,\\\"staticPlot\\\":false,\\\"scrollZoom\\\":true}); gd.on(\\\"plotly_hover\\\",(function (data){var filtered_data=WebIO.PlotlyCommands.filterEventData(gd,data,\\\"hover\\\"); return !(filtered_data.isnil) ? (WebIO.setval({\\\"name\\\":\\\"hover\\\",\\\"scope\\\":\\\"1134272173407680801\\\",\\\"id\\\":\\\"1096538139026839770\\\",\\\"type\\\":\\\"observable\\\"},filtered_data.out)) : undefined})); gd.on(\\\"plotly_unhover\\\",(function (){return WebIO.setval({\\\"name\\\":\\\"hover\\\",\\\"scope\\\":\\\"1134272173407680801\\\",\\\"id\\\":\\\"1096538139026839770\\\",\\\"type\\\":\\\"observable\\\"},{})})); gd.on(\\\"plotly_selected\\\",(function (data){var filtered_data=WebIO.PlotlyCommands.filterEventData(gd,data,\\\"selected\\\"); return !(filtered_data.isnil) ? (WebIO.setval({\\\"name\\\":\\\"selected\\\",\\\"scope\\\":\\\"1134272173407680801\\\",\\\"id\\\":\\\"18201483155521588194\\\",\\\"type\\\":\\\"observable\\\"},filtered_data.out)) : undefined})); gd.on(\\\"plotly_deselect\\\",(function (){return WebIO.setval({\\\"name\\\":\\\"selected\\\",\\\"scope\\\":\\\"1134272173407680801\\\",\\\"id\\\":\\\"18201483155521588194\\\",\\\"type\\\":\\\"observable\\\"},{})})); gd.on(\\\"plotly_relayout\\\",(function (data){var filtered_data=WebIO.PlotlyCommands.filterEventData(gd,data,\\\"relayout\\\"); return !(filtered_data.isnil) ? (WebIO.setval({\\\"name\\\":\\\"relayout\\\",\\\"scope\\\":\\\"1134272173407680801\\\",\\\"id\\\":\\\"16322995943357766161\\\",\\\"type\\\":\\\"observable\\\"},filtered_data.out)) : undefined})); return gd.on(\\\"plotly_click\\\",(function (data){var filtered_data=WebIO.PlotlyCommands.filterEventData(gd,data,\\\"click\\\"); return !(filtered_data.isnil) ? (WebIO.setval({\\\"name\\\":\\\"click\\\",\\\"scope\\\":\\\"1134272173407680801\\\",\\\"id\\\":\\\"15896173900147628047\\\",\\\"type\\\":\\\"observable\\\"},filtered_data.out)) : undefined}))}));\\n    (WebIO.importBlock({\\\"data\\\":[{\\\"name\\\":\\\"Plotly\\\",\\\"type\\\":\\\"js\\\",\\\"url\\\":\\\"\\/assetserver\\/f1f31522542ba34e1849be681911375aff952802-plotly.min.js\\\"},{\\\"name\\\":null,\\\"type\\\":\\\"js\\\",\\\"url\\\":\\\"\\/assetserver\\/124350e26addc0808d4fb3786957e66ae0b75a7e-plotly_webio.bundle.js\\\"}],\\\"type\\\":\\\"async_block\\\"})).then((imports) => handler.apply(this, imports));\\n}\\n\"],\"observables\":{\"_toImage\":{\"sync\":false,\"id\":\"9708126839157228256\",\"value\":{}},\"hover\":{\"sync\":false,\"id\":\"1096538139026839770\",\"value\":{}},\"selected\":{\"sync\":false,\"id\":\"18201483155521588194\",\"value\":{}},\"__gd_contents\":{\"sync\":false,\"id\":\"8010155156907824049\",\"value\":{}},\"click\":{\"sync\":false,\"id\":\"15896173900147628047\",\"value\":{}},\"image\":{\"sync\":true,\"id\":\"4785220324163487772\",\"value\":\"\"},\"__get_gd_contents\":{\"sync\":false,\"id\":\"17552879306817099559\",\"value\":\"\"},\"_downloadImage\":{\"sync\":false,\"id\":\"8737288290768833300\",\"value\":{}},\"relayout\":{\"sync\":false,\"id\":\"16322995943357766161\",\"value\":{}},\"_commands\":{\"sync\":false,\"id\":\"5696104790531425117\",\"value\":[]}}},\"children\":[{\"props\":{\"id\":\"plot-3ec4b097-eac9-48cc-b438-d19a3c64715c\"},\"nodeType\":\"DOM\",\"type\":\"node\",\"instanceArgs\":{\"namespace\":\"html\",\"tag\":\"div\"},\"children\":[]}]},\n",
       "        window,\n",
       "    );\n",
       "    })()\n",
       "    </script>\n",
       "</div>\n"
      ],
      "text/plain": [
       "data: [\n",
       "  \"scatter with fields mode, type, x, and y\"\n",
       "]\n",
       "\n",
       "layout: \"layout with fields legend, margin, template, title, xaxis, and yaxis\"\n",
       "\n"
      ]
     },
     "execution_count": 6,
     "metadata": {},
     "output_type": "execute_result"
    }
   ],
   "source": [
    "temperature_range_K = 273.0:300.0\n",
    "\n",
    "plot(\n",
    "    [\n",
    "        scatter(\n",
    "            mode=\"markers+lines\",\n",
    "            x=temperature_range_K,\n",
    "            y=[get_velocity_infinity_ms(T) for T in temperature_range_K]\n",
    "        )\n",
    "    ],\n",
    "    Layout(\n",
    "        title=\"Terminal Velocity Model\",\n",
    "        xaxis_title=\"Temperature (Kelvin)\",\n",
    "        yaxis_title=\"Velocity (meters / seconds)\",\n",
    "        legend_title=\"Legend Title\",\n",
    "    ),\n",
    "    config=PlotConfig(scrollZoom=true)\n",
    ")"
   ]
  },
  {
   "cell_type": "code",
   "execution_count": 7,
   "id": "c2c7a6a8",
   "metadata": {},
   "outputs": [
    {
     "data": {
      "application/vnd.plotly.v1+json": {
       "config": {
        "editable": false,
        "responsive": true,
        "scrollZoom": true,
        "showLink": false,
        "staticPlot": false
       },
       "data": [
        {
         "mode": "markers+lines",
         "type": "scatter",
         "x": [
          0,
          100,
          200,
          300,
          400,
          500,
          600,
          700,
          800,
          900,
          1000,
          1100,
          1200,
          1300,
          1400,
          1500,
          1600,
          1700,
          1800,
          1900,
          2000,
          2100,
          2200,
          2300,
          2400,
          2500,
          2600,
          2700,
          2800,
          2900,
          3000
         ],
         "y": [
          288.706,
          288.02250000000004,
          287.339,
          286.6555,
          285.97200000000004,
          285.2885,
          284.605,
          283.92150000000004,
          283.238,
          282.5545,
          281.87100000000004,
          281.1875,
          280.504,
          279.82050000000004,
          279.137,
          278.4535,
          277.77000000000004,
          277.0865,
          276.403,
          275.71950000000004,
          275.036,
          274.3525,
          273.66900000000004,
          272.9855,
          272.302,
          271.61850000000004,
          270.935,
          270.2515,
          269.56800000000004,
          268.8845,
          268.201
         ]
        }
       ],
       "frames": [],
       "layout": {
        "legend": {
         "title": "Legend Title"
        },
        "margin": {
         "b": 50,
         "l": 50,
         "r": 50,
         "t": 60
        },
        "template": {
         "data": {
          "bar": [
           {
            "error_x": {
             "color": "#2a3f5f"
            },
            "error_y": {
             "color": "#2a3f5f"
            },
            "marker": {
             "line": {
              "color": "#E5ECF6",
              "width": 0.5
             }
            },
            "type": "bar"
           }
          ],
          "barpolar": [
           {
            "marker": {
             "line": {
              "color": "#E5ECF6",
              "width": 0.5
             }
            },
            "type": "barpolar"
           }
          ],
          "carpet": [
           {
            "aaxis": {
             "endlinecolor": "#2a3f5f",
             "gridcolor": "white",
             "linecolor": "white",
             "minorgridcolor": "white",
             "startlinecolor": "#2a3f5f"
            },
            "baxis": {
             "endlinecolor": "#2a3f5f",
             "gridcolor": "white",
             "linecolor": "white",
             "minorgridcolor": "white",
             "startlinecolor": "#2a3f5f"
            },
            "type": "carpet"
           }
          ],
          "choropleth": [
           {
            "colorbar": {
             "outlinewidth": 0,
             "ticks": ""
            },
            "type": "choropleth"
           }
          ],
          "contour": [
           {
            "colorbar": {
             "outlinewidth": 0,
             "ticks": ""
            },
            "colorscale": [
             [
              0,
              "#0d0887"
             ],
             [
              0.1111111111111111,
              "#46039f"
             ],
             [
              0.2222222222222222,
              "#7201a8"
             ],
             [
              0.3333333333333333,
              "#9c179e"
             ],
             [
              0.4444444444444444,
              "#bd3786"
             ],
             [
              0.5555555555555556,
              "#d8576b"
             ],
             [
              0.6666666666666666,
              "#ed7953"
             ],
             [
              0.7777777777777778,
              "#fb9f3a"
             ],
             [
              0.8888888888888888,
              "#fdca26"
             ],
             [
              1,
              "#f0f921"
             ]
            ],
            "type": "contour"
           }
          ],
          "contourcarpet": [
           {
            "colorbar": {
             "outlinewidth": 0,
             "ticks": ""
            },
            "type": "contourcarpet"
           }
          ],
          "heatmap": [
           {
            "colorbar": {
             "outlinewidth": 0,
             "ticks": ""
            },
            "colorscale": [
             [
              0,
              "#0d0887"
             ],
             [
              0.1111111111111111,
              "#46039f"
             ],
             [
              0.2222222222222222,
              "#7201a8"
             ],
             [
              0.3333333333333333,
              "#9c179e"
             ],
             [
              0.4444444444444444,
              "#bd3786"
             ],
             [
              0.5555555555555556,
              "#d8576b"
             ],
             [
              0.6666666666666666,
              "#ed7953"
             ],
             [
              0.7777777777777778,
              "#fb9f3a"
             ],
             [
              0.8888888888888888,
              "#fdca26"
             ],
             [
              1,
              "#f0f921"
             ]
            ],
            "type": "heatmap"
           }
          ],
          "heatmapgl": [
           {
            "colorbar": {
             "outlinewidth": 0,
             "ticks": ""
            },
            "colorscale": [
             [
              0,
              "#0d0887"
             ],
             [
              0.1111111111111111,
              "#46039f"
             ],
             [
              0.2222222222222222,
              "#7201a8"
             ],
             [
              0.3333333333333333,
              "#9c179e"
             ],
             [
              0.4444444444444444,
              "#bd3786"
             ],
             [
              0.5555555555555556,
              "#d8576b"
             ],
             [
              0.6666666666666666,
              "#ed7953"
             ],
             [
              0.7777777777777778,
              "#fb9f3a"
             ],
             [
              0.8888888888888888,
              "#fdca26"
             ],
             [
              1,
              "#f0f921"
             ]
            ],
            "type": "heatmapgl"
           }
          ],
          "histogram": [
           {
            "marker": {
             "colorbar": {
              "outlinewidth": 0,
              "ticks": ""
             }
            },
            "type": "histogram"
           }
          ],
          "histogram2d": [
           {
            "colorbar": {
             "outlinewidth": 0,
             "ticks": ""
            },
            "colorscale": [
             [
              0,
              "#0d0887"
             ],
             [
              0.1111111111111111,
              "#46039f"
             ],
             [
              0.2222222222222222,
              "#7201a8"
             ],
             [
              0.3333333333333333,
              "#9c179e"
             ],
             [
              0.4444444444444444,
              "#bd3786"
             ],
             [
              0.5555555555555556,
              "#d8576b"
             ],
             [
              0.6666666666666666,
              "#ed7953"
             ],
             [
              0.7777777777777778,
              "#fb9f3a"
             ],
             [
              0.8888888888888888,
              "#fdca26"
             ],
             [
              1,
              "#f0f921"
             ]
            ],
            "type": "histogram2d"
           }
          ],
          "histogram2dcontour": [
           {
            "colorbar": {
             "outlinewidth": 0,
             "ticks": ""
            },
            "colorscale": [
             [
              0,
              "#0d0887"
             ],
             [
              0.1111111111111111,
              "#46039f"
             ],
             [
              0.2222222222222222,
              "#7201a8"
             ],
             [
              0.3333333333333333,
              "#9c179e"
             ],
             [
              0.4444444444444444,
              "#bd3786"
             ],
             [
              0.5555555555555556,
              "#d8576b"
             ],
             [
              0.6666666666666666,
              "#ed7953"
             ],
             [
              0.7777777777777778,
              "#fb9f3a"
             ],
             [
              0.8888888888888888,
              "#fdca26"
             ],
             [
              1,
              "#f0f921"
             ]
            ],
            "type": "histogram2dcontour"
           }
          ],
          "mesh3d": [
           {
            "colorbar": {
             "outlinewidth": 0,
             "ticks": ""
            },
            "type": "mesh3d"
           }
          ],
          "parcoords": [
           {
            "line": {
             "colorbar": {
              "outlinewidth": 0,
              "ticks": ""
             }
            },
            "type": "parcoords"
           }
          ],
          "pie": [
           {
            "automargin": true,
            "type": "pie"
           }
          ],
          "scatter": [
           {
            "marker": {
             "colorbar": {
              "outlinewidth": 0,
              "ticks": ""
             }
            },
            "type": "scatter"
           }
          ],
          "scatter3d": [
           {
            "line": {
             "colorbar": {
              "outlinewidth": 0,
              "ticks": ""
             }
            },
            "marker": {
             "colorbar": {
              "outlinewidth": 0,
              "ticks": ""
             }
            },
            "type": "scatter3d"
           }
          ],
          "scattercarpet": [
           {
            "marker": {
             "colorbar": {
              "outlinewidth": 0,
              "ticks": ""
             }
            },
            "type": "scattercarpet"
           }
          ],
          "scattergeo": [
           {
            "marker": {
             "colorbar": {
              "outlinewidth": 0,
              "ticks": ""
             }
            },
            "type": "scattergeo"
           }
          ],
          "scattergl": [
           {
            "marker": {
             "colorbar": {
              "outlinewidth": 0,
              "ticks": ""
             }
            },
            "type": "scattergl"
           }
          ],
          "scattermapbox": [
           {
            "marker": {
             "colorbar": {
              "outlinewidth": 0,
              "ticks": ""
             }
            },
            "type": "scattermapbox"
           }
          ],
          "scatterpolar": [
           {
            "marker": {
             "colorbar": {
              "outlinewidth": 0,
              "ticks": ""
             }
            },
            "type": "scatterpolar"
           }
          ],
          "scatterpolargl": [
           {
            "marker": {
             "colorbar": {
              "outlinewidth": 0,
              "ticks": ""
             }
            },
            "type": "scatterpolargl"
           }
          ],
          "scatterternary": [
           {
            "marker": {
             "colorbar": {
              "outlinewidth": 0,
              "ticks": ""
             }
            },
            "type": "scatterternary"
           }
          ],
          "surface": [
           {
            "colorbar": {
             "outlinewidth": 0,
             "ticks": ""
            },
            "colorscale": [
             [
              0,
              "#0d0887"
             ],
             [
              0.1111111111111111,
              "#46039f"
             ],
             [
              0.2222222222222222,
              "#7201a8"
             ],
             [
              0.3333333333333333,
              "#9c179e"
             ],
             [
              0.4444444444444444,
              "#bd3786"
             ],
             [
              0.5555555555555556,
              "#d8576b"
             ],
             [
              0.6666666666666666,
              "#ed7953"
             ],
             [
              0.7777777777777778,
              "#fb9f3a"
             ],
             [
              0.8888888888888888,
              "#fdca26"
             ],
             [
              1,
              "#f0f921"
             ]
            ],
            "type": "surface"
           }
          ],
          "table": [
           {
            "cells": {
             "fill": {
              "color": "#EBF0F8"
             },
             "line": {
              "color": "white"
             }
            },
            "header": {
             "fill": {
              "color": "#C8D4E3"
             },
             "line": {
              "color": "white"
             }
            },
            "type": "table"
           }
          ]
         },
         "layout": {
          "annotationdefaults": {
           "arrowcolor": "#2a3f5f",
           "arrowhead": 0,
           "arrowwidth": 1
          },
          "autotypenumbers": "strict",
          "coloraxis": {
           "colorbar": {
            "outlinewidth": 0,
            "ticks": ""
           }
          },
          "colorscale": {
           "diverging": [
            [
             0,
             "#8e0152"
            ],
            [
             0.1,
             "#c51b7d"
            ],
            [
             0.2,
             "#de77ae"
            ],
            [
             0.3,
             "#f1b6da"
            ],
            [
             0.4,
             "#fde0ef"
            ],
            [
             0.5,
             "#f7f7f7"
            ],
            [
             0.6,
             "#e6f5d0"
            ],
            [
             0.7,
             "#b8e186"
            ],
            [
             0.8,
             "#7fbc41"
            ],
            [
             0.9,
             "#4d9221"
            ],
            [
             1,
             "#276419"
            ]
           ],
           "sequential": [
            [
             0,
             "#0d0887"
            ],
            [
             0.1111111111111111,
             "#46039f"
            ],
            [
             0.2222222222222222,
             "#7201a8"
            ],
            [
             0.3333333333333333,
             "#9c179e"
            ],
            [
             0.4444444444444444,
             "#bd3786"
            ],
            [
             0.5555555555555556,
             "#d8576b"
            ],
            [
             0.6666666666666666,
             "#ed7953"
            ],
            [
             0.7777777777777778,
             "#fb9f3a"
            ],
            [
             0.8888888888888888,
             "#fdca26"
            ],
            [
             1,
             "#f0f921"
            ]
           ],
           "sequentialminus": [
            [
             0,
             "#0d0887"
            ],
            [
             0.1111111111111111,
             "#46039f"
            ],
            [
             0.2222222222222222,
             "#7201a8"
            ],
            [
             0.3333333333333333,
             "#9c179e"
            ],
            [
             0.4444444444444444,
             "#bd3786"
            ],
            [
             0.5555555555555556,
             "#d8576b"
            ],
            [
             0.6666666666666666,
             "#ed7953"
            ],
            [
             0.7777777777777778,
             "#fb9f3a"
            ],
            [
             0.8888888888888888,
             "#fdca26"
            ],
            [
             1,
             "#f0f921"
            ]
           ]
          },
          "colorway": [
           "#636efa",
           "#EF553B",
           "#00cc96",
           "#ab63fa",
           "#FFA15A",
           "#19d3f3",
           "#FF6692",
           "#B6E880",
           "#FF97FF",
           "#FECB52"
          ],
          "font": {
           "color": "#2a3f5f"
          },
          "geo": {
           "bgcolor": "white",
           "lakecolor": "white",
           "landcolor": "#E5ECF6",
           "showlakes": true,
           "showland": true,
           "subunitcolor": "white"
          },
          "hoverlabel": {
           "align": "left"
          },
          "hovermode": "closest",
          "mapbox": {
           "style": "light"
          },
          "paper_bgcolor": "white",
          "plot_bgcolor": "#E5ECF6",
          "polar": {
           "angularaxis": {
            "gridcolor": "white",
            "linecolor": "white",
            "ticks": ""
           },
           "bgcolor": "#E5ECF6",
           "radialaxis": {
            "gridcolor": "white",
            "linecolor": "white",
            "ticks": ""
           }
          },
          "scene": {
           "xaxis": {
            "backgroundcolor": "#E5ECF6",
            "gridcolor": "white",
            "gridwidth": 2,
            "linecolor": "white",
            "showbackground": true,
            "ticks": "",
            "zerolinecolor": "white"
           },
           "yaxis": {
            "backgroundcolor": "#E5ECF6",
            "gridcolor": "white",
            "gridwidth": 2,
            "linecolor": "white",
            "showbackground": true,
            "ticks": "",
            "zerolinecolor": "white"
           },
           "zaxis": {
            "backgroundcolor": "#E5ECF6",
            "gridcolor": "white",
            "gridwidth": 2,
            "linecolor": "white",
            "showbackground": true,
            "ticks": "",
            "zerolinecolor": "white"
           }
          },
          "shapedefaults": {
           "line": {
            "color": "#2a3f5f"
           }
          },
          "ternary": {
           "aaxis": {
            "gridcolor": "white",
            "linecolor": "white",
            "ticks": ""
           },
           "baxis": {
            "gridcolor": "white",
            "linecolor": "white",
            "ticks": ""
           },
           "bgcolor": "#E5ECF6",
           "caxis": {
            "gridcolor": "white",
            "linecolor": "white",
            "ticks": ""
           }
          },
          "title": {
           "x": 0.05
          },
          "xaxis": {
           "automargin": true,
           "gridcolor": "white",
           "linecolor": "white",
           "ticks": "",
           "title": {
            "standoff": 15
           },
           "zerolinecolor": "white",
           "zerolinewidth": 2
          },
          "yaxis": {
           "automargin": true,
           "gridcolor": "white",
           "linecolor": "white",
           "ticks": "",
           "title": {
            "standoff": 15
           },
           "zerolinecolor": "white",
           "zerolinewidth": 2
          }
         }
        },
        "title": "Temperature Model",
        "xaxis": {
         "title": {
          "text": "Altitude (meters)"
         }
        },
        "yaxis": {
         "title": {
          "text": "Velocity (meters / seconds)"
         }
        }
       }
      },
      "text/html": [
       "<div\n",
       "    class=\"webio-mountpoint\"\n",
       "    data-webio-mountpoint=\"8363666695693736051\"\n",
       ">\n",
       "    <script>\n",
       "    (function(){\n",
       "    // Some integrations (namely, IJulia/Jupyter) use an alternate render pathway than\n",
       "    // just putting the html on the page. If WebIO isn't defined, then it's pretty likely\n",
       "    // that we're in one of those situations and the integration just isn't installed\n",
       "    // correctly.\n",
       "    if (typeof window.WebIO === \"undefined\") {\n",
       "        document\n",
       "            .querySelector('[data-webio-mountpoint=\"8363666695693736051\"]')\n",
       "            .innerHTML = (\n",
       "                '<div style=\"padding: 1em; background-color: #f8d6da; border: 1px solid #f5c6cb; font-weight: bold;\">' +\n",
       "                '<p><strong>WebIO not detected.</strong></p>' +\n",
       "                '<p>Please read ' +\n",
       "                '<a href=\"https://juliagizmos.github.io/WebIO.jl/latest/troubleshooting/not-detected/\" target=\"_blank\">the troubleshooting guide</a> ' +\n",
       "                'for more information on how to resolve this issue.</p>' +\n",
       "                '<p><a href=\"https://juliagizmos.github.io/WebIO.jl/latest/troubleshooting/not-detected/\" target=\"_blank\">https://juliagizmos.github.io/WebIO.jl/latest/troubleshooting/not-detected/</a></p>' +\n",
       "                '</div>'\n",
       "            );\n",
       "        return;\n",
       "    }\n",
       "    WebIO.mount(\n",
       "        document.querySelector('[data-webio-mountpoint=\"8363666695693736051\"]'),\n",
       "        {\"props\":{},\"nodeType\":\"Scope\",\"type\":\"node\",\"instanceArgs\":{\"imports\":{\"data\":[{\"name\":\"Plotly\",\"type\":\"js\",\"url\":\"\\/assetserver\\/f1f31522542ba34e1849be681911375aff952802-plotly.min.js\"},{\"name\":null,\"type\":\"js\",\"url\":\"\\/assetserver\\/124350e26addc0808d4fb3786957e66ae0b75a7e-plotly_webio.bundle.js\"}],\"type\":\"async_block\"},\"id\":\"12171015068883793903\",\"handlers\":{\"_toImage\":[\"(function (options){return this.Plotly.toImage(this.plotElem,options).then((function (data){return WebIO.setval({\\\"name\\\":\\\"image\\\",\\\"scope\\\":\\\"12171015068883793903\\\",\\\"id\\\":\\\"18297067397127220531\\\",\\\"type\\\":\\\"observable\\\"},data)}))})\"],\"__get_gd_contents\":[\"(function (prop){prop==\\\"data\\\" ? (WebIO.setval({\\\"name\\\":\\\"__gd_contents\\\",\\\"scope\\\":\\\"12171015068883793903\\\",\\\"id\\\":\\\"2353191215402195367\\\",\\\"type\\\":\\\"observable\\\"},this.plotElem.data)) : undefined; return prop==\\\"layout\\\" ? (WebIO.setval({\\\"name\\\":\\\"__gd_contents\\\",\\\"scope\\\":\\\"12171015068883793903\\\",\\\"id\\\":\\\"2353191215402195367\\\",\\\"type\\\":\\\"observable\\\"},this.plotElem.layout)) : undefined})\"],\"_downloadImage\":[\"(function (options){return this.Plotly.downloadImage(this.plotElem,options)})\"],\"_commands\":[\"(function (args){var fn=args.shift(); var elem=this.plotElem; var Plotly=this.Plotly; args.unshift(elem); return Plotly[fn].apply(this,args)})\"]},\"systemjs_options\":null,\"mount_callbacks\":[\"function () {\\n    var handler = ((function (Plotly,PlotlyWebIO){PlotlyWebIO.init(WebIO); var gd=this.dom.querySelector(\\\"#plot-b7c454ba-70ce-401c-8575-4b71cf5f8729\\\"); this.plotElem=gd; this.Plotly=Plotly; (window.Blink!==undefined) ? (gd.style.width=\\\"100%\\\", gd.style.height=\\\"100vh\\\", gd.style.marginLeft=\\\"0%\\\", gd.style.marginTop=\\\"0vh\\\") : undefined; window.onresize=(function (){return Plotly.Plots.resize(gd)}); Plotly.newPlot(gd,[{\\\"mode\\\":\\\"markers+lines\\\",\\\"y\\\":[288.706,288.02250000000004,287.339,286.6555,285.97200000000004,285.2885,284.605,283.92150000000004,283.238,282.5545,281.87100000000004,281.1875,280.504,279.82050000000004,279.137,278.4535,277.77000000000004,277.0865,276.403,275.71950000000004,275.036,274.3525,273.66900000000004,272.9855,272.302,271.61850000000004,270.935,270.2515,269.56800000000004,268.8845,268.201],\\\"type\\\":\\\"scatter\\\",\\\"x\\\":[0.0,100.0,200.0,300.0,400.0,500.0,600.0,700.0,800.0,900.0,1000.0,1100.0,1200.0,1300.0,1400.0,1500.0,1600.0,1700.0,1800.0,1900.0,2000.0,2100.0,2200.0,2300.0,2400.0,2500.0,2600.0,2700.0,2800.0,2900.0,3000.0]}],{\\\"xaxis\\\":{\\\"title\\\":{\\\"text\\\":\\\"Altitude (meters)\\\"}},\\\"template\\\":{\\\"layout\\\":{\\\"coloraxis\\\":{\\\"colorbar\\\":{\\\"ticks\\\":\\\"\\\",\\\"outlinewidth\\\":0}},\\\"xaxis\\\":{\\\"gridcolor\\\":\\\"white\\\",\\\"zerolinewidth\\\":2,\\\"title\\\":{\\\"standoff\\\":15},\\\"ticks\\\":\\\"\\\",\\\"zerolinecolor\\\":\\\"white\\\",\\\"automargin\\\":true,\\\"linecolor\\\":\\\"white\\\"},\\\"hovermode\\\":\\\"closest\\\",\\\"paper_bgcolor\\\":\\\"white\\\",\\\"geo\\\":{\\\"showlakes\\\":true,\\\"showland\\\":true,\\\"landcolor\\\":\\\"#E5ECF6\\\",\\\"bgcolor\\\":\\\"white\\\",\\\"subunitcolor\\\":\\\"white\\\",\\\"lakecolor\\\":\\\"white\\\"},\\\"colorscale\\\":{\\\"sequential\\\":[[0.0,\\\"#0d0887\\\"],[0.1111111111111111,\\\"#46039f\\\"],[0.2222222222222222,\\\"#7201a8\\\"],[0.3333333333333333,\\\"#9c179e\\\"],[0.4444444444444444,\\\"#bd3786\\\"],[0.5555555555555556,\\\"#d8576b\\\"],[0.6666666666666666,\\\"#ed7953\\\"],[0.7777777777777778,\\\"#fb9f3a\\\"],[0.8888888888888888,\\\"#fdca26\\\"],[1.0,\\\"#f0f921\\\"]],\\\"diverging\\\":[[0,\\\"#8e0152\\\"],[0.1,\\\"#c51b7d\\\"],[0.2,\\\"#de77ae\\\"],[0.3,\\\"#f1b6da\\\"],[0.4,\\\"#fde0ef\\\"],[0.5,\\\"#f7f7f7\\\"],[0.6,\\\"#e6f5d0\\\"],[0.7,\\\"#b8e186\\\"],[0.8,\\\"#7fbc41\\\"],[0.9,\\\"#4d9221\\\"],[1,\\\"#276419\\\"]],\\\"sequentialminus\\\":[[0.0,\\\"#0d0887\\\"],[0.1111111111111111,\\\"#46039f\\\"],[0.2222222222222222,\\\"#7201a8\\\"],[0.3333333333333333,\\\"#9c179e\\\"],[0.4444444444444444,\\\"#bd3786\\\"],[0.5555555555555556,\\\"#d8576b\\\"],[0.6666666666666666,\\\"#ed7953\\\"],[0.7777777777777778,\\\"#fb9f3a\\\"],[0.8888888888888888,\\\"#fdca26\\\"],[1.0,\\\"#f0f921\\\"]]},\\\"yaxis\\\":{\\\"gridcolor\\\":\\\"white\\\",\\\"zerolinewidth\\\":2,\\\"title\\\":{\\\"standoff\\\":15},\\\"ticks\\\":\\\"\\\",\\\"zerolinecolor\\\":\\\"white\\\",\\\"automargin\\\":true,\\\"linecolor\\\":\\\"white\\\"},\\\"shapedefaults\\\":{\\\"line\\\":{\\\"color\\\":\\\"#2a3f5f\\\"}},\\\"hoverlabel\\\":{\\\"align\\\":\\\"left\\\"},\\\"mapbox\\\":{\\\"style\\\":\\\"light\\\"},\\\"polar\\\":{\\\"angularaxis\\\":{\\\"gridcolor\\\":\\\"white\\\",\\\"ticks\\\":\\\"\\\",\\\"linecolor\\\":\\\"white\\\"},\\\"bgcolor\\\":\\\"#E5ECF6\\\",\\\"radialaxis\\\":{\\\"gridcolor\\\":\\\"white\\\",\\\"ticks\\\":\\\"\\\",\\\"linecolor\\\":\\\"white\\\"}},\\\"autotypenumbers\\\":\\\"strict\\\",\\\"font\\\":{\\\"color\\\":\\\"#2a3f5f\\\"},\\\"ternary\\\":{\\\"baxis\\\":{\\\"gridcolor\\\":\\\"white\\\",\\\"ticks\\\":\\\"\\\",\\\"linecolor\\\":\\\"white\\\"},\\\"bgcolor\\\":\\\"#E5ECF6\\\",\\\"caxis\\\":{\\\"gridcolor\\\":\\\"white\\\",\\\"ticks\\\":\\\"\\\",\\\"linecolor\\\":\\\"white\\\"},\\\"aaxis\\\":{\\\"gridcolor\\\":\\\"white\\\",\\\"ticks\\\":\\\"\\\",\\\"linecolor\\\":\\\"white\\\"}},\\\"annotationdefaults\\\":{\\\"arrowhead\\\":0,\\\"arrowwidth\\\":1,\\\"arrowcolor\\\":\\\"#2a3f5f\\\"},\\\"plot_bgcolor\\\":\\\"#E5ECF6\\\",\\\"title\\\":{\\\"x\\\":0.05},\\\"scene\\\":{\\\"xaxis\\\":{\\\"gridcolor\\\":\\\"white\\\",\\\"gridwidth\\\":2,\\\"backgroundcolor\\\":\\\"#E5ECF6\\\",\\\"ticks\\\":\\\"\\\",\\\"showbackground\\\":true,\\\"zerolinecolor\\\":\\\"white\\\",\\\"linecolor\\\":\\\"white\\\"},\\\"zaxis\\\":{\\\"gridcolor\\\":\\\"white\\\",\\\"gridwidth\\\":2,\\\"backgroundcolor\\\":\\\"#E5ECF6\\\",\\\"ticks\\\":\\\"\\\",\\\"showbackground\\\":true,\\\"zerolinecolor\\\":\\\"white\\\",\\\"linecolor\\\":\\\"white\\\"},\\\"yaxis\\\":{\\\"gridcolor\\\":\\\"white\\\",\\\"gridwidth\\\":2,\\\"backgroundcolor\\\":\\\"#E5ECF6\\\",\\\"ticks\\\":\\\"\\\",\\\"showbackground\\\":true,\\\"zerolinecolor\\\":\\\"white\\\",\\\"linecolor\\\":\\\"white\\\"}},\\\"colorway\\\":[\\\"#636efa\\\",\\\"#EF553B\\\",\\\"#00cc96\\\",\\\"#ab63fa\\\",\\\"#FFA15A\\\",\\\"#19d3f3\\\",\\\"#FF6692\\\",\\\"#B6E880\\\",\\\"#FF97FF\\\",\\\"#FECB52\\\"]},\\\"data\\\":{\\\"barpolar\\\":[{\\\"type\\\":\\\"barpolar\\\",\\\"marker\\\":{\\\"line\\\":{\\\"color\\\":\\\"#E5ECF6\\\",\\\"width\\\":0.5}}}],\\\"carpet\\\":[{\\\"aaxis\\\":{\\\"gridcolor\\\":\\\"white\\\",\\\"endlinecolor\\\":\\\"#2a3f5f\\\",\\\"minorgridcolor\\\":\\\"white\\\",\\\"startlinecolor\\\":\\\"#2a3f5f\\\",\\\"linecolor\\\":\\\"white\\\"},\\\"type\\\":\\\"carpet\\\",\\\"baxis\\\":{\\\"gridcolor\\\":\\\"white\\\",\\\"endlinecolor\\\":\\\"#2a3f5f\\\",\\\"minorgridcolor\\\":\\\"white\\\",\\\"startlinecolor\\\":\\\"#2a3f5f\\\",\\\"linecolor\\\":\\\"white\\\"}}],\\\"scatterpolar\\\":[{\\\"type\\\":\\\"scatterpolar\\\",\\\"marker\\\":{\\\"colorbar\\\":{\\\"ticks\\\":\\\"\\\",\\\"outlinewidth\\\":0}}}],\\\"parcoords\\\":[{\\\"line\\\":{\\\"colorbar\\\":{\\\"ticks\\\":\\\"\\\",\\\"outlinewidth\\\":0}},\\\"type\\\":\\\"parcoords\\\"}],\\\"scatter\\\":[{\\\"type\\\":\\\"scatter\\\",\\\"marker\\\":{\\\"colorbar\\\":{\\\"ticks\\\":\\\"\\\",\\\"outlinewidth\\\":0}}}],\\\"histogram2dcontour\\\":[{\\\"colorbar\\\":{\\\"ticks\\\":\\\"\\\",\\\"outlinewidth\\\":0},\\\"type\\\":\\\"histogram2dcontour\\\",\\\"colorscale\\\":[[0.0,\\\"#0d0887\\\"],[0.1111111111111111,\\\"#46039f\\\"],[0.2222222222222222,\\\"#7201a8\\\"],[0.3333333333333333,\\\"#9c179e\\\"],[0.4444444444444444,\\\"#bd3786\\\"],[0.5555555555555556,\\\"#d8576b\\\"],[0.6666666666666666,\\\"#ed7953\\\"],[0.7777777777777778,\\\"#fb9f3a\\\"],[0.8888888888888888,\\\"#fdca26\\\"],[1.0,\\\"#f0f921\\\"]]}],\\\"contour\\\":[{\\\"colorbar\\\":{\\\"ticks\\\":\\\"\\\",\\\"outlinewidth\\\":0},\\\"type\\\":\\\"contour\\\",\\\"colorscale\\\":[[0.0,\\\"#0d0887\\\"],[0.1111111111111111,\\\"#46039f\\\"],[0.2222222222222222,\\\"#7201a8\\\"],[0.3333333333333333,\\\"#9c179e\\\"],[0.4444444444444444,\\\"#bd3786\\\"],[0.5555555555555556,\\\"#d8576b\\\"],[0.6666666666666666,\\\"#ed7953\\\"],[0.7777777777777778,\\\"#fb9f3a\\\"],[0.8888888888888888,\\\"#fdca26\\\"],[1.0,\\\"#f0f921\\\"]]}],\\\"scattercarpet\\\":[{\\\"type\\\":\\\"scattercarpet\\\",\\\"marker\\\":{\\\"colorbar\\\":{\\\"ticks\\\":\\\"\\\",\\\"outlinewidth\\\":0}}}],\\\"mesh3d\\\":[{\\\"colorbar\\\":{\\\"ticks\\\":\\\"\\\",\\\"outlinewidth\\\":0},\\\"type\\\":\\\"mesh3d\\\"}],\\\"surface\\\":[{\\\"colorbar\\\":{\\\"ticks\\\":\\\"\\\",\\\"outlinewidth\\\":0},\\\"type\\\":\\\"surface\\\",\\\"colorscale\\\":[[0.0,\\\"#0d0887\\\"],[0.1111111111111111,\\\"#46039f\\\"],[0.2222222222222222,\\\"#7201a8\\\"],[0.3333333333333333,\\\"#9c179e\\\"],[0.4444444444444444,\\\"#bd3786\\\"],[0.5555555555555556,\\\"#d8576b\\\"],[0.6666666666666666,\\\"#ed7953\\\"],[0.7777777777777778,\\\"#fb9f3a\\\"],[0.8888888888888888,\\\"#fdca26\\\"],[1.0,\\\"#f0f921\\\"]]}],\\\"scattermapbox\\\":[{\\\"type\\\":\\\"scattermapbox\\\",\\\"marker\\\":{\\\"colorbar\\\":{\\\"ticks\\\":\\\"\\\",\\\"outlinewidth\\\":0}}}],\\\"scattergeo\\\":[{\\\"type\\\":\\\"scattergeo\\\",\\\"marker\\\":{\\\"colorbar\\\":{\\\"ticks\\\":\\\"\\\",\\\"outlinewidth\\\":0}}}],\\\"histogram\\\":[{\\\"type\\\":\\\"histogram\\\",\\\"marker\\\":{\\\"colorbar\\\":{\\\"ticks\\\":\\\"\\\",\\\"outlinewidth\\\":0}}}],\\\"pie\\\":[{\\\"type\\\":\\\"pie\\\",\\\"automargin\\\":true}],\\\"choropleth\\\":[{\\\"colorbar\\\":{\\\"ticks\\\":\\\"\\\",\\\"outlinewidth\\\":0},\\\"type\\\":\\\"choropleth\\\"}],\\\"heatmapgl\\\":[{\\\"colorbar\\\":{\\\"ticks\\\":\\\"\\\",\\\"outlinewidth\\\":0},\\\"type\\\":\\\"heatmapgl\\\",\\\"colorscale\\\":[[0.0,\\\"#0d0887\\\"],[0.1111111111111111,\\\"#46039f\\\"],[0.2222222222222222,\\\"#7201a8\\\"],[0.3333333333333333,\\\"#9c179e\\\"],[0.4444444444444444,\\\"#bd3786\\\"],[0.5555555555555556,\\\"#d8576b\\\"],[0.6666666666666666,\\\"#ed7953\\\"],[0.7777777777777778,\\\"#fb9f3a\\\"],[0.8888888888888888,\\\"#fdca26\\\"],[1.0,\\\"#f0f921\\\"]]}],\\\"bar\\\":[{\\\"type\\\":\\\"bar\\\",\\\"error_y\\\":{\\\"color\\\":\\\"#2a3f5f\\\"},\\\"error_x\\\":{\\\"color\\\":\\\"#2a3f5f\\\"},\\\"marker\\\":{\\\"line\\\":{\\\"color\\\":\\\"#E5ECF6\\\",\\\"width\\\":0.5}}}],\\\"heatmap\\\":[{\\\"colorbar\\\":{\\\"ticks\\\":\\\"\\\",\\\"outlinewidth\\\":0},\\\"type\\\":\\\"heatmap\\\",\\\"colorscale\\\":[[0.0,\\\"#0d0887\\\"],[0.1111111111111111,\\\"#46039f\\\"],[0.2222222222222222,\\\"#7201a8\\\"],[0.3333333333333333,\\\"#9c179e\\\"],[0.4444444444444444,\\\"#bd3786\\\"],[0.5555555555555556,\\\"#d8576b\\\"],[0.6666666666666666,\\\"#ed7953\\\"],[0.7777777777777778,\\\"#fb9f3a\\\"],[0.8888888888888888,\\\"#fdca26\\\"],[1.0,\\\"#f0f921\\\"]]}],\\\"contourcarpet\\\":[{\\\"colorbar\\\":{\\\"ticks\\\":\\\"\\\",\\\"outlinewidth\\\":0},\\\"type\\\":\\\"contourcarpet\\\"}],\\\"table\\\":[{\\\"type\\\":\\\"table\\\",\\\"header\\\":{\\\"line\\\":{\\\"color\\\":\\\"white\\\"},\\\"fill\\\":{\\\"color\\\":\\\"#C8D4E3\\\"}},\\\"cells\\\":{\\\"line\\\":{\\\"color\\\":\\\"white\\\"},\\\"fill\\\":{\\\"color\\\":\\\"#EBF0F8\\\"}}}],\\\"scatter3d\\\":[{\\\"line\\\":{\\\"colorbar\\\":{\\\"ticks\\\":\\\"\\\",\\\"outlinewidth\\\":0}},\\\"type\\\":\\\"scatter3d\\\",\\\"marker\\\":{\\\"colorbar\\\":{\\\"ticks\\\":\\\"\\\",\\\"outlinewidth\\\":0}}}],\\\"scattergl\\\":[{\\\"type\\\":\\\"scattergl\\\",\\\"marker\\\":{\\\"colorbar\\\":{\\\"ticks\\\":\\\"\\\",\\\"outlinewidth\\\":0}}}],\\\"histogram2d\\\":[{\\\"colorbar\\\":{\\\"ticks\\\":\\\"\\\",\\\"outlinewidth\\\":0},\\\"type\\\":\\\"histogram2d\\\",\\\"colorscale\\\":[[0.0,\\\"#0d0887\\\"],[0.1111111111111111,\\\"#46039f\\\"],[0.2222222222222222,\\\"#7201a8\\\"],[0.3333333333333333,\\\"#9c179e\\\"],[0.4444444444444444,\\\"#bd3786\\\"],[0.5555555555555556,\\\"#d8576b\\\"],[0.6666666666666666,\\\"#ed7953\\\"],[0.7777777777777778,\\\"#fb9f3a\\\"],[0.8888888888888888,\\\"#fdca26\\\"],[1.0,\\\"#f0f921\\\"]]}],\\\"scatterternary\\\":[{\\\"type\\\":\\\"scatterternary\\\",\\\"marker\\\":{\\\"colorbar\\\":{\\\"ticks\\\":\\\"\\\",\\\"outlinewidth\\\":0}}}],\\\"scatterpolargl\\\":[{\\\"type\\\":\\\"scatterpolargl\\\",\\\"marker\\\":{\\\"colorbar\\\":{\\\"ticks\\\":\\\"\\\",\\\"outlinewidth\\\":0}}}]}},\\\"legend\\\":{\\\"title\\\":\\\"Legend Title\\\"},\\\"margin\\\":{\\\"l\\\":50,\\\"b\\\":50,\\\"r\\\":50,\\\"t\\\":60},\\\"title\\\":\\\"Temperature Model\\\",\\\"yaxis\\\":{\\\"title\\\":{\\\"text\\\":\\\"Velocity (meters \\/ seconds)\\\"}}},{\\\"showLink\\\":false,\\\"editable\\\":false,\\\"responsive\\\":true,\\\"staticPlot\\\":false,\\\"scrollZoom\\\":true}); gd.on(\\\"plotly_hover\\\",(function (data){var filtered_data=WebIO.PlotlyCommands.filterEventData(gd,data,\\\"hover\\\"); return !(filtered_data.isnil) ? (WebIO.setval({\\\"name\\\":\\\"hover\\\",\\\"scope\\\":\\\"12171015068883793903\\\",\\\"id\\\":\\\"2066031683985332482\\\",\\\"type\\\":\\\"observable\\\"},filtered_data.out)) : undefined})); gd.on(\\\"plotly_unhover\\\",(function (){return WebIO.setval({\\\"name\\\":\\\"hover\\\",\\\"scope\\\":\\\"12171015068883793903\\\",\\\"id\\\":\\\"2066031683985332482\\\",\\\"type\\\":\\\"observable\\\"},{})})); gd.on(\\\"plotly_selected\\\",(function (data){var filtered_data=WebIO.PlotlyCommands.filterEventData(gd,data,\\\"selected\\\"); return !(filtered_data.isnil) ? (WebIO.setval({\\\"name\\\":\\\"selected\\\",\\\"scope\\\":\\\"12171015068883793903\\\",\\\"id\\\":\\\"4301184437400340618\\\",\\\"type\\\":\\\"observable\\\"},filtered_data.out)) : undefined})); gd.on(\\\"plotly_deselect\\\",(function (){return WebIO.setval({\\\"name\\\":\\\"selected\\\",\\\"scope\\\":\\\"12171015068883793903\\\",\\\"id\\\":\\\"4301184437400340618\\\",\\\"type\\\":\\\"observable\\\"},{})})); gd.on(\\\"plotly_relayout\\\",(function (data){var filtered_data=WebIO.PlotlyCommands.filterEventData(gd,data,\\\"relayout\\\"); return !(filtered_data.isnil) ? (WebIO.setval({\\\"name\\\":\\\"relayout\\\",\\\"scope\\\":\\\"12171015068883793903\\\",\\\"id\\\":\\\"429333761851148041\\\",\\\"type\\\":\\\"observable\\\"},filtered_data.out)) : undefined})); return gd.on(\\\"plotly_click\\\",(function (data){var filtered_data=WebIO.PlotlyCommands.filterEventData(gd,data,\\\"click\\\"); return !(filtered_data.isnil) ? (WebIO.setval({\\\"name\\\":\\\"click\\\",\\\"scope\\\":\\\"12171015068883793903\\\",\\\"id\\\":\\\"4822923153362302712\\\",\\\"type\\\":\\\"observable\\\"},filtered_data.out)) : undefined}))}));\\n    (WebIO.importBlock({\\\"data\\\":[{\\\"name\\\":\\\"Plotly\\\",\\\"type\\\":\\\"js\\\",\\\"url\\\":\\\"\\/assetserver\\/f1f31522542ba34e1849be681911375aff952802-plotly.min.js\\\"},{\\\"name\\\":null,\\\"type\\\":\\\"js\\\",\\\"url\\\":\\\"\\/assetserver\\/124350e26addc0808d4fb3786957e66ae0b75a7e-plotly_webio.bundle.js\\\"}],\\\"type\\\":\\\"async_block\\\"})).then((imports) => handler.apply(this, imports));\\n}\\n\"],\"observables\":{\"_toImage\":{\"sync\":false,\"id\":\"7162698705259172139\",\"value\":{}},\"hover\":{\"sync\":false,\"id\":\"2066031683985332482\",\"value\":{}},\"selected\":{\"sync\":false,\"id\":\"4301184437400340618\",\"value\":{}},\"__gd_contents\":{\"sync\":false,\"id\":\"2353191215402195367\",\"value\":{}},\"click\":{\"sync\":false,\"id\":\"4822923153362302712\",\"value\":{}},\"image\":{\"sync\":true,\"id\":\"18297067397127220531\",\"value\":\"\"},\"__get_gd_contents\":{\"sync\":false,\"id\":\"14460515743540554238\",\"value\":\"\"},\"_downloadImage\":{\"sync\":false,\"id\":\"17142869084105404439\",\"value\":{}},\"relayout\":{\"sync\":false,\"id\":\"429333761851148041\",\"value\":{}},\"_commands\":{\"sync\":false,\"id\":\"1412189407548531798\",\"value\":[]}}},\"children\":[{\"props\":{\"id\":\"plot-b7c454ba-70ce-401c-8575-4b71cf5f8729\"},\"nodeType\":\"DOM\",\"type\":\"node\",\"instanceArgs\":{\"namespace\":\"html\",\"tag\":\"div\"},\"children\":[]}]},\n",
       "        window,\n",
       "    );\n",
       "    })()\n",
       "    </script>\n",
       "</div>\n"
      ],
      "text/plain": [
       "data: [\n",
       "  \"scatter with fields mode, type, x, and y\"\n",
       "]\n",
       "\n",
       "layout: \"layout with fields legend, margin, template, title, xaxis, and yaxis\"\n",
       "\n"
      ]
     },
     "execution_count": 7,
     "metadata": {},
     "output_type": "execute_result"
    }
   ],
   "source": [
    "altitude_range_m = 0.0:100.0:3000.0\n",
    "\n",
    "plot(\n",
    "    [\n",
    "        scatter(\n",
    "            mode=\"markers+lines\",\n",
    "            x=altitude_range_m,\n",
    "            y=[get_temperature_K(A) for A in altitude_range_m]\n",
    "        )\n",
    "    ],\n",
    "    Layout(\n",
    "        title=\"Temperature Model\",\n",
    "        xaxis_title=\"Altitude (meters)\",\n",
    "        yaxis_title=\"Velocity (meters / seconds)\",\n",
    "        legend_title=\"Legend Title\",\n",
    "    ),\n",
    "    config=PlotConfig(scrollZoom=true)\n",
    ")"
   ]
  },
  {
   "cell_type": "markdown",
   "id": "811e16aa",
   "metadata": {},
   "source": [
    "With those two models established, let's define the observation matrix as\n",
    "\n",
    "$$\n",
    "\\begin{align}\n",
    "H &= H(t) \\\\\n",
    "&=\n",
    "\\begin{bmatrix}\n",
    "T(a)/a \\\\\n",
    "0\n",
    "\\end{bmatrix}\n",
    "\\end{align}\n",
    "$$\n",
    "\n",
    "where $a$ is the altitude and $T$ is the temperature as a function of $a$"
   ]
  },
  {
   "cell_type": "code",
   "execution_count": 8,
   "id": "be7891ef",
   "metadata": {},
   "outputs": [],
   "source": [
    "\"\"\"\n",
    "    get_observation_mat(altitude_m[, vary_slope_by, vary_intercept_by])\n",
    "\n",
    "Get the observations matrix given an atltitude above the Earth's surface which can be varied with the last two optional parameters\n",
    "\n",
    "# Arguments\n",
    "- `altitude_m::Number`: The altitude above Earth in meters\n",
    "\n",
    "# Optional Arguments\n",
    "- `vary_slope_by::Number`: Positive definite constant to vary the slope of temperature changes\n",
    "- `vary_intercept_by::Number`: Positive definite constant to vary the intercept of temperature changes\n",
    "\n",
    "# Returns\n",
    "`Float64` of the observations matrix\n",
    "\"\"\"\n",
    "function get_observation_mat(\n",
    "        altitude_m::Number,\n",
    "        vary_temperature_slope_by::Number=0.0,\n",
    "        vary_temperature_intercept_by::Number=0.0\n",
    "    )::Matrix{Float64}\n",
    "    temperature_K = get_temperature_K(altitude_m, \n",
    "                                  vary_temperature_slope_by, \n",
    "                                  vary_temperature_intercept_by)\n",
    "    velocity_terminal_ms = get_velocity_infinity_ms(temperature_K)\n",
    "    observation_mat = [temperature_K/altitude_m 0.0]\n",
    "    return observation_mat\n",
    "end;"
   ]
  },
  {
   "cell_type": "markdown",
   "id": "576b5982",
   "metadata": {},
   "source": [
    "Let's consider the state transition and control matrices. They are given by\n",
    "$$\n",
    "\\begin{align}\n",
    "x_n =& F x_{n-1} + G u \\\\\n",
    "    =& \n",
    "\\begin{bmatrix}\n",
    "1 & \\Delta t \\\\\n",
    "0 & 1\n",
    "\\end{bmatrix}\n",
    "\\begin{bmatrix}\n",
    "h_{n-1} \\\\\n",
    "v_{n-1}\n",
    "\\end{bmatrix}\n",
    "+\n",
    "\\begin{bmatrix}\n",
    "\\frac{1}{2} a(T) \\left(\\Delta t\\right)^2 + \\frac{1}{3!} j(T) \\left(\\Delta t\\right)^3 & 0 \\\\\n",
    "0 & a(T) \\Delta t + \\frac{1}{2} j(T) \\left(\\Delta t\\right)^2\n",
    "\\end{bmatrix}\n",
    "\\begin{bmatrix}\n",
    "1 \\\\\n",
    "1\n",
    "\\end{bmatrix} \\\\\n",
    "\\begin{bmatrix}\n",
    "h_n \\\\\n",
    "v_n\n",
    "\\end{bmatrix}\n",
    "=& \n",
    "\\begin{bmatrix}\n",
    "h(t_{n-1}) + v(t_{n-1}) \\Delta t + \\frac{1}{2} a(t_n) \\left(\\Delta t\\right)^2 + \\frac{1}{3!} j(t_{n-1}) \\left(\\Delta t\\right)^3 \\\\\n",
    "v(t_{n-1}) + a(t_{n-1}) \\Delta t + \\frac{1}{2} j(t_{n-1}) \\left(\\Delta t\\right)^2\n",
    "\\end{bmatrix}\n",
    "\\end{align}\n",
    "$$"
   ]
  },
  {
   "cell_type": "code",
   "execution_count": 9,
   "id": "0e0b4b8d",
   "metadata": {},
   "outputs": [],
   "source": [
    "\"\"\"\n",
    "    get_control_mat(state_vec, total_time_sec, delta_time_sec)\n",
    "\n",
    "Get the control matrix\n",
    "\n",
    "# Arguments\n",
    "-`state_vec` Must be a 2-item vector exactly as `Vector{Float64}([p, v])` where `p` is the position and `v` is the velocity\n",
    "-`total_time_sec` Total time of system measurements\n",
    "-`delta_time_sec:`Time differential between measurements\n",
    "\n",
    "# Returns\n",
    "`Matrix{Float64}` of the control matrix\n",
    "\"\"\"\n",
    "function get_control_mat(\n",
    "        state_vec::Vector,\n",
    "        total_time_sec::Number,\n",
    "        delta_time_sec::Number\n",
    "    )::Matrix{Float64}\n",
    "    temperature_K = get_temperature_K(state_vec[1])\n",
    "    vel_inf_ms = get_velocity_infinity_ms(temperature_K)\n",
    "    arg = accel_ms2 * total_time_sec / vel_inf_ms\n",
    "    current_acceleration_ms2 = accel_ms2 * sech(arg)^2\n",
    "    current_jerk_ms3 = -2 * accel_ms2^2 / vel_inf_ms * sech(arg)^2 * tanh(arg)\n",
    "    control_mat11 = (1. / factorial(2) * current_acceleration_ms2 * delta_time_sec^2\n",
    "                     + 1. / factorial(3) * current_jerk_ms3 * delta_time_sec^3)\n",
    "    control_mat_12 = 0.\n",
    "    control_mat_21 = 0.\n",
    "    control_mat_22 = (current_acceleration_ms2 * delta_time_sec\n",
    "                       + 1. / factorial(2) * current_jerk_ms3 * delta_time_sec^2)\n",
    "    control_mat = [control_mat11 control_mat_12; control_mat_21 control_mat_22]\n",
    "    return control_mat\n",
    "end;"
   ]
  },
  {
   "cell_type": "code",
   "execution_count": 10,
   "id": "76f11b5e",
   "metadata": {},
   "outputs": [],
   "source": [
    "\"\"\"\n",
    "    get_model_estimate(state_vec, total_time_sec, delta_time_sec)\n",
    "\n",
    "Get the model estimate for the given state vector.\n",
    "\n",
    "# Arguments\n",
    "-`state_vec` Must be a 2-item vector exactly as `Vector{Float64}([p, v])` where `p` is the position and `v` is the velocity\n",
    "-`total_time_sec` Total time of system measurements\n",
    "-`delta_time_sec:`Time differential between measurements\n",
    "\n",
    "# Returns\n",
    "`Vector{Float64}` of the state estimate\n",
    "\"\"\"\n",
    "function get_model_estimate(\n",
    "        state_vec::Vector,\n",
    "        total_time_sec::Number,\n",
    "        delta_time_sec::Number\n",
    "    )::Vector{Float64}\n",
    "    \"\"\"Get the model estimate for current state\n",
    "\n",
    "    :param state_vec: State vector\n",
    "    :param total_time_sec: Total time of system measurements\n",
    "    :param delta_time_sec: Time differential between measurements\n",
    "    :returns: Vector\n",
    "    \"\"\"\n",
    "\n",
    "    state_transition = [1.0 delta_time_sec; 0.0 1.0]\n",
    "    control_mat = get_control_mat(state_vec, total_time_sec, delta_time_sec)\n",
    "    external_input_vector = Vector([1, 1])\n",
    "    model_estimate_vec = (state_transition * state_vec\n",
    "                          + control_mat * external_input_vector)\n",
    "    return model_estimate_vec\n",
    "end\n",
    "\n",
    "\"\"\"\n",
    "    get_model_estimate(true_state, total_time_sec, delta_time_sec)\n",
    "\n",
    "Get the simulated measurement as a function of the true state\n",
    "\n",
    "# Arguments\n",
    "-`true_state` The true state vector which must be a 2-item vector exactly as `Vector{Float64}([p, v])` where `p` is the position and `v` is the velocity\n",
    "-`total_time_sec` Total time of system measurements\n",
    "-`delta_time_sec:`Time differential between measurements\n",
    "\n",
    "# Returns\n",
    "`Vector{Float64}` of the model estimate\n",
    "\"\"\"\n",
    "function get_measurement_vec(\n",
    "        true_state::Vector,\n",
    "        vary_temperature_slope_by::Float64=0.0,\n",
    "        vary_temperature_intercept_by::Float64=0.0\n",
    "    )::Vector{Float64}\n",
    "    \"\"\"In a 'real' physical system, we would not need to simulate the measurement\"\"\"\n",
    "    altitude_m = true_state[1]\n",
    "    observation_mat = get_observation_mat(altitude_m, \n",
    "                                          vary_temperature_slope_by, \n",
    "                                          vary_temperature_intercept_by)\n",
    "\n",
    "    measurement_vec::Vector = observation_mat * true_state + artificial_noise_K\n",
    "    return measurement_vec\n",
    "\n",
    "end;"
   ]
  },
  {
   "cell_type": "code",
   "execution_count": 11,
   "id": "b49028c4",
   "metadata": {},
   "outputs": [],
   "source": [
    "\"\"\"Use these two variables to simulate differences variations between the truth and observation\n",
    "for the temperature vs altitude\n",
    "\"\"\"\n",
    "temperature_variation_slope = 0.0\n",
    "temperature_variation_intercept = 0.0\n",
    "\n",
    "\"\"\"Temperature variations\"\"\"\n",
    "artificial_noise_K = 0.1 * randn(1) # Kelvin\n",
    "observation_cov = 5.0^2 * I(1)  # Kelvin^2\n",
    "\n",
    "\"\"\"Define a system where a falling object is thought to be released at rest \n",
    "at 3 km above the Earth's surface with wind resistence. The true position \n",
    "is 3020.\n",
    "\"\"\"\n",
    "true_state_vector = Vector([3020.0, +0.05])\n",
    "initial_state_vector = Vector([3000.0, -0.001])\n",
    "initial_state_cov = Diagonal([1000.0^2, 10.0^2])\n",
    "initial_state = kfstate{Float64}(initial_state_vector, initial_state_cov)\n",
    "\n",
    "\"\"\"Initialize the transition and control matrices at first time step\"\"\"\n",
    "state_transition_mat = [1.0 delta_time_sec; 0.0 1.0]\n",
    "control_mat = get_control_mat(initial_state_vector, delta_time_sec, delta_time_sec)\n",
    "system_noise_mat = [10.0^2 0; 0 1.0^2]\n",
    "external_input_vector = Vector([1, 1])\n",
    "system = kfsystem{Float64}(state_transition_mat, control_mat, system_noise_mat)\n",
    "\n",
    "\"\"\"Initialize the observation matrix\"\"\"\n",
    "observation_mat = get_observation_mat(initial_state.state[1],\n",
    "                              temperature_variation_slope,\n",
    "                              temperature_variation_intercept)\n",
    "observations = kfobservation{Float64}(observation_mat, observation_cov);"
   ]
  },
  {
   "cell_type": "code",
   "execution_count": 12,
   "id": "c241649d",
   "metadata": {},
   "outputs": [],
   "source": [
    "next_state = kfstate{Float64}(initial_state.state, initial_state.cov)\n",
    "states_fcn_time = Vector{kfstate{Float64}}(undef, time_steps)\n",
    "true_state_fcn_time = Array{Vector{Float64}}(undef, time_steps)\n",
    "measurements_array = Array{Float64}(undef, time_steps);"
   ]
  },
  {
   "cell_type": "code",
   "execution_count": 13,
   "id": "2c288fed",
   "metadata": {},
   "outputs": [],
   "source": [
    "for step in 1:time_steps\n",
    "\n",
    "    # At current time, get measurement\n",
    "    time_sec = step * delta_time_sec\n",
    "    true_state_vector = get_model_estimate(true_state_vector, time_sec, delta_time_sec)\n",
    "    measurement_vec = get_measurement_vec(true_state_vector,\n",
    "                                      temperature_variation_slope,\n",
    "                                      temperature_variation_intercept)\n",
    "    true_state_fcn_time[step] = true_state_vector\n",
    "    \n",
    "    # Predict the next state\n",
    "    predicted_state = extrapulate_state(next_state, system, external_input_vector)\n",
    "\n",
    "    # Update the estimate\n",
    "    next_state = update_state(predicted_state, observations, measurement_vec)\n",
    "\n",
    "    # Update the system control and observation matrix for the next measurement\n",
    "    new_control_mat = get_control_mat(next_state.state, time_sec, delta_time_sec)\n",
    "    system.control = new_control_mat\n",
    "    new_observations_mat = get_observation_mat(next_state.state[1],\n",
    "                                               temperature_variation_slope,\n",
    "                                               temperature_variation_intercept)\n",
    "    observations.obs = new_observations_mat\n",
    "\n",
    "    # Save the results\n",
    "    measurements_array[step] = measurement_vec[1]\n",
    "    states_fcn_time[step] = next_state\n",
    "\n",
    "end"
   ]
  },
  {
   "cell_type": "code",
   "execution_count": 14,
   "id": "d1133cce",
   "metadata": {},
   "outputs": [
    {
     "data": {
      "application/vnd.plotly.v1+json": {
       "config": {
        "editable": false,
        "responsive": true,
        "scrollZoom": true,
        "showLink": false,
        "staticPlot": false
       },
       "data": [
        {
         "mode": "markers",
         "name": "Measurement",
         "type": "scatter",
         "x": [
          0,
          0.15,
          0.3,
          0.44999999999999996,
          0.6,
          0.75,
          0.8999999999999999,
          1.05,
          1.2,
          1.3499999999999999,
          1.5,
          1.65,
          1.7999999999999998,
          1.95,
          2.1,
          2.25,
          2.4,
          2.55,
          2.6999999999999997,
          2.85,
          3,
          3.15,
          3.3,
          3.4499999999999997,
          3.5999999999999996,
          3.75,
          3.9,
          4.05,
          4.2,
          4.35,
          4.5,
          4.6499999999999995,
          4.8,
          4.95,
          5.1,
          5.25,
          5.3999999999999995,
          5.55,
          5.7,
          5.85,
          6,
          6.1499999999999995,
          6.3,
          6.45,
          6.6,
          6.75,
          6.8999999999999995,
          7.05,
          7.199999999999999,
          7.35,
          7.5,
          7.6499999999999995,
          7.8,
          7.949999999999999,
          8.1,
          8.25,
          8.4,
          8.549999999999999,
          8.7,
          8.85,
          9,
          9.15,
          9.299999999999999,
          9.45,
          9.6,
          9.75,
          9.9,
          10.049999999999999,
          10.2,
          10.35,
          10.5,
          10.65,
          10.799999999999999,
          10.95,
          11.1,
          11.25,
          11.4,
          11.549999999999999,
          11.7,
          11.85,
          12,
          12.15,
          12.299999999999999,
          12.45,
          12.6,
          12.75,
          12.9,
          13.049999999999999,
          13.2,
          13.35,
          13.5,
          13.65,
          13.799999999999999,
          13.95,
          14.1,
          14.25,
          14.399999999999999,
          14.549999999999999,
          14.7,
          14.85
         ],
         "y": [
          268.09133249086,
          268.09353684106264,
          268.09723874815245,
          268.10243069183326,
          268.109103076194,
          268.1172442834594,
          268.1268407383589,
          268.1378769823716,
          268.15033575700335,
          268.1641980951717,
          268.1794434197057,
          268.19604964792296,
          268.2139933012127,
          268.2332496185439,
          268.25379267281994,
          268.2755954890235,
          268.2986301631277,
          268.32286798080054,
          268.34827953498484,
          268.37483484150755,
          268.4025034519448,
          268.43125456305154,
          268.46105712214745,
          268.4918799279378,
          268.5236917263318,
          268.55646130090713,
          268.5901575577494,
          268.624749604473,
          268.66020682330264,
          268.6964989381635,
          268.73359607578556,
          268.7714688208884,
          268.81008826555546,
          268.84942605295333,
          268.88945441558604,
          268.93014620830337,
          268.9714749363079,
          269.0134147784223,
          269.0559406058935,
          269.0990279970182,
          269.1426532478794,
          269.18679337948544,
          269.2314261415992,
          269.276530013543,
          269.32208420225516,
          269.3680686378668,
          269.4144639670559,
          269.46125154442484,
          269.50841342213414,
          269.55593233801267,
          269.6037917023494,
          269.6519755835607,
          269.7004686929102,
          269.74925636844694,
          269.79832455831325,
          269.84765980356076,
          269.89724922060134,
          269.9470804834059,
          269.9971418055558,
          270.04742192223773,
          270.097910072264,
          270.148595980193,
          270.19946983861104,
          270.2505222906334,
          270.3017444126724,
          270.35312769751357,
          270.40466403773553,
          270.4563457095026,
          270.5081653567549,
          270.560115975814,
          270.6121909004216,
          270.6643837872194,
          270.7166886016818,
          270.769099604503,
          270.8216113384423,
          270.8742186156278,
          270.9269165053152,
          270.9797003220982,
          271.032565614565,
          271.0855081543938,
          271.1385239258793,
          271.1916091158815,
          271.2447601041862,
          271.297973454268,
          271.3512459044443,
          271.4045743594083,
          271.4579558821313,
          271.5113876861204,
          271.56486712802166,
          271.6183917005556,
          271.67195902577345,
          271.725566848623,
          271.7792130308113,
          271.8328955449543,
          271.8866124690001,
          271.94036198091675,
          271.9941423536326,
          272.0479519502187,
          272.10178921930395,
          272.15565269071186
         ]
        }
       ],
       "frames": [],
       "layout": {
        "legend": {
         "title": "Legend Title"
        },
        "margin": {
         "b": 50,
         "l": 50,
         "r": 50,
         "t": 60
        },
        "template": {
         "data": {
          "bar": [
           {
            "error_x": {
             "color": "#2a3f5f"
            },
            "error_y": {
             "color": "#2a3f5f"
            },
            "marker": {
             "line": {
              "color": "#E5ECF6",
              "width": 0.5
             }
            },
            "type": "bar"
           }
          ],
          "barpolar": [
           {
            "marker": {
             "line": {
              "color": "#E5ECF6",
              "width": 0.5
             }
            },
            "type": "barpolar"
           }
          ],
          "carpet": [
           {
            "aaxis": {
             "endlinecolor": "#2a3f5f",
             "gridcolor": "white",
             "linecolor": "white",
             "minorgridcolor": "white",
             "startlinecolor": "#2a3f5f"
            },
            "baxis": {
             "endlinecolor": "#2a3f5f",
             "gridcolor": "white",
             "linecolor": "white",
             "minorgridcolor": "white",
             "startlinecolor": "#2a3f5f"
            },
            "type": "carpet"
           }
          ],
          "choropleth": [
           {
            "colorbar": {
             "outlinewidth": 0,
             "ticks": ""
            },
            "type": "choropleth"
           }
          ],
          "contour": [
           {
            "colorbar": {
             "outlinewidth": 0,
             "ticks": ""
            },
            "colorscale": [
             [
              0,
              "#0d0887"
             ],
             [
              0.1111111111111111,
              "#46039f"
             ],
             [
              0.2222222222222222,
              "#7201a8"
             ],
             [
              0.3333333333333333,
              "#9c179e"
             ],
             [
              0.4444444444444444,
              "#bd3786"
             ],
             [
              0.5555555555555556,
              "#d8576b"
             ],
             [
              0.6666666666666666,
              "#ed7953"
             ],
             [
              0.7777777777777778,
              "#fb9f3a"
             ],
             [
              0.8888888888888888,
              "#fdca26"
             ],
             [
              1,
              "#f0f921"
             ]
            ],
            "type": "contour"
           }
          ],
          "contourcarpet": [
           {
            "colorbar": {
             "outlinewidth": 0,
             "ticks": ""
            },
            "type": "contourcarpet"
           }
          ],
          "heatmap": [
           {
            "colorbar": {
             "outlinewidth": 0,
             "ticks": ""
            },
            "colorscale": [
             [
              0,
              "#0d0887"
             ],
             [
              0.1111111111111111,
              "#46039f"
             ],
             [
              0.2222222222222222,
              "#7201a8"
             ],
             [
              0.3333333333333333,
              "#9c179e"
             ],
             [
              0.4444444444444444,
              "#bd3786"
             ],
             [
              0.5555555555555556,
              "#d8576b"
             ],
             [
              0.6666666666666666,
              "#ed7953"
             ],
             [
              0.7777777777777778,
              "#fb9f3a"
             ],
             [
              0.8888888888888888,
              "#fdca26"
             ],
             [
              1,
              "#f0f921"
             ]
            ],
            "type": "heatmap"
           }
          ],
          "heatmapgl": [
           {
            "colorbar": {
             "outlinewidth": 0,
             "ticks": ""
            },
            "colorscale": [
             [
              0,
              "#0d0887"
             ],
             [
              0.1111111111111111,
              "#46039f"
             ],
             [
              0.2222222222222222,
              "#7201a8"
             ],
             [
              0.3333333333333333,
              "#9c179e"
             ],
             [
              0.4444444444444444,
              "#bd3786"
             ],
             [
              0.5555555555555556,
              "#d8576b"
             ],
             [
              0.6666666666666666,
              "#ed7953"
             ],
             [
              0.7777777777777778,
              "#fb9f3a"
             ],
             [
              0.8888888888888888,
              "#fdca26"
             ],
             [
              1,
              "#f0f921"
             ]
            ],
            "type": "heatmapgl"
           }
          ],
          "histogram": [
           {
            "marker": {
             "colorbar": {
              "outlinewidth": 0,
              "ticks": ""
             }
            },
            "type": "histogram"
           }
          ],
          "histogram2d": [
           {
            "colorbar": {
             "outlinewidth": 0,
             "ticks": ""
            },
            "colorscale": [
             [
              0,
              "#0d0887"
             ],
             [
              0.1111111111111111,
              "#46039f"
             ],
             [
              0.2222222222222222,
              "#7201a8"
             ],
             [
              0.3333333333333333,
              "#9c179e"
             ],
             [
              0.4444444444444444,
              "#bd3786"
             ],
             [
              0.5555555555555556,
              "#d8576b"
             ],
             [
              0.6666666666666666,
              "#ed7953"
             ],
             [
              0.7777777777777778,
              "#fb9f3a"
             ],
             [
              0.8888888888888888,
              "#fdca26"
             ],
             [
              1,
              "#f0f921"
             ]
            ],
            "type": "histogram2d"
           }
          ],
          "histogram2dcontour": [
           {
            "colorbar": {
             "outlinewidth": 0,
             "ticks": ""
            },
            "colorscale": [
             [
              0,
              "#0d0887"
             ],
             [
              0.1111111111111111,
              "#46039f"
             ],
             [
              0.2222222222222222,
              "#7201a8"
             ],
             [
              0.3333333333333333,
              "#9c179e"
             ],
             [
              0.4444444444444444,
              "#bd3786"
             ],
             [
              0.5555555555555556,
              "#d8576b"
             ],
             [
              0.6666666666666666,
              "#ed7953"
             ],
             [
              0.7777777777777778,
              "#fb9f3a"
             ],
             [
              0.8888888888888888,
              "#fdca26"
             ],
             [
              1,
              "#f0f921"
             ]
            ],
            "type": "histogram2dcontour"
           }
          ],
          "mesh3d": [
           {
            "colorbar": {
             "outlinewidth": 0,
             "ticks": ""
            },
            "type": "mesh3d"
           }
          ],
          "parcoords": [
           {
            "line": {
             "colorbar": {
              "outlinewidth": 0,
              "ticks": ""
             }
            },
            "type": "parcoords"
           }
          ],
          "pie": [
           {
            "automargin": true,
            "type": "pie"
           }
          ],
          "scatter": [
           {
            "marker": {
             "colorbar": {
              "outlinewidth": 0,
              "ticks": ""
             }
            },
            "type": "scatter"
           }
          ],
          "scatter3d": [
           {
            "line": {
             "colorbar": {
              "outlinewidth": 0,
              "ticks": ""
             }
            },
            "marker": {
             "colorbar": {
              "outlinewidth": 0,
              "ticks": ""
             }
            },
            "type": "scatter3d"
           }
          ],
          "scattercarpet": [
           {
            "marker": {
             "colorbar": {
              "outlinewidth": 0,
              "ticks": ""
             }
            },
            "type": "scattercarpet"
           }
          ],
          "scattergeo": [
           {
            "marker": {
             "colorbar": {
              "outlinewidth": 0,
              "ticks": ""
             }
            },
            "type": "scattergeo"
           }
          ],
          "scattergl": [
           {
            "marker": {
             "colorbar": {
              "outlinewidth": 0,
              "ticks": ""
             }
            },
            "type": "scattergl"
           }
          ],
          "scattermapbox": [
           {
            "marker": {
             "colorbar": {
              "outlinewidth": 0,
              "ticks": ""
             }
            },
            "type": "scattermapbox"
           }
          ],
          "scatterpolar": [
           {
            "marker": {
             "colorbar": {
              "outlinewidth": 0,
              "ticks": ""
             }
            },
            "type": "scatterpolar"
           }
          ],
          "scatterpolargl": [
           {
            "marker": {
             "colorbar": {
              "outlinewidth": 0,
              "ticks": ""
             }
            },
            "type": "scatterpolargl"
           }
          ],
          "scatterternary": [
           {
            "marker": {
             "colorbar": {
              "outlinewidth": 0,
              "ticks": ""
             }
            },
            "type": "scatterternary"
           }
          ],
          "surface": [
           {
            "colorbar": {
             "outlinewidth": 0,
             "ticks": ""
            },
            "colorscale": [
             [
              0,
              "#0d0887"
             ],
             [
              0.1111111111111111,
              "#46039f"
             ],
             [
              0.2222222222222222,
              "#7201a8"
             ],
             [
              0.3333333333333333,
              "#9c179e"
             ],
             [
              0.4444444444444444,
              "#bd3786"
             ],
             [
              0.5555555555555556,
              "#d8576b"
             ],
             [
              0.6666666666666666,
              "#ed7953"
             ],
             [
              0.7777777777777778,
              "#fb9f3a"
             ],
             [
              0.8888888888888888,
              "#fdca26"
             ],
             [
              1,
              "#f0f921"
             ]
            ],
            "type": "surface"
           }
          ],
          "table": [
           {
            "cells": {
             "fill": {
              "color": "#EBF0F8"
             },
             "line": {
              "color": "white"
             }
            },
            "header": {
             "fill": {
              "color": "#C8D4E3"
             },
             "line": {
              "color": "white"
             }
            },
            "type": "table"
           }
          ]
         },
         "layout": {
          "annotationdefaults": {
           "arrowcolor": "#2a3f5f",
           "arrowhead": 0,
           "arrowwidth": 1
          },
          "autotypenumbers": "strict",
          "coloraxis": {
           "colorbar": {
            "outlinewidth": 0,
            "ticks": ""
           }
          },
          "colorscale": {
           "diverging": [
            [
             0,
             "#8e0152"
            ],
            [
             0.1,
             "#c51b7d"
            ],
            [
             0.2,
             "#de77ae"
            ],
            [
             0.3,
             "#f1b6da"
            ],
            [
             0.4,
             "#fde0ef"
            ],
            [
             0.5,
             "#f7f7f7"
            ],
            [
             0.6,
             "#e6f5d0"
            ],
            [
             0.7,
             "#b8e186"
            ],
            [
             0.8,
             "#7fbc41"
            ],
            [
             0.9,
             "#4d9221"
            ],
            [
             1,
             "#276419"
            ]
           ],
           "sequential": [
            [
             0,
             "#0d0887"
            ],
            [
             0.1111111111111111,
             "#46039f"
            ],
            [
             0.2222222222222222,
             "#7201a8"
            ],
            [
             0.3333333333333333,
             "#9c179e"
            ],
            [
             0.4444444444444444,
             "#bd3786"
            ],
            [
             0.5555555555555556,
             "#d8576b"
            ],
            [
             0.6666666666666666,
             "#ed7953"
            ],
            [
             0.7777777777777778,
             "#fb9f3a"
            ],
            [
             0.8888888888888888,
             "#fdca26"
            ],
            [
             1,
             "#f0f921"
            ]
           ],
           "sequentialminus": [
            [
             0,
             "#0d0887"
            ],
            [
             0.1111111111111111,
             "#46039f"
            ],
            [
             0.2222222222222222,
             "#7201a8"
            ],
            [
             0.3333333333333333,
             "#9c179e"
            ],
            [
             0.4444444444444444,
             "#bd3786"
            ],
            [
             0.5555555555555556,
             "#d8576b"
            ],
            [
             0.6666666666666666,
             "#ed7953"
            ],
            [
             0.7777777777777778,
             "#fb9f3a"
            ],
            [
             0.8888888888888888,
             "#fdca26"
            ],
            [
             1,
             "#f0f921"
            ]
           ]
          },
          "colorway": [
           "#636efa",
           "#EF553B",
           "#00cc96",
           "#ab63fa",
           "#FFA15A",
           "#19d3f3",
           "#FF6692",
           "#B6E880",
           "#FF97FF",
           "#FECB52"
          ],
          "font": {
           "color": "#2a3f5f"
          },
          "geo": {
           "bgcolor": "white",
           "lakecolor": "white",
           "landcolor": "#E5ECF6",
           "showlakes": true,
           "showland": true,
           "subunitcolor": "white"
          },
          "hoverlabel": {
           "align": "left"
          },
          "hovermode": "closest",
          "mapbox": {
           "style": "light"
          },
          "paper_bgcolor": "white",
          "plot_bgcolor": "#E5ECF6",
          "polar": {
           "angularaxis": {
            "gridcolor": "white",
            "linecolor": "white",
            "ticks": ""
           },
           "bgcolor": "#E5ECF6",
           "radialaxis": {
            "gridcolor": "white",
            "linecolor": "white",
            "ticks": ""
           }
          },
          "scene": {
           "xaxis": {
            "backgroundcolor": "#E5ECF6",
            "gridcolor": "white",
            "gridwidth": 2,
            "linecolor": "white",
            "showbackground": true,
            "ticks": "",
            "zerolinecolor": "white"
           },
           "yaxis": {
            "backgroundcolor": "#E5ECF6",
            "gridcolor": "white",
            "gridwidth": 2,
            "linecolor": "white",
            "showbackground": true,
            "ticks": "",
            "zerolinecolor": "white"
           },
           "zaxis": {
            "backgroundcolor": "#E5ECF6",
            "gridcolor": "white",
            "gridwidth": 2,
            "linecolor": "white",
            "showbackground": true,
            "ticks": "",
            "zerolinecolor": "white"
           }
          },
          "shapedefaults": {
           "line": {
            "color": "#2a3f5f"
           }
          },
          "ternary": {
           "aaxis": {
            "gridcolor": "white",
            "linecolor": "white",
            "ticks": ""
           },
           "baxis": {
            "gridcolor": "white",
            "linecolor": "white",
            "ticks": ""
           },
           "bgcolor": "#E5ECF6",
           "caxis": {
            "gridcolor": "white",
            "linecolor": "white",
            "ticks": ""
           }
          },
          "title": {
           "x": 0.05
          },
          "xaxis": {
           "automargin": true,
           "gridcolor": "white",
           "linecolor": "white",
           "ticks": "",
           "title": {
            "standoff": 15
           },
           "zerolinecolor": "white",
           "zerolinewidth": 2
          },
          "yaxis": {
           "automargin": true,
           "gridcolor": "white",
           "linecolor": "white",
           "ticks": "",
           "title": {
            "standoff": 15
           },
           "zerolinecolor": "white",
           "zerolinewidth": 2
          }
         }
        },
        "title": "Measurement",
        "xaxis": {
         "title": {
          "text": "Time (second)"
         }
        },
        "yaxis": {
         "title": {
          "text": "Temperature (Kelvin)"
         }
        }
       }
      },
      "text/html": [
       "<div\n",
       "    class=\"webio-mountpoint\"\n",
       "    data-webio-mountpoint=\"464069461761314162\"\n",
       ">\n",
       "    <script>\n",
       "    (function(){\n",
       "    // Some integrations (namely, IJulia/Jupyter) use an alternate render pathway than\n",
       "    // just putting the html on the page. If WebIO isn't defined, then it's pretty likely\n",
       "    // that we're in one of those situations and the integration just isn't installed\n",
       "    // correctly.\n",
       "    if (typeof window.WebIO === \"undefined\") {\n",
       "        document\n",
       "            .querySelector('[data-webio-mountpoint=\"464069461761314162\"]')\n",
       "            .innerHTML = (\n",
       "                '<div style=\"padding: 1em; background-color: #f8d6da; border: 1px solid #f5c6cb; font-weight: bold;\">' +\n",
       "                '<p><strong>WebIO not detected.</strong></p>' +\n",
       "                '<p>Please read ' +\n",
       "                '<a href=\"https://juliagizmos.github.io/WebIO.jl/latest/troubleshooting/not-detected/\" target=\"_blank\">the troubleshooting guide</a> ' +\n",
       "                'for more information on how to resolve this issue.</p>' +\n",
       "                '<p><a href=\"https://juliagizmos.github.io/WebIO.jl/latest/troubleshooting/not-detected/\" target=\"_blank\">https://juliagizmos.github.io/WebIO.jl/latest/troubleshooting/not-detected/</a></p>' +\n",
       "                '</div>'\n",
       "            );\n",
       "        return;\n",
       "    }\n",
       "    WebIO.mount(\n",
       "        document.querySelector('[data-webio-mountpoint=\"464069461761314162\"]'),\n",
       "        {\"props\":{},\"nodeType\":\"Scope\",\"type\":\"node\",\"instanceArgs\":{\"imports\":{\"data\":[{\"name\":\"Plotly\",\"type\":\"js\",\"url\":\"\\/assetserver\\/f1f31522542ba34e1849be681911375aff952802-plotly.min.js\"},{\"name\":null,\"type\":\"js\",\"url\":\"\\/assetserver\\/124350e26addc0808d4fb3786957e66ae0b75a7e-plotly_webio.bundle.js\"}],\"type\":\"async_block\"},\"id\":\"11264322035038607946\",\"handlers\":{\"_toImage\":[\"(function (options){return this.Plotly.toImage(this.plotElem,options).then((function (data){return WebIO.setval({\\\"name\\\":\\\"image\\\",\\\"scope\\\":\\\"11264322035038607946\\\",\\\"id\\\":\\\"4018405587923474371\\\",\\\"type\\\":\\\"observable\\\"},data)}))})\"],\"__get_gd_contents\":[\"(function (prop){prop==\\\"data\\\" ? (WebIO.setval({\\\"name\\\":\\\"__gd_contents\\\",\\\"scope\\\":\\\"11264322035038607946\\\",\\\"id\\\":\\\"10546048909938870386\\\",\\\"type\\\":\\\"observable\\\"},this.plotElem.data)) : undefined; return prop==\\\"layout\\\" ? (WebIO.setval({\\\"name\\\":\\\"__gd_contents\\\",\\\"scope\\\":\\\"11264322035038607946\\\",\\\"id\\\":\\\"10546048909938870386\\\",\\\"type\\\":\\\"observable\\\"},this.plotElem.layout)) : undefined})\"],\"_downloadImage\":[\"(function (options){return this.Plotly.downloadImage(this.plotElem,options)})\"],\"_commands\":[\"(function (args){var fn=args.shift(); var elem=this.plotElem; var Plotly=this.Plotly; args.unshift(elem); return Plotly[fn].apply(this,args)})\"]},\"systemjs_options\":null,\"mount_callbacks\":[\"function () {\\n    var handler = ((function (Plotly,PlotlyWebIO){PlotlyWebIO.init(WebIO); var gd=this.dom.querySelector(\\\"#plot-a97eba90-a1a1-4453-805e-419efa78db00\\\"); this.plotElem=gd; this.Plotly=Plotly; (window.Blink!==undefined) ? (gd.style.width=\\\"100%\\\", gd.style.height=\\\"100vh\\\", gd.style.marginLeft=\\\"0%\\\", gd.style.marginTop=\\\"0vh\\\") : undefined; window.onresize=(function (){return Plotly.Plots.resize(gd)}); Plotly.newPlot(gd,[{\\\"mode\\\":\\\"markers\\\",\\\"y\\\":[268.09133249086,268.09353684106264,268.09723874815245,268.10243069183326,268.109103076194,268.1172442834594,268.1268407383589,268.1378769823716,268.15033575700335,268.1641980951717,268.1794434197057,268.19604964792296,268.2139933012127,268.2332496185439,268.25379267281994,268.2755954890235,268.2986301631277,268.32286798080054,268.34827953498484,268.37483484150755,268.4025034519448,268.43125456305154,268.46105712214745,268.4918799279378,268.5236917263318,268.55646130090713,268.5901575577494,268.624749604473,268.66020682330264,268.6964989381635,268.73359607578556,268.7714688208884,268.81008826555546,268.84942605295333,268.88945441558604,268.93014620830337,268.9714749363079,269.0134147784223,269.0559406058935,269.0990279970182,269.1426532478794,269.18679337948544,269.2314261415992,269.276530013543,269.32208420225516,269.3680686378668,269.4144639670559,269.46125154442484,269.50841342213414,269.55593233801267,269.6037917023494,269.6519755835607,269.7004686929102,269.74925636844694,269.79832455831325,269.84765980356076,269.89724922060134,269.9470804834059,269.9971418055558,270.04742192223773,270.097910072264,270.148595980193,270.19946983861104,270.2505222906334,270.3017444126724,270.35312769751357,270.40466403773553,270.4563457095026,270.5081653567549,270.560115975814,270.6121909004216,270.6643837872194,270.7166886016818,270.769099604503,270.8216113384423,270.8742186156278,270.9269165053152,270.9797003220982,271.032565614565,271.0855081543938,271.1385239258793,271.1916091158815,271.2447601041862,271.297973454268,271.3512459044443,271.4045743594083,271.4579558821313,271.5113876861204,271.56486712802166,271.6183917005556,271.67195902577345,271.725566848623,271.7792130308113,271.8328955449543,271.8866124690001,271.94036198091675,271.9941423536326,272.0479519502187,272.10178921930395,272.15565269071186],\\\"type\\\":\\\"scatter\\\",\\\"name\\\":\\\"Measurement\\\",\\\"x\\\":[0.0,0.15,0.3,0.44999999999999996,0.6,0.75,0.8999999999999999,1.05,1.2,1.3499999999999999,1.5,1.65,1.7999999999999998,1.95,2.1,2.25,2.4,2.55,2.6999999999999997,2.85,3.0,3.15,3.3,3.4499999999999997,3.5999999999999996,3.75,3.9,4.05,4.2,4.35,4.5,4.6499999999999995,4.8,4.95,5.1,5.25,5.3999999999999995,5.55,5.7,5.85,6.0,6.1499999999999995,6.3,6.45,6.6,6.75,6.8999999999999995,7.05,7.199999999999999,7.35,7.5,7.6499999999999995,7.8,7.949999999999999,8.1,8.25,8.4,8.549999999999999,8.7,8.85,9.0,9.15,9.299999999999999,9.45,9.6,9.75,9.9,10.049999999999999,10.2,10.35,10.5,10.65,10.799999999999999,10.95,11.1,11.25,11.4,11.549999999999999,11.7,11.85,12.0,12.15,12.299999999999999,12.45,12.6,12.75,12.9,13.049999999999999,13.2,13.35,13.5,13.65,13.799999999999999,13.95,14.1,14.25,14.399999999999999,14.549999999999999,14.7,14.85]}],{\\\"xaxis\\\":{\\\"title\\\":{\\\"text\\\":\\\"Time (second)\\\"}},\\\"template\\\":{\\\"layout\\\":{\\\"coloraxis\\\":{\\\"colorbar\\\":{\\\"ticks\\\":\\\"\\\",\\\"outlinewidth\\\":0}},\\\"xaxis\\\":{\\\"gridcolor\\\":\\\"white\\\",\\\"zerolinewidth\\\":2,\\\"title\\\":{\\\"standoff\\\":15},\\\"ticks\\\":\\\"\\\",\\\"zerolinecolor\\\":\\\"white\\\",\\\"automargin\\\":true,\\\"linecolor\\\":\\\"white\\\"},\\\"hovermode\\\":\\\"closest\\\",\\\"paper_bgcolor\\\":\\\"white\\\",\\\"geo\\\":{\\\"showlakes\\\":true,\\\"showland\\\":true,\\\"landcolor\\\":\\\"#E5ECF6\\\",\\\"bgcolor\\\":\\\"white\\\",\\\"subunitcolor\\\":\\\"white\\\",\\\"lakecolor\\\":\\\"white\\\"},\\\"colorscale\\\":{\\\"sequential\\\":[[0.0,\\\"#0d0887\\\"],[0.1111111111111111,\\\"#46039f\\\"],[0.2222222222222222,\\\"#7201a8\\\"],[0.3333333333333333,\\\"#9c179e\\\"],[0.4444444444444444,\\\"#bd3786\\\"],[0.5555555555555556,\\\"#d8576b\\\"],[0.6666666666666666,\\\"#ed7953\\\"],[0.7777777777777778,\\\"#fb9f3a\\\"],[0.8888888888888888,\\\"#fdca26\\\"],[1.0,\\\"#f0f921\\\"]],\\\"diverging\\\":[[0,\\\"#8e0152\\\"],[0.1,\\\"#c51b7d\\\"],[0.2,\\\"#de77ae\\\"],[0.3,\\\"#f1b6da\\\"],[0.4,\\\"#fde0ef\\\"],[0.5,\\\"#f7f7f7\\\"],[0.6,\\\"#e6f5d0\\\"],[0.7,\\\"#b8e186\\\"],[0.8,\\\"#7fbc41\\\"],[0.9,\\\"#4d9221\\\"],[1,\\\"#276419\\\"]],\\\"sequentialminus\\\":[[0.0,\\\"#0d0887\\\"],[0.1111111111111111,\\\"#46039f\\\"],[0.2222222222222222,\\\"#7201a8\\\"],[0.3333333333333333,\\\"#9c179e\\\"],[0.4444444444444444,\\\"#bd3786\\\"],[0.5555555555555556,\\\"#d8576b\\\"],[0.6666666666666666,\\\"#ed7953\\\"],[0.7777777777777778,\\\"#fb9f3a\\\"],[0.8888888888888888,\\\"#fdca26\\\"],[1.0,\\\"#f0f921\\\"]]},\\\"yaxis\\\":{\\\"gridcolor\\\":\\\"white\\\",\\\"zerolinewidth\\\":2,\\\"title\\\":{\\\"standoff\\\":15},\\\"ticks\\\":\\\"\\\",\\\"zerolinecolor\\\":\\\"white\\\",\\\"automargin\\\":true,\\\"linecolor\\\":\\\"white\\\"},\\\"shapedefaults\\\":{\\\"line\\\":{\\\"color\\\":\\\"#2a3f5f\\\"}},\\\"hoverlabel\\\":{\\\"align\\\":\\\"left\\\"},\\\"mapbox\\\":{\\\"style\\\":\\\"light\\\"},\\\"polar\\\":{\\\"angularaxis\\\":{\\\"gridcolor\\\":\\\"white\\\",\\\"ticks\\\":\\\"\\\",\\\"linecolor\\\":\\\"white\\\"},\\\"bgcolor\\\":\\\"#E5ECF6\\\",\\\"radialaxis\\\":{\\\"gridcolor\\\":\\\"white\\\",\\\"ticks\\\":\\\"\\\",\\\"linecolor\\\":\\\"white\\\"}},\\\"autotypenumbers\\\":\\\"strict\\\",\\\"font\\\":{\\\"color\\\":\\\"#2a3f5f\\\"},\\\"ternary\\\":{\\\"baxis\\\":{\\\"gridcolor\\\":\\\"white\\\",\\\"ticks\\\":\\\"\\\",\\\"linecolor\\\":\\\"white\\\"},\\\"bgcolor\\\":\\\"#E5ECF6\\\",\\\"caxis\\\":{\\\"gridcolor\\\":\\\"white\\\",\\\"ticks\\\":\\\"\\\",\\\"linecolor\\\":\\\"white\\\"},\\\"aaxis\\\":{\\\"gridcolor\\\":\\\"white\\\",\\\"ticks\\\":\\\"\\\",\\\"linecolor\\\":\\\"white\\\"}},\\\"annotationdefaults\\\":{\\\"arrowhead\\\":0,\\\"arrowwidth\\\":1,\\\"arrowcolor\\\":\\\"#2a3f5f\\\"},\\\"plot_bgcolor\\\":\\\"#E5ECF6\\\",\\\"title\\\":{\\\"x\\\":0.05},\\\"scene\\\":{\\\"xaxis\\\":{\\\"gridcolor\\\":\\\"white\\\",\\\"gridwidth\\\":2,\\\"backgroundcolor\\\":\\\"#E5ECF6\\\",\\\"ticks\\\":\\\"\\\",\\\"showbackground\\\":true,\\\"zerolinecolor\\\":\\\"white\\\",\\\"linecolor\\\":\\\"white\\\"},\\\"zaxis\\\":{\\\"gridcolor\\\":\\\"white\\\",\\\"gridwidth\\\":2,\\\"backgroundcolor\\\":\\\"#E5ECF6\\\",\\\"ticks\\\":\\\"\\\",\\\"showbackground\\\":true,\\\"zerolinecolor\\\":\\\"white\\\",\\\"linecolor\\\":\\\"white\\\"},\\\"yaxis\\\":{\\\"gridcolor\\\":\\\"white\\\",\\\"gridwidth\\\":2,\\\"backgroundcolor\\\":\\\"#E5ECF6\\\",\\\"ticks\\\":\\\"\\\",\\\"showbackground\\\":true,\\\"zerolinecolor\\\":\\\"white\\\",\\\"linecolor\\\":\\\"white\\\"}},\\\"colorway\\\":[\\\"#636efa\\\",\\\"#EF553B\\\",\\\"#00cc96\\\",\\\"#ab63fa\\\",\\\"#FFA15A\\\",\\\"#19d3f3\\\",\\\"#FF6692\\\",\\\"#B6E880\\\",\\\"#FF97FF\\\",\\\"#FECB52\\\"]},\\\"data\\\":{\\\"barpolar\\\":[{\\\"type\\\":\\\"barpolar\\\",\\\"marker\\\":{\\\"line\\\":{\\\"color\\\":\\\"#E5ECF6\\\",\\\"width\\\":0.5}}}],\\\"carpet\\\":[{\\\"aaxis\\\":{\\\"gridcolor\\\":\\\"white\\\",\\\"endlinecolor\\\":\\\"#2a3f5f\\\",\\\"minorgridcolor\\\":\\\"white\\\",\\\"startlinecolor\\\":\\\"#2a3f5f\\\",\\\"linecolor\\\":\\\"white\\\"},\\\"type\\\":\\\"carpet\\\",\\\"baxis\\\":{\\\"gridcolor\\\":\\\"white\\\",\\\"endlinecolor\\\":\\\"#2a3f5f\\\",\\\"minorgridcolor\\\":\\\"white\\\",\\\"startlinecolor\\\":\\\"#2a3f5f\\\",\\\"linecolor\\\":\\\"white\\\"}}],\\\"scatterpolar\\\":[{\\\"type\\\":\\\"scatterpolar\\\",\\\"marker\\\":{\\\"colorbar\\\":{\\\"ticks\\\":\\\"\\\",\\\"outlinewidth\\\":0}}}],\\\"parcoords\\\":[{\\\"line\\\":{\\\"colorbar\\\":{\\\"ticks\\\":\\\"\\\",\\\"outlinewidth\\\":0}},\\\"type\\\":\\\"parcoords\\\"}],\\\"scatter\\\":[{\\\"type\\\":\\\"scatter\\\",\\\"marker\\\":{\\\"colorbar\\\":{\\\"ticks\\\":\\\"\\\",\\\"outlinewidth\\\":0}}}],\\\"histogram2dcontour\\\":[{\\\"colorbar\\\":{\\\"ticks\\\":\\\"\\\",\\\"outlinewidth\\\":0},\\\"type\\\":\\\"histogram2dcontour\\\",\\\"colorscale\\\":[[0.0,\\\"#0d0887\\\"],[0.1111111111111111,\\\"#46039f\\\"],[0.2222222222222222,\\\"#7201a8\\\"],[0.3333333333333333,\\\"#9c179e\\\"],[0.4444444444444444,\\\"#bd3786\\\"],[0.5555555555555556,\\\"#d8576b\\\"],[0.6666666666666666,\\\"#ed7953\\\"],[0.7777777777777778,\\\"#fb9f3a\\\"],[0.8888888888888888,\\\"#fdca26\\\"],[1.0,\\\"#f0f921\\\"]]}],\\\"contour\\\":[{\\\"colorbar\\\":{\\\"ticks\\\":\\\"\\\",\\\"outlinewidth\\\":0},\\\"type\\\":\\\"contour\\\",\\\"colorscale\\\":[[0.0,\\\"#0d0887\\\"],[0.1111111111111111,\\\"#46039f\\\"],[0.2222222222222222,\\\"#7201a8\\\"],[0.3333333333333333,\\\"#9c179e\\\"],[0.4444444444444444,\\\"#bd3786\\\"],[0.5555555555555556,\\\"#d8576b\\\"],[0.6666666666666666,\\\"#ed7953\\\"],[0.7777777777777778,\\\"#fb9f3a\\\"],[0.8888888888888888,\\\"#fdca26\\\"],[1.0,\\\"#f0f921\\\"]]}],\\\"scattercarpet\\\":[{\\\"type\\\":\\\"scattercarpet\\\",\\\"marker\\\":{\\\"colorbar\\\":{\\\"ticks\\\":\\\"\\\",\\\"outlinewidth\\\":0}}}],\\\"mesh3d\\\":[{\\\"colorbar\\\":{\\\"ticks\\\":\\\"\\\",\\\"outlinewidth\\\":0},\\\"type\\\":\\\"mesh3d\\\"}],\\\"surface\\\":[{\\\"colorbar\\\":{\\\"ticks\\\":\\\"\\\",\\\"outlinewidth\\\":0},\\\"type\\\":\\\"surface\\\",\\\"colorscale\\\":[[0.0,\\\"#0d0887\\\"],[0.1111111111111111,\\\"#46039f\\\"],[0.2222222222222222,\\\"#7201a8\\\"],[0.3333333333333333,\\\"#9c179e\\\"],[0.4444444444444444,\\\"#bd3786\\\"],[0.5555555555555556,\\\"#d8576b\\\"],[0.6666666666666666,\\\"#ed7953\\\"],[0.7777777777777778,\\\"#fb9f3a\\\"],[0.8888888888888888,\\\"#fdca26\\\"],[1.0,\\\"#f0f921\\\"]]}],\\\"scattermapbox\\\":[{\\\"type\\\":\\\"scattermapbox\\\",\\\"marker\\\":{\\\"colorbar\\\":{\\\"ticks\\\":\\\"\\\",\\\"outlinewidth\\\":0}}}],\\\"scattergeo\\\":[{\\\"type\\\":\\\"scattergeo\\\",\\\"marker\\\":{\\\"colorbar\\\":{\\\"ticks\\\":\\\"\\\",\\\"outlinewidth\\\":0}}}],\\\"histogram\\\":[{\\\"type\\\":\\\"histogram\\\",\\\"marker\\\":{\\\"colorbar\\\":{\\\"ticks\\\":\\\"\\\",\\\"outlinewidth\\\":0}}}],\\\"pie\\\":[{\\\"type\\\":\\\"pie\\\",\\\"automargin\\\":true}],\\\"choropleth\\\":[{\\\"colorbar\\\":{\\\"ticks\\\":\\\"\\\",\\\"outlinewidth\\\":0},\\\"type\\\":\\\"choropleth\\\"}],\\\"heatmapgl\\\":[{\\\"colorbar\\\":{\\\"ticks\\\":\\\"\\\",\\\"outlinewidth\\\":0},\\\"type\\\":\\\"heatmapgl\\\",\\\"colorscale\\\":[[0.0,\\\"#0d0887\\\"],[0.1111111111111111,\\\"#46039f\\\"],[0.2222222222222222,\\\"#7201a8\\\"],[0.3333333333333333,\\\"#9c179e\\\"],[0.4444444444444444,\\\"#bd3786\\\"],[0.5555555555555556,\\\"#d8576b\\\"],[0.6666666666666666,\\\"#ed7953\\\"],[0.7777777777777778,\\\"#fb9f3a\\\"],[0.8888888888888888,\\\"#fdca26\\\"],[1.0,\\\"#f0f921\\\"]]}],\\\"bar\\\":[{\\\"type\\\":\\\"bar\\\",\\\"error_y\\\":{\\\"color\\\":\\\"#2a3f5f\\\"},\\\"error_x\\\":{\\\"color\\\":\\\"#2a3f5f\\\"},\\\"marker\\\":{\\\"line\\\":{\\\"color\\\":\\\"#E5ECF6\\\",\\\"width\\\":0.5}}}],\\\"heatmap\\\":[{\\\"colorbar\\\":{\\\"ticks\\\":\\\"\\\",\\\"outlinewidth\\\":0},\\\"type\\\":\\\"heatmap\\\",\\\"colorscale\\\":[[0.0,\\\"#0d0887\\\"],[0.1111111111111111,\\\"#46039f\\\"],[0.2222222222222222,\\\"#7201a8\\\"],[0.3333333333333333,\\\"#9c179e\\\"],[0.4444444444444444,\\\"#bd3786\\\"],[0.5555555555555556,\\\"#d8576b\\\"],[0.6666666666666666,\\\"#ed7953\\\"],[0.7777777777777778,\\\"#fb9f3a\\\"],[0.8888888888888888,\\\"#fdca26\\\"],[1.0,\\\"#f0f921\\\"]]}],\\\"contourcarpet\\\":[{\\\"colorbar\\\":{\\\"ticks\\\":\\\"\\\",\\\"outlinewidth\\\":0},\\\"type\\\":\\\"contourcarpet\\\"}],\\\"table\\\":[{\\\"type\\\":\\\"table\\\",\\\"header\\\":{\\\"line\\\":{\\\"color\\\":\\\"white\\\"},\\\"fill\\\":{\\\"color\\\":\\\"#C8D4E3\\\"}},\\\"cells\\\":{\\\"line\\\":{\\\"color\\\":\\\"white\\\"},\\\"fill\\\":{\\\"color\\\":\\\"#EBF0F8\\\"}}}],\\\"scatter3d\\\":[{\\\"line\\\":{\\\"colorbar\\\":{\\\"ticks\\\":\\\"\\\",\\\"outlinewidth\\\":0}},\\\"type\\\":\\\"scatter3d\\\",\\\"marker\\\":{\\\"colorbar\\\":{\\\"ticks\\\":\\\"\\\",\\\"outlinewidth\\\":0}}}],\\\"scattergl\\\":[{\\\"type\\\":\\\"scattergl\\\",\\\"marker\\\":{\\\"colorbar\\\":{\\\"ticks\\\":\\\"\\\",\\\"outlinewidth\\\":0}}}],\\\"histogram2d\\\":[{\\\"colorbar\\\":{\\\"ticks\\\":\\\"\\\",\\\"outlinewidth\\\":0},\\\"type\\\":\\\"histogram2d\\\",\\\"colorscale\\\":[[0.0,\\\"#0d0887\\\"],[0.1111111111111111,\\\"#46039f\\\"],[0.2222222222222222,\\\"#7201a8\\\"],[0.3333333333333333,\\\"#9c179e\\\"],[0.4444444444444444,\\\"#bd3786\\\"],[0.5555555555555556,\\\"#d8576b\\\"],[0.6666666666666666,\\\"#ed7953\\\"],[0.7777777777777778,\\\"#fb9f3a\\\"],[0.8888888888888888,\\\"#fdca26\\\"],[1.0,\\\"#f0f921\\\"]]}],\\\"scatterternary\\\":[{\\\"type\\\":\\\"scatterternary\\\",\\\"marker\\\":{\\\"colorbar\\\":{\\\"ticks\\\":\\\"\\\",\\\"outlinewidth\\\":0}}}],\\\"scatterpolargl\\\":[{\\\"type\\\":\\\"scatterpolargl\\\",\\\"marker\\\":{\\\"colorbar\\\":{\\\"ticks\\\":\\\"\\\",\\\"outlinewidth\\\":0}}}]}},\\\"legend\\\":{\\\"title\\\":\\\"Legend Title\\\"},\\\"margin\\\":{\\\"l\\\":50,\\\"b\\\":50,\\\"r\\\":50,\\\"t\\\":60},\\\"title\\\":\\\"Measurement\\\",\\\"yaxis\\\":{\\\"title\\\":{\\\"text\\\":\\\"Temperature (Kelvin)\\\"}}},{\\\"showLink\\\":false,\\\"editable\\\":false,\\\"responsive\\\":true,\\\"staticPlot\\\":false,\\\"scrollZoom\\\":true}); gd.on(\\\"plotly_hover\\\",(function (data){var filtered_data=WebIO.PlotlyCommands.filterEventData(gd,data,\\\"hover\\\"); return !(filtered_data.isnil) ? (WebIO.setval({\\\"name\\\":\\\"hover\\\",\\\"scope\\\":\\\"11264322035038607946\\\",\\\"id\\\":\\\"17811346541046430148\\\",\\\"type\\\":\\\"observable\\\"},filtered_data.out)) : undefined})); gd.on(\\\"plotly_unhover\\\",(function (){return WebIO.setval({\\\"name\\\":\\\"hover\\\",\\\"scope\\\":\\\"11264322035038607946\\\",\\\"id\\\":\\\"17811346541046430148\\\",\\\"type\\\":\\\"observable\\\"},{})})); gd.on(\\\"plotly_selected\\\",(function (data){var filtered_data=WebIO.PlotlyCommands.filterEventData(gd,data,\\\"selected\\\"); return !(filtered_data.isnil) ? (WebIO.setval({\\\"name\\\":\\\"selected\\\",\\\"scope\\\":\\\"11264322035038607946\\\",\\\"id\\\":\\\"5926885456524888995\\\",\\\"type\\\":\\\"observable\\\"},filtered_data.out)) : undefined})); gd.on(\\\"plotly_deselect\\\",(function (){return WebIO.setval({\\\"name\\\":\\\"selected\\\",\\\"scope\\\":\\\"11264322035038607946\\\",\\\"id\\\":\\\"5926885456524888995\\\",\\\"type\\\":\\\"observable\\\"},{})})); gd.on(\\\"plotly_relayout\\\",(function (data){var filtered_data=WebIO.PlotlyCommands.filterEventData(gd,data,\\\"relayout\\\"); return !(filtered_data.isnil) ? (WebIO.setval({\\\"name\\\":\\\"relayout\\\",\\\"scope\\\":\\\"11264322035038607946\\\",\\\"id\\\":\\\"7477758254028940826\\\",\\\"type\\\":\\\"observable\\\"},filtered_data.out)) : undefined})); return gd.on(\\\"plotly_click\\\",(function (data){var filtered_data=WebIO.PlotlyCommands.filterEventData(gd,data,\\\"click\\\"); return !(filtered_data.isnil) ? (WebIO.setval({\\\"name\\\":\\\"click\\\",\\\"scope\\\":\\\"11264322035038607946\\\",\\\"id\\\":\\\"3209820813027861116\\\",\\\"type\\\":\\\"observable\\\"},filtered_data.out)) : undefined}))}));\\n    (WebIO.importBlock({\\\"data\\\":[{\\\"name\\\":\\\"Plotly\\\",\\\"type\\\":\\\"js\\\",\\\"url\\\":\\\"\\/assetserver\\/f1f31522542ba34e1849be681911375aff952802-plotly.min.js\\\"},{\\\"name\\\":null,\\\"type\\\":\\\"js\\\",\\\"url\\\":\\\"\\/assetserver\\/124350e26addc0808d4fb3786957e66ae0b75a7e-plotly_webio.bundle.js\\\"}],\\\"type\\\":\\\"async_block\\\"})).then((imports) => handler.apply(this, imports));\\n}\\n\"],\"observables\":{\"_toImage\":{\"sync\":false,\"id\":\"12087890172899276453\",\"value\":{}},\"hover\":{\"sync\":false,\"id\":\"17811346541046430148\",\"value\":{}},\"selected\":{\"sync\":false,\"id\":\"5926885456524888995\",\"value\":{}},\"__gd_contents\":{\"sync\":false,\"id\":\"10546048909938870386\",\"value\":{}},\"click\":{\"sync\":false,\"id\":\"3209820813027861116\",\"value\":{}},\"image\":{\"sync\":true,\"id\":\"4018405587923474371\",\"value\":\"\"},\"__get_gd_contents\":{\"sync\":false,\"id\":\"16691234454300883608\",\"value\":\"\"},\"_downloadImage\":{\"sync\":false,\"id\":\"9774032852418021919\",\"value\":{}},\"relayout\":{\"sync\":false,\"id\":\"7477758254028940826\",\"value\":{}},\"_commands\":{\"sync\":false,\"id\":\"17505988666252240507\",\"value\":[]}}},\"children\":[{\"props\":{\"id\":\"plot-a97eba90-a1a1-4453-805e-419efa78db00\"},\"nodeType\":\"DOM\",\"type\":\"node\",\"instanceArgs\":{\"namespace\":\"html\",\"tag\":\"div\"},\"children\":[]}]},\n",
       "        window,\n",
       "    );\n",
       "    })()\n",
       "    </script>\n",
       "</div>\n"
      ],
      "text/plain": [
       "data: [\n",
       "  \"scatter with fields mode, name, type, x, and y\"\n",
       "]\n",
       "\n",
       "layout: \"layout with fields legend, margin, template, title, xaxis, and yaxis\"\n",
       "\n"
      ]
     },
     "execution_count": 14,
     "metadata": {},
     "output_type": "execute_result"
    }
   ],
   "source": [
    "plot(\n",
    "    [\n",
    "        # True position\n",
    "        scatter(\n",
    "            mode=\"markers\",\n",
    "            x=time_axis_sec,\n",
    "            y=measurements_array,\n",
    "            name=\"Measurement\"\n",
    "        )\n",
    "    ],\n",
    "    Layout(\n",
    "        title=\"Measurement\",\n",
    "        xaxis_title=\"Time (second)\",\n",
    "        yaxis_title=\"Temperature (Kelvin)\",\n",
    "        legend_title=\"Legend Title\",\n",
    "    ),\n",
    "    config=PlotConfig(scrollZoom=true)\n",
    ")"
   ]
  },
  {
   "cell_type": "code",
   "execution_count": 15,
   "id": "ac0e2ffa",
   "metadata": {},
   "outputs": [
    {
     "data": {
      "application/vnd.plotly.v1+json": {
       "config": {
        "editable": false,
        "responsive": true,
        "scrollZoom": true,
        "showLink": false,
        "staticPlot": false
       },
       "data": [
        {
         "mode": "markers",
         "name": "True Position",
         "type": "scatter",
         "x": [
          0,
          0.15,
          0.3,
          0.44999999999999996,
          0.6,
          0.75,
          0.8999999999999999,
          1.05,
          1.2,
          1.3499999999999999,
          1.5,
          1.65,
          1.7999999999999998,
          1.95,
          2.1,
          2.25,
          2.4,
          2.55,
          2.6999999999999997,
          2.85,
          3,
          3.15,
          3.3,
          3.4499999999999997,
          3.5999999999999996,
          3.75,
          3.9,
          4.05,
          4.2,
          4.35,
          4.5,
          4.6499999999999995,
          4.8,
          4.95,
          5.1,
          5.25,
          5.3999999999999995,
          5.55,
          5.7,
          5.85,
          6,
          6.1499999999999995,
          6.3,
          6.45,
          6.6,
          6.75,
          6.8999999999999995,
          7.05,
          7.199999999999999,
          7.35,
          7.5,
          7.6499999999999995,
          7.8,
          7.949999999999999,
          8.1,
          8.25,
          8.4,
          8.549999999999999,
          8.7,
          8.85,
          9,
          9.15,
          9.299999999999999,
          9.45,
          9.6,
          9.75,
          9.9,
          10.049999999999999,
          10.2,
          10.35,
          10.5,
          10.65,
          10.799999999999999,
          10.95,
          11.1,
          11.25,
          11.4,
          11.549999999999999,
          11.7,
          11.85,
          12,
          12.15,
          12.299999999999999,
          12.45,
          12.6,
          12.75,
          12.9,
          13.049999999999999,
          13.2,
          13.35,
          13.5,
          13.65,
          13.799999999999999,
          13.95,
          14.1,
          14.25,
          14.399999999999999,
          14.549999999999999,
          14.7,
          14.85
         ],
         "y": [
          3019.897382423571,
          3019.574873249816,
          3019.0332628489627,
          3018.273651483815,
          3017.297443091601,
          3016.10633742,
          3014.702320609538,
          3013.087654331168,
          3011.264863602305,
          3009.2367234167436,
          3007.006244333493,
          3004.5766571766144,
          3001.9513970025455,
          2999.1340864932304,
          2996.128518932724,
          2992.938640921968,
          2989.5685349813343,
          2986.0224021835547,
          2982.30454495103,
          2978.419350141562,
          2974.371272535524,
          2970.164818825688,
          2965.804532198631,
          2961.2949775840984,
          2956.640727636187,
          2951.8463494978764,
          2946.9163923885417,
          2941.8553760427408,
          2936.667780017915,
          2931.35803387881,
          2925.9305082574356,
          2920.3895067793264,
          2914.739258839744,
          2908.983913207282,
          2903.1275324270787,
          2897.174087991475,
          2891.127456242458,
          2884.99141496749,
          2878.769640648368,
          2872.465706321423,
          2866.083080006686,
          2859.6251236634516,
          2853.0950926299847,
          2846.4961355057994,
          2839.8312944359814,
          2833.1035057583435,
          2826.3156009757417,
          2819.4703080175987,
          2812.5702527565404,
          2805.617960747983,
          2798.6158591625053,
          2791.5662788828686,
          2784.4714567395617,
          2777.3335378607417,
          2770.154578114394,
          2762.9365466224335,
          2755.6813283282804,
          2748.3907266012043,
          2741.0664658623664,
          2733.7101942190798,
          2726.3234860952575,
          2718.907844847413,
          2711.464705356848,
          2703.9954365898616,
          2696.5013441189053,
          2688.9836725986183,
          2681.4436081916037,
          2673.8822809396465,
          2666.300767076843,
          2658.700091281794,
          2651.0812288666507,
          2643.445107901349,
          2635.792611271875,
          2628.124578671852,
          2620.4418085271122,
          2612.7450598532987,
          2605.0350540468025,
          2597.312476609642,
          2589.5779788090886,
          2581.8321792730553,
          2574.075665522428,
          2566.3089954416428,
          2558.5326986889468,
          2550.7472780478565,
          2542.9532107214104,
          2535.150949570859,
          2527.3409243004926,
          2519.5235425903093,
          2511.6991911782684,
          2503.8682368938594,
          2496.0310276447212,
          2488.187893358035,
          2480.3391468783934,
          2472.4850848238225,
          2464.625988401612,
          2456.7621241855672,
          2448.8937448562624,
          2441.021089905843,
          2433.1443863088725,
          2425.263849160684
         ]
        },
        {
         "error_y": {
          "array": [
           55.84093726754983,
           39.51483733336743,
           32.29568647976628,
           28.02814890892569,
           25.16463358023035,
           23.109056823619976,
           21.57640849988775,
           20.410211960903354,
           19.515320021869794,
           18.828833227069058,
           18.306073885074547,
           17.913317808313835,
           17.623857969968675,
           17.415819997442142,
           17.270931054194495,
           17.17380975059332,
           17.111533293759422,
           17.073343463297977,
           17.05041517133819,
           17.03564875327182,
           17.023469241561287,
           17.00962824176032,
           16.991010210133844,
           16.965447312962546,
           16.931547245632476,
           16.88853748017014,
           16.83612807963992,
           16.774393876086716,
           16.703675671517896,
           16.62449927593577,
           16.537510649843455,
           16.44342513410978,
           16.34298867169107,
           16.23694899449326,
           16.1260349116138,
           16.01094204940335,
           15.892323627276388,
           15.7707850840653,
           15.646881584311087,
           15.52111762486204,
           15.393948126612468,
           15.265780534193745,
           15.136977559729827,
           15.007860298110309,
           14.878711513685355,
           14.749778954906837,
           14.621278597064613,
           14.493397746408656,
           14.366297963757338,
           14.240117783967401,
           14.11497522085278,
           13.990970056473817,
           13.868185920117286,
           13.746692166491567,
           13.62654556524498,
           13.507791815321601,
           13.390466898234555,
           13.274598284316781,
           13.160206005593434,
           13.047303608249011,
           12.93589899683877,
           12.82599518149143,
           12.717590938420837,
           12.610681393143805,
           12.505258534913798,
           12.4013116700402,
           12.298827820979595,
           12.197792077362713,
           12.098187904459639,
           11.999997413985108,
           11.903201601603186,
           11.807780555002235,
           11.713713635973635,
           11.620979639536612,
           11.529556932803047,
           11.439423575965867,
           11.350557427519322,
           11.26293623557501,
           11.17653771692107,
           11.091339625280288,
           11.00731981005333,
           10.924456266683343,
           10.842727179645752,
           10.762110958949897,
           10.682586270935808,
           10.604132064058042,
           10.526727590267786,
           10.450352422533186,
           10.374986468974933,
           10.30060998403847,
           10.227203577075096,
           10.154748218660819,
           10.083225244943417,
           10.012616360274308,
           9.942903638351755,
           9.874069522075516,
           9.806096822289497,
           9.73896871556831,
           9.672668741185184,
           9.607180797382515
          ],
          "type": "data"
         },
         "mode": "markers",
         "name": "Estimated Position",
         "type": "scatter",
         "x": [
          0,
          0.15,
          0.3,
          0.44999999999999996,
          0.6,
          0.75,
          0.8999999999999999,
          1.05,
          1.2,
          1.3499999999999999,
          1.5,
          1.65,
          1.7999999999999998,
          1.95,
          2.1,
          2.25,
          2.4,
          2.55,
          2.6999999999999997,
          2.85,
          3,
          3.15,
          3.3,
          3.4499999999999997,
          3.5999999999999996,
          3.75,
          3.9,
          4.05,
          4.2,
          4.35,
          4.5,
          4.6499999999999995,
          4.8,
          4.95,
          5.1,
          5.25,
          5.3999999999999995,
          5.55,
          5.7,
          5.85,
          6,
          6.1499999999999995,
          6.3,
          6.45,
          6.6,
          6.75,
          6.8999999999999995,
          7.05,
          7.199999999999999,
          7.35,
          7.5,
          7.6499999999999995,
          7.8,
          7.949999999999999,
          8.1,
          8.25,
          8.4,
          8.549999999999999,
          8.7,
          8.85,
          9,
          9.15,
          9.299999999999999,
          9.45,
          9.6,
          9.75,
          9.9,
          10.049999999999999,
          10.2,
          10.35,
          10.5,
          10.65,
          10.799999999999999,
          10.95,
          11.1,
          11.25,
          11.4,
          11.549999999999999,
          11.7,
          11.85,
          12,
          12.15,
          12.299999999999999,
          12.45,
          12.6,
          12.75,
          12.9,
          13.049999999999999,
          13.2,
          13.35,
          13.5,
          13.65,
          13.799999999999999,
          13.95,
          14.1,
          14.25,
          14.399999999999999,
          14.549999999999999,
          14.7,
          14.85
         ],
         "y": [
          2998.776779922759,
          2997.9644225346187,
          2997.1584006092526,
          2996.250117518064,
          2995.1954308934496,
          2993.9730026744,
          2992.5719098980585,
          2990.986849831019,
          2989.215934287996,
          2987.25953279381,
          2985.1195947123038,
          2982.799210913513,
          2980.302305065315,
          2977.6334010544774,
          2974.7974395961687,
          2971.799630201678,
          2968.6453312216213,
          2965.3399538284534,
          2961.8888871433674,
          2958.2974421270073,
          2954.570811853212,
          2950.7140456701995,
          2946.732034686593,
          2942.6295060699235,
          2938.4110238218746,
          2934.08099397216,
          2929.6436724714627,
          2925.1031744225347,
          2920.463483633558,
          2915.728461786054,
          2910.9018567681646,
          2905.9873099291294,
          2900.988362164357,
          2895.9084588487153,
          2890.750953706266,
          2885.519111745762,
          2880.216111410285,
          2874.8450460929225,
          2869.4089251635623,
          2863.91067463878,
          2858.353137610399,
          2852.7390745306957,
          2847.0711634348527,
          2841.3520001649567,
          2835.584098645157,
          2829.7698912447245,
          2823.9117292547453,
          2818.0118834949794,
          2812.072545059866,
          2806.0958262066106,
          2800.0837613835197,
          2794.0383083931306,
          2787.9613496819843,
          2781.8546937469914,
          2775.7200766470864,
          2769.5591636081344,
          2763.373550708739,
          2757.1647666346157,
          2750.9342744894575,
          2744.683473650674,
          2738.4137016589784,
          2732.1262361314753,
          2725.822296688653,
          2719.503046886454,
          2713.169596145397,
          2706.8230016694906,
          2700.464270348457,
          2694.094360637512,
          2687.7141844096554,
          2681.324608776076,
          2674.9264578709153,
          2668.5205145971854,
          2662.1075223311877,
          2655.68818658326,
          2649.263176613116,
          2642.8331269984596,
          2636.3986391559115,
          2629.9602828136058,
          2623.518597435123,
          2617.0740935946646,
          2610.627254303617,
          2604.17853628884,
          2597.7283712231997,
          2591.277166909009,
          2584.82530841516,
          2578.3731591688606,
          2571.9210620029535,
          2565.4693401598906,
          2559.01829825348,
          2552.5682231895826,
          2546.119385046956,
          2539.6720379194853,
          2533.226420721043,
          2526.7827579542286,
          2520.3412604442547,
          2513.902126039218,
          2507.465540278005,
          2501.0316770270524,
          2494.6006990871715,
          2488.1727587716227
         ]
        }
       ],
       "frames": [],
       "layout": {
        "legend": {
         "title": "Legend Title"
        },
        "margin": {
         "b": 50,
         "l": 50,
         "r": 50,
         "t": 60
        },
        "template": {
         "data": {
          "bar": [
           {
            "error_x": {
             "color": "#2a3f5f"
            },
            "error_y": {
             "color": "#2a3f5f"
            },
            "marker": {
             "line": {
              "color": "#E5ECF6",
              "width": 0.5
             }
            },
            "type": "bar"
           }
          ],
          "barpolar": [
           {
            "marker": {
             "line": {
              "color": "#E5ECF6",
              "width": 0.5
             }
            },
            "type": "barpolar"
           }
          ],
          "carpet": [
           {
            "aaxis": {
             "endlinecolor": "#2a3f5f",
             "gridcolor": "white",
             "linecolor": "white",
             "minorgridcolor": "white",
             "startlinecolor": "#2a3f5f"
            },
            "baxis": {
             "endlinecolor": "#2a3f5f",
             "gridcolor": "white",
             "linecolor": "white",
             "minorgridcolor": "white",
             "startlinecolor": "#2a3f5f"
            },
            "type": "carpet"
           }
          ],
          "choropleth": [
           {
            "colorbar": {
             "outlinewidth": 0,
             "ticks": ""
            },
            "type": "choropleth"
           }
          ],
          "contour": [
           {
            "colorbar": {
             "outlinewidth": 0,
             "ticks": ""
            },
            "colorscale": [
             [
              0,
              "#0d0887"
             ],
             [
              0.1111111111111111,
              "#46039f"
             ],
             [
              0.2222222222222222,
              "#7201a8"
             ],
             [
              0.3333333333333333,
              "#9c179e"
             ],
             [
              0.4444444444444444,
              "#bd3786"
             ],
             [
              0.5555555555555556,
              "#d8576b"
             ],
             [
              0.6666666666666666,
              "#ed7953"
             ],
             [
              0.7777777777777778,
              "#fb9f3a"
             ],
             [
              0.8888888888888888,
              "#fdca26"
             ],
             [
              1,
              "#f0f921"
             ]
            ],
            "type": "contour"
           }
          ],
          "contourcarpet": [
           {
            "colorbar": {
             "outlinewidth": 0,
             "ticks": ""
            },
            "type": "contourcarpet"
           }
          ],
          "heatmap": [
           {
            "colorbar": {
             "outlinewidth": 0,
             "ticks": ""
            },
            "colorscale": [
             [
              0,
              "#0d0887"
             ],
             [
              0.1111111111111111,
              "#46039f"
             ],
             [
              0.2222222222222222,
              "#7201a8"
             ],
             [
              0.3333333333333333,
              "#9c179e"
             ],
             [
              0.4444444444444444,
              "#bd3786"
             ],
             [
              0.5555555555555556,
              "#d8576b"
             ],
             [
              0.6666666666666666,
              "#ed7953"
             ],
             [
              0.7777777777777778,
              "#fb9f3a"
             ],
             [
              0.8888888888888888,
              "#fdca26"
             ],
             [
              1,
              "#f0f921"
             ]
            ],
            "type": "heatmap"
           }
          ],
          "heatmapgl": [
           {
            "colorbar": {
             "outlinewidth": 0,
             "ticks": ""
            },
            "colorscale": [
             [
              0,
              "#0d0887"
             ],
             [
              0.1111111111111111,
              "#46039f"
             ],
             [
              0.2222222222222222,
              "#7201a8"
             ],
             [
              0.3333333333333333,
              "#9c179e"
             ],
             [
              0.4444444444444444,
              "#bd3786"
             ],
             [
              0.5555555555555556,
              "#d8576b"
             ],
             [
              0.6666666666666666,
              "#ed7953"
             ],
             [
              0.7777777777777778,
              "#fb9f3a"
             ],
             [
              0.8888888888888888,
              "#fdca26"
             ],
             [
              1,
              "#f0f921"
             ]
            ],
            "type": "heatmapgl"
           }
          ],
          "histogram": [
           {
            "marker": {
             "colorbar": {
              "outlinewidth": 0,
              "ticks": ""
             }
            },
            "type": "histogram"
           }
          ],
          "histogram2d": [
           {
            "colorbar": {
             "outlinewidth": 0,
             "ticks": ""
            },
            "colorscale": [
             [
              0,
              "#0d0887"
             ],
             [
              0.1111111111111111,
              "#46039f"
             ],
             [
              0.2222222222222222,
              "#7201a8"
             ],
             [
              0.3333333333333333,
              "#9c179e"
             ],
             [
              0.4444444444444444,
              "#bd3786"
             ],
             [
              0.5555555555555556,
              "#d8576b"
             ],
             [
              0.6666666666666666,
              "#ed7953"
             ],
             [
              0.7777777777777778,
              "#fb9f3a"
             ],
             [
              0.8888888888888888,
              "#fdca26"
             ],
             [
              1,
              "#f0f921"
             ]
            ],
            "type": "histogram2d"
           }
          ],
          "histogram2dcontour": [
           {
            "colorbar": {
             "outlinewidth": 0,
             "ticks": ""
            },
            "colorscale": [
             [
              0,
              "#0d0887"
             ],
             [
              0.1111111111111111,
              "#46039f"
             ],
             [
              0.2222222222222222,
              "#7201a8"
             ],
             [
              0.3333333333333333,
              "#9c179e"
             ],
             [
              0.4444444444444444,
              "#bd3786"
             ],
             [
              0.5555555555555556,
              "#d8576b"
             ],
             [
              0.6666666666666666,
              "#ed7953"
             ],
             [
              0.7777777777777778,
              "#fb9f3a"
             ],
             [
              0.8888888888888888,
              "#fdca26"
             ],
             [
              1,
              "#f0f921"
             ]
            ],
            "type": "histogram2dcontour"
           }
          ],
          "mesh3d": [
           {
            "colorbar": {
             "outlinewidth": 0,
             "ticks": ""
            },
            "type": "mesh3d"
           }
          ],
          "parcoords": [
           {
            "line": {
             "colorbar": {
              "outlinewidth": 0,
              "ticks": ""
             }
            },
            "type": "parcoords"
           }
          ],
          "pie": [
           {
            "automargin": true,
            "type": "pie"
           }
          ],
          "scatter": [
           {
            "marker": {
             "colorbar": {
              "outlinewidth": 0,
              "ticks": ""
             }
            },
            "type": "scatter"
           }
          ],
          "scatter3d": [
           {
            "line": {
             "colorbar": {
              "outlinewidth": 0,
              "ticks": ""
             }
            },
            "marker": {
             "colorbar": {
              "outlinewidth": 0,
              "ticks": ""
             }
            },
            "type": "scatter3d"
           }
          ],
          "scattercarpet": [
           {
            "marker": {
             "colorbar": {
              "outlinewidth": 0,
              "ticks": ""
             }
            },
            "type": "scattercarpet"
           }
          ],
          "scattergeo": [
           {
            "marker": {
             "colorbar": {
              "outlinewidth": 0,
              "ticks": ""
             }
            },
            "type": "scattergeo"
           }
          ],
          "scattergl": [
           {
            "marker": {
             "colorbar": {
              "outlinewidth": 0,
              "ticks": ""
             }
            },
            "type": "scattergl"
           }
          ],
          "scattermapbox": [
           {
            "marker": {
             "colorbar": {
              "outlinewidth": 0,
              "ticks": ""
             }
            },
            "type": "scattermapbox"
           }
          ],
          "scatterpolar": [
           {
            "marker": {
             "colorbar": {
              "outlinewidth": 0,
              "ticks": ""
             }
            },
            "type": "scatterpolar"
           }
          ],
          "scatterpolargl": [
           {
            "marker": {
             "colorbar": {
              "outlinewidth": 0,
              "ticks": ""
             }
            },
            "type": "scatterpolargl"
           }
          ],
          "scatterternary": [
           {
            "marker": {
             "colorbar": {
              "outlinewidth": 0,
              "ticks": ""
             }
            },
            "type": "scatterternary"
           }
          ],
          "surface": [
           {
            "colorbar": {
             "outlinewidth": 0,
             "ticks": ""
            },
            "colorscale": [
             [
              0,
              "#0d0887"
             ],
             [
              0.1111111111111111,
              "#46039f"
             ],
             [
              0.2222222222222222,
              "#7201a8"
             ],
             [
              0.3333333333333333,
              "#9c179e"
             ],
             [
              0.4444444444444444,
              "#bd3786"
             ],
             [
              0.5555555555555556,
              "#d8576b"
             ],
             [
              0.6666666666666666,
              "#ed7953"
             ],
             [
              0.7777777777777778,
              "#fb9f3a"
             ],
             [
              0.8888888888888888,
              "#fdca26"
             ],
             [
              1,
              "#f0f921"
             ]
            ],
            "type": "surface"
           }
          ],
          "table": [
           {
            "cells": {
             "fill": {
              "color": "#EBF0F8"
             },
             "line": {
              "color": "white"
             }
            },
            "header": {
             "fill": {
              "color": "#C8D4E3"
             },
             "line": {
              "color": "white"
             }
            },
            "type": "table"
           }
          ]
         },
         "layout": {
          "annotationdefaults": {
           "arrowcolor": "#2a3f5f",
           "arrowhead": 0,
           "arrowwidth": 1
          },
          "autotypenumbers": "strict",
          "coloraxis": {
           "colorbar": {
            "outlinewidth": 0,
            "ticks": ""
           }
          },
          "colorscale": {
           "diverging": [
            [
             0,
             "#8e0152"
            ],
            [
             0.1,
             "#c51b7d"
            ],
            [
             0.2,
             "#de77ae"
            ],
            [
             0.3,
             "#f1b6da"
            ],
            [
             0.4,
             "#fde0ef"
            ],
            [
             0.5,
             "#f7f7f7"
            ],
            [
             0.6,
             "#e6f5d0"
            ],
            [
             0.7,
             "#b8e186"
            ],
            [
             0.8,
             "#7fbc41"
            ],
            [
             0.9,
             "#4d9221"
            ],
            [
             1,
             "#276419"
            ]
           ],
           "sequential": [
            [
             0,
             "#0d0887"
            ],
            [
             0.1111111111111111,
             "#46039f"
            ],
            [
             0.2222222222222222,
             "#7201a8"
            ],
            [
             0.3333333333333333,
             "#9c179e"
            ],
            [
             0.4444444444444444,
             "#bd3786"
            ],
            [
             0.5555555555555556,
             "#d8576b"
            ],
            [
             0.6666666666666666,
             "#ed7953"
            ],
            [
             0.7777777777777778,
             "#fb9f3a"
            ],
            [
             0.8888888888888888,
             "#fdca26"
            ],
            [
             1,
             "#f0f921"
            ]
           ],
           "sequentialminus": [
            [
             0,
             "#0d0887"
            ],
            [
             0.1111111111111111,
             "#46039f"
            ],
            [
             0.2222222222222222,
             "#7201a8"
            ],
            [
             0.3333333333333333,
             "#9c179e"
            ],
            [
             0.4444444444444444,
             "#bd3786"
            ],
            [
             0.5555555555555556,
             "#d8576b"
            ],
            [
             0.6666666666666666,
             "#ed7953"
            ],
            [
             0.7777777777777778,
             "#fb9f3a"
            ],
            [
             0.8888888888888888,
             "#fdca26"
            ],
            [
             1,
             "#f0f921"
            ]
           ]
          },
          "colorway": [
           "#636efa",
           "#EF553B",
           "#00cc96",
           "#ab63fa",
           "#FFA15A",
           "#19d3f3",
           "#FF6692",
           "#B6E880",
           "#FF97FF",
           "#FECB52"
          ],
          "font": {
           "color": "#2a3f5f"
          },
          "geo": {
           "bgcolor": "white",
           "lakecolor": "white",
           "landcolor": "#E5ECF6",
           "showlakes": true,
           "showland": true,
           "subunitcolor": "white"
          },
          "hoverlabel": {
           "align": "left"
          },
          "hovermode": "closest",
          "mapbox": {
           "style": "light"
          },
          "paper_bgcolor": "white",
          "plot_bgcolor": "#E5ECF6",
          "polar": {
           "angularaxis": {
            "gridcolor": "white",
            "linecolor": "white",
            "ticks": ""
           },
           "bgcolor": "#E5ECF6",
           "radialaxis": {
            "gridcolor": "white",
            "linecolor": "white",
            "ticks": ""
           }
          },
          "scene": {
           "xaxis": {
            "backgroundcolor": "#E5ECF6",
            "gridcolor": "white",
            "gridwidth": 2,
            "linecolor": "white",
            "showbackground": true,
            "ticks": "",
            "zerolinecolor": "white"
           },
           "yaxis": {
            "backgroundcolor": "#E5ECF6",
            "gridcolor": "white",
            "gridwidth": 2,
            "linecolor": "white",
            "showbackground": true,
            "ticks": "",
            "zerolinecolor": "white"
           },
           "zaxis": {
            "backgroundcolor": "#E5ECF6",
            "gridcolor": "white",
            "gridwidth": 2,
            "linecolor": "white",
            "showbackground": true,
            "ticks": "",
            "zerolinecolor": "white"
           }
          },
          "shapedefaults": {
           "line": {
            "color": "#2a3f5f"
           }
          },
          "ternary": {
           "aaxis": {
            "gridcolor": "white",
            "linecolor": "white",
            "ticks": ""
           },
           "baxis": {
            "gridcolor": "white",
            "linecolor": "white",
            "ticks": ""
           },
           "bgcolor": "#E5ECF6",
           "caxis": {
            "gridcolor": "white",
            "linecolor": "white",
            "ticks": ""
           }
          },
          "title": {
           "x": 0.05
          },
          "xaxis": {
           "automargin": true,
           "gridcolor": "white",
           "linecolor": "white",
           "ticks": "",
           "title": {
            "standoff": 15
           },
           "zerolinecolor": "white",
           "zerolinewidth": 2
          },
          "yaxis": {
           "automargin": true,
           "gridcolor": "white",
           "linecolor": "white",
           "ticks": "",
           "title": {
            "standoff": 15
           },
           "zerolinecolor": "white",
           "zerolinewidth": 2
          }
         }
        },
        "title": "Position Measurement",
        "xaxis": {
         "title": {
          "text": "Time (second)"
         }
        },
        "yaxis": {
         "title": {
          "text": "Position (meters)"
         }
        }
       }
      },
      "text/html": [
       "<div\n",
       "    class=\"webio-mountpoint\"\n",
       "    data-webio-mountpoint=\"12551040303304834707\"\n",
       ">\n",
       "    <script>\n",
       "    (function(){\n",
       "    // Some integrations (namely, IJulia/Jupyter) use an alternate render pathway than\n",
       "    // just putting the html on the page. If WebIO isn't defined, then it's pretty likely\n",
       "    // that we're in one of those situations and the integration just isn't installed\n",
       "    // correctly.\n",
       "    if (typeof window.WebIO === \"undefined\") {\n",
       "        document\n",
       "            .querySelector('[data-webio-mountpoint=\"12551040303304834707\"]')\n",
       "            .innerHTML = (\n",
       "                '<div style=\"padding: 1em; background-color: #f8d6da; border: 1px solid #f5c6cb; font-weight: bold;\">' +\n",
       "                '<p><strong>WebIO not detected.</strong></p>' +\n",
       "                '<p>Please read ' +\n",
       "                '<a href=\"https://juliagizmos.github.io/WebIO.jl/latest/troubleshooting/not-detected/\" target=\"_blank\">the troubleshooting guide</a> ' +\n",
       "                'for more information on how to resolve this issue.</p>' +\n",
       "                '<p><a href=\"https://juliagizmos.github.io/WebIO.jl/latest/troubleshooting/not-detected/\" target=\"_blank\">https://juliagizmos.github.io/WebIO.jl/latest/troubleshooting/not-detected/</a></p>' +\n",
       "                '</div>'\n",
       "            );\n",
       "        return;\n",
       "    }\n",
       "    WebIO.mount(\n",
       "        document.querySelector('[data-webio-mountpoint=\"12551040303304834707\"]'),\n",
       "        {\"props\":{},\"nodeType\":\"Scope\",\"type\":\"node\",\"instanceArgs\":{\"imports\":{\"data\":[{\"name\":\"Plotly\",\"type\":\"js\",\"url\":\"\\/assetserver\\/f1f31522542ba34e1849be681911375aff952802-plotly.min.js\"},{\"name\":null,\"type\":\"js\",\"url\":\"\\/assetserver\\/124350e26addc0808d4fb3786957e66ae0b75a7e-plotly_webio.bundle.js\"}],\"type\":\"async_block\"},\"id\":\"1845698723513975232\",\"handlers\":{\"_toImage\":[\"(function (options){return this.Plotly.toImage(this.plotElem,options).then((function (data){return WebIO.setval({\\\"name\\\":\\\"image\\\",\\\"scope\\\":\\\"1845698723513975232\\\",\\\"id\\\":\\\"10356493883091745296\\\",\\\"type\\\":\\\"observable\\\"},data)}))})\"],\"__get_gd_contents\":[\"(function (prop){prop==\\\"data\\\" ? (WebIO.setval({\\\"name\\\":\\\"__gd_contents\\\",\\\"scope\\\":\\\"1845698723513975232\\\",\\\"id\\\":\\\"15493133344669072099\\\",\\\"type\\\":\\\"observable\\\"},this.plotElem.data)) : undefined; return prop==\\\"layout\\\" ? (WebIO.setval({\\\"name\\\":\\\"__gd_contents\\\",\\\"scope\\\":\\\"1845698723513975232\\\",\\\"id\\\":\\\"15493133344669072099\\\",\\\"type\\\":\\\"observable\\\"},this.plotElem.layout)) : undefined})\"],\"_downloadImage\":[\"(function (options){return this.Plotly.downloadImage(this.plotElem,options)})\"],\"_commands\":[\"(function (args){var fn=args.shift(); var elem=this.plotElem; var Plotly=this.Plotly; args.unshift(elem); return Plotly[fn].apply(this,args)})\"]},\"systemjs_options\":null,\"mount_callbacks\":[\"function () {\\n    var handler = ((function (Plotly,PlotlyWebIO){PlotlyWebIO.init(WebIO); var gd=this.dom.querySelector(\\\"#plot-0439ce0b-4512-4b3d-9fcd-a2e6f305607f\\\"); this.plotElem=gd; this.Plotly=Plotly; (window.Blink!==undefined) ? (gd.style.width=\\\"100%\\\", gd.style.height=\\\"100vh\\\", gd.style.marginLeft=\\\"0%\\\", gd.style.marginTop=\\\"0vh\\\") : undefined; window.onresize=(function (){return Plotly.Plots.resize(gd)}); Plotly.newPlot(gd,[{\\\"mode\\\":\\\"markers\\\",\\\"y\\\":[3019.897382423571,3019.574873249816,3019.0332628489627,3018.273651483815,3017.297443091601,3016.10633742,3014.702320609538,3013.087654331168,3011.264863602305,3009.2367234167436,3007.006244333493,3004.5766571766144,3001.9513970025455,2999.1340864932304,2996.128518932724,2992.938640921968,2989.5685349813343,2986.0224021835547,2982.30454495103,2978.419350141562,2974.371272535524,2970.164818825688,2965.804532198631,2961.2949775840984,2956.640727636187,2951.8463494978764,2946.9163923885417,2941.8553760427408,2936.667780017915,2931.35803387881,2925.9305082574356,2920.3895067793264,2914.739258839744,2908.983913207282,2903.1275324270787,2897.174087991475,2891.127456242458,2884.99141496749,2878.769640648368,2872.465706321423,2866.083080006686,2859.6251236634516,2853.0950926299847,2846.4961355057994,2839.8312944359814,2833.1035057583435,2826.3156009757417,2819.4703080175987,2812.5702527565404,2805.617960747983,2798.6158591625053,2791.5662788828686,2784.4714567395617,2777.3335378607417,2770.154578114394,2762.9365466224335,2755.6813283282804,2748.3907266012043,2741.0664658623664,2733.7101942190798,2726.3234860952575,2718.907844847413,2711.464705356848,2703.9954365898616,2696.5013441189053,2688.9836725986183,2681.4436081916037,2673.8822809396465,2666.300767076843,2658.700091281794,2651.0812288666507,2643.445107901349,2635.792611271875,2628.124578671852,2620.4418085271122,2612.7450598532987,2605.0350540468025,2597.312476609642,2589.5779788090886,2581.8321792730553,2574.075665522428,2566.3089954416428,2558.5326986889468,2550.7472780478565,2542.9532107214104,2535.150949570859,2527.3409243004926,2519.5235425903093,2511.6991911782684,2503.8682368938594,2496.0310276447212,2488.187893358035,2480.3391468783934,2472.4850848238225,2464.625988401612,2456.7621241855672,2448.8937448562624,2441.021089905843,2433.1443863088725,2425.263849160684],\\\"type\\\":\\\"scatter\\\",\\\"name\\\":\\\"True Position\\\",\\\"x\\\":[0.0,0.15,0.3,0.44999999999999996,0.6,0.75,0.8999999999999999,1.05,1.2,1.3499999999999999,1.5,1.65,1.7999999999999998,1.95,2.1,2.25,2.4,2.55,2.6999999999999997,2.85,3.0,3.15,3.3,3.4499999999999997,3.5999999999999996,3.75,3.9,4.05,4.2,4.35,4.5,4.6499999999999995,4.8,4.95,5.1,5.25,5.3999999999999995,5.55,5.7,5.85,6.0,6.1499999999999995,6.3,6.45,6.6,6.75,6.8999999999999995,7.05,7.199999999999999,7.35,7.5,7.6499999999999995,7.8,7.949999999999999,8.1,8.25,8.4,8.549999999999999,8.7,8.85,9.0,9.15,9.299999999999999,9.45,9.6,9.75,9.9,10.049999999999999,10.2,10.35,10.5,10.65,10.799999999999999,10.95,11.1,11.25,11.4,11.549999999999999,11.7,11.85,12.0,12.15,12.299999999999999,12.45,12.6,12.75,12.9,13.049999999999999,13.2,13.35,13.5,13.65,13.799999999999999,13.95,14.1,14.25,14.399999999999999,14.549999999999999,14.7,14.85]},{\\\"mode\\\":\\\"markers\\\",\\\"y\\\":[2998.776779922759,2997.9644225346187,2997.1584006092526,2996.250117518064,2995.1954308934496,2993.9730026744,2992.5719098980585,2990.986849831019,2989.215934287996,2987.25953279381,2985.1195947123038,2982.799210913513,2980.302305065315,2977.6334010544774,2974.7974395961687,2971.799630201678,2968.6453312216213,2965.3399538284534,2961.8888871433674,2958.2974421270073,2954.570811853212,2950.7140456701995,2946.732034686593,2942.6295060699235,2938.4110238218746,2934.08099397216,2929.6436724714627,2925.1031744225347,2920.463483633558,2915.728461786054,2910.9018567681646,2905.9873099291294,2900.988362164357,2895.9084588487153,2890.750953706266,2885.519111745762,2880.216111410285,2874.8450460929225,2869.4089251635623,2863.91067463878,2858.353137610399,2852.7390745306957,2847.0711634348527,2841.3520001649567,2835.584098645157,2829.7698912447245,2823.9117292547453,2818.0118834949794,2812.072545059866,2806.0958262066106,2800.0837613835197,2794.0383083931306,2787.9613496819843,2781.8546937469914,2775.7200766470864,2769.5591636081344,2763.373550708739,2757.1647666346157,2750.9342744894575,2744.683473650674,2738.4137016589784,2732.1262361314753,2725.822296688653,2719.503046886454,2713.169596145397,2706.8230016694906,2700.464270348457,2694.094360637512,2687.7141844096554,2681.324608776076,2674.9264578709153,2668.5205145971854,2662.1075223311877,2655.68818658326,2649.263176613116,2642.8331269984596,2636.3986391559115,2629.9602828136058,2623.518597435123,2617.0740935946646,2610.627254303617,2604.17853628884,2597.7283712231997,2591.277166909009,2584.82530841516,2578.3731591688606,2571.9210620029535,2565.4693401598906,2559.01829825348,2552.5682231895826,2546.119385046956,2539.6720379194853,2533.226420721043,2526.7827579542286,2520.3412604442547,2513.902126039218,2507.465540278005,2501.0316770270524,2494.6006990871715,2488.1727587716227],\\\"type\\\":\\\"scatter\\\",\\\"name\\\":\\\"Estimated Position\\\",\\\"error_y\\\":{\\\"type\\\":\\\"data\\\",\\\"array\\\":[55.84093726754983,39.51483733336743,32.29568647976628,28.02814890892569,25.16463358023035,23.109056823619976,21.57640849988775,20.410211960903354,19.515320021869794,18.828833227069058,18.306073885074547,17.913317808313835,17.623857969968675,17.415819997442142,17.270931054194495,17.17380975059332,17.111533293759422,17.073343463297977,17.05041517133819,17.03564875327182,17.023469241561287,17.00962824176032,16.991010210133844,16.965447312962546,16.931547245632476,16.88853748017014,16.83612807963992,16.774393876086716,16.703675671517896,16.62449927593577,16.537510649843455,16.44342513410978,16.34298867169107,16.23694899449326,16.1260349116138,16.01094204940335,15.892323627276388,15.7707850840653,15.646881584311087,15.52111762486204,15.393948126612468,15.265780534193745,15.136977559729827,15.007860298110309,14.878711513685355,14.749778954906837,14.621278597064613,14.493397746408656,14.366297963757338,14.240117783967401,14.11497522085278,13.990970056473817,13.868185920117286,13.746692166491567,13.62654556524498,13.507791815321601,13.390466898234555,13.274598284316781,13.160206005593434,13.047303608249011,12.93589899683877,12.82599518149143,12.717590938420837,12.610681393143805,12.505258534913798,12.4013116700402,12.298827820979595,12.197792077362713,12.098187904459639,11.999997413985108,11.903201601603186,11.807780555002235,11.713713635973635,11.620979639536612,11.529556932803047,11.439423575965867,11.350557427519322,11.26293623557501,11.17653771692107,11.091339625280288,11.00731981005333,10.924456266683343,10.842727179645752,10.762110958949897,10.682586270935808,10.604132064058042,10.526727590267786,10.450352422533186,10.374986468974933,10.30060998403847,10.227203577075096,10.154748218660819,10.083225244943417,10.012616360274308,9.942903638351755,9.874069522075516,9.806096822289497,9.73896871556831,9.672668741185184,9.607180797382515]},\\\"x\\\":[0.0,0.15,0.3,0.44999999999999996,0.6,0.75,0.8999999999999999,1.05,1.2,1.3499999999999999,1.5,1.65,1.7999999999999998,1.95,2.1,2.25,2.4,2.55,2.6999999999999997,2.85,3.0,3.15,3.3,3.4499999999999997,3.5999999999999996,3.75,3.9,4.05,4.2,4.35,4.5,4.6499999999999995,4.8,4.95,5.1,5.25,5.3999999999999995,5.55,5.7,5.85,6.0,6.1499999999999995,6.3,6.45,6.6,6.75,6.8999999999999995,7.05,7.199999999999999,7.35,7.5,7.6499999999999995,7.8,7.949999999999999,8.1,8.25,8.4,8.549999999999999,8.7,8.85,9.0,9.15,9.299999999999999,9.45,9.6,9.75,9.9,10.049999999999999,10.2,10.35,10.5,10.65,10.799999999999999,10.95,11.1,11.25,11.4,11.549999999999999,11.7,11.85,12.0,12.15,12.299999999999999,12.45,12.6,12.75,12.9,13.049999999999999,13.2,13.35,13.5,13.65,13.799999999999999,13.95,14.1,14.25,14.399999999999999,14.549999999999999,14.7,14.85]}],{\\\"xaxis\\\":{\\\"title\\\":{\\\"text\\\":\\\"Time (second)\\\"}},\\\"template\\\":{\\\"layout\\\":{\\\"coloraxis\\\":{\\\"colorbar\\\":{\\\"ticks\\\":\\\"\\\",\\\"outlinewidth\\\":0}},\\\"xaxis\\\":{\\\"gridcolor\\\":\\\"white\\\",\\\"zerolinewidth\\\":2,\\\"title\\\":{\\\"standoff\\\":15},\\\"ticks\\\":\\\"\\\",\\\"zerolinecolor\\\":\\\"white\\\",\\\"automargin\\\":true,\\\"linecolor\\\":\\\"white\\\"},\\\"hovermode\\\":\\\"closest\\\",\\\"paper_bgcolor\\\":\\\"white\\\",\\\"geo\\\":{\\\"showlakes\\\":true,\\\"showland\\\":true,\\\"landcolor\\\":\\\"#E5ECF6\\\",\\\"bgcolor\\\":\\\"white\\\",\\\"subunitcolor\\\":\\\"white\\\",\\\"lakecolor\\\":\\\"white\\\"},\\\"colorscale\\\":{\\\"sequential\\\":[[0.0,\\\"#0d0887\\\"],[0.1111111111111111,\\\"#46039f\\\"],[0.2222222222222222,\\\"#7201a8\\\"],[0.3333333333333333,\\\"#9c179e\\\"],[0.4444444444444444,\\\"#bd3786\\\"],[0.5555555555555556,\\\"#d8576b\\\"],[0.6666666666666666,\\\"#ed7953\\\"],[0.7777777777777778,\\\"#fb9f3a\\\"],[0.8888888888888888,\\\"#fdca26\\\"],[1.0,\\\"#f0f921\\\"]],\\\"diverging\\\":[[0,\\\"#8e0152\\\"],[0.1,\\\"#c51b7d\\\"],[0.2,\\\"#de77ae\\\"],[0.3,\\\"#f1b6da\\\"],[0.4,\\\"#fde0ef\\\"],[0.5,\\\"#f7f7f7\\\"],[0.6,\\\"#e6f5d0\\\"],[0.7,\\\"#b8e186\\\"],[0.8,\\\"#7fbc41\\\"],[0.9,\\\"#4d9221\\\"],[1,\\\"#276419\\\"]],\\\"sequentialminus\\\":[[0.0,\\\"#0d0887\\\"],[0.1111111111111111,\\\"#46039f\\\"],[0.2222222222222222,\\\"#7201a8\\\"],[0.3333333333333333,\\\"#9c179e\\\"],[0.4444444444444444,\\\"#bd3786\\\"],[0.5555555555555556,\\\"#d8576b\\\"],[0.6666666666666666,\\\"#ed7953\\\"],[0.7777777777777778,\\\"#fb9f3a\\\"],[0.8888888888888888,\\\"#fdca26\\\"],[1.0,\\\"#f0f921\\\"]]},\\\"yaxis\\\":{\\\"gridcolor\\\":\\\"white\\\",\\\"zerolinewidth\\\":2,\\\"title\\\":{\\\"standoff\\\":15},\\\"ticks\\\":\\\"\\\",\\\"zerolinecolor\\\":\\\"white\\\",\\\"automargin\\\":true,\\\"linecolor\\\":\\\"white\\\"},\\\"shapedefaults\\\":{\\\"line\\\":{\\\"color\\\":\\\"#2a3f5f\\\"}},\\\"hoverlabel\\\":{\\\"align\\\":\\\"left\\\"},\\\"mapbox\\\":{\\\"style\\\":\\\"light\\\"},\\\"polar\\\":{\\\"angularaxis\\\":{\\\"gridcolor\\\":\\\"white\\\",\\\"ticks\\\":\\\"\\\",\\\"linecolor\\\":\\\"white\\\"},\\\"bgcolor\\\":\\\"#E5ECF6\\\",\\\"radialaxis\\\":{\\\"gridcolor\\\":\\\"white\\\",\\\"ticks\\\":\\\"\\\",\\\"linecolor\\\":\\\"white\\\"}},\\\"autotypenumbers\\\":\\\"strict\\\",\\\"font\\\":{\\\"color\\\":\\\"#2a3f5f\\\"},\\\"ternary\\\":{\\\"baxis\\\":{\\\"gridcolor\\\":\\\"white\\\",\\\"ticks\\\":\\\"\\\",\\\"linecolor\\\":\\\"white\\\"},\\\"bgcolor\\\":\\\"#E5ECF6\\\",\\\"caxis\\\":{\\\"gridcolor\\\":\\\"white\\\",\\\"ticks\\\":\\\"\\\",\\\"linecolor\\\":\\\"white\\\"},\\\"aaxis\\\":{\\\"gridcolor\\\":\\\"white\\\",\\\"ticks\\\":\\\"\\\",\\\"linecolor\\\":\\\"white\\\"}},\\\"annotationdefaults\\\":{\\\"arrowhead\\\":0,\\\"arrowwidth\\\":1,\\\"arrowcolor\\\":\\\"#2a3f5f\\\"},\\\"plot_bgcolor\\\":\\\"#E5ECF6\\\",\\\"title\\\":{\\\"x\\\":0.05},\\\"scene\\\":{\\\"xaxis\\\":{\\\"gridcolor\\\":\\\"white\\\",\\\"gridwidth\\\":2,\\\"backgroundcolor\\\":\\\"#E5ECF6\\\",\\\"ticks\\\":\\\"\\\",\\\"showbackground\\\":true,\\\"zerolinecolor\\\":\\\"white\\\",\\\"linecolor\\\":\\\"white\\\"},\\\"zaxis\\\":{\\\"gridcolor\\\":\\\"white\\\",\\\"gridwidth\\\":2,\\\"backgroundcolor\\\":\\\"#E5ECF6\\\",\\\"ticks\\\":\\\"\\\",\\\"showbackground\\\":true,\\\"zerolinecolor\\\":\\\"white\\\",\\\"linecolor\\\":\\\"white\\\"},\\\"yaxis\\\":{\\\"gridcolor\\\":\\\"white\\\",\\\"gridwidth\\\":2,\\\"backgroundcolor\\\":\\\"#E5ECF6\\\",\\\"ticks\\\":\\\"\\\",\\\"showbackground\\\":true,\\\"zerolinecolor\\\":\\\"white\\\",\\\"linecolor\\\":\\\"white\\\"}},\\\"colorway\\\":[\\\"#636efa\\\",\\\"#EF553B\\\",\\\"#00cc96\\\",\\\"#ab63fa\\\",\\\"#FFA15A\\\",\\\"#19d3f3\\\",\\\"#FF6692\\\",\\\"#B6E880\\\",\\\"#FF97FF\\\",\\\"#FECB52\\\"]},\\\"data\\\":{\\\"barpolar\\\":[{\\\"type\\\":\\\"barpolar\\\",\\\"marker\\\":{\\\"line\\\":{\\\"color\\\":\\\"#E5ECF6\\\",\\\"width\\\":0.5}}}],\\\"carpet\\\":[{\\\"aaxis\\\":{\\\"gridcolor\\\":\\\"white\\\",\\\"endlinecolor\\\":\\\"#2a3f5f\\\",\\\"minorgridcolor\\\":\\\"white\\\",\\\"startlinecolor\\\":\\\"#2a3f5f\\\",\\\"linecolor\\\":\\\"white\\\"},\\\"type\\\":\\\"carpet\\\",\\\"baxis\\\":{\\\"gridcolor\\\":\\\"white\\\",\\\"endlinecolor\\\":\\\"#2a3f5f\\\",\\\"minorgridcolor\\\":\\\"white\\\",\\\"startlinecolor\\\":\\\"#2a3f5f\\\",\\\"linecolor\\\":\\\"white\\\"}}],\\\"scatterpolar\\\":[{\\\"type\\\":\\\"scatterpolar\\\",\\\"marker\\\":{\\\"colorbar\\\":{\\\"ticks\\\":\\\"\\\",\\\"outlinewidth\\\":0}}}],\\\"parcoords\\\":[{\\\"line\\\":{\\\"colorbar\\\":{\\\"ticks\\\":\\\"\\\",\\\"outlinewidth\\\":0}},\\\"type\\\":\\\"parcoords\\\"}],\\\"scatter\\\":[{\\\"type\\\":\\\"scatter\\\",\\\"marker\\\":{\\\"colorbar\\\":{\\\"ticks\\\":\\\"\\\",\\\"outlinewidth\\\":0}}}],\\\"histogram2dcontour\\\":[{\\\"colorbar\\\":{\\\"ticks\\\":\\\"\\\",\\\"outlinewidth\\\":0},\\\"type\\\":\\\"histogram2dcontour\\\",\\\"colorscale\\\":[[0.0,\\\"#0d0887\\\"],[0.1111111111111111,\\\"#46039f\\\"],[0.2222222222222222,\\\"#7201a8\\\"],[0.3333333333333333,\\\"#9c179e\\\"],[0.4444444444444444,\\\"#bd3786\\\"],[0.5555555555555556,\\\"#d8576b\\\"],[0.6666666666666666,\\\"#ed7953\\\"],[0.7777777777777778,\\\"#fb9f3a\\\"],[0.8888888888888888,\\\"#fdca26\\\"],[1.0,\\\"#f0f921\\\"]]}],\\\"contour\\\":[{\\\"colorbar\\\":{\\\"ticks\\\":\\\"\\\",\\\"outlinewidth\\\":0},\\\"type\\\":\\\"contour\\\",\\\"colorscale\\\":[[0.0,\\\"#0d0887\\\"],[0.1111111111111111,\\\"#46039f\\\"],[0.2222222222222222,\\\"#7201a8\\\"],[0.3333333333333333,\\\"#9c179e\\\"],[0.4444444444444444,\\\"#bd3786\\\"],[0.5555555555555556,\\\"#d8576b\\\"],[0.6666666666666666,\\\"#ed7953\\\"],[0.7777777777777778,\\\"#fb9f3a\\\"],[0.8888888888888888,\\\"#fdca26\\\"],[1.0,\\\"#f0f921\\\"]]}],\\\"scattercarpet\\\":[{\\\"type\\\":\\\"scattercarpet\\\",\\\"marker\\\":{\\\"colorbar\\\":{\\\"ticks\\\":\\\"\\\",\\\"outlinewidth\\\":0}}}],\\\"mesh3d\\\":[{\\\"colorbar\\\":{\\\"ticks\\\":\\\"\\\",\\\"outlinewidth\\\":0},\\\"type\\\":\\\"mesh3d\\\"}],\\\"surface\\\":[{\\\"colorbar\\\":{\\\"ticks\\\":\\\"\\\",\\\"outlinewidth\\\":0},\\\"type\\\":\\\"surface\\\",\\\"colorscale\\\":[[0.0,\\\"#0d0887\\\"],[0.1111111111111111,\\\"#46039f\\\"],[0.2222222222222222,\\\"#7201a8\\\"],[0.3333333333333333,\\\"#9c179e\\\"],[0.4444444444444444,\\\"#bd3786\\\"],[0.5555555555555556,\\\"#d8576b\\\"],[0.6666666666666666,\\\"#ed7953\\\"],[0.7777777777777778,\\\"#fb9f3a\\\"],[0.8888888888888888,\\\"#fdca26\\\"],[1.0,\\\"#f0f921\\\"]]}],\\\"scattermapbox\\\":[{\\\"type\\\":\\\"scattermapbox\\\",\\\"marker\\\":{\\\"colorbar\\\":{\\\"ticks\\\":\\\"\\\",\\\"outlinewidth\\\":0}}}],\\\"scattergeo\\\":[{\\\"type\\\":\\\"scattergeo\\\",\\\"marker\\\":{\\\"colorbar\\\":{\\\"ticks\\\":\\\"\\\",\\\"outlinewidth\\\":0}}}],\\\"histogram\\\":[{\\\"type\\\":\\\"histogram\\\",\\\"marker\\\":{\\\"colorbar\\\":{\\\"ticks\\\":\\\"\\\",\\\"outlinewidth\\\":0}}}],\\\"pie\\\":[{\\\"type\\\":\\\"pie\\\",\\\"automargin\\\":true}],\\\"choropleth\\\":[{\\\"colorbar\\\":{\\\"ticks\\\":\\\"\\\",\\\"outlinewidth\\\":0},\\\"type\\\":\\\"choropleth\\\"}],\\\"heatmapgl\\\":[{\\\"colorbar\\\":{\\\"ticks\\\":\\\"\\\",\\\"outlinewidth\\\":0},\\\"type\\\":\\\"heatmapgl\\\",\\\"colorscale\\\":[[0.0,\\\"#0d0887\\\"],[0.1111111111111111,\\\"#46039f\\\"],[0.2222222222222222,\\\"#7201a8\\\"],[0.3333333333333333,\\\"#9c179e\\\"],[0.4444444444444444,\\\"#bd3786\\\"],[0.5555555555555556,\\\"#d8576b\\\"],[0.6666666666666666,\\\"#ed7953\\\"],[0.7777777777777778,\\\"#fb9f3a\\\"],[0.8888888888888888,\\\"#fdca26\\\"],[1.0,\\\"#f0f921\\\"]]}],\\\"bar\\\":[{\\\"type\\\":\\\"bar\\\",\\\"error_y\\\":{\\\"color\\\":\\\"#2a3f5f\\\"},\\\"error_x\\\":{\\\"color\\\":\\\"#2a3f5f\\\"},\\\"marker\\\":{\\\"line\\\":{\\\"color\\\":\\\"#E5ECF6\\\",\\\"width\\\":0.5}}}],\\\"heatmap\\\":[{\\\"colorbar\\\":{\\\"ticks\\\":\\\"\\\",\\\"outlinewidth\\\":0},\\\"type\\\":\\\"heatmap\\\",\\\"colorscale\\\":[[0.0,\\\"#0d0887\\\"],[0.1111111111111111,\\\"#46039f\\\"],[0.2222222222222222,\\\"#7201a8\\\"],[0.3333333333333333,\\\"#9c179e\\\"],[0.4444444444444444,\\\"#bd3786\\\"],[0.5555555555555556,\\\"#d8576b\\\"],[0.6666666666666666,\\\"#ed7953\\\"],[0.7777777777777778,\\\"#fb9f3a\\\"],[0.8888888888888888,\\\"#fdca26\\\"],[1.0,\\\"#f0f921\\\"]]}],\\\"contourcarpet\\\":[{\\\"colorbar\\\":{\\\"ticks\\\":\\\"\\\",\\\"outlinewidth\\\":0},\\\"type\\\":\\\"contourcarpet\\\"}],\\\"table\\\":[{\\\"type\\\":\\\"table\\\",\\\"header\\\":{\\\"line\\\":{\\\"color\\\":\\\"white\\\"},\\\"fill\\\":{\\\"color\\\":\\\"#C8D4E3\\\"}},\\\"cells\\\":{\\\"line\\\":{\\\"color\\\":\\\"white\\\"},\\\"fill\\\":{\\\"color\\\":\\\"#EBF0F8\\\"}}}],\\\"scatter3d\\\":[{\\\"line\\\":{\\\"colorbar\\\":{\\\"ticks\\\":\\\"\\\",\\\"outlinewidth\\\":0}},\\\"type\\\":\\\"scatter3d\\\",\\\"marker\\\":{\\\"colorbar\\\":{\\\"ticks\\\":\\\"\\\",\\\"outlinewidth\\\":0}}}],\\\"scattergl\\\":[{\\\"type\\\":\\\"scattergl\\\",\\\"marker\\\":{\\\"colorbar\\\":{\\\"ticks\\\":\\\"\\\",\\\"outlinewidth\\\":0}}}],\\\"histogram2d\\\":[{\\\"colorbar\\\":{\\\"ticks\\\":\\\"\\\",\\\"outlinewidth\\\":0},\\\"type\\\":\\\"histogram2d\\\",\\\"colorscale\\\":[[0.0,\\\"#0d0887\\\"],[0.1111111111111111,\\\"#46039f\\\"],[0.2222222222222222,\\\"#7201a8\\\"],[0.3333333333333333,\\\"#9c179e\\\"],[0.4444444444444444,\\\"#bd3786\\\"],[0.5555555555555556,\\\"#d8576b\\\"],[0.6666666666666666,\\\"#ed7953\\\"],[0.7777777777777778,\\\"#fb9f3a\\\"],[0.8888888888888888,\\\"#fdca26\\\"],[1.0,\\\"#f0f921\\\"]]}],\\\"scatterternary\\\":[{\\\"type\\\":\\\"scatterternary\\\",\\\"marker\\\":{\\\"colorbar\\\":{\\\"ticks\\\":\\\"\\\",\\\"outlinewidth\\\":0}}}],\\\"scatterpolargl\\\":[{\\\"type\\\":\\\"scatterpolargl\\\",\\\"marker\\\":{\\\"colorbar\\\":{\\\"ticks\\\":\\\"\\\",\\\"outlinewidth\\\":0}}}]}},\\\"legend\\\":{\\\"title\\\":\\\"Legend Title\\\"},\\\"margin\\\":{\\\"l\\\":50,\\\"b\\\":50,\\\"r\\\":50,\\\"t\\\":60},\\\"title\\\":\\\"Position Measurement\\\",\\\"yaxis\\\":{\\\"title\\\":{\\\"text\\\":\\\"Position (meters)\\\"}}},{\\\"showLink\\\":false,\\\"editable\\\":false,\\\"responsive\\\":true,\\\"staticPlot\\\":false,\\\"scrollZoom\\\":true}); gd.on(\\\"plotly_hover\\\",(function (data){var filtered_data=WebIO.PlotlyCommands.filterEventData(gd,data,\\\"hover\\\"); return !(filtered_data.isnil) ? (WebIO.setval({\\\"name\\\":\\\"hover\\\",\\\"scope\\\":\\\"1845698723513975232\\\",\\\"id\\\":\\\"3447553034478778816\\\",\\\"type\\\":\\\"observable\\\"},filtered_data.out)) : undefined})); gd.on(\\\"plotly_unhover\\\",(function (){return WebIO.setval({\\\"name\\\":\\\"hover\\\",\\\"scope\\\":\\\"1845698723513975232\\\",\\\"id\\\":\\\"3447553034478778816\\\",\\\"type\\\":\\\"observable\\\"},{})})); gd.on(\\\"plotly_selected\\\",(function (data){var filtered_data=WebIO.PlotlyCommands.filterEventData(gd,data,\\\"selected\\\"); return !(filtered_data.isnil) ? (WebIO.setval({\\\"name\\\":\\\"selected\\\",\\\"scope\\\":\\\"1845698723513975232\\\",\\\"id\\\":\\\"8610816867339906378\\\",\\\"type\\\":\\\"observable\\\"},filtered_data.out)) : undefined})); gd.on(\\\"plotly_deselect\\\",(function (){return WebIO.setval({\\\"name\\\":\\\"selected\\\",\\\"scope\\\":\\\"1845698723513975232\\\",\\\"id\\\":\\\"8610816867339906378\\\",\\\"type\\\":\\\"observable\\\"},{})})); gd.on(\\\"plotly_relayout\\\",(function (data){var filtered_data=WebIO.PlotlyCommands.filterEventData(gd,data,\\\"relayout\\\"); return !(filtered_data.isnil) ? (WebIO.setval({\\\"name\\\":\\\"relayout\\\",\\\"scope\\\":\\\"1845698723513975232\\\",\\\"id\\\":\\\"7090859158547512771\\\",\\\"type\\\":\\\"observable\\\"},filtered_data.out)) : undefined})); return gd.on(\\\"plotly_click\\\",(function (data){var filtered_data=WebIO.PlotlyCommands.filterEventData(gd,data,\\\"click\\\"); return !(filtered_data.isnil) ? (WebIO.setval({\\\"name\\\":\\\"click\\\",\\\"scope\\\":\\\"1845698723513975232\\\",\\\"id\\\":\\\"524035255054147584\\\",\\\"type\\\":\\\"observable\\\"},filtered_data.out)) : undefined}))}));\\n    (WebIO.importBlock({\\\"data\\\":[{\\\"name\\\":\\\"Plotly\\\",\\\"type\\\":\\\"js\\\",\\\"url\\\":\\\"\\/assetserver\\/f1f31522542ba34e1849be681911375aff952802-plotly.min.js\\\"},{\\\"name\\\":null,\\\"type\\\":\\\"js\\\",\\\"url\\\":\\\"\\/assetserver\\/124350e26addc0808d4fb3786957e66ae0b75a7e-plotly_webio.bundle.js\\\"}],\\\"type\\\":\\\"async_block\\\"})).then((imports) => handler.apply(this, imports));\\n}\\n\"],\"observables\":{\"_toImage\":{\"sync\":false,\"id\":\"12768658351427154883\",\"value\":{}},\"hover\":{\"sync\":false,\"id\":\"3447553034478778816\",\"value\":{}},\"selected\":{\"sync\":false,\"id\":\"8610816867339906378\",\"value\":{}},\"__gd_contents\":{\"sync\":false,\"id\":\"15493133344669072099\",\"value\":{}},\"click\":{\"sync\":false,\"id\":\"524035255054147584\",\"value\":{}},\"image\":{\"sync\":true,\"id\":\"10356493883091745296\",\"value\":\"\"},\"__get_gd_contents\":{\"sync\":false,\"id\":\"11650551511898607797\",\"value\":\"\"},\"_downloadImage\":{\"sync\":false,\"id\":\"6668241787390387206\",\"value\":{}},\"relayout\":{\"sync\":false,\"id\":\"7090859158547512771\",\"value\":{}},\"_commands\":{\"sync\":false,\"id\":\"170369284604146373\",\"value\":[]}}},\"children\":[{\"props\":{\"id\":\"plot-0439ce0b-4512-4b3d-9fcd-a2e6f305607f\"},\"nodeType\":\"DOM\",\"type\":\"node\",\"instanceArgs\":{\"namespace\":\"html\",\"tag\":\"div\"},\"children\":[]}]},\n",
       "        window,\n",
       "    );\n",
       "    })()\n",
       "    </script>\n",
       "</div>\n"
      ],
      "text/plain": [
       "data: [\n",
       "  \"scatter with fields mode, name, type, x, and y\",\n",
       "  \"scatter with fields error_y, mode, name, type, x, and y\"\n",
       "]\n",
       "\n",
       "layout: \"layout with fields legend, margin, template, title, xaxis, and yaxis\"\n",
       "\n"
      ]
     },
     "execution_count": 15,
     "metadata": {},
     "output_type": "execute_result"
    }
   ],
   "source": [
    "plot(\n",
    "    [\n",
    "        # True position\n",
    "        scatter(\n",
    "            mode=\"markers\",\n",
    "            x=time_axis_sec,\n",
    "            y=[tr_st[1] for tr_st in true_state_fcn_time],\n",
    "            name=\"True Position\"\n",
    "        ),\n",
    "        # Estimated position\n",
    "        scatter(\n",
    "            mode=\"markers\",\n",
    "            x=time_axis_sec,\n",
    "            y=[s.state[1] for s in states_fcn_time],\n",
    "            error_y=attr(\n",
    "                type=\"data\",\n",
    "                array=[sqrt(s.cov[1, 1]) for s in states_fcn_time]\n",
    "            ),\n",
    "            name=\"Estimated Position\"\n",
    "        )\n",
    "    ],\n",
    "    Layout(\n",
    "        title=\"Position Measurement\",\n",
    "        xaxis_title=\"Time (second)\",\n",
    "        yaxis_title=\"Position (meters)\",\n",
    "        legend_title=\"Legend Title\",\n",
    "    ),\n",
    "    config=PlotConfig(scrollZoom=true)\n",
    ")"
   ]
  },
  {
   "cell_type": "code",
   "execution_count": 16,
   "id": "d5e967dd",
   "metadata": {},
   "outputs": [
    {
     "data": {
      "application/vnd.plotly.v1+json": {
       "config": {
        "editable": false,
        "responsive": true,
        "scrollZoom": true,
        "showLink": false,
        "staticPlot": false
       },
       "data": [
        {
         "mode": "markers",
         "name": "True Velocity",
         "type": "scatter",
         "x": [
          0,
          0.15,
          0.3,
          0.44999999999999996,
          0.6,
          0.75,
          0.8999999999999999,
          1.05,
          1.2,
          1.3499999999999999,
          1.5,
          1.65,
          1.7999999999999998,
          1.95,
          2.1,
          2.25,
          2.4,
          2.55,
          2.6999999999999997,
          2.85,
          3,
          3.15,
          3.3,
          3.4499999999999997,
          3.5999999999999996,
          3.75,
          3.9,
          4.05,
          4.2,
          4.35,
          4.5,
          4.6499999999999995,
          4.8,
          4.95,
          5.1,
          5.25,
          5.3999999999999995,
          5.55,
          5.7,
          5.85,
          6,
          6.1499999999999995,
          6.3,
          6.45,
          6.6,
          6.75,
          6.8999999999999995,
          7.05,
          7.199999999999999,
          7.35,
          7.5,
          7.6499999999999995,
          7.8,
          7.949999999999999,
          8.1,
          8.25,
          8.4,
          8.549999999999999,
          8.7,
          8.85,
          9,
          9.15,
          9.299999999999999,
          9.45,
          9.6,
          9.75,
          9.9,
          10.049999999999999,
          10.2,
          10.35,
          10.5,
          10.65,
          10.799999999999999,
          10.95,
          11.1,
          11.25,
          11.4,
          11.549999999999999,
          11.7,
          11.85,
          12,
          12.15,
          12.299999999999999,
          12.45,
          12.6,
          12.75,
          12.9,
          13.049999999999999,
          13.2,
          13.35,
          13.5,
          13.65,
          13.799999999999999,
          13.95,
          14.1,
          14.25,
          14.399999999999999,
          14.549999999999999,
          14.7,
          14.85
         ],
         "y": [
          -1.4178813247209492,
          -2.8815369664407706,
          -4.338884050451041,
          -5.787875501096367,
          -7.226511280804608,
          -8.652849073906653,
          -10.065014298154756,
          -11.461209340075087,
          -12.839721925241717,
          -14.198932550805,
          -15.537320924694075,
          -16.853471373383044,
          -18.146077197517013,
          -19.413943971618156,
          -20.655991800154286,
          -21.87125655712368,
          -23.058890149719836,
          -24.21815985837984,
          -25.3484468154463,
          -26.449243692705192,
          -27.520151674178873,
          -28.560876794790005,
          -29.5712257279482,
          -30.551101105869304,
          -31.500496455669033,
          -32.4194908321539,
          -33.30824322495283,
          -34.16698681338966,
          -34.99602313748628,
          -35.795716247900664,
          -36.56648689162301,
          -37.3088067840439,
          -38.02319301171962,
          -38.71020260392241,
          -39.37042730498904,
          -40.00448857366038,
          -40.61303283011158,
          -41.19672696626099,
          -41.75625413025464,
          -42.292309791775764,
          -42.805598091035996,
          -43.296828470966,
          -43.766712589229115,
          -44.21596150421479,
          -44.64528312710675,
          -45.05537993043681,
          -45.446946902199265,
          -45.82066973358166,
          -46.17722322763251,
          -46.51726991570433,
          -46.84145886824858,
          -47.15042468646874,
          -47.444786661430314,
          -47.725148087455246,
          -47.99209571696969,
          -48.24619934440558,
          -48.4880115072588,
          -48.71806729296228,
          -48.9368842408256,
          -49.14496232891026,
          -49.34278403634086,
          -49.530814472186144,
          -49.70950156267334,
          -49.879276289117,
          -50.04055296954457,
          -50.19372957758088,
          -50.33918809270963,
          -50.47729487655901,
          -50.608401070359754,
          -50.73284300919566,
          -50.85094264910904,
          -50.96300800353629,
          -51.069333585932505,
          -51.17020085579894,
          -51.26587866565491,
          -51.35662370679661,
          -51.44268095196098,
          -51.524284093264505,
          -51.6016559740157,
          -51.67500901320776,
          -51.74454562168551,
          -51.810458609149904,
          -51.87293158131532,
          -51.93213932667066,
          -51.98824819241667,
          -52.04141644925948,
          -52.091794644835794,
          -52.13952594562911,
          -52.18474646731012,
          -52.227585593498745,
          -52.26816628300117,
          -52.30660536562331,
          -52.34301382670358,
          -52.377497080542675,
          -52.41015523293773,
          -52.44108333305255,
          -52.47037161487568,
          -52.498105728534206,
          -52.52436696174367,
          -52.54923245168394
         ]
        },
        {
         "error_y": {
          "array": [
           9.999988785098731,
           9.998176134852095,
           9.992764451018138,
           9.981976972214254,
           9.964078063494572,
           9.937404777272752,
           9.900405643217423,
           9.851684590385805,
           9.790047101116048,
           9.714545021988624,
           9.624516062851034,
           9.519614037754476,
           9.399826424982171,
           9.2654768427569,
           9.117211445505042,
           8.955969844942656,
           8.782942701995072,
           8.599519376765524,
           8.407229783819432,
           8.2076847988863,
           8.00251923040934,
           7.793340624907108,
           7.581686189581559,
           7.368989066889881,
           7.156554233040781,
           6.945543515423428,
           6.736968678952603,
           6.531691218473527,
           6.330427382381356,
           6.133756993863132,
           5.9421347795271195,
           5.755903114595307,
           5.57530531280978,
           5.400498802028083,
           5.231567717330629,
           5.068534604460347,
           4.911371055418773,
           4.7600071966068995,
           4.614340021634827,
           4.474240610314602,
           4.339560306970167,
           4.21013594925593,
           4.085794246791511,
           3.9663554100566776,
           3.8516361264753836,
           3.7414519742163024,
           3.6356193562434926,
           3.5339570284805646,
           3.4362872872275005,
           3.342436872592782,
           3.2522376369153907,
           3.165527020077569,
           3.0821483672975636,
           3.001951119437509,
           2.924790901028418,
           2.850529527046558,
           2.779034945908852,
           2.710181133122294,
           2.64384794745794,
           2.579920959362124,
           2.5182912595094527,
           2.4588552538931934,
           2.401514450593933,
           2.346175242327707,
           2.2927486880162555,
           2.241150295915526,
           2.191299810259166,
           2.1431210029004317,
           2.0965414710508514,
           2.05149244190207,
           2.00790858466601,
           1.965727830367171,
           1.924891199560843,
           1.8853426380247342,
           1.8470288603730598,
           1.809899201466284,
           1.7739054754323345,
           1.7390018420727007,
           1.7051446803965182,
           1.67229246900515,
           1.640405673036968,
           1.6094466373753973,
           1.579379485821492,
           1.5501700259343234,
           1.5217856592473562,
           1.4941952965760896,
           1.4673692781409586,
           1.4412792982393556,
           1.4158983342112768,
           1.391200579454224,
           1.367161380254352,
           1.3437571762122824,
           1.320965444053324,
           1.298764644622991,
           1.2771341728795436,
           1.2560543107057944,
           1.2355061823725395,
           1.215471712495673,
           1.1959335863383198,
           1.176875212318141
          ],
          "type": "data"
         },
         "mode": "markers",
         "name": "Estimated Velocity",
         "type": "scatter",
         "x": [
          0,
          0.15,
          0.3,
          0.44999999999999996,
          0.6,
          0.75,
          0.8999999999999999,
          1.05,
          1.2,
          1.3499999999999999,
          1.5,
          1.65,
          1.7999999999999998,
          1.95,
          2.1,
          2.25,
          2.4,
          2.55,
          2.6999999999999997,
          2.85,
          3,
          3.15,
          3.3,
          3.4499999999999997,
          3.5999999999999996,
          3.75,
          3.9,
          4.05,
          4.2,
          4.35,
          4.5,
          4.6499999999999995,
          4.8,
          4.95,
          5.1,
          5.25,
          5.3999999999999995,
          5.55,
          5.7,
          5.85,
          6,
          6.1499999999999995,
          6.3,
          6.45,
          6.6,
          6.75,
          6.8999999999999995,
          7.05,
          7.199999999999999,
          7.35,
          7.5,
          7.6499999999999995,
          7.8,
          7.949999999999999,
          8.1,
          8.25,
          8.4,
          8.549999999999999,
          8.7,
          8.85,
          9,
          9.15,
          9.299999999999999,
          9.45,
          9.6,
          9.75,
          9.9,
          10.049999999999999,
          10.2,
          10.35,
          10.5,
          10.65,
          10.799999999999999,
          10.95,
          11.1,
          11.25,
          11.4,
          11.549999999999999,
          11.7,
          11.85,
          12,
          12.15,
          12.299999999999999,
          12.45,
          12.6,
          12.75,
          12.9,
          13.049999999999999,
          13.2,
          13.35,
          13.5,
          13.65,
          13.799999999999999,
          13.95,
          14.1,
          14.25,
          14.399999999999999,
          14.549999999999999,
          14.7,
          14.85
         ],
         "y": [
          -1.4688964520650918,
          -2.939099833074311,
          -4.406422891100308,
          -5.8676990350487435,
          -7.319766509012192,
          -8.75951570908895,
          -10.183925952707906,
          -11.59009924451237,
          -12.975292384958115,
          -14.336947024747408,
          -15.672716632503267,
          -16.980489149430838,
          -18.2584041778338,
          -19.50486382005701,
          -20.718536693730524,
          -21.898355132440766,
          -23.043506065520305,
          -24.15341648771218,
          -25.227734726351375,
          -26.266308862596972,
          -27.269163663605443,
          -28.23647725710242,
          -29.168558566218035,
          -30.065826263381815,
          -30.92878973671566,
          -31.758032320819567,
          -32.55419684488645,
          -33.31797340268741,
          -34.05008915058519,
          -34.75129988519207,
          -35.4223831325866,
          -36.06413248647532,
          -36.67735295445317,
          -37.262857102241156,
          -37.821461819925624,
          -38.3539855679591,
          -38.861245991627754,
          -39.34405781958376,
          -39.80323098442273,
          -40.2395689212288,
          -40.653867013896395,
          -41.04691116941043,
          -41.4194765077204,
          -41.772326159954865,
          -42.106210171015675,
          -42.42186450451796,
          -42.72001014897763,
          -43.00135232439518,
          -43.26657978817975,
          -43.51636423888031,
          -43.75135981557419,
          -43.97220269010259,
          -44.179510748702874,
          -44.37388335901024,
          -44.55590121791271,
          -44.72612627535364,
          -44.88510172889002,
          -45.033352083628415,
          -45.17138327206666,
          -45.29968282835879,
          -45.418720111582786,
          -45.52894657271351,
          -45.630796060177055,
          -45.724685159075676,
          -45.811013559417006,
          -45.89016444894737,
          -45.96250492646953,
          -46.02838643181493,
          -46.088145188931875,
          -46.14210265884169,
          -46.1905659994997,
          -46.23382852987427,
          -46.27217019582317,
          -46.30585803560005,
          -46.33514664306399,
          -46.360278626890775,
          -46.38148506429537,
          -46.398985947971674,
          -46.41299062513643,
          -46.423698227731265,
          -46.43129809298935,
          -46.43597017371268,
          -46.437885437731566,
          -46.43720625613261,
          -46.4340867799433,
          -46.42867330505329,
          -46.42110462523398,
          -46.41151237319011,
          -46.40002134964084,
          -46.386749840483446,
          -46.37180992214119,
          -46.355307755238805,
          -46.33734386678481,
          -46.318013421070184,
          -46.29740647951841,
          -46.27560824974295,
          -46.25269932408517,
          -46.22875590791907,
          -46.20385003801989,
          -46.1780497913007
         ]
        }
       ],
       "frames": [],
       "layout": {
        "legend": {
         "title": "Legend Title"
        },
        "margin": {
         "b": 50,
         "l": 50,
         "r": 50,
         "t": 60
        },
        "template": {
         "data": {
          "bar": [
           {
            "error_x": {
             "color": "#2a3f5f"
            },
            "error_y": {
             "color": "#2a3f5f"
            },
            "marker": {
             "line": {
              "color": "#E5ECF6",
              "width": 0.5
             }
            },
            "type": "bar"
           }
          ],
          "barpolar": [
           {
            "marker": {
             "line": {
              "color": "#E5ECF6",
              "width": 0.5
             }
            },
            "type": "barpolar"
           }
          ],
          "carpet": [
           {
            "aaxis": {
             "endlinecolor": "#2a3f5f",
             "gridcolor": "white",
             "linecolor": "white",
             "minorgridcolor": "white",
             "startlinecolor": "#2a3f5f"
            },
            "baxis": {
             "endlinecolor": "#2a3f5f",
             "gridcolor": "white",
             "linecolor": "white",
             "minorgridcolor": "white",
             "startlinecolor": "#2a3f5f"
            },
            "type": "carpet"
           }
          ],
          "choropleth": [
           {
            "colorbar": {
             "outlinewidth": 0,
             "ticks": ""
            },
            "type": "choropleth"
           }
          ],
          "contour": [
           {
            "colorbar": {
             "outlinewidth": 0,
             "ticks": ""
            },
            "colorscale": [
             [
              0,
              "#0d0887"
             ],
             [
              0.1111111111111111,
              "#46039f"
             ],
             [
              0.2222222222222222,
              "#7201a8"
             ],
             [
              0.3333333333333333,
              "#9c179e"
             ],
             [
              0.4444444444444444,
              "#bd3786"
             ],
             [
              0.5555555555555556,
              "#d8576b"
             ],
             [
              0.6666666666666666,
              "#ed7953"
             ],
             [
              0.7777777777777778,
              "#fb9f3a"
             ],
             [
              0.8888888888888888,
              "#fdca26"
             ],
             [
              1,
              "#f0f921"
             ]
            ],
            "type": "contour"
           }
          ],
          "contourcarpet": [
           {
            "colorbar": {
             "outlinewidth": 0,
             "ticks": ""
            },
            "type": "contourcarpet"
           }
          ],
          "heatmap": [
           {
            "colorbar": {
             "outlinewidth": 0,
             "ticks": ""
            },
            "colorscale": [
             [
              0,
              "#0d0887"
             ],
             [
              0.1111111111111111,
              "#46039f"
             ],
             [
              0.2222222222222222,
              "#7201a8"
             ],
             [
              0.3333333333333333,
              "#9c179e"
             ],
             [
              0.4444444444444444,
              "#bd3786"
             ],
             [
              0.5555555555555556,
              "#d8576b"
             ],
             [
              0.6666666666666666,
              "#ed7953"
             ],
             [
              0.7777777777777778,
              "#fb9f3a"
             ],
             [
              0.8888888888888888,
              "#fdca26"
             ],
             [
              1,
              "#f0f921"
             ]
            ],
            "type": "heatmap"
           }
          ],
          "heatmapgl": [
           {
            "colorbar": {
             "outlinewidth": 0,
             "ticks": ""
            },
            "colorscale": [
             [
              0,
              "#0d0887"
             ],
             [
              0.1111111111111111,
              "#46039f"
             ],
             [
              0.2222222222222222,
              "#7201a8"
             ],
             [
              0.3333333333333333,
              "#9c179e"
             ],
             [
              0.4444444444444444,
              "#bd3786"
             ],
             [
              0.5555555555555556,
              "#d8576b"
             ],
             [
              0.6666666666666666,
              "#ed7953"
             ],
             [
              0.7777777777777778,
              "#fb9f3a"
             ],
             [
              0.8888888888888888,
              "#fdca26"
             ],
             [
              1,
              "#f0f921"
             ]
            ],
            "type": "heatmapgl"
           }
          ],
          "histogram": [
           {
            "marker": {
             "colorbar": {
              "outlinewidth": 0,
              "ticks": ""
             }
            },
            "type": "histogram"
           }
          ],
          "histogram2d": [
           {
            "colorbar": {
             "outlinewidth": 0,
             "ticks": ""
            },
            "colorscale": [
             [
              0,
              "#0d0887"
             ],
             [
              0.1111111111111111,
              "#46039f"
             ],
             [
              0.2222222222222222,
              "#7201a8"
             ],
             [
              0.3333333333333333,
              "#9c179e"
             ],
             [
              0.4444444444444444,
              "#bd3786"
             ],
             [
              0.5555555555555556,
              "#d8576b"
             ],
             [
              0.6666666666666666,
              "#ed7953"
             ],
             [
              0.7777777777777778,
              "#fb9f3a"
             ],
             [
              0.8888888888888888,
              "#fdca26"
             ],
             [
              1,
              "#f0f921"
             ]
            ],
            "type": "histogram2d"
           }
          ],
          "histogram2dcontour": [
           {
            "colorbar": {
             "outlinewidth": 0,
             "ticks": ""
            },
            "colorscale": [
             [
              0,
              "#0d0887"
             ],
             [
              0.1111111111111111,
              "#46039f"
             ],
             [
              0.2222222222222222,
              "#7201a8"
             ],
             [
              0.3333333333333333,
              "#9c179e"
             ],
             [
              0.4444444444444444,
              "#bd3786"
             ],
             [
              0.5555555555555556,
              "#d8576b"
             ],
             [
              0.6666666666666666,
              "#ed7953"
             ],
             [
              0.7777777777777778,
              "#fb9f3a"
             ],
             [
              0.8888888888888888,
              "#fdca26"
             ],
             [
              1,
              "#f0f921"
             ]
            ],
            "type": "histogram2dcontour"
           }
          ],
          "mesh3d": [
           {
            "colorbar": {
             "outlinewidth": 0,
             "ticks": ""
            },
            "type": "mesh3d"
           }
          ],
          "parcoords": [
           {
            "line": {
             "colorbar": {
              "outlinewidth": 0,
              "ticks": ""
             }
            },
            "type": "parcoords"
           }
          ],
          "pie": [
           {
            "automargin": true,
            "type": "pie"
           }
          ],
          "scatter": [
           {
            "marker": {
             "colorbar": {
              "outlinewidth": 0,
              "ticks": ""
             }
            },
            "type": "scatter"
           }
          ],
          "scatter3d": [
           {
            "line": {
             "colorbar": {
              "outlinewidth": 0,
              "ticks": ""
             }
            },
            "marker": {
             "colorbar": {
              "outlinewidth": 0,
              "ticks": ""
             }
            },
            "type": "scatter3d"
           }
          ],
          "scattercarpet": [
           {
            "marker": {
             "colorbar": {
              "outlinewidth": 0,
              "ticks": ""
             }
            },
            "type": "scattercarpet"
           }
          ],
          "scattergeo": [
           {
            "marker": {
             "colorbar": {
              "outlinewidth": 0,
              "ticks": ""
             }
            },
            "type": "scattergeo"
           }
          ],
          "scattergl": [
           {
            "marker": {
             "colorbar": {
              "outlinewidth": 0,
              "ticks": ""
             }
            },
            "type": "scattergl"
           }
          ],
          "scattermapbox": [
           {
            "marker": {
             "colorbar": {
              "outlinewidth": 0,
              "ticks": ""
             }
            },
            "type": "scattermapbox"
           }
          ],
          "scatterpolar": [
           {
            "marker": {
             "colorbar": {
              "outlinewidth": 0,
              "ticks": ""
             }
            },
            "type": "scatterpolar"
           }
          ],
          "scatterpolargl": [
           {
            "marker": {
             "colorbar": {
              "outlinewidth": 0,
              "ticks": ""
             }
            },
            "type": "scatterpolargl"
           }
          ],
          "scatterternary": [
           {
            "marker": {
             "colorbar": {
              "outlinewidth": 0,
              "ticks": ""
             }
            },
            "type": "scatterternary"
           }
          ],
          "surface": [
           {
            "colorbar": {
             "outlinewidth": 0,
             "ticks": ""
            },
            "colorscale": [
             [
              0,
              "#0d0887"
             ],
             [
              0.1111111111111111,
              "#46039f"
             ],
             [
              0.2222222222222222,
              "#7201a8"
             ],
             [
              0.3333333333333333,
              "#9c179e"
             ],
             [
              0.4444444444444444,
              "#bd3786"
             ],
             [
              0.5555555555555556,
              "#d8576b"
             ],
             [
              0.6666666666666666,
              "#ed7953"
             ],
             [
              0.7777777777777778,
              "#fb9f3a"
             ],
             [
              0.8888888888888888,
              "#fdca26"
             ],
             [
              1,
              "#f0f921"
             ]
            ],
            "type": "surface"
           }
          ],
          "table": [
           {
            "cells": {
             "fill": {
              "color": "#EBF0F8"
             },
             "line": {
              "color": "white"
             }
            },
            "header": {
             "fill": {
              "color": "#C8D4E3"
             },
             "line": {
              "color": "white"
             }
            },
            "type": "table"
           }
          ]
         },
         "layout": {
          "annotationdefaults": {
           "arrowcolor": "#2a3f5f",
           "arrowhead": 0,
           "arrowwidth": 1
          },
          "autotypenumbers": "strict",
          "coloraxis": {
           "colorbar": {
            "outlinewidth": 0,
            "ticks": ""
           }
          },
          "colorscale": {
           "diverging": [
            [
             0,
             "#8e0152"
            ],
            [
             0.1,
             "#c51b7d"
            ],
            [
             0.2,
             "#de77ae"
            ],
            [
             0.3,
             "#f1b6da"
            ],
            [
             0.4,
             "#fde0ef"
            ],
            [
             0.5,
             "#f7f7f7"
            ],
            [
             0.6,
             "#e6f5d0"
            ],
            [
             0.7,
             "#b8e186"
            ],
            [
             0.8,
             "#7fbc41"
            ],
            [
             0.9,
             "#4d9221"
            ],
            [
             1,
             "#276419"
            ]
           ],
           "sequential": [
            [
             0,
             "#0d0887"
            ],
            [
             0.1111111111111111,
             "#46039f"
            ],
            [
             0.2222222222222222,
             "#7201a8"
            ],
            [
             0.3333333333333333,
             "#9c179e"
            ],
            [
             0.4444444444444444,
             "#bd3786"
            ],
            [
             0.5555555555555556,
             "#d8576b"
            ],
            [
             0.6666666666666666,
             "#ed7953"
            ],
            [
             0.7777777777777778,
             "#fb9f3a"
            ],
            [
             0.8888888888888888,
             "#fdca26"
            ],
            [
             1,
             "#f0f921"
            ]
           ],
           "sequentialminus": [
            [
             0,
             "#0d0887"
            ],
            [
             0.1111111111111111,
             "#46039f"
            ],
            [
             0.2222222222222222,
             "#7201a8"
            ],
            [
             0.3333333333333333,
             "#9c179e"
            ],
            [
             0.4444444444444444,
             "#bd3786"
            ],
            [
             0.5555555555555556,
             "#d8576b"
            ],
            [
             0.6666666666666666,
             "#ed7953"
            ],
            [
             0.7777777777777778,
             "#fb9f3a"
            ],
            [
             0.8888888888888888,
             "#fdca26"
            ],
            [
             1,
             "#f0f921"
            ]
           ]
          },
          "colorway": [
           "#636efa",
           "#EF553B",
           "#00cc96",
           "#ab63fa",
           "#FFA15A",
           "#19d3f3",
           "#FF6692",
           "#B6E880",
           "#FF97FF",
           "#FECB52"
          ],
          "font": {
           "color": "#2a3f5f"
          },
          "geo": {
           "bgcolor": "white",
           "lakecolor": "white",
           "landcolor": "#E5ECF6",
           "showlakes": true,
           "showland": true,
           "subunitcolor": "white"
          },
          "hoverlabel": {
           "align": "left"
          },
          "hovermode": "closest",
          "mapbox": {
           "style": "light"
          },
          "paper_bgcolor": "white",
          "plot_bgcolor": "#E5ECF6",
          "polar": {
           "angularaxis": {
            "gridcolor": "white",
            "linecolor": "white",
            "ticks": ""
           },
           "bgcolor": "#E5ECF6",
           "radialaxis": {
            "gridcolor": "white",
            "linecolor": "white",
            "ticks": ""
           }
          },
          "scene": {
           "xaxis": {
            "backgroundcolor": "#E5ECF6",
            "gridcolor": "white",
            "gridwidth": 2,
            "linecolor": "white",
            "showbackground": true,
            "ticks": "",
            "zerolinecolor": "white"
           },
           "yaxis": {
            "backgroundcolor": "#E5ECF6",
            "gridcolor": "white",
            "gridwidth": 2,
            "linecolor": "white",
            "showbackground": true,
            "ticks": "",
            "zerolinecolor": "white"
           },
           "zaxis": {
            "backgroundcolor": "#E5ECF6",
            "gridcolor": "white",
            "gridwidth": 2,
            "linecolor": "white",
            "showbackground": true,
            "ticks": "",
            "zerolinecolor": "white"
           }
          },
          "shapedefaults": {
           "line": {
            "color": "#2a3f5f"
           }
          },
          "ternary": {
           "aaxis": {
            "gridcolor": "white",
            "linecolor": "white",
            "ticks": ""
           },
           "baxis": {
            "gridcolor": "white",
            "linecolor": "white",
            "ticks": ""
           },
           "bgcolor": "#E5ECF6",
           "caxis": {
            "gridcolor": "white",
            "linecolor": "white",
            "ticks": ""
           }
          },
          "title": {
           "x": 0.05
          },
          "xaxis": {
           "automargin": true,
           "gridcolor": "white",
           "linecolor": "white",
           "ticks": "",
           "title": {
            "standoff": 15
           },
           "zerolinecolor": "white",
           "zerolinewidth": 2
          },
          "yaxis": {
           "automargin": true,
           "gridcolor": "white",
           "linecolor": "white",
           "ticks": "",
           "title": {
            "standoff": 15
           },
           "zerolinecolor": "white",
           "zerolinewidth": 2
          }
         }
        },
        "title": "Velocity Measurement",
        "xaxis": {
         "title": {
          "text": "Time (second)"
         }
        },
        "yaxis": {
         "title": {
          "text": "Velocity (meters / seconds)"
         }
        }
       }
      },
      "text/html": [
       "<div\n",
       "    class=\"webio-mountpoint\"\n",
       "    data-webio-mountpoint=\"9528657227617685554\"\n",
       ">\n",
       "    <script>\n",
       "    (function(){\n",
       "    // Some integrations (namely, IJulia/Jupyter) use an alternate render pathway than\n",
       "    // just putting the html on the page. If WebIO isn't defined, then it's pretty likely\n",
       "    // that we're in one of those situations and the integration just isn't installed\n",
       "    // correctly.\n",
       "    if (typeof window.WebIO === \"undefined\") {\n",
       "        document\n",
       "            .querySelector('[data-webio-mountpoint=\"9528657227617685554\"]')\n",
       "            .innerHTML = (\n",
       "                '<div style=\"padding: 1em; background-color: #f8d6da; border: 1px solid #f5c6cb; font-weight: bold;\">' +\n",
       "                '<p><strong>WebIO not detected.</strong></p>' +\n",
       "                '<p>Please read ' +\n",
       "                '<a href=\"https://juliagizmos.github.io/WebIO.jl/latest/troubleshooting/not-detected/\" target=\"_blank\">the troubleshooting guide</a> ' +\n",
       "                'for more information on how to resolve this issue.</p>' +\n",
       "                '<p><a href=\"https://juliagizmos.github.io/WebIO.jl/latest/troubleshooting/not-detected/\" target=\"_blank\">https://juliagizmos.github.io/WebIO.jl/latest/troubleshooting/not-detected/</a></p>' +\n",
       "                '</div>'\n",
       "            );\n",
       "        return;\n",
       "    }\n",
       "    WebIO.mount(\n",
       "        document.querySelector('[data-webio-mountpoint=\"9528657227617685554\"]'),\n",
       "        {\"props\":{},\"nodeType\":\"Scope\",\"type\":\"node\",\"instanceArgs\":{\"imports\":{\"data\":[{\"name\":\"Plotly\",\"type\":\"js\",\"url\":\"\\/assetserver\\/f1f31522542ba34e1849be681911375aff952802-plotly.min.js\"},{\"name\":null,\"type\":\"js\",\"url\":\"\\/assetserver\\/124350e26addc0808d4fb3786957e66ae0b75a7e-plotly_webio.bundle.js\"}],\"type\":\"async_block\"},\"id\":\"13366224678124497000\",\"handlers\":{\"_toImage\":[\"(function (options){return this.Plotly.toImage(this.plotElem,options).then((function (data){return WebIO.setval({\\\"name\\\":\\\"image\\\",\\\"scope\\\":\\\"13366224678124497000\\\",\\\"id\\\":\\\"8591644553759990734\\\",\\\"type\\\":\\\"observable\\\"},data)}))})\"],\"__get_gd_contents\":[\"(function (prop){prop==\\\"data\\\" ? (WebIO.setval({\\\"name\\\":\\\"__gd_contents\\\",\\\"scope\\\":\\\"13366224678124497000\\\",\\\"id\\\":\\\"7811321254243211946\\\",\\\"type\\\":\\\"observable\\\"},this.plotElem.data)) : undefined; return prop==\\\"layout\\\" ? (WebIO.setval({\\\"name\\\":\\\"__gd_contents\\\",\\\"scope\\\":\\\"13366224678124497000\\\",\\\"id\\\":\\\"7811321254243211946\\\",\\\"type\\\":\\\"observable\\\"},this.plotElem.layout)) : undefined})\"],\"_downloadImage\":[\"(function (options){return this.Plotly.downloadImage(this.plotElem,options)})\"],\"_commands\":[\"(function (args){var fn=args.shift(); var elem=this.plotElem; var Plotly=this.Plotly; args.unshift(elem); return Plotly[fn].apply(this,args)})\"]},\"systemjs_options\":null,\"mount_callbacks\":[\"function () {\\n    var handler = ((function (Plotly,PlotlyWebIO){PlotlyWebIO.init(WebIO); var gd=this.dom.querySelector(\\\"#plot-e337ae10-5b49-4af9-8783-66be4b5e3af5\\\"); this.plotElem=gd; this.Plotly=Plotly; (window.Blink!==undefined) ? (gd.style.width=\\\"100%\\\", gd.style.height=\\\"100vh\\\", gd.style.marginLeft=\\\"0%\\\", gd.style.marginTop=\\\"0vh\\\") : undefined; window.onresize=(function (){return Plotly.Plots.resize(gd)}); Plotly.newPlot(gd,[{\\\"mode\\\":\\\"markers\\\",\\\"y\\\":[-1.4178813247209492,-2.8815369664407706,-4.338884050451041,-5.787875501096367,-7.226511280804608,-8.652849073906653,-10.065014298154756,-11.461209340075087,-12.839721925241717,-14.198932550805,-15.537320924694075,-16.853471373383044,-18.146077197517013,-19.413943971618156,-20.655991800154286,-21.87125655712368,-23.058890149719836,-24.21815985837984,-25.3484468154463,-26.449243692705192,-27.520151674178873,-28.560876794790005,-29.5712257279482,-30.551101105869304,-31.500496455669033,-32.4194908321539,-33.30824322495283,-34.16698681338966,-34.99602313748628,-35.795716247900664,-36.56648689162301,-37.3088067840439,-38.02319301171962,-38.71020260392241,-39.37042730498904,-40.00448857366038,-40.61303283011158,-41.19672696626099,-41.75625413025464,-42.292309791775764,-42.805598091035996,-43.296828470966,-43.766712589229115,-44.21596150421479,-44.64528312710675,-45.05537993043681,-45.446946902199265,-45.82066973358166,-46.17722322763251,-46.51726991570433,-46.84145886824858,-47.15042468646874,-47.444786661430314,-47.725148087455246,-47.99209571696969,-48.24619934440558,-48.4880115072588,-48.71806729296228,-48.9368842408256,-49.14496232891026,-49.34278403634086,-49.530814472186144,-49.70950156267334,-49.879276289117,-50.04055296954457,-50.19372957758088,-50.33918809270963,-50.47729487655901,-50.608401070359754,-50.73284300919566,-50.85094264910904,-50.96300800353629,-51.069333585932505,-51.17020085579894,-51.26587866565491,-51.35662370679661,-51.44268095196098,-51.524284093264505,-51.6016559740157,-51.67500901320776,-51.74454562168551,-51.810458609149904,-51.87293158131532,-51.93213932667066,-51.98824819241667,-52.04141644925948,-52.091794644835794,-52.13952594562911,-52.18474646731012,-52.227585593498745,-52.26816628300117,-52.30660536562331,-52.34301382670358,-52.377497080542675,-52.41015523293773,-52.44108333305255,-52.47037161487568,-52.498105728534206,-52.52436696174367,-52.54923245168394],\\\"type\\\":\\\"scatter\\\",\\\"name\\\":\\\"True Velocity\\\",\\\"x\\\":[0.0,0.15,0.3,0.44999999999999996,0.6,0.75,0.8999999999999999,1.05,1.2,1.3499999999999999,1.5,1.65,1.7999999999999998,1.95,2.1,2.25,2.4,2.55,2.6999999999999997,2.85,3.0,3.15,3.3,3.4499999999999997,3.5999999999999996,3.75,3.9,4.05,4.2,4.35,4.5,4.6499999999999995,4.8,4.95,5.1,5.25,5.3999999999999995,5.55,5.7,5.85,6.0,6.1499999999999995,6.3,6.45,6.6,6.75,6.8999999999999995,7.05,7.199999999999999,7.35,7.5,7.6499999999999995,7.8,7.949999999999999,8.1,8.25,8.4,8.549999999999999,8.7,8.85,9.0,9.15,9.299999999999999,9.45,9.6,9.75,9.9,10.049999999999999,10.2,10.35,10.5,10.65,10.799999999999999,10.95,11.1,11.25,11.4,11.549999999999999,11.7,11.85,12.0,12.15,12.299999999999999,12.45,12.6,12.75,12.9,13.049999999999999,13.2,13.35,13.5,13.65,13.799999999999999,13.95,14.1,14.25,14.399999999999999,14.549999999999999,14.7,14.85]},{\\\"mode\\\":\\\"markers\\\",\\\"y\\\":[-1.4688964520650918,-2.939099833074311,-4.406422891100308,-5.8676990350487435,-7.319766509012192,-8.75951570908895,-10.183925952707906,-11.59009924451237,-12.975292384958115,-14.336947024747408,-15.672716632503267,-16.980489149430838,-18.2584041778338,-19.50486382005701,-20.718536693730524,-21.898355132440766,-23.043506065520305,-24.15341648771218,-25.227734726351375,-26.266308862596972,-27.269163663605443,-28.23647725710242,-29.168558566218035,-30.065826263381815,-30.92878973671566,-31.758032320819567,-32.55419684488645,-33.31797340268741,-34.05008915058519,-34.75129988519207,-35.4223831325866,-36.06413248647532,-36.67735295445317,-37.262857102241156,-37.821461819925624,-38.3539855679591,-38.861245991627754,-39.34405781958376,-39.80323098442273,-40.2395689212288,-40.653867013896395,-41.04691116941043,-41.4194765077204,-41.772326159954865,-42.106210171015675,-42.42186450451796,-42.72001014897763,-43.00135232439518,-43.26657978817975,-43.51636423888031,-43.75135981557419,-43.97220269010259,-44.179510748702874,-44.37388335901024,-44.55590121791271,-44.72612627535364,-44.88510172889002,-45.033352083628415,-45.17138327206666,-45.29968282835879,-45.418720111582786,-45.52894657271351,-45.630796060177055,-45.724685159075676,-45.811013559417006,-45.89016444894737,-45.96250492646953,-46.02838643181493,-46.088145188931875,-46.14210265884169,-46.1905659994997,-46.23382852987427,-46.27217019582317,-46.30585803560005,-46.33514664306399,-46.360278626890775,-46.38148506429537,-46.398985947971674,-46.41299062513643,-46.423698227731265,-46.43129809298935,-46.43597017371268,-46.437885437731566,-46.43720625613261,-46.4340867799433,-46.42867330505329,-46.42110462523398,-46.41151237319011,-46.40002134964084,-46.386749840483446,-46.37180992214119,-46.355307755238805,-46.33734386678481,-46.318013421070184,-46.29740647951841,-46.27560824974295,-46.25269932408517,-46.22875590791907,-46.20385003801989,-46.1780497913007],\\\"type\\\":\\\"scatter\\\",\\\"name\\\":\\\"Estimated Velocity\\\",\\\"error_y\\\":{\\\"type\\\":\\\"data\\\",\\\"array\\\":[9.999988785098731,9.998176134852095,9.992764451018138,9.981976972214254,9.964078063494572,9.937404777272752,9.900405643217423,9.851684590385805,9.790047101116048,9.714545021988624,9.624516062851034,9.519614037754476,9.399826424982171,9.2654768427569,9.117211445505042,8.955969844942656,8.782942701995072,8.599519376765524,8.407229783819432,8.2076847988863,8.00251923040934,7.793340624907108,7.581686189581559,7.368989066889881,7.156554233040781,6.945543515423428,6.736968678952603,6.531691218473527,6.330427382381356,6.133756993863132,5.9421347795271195,5.755903114595307,5.57530531280978,5.400498802028083,5.231567717330629,5.068534604460347,4.911371055418773,4.7600071966068995,4.614340021634827,4.474240610314602,4.339560306970167,4.21013594925593,4.085794246791511,3.9663554100566776,3.8516361264753836,3.7414519742163024,3.6356193562434926,3.5339570284805646,3.4362872872275005,3.342436872592782,3.2522376369153907,3.165527020077569,3.0821483672975636,3.001951119437509,2.924790901028418,2.850529527046558,2.779034945908852,2.710181133122294,2.64384794745794,2.579920959362124,2.5182912595094527,2.4588552538931934,2.401514450593933,2.346175242327707,2.2927486880162555,2.241150295915526,2.191299810259166,2.1431210029004317,2.0965414710508514,2.05149244190207,2.00790858466601,1.965727830367171,1.924891199560843,1.8853426380247342,1.8470288603730598,1.809899201466284,1.7739054754323345,1.7390018420727007,1.7051446803965182,1.67229246900515,1.640405673036968,1.6094466373753973,1.579379485821492,1.5501700259343234,1.5217856592473562,1.4941952965760896,1.4673692781409586,1.4412792982393556,1.4158983342112768,1.391200579454224,1.367161380254352,1.3437571762122824,1.320965444053324,1.298764644622991,1.2771341728795436,1.2560543107057944,1.2355061823725395,1.215471712495673,1.1959335863383198,1.176875212318141]},\\\"x\\\":[0.0,0.15,0.3,0.44999999999999996,0.6,0.75,0.8999999999999999,1.05,1.2,1.3499999999999999,1.5,1.65,1.7999999999999998,1.95,2.1,2.25,2.4,2.55,2.6999999999999997,2.85,3.0,3.15,3.3,3.4499999999999997,3.5999999999999996,3.75,3.9,4.05,4.2,4.35,4.5,4.6499999999999995,4.8,4.95,5.1,5.25,5.3999999999999995,5.55,5.7,5.85,6.0,6.1499999999999995,6.3,6.45,6.6,6.75,6.8999999999999995,7.05,7.199999999999999,7.35,7.5,7.6499999999999995,7.8,7.949999999999999,8.1,8.25,8.4,8.549999999999999,8.7,8.85,9.0,9.15,9.299999999999999,9.45,9.6,9.75,9.9,10.049999999999999,10.2,10.35,10.5,10.65,10.799999999999999,10.95,11.1,11.25,11.4,11.549999999999999,11.7,11.85,12.0,12.15,12.299999999999999,12.45,12.6,12.75,12.9,13.049999999999999,13.2,13.35,13.5,13.65,13.799999999999999,13.95,14.1,14.25,14.399999999999999,14.549999999999999,14.7,14.85]}],{\\\"xaxis\\\":{\\\"title\\\":{\\\"text\\\":\\\"Time (second)\\\"}},\\\"template\\\":{\\\"layout\\\":{\\\"coloraxis\\\":{\\\"colorbar\\\":{\\\"ticks\\\":\\\"\\\",\\\"outlinewidth\\\":0}},\\\"xaxis\\\":{\\\"gridcolor\\\":\\\"white\\\",\\\"zerolinewidth\\\":2,\\\"title\\\":{\\\"standoff\\\":15},\\\"ticks\\\":\\\"\\\",\\\"zerolinecolor\\\":\\\"white\\\",\\\"automargin\\\":true,\\\"linecolor\\\":\\\"white\\\"},\\\"hovermode\\\":\\\"closest\\\",\\\"paper_bgcolor\\\":\\\"white\\\",\\\"geo\\\":{\\\"showlakes\\\":true,\\\"showland\\\":true,\\\"landcolor\\\":\\\"#E5ECF6\\\",\\\"bgcolor\\\":\\\"white\\\",\\\"subunitcolor\\\":\\\"white\\\",\\\"lakecolor\\\":\\\"white\\\"},\\\"colorscale\\\":{\\\"sequential\\\":[[0.0,\\\"#0d0887\\\"],[0.1111111111111111,\\\"#46039f\\\"],[0.2222222222222222,\\\"#7201a8\\\"],[0.3333333333333333,\\\"#9c179e\\\"],[0.4444444444444444,\\\"#bd3786\\\"],[0.5555555555555556,\\\"#d8576b\\\"],[0.6666666666666666,\\\"#ed7953\\\"],[0.7777777777777778,\\\"#fb9f3a\\\"],[0.8888888888888888,\\\"#fdca26\\\"],[1.0,\\\"#f0f921\\\"]],\\\"diverging\\\":[[0,\\\"#8e0152\\\"],[0.1,\\\"#c51b7d\\\"],[0.2,\\\"#de77ae\\\"],[0.3,\\\"#f1b6da\\\"],[0.4,\\\"#fde0ef\\\"],[0.5,\\\"#f7f7f7\\\"],[0.6,\\\"#e6f5d0\\\"],[0.7,\\\"#b8e186\\\"],[0.8,\\\"#7fbc41\\\"],[0.9,\\\"#4d9221\\\"],[1,\\\"#276419\\\"]],\\\"sequentialminus\\\":[[0.0,\\\"#0d0887\\\"],[0.1111111111111111,\\\"#46039f\\\"],[0.2222222222222222,\\\"#7201a8\\\"],[0.3333333333333333,\\\"#9c179e\\\"],[0.4444444444444444,\\\"#bd3786\\\"],[0.5555555555555556,\\\"#d8576b\\\"],[0.6666666666666666,\\\"#ed7953\\\"],[0.7777777777777778,\\\"#fb9f3a\\\"],[0.8888888888888888,\\\"#fdca26\\\"],[1.0,\\\"#f0f921\\\"]]},\\\"yaxis\\\":{\\\"gridcolor\\\":\\\"white\\\",\\\"zerolinewidth\\\":2,\\\"title\\\":{\\\"standoff\\\":15},\\\"ticks\\\":\\\"\\\",\\\"zerolinecolor\\\":\\\"white\\\",\\\"automargin\\\":true,\\\"linecolor\\\":\\\"white\\\"},\\\"shapedefaults\\\":{\\\"line\\\":{\\\"color\\\":\\\"#2a3f5f\\\"}},\\\"hoverlabel\\\":{\\\"align\\\":\\\"left\\\"},\\\"mapbox\\\":{\\\"style\\\":\\\"light\\\"},\\\"polar\\\":{\\\"angularaxis\\\":{\\\"gridcolor\\\":\\\"white\\\",\\\"ticks\\\":\\\"\\\",\\\"linecolor\\\":\\\"white\\\"},\\\"bgcolor\\\":\\\"#E5ECF6\\\",\\\"radialaxis\\\":{\\\"gridcolor\\\":\\\"white\\\",\\\"ticks\\\":\\\"\\\",\\\"linecolor\\\":\\\"white\\\"}},\\\"autotypenumbers\\\":\\\"strict\\\",\\\"font\\\":{\\\"color\\\":\\\"#2a3f5f\\\"},\\\"ternary\\\":{\\\"baxis\\\":{\\\"gridcolor\\\":\\\"white\\\",\\\"ticks\\\":\\\"\\\",\\\"linecolor\\\":\\\"white\\\"},\\\"bgcolor\\\":\\\"#E5ECF6\\\",\\\"caxis\\\":{\\\"gridcolor\\\":\\\"white\\\",\\\"ticks\\\":\\\"\\\",\\\"linecolor\\\":\\\"white\\\"},\\\"aaxis\\\":{\\\"gridcolor\\\":\\\"white\\\",\\\"ticks\\\":\\\"\\\",\\\"linecolor\\\":\\\"white\\\"}},\\\"annotationdefaults\\\":{\\\"arrowhead\\\":0,\\\"arrowwidth\\\":1,\\\"arrowcolor\\\":\\\"#2a3f5f\\\"},\\\"plot_bgcolor\\\":\\\"#E5ECF6\\\",\\\"title\\\":{\\\"x\\\":0.05},\\\"scene\\\":{\\\"xaxis\\\":{\\\"gridcolor\\\":\\\"white\\\",\\\"gridwidth\\\":2,\\\"backgroundcolor\\\":\\\"#E5ECF6\\\",\\\"ticks\\\":\\\"\\\",\\\"showbackground\\\":true,\\\"zerolinecolor\\\":\\\"white\\\",\\\"linecolor\\\":\\\"white\\\"},\\\"zaxis\\\":{\\\"gridcolor\\\":\\\"white\\\",\\\"gridwidth\\\":2,\\\"backgroundcolor\\\":\\\"#E5ECF6\\\",\\\"ticks\\\":\\\"\\\",\\\"showbackground\\\":true,\\\"zerolinecolor\\\":\\\"white\\\",\\\"linecolor\\\":\\\"white\\\"},\\\"yaxis\\\":{\\\"gridcolor\\\":\\\"white\\\",\\\"gridwidth\\\":2,\\\"backgroundcolor\\\":\\\"#E5ECF6\\\",\\\"ticks\\\":\\\"\\\",\\\"showbackground\\\":true,\\\"zerolinecolor\\\":\\\"white\\\",\\\"linecolor\\\":\\\"white\\\"}},\\\"colorway\\\":[\\\"#636efa\\\",\\\"#EF553B\\\",\\\"#00cc96\\\",\\\"#ab63fa\\\",\\\"#FFA15A\\\",\\\"#19d3f3\\\",\\\"#FF6692\\\",\\\"#B6E880\\\",\\\"#FF97FF\\\",\\\"#FECB52\\\"]},\\\"data\\\":{\\\"barpolar\\\":[{\\\"type\\\":\\\"barpolar\\\",\\\"marker\\\":{\\\"line\\\":{\\\"color\\\":\\\"#E5ECF6\\\",\\\"width\\\":0.5}}}],\\\"carpet\\\":[{\\\"aaxis\\\":{\\\"gridcolor\\\":\\\"white\\\",\\\"endlinecolor\\\":\\\"#2a3f5f\\\",\\\"minorgridcolor\\\":\\\"white\\\",\\\"startlinecolor\\\":\\\"#2a3f5f\\\",\\\"linecolor\\\":\\\"white\\\"},\\\"type\\\":\\\"carpet\\\",\\\"baxis\\\":{\\\"gridcolor\\\":\\\"white\\\",\\\"endlinecolor\\\":\\\"#2a3f5f\\\",\\\"minorgridcolor\\\":\\\"white\\\",\\\"startlinecolor\\\":\\\"#2a3f5f\\\",\\\"linecolor\\\":\\\"white\\\"}}],\\\"scatterpolar\\\":[{\\\"type\\\":\\\"scatterpolar\\\",\\\"marker\\\":{\\\"colorbar\\\":{\\\"ticks\\\":\\\"\\\",\\\"outlinewidth\\\":0}}}],\\\"parcoords\\\":[{\\\"line\\\":{\\\"colorbar\\\":{\\\"ticks\\\":\\\"\\\",\\\"outlinewidth\\\":0}},\\\"type\\\":\\\"parcoords\\\"}],\\\"scatter\\\":[{\\\"type\\\":\\\"scatter\\\",\\\"marker\\\":{\\\"colorbar\\\":{\\\"ticks\\\":\\\"\\\",\\\"outlinewidth\\\":0}}}],\\\"histogram2dcontour\\\":[{\\\"colorbar\\\":{\\\"ticks\\\":\\\"\\\",\\\"outlinewidth\\\":0},\\\"type\\\":\\\"histogram2dcontour\\\",\\\"colorscale\\\":[[0.0,\\\"#0d0887\\\"],[0.1111111111111111,\\\"#46039f\\\"],[0.2222222222222222,\\\"#7201a8\\\"],[0.3333333333333333,\\\"#9c179e\\\"],[0.4444444444444444,\\\"#bd3786\\\"],[0.5555555555555556,\\\"#d8576b\\\"],[0.6666666666666666,\\\"#ed7953\\\"],[0.7777777777777778,\\\"#fb9f3a\\\"],[0.8888888888888888,\\\"#fdca26\\\"],[1.0,\\\"#f0f921\\\"]]}],\\\"contour\\\":[{\\\"colorbar\\\":{\\\"ticks\\\":\\\"\\\",\\\"outlinewidth\\\":0},\\\"type\\\":\\\"contour\\\",\\\"colorscale\\\":[[0.0,\\\"#0d0887\\\"],[0.1111111111111111,\\\"#46039f\\\"],[0.2222222222222222,\\\"#7201a8\\\"],[0.3333333333333333,\\\"#9c179e\\\"],[0.4444444444444444,\\\"#bd3786\\\"],[0.5555555555555556,\\\"#d8576b\\\"],[0.6666666666666666,\\\"#ed7953\\\"],[0.7777777777777778,\\\"#fb9f3a\\\"],[0.8888888888888888,\\\"#fdca26\\\"],[1.0,\\\"#f0f921\\\"]]}],\\\"scattercarpet\\\":[{\\\"type\\\":\\\"scattercarpet\\\",\\\"marker\\\":{\\\"colorbar\\\":{\\\"ticks\\\":\\\"\\\",\\\"outlinewidth\\\":0}}}],\\\"mesh3d\\\":[{\\\"colorbar\\\":{\\\"ticks\\\":\\\"\\\",\\\"outlinewidth\\\":0},\\\"type\\\":\\\"mesh3d\\\"}],\\\"surface\\\":[{\\\"colorbar\\\":{\\\"ticks\\\":\\\"\\\",\\\"outlinewidth\\\":0},\\\"type\\\":\\\"surface\\\",\\\"colorscale\\\":[[0.0,\\\"#0d0887\\\"],[0.1111111111111111,\\\"#46039f\\\"],[0.2222222222222222,\\\"#7201a8\\\"],[0.3333333333333333,\\\"#9c179e\\\"],[0.4444444444444444,\\\"#bd3786\\\"],[0.5555555555555556,\\\"#d8576b\\\"],[0.6666666666666666,\\\"#ed7953\\\"],[0.7777777777777778,\\\"#fb9f3a\\\"],[0.8888888888888888,\\\"#fdca26\\\"],[1.0,\\\"#f0f921\\\"]]}],\\\"scattermapbox\\\":[{\\\"type\\\":\\\"scattermapbox\\\",\\\"marker\\\":{\\\"colorbar\\\":{\\\"ticks\\\":\\\"\\\",\\\"outlinewidth\\\":0}}}],\\\"scattergeo\\\":[{\\\"type\\\":\\\"scattergeo\\\",\\\"marker\\\":{\\\"colorbar\\\":{\\\"ticks\\\":\\\"\\\",\\\"outlinewidth\\\":0}}}],\\\"histogram\\\":[{\\\"type\\\":\\\"histogram\\\",\\\"marker\\\":{\\\"colorbar\\\":{\\\"ticks\\\":\\\"\\\",\\\"outlinewidth\\\":0}}}],\\\"pie\\\":[{\\\"type\\\":\\\"pie\\\",\\\"automargin\\\":true}],\\\"choropleth\\\":[{\\\"colorbar\\\":{\\\"ticks\\\":\\\"\\\",\\\"outlinewidth\\\":0},\\\"type\\\":\\\"choropleth\\\"}],\\\"heatmapgl\\\":[{\\\"colorbar\\\":{\\\"ticks\\\":\\\"\\\",\\\"outlinewidth\\\":0},\\\"type\\\":\\\"heatmapgl\\\",\\\"colorscale\\\":[[0.0,\\\"#0d0887\\\"],[0.1111111111111111,\\\"#46039f\\\"],[0.2222222222222222,\\\"#7201a8\\\"],[0.3333333333333333,\\\"#9c179e\\\"],[0.4444444444444444,\\\"#bd3786\\\"],[0.5555555555555556,\\\"#d8576b\\\"],[0.6666666666666666,\\\"#ed7953\\\"],[0.7777777777777778,\\\"#fb9f3a\\\"],[0.8888888888888888,\\\"#fdca26\\\"],[1.0,\\\"#f0f921\\\"]]}],\\\"bar\\\":[{\\\"type\\\":\\\"bar\\\",\\\"error_y\\\":{\\\"color\\\":\\\"#2a3f5f\\\"},\\\"error_x\\\":{\\\"color\\\":\\\"#2a3f5f\\\"},\\\"marker\\\":{\\\"line\\\":{\\\"color\\\":\\\"#E5ECF6\\\",\\\"width\\\":0.5}}}],\\\"heatmap\\\":[{\\\"colorbar\\\":{\\\"ticks\\\":\\\"\\\",\\\"outlinewidth\\\":0},\\\"type\\\":\\\"heatmap\\\",\\\"colorscale\\\":[[0.0,\\\"#0d0887\\\"],[0.1111111111111111,\\\"#46039f\\\"],[0.2222222222222222,\\\"#7201a8\\\"],[0.3333333333333333,\\\"#9c179e\\\"],[0.4444444444444444,\\\"#bd3786\\\"],[0.5555555555555556,\\\"#d8576b\\\"],[0.6666666666666666,\\\"#ed7953\\\"],[0.7777777777777778,\\\"#fb9f3a\\\"],[0.8888888888888888,\\\"#fdca26\\\"],[1.0,\\\"#f0f921\\\"]]}],\\\"contourcarpet\\\":[{\\\"colorbar\\\":{\\\"ticks\\\":\\\"\\\",\\\"outlinewidth\\\":0},\\\"type\\\":\\\"contourcarpet\\\"}],\\\"table\\\":[{\\\"type\\\":\\\"table\\\",\\\"header\\\":{\\\"line\\\":{\\\"color\\\":\\\"white\\\"},\\\"fill\\\":{\\\"color\\\":\\\"#C8D4E3\\\"}},\\\"cells\\\":{\\\"line\\\":{\\\"color\\\":\\\"white\\\"},\\\"fill\\\":{\\\"color\\\":\\\"#EBF0F8\\\"}}}],\\\"scatter3d\\\":[{\\\"line\\\":{\\\"colorbar\\\":{\\\"ticks\\\":\\\"\\\",\\\"outlinewidth\\\":0}},\\\"type\\\":\\\"scatter3d\\\",\\\"marker\\\":{\\\"colorbar\\\":{\\\"ticks\\\":\\\"\\\",\\\"outlinewidth\\\":0}}}],\\\"scattergl\\\":[{\\\"type\\\":\\\"scattergl\\\",\\\"marker\\\":{\\\"colorbar\\\":{\\\"ticks\\\":\\\"\\\",\\\"outlinewidth\\\":0}}}],\\\"histogram2d\\\":[{\\\"colorbar\\\":{\\\"ticks\\\":\\\"\\\",\\\"outlinewidth\\\":0},\\\"type\\\":\\\"histogram2d\\\",\\\"colorscale\\\":[[0.0,\\\"#0d0887\\\"],[0.1111111111111111,\\\"#46039f\\\"],[0.2222222222222222,\\\"#7201a8\\\"],[0.3333333333333333,\\\"#9c179e\\\"],[0.4444444444444444,\\\"#bd3786\\\"],[0.5555555555555556,\\\"#d8576b\\\"],[0.6666666666666666,\\\"#ed7953\\\"],[0.7777777777777778,\\\"#fb9f3a\\\"],[0.8888888888888888,\\\"#fdca26\\\"],[1.0,\\\"#f0f921\\\"]]}],\\\"scatterternary\\\":[{\\\"type\\\":\\\"scatterternary\\\",\\\"marker\\\":{\\\"colorbar\\\":{\\\"ticks\\\":\\\"\\\",\\\"outlinewidth\\\":0}}}],\\\"scatterpolargl\\\":[{\\\"type\\\":\\\"scatterpolargl\\\",\\\"marker\\\":{\\\"colorbar\\\":{\\\"ticks\\\":\\\"\\\",\\\"outlinewidth\\\":0}}}]}},\\\"legend\\\":{\\\"title\\\":\\\"Legend Title\\\"},\\\"margin\\\":{\\\"l\\\":50,\\\"b\\\":50,\\\"r\\\":50,\\\"t\\\":60},\\\"title\\\":\\\"Velocity Measurement\\\",\\\"yaxis\\\":{\\\"title\\\":{\\\"text\\\":\\\"Velocity (meters \\/ seconds)\\\"}}},{\\\"showLink\\\":false,\\\"editable\\\":false,\\\"responsive\\\":true,\\\"staticPlot\\\":false,\\\"scrollZoom\\\":true}); gd.on(\\\"plotly_hover\\\",(function (data){var filtered_data=WebIO.PlotlyCommands.filterEventData(gd,data,\\\"hover\\\"); return !(filtered_data.isnil) ? (WebIO.setval({\\\"name\\\":\\\"hover\\\",\\\"scope\\\":\\\"13366224678124497000\\\",\\\"id\\\":\\\"14543699469716464303\\\",\\\"type\\\":\\\"observable\\\"},filtered_data.out)) : undefined})); gd.on(\\\"plotly_unhover\\\",(function (){return WebIO.setval({\\\"name\\\":\\\"hover\\\",\\\"scope\\\":\\\"13366224678124497000\\\",\\\"id\\\":\\\"14543699469716464303\\\",\\\"type\\\":\\\"observable\\\"},{})})); gd.on(\\\"plotly_selected\\\",(function (data){var filtered_data=WebIO.PlotlyCommands.filterEventData(gd,data,\\\"selected\\\"); return !(filtered_data.isnil) ? (WebIO.setval({\\\"name\\\":\\\"selected\\\",\\\"scope\\\":\\\"13366224678124497000\\\",\\\"id\\\":\\\"9724281602665126764\\\",\\\"type\\\":\\\"observable\\\"},filtered_data.out)) : undefined})); gd.on(\\\"plotly_deselect\\\",(function (){return WebIO.setval({\\\"name\\\":\\\"selected\\\",\\\"scope\\\":\\\"13366224678124497000\\\",\\\"id\\\":\\\"9724281602665126764\\\",\\\"type\\\":\\\"observable\\\"},{})})); gd.on(\\\"plotly_relayout\\\",(function (data){var filtered_data=WebIO.PlotlyCommands.filterEventData(gd,data,\\\"relayout\\\"); return !(filtered_data.isnil) ? (WebIO.setval({\\\"name\\\":\\\"relayout\\\",\\\"scope\\\":\\\"13366224678124497000\\\",\\\"id\\\":\\\"6195811694280258909\\\",\\\"type\\\":\\\"observable\\\"},filtered_data.out)) : undefined})); return gd.on(\\\"plotly_click\\\",(function (data){var filtered_data=WebIO.PlotlyCommands.filterEventData(gd,data,\\\"click\\\"); return !(filtered_data.isnil) ? (WebIO.setval({\\\"name\\\":\\\"click\\\",\\\"scope\\\":\\\"13366224678124497000\\\",\\\"id\\\":\\\"13313870888565346523\\\",\\\"type\\\":\\\"observable\\\"},filtered_data.out)) : undefined}))}));\\n    (WebIO.importBlock({\\\"data\\\":[{\\\"name\\\":\\\"Plotly\\\",\\\"type\\\":\\\"js\\\",\\\"url\\\":\\\"\\/assetserver\\/f1f31522542ba34e1849be681911375aff952802-plotly.min.js\\\"},{\\\"name\\\":null,\\\"type\\\":\\\"js\\\",\\\"url\\\":\\\"\\/assetserver\\/124350e26addc0808d4fb3786957e66ae0b75a7e-plotly_webio.bundle.js\\\"}],\\\"type\\\":\\\"async_block\\\"})).then((imports) => handler.apply(this, imports));\\n}\\n\"],\"observables\":{\"_toImage\":{\"sync\":false,\"id\":\"12193406797037481012\",\"value\":{}},\"hover\":{\"sync\":false,\"id\":\"14543699469716464303\",\"value\":{}},\"selected\":{\"sync\":false,\"id\":\"9724281602665126764\",\"value\":{}},\"__gd_contents\":{\"sync\":false,\"id\":\"7811321254243211946\",\"value\":{}},\"click\":{\"sync\":false,\"id\":\"13313870888565346523\",\"value\":{}},\"image\":{\"sync\":true,\"id\":\"8591644553759990734\",\"value\":\"\"},\"__get_gd_contents\":{\"sync\":false,\"id\":\"5052287457325480533\",\"value\":\"\"},\"_downloadImage\":{\"sync\":false,\"id\":\"9893971510738960997\",\"value\":{}},\"relayout\":{\"sync\":false,\"id\":\"6195811694280258909\",\"value\":{}},\"_commands\":{\"sync\":false,\"id\":\"1340138316049387798\",\"value\":[]}}},\"children\":[{\"props\":{\"id\":\"plot-e337ae10-5b49-4af9-8783-66be4b5e3af5\"},\"nodeType\":\"DOM\",\"type\":\"node\",\"instanceArgs\":{\"namespace\":\"html\",\"tag\":\"div\"},\"children\":[]}]},\n",
       "        window,\n",
       "    );\n",
       "    })()\n",
       "    </script>\n",
       "</div>\n"
      ],
      "text/plain": [
       "data: [\n",
       "  \"scatter with fields mode, name, type, x, and y\",\n",
       "  \"scatter with fields error_y, mode, name, type, x, and y\"\n",
       "]\n",
       "\n",
       "layout: \"layout with fields legend, margin, template, title, xaxis, and yaxis\"\n",
       "\n"
      ]
     },
     "execution_count": 16,
     "metadata": {},
     "output_type": "execute_result"
    }
   ],
   "source": [
    "plot(\n",
    "    [\n",
    "        # True velocity\n",
    "        scatter(\n",
    "            mode=\"markers\",\n",
    "            x=time_axis_sec,\n",
    "            y=[tr_st[2] for tr_st in true_state_fcn_time],\n",
    "            name=\"True Velocity\"\n",
    "        ),\n",
    "        # Estimated velocity\n",
    "        scatter(\n",
    "            mode=\"markers\",\n",
    "            x=time_axis_sec,\n",
    "            y=[s.state[2] for s in states_fcn_time],\n",
    "            error_y=attr(\n",
    "                type=\"data\",\n",
    "                array=[sqrt(s.cov[2, 2]) for s in states_fcn_time]\n",
    "            ),\n",
    "            name=\"Estimated Velocity\"\n",
    "        )\n",
    "    ],\n",
    "    Layout(\n",
    "        title=\"Velocity Measurement\",\n",
    "        xaxis_title=\"Time (second)\",\n",
    "        yaxis_title=\"Velocity (meters / seconds)\",\n",
    "        legend_title=\"Legend Title\",\n",
    "    ),\n",
    "    config=PlotConfig(scrollZoom=true)\n",
    ")"
   ]
  },
  {
   "cell_type": "code",
   "execution_count": null,
   "id": "2b299fef",
   "metadata": {},
   "outputs": [],
   "source": []
  }
 ],
 "metadata": {
  "@webio": {
   "lastCommId": "afd59c69eb06415b80789bc68cfa9f1a",
   "lastKernelId": "f0c07aeb-441c-41f0-9c9a-4df6a9544006"
  },
  "kernelspec": {
   "display_name": "Julia 1.7.2",
   "language": "julia",
   "name": "julia-1.7"
  },
  "language_info": {
   "file_extension": ".jl",
   "mimetype": "application/julia",
   "name": "julia",
   "version": "1.7.2"
  }
 },
 "nbformat": 4,
 "nbformat_minor": 5
}
