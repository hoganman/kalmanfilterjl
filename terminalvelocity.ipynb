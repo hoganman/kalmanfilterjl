{
 "cells": [
  {
   "cell_type": "markdown",
   "id": "0fe47ebd",
   "metadata": {},
   "source": [
    "Consider a sky-diver falling towards the surface of Earth. The diver brought with them a temperature sensor that took multiple measurements along the descent. The diver is interested in determining their terminal velocity given these measurements.\n",
    "\n",
    "Problem: Given a temperature measurement, can one estimate the velocity as a function of time?"
   ]
  },
  {
   "cell_type": "code",
   "execution_count": 411,
   "id": "27006630",
   "metadata": {},
   "outputs": [],
   "source": [
    "using LinearAlgebra\n",
    "using Random\n",
    "using PlotlyJS\n",
    "\n",
    "include(\"kalmanflt.jl\");"
   ]
  },
  {
   "cell_type": "markdown",
   "id": "3512e124",
   "metadata": {},
   "source": [
    "The system is a particle falling due to gravity WITH air resistance. For this simulation, the falling object will acheive terminal velocity. The velocity as a function of time is modeled as"
   ]
  },
  {
   "cell_type": "markdown",
   "id": "743cba50",
   "metadata": {},
   "source": [
    "$$\n",
    "v(t) = v_{\\infty} \\tanh\\left(\\frac{g t}{v_{\\infty}}\\right)\n",
    "$$"
   ]
  },
  {
   "cell_type": "markdown",
   "id": "c53f0c0a",
   "metadata": {},
   "source": [
    "where $v_{\\infty}$ is the terminal velocity as time approaches infinity and $g$ is the acceleration due to gravity. "
   ]
  },
  {
   "cell_type": "code",
   "execution_count": 412,
   "id": "ab647c04",
   "metadata": {},
   "outputs": [],
   "source": [
    "accel_ms2 = -9.8 # meter / sec^2\n",
    "v_inf = 54 # meter / sec\n",
    "time_steps = 100\n",
    "delta_time_sec = 0.15  # sec\n",
    "time_axis_sec = [delta_time_sec * (t-1) for t in 1:time_steps];"
   ]
  },
  {
   "cell_type": "markdown",
   "id": "3aea39bd",
   "metadata": {},
   "source": [
    "Plot the velocity function"
   ]
  },
  {
   "cell_type": "code",
   "execution_count": 413,
   "id": "fc0c964a",
   "metadata": {},
   "outputs": [
    {
     "data": {
      "application/vnd.plotly.v1+json": {
       "config": {
        "editable": false,
        "responsive": true,
        "scrollZoom": true,
        "showLink": false,
        "staticPlot": false
       },
       "data": [
        {
         "mode": "markers+lines",
         "name": "Velocity",
         "type": "scatter",
         "x": [
          0,
          0.15,
          0.3,
          0.44999999999999996,
          0.6,
          0.75,
          0.8999999999999999,
          1.05,
          1.2,
          1.3499999999999999,
          1.5,
          1.65,
          1.7999999999999998,
          1.95,
          2.1,
          2.25,
          2.4,
          2.55,
          2.6999999999999997,
          2.85,
          3,
          3.15,
          3.3,
          3.4499999999999997,
          3.5999999999999996,
          3.75,
          3.9,
          4.05,
          4.2,
          4.35,
          4.5,
          4.6499999999999995,
          4.8,
          4.95,
          5.1,
          5.25,
          5.3999999999999995,
          5.55,
          5.7,
          5.85,
          6,
          6.1499999999999995,
          6.3,
          6.45,
          6.6,
          6.75,
          6.8999999999999995,
          7.05,
          7.199999999999999,
          7.35,
          7.5,
          7.6499999999999995,
          7.8,
          7.949999999999999,
          8.1,
          8.25,
          8.4,
          8.549999999999999,
          8.7,
          8.85,
          9,
          9.15,
          9.299999999999999,
          9.45,
          9.6,
          9.75,
          9.9,
          10.049999999999999,
          10.2,
          10.35,
          10.5,
          10.65,
          10.799999999999999,
          10.95,
          11.1,
          11.25,
          11.4,
          11.549999999999999,
          11.7,
          11.85,
          12,
          12.15,
          12.299999999999999,
          12.45,
          12.6,
          12.75,
          12.9,
          13.049999999999999,
          13.2,
          13.35,
          13.5,
          13.65,
          13.799999999999999,
          13.95,
          14.1,
          14.25,
          14.399999999999999,
          14.549999999999999,
          14.7,
          14.85
         ],
         "y": [
          0,
          -1.4696369934044147,
          -2.93709852658733,
          -4.400222001365922,
          -5.856870382376402,
          -7.304944578798362,
          -8.742395356033516,
          -10.16723463628391,
          -11.577546059717076,
          -12.971494693053733,
          -14.347335789499724,
          -15.703422522455,
          -17.03821263483159,
          -18.350273965559705,
          -19.638288834435137,
          -20.90105728537547,
          -22.137499205973473,
          -23.34665535759246,
          -24.52768736484199,
          -25.67987672588044,
          -26.80262291546983,
          -27.895440660987738,
          -28.957956477682536,
          -29.98990455340419,
          -30.991122074971138,
          -31.961544088403226,
          -32.90119798365641,
          -33.810197691450995,
          -34.688737675521686,
          -35.53708679836574,
          -36.35558213255502,
          -37.144622783125925,
          -37.9046637796703,
          -38.63621008970526,
          -39.339810797859954,
          -40.016053488522715,
          -40.66555886295581,
          -41.28897561560103,
          -41.88697558843546,
          -42.46024921684409,
          -43.00950127558594,
          -43.53544692905797,
          -44.03880808620917,
          -44.520310057115914,
          -44.98067850538016,
          -45.42063668813034,
          -45.84090297345663,
          -46.24218862356786,
          -46.62519583077545,
          -46.99061599255645,
          -47.33912821138381,
          -47.671398004701715,
          -47.988076210331954,
          -48.28979807269157,
          -48.57718249545122,
          -48.85083144664045,
          -49.1113295026847,
          -49.35924351841675,
          -49.595122410722695,
          -49.81949704414125,
          -50.03288020742079,
          -50.235766670737405,
          -50.428633313978935,
          -50.61193931719506,
          -50.78612640499483,
          -50.951619137334774,
          -51.10882523977744,
          -51.258135966910245,
          -51.399926493192694,
          -51.534556326047706,
          -51.662369736526415,
          -51.783696203356946,
          -51.89885086663515,
          -52.00813498783056,
          -52.111836413164276,
          -52.21023003776825,
          -52.30357826835899,
          -52.39213148245431,
          -52.476128482430816,
          -52.5557969429643,
          -52.631353850616115,
          -52.70300593452784,
          -52.77095008736578,
          -52.835373775817175,
          -52.896455440083116,
          -52.95436488194061,
          -53.009263641058915,
          -53.06130535935484,
          -53.11063613325919,
          -53.15739485384285,
          -53.20171353481754,
          -53.24371762848386,
          -53.28352632974826,
          -53.321252868373215,
          -53.35700478965965,
          -53.39088422379107,
          -53.42298814409283,
          -53.45340861447991,
          -53.48223302638248,
          -53.50954432545027
         ]
        }
       ],
       "frames": [],
       "layout": {
        "legend": {
         "title": "Legend Title"
        },
        "margin": {
         "b": 50,
         "l": 50,
         "r": 50,
         "t": 60
        },
        "template": {
         "data": {
          "bar": [
           {
            "error_x": {
             "color": "#2a3f5f"
            },
            "error_y": {
             "color": "#2a3f5f"
            },
            "marker": {
             "line": {
              "color": "#E5ECF6",
              "width": 0.5
             }
            },
            "type": "bar"
           }
          ],
          "barpolar": [
           {
            "marker": {
             "line": {
              "color": "#E5ECF6",
              "width": 0.5
             }
            },
            "type": "barpolar"
           }
          ],
          "carpet": [
           {
            "aaxis": {
             "endlinecolor": "#2a3f5f",
             "gridcolor": "white",
             "linecolor": "white",
             "minorgridcolor": "white",
             "startlinecolor": "#2a3f5f"
            },
            "baxis": {
             "endlinecolor": "#2a3f5f",
             "gridcolor": "white",
             "linecolor": "white",
             "minorgridcolor": "white",
             "startlinecolor": "#2a3f5f"
            },
            "type": "carpet"
           }
          ],
          "choropleth": [
           {
            "colorbar": {
             "outlinewidth": 0,
             "ticks": ""
            },
            "type": "choropleth"
           }
          ],
          "contour": [
           {
            "colorbar": {
             "outlinewidth": 0,
             "ticks": ""
            },
            "colorscale": [
             [
              0,
              "#0d0887"
             ],
             [
              0.1111111111111111,
              "#46039f"
             ],
             [
              0.2222222222222222,
              "#7201a8"
             ],
             [
              0.3333333333333333,
              "#9c179e"
             ],
             [
              0.4444444444444444,
              "#bd3786"
             ],
             [
              0.5555555555555556,
              "#d8576b"
             ],
             [
              0.6666666666666666,
              "#ed7953"
             ],
             [
              0.7777777777777778,
              "#fb9f3a"
             ],
             [
              0.8888888888888888,
              "#fdca26"
             ],
             [
              1,
              "#f0f921"
             ]
            ],
            "type": "contour"
           }
          ],
          "contourcarpet": [
           {
            "colorbar": {
             "outlinewidth": 0,
             "ticks": ""
            },
            "type": "contourcarpet"
           }
          ],
          "heatmap": [
           {
            "colorbar": {
             "outlinewidth": 0,
             "ticks": ""
            },
            "colorscale": [
             [
              0,
              "#0d0887"
             ],
             [
              0.1111111111111111,
              "#46039f"
             ],
             [
              0.2222222222222222,
              "#7201a8"
             ],
             [
              0.3333333333333333,
              "#9c179e"
             ],
             [
              0.4444444444444444,
              "#bd3786"
             ],
             [
              0.5555555555555556,
              "#d8576b"
             ],
             [
              0.6666666666666666,
              "#ed7953"
             ],
             [
              0.7777777777777778,
              "#fb9f3a"
             ],
             [
              0.8888888888888888,
              "#fdca26"
             ],
             [
              1,
              "#f0f921"
             ]
            ],
            "type": "heatmap"
           }
          ],
          "heatmapgl": [
           {
            "colorbar": {
             "outlinewidth": 0,
             "ticks": ""
            },
            "colorscale": [
             [
              0,
              "#0d0887"
             ],
             [
              0.1111111111111111,
              "#46039f"
             ],
             [
              0.2222222222222222,
              "#7201a8"
             ],
             [
              0.3333333333333333,
              "#9c179e"
             ],
             [
              0.4444444444444444,
              "#bd3786"
             ],
             [
              0.5555555555555556,
              "#d8576b"
             ],
             [
              0.6666666666666666,
              "#ed7953"
             ],
             [
              0.7777777777777778,
              "#fb9f3a"
             ],
             [
              0.8888888888888888,
              "#fdca26"
             ],
             [
              1,
              "#f0f921"
             ]
            ],
            "type": "heatmapgl"
           }
          ],
          "histogram": [
           {
            "marker": {
             "colorbar": {
              "outlinewidth": 0,
              "ticks": ""
             }
            },
            "type": "histogram"
           }
          ],
          "histogram2d": [
           {
            "colorbar": {
             "outlinewidth": 0,
             "ticks": ""
            },
            "colorscale": [
             [
              0,
              "#0d0887"
             ],
             [
              0.1111111111111111,
              "#46039f"
             ],
             [
              0.2222222222222222,
              "#7201a8"
             ],
             [
              0.3333333333333333,
              "#9c179e"
             ],
             [
              0.4444444444444444,
              "#bd3786"
             ],
             [
              0.5555555555555556,
              "#d8576b"
             ],
             [
              0.6666666666666666,
              "#ed7953"
             ],
             [
              0.7777777777777778,
              "#fb9f3a"
             ],
             [
              0.8888888888888888,
              "#fdca26"
             ],
             [
              1,
              "#f0f921"
             ]
            ],
            "type": "histogram2d"
           }
          ],
          "histogram2dcontour": [
           {
            "colorbar": {
             "outlinewidth": 0,
             "ticks": ""
            },
            "colorscale": [
             [
              0,
              "#0d0887"
             ],
             [
              0.1111111111111111,
              "#46039f"
             ],
             [
              0.2222222222222222,
              "#7201a8"
             ],
             [
              0.3333333333333333,
              "#9c179e"
             ],
             [
              0.4444444444444444,
              "#bd3786"
             ],
             [
              0.5555555555555556,
              "#d8576b"
             ],
             [
              0.6666666666666666,
              "#ed7953"
             ],
             [
              0.7777777777777778,
              "#fb9f3a"
             ],
             [
              0.8888888888888888,
              "#fdca26"
             ],
             [
              1,
              "#f0f921"
             ]
            ],
            "type": "histogram2dcontour"
           }
          ],
          "mesh3d": [
           {
            "colorbar": {
             "outlinewidth": 0,
             "ticks": ""
            },
            "type": "mesh3d"
           }
          ],
          "parcoords": [
           {
            "line": {
             "colorbar": {
              "outlinewidth": 0,
              "ticks": ""
             }
            },
            "type": "parcoords"
           }
          ],
          "pie": [
           {
            "automargin": true,
            "type": "pie"
           }
          ],
          "scatter": [
           {
            "marker": {
             "colorbar": {
              "outlinewidth": 0,
              "ticks": ""
             }
            },
            "type": "scatter"
           }
          ],
          "scatter3d": [
           {
            "line": {
             "colorbar": {
              "outlinewidth": 0,
              "ticks": ""
             }
            },
            "marker": {
             "colorbar": {
              "outlinewidth": 0,
              "ticks": ""
             }
            },
            "type": "scatter3d"
           }
          ],
          "scattercarpet": [
           {
            "marker": {
             "colorbar": {
              "outlinewidth": 0,
              "ticks": ""
             }
            },
            "type": "scattercarpet"
           }
          ],
          "scattergeo": [
           {
            "marker": {
             "colorbar": {
              "outlinewidth": 0,
              "ticks": ""
             }
            },
            "type": "scattergeo"
           }
          ],
          "scattergl": [
           {
            "marker": {
             "colorbar": {
              "outlinewidth": 0,
              "ticks": ""
             }
            },
            "type": "scattergl"
           }
          ],
          "scattermapbox": [
           {
            "marker": {
             "colorbar": {
              "outlinewidth": 0,
              "ticks": ""
             }
            },
            "type": "scattermapbox"
           }
          ],
          "scatterpolar": [
           {
            "marker": {
             "colorbar": {
              "outlinewidth": 0,
              "ticks": ""
             }
            },
            "type": "scatterpolar"
           }
          ],
          "scatterpolargl": [
           {
            "marker": {
             "colorbar": {
              "outlinewidth": 0,
              "ticks": ""
             }
            },
            "type": "scatterpolargl"
           }
          ],
          "scatterternary": [
           {
            "marker": {
             "colorbar": {
              "outlinewidth": 0,
              "ticks": ""
             }
            },
            "type": "scatterternary"
           }
          ],
          "surface": [
           {
            "colorbar": {
             "outlinewidth": 0,
             "ticks": ""
            },
            "colorscale": [
             [
              0,
              "#0d0887"
             ],
             [
              0.1111111111111111,
              "#46039f"
             ],
             [
              0.2222222222222222,
              "#7201a8"
             ],
             [
              0.3333333333333333,
              "#9c179e"
             ],
             [
              0.4444444444444444,
              "#bd3786"
             ],
             [
              0.5555555555555556,
              "#d8576b"
             ],
             [
              0.6666666666666666,
              "#ed7953"
             ],
             [
              0.7777777777777778,
              "#fb9f3a"
             ],
             [
              0.8888888888888888,
              "#fdca26"
             ],
             [
              1,
              "#f0f921"
             ]
            ],
            "type": "surface"
           }
          ],
          "table": [
           {
            "cells": {
             "fill": {
              "color": "#EBF0F8"
             },
             "line": {
              "color": "white"
             }
            },
            "header": {
             "fill": {
              "color": "#C8D4E3"
             },
             "line": {
              "color": "white"
             }
            },
            "type": "table"
           }
          ]
         },
         "layout": {
          "annotationdefaults": {
           "arrowcolor": "#2a3f5f",
           "arrowhead": 0,
           "arrowwidth": 1
          },
          "autotypenumbers": "strict",
          "coloraxis": {
           "colorbar": {
            "outlinewidth": 0,
            "ticks": ""
           }
          },
          "colorscale": {
           "diverging": [
            [
             0,
             "#8e0152"
            ],
            [
             0.1,
             "#c51b7d"
            ],
            [
             0.2,
             "#de77ae"
            ],
            [
             0.3,
             "#f1b6da"
            ],
            [
             0.4,
             "#fde0ef"
            ],
            [
             0.5,
             "#f7f7f7"
            ],
            [
             0.6,
             "#e6f5d0"
            ],
            [
             0.7,
             "#b8e186"
            ],
            [
             0.8,
             "#7fbc41"
            ],
            [
             0.9,
             "#4d9221"
            ],
            [
             1,
             "#276419"
            ]
           ],
           "sequential": [
            [
             0,
             "#0d0887"
            ],
            [
             0.1111111111111111,
             "#46039f"
            ],
            [
             0.2222222222222222,
             "#7201a8"
            ],
            [
             0.3333333333333333,
             "#9c179e"
            ],
            [
             0.4444444444444444,
             "#bd3786"
            ],
            [
             0.5555555555555556,
             "#d8576b"
            ],
            [
             0.6666666666666666,
             "#ed7953"
            ],
            [
             0.7777777777777778,
             "#fb9f3a"
            ],
            [
             0.8888888888888888,
             "#fdca26"
            ],
            [
             1,
             "#f0f921"
            ]
           ],
           "sequentialminus": [
            [
             0,
             "#0d0887"
            ],
            [
             0.1111111111111111,
             "#46039f"
            ],
            [
             0.2222222222222222,
             "#7201a8"
            ],
            [
             0.3333333333333333,
             "#9c179e"
            ],
            [
             0.4444444444444444,
             "#bd3786"
            ],
            [
             0.5555555555555556,
             "#d8576b"
            ],
            [
             0.6666666666666666,
             "#ed7953"
            ],
            [
             0.7777777777777778,
             "#fb9f3a"
            ],
            [
             0.8888888888888888,
             "#fdca26"
            ],
            [
             1,
             "#f0f921"
            ]
           ]
          },
          "colorway": [
           "#636efa",
           "#EF553B",
           "#00cc96",
           "#ab63fa",
           "#FFA15A",
           "#19d3f3",
           "#FF6692",
           "#B6E880",
           "#FF97FF",
           "#FECB52"
          ],
          "font": {
           "color": "#2a3f5f"
          },
          "geo": {
           "bgcolor": "white",
           "lakecolor": "white",
           "landcolor": "#E5ECF6",
           "showlakes": true,
           "showland": true,
           "subunitcolor": "white"
          },
          "hoverlabel": {
           "align": "left"
          },
          "hovermode": "closest",
          "mapbox": {
           "style": "light"
          },
          "paper_bgcolor": "white",
          "plot_bgcolor": "#E5ECF6",
          "polar": {
           "angularaxis": {
            "gridcolor": "white",
            "linecolor": "white",
            "ticks": ""
           },
           "bgcolor": "#E5ECF6",
           "radialaxis": {
            "gridcolor": "white",
            "linecolor": "white",
            "ticks": ""
           }
          },
          "scene": {
           "xaxis": {
            "backgroundcolor": "#E5ECF6",
            "gridcolor": "white",
            "gridwidth": 2,
            "linecolor": "white",
            "showbackground": true,
            "ticks": "",
            "zerolinecolor": "white"
           },
           "yaxis": {
            "backgroundcolor": "#E5ECF6",
            "gridcolor": "white",
            "gridwidth": 2,
            "linecolor": "white",
            "showbackground": true,
            "ticks": "",
            "zerolinecolor": "white"
           },
           "zaxis": {
            "backgroundcolor": "#E5ECF6",
            "gridcolor": "white",
            "gridwidth": 2,
            "linecolor": "white",
            "showbackground": true,
            "ticks": "",
            "zerolinecolor": "white"
           }
          },
          "shapedefaults": {
           "line": {
            "color": "#2a3f5f"
           }
          },
          "ternary": {
           "aaxis": {
            "gridcolor": "white",
            "linecolor": "white",
            "ticks": ""
           },
           "baxis": {
            "gridcolor": "white",
            "linecolor": "white",
            "ticks": ""
           },
           "bgcolor": "#E5ECF6",
           "caxis": {
            "gridcolor": "white",
            "linecolor": "white",
            "ticks": ""
           }
          },
          "title": {
           "x": 0.05
          },
          "xaxis": {
           "automargin": true,
           "gridcolor": "white",
           "linecolor": "white",
           "ticks": "",
           "title": {
            "standoff": 15
           },
           "zerolinecolor": "white",
           "zerolinewidth": 2
          },
          "yaxis": {
           "automargin": true,
           "gridcolor": "white",
           "linecolor": "white",
           "ticks": "",
           "title": {
            "standoff": 15
           },
           "zerolinecolor": "white",
           "zerolinewidth": 2
          }
         }
        },
        "title": "Velocity Model",
        "xaxis": {
         "title": {
          "text": "Time (second)"
         }
        },
        "yaxis": {
         "title": {
          "text": "Velocity (meter / second)"
         }
        }
       }
      },
      "text/html": [
       "<div\n",
       "    class=\"webio-mountpoint\"\n",
       "    data-webio-mountpoint=\"11771640633478813041\"\n",
       ">\n",
       "    <script>\n",
       "    (function(){\n",
       "    // Some integrations (namely, IJulia/Jupyter) use an alternate render pathway than\n",
       "    // just putting the html on the page. If WebIO isn't defined, then it's pretty likely\n",
       "    // that we're in one of those situations and the integration just isn't installed\n",
       "    // correctly.\n",
       "    if (typeof window.WebIO === \"undefined\") {\n",
       "        document\n",
       "            .querySelector('[data-webio-mountpoint=\"11771640633478813041\"]')\n",
       "            .innerHTML = (\n",
       "                '<div style=\"padding: 1em; background-color: #f8d6da; border: 1px solid #f5c6cb; font-weight: bold;\">' +\n",
       "                '<p><strong>WebIO not detected.</strong></p>' +\n",
       "                '<p>Please read ' +\n",
       "                '<a href=\"https://juliagizmos.github.io/WebIO.jl/latest/troubleshooting/not-detected/\" target=\"_blank\">the troubleshooting guide</a> ' +\n",
       "                'for more information on how to resolve this issue.</p>' +\n",
       "                '<p><a href=\"https://juliagizmos.github.io/WebIO.jl/latest/troubleshooting/not-detected/\" target=\"_blank\">https://juliagizmos.github.io/WebIO.jl/latest/troubleshooting/not-detected/</a></p>' +\n",
       "                '</div>'\n",
       "            );\n",
       "        return;\n",
       "    }\n",
       "    WebIO.mount(\n",
       "        document.querySelector('[data-webio-mountpoint=\"11771640633478813041\"]'),\n",
       "        {\"props\":{},\"nodeType\":\"Scope\",\"type\":\"node\",\"instanceArgs\":{\"imports\":{\"data\":[{\"name\":\"Plotly\",\"type\":\"js\",\"url\":\"\\/assetserver\\/627f17ff06762af3874159c00b9b1e00e50688bc-plotly.min.js\"},{\"name\":null,\"type\":\"js\",\"url\":\"\\/assetserver\\/1a276a0acb11ad47020d3f379225d41bbd0aeef0-plotly_webio.bundle.js\"}],\"type\":\"async_block\"},\"id\":\"5415343460957143598\",\"handlers\":{\"_toImage\":[\"(function (options){return this.Plotly.toImage(this.plotElem,options).then((function (data){return WebIO.setval({\\\"name\\\":\\\"image\\\",\\\"scope\\\":\\\"5415343460957143598\\\",\\\"id\\\":\\\"10435142947566718691\\\",\\\"type\\\":\\\"observable\\\"},data)}))})\"],\"__get_gd_contents\":[\"(function (prop){prop==\\\"data\\\" ? (WebIO.setval({\\\"name\\\":\\\"__gd_contents\\\",\\\"scope\\\":\\\"5415343460957143598\\\",\\\"id\\\":\\\"17381514751861854366\\\",\\\"type\\\":\\\"observable\\\"},this.plotElem.data)) : undefined; return prop==\\\"layout\\\" ? (WebIO.setval({\\\"name\\\":\\\"__gd_contents\\\",\\\"scope\\\":\\\"5415343460957143598\\\",\\\"id\\\":\\\"17381514751861854366\\\",\\\"type\\\":\\\"observable\\\"},this.plotElem.layout)) : undefined})\"],\"_downloadImage\":[\"(function (options){return this.Plotly.downloadImage(this.plotElem,options)})\"],\"_commands\":[\"(function (args){var fn=args.shift(); var elem=this.plotElem; var Plotly=this.Plotly; args.unshift(elem); return Plotly[fn].apply(this,args)})\"]},\"systemjs_options\":null,\"mount_callbacks\":[\"function () {\\n    var handler = ((function (Plotly,PlotlyWebIO){PlotlyWebIO.init(WebIO); var gd=this.dom.querySelector(\\\"#plot-c75f3dfa-1e76-4008-acf4-aaf164e6134c\\\"); this.plotElem=gd; this.Plotly=Plotly; (window.Blink!==undefined) ? (gd.style.width=\\\"100%\\\", gd.style.height=\\\"100vh\\\", gd.style.marginLeft=\\\"0%\\\", gd.style.marginTop=\\\"0vh\\\") : undefined; window.onresize=(function (){return Plotly.Plots.resize(gd)}); Plotly.newPlot(gd,[{\\\"mode\\\":\\\"markers+lines\\\",\\\"y\\\":[-0.0,-1.4696369934044147,-2.93709852658733,-4.400222001365922,-5.856870382376402,-7.304944578798362,-8.742395356033516,-10.16723463628391,-11.577546059717076,-12.971494693053733,-14.347335789499724,-15.703422522455,-17.03821263483159,-18.350273965559705,-19.638288834435137,-20.90105728537547,-22.137499205973473,-23.34665535759246,-24.52768736484199,-25.67987672588044,-26.80262291546983,-27.895440660987738,-28.957956477682536,-29.98990455340419,-30.991122074971138,-31.961544088403226,-32.90119798365641,-33.810197691450995,-34.688737675521686,-35.53708679836574,-36.35558213255502,-37.144622783125925,-37.9046637796703,-38.63621008970526,-39.339810797859954,-40.016053488522715,-40.66555886295581,-41.28897561560103,-41.88697558843546,-42.46024921684409,-43.00950127558594,-43.53544692905797,-44.03880808620917,-44.520310057115914,-44.98067850538016,-45.42063668813034,-45.84090297345663,-46.24218862356786,-46.62519583077545,-46.99061599255645,-47.33912821138381,-47.671398004701715,-47.988076210331954,-48.28979807269157,-48.57718249545122,-48.85083144664045,-49.1113295026847,-49.35924351841675,-49.595122410722695,-49.81949704414125,-50.03288020742079,-50.235766670737405,-50.428633313978935,-50.61193931719506,-50.78612640499483,-50.951619137334774,-51.10882523977744,-51.258135966910245,-51.399926493192694,-51.534556326047706,-51.662369736526415,-51.783696203356946,-51.89885086663515,-52.00813498783056,-52.111836413164276,-52.21023003776825,-52.30357826835899,-52.39213148245431,-52.476128482430816,-52.5557969429643,-52.631353850616115,-52.70300593452784,-52.77095008736578,-52.835373775817175,-52.896455440083116,-52.95436488194061,-53.009263641058915,-53.06130535935484,-53.11063613325919,-53.15739485384285,-53.20171353481754,-53.24371762848386,-53.28352632974826,-53.321252868373215,-53.35700478965965,-53.39088422379107,-53.42298814409283,-53.45340861447991,-53.48223302638248,-53.50954432545027],\\\"type\\\":\\\"scatter\\\",\\\"name\\\":\\\"Velocity\\\",\\\"x\\\":[0.0,0.15,0.3,0.44999999999999996,0.6,0.75,0.8999999999999999,1.05,1.2,1.3499999999999999,1.5,1.65,1.7999999999999998,1.95,2.1,2.25,2.4,2.55,2.6999999999999997,2.85,3.0,3.15,3.3,3.4499999999999997,3.5999999999999996,3.75,3.9,4.05,4.2,4.35,4.5,4.6499999999999995,4.8,4.95,5.1,5.25,5.3999999999999995,5.55,5.7,5.85,6.0,6.1499999999999995,6.3,6.45,6.6,6.75,6.8999999999999995,7.05,7.199999999999999,7.35,7.5,7.6499999999999995,7.8,7.949999999999999,8.1,8.25,8.4,8.549999999999999,8.7,8.85,9.0,9.15,9.299999999999999,9.45,9.6,9.75,9.9,10.049999999999999,10.2,10.35,10.5,10.65,10.799999999999999,10.95,11.1,11.25,11.4,11.549999999999999,11.7,11.85,12.0,12.15,12.299999999999999,12.45,12.6,12.75,12.9,13.049999999999999,13.2,13.35,13.5,13.65,13.799999999999999,13.95,14.1,14.25,14.399999999999999,14.549999999999999,14.7,14.85]}],{\\\"xaxis\\\":{\\\"title\\\":{\\\"text\\\":\\\"Time (second)\\\"}},\\\"template\\\":{\\\"layout\\\":{\\\"coloraxis\\\":{\\\"colorbar\\\":{\\\"ticks\\\":\\\"\\\",\\\"outlinewidth\\\":0}},\\\"xaxis\\\":{\\\"gridcolor\\\":\\\"white\\\",\\\"zerolinewidth\\\":2,\\\"title\\\":{\\\"standoff\\\":15},\\\"ticks\\\":\\\"\\\",\\\"zerolinecolor\\\":\\\"white\\\",\\\"automargin\\\":true,\\\"linecolor\\\":\\\"white\\\"},\\\"hovermode\\\":\\\"closest\\\",\\\"paper_bgcolor\\\":\\\"white\\\",\\\"geo\\\":{\\\"showlakes\\\":true,\\\"showland\\\":true,\\\"landcolor\\\":\\\"#E5ECF6\\\",\\\"bgcolor\\\":\\\"white\\\",\\\"subunitcolor\\\":\\\"white\\\",\\\"lakecolor\\\":\\\"white\\\"},\\\"colorscale\\\":{\\\"sequential\\\":[[0.0,\\\"#0d0887\\\"],[0.1111111111111111,\\\"#46039f\\\"],[0.2222222222222222,\\\"#7201a8\\\"],[0.3333333333333333,\\\"#9c179e\\\"],[0.4444444444444444,\\\"#bd3786\\\"],[0.5555555555555556,\\\"#d8576b\\\"],[0.6666666666666666,\\\"#ed7953\\\"],[0.7777777777777778,\\\"#fb9f3a\\\"],[0.8888888888888888,\\\"#fdca26\\\"],[1.0,\\\"#f0f921\\\"]],\\\"diverging\\\":[[0,\\\"#8e0152\\\"],[0.1,\\\"#c51b7d\\\"],[0.2,\\\"#de77ae\\\"],[0.3,\\\"#f1b6da\\\"],[0.4,\\\"#fde0ef\\\"],[0.5,\\\"#f7f7f7\\\"],[0.6,\\\"#e6f5d0\\\"],[0.7,\\\"#b8e186\\\"],[0.8,\\\"#7fbc41\\\"],[0.9,\\\"#4d9221\\\"],[1,\\\"#276419\\\"]],\\\"sequentialminus\\\":[[0.0,\\\"#0d0887\\\"],[0.1111111111111111,\\\"#46039f\\\"],[0.2222222222222222,\\\"#7201a8\\\"],[0.3333333333333333,\\\"#9c179e\\\"],[0.4444444444444444,\\\"#bd3786\\\"],[0.5555555555555556,\\\"#d8576b\\\"],[0.6666666666666666,\\\"#ed7953\\\"],[0.7777777777777778,\\\"#fb9f3a\\\"],[0.8888888888888888,\\\"#fdca26\\\"],[1.0,\\\"#f0f921\\\"]]},\\\"yaxis\\\":{\\\"gridcolor\\\":\\\"white\\\",\\\"zerolinewidth\\\":2,\\\"title\\\":{\\\"standoff\\\":15},\\\"ticks\\\":\\\"\\\",\\\"zerolinecolor\\\":\\\"white\\\",\\\"automargin\\\":true,\\\"linecolor\\\":\\\"white\\\"},\\\"shapedefaults\\\":{\\\"line\\\":{\\\"color\\\":\\\"#2a3f5f\\\"}},\\\"hoverlabel\\\":{\\\"align\\\":\\\"left\\\"},\\\"mapbox\\\":{\\\"style\\\":\\\"light\\\"},\\\"polar\\\":{\\\"angularaxis\\\":{\\\"gridcolor\\\":\\\"white\\\",\\\"ticks\\\":\\\"\\\",\\\"linecolor\\\":\\\"white\\\"},\\\"bgcolor\\\":\\\"#E5ECF6\\\",\\\"radialaxis\\\":{\\\"gridcolor\\\":\\\"white\\\",\\\"ticks\\\":\\\"\\\",\\\"linecolor\\\":\\\"white\\\"}},\\\"autotypenumbers\\\":\\\"strict\\\",\\\"font\\\":{\\\"color\\\":\\\"#2a3f5f\\\"},\\\"ternary\\\":{\\\"baxis\\\":{\\\"gridcolor\\\":\\\"white\\\",\\\"ticks\\\":\\\"\\\",\\\"linecolor\\\":\\\"white\\\"},\\\"bgcolor\\\":\\\"#E5ECF6\\\",\\\"caxis\\\":{\\\"gridcolor\\\":\\\"white\\\",\\\"ticks\\\":\\\"\\\",\\\"linecolor\\\":\\\"white\\\"},\\\"aaxis\\\":{\\\"gridcolor\\\":\\\"white\\\",\\\"ticks\\\":\\\"\\\",\\\"linecolor\\\":\\\"white\\\"}},\\\"annotationdefaults\\\":{\\\"arrowhead\\\":0,\\\"arrowwidth\\\":1,\\\"arrowcolor\\\":\\\"#2a3f5f\\\"},\\\"plot_bgcolor\\\":\\\"#E5ECF6\\\",\\\"title\\\":{\\\"x\\\":0.05},\\\"scene\\\":{\\\"xaxis\\\":{\\\"gridcolor\\\":\\\"white\\\",\\\"gridwidth\\\":2,\\\"backgroundcolor\\\":\\\"#E5ECF6\\\",\\\"ticks\\\":\\\"\\\",\\\"showbackground\\\":true,\\\"zerolinecolor\\\":\\\"white\\\",\\\"linecolor\\\":\\\"white\\\"},\\\"zaxis\\\":{\\\"gridcolor\\\":\\\"white\\\",\\\"gridwidth\\\":2,\\\"backgroundcolor\\\":\\\"#E5ECF6\\\",\\\"ticks\\\":\\\"\\\",\\\"showbackground\\\":true,\\\"zerolinecolor\\\":\\\"white\\\",\\\"linecolor\\\":\\\"white\\\"},\\\"yaxis\\\":{\\\"gridcolor\\\":\\\"white\\\",\\\"gridwidth\\\":2,\\\"backgroundcolor\\\":\\\"#E5ECF6\\\",\\\"ticks\\\":\\\"\\\",\\\"showbackground\\\":true,\\\"zerolinecolor\\\":\\\"white\\\",\\\"linecolor\\\":\\\"white\\\"}},\\\"colorway\\\":[\\\"#636efa\\\",\\\"#EF553B\\\",\\\"#00cc96\\\",\\\"#ab63fa\\\",\\\"#FFA15A\\\",\\\"#19d3f3\\\",\\\"#FF6692\\\",\\\"#B6E880\\\",\\\"#FF97FF\\\",\\\"#FECB52\\\"]},\\\"data\\\":{\\\"barpolar\\\":[{\\\"type\\\":\\\"barpolar\\\",\\\"marker\\\":{\\\"line\\\":{\\\"color\\\":\\\"#E5ECF6\\\",\\\"width\\\":0.5}}}],\\\"carpet\\\":[{\\\"aaxis\\\":{\\\"gridcolor\\\":\\\"white\\\",\\\"endlinecolor\\\":\\\"#2a3f5f\\\",\\\"minorgridcolor\\\":\\\"white\\\",\\\"startlinecolor\\\":\\\"#2a3f5f\\\",\\\"linecolor\\\":\\\"white\\\"},\\\"type\\\":\\\"carpet\\\",\\\"baxis\\\":{\\\"gridcolor\\\":\\\"white\\\",\\\"endlinecolor\\\":\\\"#2a3f5f\\\",\\\"minorgridcolor\\\":\\\"white\\\",\\\"startlinecolor\\\":\\\"#2a3f5f\\\",\\\"linecolor\\\":\\\"white\\\"}}],\\\"scatterpolar\\\":[{\\\"type\\\":\\\"scatterpolar\\\",\\\"marker\\\":{\\\"colorbar\\\":{\\\"ticks\\\":\\\"\\\",\\\"outlinewidth\\\":0}}}],\\\"parcoords\\\":[{\\\"line\\\":{\\\"colorbar\\\":{\\\"ticks\\\":\\\"\\\",\\\"outlinewidth\\\":0}},\\\"type\\\":\\\"parcoords\\\"}],\\\"scatter\\\":[{\\\"type\\\":\\\"scatter\\\",\\\"marker\\\":{\\\"colorbar\\\":{\\\"ticks\\\":\\\"\\\",\\\"outlinewidth\\\":0}}}],\\\"histogram2dcontour\\\":[{\\\"colorbar\\\":{\\\"ticks\\\":\\\"\\\",\\\"outlinewidth\\\":0},\\\"type\\\":\\\"histogram2dcontour\\\",\\\"colorscale\\\":[[0.0,\\\"#0d0887\\\"],[0.1111111111111111,\\\"#46039f\\\"],[0.2222222222222222,\\\"#7201a8\\\"],[0.3333333333333333,\\\"#9c179e\\\"],[0.4444444444444444,\\\"#bd3786\\\"],[0.5555555555555556,\\\"#d8576b\\\"],[0.6666666666666666,\\\"#ed7953\\\"],[0.7777777777777778,\\\"#fb9f3a\\\"],[0.8888888888888888,\\\"#fdca26\\\"],[1.0,\\\"#f0f921\\\"]]}],\\\"contour\\\":[{\\\"colorbar\\\":{\\\"ticks\\\":\\\"\\\",\\\"outlinewidth\\\":0},\\\"type\\\":\\\"contour\\\",\\\"colorscale\\\":[[0.0,\\\"#0d0887\\\"],[0.1111111111111111,\\\"#46039f\\\"],[0.2222222222222222,\\\"#7201a8\\\"],[0.3333333333333333,\\\"#9c179e\\\"],[0.4444444444444444,\\\"#bd3786\\\"],[0.5555555555555556,\\\"#d8576b\\\"],[0.6666666666666666,\\\"#ed7953\\\"],[0.7777777777777778,\\\"#fb9f3a\\\"],[0.8888888888888888,\\\"#fdca26\\\"],[1.0,\\\"#f0f921\\\"]]}],\\\"scattercarpet\\\":[{\\\"type\\\":\\\"scattercarpet\\\",\\\"marker\\\":{\\\"colorbar\\\":{\\\"ticks\\\":\\\"\\\",\\\"outlinewidth\\\":0}}}],\\\"mesh3d\\\":[{\\\"colorbar\\\":{\\\"ticks\\\":\\\"\\\",\\\"outlinewidth\\\":0},\\\"type\\\":\\\"mesh3d\\\"}],\\\"surface\\\":[{\\\"colorbar\\\":{\\\"ticks\\\":\\\"\\\",\\\"outlinewidth\\\":0},\\\"type\\\":\\\"surface\\\",\\\"colorscale\\\":[[0.0,\\\"#0d0887\\\"],[0.1111111111111111,\\\"#46039f\\\"],[0.2222222222222222,\\\"#7201a8\\\"],[0.3333333333333333,\\\"#9c179e\\\"],[0.4444444444444444,\\\"#bd3786\\\"],[0.5555555555555556,\\\"#d8576b\\\"],[0.6666666666666666,\\\"#ed7953\\\"],[0.7777777777777778,\\\"#fb9f3a\\\"],[0.8888888888888888,\\\"#fdca26\\\"],[1.0,\\\"#f0f921\\\"]]}],\\\"scattermapbox\\\":[{\\\"type\\\":\\\"scattermapbox\\\",\\\"marker\\\":{\\\"colorbar\\\":{\\\"ticks\\\":\\\"\\\",\\\"outlinewidth\\\":0}}}],\\\"scattergeo\\\":[{\\\"type\\\":\\\"scattergeo\\\",\\\"marker\\\":{\\\"colorbar\\\":{\\\"ticks\\\":\\\"\\\",\\\"outlinewidth\\\":0}}}],\\\"histogram\\\":[{\\\"type\\\":\\\"histogram\\\",\\\"marker\\\":{\\\"colorbar\\\":{\\\"ticks\\\":\\\"\\\",\\\"outlinewidth\\\":0}}}],\\\"pie\\\":[{\\\"type\\\":\\\"pie\\\",\\\"automargin\\\":true}],\\\"choropleth\\\":[{\\\"colorbar\\\":{\\\"ticks\\\":\\\"\\\",\\\"outlinewidth\\\":0},\\\"type\\\":\\\"choropleth\\\"}],\\\"heatmapgl\\\":[{\\\"colorbar\\\":{\\\"ticks\\\":\\\"\\\",\\\"outlinewidth\\\":0},\\\"type\\\":\\\"heatmapgl\\\",\\\"colorscale\\\":[[0.0,\\\"#0d0887\\\"],[0.1111111111111111,\\\"#46039f\\\"],[0.2222222222222222,\\\"#7201a8\\\"],[0.3333333333333333,\\\"#9c179e\\\"],[0.4444444444444444,\\\"#bd3786\\\"],[0.5555555555555556,\\\"#d8576b\\\"],[0.6666666666666666,\\\"#ed7953\\\"],[0.7777777777777778,\\\"#fb9f3a\\\"],[0.8888888888888888,\\\"#fdca26\\\"],[1.0,\\\"#f0f921\\\"]]}],\\\"bar\\\":[{\\\"type\\\":\\\"bar\\\",\\\"error_y\\\":{\\\"color\\\":\\\"#2a3f5f\\\"},\\\"error_x\\\":{\\\"color\\\":\\\"#2a3f5f\\\"},\\\"marker\\\":{\\\"line\\\":{\\\"color\\\":\\\"#E5ECF6\\\",\\\"width\\\":0.5}}}],\\\"heatmap\\\":[{\\\"colorbar\\\":{\\\"ticks\\\":\\\"\\\",\\\"outlinewidth\\\":0},\\\"type\\\":\\\"heatmap\\\",\\\"colorscale\\\":[[0.0,\\\"#0d0887\\\"],[0.1111111111111111,\\\"#46039f\\\"],[0.2222222222222222,\\\"#7201a8\\\"],[0.3333333333333333,\\\"#9c179e\\\"],[0.4444444444444444,\\\"#bd3786\\\"],[0.5555555555555556,\\\"#d8576b\\\"],[0.6666666666666666,\\\"#ed7953\\\"],[0.7777777777777778,\\\"#fb9f3a\\\"],[0.8888888888888888,\\\"#fdca26\\\"],[1.0,\\\"#f0f921\\\"]]}],\\\"contourcarpet\\\":[{\\\"colorbar\\\":{\\\"ticks\\\":\\\"\\\",\\\"outlinewidth\\\":0},\\\"type\\\":\\\"contourcarpet\\\"}],\\\"table\\\":[{\\\"type\\\":\\\"table\\\",\\\"header\\\":{\\\"line\\\":{\\\"color\\\":\\\"white\\\"},\\\"fill\\\":{\\\"color\\\":\\\"#C8D4E3\\\"}},\\\"cells\\\":{\\\"line\\\":{\\\"color\\\":\\\"white\\\"},\\\"fill\\\":{\\\"color\\\":\\\"#EBF0F8\\\"}}}],\\\"scatter3d\\\":[{\\\"line\\\":{\\\"colorbar\\\":{\\\"ticks\\\":\\\"\\\",\\\"outlinewidth\\\":0}},\\\"type\\\":\\\"scatter3d\\\",\\\"marker\\\":{\\\"colorbar\\\":{\\\"ticks\\\":\\\"\\\",\\\"outlinewidth\\\":0}}}],\\\"scattergl\\\":[{\\\"type\\\":\\\"scattergl\\\",\\\"marker\\\":{\\\"colorbar\\\":{\\\"ticks\\\":\\\"\\\",\\\"outlinewidth\\\":0}}}],\\\"histogram2d\\\":[{\\\"colorbar\\\":{\\\"ticks\\\":\\\"\\\",\\\"outlinewidth\\\":0},\\\"type\\\":\\\"histogram2d\\\",\\\"colorscale\\\":[[0.0,\\\"#0d0887\\\"],[0.1111111111111111,\\\"#46039f\\\"],[0.2222222222222222,\\\"#7201a8\\\"],[0.3333333333333333,\\\"#9c179e\\\"],[0.4444444444444444,\\\"#bd3786\\\"],[0.5555555555555556,\\\"#d8576b\\\"],[0.6666666666666666,\\\"#ed7953\\\"],[0.7777777777777778,\\\"#fb9f3a\\\"],[0.8888888888888888,\\\"#fdca26\\\"],[1.0,\\\"#f0f921\\\"]]}],\\\"scatterternary\\\":[{\\\"type\\\":\\\"scatterternary\\\",\\\"marker\\\":{\\\"colorbar\\\":{\\\"ticks\\\":\\\"\\\",\\\"outlinewidth\\\":0}}}],\\\"scatterpolargl\\\":[{\\\"type\\\":\\\"scatterpolargl\\\",\\\"marker\\\":{\\\"colorbar\\\":{\\\"ticks\\\":\\\"\\\",\\\"outlinewidth\\\":0}}}]}},\\\"legend\\\":{\\\"title\\\":\\\"Legend Title\\\"},\\\"margin\\\":{\\\"l\\\":50,\\\"b\\\":50,\\\"r\\\":50,\\\"t\\\":60},\\\"title\\\":\\\"Velocity Model\\\",\\\"yaxis\\\":{\\\"title\\\":{\\\"text\\\":\\\"Velocity (meter \\/ second)\\\"}}},{\\\"showLink\\\":false,\\\"editable\\\":false,\\\"responsive\\\":true,\\\"staticPlot\\\":false,\\\"scrollZoom\\\":true}); gd.on(\\\"plotly_hover\\\",(function (data){var filtered_data=WebIO.PlotlyCommands.filterEventData(gd,data,\\\"hover\\\"); return !(filtered_data.isnil) ? (WebIO.setval({\\\"name\\\":\\\"hover\\\",\\\"scope\\\":\\\"5415343460957143598\\\",\\\"id\\\":\\\"17996090528147359465\\\",\\\"type\\\":\\\"observable\\\"},filtered_data.out)) : undefined})); gd.on(\\\"plotly_unhover\\\",(function (){return WebIO.setval({\\\"name\\\":\\\"hover\\\",\\\"scope\\\":\\\"5415343460957143598\\\",\\\"id\\\":\\\"17996090528147359465\\\",\\\"type\\\":\\\"observable\\\"},{})})); gd.on(\\\"plotly_selected\\\",(function (data){var filtered_data=WebIO.PlotlyCommands.filterEventData(gd,data,\\\"selected\\\"); return !(filtered_data.isnil) ? (WebIO.setval({\\\"name\\\":\\\"selected\\\",\\\"scope\\\":\\\"5415343460957143598\\\",\\\"id\\\":\\\"13072463562454488663\\\",\\\"type\\\":\\\"observable\\\"},filtered_data.out)) : undefined})); gd.on(\\\"plotly_deselect\\\",(function (){return WebIO.setval({\\\"name\\\":\\\"selected\\\",\\\"scope\\\":\\\"5415343460957143598\\\",\\\"id\\\":\\\"13072463562454488663\\\",\\\"type\\\":\\\"observable\\\"},{})})); gd.on(\\\"plotly_relayout\\\",(function (data){var filtered_data=WebIO.PlotlyCommands.filterEventData(gd,data,\\\"relayout\\\"); return !(filtered_data.isnil) ? (WebIO.setval({\\\"name\\\":\\\"relayout\\\",\\\"scope\\\":\\\"5415343460957143598\\\",\\\"id\\\":\\\"1840898611728695912\\\",\\\"type\\\":\\\"observable\\\"},filtered_data.out)) : undefined})); return gd.on(\\\"plotly_click\\\",(function (data){var filtered_data=WebIO.PlotlyCommands.filterEventData(gd,data,\\\"click\\\"); return !(filtered_data.isnil) ? (WebIO.setval({\\\"name\\\":\\\"click\\\",\\\"scope\\\":\\\"5415343460957143598\\\",\\\"id\\\":\\\"17201741806760532973\\\",\\\"type\\\":\\\"observable\\\"},filtered_data.out)) : undefined}))}));\\n    (WebIO.importBlock({\\\"data\\\":[{\\\"name\\\":\\\"Plotly\\\",\\\"type\\\":\\\"js\\\",\\\"url\\\":\\\"\\/assetserver\\/627f17ff06762af3874159c00b9b1e00e50688bc-plotly.min.js\\\"},{\\\"name\\\":null,\\\"type\\\":\\\"js\\\",\\\"url\\\":\\\"\\/assetserver\\/1a276a0acb11ad47020d3f379225d41bbd0aeef0-plotly_webio.bundle.js\\\"}],\\\"type\\\":\\\"async_block\\\"})).then((imports) => handler.apply(this, imports));\\n}\\n\"],\"observables\":{\"_toImage\":{\"sync\":false,\"id\":\"9176506281286167825\",\"value\":{}},\"hover\":{\"sync\":false,\"id\":\"17996090528147359465\",\"value\":{}},\"selected\":{\"sync\":false,\"id\":\"13072463562454488663\",\"value\":{}},\"__gd_contents\":{\"sync\":false,\"id\":\"17381514751861854366\",\"value\":{}},\"click\":{\"sync\":false,\"id\":\"17201741806760532973\",\"value\":{}},\"image\":{\"sync\":true,\"id\":\"10435142947566718691\",\"value\":\"\"},\"__get_gd_contents\":{\"sync\":false,\"id\":\"3859561195583359709\",\"value\":\"\"},\"_downloadImage\":{\"sync\":false,\"id\":\"26421530589966547\",\"value\":{}},\"relayout\":{\"sync\":false,\"id\":\"1840898611728695912\",\"value\":{}},\"_commands\":{\"sync\":false,\"id\":\"14172493591147876414\",\"value\":[]}}},\"children\":[{\"props\":{\"id\":\"plot-c75f3dfa-1e76-4008-acf4-aaf164e6134c\"},\"nodeType\":\"DOM\",\"type\":\"node\",\"instanceArgs\":{\"namespace\":\"html\",\"tag\":\"div\"},\"children\":[]}]},\n",
       "        window,\n",
       "    );\n",
       "    })()\n",
       "    </script>\n",
       "</div>\n"
      ],
      "text/plain": [
       "data: [\n",
       "  \"scatter with fields mode, name, type, x, and y\"\n",
       "]\n",
       "\n",
       "layout: \"layout with fields legend, margin, template, title, xaxis, and yaxis\"\n",
       "\n"
      ]
     },
     "execution_count": 413,
     "metadata": {},
     "output_type": "execute_result"
    }
   ],
   "source": [
    "plot(\n",
    "    [\n",
    "        # Velocity\n",
    "        scatter(\n",
    "            mode=\"markers+lines\",\n",
    "            x=time_axis_sec,\n",
    "            y=[v_inf * tanh(accel_ms2 * t / v_inf) for t in time_axis_sec],\n",
    "            name=\"Velocity\"\n",
    "        ),\n",
    "    ],\n",
    "    Layout(\n",
    "        title=\"Velocity Model\",\n",
    "        xaxis_title=\"Time (second)\",\n",
    "        yaxis_title=\"Velocity (meter / second)\",\n",
    "        legend_title=\"Legend Title\",\n",
    "    ),\n",
    "    config=PlotConfig(scrollZoom=true)\n",
    ")"
   ]
  },
  {
   "cell_type": "markdown",
   "id": "941393cc",
   "metadata": {},
   "source": [
    "We want to model the position and velocity of an object falling, but we CANNOT use the following equations\n",
    "$$\n",
    "\\begin{align}\n",
    "h &= h_{0} + v_0 t + \\frac{1}{2} a t^{2} \\\\\n",
    "v &= v_{0} + g t\n",
    "\\end{align}\n",
    "$$"
   ]
  },
  {
   "cell_type": "markdown",
   "id": "54f8ad1a",
   "metadata": {},
   "source": [
    "since the acceleration is NOT constant in time"
   ]
  },
  {
   "cell_type": "markdown",
   "id": "72ae2c85",
   "metadata": {},
   "source": [
    "$$\n",
    "\\begin{align}\n",
    "a &= \\frac{dv}{dt} = g \\ \\text{sech}^2\\left(\\frac{g t}{v_{\\infty}}\\right)\n",
    "\\end{align}\n",
    "$$"
   ]
  },
  {
   "cell_type": "markdown",
   "id": "44359b98",
   "metadata": {},
   "source": [
    "Let's consider the following model instead"
   ]
  },
  {
   "cell_type": "markdown",
   "id": "97603b68",
   "metadata": {},
   "source": [
    "$$\n",
    "\\begin{align}\n",
    "h \\rightarrow h + \\delta h &= \\sum\\limits_{n=0}^{\\infty}\\left.\\left(\\frac{d}{dt}\\right)^{n} h\\right|_{t=T}\\frac{\\left(\\Delta t\\right)^n}{n!} \\\\\n",
    "     &= h(T) + v(T) \\Delta t + \\frac{1}{2} a(T) \\left(\\Delta t\\right)^2 + \\frac{1}{3!} j(T) \\left(\\Delta t\\right)^3 + \\frac{1}{4!} s(T) \\left(\\Delta t\\right)^4 + \\mathcal{O}(t^5)\n",
    "\\end{align}\n",
    "$$"
   ]
  },
  {
   "cell_type": "markdown",
   "id": "84a22547",
   "metadata": {},
   "source": [
    "The terms in the sum above are given by"
   ]
  },
  {
   "cell_type": "markdown",
   "id": "c66a77a1",
   "metadata": {},
   "source": [
    "$$\n",
    "\\begin{align}\n",
    "v(t) &= v_{\\infty} \\tanh\\left(\\frac{g t}{v_{\\infty}}\\right) & \\text{Velocity}\\\\\n",
    "a(t) &= \\frac{dv}{dt}     = g \\ \\text{sech}^2\\left(\\frac{g t}{v_{\\infty}}\\right) & \\text{Acceleration}\\\\\n",
    "j(t) &= \\frac{d^2v}{dt^2} = -\\frac{2 g^2}{v_{\\infty}} \\tanh \\left(\\frac{g t}{v_{\\infty}}\\right) \\text{sech}^2\\left(\\frac{g t}{v_{\\infty}}\\right) & \\text{Jerk} \\\\\n",
    "s(t) &= \\frac{d^3v}{dt^3} = \\frac{2 g^3}{v_{\\infty}^2} \\left(\\cosh \\left(\\frac{2 g t}{v_{\\infty}}\\right)-2\\right) \\text{sech}^4\\left(\\frac{g t}{v_{\\infty}}\\right) & \\text{Snap} \\\\\n",
    "\\vdots\n",
    "\\end{align}\n",
    "$$"
   ]
  },
  {
   "cell_type": "markdown",
   "id": "aa0b5049",
   "metadata": {},
   "source": [
    "and we must determine when to truncate the series. Let's plot each derivative."
   ]
  },
  {
   "cell_type": "markdown",
   "id": "48fe49e9",
   "metadata": {},
   "source": [
    "Plot each successive term in the sum"
   ]
  },
  {
   "cell_type": "code",
   "execution_count": 414,
   "id": "4f880b8c",
   "metadata": {},
   "outputs": [
    {
     "data": {
      "application/vnd.plotly.v1+json": {
       "config": {
        "editable": false,
        "responsive": true,
        "scrollZoom": true,
        "showLink": false,
        "staticPlot": false
       },
       "data": [
        {
         "mode": "markers+lines",
         "name": "Velocity",
         "type": "scatter",
         "x": [
          0,
          0.15,
          0.3,
          0.44999999999999996,
          0.6,
          0.75,
          0.8999999999999999,
          1.05,
          1.2,
          1.3499999999999999,
          1.5,
          1.65,
          1.7999999999999998,
          1.95,
          2.1,
          2.25,
          2.4,
          2.55,
          2.6999999999999997,
          2.85,
          3,
          3.15,
          3.3,
          3.4499999999999997,
          3.5999999999999996,
          3.75,
          3.9,
          4.05,
          4.2,
          4.35,
          4.5,
          4.6499999999999995,
          4.8,
          4.95,
          5.1,
          5.25,
          5.3999999999999995,
          5.55,
          5.7,
          5.85,
          6,
          6.1499999999999995,
          6.3,
          6.45,
          6.6,
          6.75,
          6.8999999999999995,
          7.05,
          7.199999999999999,
          7.35,
          7.5,
          7.6499999999999995,
          7.8,
          7.949999999999999,
          8.1,
          8.25,
          8.4,
          8.549999999999999,
          8.7,
          8.85,
          9,
          9.15,
          9.299999999999999,
          9.45,
          9.6,
          9.75,
          9.9,
          10.049999999999999,
          10.2,
          10.35,
          10.5,
          10.65,
          10.799999999999999,
          10.95,
          11.1,
          11.25,
          11.4,
          11.549999999999999,
          11.7,
          11.85,
          12,
          12.15,
          12.299999999999999,
          12.45,
          12.6,
          12.75,
          12.9,
          13.049999999999999,
          13.2,
          13.35,
          13.5,
          13.65,
          13.799999999999999,
          13.95,
          14.1,
          14.25,
          14.399999999999999,
          14.549999999999999,
          14.7,
          14.85
         ],
         "y": [
          0,
          -1.4696369934044147,
          -2.93709852658733,
          -4.400222001365922,
          -5.856870382376402,
          -7.304944578798362,
          -8.742395356033516,
          -10.16723463628391,
          -11.577546059717076,
          -12.971494693053733,
          -14.347335789499724,
          -15.703422522455,
          -17.03821263483159,
          -18.350273965559705,
          -19.638288834435137,
          -20.90105728537547,
          -22.137499205973473,
          -23.34665535759246,
          -24.52768736484199,
          -25.67987672588044,
          -26.80262291546983,
          -27.895440660987738,
          -28.957956477682536,
          -29.98990455340419,
          -30.991122074971138,
          -31.961544088403226,
          -32.90119798365641,
          -33.810197691450995,
          -34.688737675521686,
          -35.53708679836574,
          -36.35558213255502,
          -37.144622783125925,
          -37.9046637796703,
          -38.63621008970526,
          -39.339810797859954,
          -40.016053488522715,
          -40.66555886295581,
          -41.28897561560103,
          -41.88697558843546,
          -42.46024921684409,
          -43.00950127558594,
          -43.53544692905797,
          -44.03880808620917,
          -44.520310057115914,
          -44.98067850538016,
          -45.42063668813034,
          -45.84090297345663,
          -46.24218862356786,
          -46.62519583077545,
          -46.99061599255645,
          -47.33912821138381,
          -47.671398004701715,
          -47.988076210331954,
          -48.28979807269157,
          -48.57718249545122,
          -48.85083144664045,
          -49.1113295026847,
          -49.35924351841675,
          -49.595122410722695,
          -49.81949704414125,
          -50.03288020742079,
          -50.235766670737405,
          -50.428633313978935,
          -50.61193931719506,
          -50.78612640499483,
          -50.951619137334774,
          -51.10882523977744,
          -51.258135966910245,
          -51.399926493192694,
          -51.534556326047706,
          -51.662369736526415,
          -51.783696203356946,
          -51.89885086663515,
          -52.00813498783056,
          -52.111836413164276,
          -52.21023003776825,
          -52.30357826835899,
          -52.39213148245431,
          -52.476128482430816,
          -52.5557969429643,
          -52.631353850616115,
          -52.70300593452784,
          -52.77095008736578,
          -52.835373775817175,
          -52.896455440083116,
          -52.95436488194061,
          -53.009263641058915,
          -53.06130535935484,
          -53.11063613325919,
          -53.15739485384285,
          -53.20171353481754,
          -53.24371762848386,
          -53.28352632974826,
          -53.321252868373215,
          -53.35700478965965,
          -53.39088422379107,
          -53.42298814409283,
          -53.45340861447991,
          -53.48223302638248,
          -53.50954432545027
         ]
        },
        {
         "mode": "markers+lines",
         "name": "Acceleration",
         "type": "scatter",
         "x": [
          0,
          0.15,
          0.3,
          0.44999999999999996,
          0.6,
          0.75,
          0.8999999999999999,
          1.05,
          1.2,
          1.3499999999999999,
          1.5,
          1.65,
          1.7999999999999998,
          1.95,
          2.1,
          2.25,
          2.4,
          2.55,
          2.6999999999999997,
          2.85,
          3,
          3.15,
          3.3,
          3.4499999999999997,
          3.5999999999999996,
          3.75,
          3.9,
          4.05,
          4.2,
          4.35,
          4.5,
          4.6499999999999995,
          4.8,
          4.95,
          5.1,
          5.25,
          5.3999999999999995,
          5.55,
          5.7,
          5.85,
          6,
          6.1499999999999995,
          6.3,
          6.45,
          6.6,
          6.75,
          6.8999999999999995,
          7.05,
          7.199999999999999,
          7.35,
          7.5,
          7.6499999999999995,
          7.8,
          7.949999999999999,
          8.1,
          8.25,
          8.4,
          8.549999999999999,
          8.7,
          8.85,
          9,
          9.15,
          9.299999999999999,
          9.45,
          9.6,
          9.75,
          9.9,
          10.049999999999999,
          10.2,
          10.35,
          10.5,
          10.65,
          10.799999999999999,
          10.95,
          11.1,
          11.25,
          11.4,
          11.549999999999999,
          11.7,
          11.85,
          12,
          12.15,
          12.299999999999999,
          12.45,
          12.6,
          12.75,
          12.9,
          13.049999999999999,
          13.2,
          13.35,
          13.5,
          13.65,
          13.799999999999999,
          13.95,
          14.1,
          14.25,
          14.399999999999999,
          14.549999999999999,
          14.7,
          14.85
         ],
         "y": [
          -9.8,
          -9.792741302350704,
          -9.771008172840249,
          -9.734928962317978,
          -9.684715802255013,
          -9.620661965043455,
          -9.543138247496662,
          -9.45258845354504,
          -9.349524069583083,
          -9.23451824046474,
          -9.108199165392572,
          -8.971243040670878,
          -8.824366680404868,
          -8.668319946780258,
          -8.503878118731805,
          -8.331834321901182,
          -8.152992134181803,
          -7.968158470307008,
          -7.778136836357748,
          -7.583721031264445,
          -7.385689357867314,
          -7.184799391367373,
          -6.98178333849078,
          -6.777344006790646,
          -6.57215139054716,
          -6.366839867953893,
          -6.162005993880108,
          -5.958206863592943,
          -5.755959015463874,
          -5.555737834868694,
          -5.357977417170731,
          -5.16307084476439,
          -4.971370831533427,
          -4.783190687606567,
          -4.598805557821708,
          -4.418453888681808,
          -4.2423390806454275,
          -4.070631285192104,
          -3.903469309097172,
          -3.740962591613928,
          -3.583193223679232,
          -3.430217981733313,
          -3.2820703521917576,
          -3.1387625259598724,
          -3.000287345582026,
          -2.8666201906309032,
          -2.737720789734474,
          -2.613534950193154,
          -2.4939961984465118,
          -2.379027326705406,
          -2.268541842875317,
          -2.1624453224683635,
          -2.0606366625471355,
          -1.9630092388775726,
          -1.8694519684072548,
          -1.779850279946799,
          -1.6940869965334622,
          -1.6120431334150958,
          -1.5335986159263473,
          -1.4586329217538576,
          -1.3870256522183937,
          -1.3186570372536504,
          -1.2534083787468064,
          -1.1911624368364668,
          -1.1318037636500977,
          -1.0752189888144763,
          -1.02129706089743,
          -0.9699294487441267,
          -0.9210103064626193,
          -0.8744366055962551,
          -0.8301082377994201,
          -0.7879280911113388,
          -0.7478021027033894,
          -0.7096392907607778,
          -0.6733517679514883,
          -0.6388547387354455,
          -0.6060664825758997,
          -0.5749083249338671,
          -0.5453045977555054,
          -0.5171825910017356,
          -0.49047249661937947,
          -0.4651073462133764,
          -0.441022943550118,
          -0.41815779290225297,
          -0.39645302413510075,
          -0.37585231533363855,
          -0.35630181367645847,
          -0.33775005517858536,
          -0.32014788384819,
          -0.30344837073247155,
          -0.28760673326483943,
          -0.2725802552685591,
          -0.25832820792072403,
          -0.24481177193436623,
          -0.23199396117528368,
          -0.21983954789335763,
          -0.20831498971534623,
          -0.1973883585170641,
          -0.18702927126710733,
          -0.17720882291159068
         ]
        },
        {
         "mode": "markers+lines",
         "name": "Jerk",
         "type": "scatter",
         "x": [
          0,
          0.15,
          0.3,
          0.44999999999999996,
          0.6,
          0.75,
          0.8999999999999999,
          1.05,
          1.2,
          1.3499999999999999,
          1.5,
          1.65,
          1.7999999999999998,
          1.95,
          2.1,
          2.25,
          2.4,
          2.55,
          2.6999999999999997,
          2.85,
          3,
          3.15,
          3.3,
          3.4499999999999997,
          3.5999999999999996,
          3.75,
          3.9,
          4.05,
          4.2,
          4.35,
          4.5,
          4.6499999999999995,
          4.8,
          4.95,
          5.1,
          5.25,
          5.3999999999999995,
          5.55,
          5.7,
          5.85,
          6,
          6.1499999999999995,
          6.3,
          6.45,
          6.6,
          6.75,
          6.8999999999999995,
          7.05,
          7.199999999999999,
          7.35,
          7.5,
          7.6499999999999995,
          7.8,
          7.949999999999999,
          8.1,
          8.25,
          8.4,
          8.549999999999999,
          8.7,
          8.85,
          9,
          9.15,
          9.299999999999999,
          9.45,
          9.6,
          9.75,
          9.9,
          10.049999999999999,
          10.2,
          10.35,
          10.5,
          10.65,
          10.799999999999999,
          10.95,
          11.1,
          11.25,
          11.4,
          11.549999999999999,
          11.7,
          11.85,
          12,
          12.15,
          12.299999999999999,
          12.45,
          12.6,
          12.75,
          12.9,
          13.049999999999999,
          13.2,
          13.35,
          13.5,
          13.65,
          13.799999999999999,
          13.95,
          14.1,
          14.25,
          14.399999999999999,
          14.549999999999999,
          14.7,
          14.85
         ],
         "y": [
          0,
          -0.0026326869730203817,
          -0.010491828893463473,
          -0.023461552938475343,
          -0.0413516552463402,
          -0.06390187451081818,
          -0.09078767461605913,
          -0.12162734713512507,
          -0.1559902057111407,
          -0.1934056156695735,
          -0.2333725846070102,
          -0.2753696334736646,
          -0.3188646725084469,
          -0.36332462143326005,
          -0.4082245372343004,
          -0.4530560439637435,
          -0.4973348953685678,
          -0.5406075407808655,
          -0.582456605600023,
          -0.6225052380129221,
          -0.6604203117105621,
          -0.6959145089336033,
          -0.728747338206748,
          -0.75872516593212,
          -0.7857003602626371,
          -0.8095696593252222,
          -0.8302718841263222,
          -0.8477851197720295,
          -0.8621234875498563,
          -0.8733336256267306,
          -0.881490988346727,
          -0.8866960640975906,
          -0.8890706001631937,
          -0.888753910538451,
          -0.8858993299259599,
          -0.8806708645434937,
          -0.8732400783390262,
          -0.8637832420332558,
          -0.8524787622995827,
          -0.8395048994800631,
          -0.8250377745865077,
          -0.8092496599548116,
          -0.792307542768263,
          -0.774371946668028,
          -0.7555959937275636,
          -0.7361246870685223,
          -0.7160943932167961,
          -0.6956325028152512,
          -0.6748572484040803,
          -0.6538776585371078,
          -0.6327936284185915,
          -0.6116960884268391,
          -0.5906672532566123,
          -0.5697809358919077,
          -0.5491029121559016,
          -0.5286913231278494,
          -0.508597104229784,
          -0.4888644312398956,
          -0.4695311748632221,
          -0.4506293567690226,
          -0.43218560117882965,
          -0.41422157715508146,
          -0.3967544276965187,
          -0.37979718259508105,
          -0.363359152754016,
          -0.3474463043138757,
          -0.332061611488781,
          -0.3172053874870873,
          -0.3028755932860482,
          -0.28906812435691115,
          -0.27577707570266147,
          -0.26299498578254676,
          -0.2507130600624298,
          -0.23892137505422825,
          -0.22760906379708118,
          -0.2167644837926901,
          -0.20637536844229235,
          -0.19642896304717158,
          -0.1869121464322467,
          -0.17781153923636075,
          -0.16911359988629154,
          -0.16080470923664592,
          -0.152871244816798,
          -0.14529964558063688,
          -0.13807646800659706,
          -0.13118843434548152,
          -0.12462247376296887,
          -0.11836575707322221,
          -0.1124057257103625,
          -0.10673011553622332,
          -0.10132697603615386,
          -0.09618468540998544,
          -0.09129196202279863,
          -0.08663787263996833,
          -0.0822118378331845,
          -0.07800363490877589,
          -0.07400339867667735,
          -0.07020162034774695,
          -0.06658914481877581,
          -0.06315716657836583
         ]
        },
        {
         "mode": "markers+lines",
         "name": "Snap",
         "type": "scatter",
         "x": [
          0,
          0.15,
          0.3,
          0.44999999999999996,
          0.6,
          0.75,
          0.8999999999999999,
          1.05,
          1.2,
          1.3499999999999999,
          1.5,
          1.65,
          1.7999999999999998,
          1.95,
          2.1,
          2.25,
          2.4,
          2.55,
          2.6999999999999997,
          2.85,
          3,
          3.15,
          3.3,
          3.4499999999999997,
          3.5999999999999996,
          3.75,
          3.9,
          4.05,
          4.2,
          4.35,
          4.5,
          4.6499999999999995,
          4.8,
          4.95,
          5.1,
          5.25,
          5.3999999999999995,
          5.55,
          5.7,
          5.85,
          6,
          6.1499999999999995,
          6.3,
          6.45,
          6.6,
          6.75,
          6.8999999999999995,
          7.05,
          7.199999999999999,
          7.35,
          7.5,
          7.6499999999999995,
          7.8,
          7.949999999999999,
          8.1,
          8.25,
          8.4,
          8.549999999999999,
          8.7,
          8.85,
          9,
          9.15,
          9.299999999999999,
          9.45,
          9.6,
          9.75,
          9.9,
          10.049999999999999,
          10.2,
          10.35,
          10.5,
          10.65,
          10.799999999999999,
          10.95,
          11.1,
          11.25,
          11.4,
          11.549999999999999,
          11.7,
          11.85,
          12,
          12.15,
          12.299999999999999,
          12.45,
          12.6,
          12.75,
          12.9,
          13.049999999999999,
          13.2,
          13.35,
          13.5,
          13.65,
          13.799999999999999,
          13.95,
          14.1,
          14.25,
          14.399999999999999,
          14.549999999999999,
          14.7,
          14.85
         ],
         "y": [
          0.645536351165981,
          0.6436248612884623,
          0.6379144109354913,
          0.6284765410277483,
          0.6154287803251212,
          0.5989321448121304,
          0.5791877511518186,
          0.5564326522102905,
          0.5309350249309025,
          0.5029888574044763,
          0.47290829230676135,
          0.4410217877740989,
          0.40766625442309906,
          0.3731813190638232,
          0.3379038524461009,
          0.30216288105416317,
          0.2662749825948227,
          0.23054024253527722,
          0.1952388259523319,
          0.16062819609600804,
          0.1269409893647,
          0.09438353659494397,
          0.0631350032648412,
          0.0333471067868702,
          0.00514435773091081,
          -0.021375236388250753,
          -0.04613907130811298,
          -0.06909851913276449,
          -0.09022724319062118,
          -0.10951932123574024,
          -0.12698723964647107,
          -0.14265981601474298,
          -0.15658010133681252,
          -0.16880330627413415,
          -0.1793947889725857,
          -0.18842813498328154,
          -0.19598335314151707,
          -0.2021452050042173,
          -0.20700167974466144,
          -0.2106426213365381,
          -0.21315851046955864,
          -0.2146393999358449,
          -0.21517399919406774,
          -0.21484890142105234,
          -0.21374794454817714,
          -0.21195169649300485,
          -0.2095370539707777,
          -0.20657694383964054,
          -0.20314011583289154,
          -0.19929101569956723,
          -0.1950897281542747,
          -0.19059197957706675,
          -0.18584919105903425,
          -0.18090857312016068,
          -0.17581325419994634,
          -0.17060243581124573,
          -0.16531156803191271,
          -0.15997253977026285,
          -0.15461387896629586,
          -0.14926095857202307,
          -0.14393620478511687,
          -0.13865930458701173,
          -0.13344741015819842,
          -0.12831533821001442,
          -0.12327576268531037,
          -0.11833939964239519,
          -0.11351518345075806,
          -0.10881043369675165,
          -0.10423101242647126,
          -0.09978147154530294,
          -0.0954651903528919,
          -0.09128450332225835,
          -0.0872408183360242,
          -0.08333472567447277,
          -0.07956609811252545,
          -0.07593418252845349,
          -0.07243768345878071,
          -0.06907483905363253,
          -0.06584348989676178,
          -0.06274114115638989,
          -0.059765018528404004,
          -0.05691211842367412,
          -0.054179252837462916,
          -0.05156308932206939,
          -0.04906018646481596,
          -0.04666702525294964,
          -0.04438003668556764,
          -0.042195625970763005,
          -0.0401101936242151,
          -0.038120153763722575,
          -0.0362219498729381,
          -0.03441206828700551,
          -0.03268704963305297,
          -0.031043498439664148,
          -0.029478091111596428,
          -0.027987582449182605,
          -0.02656881087605255,
          -0.025218702524048474,
          -0.023934274310460395,
          -0.022712636129957223
         ]
        }
       ],
       "frames": [],
       "layout": {
        "legend": {
         "title": "Legend Title"
        },
        "margin": {
         "b": 50,
         "l": 50,
         "r": 50,
         "t": 60
        },
        "template": {
         "data": {
          "bar": [
           {
            "error_x": {
             "color": "#2a3f5f"
            },
            "error_y": {
             "color": "#2a3f5f"
            },
            "marker": {
             "line": {
              "color": "#E5ECF6",
              "width": 0.5
             }
            },
            "type": "bar"
           }
          ],
          "barpolar": [
           {
            "marker": {
             "line": {
              "color": "#E5ECF6",
              "width": 0.5
             }
            },
            "type": "barpolar"
           }
          ],
          "carpet": [
           {
            "aaxis": {
             "endlinecolor": "#2a3f5f",
             "gridcolor": "white",
             "linecolor": "white",
             "minorgridcolor": "white",
             "startlinecolor": "#2a3f5f"
            },
            "baxis": {
             "endlinecolor": "#2a3f5f",
             "gridcolor": "white",
             "linecolor": "white",
             "minorgridcolor": "white",
             "startlinecolor": "#2a3f5f"
            },
            "type": "carpet"
           }
          ],
          "choropleth": [
           {
            "colorbar": {
             "outlinewidth": 0,
             "ticks": ""
            },
            "type": "choropleth"
           }
          ],
          "contour": [
           {
            "colorbar": {
             "outlinewidth": 0,
             "ticks": ""
            },
            "colorscale": [
             [
              0,
              "#0d0887"
             ],
             [
              0.1111111111111111,
              "#46039f"
             ],
             [
              0.2222222222222222,
              "#7201a8"
             ],
             [
              0.3333333333333333,
              "#9c179e"
             ],
             [
              0.4444444444444444,
              "#bd3786"
             ],
             [
              0.5555555555555556,
              "#d8576b"
             ],
             [
              0.6666666666666666,
              "#ed7953"
             ],
             [
              0.7777777777777778,
              "#fb9f3a"
             ],
             [
              0.8888888888888888,
              "#fdca26"
             ],
             [
              1,
              "#f0f921"
             ]
            ],
            "type": "contour"
           }
          ],
          "contourcarpet": [
           {
            "colorbar": {
             "outlinewidth": 0,
             "ticks": ""
            },
            "type": "contourcarpet"
           }
          ],
          "heatmap": [
           {
            "colorbar": {
             "outlinewidth": 0,
             "ticks": ""
            },
            "colorscale": [
             [
              0,
              "#0d0887"
             ],
             [
              0.1111111111111111,
              "#46039f"
             ],
             [
              0.2222222222222222,
              "#7201a8"
             ],
             [
              0.3333333333333333,
              "#9c179e"
             ],
             [
              0.4444444444444444,
              "#bd3786"
             ],
             [
              0.5555555555555556,
              "#d8576b"
             ],
             [
              0.6666666666666666,
              "#ed7953"
             ],
             [
              0.7777777777777778,
              "#fb9f3a"
             ],
             [
              0.8888888888888888,
              "#fdca26"
             ],
             [
              1,
              "#f0f921"
             ]
            ],
            "type": "heatmap"
           }
          ],
          "heatmapgl": [
           {
            "colorbar": {
             "outlinewidth": 0,
             "ticks": ""
            },
            "colorscale": [
             [
              0,
              "#0d0887"
             ],
             [
              0.1111111111111111,
              "#46039f"
             ],
             [
              0.2222222222222222,
              "#7201a8"
             ],
             [
              0.3333333333333333,
              "#9c179e"
             ],
             [
              0.4444444444444444,
              "#bd3786"
             ],
             [
              0.5555555555555556,
              "#d8576b"
             ],
             [
              0.6666666666666666,
              "#ed7953"
             ],
             [
              0.7777777777777778,
              "#fb9f3a"
             ],
             [
              0.8888888888888888,
              "#fdca26"
             ],
             [
              1,
              "#f0f921"
             ]
            ],
            "type": "heatmapgl"
           }
          ],
          "histogram": [
           {
            "marker": {
             "colorbar": {
              "outlinewidth": 0,
              "ticks": ""
             }
            },
            "type": "histogram"
           }
          ],
          "histogram2d": [
           {
            "colorbar": {
             "outlinewidth": 0,
             "ticks": ""
            },
            "colorscale": [
             [
              0,
              "#0d0887"
             ],
             [
              0.1111111111111111,
              "#46039f"
             ],
             [
              0.2222222222222222,
              "#7201a8"
             ],
             [
              0.3333333333333333,
              "#9c179e"
             ],
             [
              0.4444444444444444,
              "#bd3786"
             ],
             [
              0.5555555555555556,
              "#d8576b"
             ],
             [
              0.6666666666666666,
              "#ed7953"
             ],
             [
              0.7777777777777778,
              "#fb9f3a"
             ],
             [
              0.8888888888888888,
              "#fdca26"
             ],
             [
              1,
              "#f0f921"
             ]
            ],
            "type": "histogram2d"
           }
          ],
          "histogram2dcontour": [
           {
            "colorbar": {
             "outlinewidth": 0,
             "ticks": ""
            },
            "colorscale": [
             [
              0,
              "#0d0887"
             ],
             [
              0.1111111111111111,
              "#46039f"
             ],
             [
              0.2222222222222222,
              "#7201a8"
             ],
             [
              0.3333333333333333,
              "#9c179e"
             ],
             [
              0.4444444444444444,
              "#bd3786"
             ],
             [
              0.5555555555555556,
              "#d8576b"
             ],
             [
              0.6666666666666666,
              "#ed7953"
             ],
             [
              0.7777777777777778,
              "#fb9f3a"
             ],
             [
              0.8888888888888888,
              "#fdca26"
             ],
             [
              1,
              "#f0f921"
             ]
            ],
            "type": "histogram2dcontour"
           }
          ],
          "mesh3d": [
           {
            "colorbar": {
             "outlinewidth": 0,
             "ticks": ""
            },
            "type": "mesh3d"
           }
          ],
          "parcoords": [
           {
            "line": {
             "colorbar": {
              "outlinewidth": 0,
              "ticks": ""
             }
            },
            "type": "parcoords"
           }
          ],
          "pie": [
           {
            "automargin": true,
            "type": "pie"
           }
          ],
          "scatter": [
           {
            "marker": {
             "colorbar": {
              "outlinewidth": 0,
              "ticks": ""
             }
            },
            "type": "scatter"
           }
          ],
          "scatter3d": [
           {
            "line": {
             "colorbar": {
              "outlinewidth": 0,
              "ticks": ""
             }
            },
            "marker": {
             "colorbar": {
              "outlinewidth": 0,
              "ticks": ""
             }
            },
            "type": "scatter3d"
           }
          ],
          "scattercarpet": [
           {
            "marker": {
             "colorbar": {
              "outlinewidth": 0,
              "ticks": ""
             }
            },
            "type": "scattercarpet"
           }
          ],
          "scattergeo": [
           {
            "marker": {
             "colorbar": {
              "outlinewidth": 0,
              "ticks": ""
             }
            },
            "type": "scattergeo"
           }
          ],
          "scattergl": [
           {
            "marker": {
             "colorbar": {
              "outlinewidth": 0,
              "ticks": ""
             }
            },
            "type": "scattergl"
           }
          ],
          "scattermapbox": [
           {
            "marker": {
             "colorbar": {
              "outlinewidth": 0,
              "ticks": ""
             }
            },
            "type": "scattermapbox"
           }
          ],
          "scatterpolar": [
           {
            "marker": {
             "colorbar": {
              "outlinewidth": 0,
              "ticks": ""
             }
            },
            "type": "scatterpolar"
           }
          ],
          "scatterpolargl": [
           {
            "marker": {
             "colorbar": {
              "outlinewidth": 0,
              "ticks": ""
             }
            },
            "type": "scatterpolargl"
           }
          ],
          "scatterternary": [
           {
            "marker": {
             "colorbar": {
              "outlinewidth": 0,
              "ticks": ""
             }
            },
            "type": "scatterternary"
           }
          ],
          "surface": [
           {
            "colorbar": {
             "outlinewidth": 0,
             "ticks": ""
            },
            "colorscale": [
             [
              0,
              "#0d0887"
             ],
             [
              0.1111111111111111,
              "#46039f"
             ],
             [
              0.2222222222222222,
              "#7201a8"
             ],
             [
              0.3333333333333333,
              "#9c179e"
             ],
             [
              0.4444444444444444,
              "#bd3786"
             ],
             [
              0.5555555555555556,
              "#d8576b"
             ],
             [
              0.6666666666666666,
              "#ed7953"
             ],
             [
              0.7777777777777778,
              "#fb9f3a"
             ],
             [
              0.8888888888888888,
              "#fdca26"
             ],
             [
              1,
              "#f0f921"
             ]
            ],
            "type": "surface"
           }
          ],
          "table": [
           {
            "cells": {
             "fill": {
              "color": "#EBF0F8"
             },
             "line": {
              "color": "white"
             }
            },
            "header": {
             "fill": {
              "color": "#C8D4E3"
             },
             "line": {
              "color": "white"
             }
            },
            "type": "table"
           }
          ]
         },
         "layout": {
          "annotationdefaults": {
           "arrowcolor": "#2a3f5f",
           "arrowhead": 0,
           "arrowwidth": 1
          },
          "autotypenumbers": "strict",
          "coloraxis": {
           "colorbar": {
            "outlinewidth": 0,
            "ticks": ""
           }
          },
          "colorscale": {
           "diverging": [
            [
             0,
             "#8e0152"
            ],
            [
             0.1,
             "#c51b7d"
            ],
            [
             0.2,
             "#de77ae"
            ],
            [
             0.3,
             "#f1b6da"
            ],
            [
             0.4,
             "#fde0ef"
            ],
            [
             0.5,
             "#f7f7f7"
            ],
            [
             0.6,
             "#e6f5d0"
            ],
            [
             0.7,
             "#b8e186"
            ],
            [
             0.8,
             "#7fbc41"
            ],
            [
             0.9,
             "#4d9221"
            ],
            [
             1,
             "#276419"
            ]
           ],
           "sequential": [
            [
             0,
             "#0d0887"
            ],
            [
             0.1111111111111111,
             "#46039f"
            ],
            [
             0.2222222222222222,
             "#7201a8"
            ],
            [
             0.3333333333333333,
             "#9c179e"
            ],
            [
             0.4444444444444444,
             "#bd3786"
            ],
            [
             0.5555555555555556,
             "#d8576b"
            ],
            [
             0.6666666666666666,
             "#ed7953"
            ],
            [
             0.7777777777777778,
             "#fb9f3a"
            ],
            [
             0.8888888888888888,
             "#fdca26"
            ],
            [
             1,
             "#f0f921"
            ]
           ],
           "sequentialminus": [
            [
             0,
             "#0d0887"
            ],
            [
             0.1111111111111111,
             "#46039f"
            ],
            [
             0.2222222222222222,
             "#7201a8"
            ],
            [
             0.3333333333333333,
             "#9c179e"
            ],
            [
             0.4444444444444444,
             "#bd3786"
            ],
            [
             0.5555555555555556,
             "#d8576b"
            ],
            [
             0.6666666666666666,
             "#ed7953"
            ],
            [
             0.7777777777777778,
             "#fb9f3a"
            ],
            [
             0.8888888888888888,
             "#fdca26"
            ],
            [
             1,
             "#f0f921"
            ]
           ]
          },
          "colorway": [
           "#636efa",
           "#EF553B",
           "#00cc96",
           "#ab63fa",
           "#FFA15A",
           "#19d3f3",
           "#FF6692",
           "#B6E880",
           "#FF97FF",
           "#FECB52"
          ],
          "font": {
           "color": "#2a3f5f"
          },
          "geo": {
           "bgcolor": "white",
           "lakecolor": "white",
           "landcolor": "#E5ECF6",
           "showlakes": true,
           "showland": true,
           "subunitcolor": "white"
          },
          "hoverlabel": {
           "align": "left"
          },
          "hovermode": "closest",
          "mapbox": {
           "style": "light"
          },
          "paper_bgcolor": "white",
          "plot_bgcolor": "#E5ECF6",
          "polar": {
           "angularaxis": {
            "gridcolor": "white",
            "linecolor": "white",
            "ticks": ""
           },
           "bgcolor": "#E5ECF6",
           "radialaxis": {
            "gridcolor": "white",
            "linecolor": "white",
            "ticks": ""
           }
          },
          "scene": {
           "xaxis": {
            "backgroundcolor": "#E5ECF6",
            "gridcolor": "white",
            "gridwidth": 2,
            "linecolor": "white",
            "showbackground": true,
            "ticks": "",
            "zerolinecolor": "white"
           },
           "yaxis": {
            "backgroundcolor": "#E5ECF6",
            "gridcolor": "white",
            "gridwidth": 2,
            "linecolor": "white",
            "showbackground": true,
            "ticks": "",
            "zerolinecolor": "white"
           },
           "zaxis": {
            "backgroundcolor": "#E5ECF6",
            "gridcolor": "white",
            "gridwidth": 2,
            "linecolor": "white",
            "showbackground": true,
            "ticks": "",
            "zerolinecolor": "white"
           }
          },
          "shapedefaults": {
           "line": {
            "color": "#2a3f5f"
           }
          },
          "ternary": {
           "aaxis": {
            "gridcolor": "white",
            "linecolor": "white",
            "ticks": ""
           },
           "baxis": {
            "gridcolor": "white",
            "linecolor": "white",
            "ticks": ""
           },
           "bgcolor": "#E5ECF6",
           "caxis": {
            "gridcolor": "white",
            "linecolor": "white",
            "ticks": ""
           }
          },
          "title": {
           "x": 0.05
          },
          "xaxis": {
           "automargin": true,
           "gridcolor": "white",
           "linecolor": "white",
           "ticks": "",
           "title": {
            "standoff": 15
           },
           "zerolinecolor": "white",
           "zerolinewidth": 2
          },
          "yaxis": {
           "automargin": true,
           "gridcolor": "white",
           "linecolor": "white",
           "ticks": "",
           "title": {
            "standoff": 15
           },
           "zerolinecolor": "white",
           "zerolinewidth": 2
          }
         }
        },
        "title": "Velocity Model",
        "xaxis": {
         "title": {
          "text": "Time (second)"
         }
        },
        "yaxis": {
         "title": {
          "text": "(d/dt)^n v per Unit Time"
         }
        }
       }
      },
      "text/html": [
       "<div\n",
       "    class=\"webio-mountpoint\"\n",
       "    data-webio-mountpoint=\"11344092334462113504\"\n",
       ">\n",
       "    <script>\n",
       "    (function(){\n",
       "    // Some integrations (namely, IJulia/Jupyter) use an alternate render pathway than\n",
       "    // just putting the html on the page. If WebIO isn't defined, then it's pretty likely\n",
       "    // that we're in one of those situations and the integration just isn't installed\n",
       "    // correctly.\n",
       "    if (typeof window.WebIO === \"undefined\") {\n",
       "        document\n",
       "            .querySelector('[data-webio-mountpoint=\"11344092334462113504\"]')\n",
       "            .innerHTML = (\n",
       "                '<div style=\"padding: 1em; background-color: #f8d6da; border: 1px solid #f5c6cb; font-weight: bold;\">' +\n",
       "                '<p><strong>WebIO not detected.</strong></p>' +\n",
       "                '<p>Please read ' +\n",
       "                '<a href=\"https://juliagizmos.github.io/WebIO.jl/latest/troubleshooting/not-detected/\" target=\"_blank\">the troubleshooting guide</a> ' +\n",
       "                'for more information on how to resolve this issue.</p>' +\n",
       "                '<p><a href=\"https://juliagizmos.github.io/WebIO.jl/latest/troubleshooting/not-detected/\" target=\"_blank\">https://juliagizmos.github.io/WebIO.jl/latest/troubleshooting/not-detected/</a></p>' +\n",
       "                '</div>'\n",
       "            );\n",
       "        return;\n",
       "    }\n",
       "    WebIO.mount(\n",
       "        document.querySelector('[data-webio-mountpoint=\"11344092334462113504\"]'),\n",
       "        {\"props\":{},\"nodeType\":\"Scope\",\"type\":\"node\",\"instanceArgs\":{\"imports\":{\"data\":[{\"name\":\"Plotly\",\"type\":\"js\",\"url\":\"\\/assetserver\\/627f17ff06762af3874159c00b9b1e00e50688bc-plotly.min.js\"},{\"name\":null,\"type\":\"js\",\"url\":\"\\/assetserver\\/1a276a0acb11ad47020d3f379225d41bbd0aeef0-plotly_webio.bundle.js\"}],\"type\":\"async_block\"},\"id\":\"5240523444170562843\",\"handlers\":{\"_toImage\":[\"(function (options){return this.Plotly.toImage(this.plotElem,options).then((function (data){return WebIO.setval({\\\"name\\\":\\\"image\\\",\\\"scope\\\":\\\"5240523444170562843\\\",\\\"id\\\":\\\"7534943540172576830\\\",\\\"type\\\":\\\"observable\\\"},data)}))})\"],\"__get_gd_contents\":[\"(function (prop){prop==\\\"data\\\" ? (WebIO.setval({\\\"name\\\":\\\"__gd_contents\\\",\\\"scope\\\":\\\"5240523444170562843\\\",\\\"id\\\":\\\"9862756981079040817\\\",\\\"type\\\":\\\"observable\\\"},this.plotElem.data)) : undefined; return prop==\\\"layout\\\" ? (WebIO.setval({\\\"name\\\":\\\"__gd_contents\\\",\\\"scope\\\":\\\"5240523444170562843\\\",\\\"id\\\":\\\"9862756981079040817\\\",\\\"type\\\":\\\"observable\\\"},this.plotElem.layout)) : undefined})\"],\"_downloadImage\":[\"(function (options){return this.Plotly.downloadImage(this.plotElem,options)})\"],\"_commands\":[\"(function (args){var fn=args.shift(); var elem=this.plotElem; var Plotly=this.Plotly; args.unshift(elem); return Plotly[fn].apply(this,args)})\"]},\"systemjs_options\":null,\"mount_callbacks\":[\"function () {\\n    var handler = ((function (Plotly,PlotlyWebIO){PlotlyWebIO.init(WebIO); var gd=this.dom.querySelector(\\\"#plot-63fbddc8-b4a4-4c8c-bca8-6f71d732ccce\\\"); this.plotElem=gd; this.Plotly=Plotly; (window.Blink!==undefined) ? (gd.style.width=\\\"100%\\\", gd.style.height=\\\"100vh\\\", gd.style.marginLeft=\\\"0%\\\", gd.style.marginTop=\\\"0vh\\\") : undefined; window.onresize=(function (){return Plotly.Plots.resize(gd)}); Plotly.newPlot(gd,[{\\\"mode\\\":\\\"markers+lines\\\",\\\"y\\\":[-0.0,-1.4696369934044147,-2.93709852658733,-4.400222001365922,-5.856870382376402,-7.304944578798362,-8.742395356033516,-10.16723463628391,-11.577546059717076,-12.971494693053733,-14.347335789499724,-15.703422522455,-17.03821263483159,-18.350273965559705,-19.638288834435137,-20.90105728537547,-22.137499205973473,-23.34665535759246,-24.52768736484199,-25.67987672588044,-26.80262291546983,-27.895440660987738,-28.957956477682536,-29.98990455340419,-30.991122074971138,-31.961544088403226,-32.90119798365641,-33.810197691450995,-34.688737675521686,-35.53708679836574,-36.35558213255502,-37.144622783125925,-37.9046637796703,-38.63621008970526,-39.339810797859954,-40.016053488522715,-40.66555886295581,-41.28897561560103,-41.88697558843546,-42.46024921684409,-43.00950127558594,-43.53544692905797,-44.03880808620917,-44.520310057115914,-44.98067850538016,-45.42063668813034,-45.84090297345663,-46.24218862356786,-46.62519583077545,-46.99061599255645,-47.33912821138381,-47.671398004701715,-47.988076210331954,-48.28979807269157,-48.57718249545122,-48.85083144664045,-49.1113295026847,-49.35924351841675,-49.595122410722695,-49.81949704414125,-50.03288020742079,-50.235766670737405,-50.428633313978935,-50.61193931719506,-50.78612640499483,-50.951619137334774,-51.10882523977744,-51.258135966910245,-51.399926493192694,-51.534556326047706,-51.662369736526415,-51.783696203356946,-51.89885086663515,-52.00813498783056,-52.111836413164276,-52.21023003776825,-52.30357826835899,-52.39213148245431,-52.476128482430816,-52.5557969429643,-52.631353850616115,-52.70300593452784,-52.77095008736578,-52.835373775817175,-52.896455440083116,-52.95436488194061,-53.009263641058915,-53.06130535935484,-53.11063613325919,-53.15739485384285,-53.20171353481754,-53.24371762848386,-53.28352632974826,-53.321252868373215,-53.35700478965965,-53.39088422379107,-53.42298814409283,-53.45340861447991,-53.48223302638248,-53.50954432545027],\\\"type\\\":\\\"scatter\\\",\\\"name\\\":\\\"Velocity\\\",\\\"x\\\":[0.0,0.15,0.3,0.44999999999999996,0.6,0.75,0.8999999999999999,1.05,1.2,1.3499999999999999,1.5,1.65,1.7999999999999998,1.95,2.1,2.25,2.4,2.55,2.6999999999999997,2.85,3.0,3.15,3.3,3.4499999999999997,3.5999999999999996,3.75,3.9,4.05,4.2,4.35,4.5,4.6499999999999995,4.8,4.95,5.1,5.25,5.3999999999999995,5.55,5.7,5.85,6.0,6.1499999999999995,6.3,6.45,6.6,6.75,6.8999999999999995,7.05,7.199999999999999,7.35,7.5,7.6499999999999995,7.8,7.949999999999999,8.1,8.25,8.4,8.549999999999999,8.7,8.85,9.0,9.15,9.299999999999999,9.45,9.6,9.75,9.9,10.049999999999999,10.2,10.35,10.5,10.65,10.799999999999999,10.95,11.1,11.25,11.4,11.549999999999999,11.7,11.85,12.0,12.15,12.299999999999999,12.45,12.6,12.75,12.9,13.049999999999999,13.2,13.35,13.5,13.65,13.799999999999999,13.95,14.1,14.25,14.399999999999999,14.549999999999999,14.7,14.85]},{\\\"mode\\\":\\\"markers+lines\\\",\\\"y\\\":[-9.8,-9.792741302350704,-9.771008172840249,-9.734928962317978,-9.684715802255013,-9.620661965043455,-9.543138247496662,-9.45258845354504,-9.349524069583083,-9.23451824046474,-9.108199165392572,-8.971243040670878,-8.824366680404868,-8.668319946780258,-8.503878118731805,-8.331834321901182,-8.152992134181803,-7.968158470307008,-7.778136836357748,-7.583721031264445,-7.385689357867314,-7.184799391367373,-6.98178333849078,-6.777344006790646,-6.57215139054716,-6.366839867953893,-6.162005993880108,-5.958206863592943,-5.755959015463874,-5.555737834868694,-5.357977417170731,-5.16307084476439,-4.971370831533427,-4.783190687606567,-4.598805557821708,-4.418453888681808,-4.2423390806454275,-4.070631285192104,-3.903469309097172,-3.740962591613928,-3.583193223679232,-3.430217981733313,-3.2820703521917576,-3.1387625259598724,-3.000287345582026,-2.8666201906309032,-2.737720789734474,-2.613534950193154,-2.4939961984465118,-2.379027326705406,-2.268541842875317,-2.1624453224683635,-2.0606366625471355,-1.9630092388775726,-1.8694519684072548,-1.779850279946799,-1.6940869965334622,-1.6120431334150958,-1.5335986159263473,-1.4586329217538576,-1.3870256522183937,-1.3186570372536504,-1.2534083787468064,-1.1911624368364668,-1.1318037636500977,-1.0752189888144763,-1.02129706089743,-0.9699294487441267,-0.9210103064626193,-0.8744366055962551,-0.8301082377994201,-0.7879280911113388,-0.7478021027033894,-0.7096392907607778,-0.6733517679514883,-0.6388547387354455,-0.6060664825758997,-0.5749083249338671,-0.5453045977555054,-0.5171825910017356,-0.49047249661937947,-0.4651073462133764,-0.441022943550118,-0.41815779290225297,-0.39645302413510075,-0.37585231533363855,-0.35630181367645847,-0.33775005517858536,-0.32014788384819,-0.30344837073247155,-0.28760673326483943,-0.2725802552685591,-0.25832820792072403,-0.24481177193436623,-0.23199396117528368,-0.21983954789335763,-0.20831498971534623,-0.1973883585170641,-0.18702927126710733,-0.17720882291159068],\\\"type\\\":\\\"scatter\\\",\\\"name\\\":\\\"Acceleration\\\",\\\"x\\\":[0.0,0.15,0.3,0.44999999999999996,0.6,0.75,0.8999999999999999,1.05,1.2,1.3499999999999999,1.5,1.65,1.7999999999999998,1.95,2.1,2.25,2.4,2.55,2.6999999999999997,2.85,3.0,3.15,3.3,3.4499999999999997,3.5999999999999996,3.75,3.9,4.05,4.2,4.35,4.5,4.6499999999999995,4.8,4.95,5.1,5.25,5.3999999999999995,5.55,5.7,5.85,6.0,6.1499999999999995,6.3,6.45,6.6,6.75,6.8999999999999995,7.05,7.199999999999999,7.35,7.5,7.6499999999999995,7.8,7.949999999999999,8.1,8.25,8.4,8.549999999999999,8.7,8.85,9.0,9.15,9.299999999999999,9.45,9.6,9.75,9.9,10.049999999999999,10.2,10.35,10.5,10.65,10.799999999999999,10.95,11.1,11.25,11.4,11.549999999999999,11.7,11.85,12.0,12.15,12.299999999999999,12.45,12.6,12.75,12.9,13.049999999999999,13.2,13.35,13.5,13.65,13.799999999999999,13.95,14.1,14.25,14.399999999999999,14.549999999999999,14.7,14.85]},{\\\"mode\\\":\\\"markers+lines\\\",\\\"y\\\":[-0.0,-0.0026326869730203817,-0.010491828893463473,-0.023461552938475343,-0.0413516552463402,-0.06390187451081818,-0.09078767461605913,-0.12162734713512507,-0.1559902057111407,-0.1934056156695735,-0.2333725846070102,-0.2753696334736646,-0.3188646725084469,-0.36332462143326005,-0.4082245372343004,-0.4530560439637435,-0.4973348953685678,-0.5406075407808655,-0.582456605600023,-0.6225052380129221,-0.6604203117105621,-0.6959145089336033,-0.728747338206748,-0.75872516593212,-0.7857003602626371,-0.8095696593252222,-0.8302718841263222,-0.8477851197720295,-0.8621234875498563,-0.8733336256267306,-0.881490988346727,-0.8866960640975906,-0.8890706001631937,-0.888753910538451,-0.8858993299259599,-0.8806708645434937,-0.8732400783390262,-0.8637832420332558,-0.8524787622995827,-0.8395048994800631,-0.8250377745865077,-0.8092496599548116,-0.792307542768263,-0.774371946668028,-0.7555959937275636,-0.7361246870685223,-0.7160943932167961,-0.6956325028152512,-0.6748572484040803,-0.6538776585371078,-0.6327936284185915,-0.6116960884268391,-0.5906672532566123,-0.5697809358919077,-0.5491029121559016,-0.5286913231278494,-0.508597104229784,-0.4888644312398956,-0.4695311748632221,-0.4506293567690226,-0.43218560117882965,-0.41422157715508146,-0.3967544276965187,-0.37979718259508105,-0.363359152754016,-0.3474463043138757,-0.332061611488781,-0.3172053874870873,-0.3028755932860482,-0.28906812435691115,-0.27577707570266147,-0.26299498578254676,-0.2507130600624298,-0.23892137505422825,-0.22760906379708118,-0.2167644837926901,-0.20637536844229235,-0.19642896304717158,-0.1869121464322467,-0.17781153923636075,-0.16911359988629154,-0.16080470923664592,-0.152871244816798,-0.14529964558063688,-0.13807646800659706,-0.13118843434548152,-0.12462247376296887,-0.11836575707322221,-0.1124057257103625,-0.10673011553622332,-0.10132697603615386,-0.09618468540998544,-0.09129196202279863,-0.08663787263996833,-0.0822118378331845,-0.07800363490877589,-0.07400339867667735,-0.07020162034774695,-0.06658914481877581,-0.06315716657836583],\\\"type\\\":\\\"scatter\\\",\\\"name\\\":\\\"Jerk\\\",\\\"x\\\":[0.0,0.15,0.3,0.44999999999999996,0.6,0.75,0.8999999999999999,1.05,1.2,1.3499999999999999,1.5,1.65,1.7999999999999998,1.95,2.1,2.25,2.4,2.55,2.6999999999999997,2.85,3.0,3.15,3.3,3.4499999999999997,3.5999999999999996,3.75,3.9,4.05,4.2,4.35,4.5,4.6499999999999995,4.8,4.95,5.1,5.25,5.3999999999999995,5.55,5.7,5.85,6.0,6.1499999999999995,6.3,6.45,6.6,6.75,6.8999999999999995,7.05,7.199999999999999,7.35,7.5,7.6499999999999995,7.8,7.949999999999999,8.1,8.25,8.4,8.549999999999999,8.7,8.85,9.0,9.15,9.299999999999999,9.45,9.6,9.75,9.9,10.049999999999999,10.2,10.35,10.5,10.65,10.799999999999999,10.95,11.1,11.25,11.4,11.549999999999999,11.7,11.85,12.0,12.15,12.299999999999999,12.45,12.6,12.75,12.9,13.049999999999999,13.2,13.35,13.5,13.65,13.799999999999999,13.95,14.1,14.25,14.399999999999999,14.549999999999999,14.7,14.85]},{\\\"mode\\\":\\\"markers+lines\\\",\\\"y\\\":[0.645536351165981,0.6436248612884623,0.6379144109354913,0.6284765410277483,0.6154287803251212,0.5989321448121304,0.5791877511518186,0.5564326522102905,0.5309350249309025,0.5029888574044763,0.47290829230676135,0.4410217877740989,0.40766625442309906,0.3731813190638232,0.3379038524461009,0.30216288105416317,0.2662749825948227,0.23054024253527722,0.1952388259523319,0.16062819609600804,0.1269409893647,0.09438353659494397,0.0631350032648412,0.0333471067868702,0.00514435773091081,-0.021375236388250753,-0.04613907130811298,-0.06909851913276449,-0.09022724319062118,-0.10951932123574024,-0.12698723964647107,-0.14265981601474298,-0.15658010133681252,-0.16880330627413415,-0.1793947889725857,-0.18842813498328154,-0.19598335314151707,-0.2021452050042173,-0.20700167974466144,-0.2106426213365381,-0.21315851046955864,-0.2146393999358449,-0.21517399919406774,-0.21484890142105234,-0.21374794454817714,-0.21195169649300485,-0.2095370539707777,-0.20657694383964054,-0.20314011583289154,-0.19929101569956723,-0.1950897281542747,-0.19059197957706675,-0.18584919105903425,-0.18090857312016068,-0.17581325419994634,-0.17060243581124573,-0.16531156803191271,-0.15997253977026285,-0.15461387896629586,-0.14926095857202307,-0.14393620478511687,-0.13865930458701173,-0.13344741015819842,-0.12831533821001442,-0.12327576268531037,-0.11833939964239519,-0.11351518345075806,-0.10881043369675165,-0.10423101242647126,-0.09978147154530294,-0.0954651903528919,-0.09128450332225835,-0.0872408183360242,-0.08333472567447277,-0.07956609811252545,-0.07593418252845349,-0.07243768345878071,-0.06907483905363253,-0.06584348989676178,-0.06274114115638989,-0.059765018528404004,-0.05691211842367412,-0.054179252837462916,-0.05156308932206939,-0.04906018646481596,-0.04666702525294964,-0.04438003668556764,-0.042195625970763005,-0.0401101936242151,-0.038120153763722575,-0.0362219498729381,-0.03441206828700551,-0.03268704963305297,-0.031043498439664148,-0.029478091111596428,-0.027987582449182605,-0.02656881087605255,-0.025218702524048474,-0.023934274310460395,-0.022712636129957223],\\\"type\\\":\\\"scatter\\\",\\\"name\\\":\\\"Snap\\\",\\\"x\\\":[0.0,0.15,0.3,0.44999999999999996,0.6,0.75,0.8999999999999999,1.05,1.2,1.3499999999999999,1.5,1.65,1.7999999999999998,1.95,2.1,2.25,2.4,2.55,2.6999999999999997,2.85,3.0,3.15,3.3,3.4499999999999997,3.5999999999999996,3.75,3.9,4.05,4.2,4.35,4.5,4.6499999999999995,4.8,4.95,5.1,5.25,5.3999999999999995,5.55,5.7,5.85,6.0,6.1499999999999995,6.3,6.45,6.6,6.75,6.8999999999999995,7.05,7.199999999999999,7.35,7.5,7.6499999999999995,7.8,7.949999999999999,8.1,8.25,8.4,8.549999999999999,8.7,8.85,9.0,9.15,9.299999999999999,9.45,9.6,9.75,9.9,10.049999999999999,10.2,10.35,10.5,10.65,10.799999999999999,10.95,11.1,11.25,11.4,11.549999999999999,11.7,11.85,12.0,12.15,12.299999999999999,12.45,12.6,12.75,12.9,13.049999999999999,13.2,13.35,13.5,13.65,13.799999999999999,13.95,14.1,14.25,14.399999999999999,14.549999999999999,14.7,14.85]}],{\\\"xaxis\\\":{\\\"title\\\":{\\\"text\\\":\\\"Time (second)\\\"}},\\\"template\\\":{\\\"layout\\\":{\\\"coloraxis\\\":{\\\"colorbar\\\":{\\\"ticks\\\":\\\"\\\",\\\"outlinewidth\\\":0}},\\\"xaxis\\\":{\\\"gridcolor\\\":\\\"white\\\",\\\"zerolinewidth\\\":2,\\\"title\\\":{\\\"standoff\\\":15},\\\"ticks\\\":\\\"\\\",\\\"zerolinecolor\\\":\\\"white\\\",\\\"automargin\\\":true,\\\"linecolor\\\":\\\"white\\\"},\\\"hovermode\\\":\\\"closest\\\",\\\"paper_bgcolor\\\":\\\"white\\\",\\\"geo\\\":{\\\"showlakes\\\":true,\\\"showland\\\":true,\\\"landcolor\\\":\\\"#E5ECF6\\\",\\\"bgcolor\\\":\\\"white\\\",\\\"subunitcolor\\\":\\\"white\\\",\\\"lakecolor\\\":\\\"white\\\"},\\\"colorscale\\\":{\\\"sequential\\\":[[0.0,\\\"#0d0887\\\"],[0.1111111111111111,\\\"#46039f\\\"],[0.2222222222222222,\\\"#7201a8\\\"],[0.3333333333333333,\\\"#9c179e\\\"],[0.4444444444444444,\\\"#bd3786\\\"],[0.5555555555555556,\\\"#d8576b\\\"],[0.6666666666666666,\\\"#ed7953\\\"],[0.7777777777777778,\\\"#fb9f3a\\\"],[0.8888888888888888,\\\"#fdca26\\\"],[1.0,\\\"#f0f921\\\"]],\\\"diverging\\\":[[0,\\\"#8e0152\\\"],[0.1,\\\"#c51b7d\\\"],[0.2,\\\"#de77ae\\\"],[0.3,\\\"#f1b6da\\\"],[0.4,\\\"#fde0ef\\\"],[0.5,\\\"#f7f7f7\\\"],[0.6,\\\"#e6f5d0\\\"],[0.7,\\\"#b8e186\\\"],[0.8,\\\"#7fbc41\\\"],[0.9,\\\"#4d9221\\\"],[1,\\\"#276419\\\"]],\\\"sequentialminus\\\":[[0.0,\\\"#0d0887\\\"],[0.1111111111111111,\\\"#46039f\\\"],[0.2222222222222222,\\\"#7201a8\\\"],[0.3333333333333333,\\\"#9c179e\\\"],[0.4444444444444444,\\\"#bd3786\\\"],[0.5555555555555556,\\\"#d8576b\\\"],[0.6666666666666666,\\\"#ed7953\\\"],[0.7777777777777778,\\\"#fb9f3a\\\"],[0.8888888888888888,\\\"#fdca26\\\"],[1.0,\\\"#f0f921\\\"]]},\\\"yaxis\\\":{\\\"gridcolor\\\":\\\"white\\\",\\\"zerolinewidth\\\":2,\\\"title\\\":{\\\"standoff\\\":15},\\\"ticks\\\":\\\"\\\",\\\"zerolinecolor\\\":\\\"white\\\",\\\"automargin\\\":true,\\\"linecolor\\\":\\\"white\\\"},\\\"shapedefaults\\\":{\\\"line\\\":{\\\"color\\\":\\\"#2a3f5f\\\"}},\\\"hoverlabel\\\":{\\\"align\\\":\\\"left\\\"},\\\"mapbox\\\":{\\\"style\\\":\\\"light\\\"},\\\"polar\\\":{\\\"angularaxis\\\":{\\\"gridcolor\\\":\\\"white\\\",\\\"ticks\\\":\\\"\\\",\\\"linecolor\\\":\\\"white\\\"},\\\"bgcolor\\\":\\\"#E5ECF6\\\",\\\"radialaxis\\\":{\\\"gridcolor\\\":\\\"white\\\",\\\"ticks\\\":\\\"\\\",\\\"linecolor\\\":\\\"white\\\"}},\\\"autotypenumbers\\\":\\\"strict\\\",\\\"font\\\":{\\\"color\\\":\\\"#2a3f5f\\\"},\\\"ternary\\\":{\\\"baxis\\\":{\\\"gridcolor\\\":\\\"white\\\",\\\"ticks\\\":\\\"\\\",\\\"linecolor\\\":\\\"white\\\"},\\\"bgcolor\\\":\\\"#E5ECF6\\\",\\\"caxis\\\":{\\\"gridcolor\\\":\\\"white\\\",\\\"ticks\\\":\\\"\\\",\\\"linecolor\\\":\\\"white\\\"},\\\"aaxis\\\":{\\\"gridcolor\\\":\\\"white\\\",\\\"ticks\\\":\\\"\\\",\\\"linecolor\\\":\\\"white\\\"}},\\\"annotationdefaults\\\":{\\\"arrowhead\\\":0,\\\"arrowwidth\\\":1,\\\"arrowcolor\\\":\\\"#2a3f5f\\\"},\\\"plot_bgcolor\\\":\\\"#E5ECF6\\\",\\\"title\\\":{\\\"x\\\":0.05},\\\"scene\\\":{\\\"xaxis\\\":{\\\"gridcolor\\\":\\\"white\\\",\\\"gridwidth\\\":2,\\\"backgroundcolor\\\":\\\"#E5ECF6\\\",\\\"ticks\\\":\\\"\\\",\\\"showbackground\\\":true,\\\"zerolinecolor\\\":\\\"white\\\",\\\"linecolor\\\":\\\"white\\\"},\\\"zaxis\\\":{\\\"gridcolor\\\":\\\"white\\\",\\\"gridwidth\\\":2,\\\"backgroundcolor\\\":\\\"#E5ECF6\\\",\\\"ticks\\\":\\\"\\\",\\\"showbackground\\\":true,\\\"zerolinecolor\\\":\\\"white\\\",\\\"linecolor\\\":\\\"white\\\"},\\\"yaxis\\\":{\\\"gridcolor\\\":\\\"white\\\",\\\"gridwidth\\\":2,\\\"backgroundcolor\\\":\\\"#E5ECF6\\\",\\\"ticks\\\":\\\"\\\",\\\"showbackground\\\":true,\\\"zerolinecolor\\\":\\\"white\\\",\\\"linecolor\\\":\\\"white\\\"}},\\\"colorway\\\":[\\\"#636efa\\\",\\\"#EF553B\\\",\\\"#00cc96\\\",\\\"#ab63fa\\\",\\\"#FFA15A\\\",\\\"#19d3f3\\\",\\\"#FF6692\\\",\\\"#B6E880\\\",\\\"#FF97FF\\\",\\\"#FECB52\\\"]},\\\"data\\\":{\\\"barpolar\\\":[{\\\"type\\\":\\\"barpolar\\\",\\\"marker\\\":{\\\"line\\\":{\\\"color\\\":\\\"#E5ECF6\\\",\\\"width\\\":0.5}}}],\\\"carpet\\\":[{\\\"aaxis\\\":{\\\"gridcolor\\\":\\\"white\\\",\\\"endlinecolor\\\":\\\"#2a3f5f\\\",\\\"minorgridcolor\\\":\\\"white\\\",\\\"startlinecolor\\\":\\\"#2a3f5f\\\",\\\"linecolor\\\":\\\"white\\\"},\\\"type\\\":\\\"carpet\\\",\\\"baxis\\\":{\\\"gridcolor\\\":\\\"white\\\",\\\"endlinecolor\\\":\\\"#2a3f5f\\\",\\\"minorgridcolor\\\":\\\"white\\\",\\\"startlinecolor\\\":\\\"#2a3f5f\\\",\\\"linecolor\\\":\\\"white\\\"}}],\\\"scatterpolar\\\":[{\\\"type\\\":\\\"scatterpolar\\\",\\\"marker\\\":{\\\"colorbar\\\":{\\\"ticks\\\":\\\"\\\",\\\"outlinewidth\\\":0}}}],\\\"parcoords\\\":[{\\\"line\\\":{\\\"colorbar\\\":{\\\"ticks\\\":\\\"\\\",\\\"outlinewidth\\\":0}},\\\"type\\\":\\\"parcoords\\\"}],\\\"scatter\\\":[{\\\"type\\\":\\\"scatter\\\",\\\"marker\\\":{\\\"colorbar\\\":{\\\"ticks\\\":\\\"\\\",\\\"outlinewidth\\\":0}}}],\\\"histogram2dcontour\\\":[{\\\"colorbar\\\":{\\\"ticks\\\":\\\"\\\",\\\"outlinewidth\\\":0},\\\"type\\\":\\\"histogram2dcontour\\\",\\\"colorscale\\\":[[0.0,\\\"#0d0887\\\"],[0.1111111111111111,\\\"#46039f\\\"],[0.2222222222222222,\\\"#7201a8\\\"],[0.3333333333333333,\\\"#9c179e\\\"],[0.4444444444444444,\\\"#bd3786\\\"],[0.5555555555555556,\\\"#d8576b\\\"],[0.6666666666666666,\\\"#ed7953\\\"],[0.7777777777777778,\\\"#fb9f3a\\\"],[0.8888888888888888,\\\"#fdca26\\\"],[1.0,\\\"#f0f921\\\"]]}],\\\"contour\\\":[{\\\"colorbar\\\":{\\\"ticks\\\":\\\"\\\",\\\"outlinewidth\\\":0},\\\"type\\\":\\\"contour\\\",\\\"colorscale\\\":[[0.0,\\\"#0d0887\\\"],[0.1111111111111111,\\\"#46039f\\\"],[0.2222222222222222,\\\"#7201a8\\\"],[0.3333333333333333,\\\"#9c179e\\\"],[0.4444444444444444,\\\"#bd3786\\\"],[0.5555555555555556,\\\"#d8576b\\\"],[0.6666666666666666,\\\"#ed7953\\\"],[0.7777777777777778,\\\"#fb9f3a\\\"],[0.8888888888888888,\\\"#fdca26\\\"],[1.0,\\\"#f0f921\\\"]]}],\\\"scattercarpet\\\":[{\\\"type\\\":\\\"scattercarpet\\\",\\\"marker\\\":{\\\"colorbar\\\":{\\\"ticks\\\":\\\"\\\",\\\"outlinewidth\\\":0}}}],\\\"mesh3d\\\":[{\\\"colorbar\\\":{\\\"ticks\\\":\\\"\\\",\\\"outlinewidth\\\":0},\\\"type\\\":\\\"mesh3d\\\"}],\\\"surface\\\":[{\\\"colorbar\\\":{\\\"ticks\\\":\\\"\\\",\\\"outlinewidth\\\":0},\\\"type\\\":\\\"surface\\\",\\\"colorscale\\\":[[0.0,\\\"#0d0887\\\"],[0.1111111111111111,\\\"#46039f\\\"],[0.2222222222222222,\\\"#7201a8\\\"],[0.3333333333333333,\\\"#9c179e\\\"],[0.4444444444444444,\\\"#bd3786\\\"],[0.5555555555555556,\\\"#d8576b\\\"],[0.6666666666666666,\\\"#ed7953\\\"],[0.7777777777777778,\\\"#fb9f3a\\\"],[0.8888888888888888,\\\"#fdca26\\\"],[1.0,\\\"#f0f921\\\"]]}],\\\"scattermapbox\\\":[{\\\"type\\\":\\\"scattermapbox\\\",\\\"marker\\\":{\\\"colorbar\\\":{\\\"ticks\\\":\\\"\\\",\\\"outlinewidth\\\":0}}}],\\\"scattergeo\\\":[{\\\"type\\\":\\\"scattergeo\\\",\\\"marker\\\":{\\\"colorbar\\\":{\\\"ticks\\\":\\\"\\\",\\\"outlinewidth\\\":0}}}],\\\"histogram\\\":[{\\\"type\\\":\\\"histogram\\\",\\\"marker\\\":{\\\"colorbar\\\":{\\\"ticks\\\":\\\"\\\",\\\"outlinewidth\\\":0}}}],\\\"pie\\\":[{\\\"type\\\":\\\"pie\\\",\\\"automargin\\\":true}],\\\"choropleth\\\":[{\\\"colorbar\\\":{\\\"ticks\\\":\\\"\\\",\\\"outlinewidth\\\":0},\\\"type\\\":\\\"choropleth\\\"}],\\\"heatmapgl\\\":[{\\\"colorbar\\\":{\\\"ticks\\\":\\\"\\\",\\\"outlinewidth\\\":0},\\\"type\\\":\\\"heatmapgl\\\",\\\"colorscale\\\":[[0.0,\\\"#0d0887\\\"],[0.1111111111111111,\\\"#46039f\\\"],[0.2222222222222222,\\\"#7201a8\\\"],[0.3333333333333333,\\\"#9c179e\\\"],[0.4444444444444444,\\\"#bd3786\\\"],[0.5555555555555556,\\\"#d8576b\\\"],[0.6666666666666666,\\\"#ed7953\\\"],[0.7777777777777778,\\\"#fb9f3a\\\"],[0.8888888888888888,\\\"#fdca26\\\"],[1.0,\\\"#f0f921\\\"]]}],\\\"bar\\\":[{\\\"type\\\":\\\"bar\\\",\\\"error_y\\\":{\\\"color\\\":\\\"#2a3f5f\\\"},\\\"error_x\\\":{\\\"color\\\":\\\"#2a3f5f\\\"},\\\"marker\\\":{\\\"line\\\":{\\\"color\\\":\\\"#E5ECF6\\\",\\\"width\\\":0.5}}}],\\\"heatmap\\\":[{\\\"colorbar\\\":{\\\"ticks\\\":\\\"\\\",\\\"outlinewidth\\\":0},\\\"type\\\":\\\"heatmap\\\",\\\"colorscale\\\":[[0.0,\\\"#0d0887\\\"],[0.1111111111111111,\\\"#46039f\\\"],[0.2222222222222222,\\\"#7201a8\\\"],[0.3333333333333333,\\\"#9c179e\\\"],[0.4444444444444444,\\\"#bd3786\\\"],[0.5555555555555556,\\\"#d8576b\\\"],[0.6666666666666666,\\\"#ed7953\\\"],[0.7777777777777778,\\\"#fb9f3a\\\"],[0.8888888888888888,\\\"#fdca26\\\"],[1.0,\\\"#f0f921\\\"]]}],\\\"contourcarpet\\\":[{\\\"colorbar\\\":{\\\"ticks\\\":\\\"\\\",\\\"outlinewidth\\\":0},\\\"type\\\":\\\"contourcarpet\\\"}],\\\"table\\\":[{\\\"type\\\":\\\"table\\\",\\\"header\\\":{\\\"line\\\":{\\\"color\\\":\\\"white\\\"},\\\"fill\\\":{\\\"color\\\":\\\"#C8D4E3\\\"}},\\\"cells\\\":{\\\"line\\\":{\\\"color\\\":\\\"white\\\"},\\\"fill\\\":{\\\"color\\\":\\\"#EBF0F8\\\"}}}],\\\"scatter3d\\\":[{\\\"line\\\":{\\\"colorbar\\\":{\\\"ticks\\\":\\\"\\\",\\\"outlinewidth\\\":0}},\\\"type\\\":\\\"scatter3d\\\",\\\"marker\\\":{\\\"colorbar\\\":{\\\"ticks\\\":\\\"\\\",\\\"outlinewidth\\\":0}}}],\\\"scattergl\\\":[{\\\"type\\\":\\\"scattergl\\\",\\\"marker\\\":{\\\"colorbar\\\":{\\\"ticks\\\":\\\"\\\",\\\"outlinewidth\\\":0}}}],\\\"histogram2d\\\":[{\\\"colorbar\\\":{\\\"ticks\\\":\\\"\\\",\\\"outlinewidth\\\":0},\\\"type\\\":\\\"histogram2d\\\",\\\"colorscale\\\":[[0.0,\\\"#0d0887\\\"],[0.1111111111111111,\\\"#46039f\\\"],[0.2222222222222222,\\\"#7201a8\\\"],[0.3333333333333333,\\\"#9c179e\\\"],[0.4444444444444444,\\\"#bd3786\\\"],[0.5555555555555556,\\\"#d8576b\\\"],[0.6666666666666666,\\\"#ed7953\\\"],[0.7777777777777778,\\\"#fb9f3a\\\"],[0.8888888888888888,\\\"#fdca26\\\"],[1.0,\\\"#f0f921\\\"]]}],\\\"scatterternary\\\":[{\\\"type\\\":\\\"scatterternary\\\",\\\"marker\\\":{\\\"colorbar\\\":{\\\"ticks\\\":\\\"\\\",\\\"outlinewidth\\\":0}}}],\\\"scatterpolargl\\\":[{\\\"type\\\":\\\"scatterpolargl\\\",\\\"marker\\\":{\\\"colorbar\\\":{\\\"ticks\\\":\\\"\\\",\\\"outlinewidth\\\":0}}}]}},\\\"legend\\\":{\\\"title\\\":\\\"Legend Title\\\"},\\\"margin\\\":{\\\"l\\\":50,\\\"b\\\":50,\\\"r\\\":50,\\\"t\\\":60},\\\"title\\\":\\\"Velocity Model\\\",\\\"yaxis\\\":{\\\"title\\\":{\\\"text\\\":\\\"(d\\/dt)^n v per Unit Time\\\"}}},{\\\"showLink\\\":false,\\\"editable\\\":false,\\\"responsive\\\":true,\\\"staticPlot\\\":false,\\\"scrollZoom\\\":true}); gd.on(\\\"plotly_hover\\\",(function (data){var filtered_data=WebIO.PlotlyCommands.filterEventData(gd,data,\\\"hover\\\"); return !(filtered_data.isnil) ? (WebIO.setval({\\\"name\\\":\\\"hover\\\",\\\"scope\\\":\\\"5240523444170562843\\\",\\\"id\\\":\\\"8470076120594703135\\\",\\\"type\\\":\\\"observable\\\"},filtered_data.out)) : undefined})); gd.on(\\\"plotly_unhover\\\",(function (){return WebIO.setval({\\\"name\\\":\\\"hover\\\",\\\"scope\\\":\\\"5240523444170562843\\\",\\\"id\\\":\\\"8470076120594703135\\\",\\\"type\\\":\\\"observable\\\"},{})})); gd.on(\\\"plotly_selected\\\",(function (data){var filtered_data=WebIO.PlotlyCommands.filterEventData(gd,data,\\\"selected\\\"); return !(filtered_data.isnil) ? (WebIO.setval({\\\"name\\\":\\\"selected\\\",\\\"scope\\\":\\\"5240523444170562843\\\",\\\"id\\\":\\\"13074171907456824061\\\",\\\"type\\\":\\\"observable\\\"},filtered_data.out)) : undefined})); gd.on(\\\"plotly_deselect\\\",(function (){return WebIO.setval({\\\"name\\\":\\\"selected\\\",\\\"scope\\\":\\\"5240523444170562843\\\",\\\"id\\\":\\\"13074171907456824061\\\",\\\"type\\\":\\\"observable\\\"},{})})); gd.on(\\\"plotly_relayout\\\",(function (data){var filtered_data=WebIO.PlotlyCommands.filterEventData(gd,data,\\\"relayout\\\"); return !(filtered_data.isnil) ? (WebIO.setval({\\\"name\\\":\\\"relayout\\\",\\\"scope\\\":\\\"5240523444170562843\\\",\\\"id\\\":\\\"518647288854122827\\\",\\\"type\\\":\\\"observable\\\"},filtered_data.out)) : undefined})); return gd.on(\\\"plotly_click\\\",(function (data){var filtered_data=WebIO.PlotlyCommands.filterEventData(gd,data,\\\"click\\\"); return !(filtered_data.isnil) ? (WebIO.setval({\\\"name\\\":\\\"click\\\",\\\"scope\\\":\\\"5240523444170562843\\\",\\\"id\\\":\\\"4732304976092750797\\\",\\\"type\\\":\\\"observable\\\"},filtered_data.out)) : undefined}))}));\\n    (WebIO.importBlock({\\\"data\\\":[{\\\"name\\\":\\\"Plotly\\\",\\\"type\\\":\\\"js\\\",\\\"url\\\":\\\"\\/assetserver\\/627f17ff06762af3874159c00b9b1e00e50688bc-plotly.min.js\\\"},{\\\"name\\\":null,\\\"type\\\":\\\"js\\\",\\\"url\\\":\\\"\\/assetserver\\/1a276a0acb11ad47020d3f379225d41bbd0aeef0-plotly_webio.bundle.js\\\"}],\\\"type\\\":\\\"async_block\\\"})).then((imports) => handler.apply(this, imports));\\n}\\n\"],\"observables\":{\"_toImage\":{\"sync\":false,\"id\":\"12323830258523924935\",\"value\":{}},\"hover\":{\"sync\":false,\"id\":\"8470076120594703135\",\"value\":{}},\"selected\":{\"sync\":false,\"id\":\"13074171907456824061\",\"value\":{}},\"__gd_contents\":{\"sync\":false,\"id\":\"9862756981079040817\",\"value\":{}},\"click\":{\"sync\":false,\"id\":\"4732304976092750797\",\"value\":{}},\"image\":{\"sync\":true,\"id\":\"7534943540172576830\",\"value\":\"\"},\"__get_gd_contents\":{\"sync\":false,\"id\":\"14257687675844972193\",\"value\":\"\"},\"_downloadImage\":{\"sync\":false,\"id\":\"8966957313887527987\",\"value\":{}},\"relayout\":{\"sync\":false,\"id\":\"518647288854122827\",\"value\":{}},\"_commands\":{\"sync\":false,\"id\":\"13280008975422682427\",\"value\":[]}}},\"children\":[{\"props\":{\"id\":\"plot-63fbddc8-b4a4-4c8c-bca8-6f71d732ccce\"},\"nodeType\":\"DOM\",\"type\":\"node\",\"instanceArgs\":{\"namespace\":\"html\",\"tag\":\"div\"},\"children\":[]}]},\n",
       "        window,\n",
       "    );\n",
       "    })()\n",
       "    </script>\n",
       "</div>\n"
      ],
      "text/plain": [
       "data: [\n",
       "  \"scatter with fields mode, name, type, x, and y\",\n",
       "  \"scatter with fields mode, name, type, x, and y\",\n",
       "  \"scatter with fields mode, name, type, x, and y\",\n",
       "  \"scatter with fields mode, name, type, x, and y\"\n",
       "]\n",
       "\n",
       "layout: \"layout with fields legend, margin, template, title, xaxis, and yaxis\"\n",
       "\n"
      ]
     },
     "execution_count": 414,
     "metadata": {},
     "output_type": "execute_result"
    }
   ],
   "source": [
    "plot(\n",
    "    [\n",
    "        # Velocity\n",
    "        scatter(\n",
    "            mode=\"markers+lines\",\n",
    "            x=time_axis_sec,\n",
    "            y=[v_inf * tanh(accel_ms2 * t / v_inf) for t in time_axis_sec],\n",
    "            name=\"Velocity\"\n",
    "        ),\n",
    "        # Acceleration\n",
    "        scatter(\n",
    "            mode=\"markers+lines\",\n",
    "            x=time_axis_sec,\n",
    "            y=[accel_ms2 * sech(accel_ms2 * t / v_inf)^2 for t in time_axis_sec],\n",
    "            name=\"Acceleration\"\n",
    "        ),\n",
    "        # Jerk\n",
    "        scatter(\n",
    "            mode=\"markers+lines\",\n",
    "            x=time_axis_sec,\n",
    "            y=[-2 * accel_ms2^2 / v_inf * tanh(accel_ms2 * t / v_inf)^2 * sech(accel_ms2 * t / v_inf)^2 for t in time_axis_sec],\n",
    "            name=\"Jerk\"\n",
    "        ),\n",
    "        # Snap\n",
    "        scatter(\n",
    "            mode=\"markers+lines\",\n",
    "            x=time_axis_sec,\n",
    "            y=[2 * accel_ms2^3 / v_inf^2 * (cosh(2 * accel_ms2 * t / v_inf) - 2) * sech(accel_ms2 * t / v_inf)^4 for t in time_axis_sec],\n",
    "            name=\"Snap\"\n",
    "        ),\n",
    "    ],\n",
    "    Layout(\n",
    "        title=\"Velocity Model\",\n",
    "        xaxis_title=\"Time (second)\",\n",
    "        yaxis_title=\"(d/dt)^n v per Unit Time\",\n",
    "        legend_title=\"Legend Title\",\n",
    "    ),\n",
    "    config=PlotConfig(scrollZoom=true)\n",
    ")"
   ]
  },
  {
   "cell_type": "markdown",
   "id": "abc23098",
   "metadata": {},
   "source": [
    "For this example, we will truncate the series up to the `j` jerk term."
   ]
  },
  {
   "cell_type": "markdown",
   "id": "8268cc8c",
   "metadata": {},
   "source": [
    "What we need now is a mapping between temperature and altitude.\n",
    "I will use the data from https://www.engineeringtoolbox.com/air-altitude-temperature-d_461.html and linearize the temperature model. For the terminal velocity, I make-up a weak, linear relationship between temperature and terminal velocity."
   ]
  },
  {
   "cell_type": "code",
   "execution_count": 415,
   "id": "6bcd037e",
   "metadata": {},
   "outputs": [],
   "source": [
    "\"\"\"\n",
    "    get_velocity_infinity_ms(temperature_K)\n",
    "\n",
    "Get the velocity using a linear temperature model. The return values are between ~46 and ~54 meters / sec for most terrestial temperatures\n",
    "\n",
    "# Arguments\n",
    "- `temperature_K::Number`: The temperature in Kelvin\n",
    "\n",
    "# Returns\n",
    "`Float64` of the estimated terminal velocity in meters / second\n",
    "\"\"\"\n",
    "function get_velocity_infinity_ms(\n",
    "        temperature_K::Number\n",
    "    )::Float64\n",
    "    return -0.1481 * temperature_K + 94.44\n",
    "end\n",
    "\n",
    "\"\"\"\n",
    "    get_temperature_K(altitude_m[, vary_slope_by, vary_intercept_by])\n",
    "\n",
    "Get the temperature given an atltitude above the Earth's surface which can be varied with the last two optional parameters\n",
    "\n",
    "# Arguments\n",
    "- `altitude_m::Number`: The altitude above Earth in meters\n",
    "\n",
    "# Optional Arguments\n",
    "- `vary_slope_by::Number`: Positive definite constant to vary the slope of temperature changes\n",
    "- `vary_intercept_by::Number`: Positive definite constant to vary the intercept of temperature changes\n",
    "\n",
    "# Returns\n",
    "`Float64` of the estimated temperature Kelvin\n",
    "\"\"\"\n",
    "function get_temperature_K(\n",
    "        altitude_m::Number, \n",
    "        vary_slope_by::Number=0.0, \n",
    "        vary_intercept_by::Number=0.0\n",
    "    )::Float64\n",
    "    slope = -0.006_835 # Kelvin / meter\n",
    "    intercept = 288.706 # Kelvin\n",
    "    if vary_slope_by > 0\n",
    "        slope *= vary_slope_by\n",
    "    end\n",
    "    if vary_intercept_by > 0\n",
    "        intercept *= vary_intercept_by\n",
    "    end\n",
    "    temerature = slope * altitude_m + intercept\n",
    "    return temerature\n",
    "end;"
   ]
  },
  {
   "cell_type": "markdown",
   "id": "a229214d",
   "metadata": {},
   "source": [
    "Let's plot these two models"
   ]
  },
  {
   "cell_type": "code",
   "execution_count": 416,
   "id": "bf3229d5",
   "metadata": {},
   "outputs": [
    {
     "data": {
      "application/vnd.plotly.v1+json": {
       "config": {
        "editable": false,
        "responsive": true,
        "scrollZoom": true,
        "showLink": false,
        "staticPlot": false
       },
       "data": [
        {
         "mode": "markers+lines",
         "type": "scatter",
         "x": [
          273,
          274,
          275,
          276,
          277,
          278,
          279,
          280,
          281,
          282,
          283,
          284,
          285,
          286,
          287,
          288,
          289,
          290,
          291,
          292,
          293,
          294,
          295,
          296,
          297,
          298,
          299,
          300
         ],
         "y": [
          54.0087,
          53.8606,
          53.7125,
          53.56439999999999,
          53.41629999999999,
          53.26819999999999,
          53.120099999999994,
          52.971999999999994,
          52.823899999999995,
          52.675799999999995,
          52.527699999999996,
          52.379599999999996,
          52.2315,
          52.0834,
          51.9353,
          51.7872,
          51.63909999999999,
          51.49099999999999,
          51.34289999999999,
          51.194799999999994,
          51.046699999999994,
          50.898599999999995,
          50.750499999999995,
          50.602399999999996,
          50.454299999999996,
          50.3062,
          50.1581,
          50.01
         ]
        }
       ],
       "frames": [],
       "layout": {
        "legend": {
         "title": "Legend Title"
        },
        "margin": {
         "b": 50,
         "l": 50,
         "r": 50,
         "t": 60
        },
        "template": {
         "data": {
          "bar": [
           {
            "error_x": {
             "color": "#2a3f5f"
            },
            "error_y": {
             "color": "#2a3f5f"
            },
            "marker": {
             "line": {
              "color": "#E5ECF6",
              "width": 0.5
             }
            },
            "type": "bar"
           }
          ],
          "barpolar": [
           {
            "marker": {
             "line": {
              "color": "#E5ECF6",
              "width": 0.5
             }
            },
            "type": "barpolar"
           }
          ],
          "carpet": [
           {
            "aaxis": {
             "endlinecolor": "#2a3f5f",
             "gridcolor": "white",
             "linecolor": "white",
             "minorgridcolor": "white",
             "startlinecolor": "#2a3f5f"
            },
            "baxis": {
             "endlinecolor": "#2a3f5f",
             "gridcolor": "white",
             "linecolor": "white",
             "minorgridcolor": "white",
             "startlinecolor": "#2a3f5f"
            },
            "type": "carpet"
           }
          ],
          "choropleth": [
           {
            "colorbar": {
             "outlinewidth": 0,
             "ticks": ""
            },
            "type": "choropleth"
           }
          ],
          "contour": [
           {
            "colorbar": {
             "outlinewidth": 0,
             "ticks": ""
            },
            "colorscale": [
             [
              0,
              "#0d0887"
             ],
             [
              0.1111111111111111,
              "#46039f"
             ],
             [
              0.2222222222222222,
              "#7201a8"
             ],
             [
              0.3333333333333333,
              "#9c179e"
             ],
             [
              0.4444444444444444,
              "#bd3786"
             ],
             [
              0.5555555555555556,
              "#d8576b"
             ],
             [
              0.6666666666666666,
              "#ed7953"
             ],
             [
              0.7777777777777778,
              "#fb9f3a"
             ],
             [
              0.8888888888888888,
              "#fdca26"
             ],
             [
              1,
              "#f0f921"
             ]
            ],
            "type": "contour"
           }
          ],
          "contourcarpet": [
           {
            "colorbar": {
             "outlinewidth": 0,
             "ticks": ""
            },
            "type": "contourcarpet"
           }
          ],
          "heatmap": [
           {
            "colorbar": {
             "outlinewidth": 0,
             "ticks": ""
            },
            "colorscale": [
             [
              0,
              "#0d0887"
             ],
             [
              0.1111111111111111,
              "#46039f"
             ],
             [
              0.2222222222222222,
              "#7201a8"
             ],
             [
              0.3333333333333333,
              "#9c179e"
             ],
             [
              0.4444444444444444,
              "#bd3786"
             ],
             [
              0.5555555555555556,
              "#d8576b"
             ],
             [
              0.6666666666666666,
              "#ed7953"
             ],
             [
              0.7777777777777778,
              "#fb9f3a"
             ],
             [
              0.8888888888888888,
              "#fdca26"
             ],
             [
              1,
              "#f0f921"
             ]
            ],
            "type": "heatmap"
           }
          ],
          "heatmapgl": [
           {
            "colorbar": {
             "outlinewidth": 0,
             "ticks": ""
            },
            "colorscale": [
             [
              0,
              "#0d0887"
             ],
             [
              0.1111111111111111,
              "#46039f"
             ],
             [
              0.2222222222222222,
              "#7201a8"
             ],
             [
              0.3333333333333333,
              "#9c179e"
             ],
             [
              0.4444444444444444,
              "#bd3786"
             ],
             [
              0.5555555555555556,
              "#d8576b"
             ],
             [
              0.6666666666666666,
              "#ed7953"
             ],
             [
              0.7777777777777778,
              "#fb9f3a"
             ],
             [
              0.8888888888888888,
              "#fdca26"
             ],
             [
              1,
              "#f0f921"
             ]
            ],
            "type": "heatmapgl"
           }
          ],
          "histogram": [
           {
            "marker": {
             "colorbar": {
              "outlinewidth": 0,
              "ticks": ""
             }
            },
            "type": "histogram"
           }
          ],
          "histogram2d": [
           {
            "colorbar": {
             "outlinewidth": 0,
             "ticks": ""
            },
            "colorscale": [
             [
              0,
              "#0d0887"
             ],
             [
              0.1111111111111111,
              "#46039f"
             ],
             [
              0.2222222222222222,
              "#7201a8"
             ],
             [
              0.3333333333333333,
              "#9c179e"
             ],
             [
              0.4444444444444444,
              "#bd3786"
             ],
             [
              0.5555555555555556,
              "#d8576b"
             ],
             [
              0.6666666666666666,
              "#ed7953"
             ],
             [
              0.7777777777777778,
              "#fb9f3a"
             ],
             [
              0.8888888888888888,
              "#fdca26"
             ],
             [
              1,
              "#f0f921"
             ]
            ],
            "type": "histogram2d"
           }
          ],
          "histogram2dcontour": [
           {
            "colorbar": {
             "outlinewidth": 0,
             "ticks": ""
            },
            "colorscale": [
             [
              0,
              "#0d0887"
             ],
             [
              0.1111111111111111,
              "#46039f"
             ],
             [
              0.2222222222222222,
              "#7201a8"
             ],
             [
              0.3333333333333333,
              "#9c179e"
             ],
             [
              0.4444444444444444,
              "#bd3786"
             ],
             [
              0.5555555555555556,
              "#d8576b"
             ],
             [
              0.6666666666666666,
              "#ed7953"
             ],
             [
              0.7777777777777778,
              "#fb9f3a"
             ],
             [
              0.8888888888888888,
              "#fdca26"
             ],
             [
              1,
              "#f0f921"
             ]
            ],
            "type": "histogram2dcontour"
           }
          ],
          "mesh3d": [
           {
            "colorbar": {
             "outlinewidth": 0,
             "ticks": ""
            },
            "type": "mesh3d"
           }
          ],
          "parcoords": [
           {
            "line": {
             "colorbar": {
              "outlinewidth": 0,
              "ticks": ""
             }
            },
            "type": "parcoords"
           }
          ],
          "pie": [
           {
            "automargin": true,
            "type": "pie"
           }
          ],
          "scatter": [
           {
            "marker": {
             "colorbar": {
              "outlinewidth": 0,
              "ticks": ""
             }
            },
            "type": "scatter"
           }
          ],
          "scatter3d": [
           {
            "line": {
             "colorbar": {
              "outlinewidth": 0,
              "ticks": ""
             }
            },
            "marker": {
             "colorbar": {
              "outlinewidth": 0,
              "ticks": ""
             }
            },
            "type": "scatter3d"
           }
          ],
          "scattercarpet": [
           {
            "marker": {
             "colorbar": {
              "outlinewidth": 0,
              "ticks": ""
             }
            },
            "type": "scattercarpet"
           }
          ],
          "scattergeo": [
           {
            "marker": {
             "colorbar": {
              "outlinewidth": 0,
              "ticks": ""
             }
            },
            "type": "scattergeo"
           }
          ],
          "scattergl": [
           {
            "marker": {
             "colorbar": {
              "outlinewidth": 0,
              "ticks": ""
             }
            },
            "type": "scattergl"
           }
          ],
          "scattermapbox": [
           {
            "marker": {
             "colorbar": {
              "outlinewidth": 0,
              "ticks": ""
             }
            },
            "type": "scattermapbox"
           }
          ],
          "scatterpolar": [
           {
            "marker": {
             "colorbar": {
              "outlinewidth": 0,
              "ticks": ""
             }
            },
            "type": "scatterpolar"
           }
          ],
          "scatterpolargl": [
           {
            "marker": {
             "colorbar": {
              "outlinewidth": 0,
              "ticks": ""
             }
            },
            "type": "scatterpolargl"
           }
          ],
          "scatterternary": [
           {
            "marker": {
             "colorbar": {
              "outlinewidth": 0,
              "ticks": ""
             }
            },
            "type": "scatterternary"
           }
          ],
          "surface": [
           {
            "colorbar": {
             "outlinewidth": 0,
             "ticks": ""
            },
            "colorscale": [
             [
              0,
              "#0d0887"
             ],
             [
              0.1111111111111111,
              "#46039f"
             ],
             [
              0.2222222222222222,
              "#7201a8"
             ],
             [
              0.3333333333333333,
              "#9c179e"
             ],
             [
              0.4444444444444444,
              "#bd3786"
             ],
             [
              0.5555555555555556,
              "#d8576b"
             ],
             [
              0.6666666666666666,
              "#ed7953"
             ],
             [
              0.7777777777777778,
              "#fb9f3a"
             ],
             [
              0.8888888888888888,
              "#fdca26"
             ],
             [
              1,
              "#f0f921"
             ]
            ],
            "type": "surface"
           }
          ],
          "table": [
           {
            "cells": {
             "fill": {
              "color": "#EBF0F8"
             },
             "line": {
              "color": "white"
             }
            },
            "header": {
             "fill": {
              "color": "#C8D4E3"
             },
             "line": {
              "color": "white"
             }
            },
            "type": "table"
           }
          ]
         },
         "layout": {
          "annotationdefaults": {
           "arrowcolor": "#2a3f5f",
           "arrowhead": 0,
           "arrowwidth": 1
          },
          "autotypenumbers": "strict",
          "coloraxis": {
           "colorbar": {
            "outlinewidth": 0,
            "ticks": ""
           }
          },
          "colorscale": {
           "diverging": [
            [
             0,
             "#8e0152"
            ],
            [
             0.1,
             "#c51b7d"
            ],
            [
             0.2,
             "#de77ae"
            ],
            [
             0.3,
             "#f1b6da"
            ],
            [
             0.4,
             "#fde0ef"
            ],
            [
             0.5,
             "#f7f7f7"
            ],
            [
             0.6,
             "#e6f5d0"
            ],
            [
             0.7,
             "#b8e186"
            ],
            [
             0.8,
             "#7fbc41"
            ],
            [
             0.9,
             "#4d9221"
            ],
            [
             1,
             "#276419"
            ]
           ],
           "sequential": [
            [
             0,
             "#0d0887"
            ],
            [
             0.1111111111111111,
             "#46039f"
            ],
            [
             0.2222222222222222,
             "#7201a8"
            ],
            [
             0.3333333333333333,
             "#9c179e"
            ],
            [
             0.4444444444444444,
             "#bd3786"
            ],
            [
             0.5555555555555556,
             "#d8576b"
            ],
            [
             0.6666666666666666,
             "#ed7953"
            ],
            [
             0.7777777777777778,
             "#fb9f3a"
            ],
            [
             0.8888888888888888,
             "#fdca26"
            ],
            [
             1,
             "#f0f921"
            ]
           ],
           "sequentialminus": [
            [
             0,
             "#0d0887"
            ],
            [
             0.1111111111111111,
             "#46039f"
            ],
            [
             0.2222222222222222,
             "#7201a8"
            ],
            [
             0.3333333333333333,
             "#9c179e"
            ],
            [
             0.4444444444444444,
             "#bd3786"
            ],
            [
             0.5555555555555556,
             "#d8576b"
            ],
            [
             0.6666666666666666,
             "#ed7953"
            ],
            [
             0.7777777777777778,
             "#fb9f3a"
            ],
            [
             0.8888888888888888,
             "#fdca26"
            ],
            [
             1,
             "#f0f921"
            ]
           ]
          },
          "colorway": [
           "#636efa",
           "#EF553B",
           "#00cc96",
           "#ab63fa",
           "#FFA15A",
           "#19d3f3",
           "#FF6692",
           "#B6E880",
           "#FF97FF",
           "#FECB52"
          ],
          "font": {
           "color": "#2a3f5f"
          },
          "geo": {
           "bgcolor": "white",
           "lakecolor": "white",
           "landcolor": "#E5ECF6",
           "showlakes": true,
           "showland": true,
           "subunitcolor": "white"
          },
          "hoverlabel": {
           "align": "left"
          },
          "hovermode": "closest",
          "mapbox": {
           "style": "light"
          },
          "paper_bgcolor": "white",
          "plot_bgcolor": "#E5ECF6",
          "polar": {
           "angularaxis": {
            "gridcolor": "white",
            "linecolor": "white",
            "ticks": ""
           },
           "bgcolor": "#E5ECF6",
           "radialaxis": {
            "gridcolor": "white",
            "linecolor": "white",
            "ticks": ""
           }
          },
          "scene": {
           "xaxis": {
            "backgroundcolor": "#E5ECF6",
            "gridcolor": "white",
            "gridwidth": 2,
            "linecolor": "white",
            "showbackground": true,
            "ticks": "",
            "zerolinecolor": "white"
           },
           "yaxis": {
            "backgroundcolor": "#E5ECF6",
            "gridcolor": "white",
            "gridwidth": 2,
            "linecolor": "white",
            "showbackground": true,
            "ticks": "",
            "zerolinecolor": "white"
           },
           "zaxis": {
            "backgroundcolor": "#E5ECF6",
            "gridcolor": "white",
            "gridwidth": 2,
            "linecolor": "white",
            "showbackground": true,
            "ticks": "",
            "zerolinecolor": "white"
           }
          },
          "shapedefaults": {
           "line": {
            "color": "#2a3f5f"
           }
          },
          "ternary": {
           "aaxis": {
            "gridcolor": "white",
            "linecolor": "white",
            "ticks": ""
           },
           "baxis": {
            "gridcolor": "white",
            "linecolor": "white",
            "ticks": ""
           },
           "bgcolor": "#E5ECF6",
           "caxis": {
            "gridcolor": "white",
            "linecolor": "white",
            "ticks": ""
           }
          },
          "title": {
           "x": 0.05
          },
          "xaxis": {
           "automargin": true,
           "gridcolor": "white",
           "linecolor": "white",
           "ticks": "",
           "title": {
            "standoff": 15
           },
           "zerolinecolor": "white",
           "zerolinewidth": 2
          },
          "yaxis": {
           "automargin": true,
           "gridcolor": "white",
           "linecolor": "white",
           "ticks": "",
           "title": {
            "standoff": 15
           },
           "zerolinecolor": "white",
           "zerolinewidth": 2
          }
         }
        },
        "title": "Terminal Velocity Model",
        "xaxis": {
         "title": {
          "text": "Temperature (Kelvin)"
         }
        },
        "yaxis": {
         "title": {
          "text": "Velocity (meters / seconds)"
         }
        }
       }
      },
      "text/html": [
       "<div\n",
       "    class=\"webio-mountpoint\"\n",
       "    data-webio-mountpoint=\"519329121333417724\"\n",
       ">\n",
       "    <script>\n",
       "    (function(){\n",
       "    // Some integrations (namely, IJulia/Jupyter) use an alternate render pathway than\n",
       "    // just putting the html on the page. If WebIO isn't defined, then it's pretty likely\n",
       "    // that we're in one of those situations and the integration just isn't installed\n",
       "    // correctly.\n",
       "    if (typeof window.WebIO === \"undefined\") {\n",
       "        document\n",
       "            .querySelector('[data-webio-mountpoint=\"519329121333417724\"]')\n",
       "            .innerHTML = (\n",
       "                '<div style=\"padding: 1em; background-color: #f8d6da; border: 1px solid #f5c6cb; font-weight: bold;\">' +\n",
       "                '<p><strong>WebIO not detected.</strong></p>' +\n",
       "                '<p>Please read ' +\n",
       "                '<a href=\"https://juliagizmos.github.io/WebIO.jl/latest/troubleshooting/not-detected/\" target=\"_blank\">the troubleshooting guide</a> ' +\n",
       "                'for more information on how to resolve this issue.</p>' +\n",
       "                '<p><a href=\"https://juliagizmos.github.io/WebIO.jl/latest/troubleshooting/not-detected/\" target=\"_blank\">https://juliagizmos.github.io/WebIO.jl/latest/troubleshooting/not-detected/</a></p>' +\n",
       "                '</div>'\n",
       "            );\n",
       "        return;\n",
       "    }\n",
       "    WebIO.mount(\n",
       "        document.querySelector('[data-webio-mountpoint=\"519329121333417724\"]'),\n",
       "        {\"props\":{},\"nodeType\":\"Scope\",\"type\":\"node\",\"instanceArgs\":{\"imports\":{\"data\":[{\"name\":\"Plotly\",\"type\":\"js\",\"url\":\"\\/assetserver\\/627f17ff06762af3874159c00b9b1e00e50688bc-plotly.min.js\"},{\"name\":null,\"type\":\"js\",\"url\":\"\\/assetserver\\/1a276a0acb11ad47020d3f379225d41bbd0aeef0-plotly_webio.bundle.js\"}],\"type\":\"async_block\"},\"id\":\"10156682039381592222\",\"handlers\":{\"_toImage\":[\"(function (options){return this.Plotly.toImage(this.plotElem,options).then((function (data){return WebIO.setval({\\\"name\\\":\\\"image\\\",\\\"scope\\\":\\\"10156682039381592222\\\",\\\"id\\\":\\\"12579647717025575554\\\",\\\"type\\\":\\\"observable\\\"},data)}))})\"],\"__get_gd_contents\":[\"(function (prop){prop==\\\"data\\\" ? (WebIO.setval({\\\"name\\\":\\\"__gd_contents\\\",\\\"scope\\\":\\\"10156682039381592222\\\",\\\"id\\\":\\\"4157999416606561647\\\",\\\"type\\\":\\\"observable\\\"},this.plotElem.data)) : undefined; return prop==\\\"layout\\\" ? (WebIO.setval({\\\"name\\\":\\\"__gd_contents\\\",\\\"scope\\\":\\\"10156682039381592222\\\",\\\"id\\\":\\\"4157999416606561647\\\",\\\"type\\\":\\\"observable\\\"},this.plotElem.layout)) : undefined})\"],\"_downloadImage\":[\"(function (options){return this.Plotly.downloadImage(this.plotElem,options)})\"],\"_commands\":[\"(function (args){var fn=args.shift(); var elem=this.plotElem; var Plotly=this.Plotly; args.unshift(elem); return Plotly[fn].apply(this,args)})\"]},\"systemjs_options\":null,\"mount_callbacks\":[\"function () {\\n    var handler = ((function (Plotly,PlotlyWebIO){PlotlyWebIO.init(WebIO); var gd=this.dom.querySelector(\\\"#plot-3711ce0d-f661-4799-b68a-5e0e956fb917\\\"); this.plotElem=gd; this.Plotly=Plotly; (window.Blink!==undefined) ? (gd.style.width=\\\"100%\\\", gd.style.height=\\\"100vh\\\", gd.style.marginLeft=\\\"0%\\\", gd.style.marginTop=\\\"0vh\\\") : undefined; window.onresize=(function (){return Plotly.Plots.resize(gd)}); Plotly.newPlot(gd,[{\\\"mode\\\":\\\"markers+lines\\\",\\\"y\\\":[54.0087,53.8606,53.7125,53.56439999999999,53.41629999999999,53.26819999999999,53.120099999999994,52.971999999999994,52.823899999999995,52.675799999999995,52.527699999999996,52.379599999999996,52.2315,52.0834,51.9353,51.7872,51.63909999999999,51.49099999999999,51.34289999999999,51.194799999999994,51.046699999999994,50.898599999999995,50.750499999999995,50.602399999999996,50.454299999999996,50.3062,50.1581,50.01],\\\"type\\\":\\\"scatter\\\",\\\"x\\\":[273.0,274.0,275.0,276.0,277.0,278.0,279.0,280.0,281.0,282.0,283.0,284.0,285.0,286.0,287.0,288.0,289.0,290.0,291.0,292.0,293.0,294.0,295.0,296.0,297.0,298.0,299.0,300.0]}],{\\\"xaxis\\\":{\\\"title\\\":{\\\"text\\\":\\\"Temperature (Kelvin)\\\"}},\\\"template\\\":{\\\"layout\\\":{\\\"coloraxis\\\":{\\\"colorbar\\\":{\\\"ticks\\\":\\\"\\\",\\\"outlinewidth\\\":0}},\\\"xaxis\\\":{\\\"gridcolor\\\":\\\"white\\\",\\\"zerolinewidth\\\":2,\\\"title\\\":{\\\"standoff\\\":15},\\\"ticks\\\":\\\"\\\",\\\"zerolinecolor\\\":\\\"white\\\",\\\"automargin\\\":true,\\\"linecolor\\\":\\\"white\\\"},\\\"hovermode\\\":\\\"closest\\\",\\\"paper_bgcolor\\\":\\\"white\\\",\\\"geo\\\":{\\\"showlakes\\\":true,\\\"showland\\\":true,\\\"landcolor\\\":\\\"#E5ECF6\\\",\\\"bgcolor\\\":\\\"white\\\",\\\"subunitcolor\\\":\\\"white\\\",\\\"lakecolor\\\":\\\"white\\\"},\\\"colorscale\\\":{\\\"sequential\\\":[[0.0,\\\"#0d0887\\\"],[0.1111111111111111,\\\"#46039f\\\"],[0.2222222222222222,\\\"#7201a8\\\"],[0.3333333333333333,\\\"#9c179e\\\"],[0.4444444444444444,\\\"#bd3786\\\"],[0.5555555555555556,\\\"#d8576b\\\"],[0.6666666666666666,\\\"#ed7953\\\"],[0.7777777777777778,\\\"#fb9f3a\\\"],[0.8888888888888888,\\\"#fdca26\\\"],[1.0,\\\"#f0f921\\\"]],\\\"diverging\\\":[[0,\\\"#8e0152\\\"],[0.1,\\\"#c51b7d\\\"],[0.2,\\\"#de77ae\\\"],[0.3,\\\"#f1b6da\\\"],[0.4,\\\"#fde0ef\\\"],[0.5,\\\"#f7f7f7\\\"],[0.6,\\\"#e6f5d0\\\"],[0.7,\\\"#b8e186\\\"],[0.8,\\\"#7fbc41\\\"],[0.9,\\\"#4d9221\\\"],[1,\\\"#276419\\\"]],\\\"sequentialminus\\\":[[0.0,\\\"#0d0887\\\"],[0.1111111111111111,\\\"#46039f\\\"],[0.2222222222222222,\\\"#7201a8\\\"],[0.3333333333333333,\\\"#9c179e\\\"],[0.4444444444444444,\\\"#bd3786\\\"],[0.5555555555555556,\\\"#d8576b\\\"],[0.6666666666666666,\\\"#ed7953\\\"],[0.7777777777777778,\\\"#fb9f3a\\\"],[0.8888888888888888,\\\"#fdca26\\\"],[1.0,\\\"#f0f921\\\"]]},\\\"yaxis\\\":{\\\"gridcolor\\\":\\\"white\\\",\\\"zerolinewidth\\\":2,\\\"title\\\":{\\\"standoff\\\":15},\\\"ticks\\\":\\\"\\\",\\\"zerolinecolor\\\":\\\"white\\\",\\\"automargin\\\":true,\\\"linecolor\\\":\\\"white\\\"},\\\"shapedefaults\\\":{\\\"line\\\":{\\\"color\\\":\\\"#2a3f5f\\\"}},\\\"hoverlabel\\\":{\\\"align\\\":\\\"left\\\"},\\\"mapbox\\\":{\\\"style\\\":\\\"light\\\"},\\\"polar\\\":{\\\"angularaxis\\\":{\\\"gridcolor\\\":\\\"white\\\",\\\"ticks\\\":\\\"\\\",\\\"linecolor\\\":\\\"white\\\"},\\\"bgcolor\\\":\\\"#E5ECF6\\\",\\\"radialaxis\\\":{\\\"gridcolor\\\":\\\"white\\\",\\\"ticks\\\":\\\"\\\",\\\"linecolor\\\":\\\"white\\\"}},\\\"autotypenumbers\\\":\\\"strict\\\",\\\"font\\\":{\\\"color\\\":\\\"#2a3f5f\\\"},\\\"ternary\\\":{\\\"baxis\\\":{\\\"gridcolor\\\":\\\"white\\\",\\\"ticks\\\":\\\"\\\",\\\"linecolor\\\":\\\"white\\\"},\\\"bgcolor\\\":\\\"#E5ECF6\\\",\\\"caxis\\\":{\\\"gridcolor\\\":\\\"white\\\",\\\"ticks\\\":\\\"\\\",\\\"linecolor\\\":\\\"white\\\"},\\\"aaxis\\\":{\\\"gridcolor\\\":\\\"white\\\",\\\"ticks\\\":\\\"\\\",\\\"linecolor\\\":\\\"white\\\"}},\\\"annotationdefaults\\\":{\\\"arrowhead\\\":0,\\\"arrowwidth\\\":1,\\\"arrowcolor\\\":\\\"#2a3f5f\\\"},\\\"plot_bgcolor\\\":\\\"#E5ECF6\\\",\\\"title\\\":{\\\"x\\\":0.05},\\\"scene\\\":{\\\"xaxis\\\":{\\\"gridcolor\\\":\\\"white\\\",\\\"gridwidth\\\":2,\\\"backgroundcolor\\\":\\\"#E5ECF6\\\",\\\"ticks\\\":\\\"\\\",\\\"showbackground\\\":true,\\\"zerolinecolor\\\":\\\"white\\\",\\\"linecolor\\\":\\\"white\\\"},\\\"zaxis\\\":{\\\"gridcolor\\\":\\\"white\\\",\\\"gridwidth\\\":2,\\\"backgroundcolor\\\":\\\"#E5ECF6\\\",\\\"ticks\\\":\\\"\\\",\\\"showbackground\\\":true,\\\"zerolinecolor\\\":\\\"white\\\",\\\"linecolor\\\":\\\"white\\\"},\\\"yaxis\\\":{\\\"gridcolor\\\":\\\"white\\\",\\\"gridwidth\\\":2,\\\"backgroundcolor\\\":\\\"#E5ECF6\\\",\\\"ticks\\\":\\\"\\\",\\\"showbackground\\\":true,\\\"zerolinecolor\\\":\\\"white\\\",\\\"linecolor\\\":\\\"white\\\"}},\\\"colorway\\\":[\\\"#636efa\\\",\\\"#EF553B\\\",\\\"#00cc96\\\",\\\"#ab63fa\\\",\\\"#FFA15A\\\",\\\"#19d3f3\\\",\\\"#FF6692\\\",\\\"#B6E880\\\",\\\"#FF97FF\\\",\\\"#FECB52\\\"]},\\\"data\\\":{\\\"barpolar\\\":[{\\\"type\\\":\\\"barpolar\\\",\\\"marker\\\":{\\\"line\\\":{\\\"color\\\":\\\"#E5ECF6\\\",\\\"width\\\":0.5}}}],\\\"carpet\\\":[{\\\"aaxis\\\":{\\\"gridcolor\\\":\\\"white\\\",\\\"endlinecolor\\\":\\\"#2a3f5f\\\",\\\"minorgridcolor\\\":\\\"white\\\",\\\"startlinecolor\\\":\\\"#2a3f5f\\\",\\\"linecolor\\\":\\\"white\\\"},\\\"type\\\":\\\"carpet\\\",\\\"baxis\\\":{\\\"gridcolor\\\":\\\"white\\\",\\\"endlinecolor\\\":\\\"#2a3f5f\\\",\\\"minorgridcolor\\\":\\\"white\\\",\\\"startlinecolor\\\":\\\"#2a3f5f\\\",\\\"linecolor\\\":\\\"white\\\"}}],\\\"scatterpolar\\\":[{\\\"type\\\":\\\"scatterpolar\\\",\\\"marker\\\":{\\\"colorbar\\\":{\\\"ticks\\\":\\\"\\\",\\\"outlinewidth\\\":0}}}],\\\"parcoords\\\":[{\\\"line\\\":{\\\"colorbar\\\":{\\\"ticks\\\":\\\"\\\",\\\"outlinewidth\\\":0}},\\\"type\\\":\\\"parcoords\\\"}],\\\"scatter\\\":[{\\\"type\\\":\\\"scatter\\\",\\\"marker\\\":{\\\"colorbar\\\":{\\\"ticks\\\":\\\"\\\",\\\"outlinewidth\\\":0}}}],\\\"histogram2dcontour\\\":[{\\\"colorbar\\\":{\\\"ticks\\\":\\\"\\\",\\\"outlinewidth\\\":0},\\\"type\\\":\\\"histogram2dcontour\\\",\\\"colorscale\\\":[[0.0,\\\"#0d0887\\\"],[0.1111111111111111,\\\"#46039f\\\"],[0.2222222222222222,\\\"#7201a8\\\"],[0.3333333333333333,\\\"#9c179e\\\"],[0.4444444444444444,\\\"#bd3786\\\"],[0.5555555555555556,\\\"#d8576b\\\"],[0.6666666666666666,\\\"#ed7953\\\"],[0.7777777777777778,\\\"#fb9f3a\\\"],[0.8888888888888888,\\\"#fdca26\\\"],[1.0,\\\"#f0f921\\\"]]}],\\\"contour\\\":[{\\\"colorbar\\\":{\\\"ticks\\\":\\\"\\\",\\\"outlinewidth\\\":0},\\\"type\\\":\\\"contour\\\",\\\"colorscale\\\":[[0.0,\\\"#0d0887\\\"],[0.1111111111111111,\\\"#46039f\\\"],[0.2222222222222222,\\\"#7201a8\\\"],[0.3333333333333333,\\\"#9c179e\\\"],[0.4444444444444444,\\\"#bd3786\\\"],[0.5555555555555556,\\\"#d8576b\\\"],[0.6666666666666666,\\\"#ed7953\\\"],[0.7777777777777778,\\\"#fb9f3a\\\"],[0.8888888888888888,\\\"#fdca26\\\"],[1.0,\\\"#f0f921\\\"]]}],\\\"scattercarpet\\\":[{\\\"type\\\":\\\"scattercarpet\\\",\\\"marker\\\":{\\\"colorbar\\\":{\\\"ticks\\\":\\\"\\\",\\\"outlinewidth\\\":0}}}],\\\"mesh3d\\\":[{\\\"colorbar\\\":{\\\"ticks\\\":\\\"\\\",\\\"outlinewidth\\\":0},\\\"type\\\":\\\"mesh3d\\\"}],\\\"surface\\\":[{\\\"colorbar\\\":{\\\"ticks\\\":\\\"\\\",\\\"outlinewidth\\\":0},\\\"type\\\":\\\"surface\\\",\\\"colorscale\\\":[[0.0,\\\"#0d0887\\\"],[0.1111111111111111,\\\"#46039f\\\"],[0.2222222222222222,\\\"#7201a8\\\"],[0.3333333333333333,\\\"#9c179e\\\"],[0.4444444444444444,\\\"#bd3786\\\"],[0.5555555555555556,\\\"#d8576b\\\"],[0.6666666666666666,\\\"#ed7953\\\"],[0.7777777777777778,\\\"#fb9f3a\\\"],[0.8888888888888888,\\\"#fdca26\\\"],[1.0,\\\"#f0f921\\\"]]}],\\\"scattermapbox\\\":[{\\\"type\\\":\\\"scattermapbox\\\",\\\"marker\\\":{\\\"colorbar\\\":{\\\"ticks\\\":\\\"\\\",\\\"outlinewidth\\\":0}}}],\\\"scattergeo\\\":[{\\\"type\\\":\\\"scattergeo\\\",\\\"marker\\\":{\\\"colorbar\\\":{\\\"ticks\\\":\\\"\\\",\\\"outlinewidth\\\":0}}}],\\\"histogram\\\":[{\\\"type\\\":\\\"histogram\\\",\\\"marker\\\":{\\\"colorbar\\\":{\\\"ticks\\\":\\\"\\\",\\\"outlinewidth\\\":0}}}],\\\"pie\\\":[{\\\"type\\\":\\\"pie\\\",\\\"automargin\\\":true}],\\\"choropleth\\\":[{\\\"colorbar\\\":{\\\"ticks\\\":\\\"\\\",\\\"outlinewidth\\\":0},\\\"type\\\":\\\"choropleth\\\"}],\\\"heatmapgl\\\":[{\\\"colorbar\\\":{\\\"ticks\\\":\\\"\\\",\\\"outlinewidth\\\":0},\\\"type\\\":\\\"heatmapgl\\\",\\\"colorscale\\\":[[0.0,\\\"#0d0887\\\"],[0.1111111111111111,\\\"#46039f\\\"],[0.2222222222222222,\\\"#7201a8\\\"],[0.3333333333333333,\\\"#9c179e\\\"],[0.4444444444444444,\\\"#bd3786\\\"],[0.5555555555555556,\\\"#d8576b\\\"],[0.6666666666666666,\\\"#ed7953\\\"],[0.7777777777777778,\\\"#fb9f3a\\\"],[0.8888888888888888,\\\"#fdca26\\\"],[1.0,\\\"#f0f921\\\"]]}],\\\"bar\\\":[{\\\"type\\\":\\\"bar\\\",\\\"error_y\\\":{\\\"color\\\":\\\"#2a3f5f\\\"},\\\"error_x\\\":{\\\"color\\\":\\\"#2a3f5f\\\"},\\\"marker\\\":{\\\"line\\\":{\\\"color\\\":\\\"#E5ECF6\\\",\\\"width\\\":0.5}}}],\\\"heatmap\\\":[{\\\"colorbar\\\":{\\\"ticks\\\":\\\"\\\",\\\"outlinewidth\\\":0},\\\"type\\\":\\\"heatmap\\\",\\\"colorscale\\\":[[0.0,\\\"#0d0887\\\"],[0.1111111111111111,\\\"#46039f\\\"],[0.2222222222222222,\\\"#7201a8\\\"],[0.3333333333333333,\\\"#9c179e\\\"],[0.4444444444444444,\\\"#bd3786\\\"],[0.5555555555555556,\\\"#d8576b\\\"],[0.6666666666666666,\\\"#ed7953\\\"],[0.7777777777777778,\\\"#fb9f3a\\\"],[0.8888888888888888,\\\"#fdca26\\\"],[1.0,\\\"#f0f921\\\"]]}],\\\"contourcarpet\\\":[{\\\"colorbar\\\":{\\\"ticks\\\":\\\"\\\",\\\"outlinewidth\\\":0},\\\"type\\\":\\\"contourcarpet\\\"}],\\\"table\\\":[{\\\"type\\\":\\\"table\\\",\\\"header\\\":{\\\"line\\\":{\\\"color\\\":\\\"white\\\"},\\\"fill\\\":{\\\"color\\\":\\\"#C8D4E3\\\"}},\\\"cells\\\":{\\\"line\\\":{\\\"color\\\":\\\"white\\\"},\\\"fill\\\":{\\\"color\\\":\\\"#EBF0F8\\\"}}}],\\\"scatter3d\\\":[{\\\"line\\\":{\\\"colorbar\\\":{\\\"ticks\\\":\\\"\\\",\\\"outlinewidth\\\":0}},\\\"type\\\":\\\"scatter3d\\\",\\\"marker\\\":{\\\"colorbar\\\":{\\\"ticks\\\":\\\"\\\",\\\"outlinewidth\\\":0}}}],\\\"scattergl\\\":[{\\\"type\\\":\\\"scattergl\\\",\\\"marker\\\":{\\\"colorbar\\\":{\\\"ticks\\\":\\\"\\\",\\\"outlinewidth\\\":0}}}],\\\"histogram2d\\\":[{\\\"colorbar\\\":{\\\"ticks\\\":\\\"\\\",\\\"outlinewidth\\\":0},\\\"type\\\":\\\"histogram2d\\\",\\\"colorscale\\\":[[0.0,\\\"#0d0887\\\"],[0.1111111111111111,\\\"#46039f\\\"],[0.2222222222222222,\\\"#7201a8\\\"],[0.3333333333333333,\\\"#9c179e\\\"],[0.4444444444444444,\\\"#bd3786\\\"],[0.5555555555555556,\\\"#d8576b\\\"],[0.6666666666666666,\\\"#ed7953\\\"],[0.7777777777777778,\\\"#fb9f3a\\\"],[0.8888888888888888,\\\"#fdca26\\\"],[1.0,\\\"#f0f921\\\"]]}],\\\"scatterternary\\\":[{\\\"type\\\":\\\"scatterternary\\\",\\\"marker\\\":{\\\"colorbar\\\":{\\\"ticks\\\":\\\"\\\",\\\"outlinewidth\\\":0}}}],\\\"scatterpolargl\\\":[{\\\"type\\\":\\\"scatterpolargl\\\",\\\"marker\\\":{\\\"colorbar\\\":{\\\"ticks\\\":\\\"\\\",\\\"outlinewidth\\\":0}}}]}},\\\"legend\\\":{\\\"title\\\":\\\"Legend Title\\\"},\\\"margin\\\":{\\\"l\\\":50,\\\"b\\\":50,\\\"r\\\":50,\\\"t\\\":60},\\\"title\\\":\\\"Terminal Velocity Model\\\",\\\"yaxis\\\":{\\\"title\\\":{\\\"text\\\":\\\"Velocity (meters \\/ seconds)\\\"}}},{\\\"showLink\\\":false,\\\"editable\\\":false,\\\"responsive\\\":true,\\\"staticPlot\\\":false,\\\"scrollZoom\\\":true}); gd.on(\\\"plotly_hover\\\",(function (data){var filtered_data=WebIO.PlotlyCommands.filterEventData(gd,data,\\\"hover\\\"); return !(filtered_data.isnil) ? (WebIO.setval({\\\"name\\\":\\\"hover\\\",\\\"scope\\\":\\\"10156682039381592222\\\",\\\"id\\\":\\\"11017553048292665456\\\",\\\"type\\\":\\\"observable\\\"},filtered_data.out)) : undefined})); gd.on(\\\"plotly_unhover\\\",(function (){return WebIO.setval({\\\"name\\\":\\\"hover\\\",\\\"scope\\\":\\\"10156682039381592222\\\",\\\"id\\\":\\\"11017553048292665456\\\",\\\"type\\\":\\\"observable\\\"},{})})); gd.on(\\\"plotly_selected\\\",(function (data){var filtered_data=WebIO.PlotlyCommands.filterEventData(gd,data,\\\"selected\\\"); return !(filtered_data.isnil) ? (WebIO.setval({\\\"name\\\":\\\"selected\\\",\\\"scope\\\":\\\"10156682039381592222\\\",\\\"id\\\":\\\"4057701066078479860\\\",\\\"type\\\":\\\"observable\\\"},filtered_data.out)) : undefined})); gd.on(\\\"plotly_deselect\\\",(function (){return WebIO.setval({\\\"name\\\":\\\"selected\\\",\\\"scope\\\":\\\"10156682039381592222\\\",\\\"id\\\":\\\"4057701066078479860\\\",\\\"type\\\":\\\"observable\\\"},{})})); gd.on(\\\"plotly_relayout\\\",(function (data){var filtered_data=WebIO.PlotlyCommands.filterEventData(gd,data,\\\"relayout\\\"); return !(filtered_data.isnil) ? (WebIO.setval({\\\"name\\\":\\\"relayout\\\",\\\"scope\\\":\\\"10156682039381592222\\\",\\\"id\\\":\\\"6364041893140522882\\\",\\\"type\\\":\\\"observable\\\"},filtered_data.out)) : undefined})); return gd.on(\\\"plotly_click\\\",(function (data){var filtered_data=WebIO.PlotlyCommands.filterEventData(gd,data,\\\"click\\\"); return !(filtered_data.isnil) ? (WebIO.setval({\\\"name\\\":\\\"click\\\",\\\"scope\\\":\\\"10156682039381592222\\\",\\\"id\\\":\\\"7139511707811869074\\\",\\\"type\\\":\\\"observable\\\"},filtered_data.out)) : undefined}))}));\\n    (WebIO.importBlock({\\\"data\\\":[{\\\"name\\\":\\\"Plotly\\\",\\\"type\\\":\\\"js\\\",\\\"url\\\":\\\"\\/assetserver\\/627f17ff06762af3874159c00b9b1e00e50688bc-plotly.min.js\\\"},{\\\"name\\\":null,\\\"type\\\":\\\"js\\\",\\\"url\\\":\\\"\\/assetserver\\/1a276a0acb11ad47020d3f379225d41bbd0aeef0-plotly_webio.bundle.js\\\"}],\\\"type\\\":\\\"async_block\\\"})).then((imports) => handler.apply(this, imports));\\n}\\n\"],\"observables\":{\"_toImage\":{\"sync\":false,\"id\":\"6484438826607431993\",\"value\":{}},\"hover\":{\"sync\":false,\"id\":\"11017553048292665456\",\"value\":{}},\"selected\":{\"sync\":false,\"id\":\"4057701066078479860\",\"value\":{}},\"__gd_contents\":{\"sync\":false,\"id\":\"4157999416606561647\",\"value\":{}},\"click\":{\"sync\":false,\"id\":\"7139511707811869074\",\"value\":{}},\"image\":{\"sync\":true,\"id\":\"12579647717025575554\",\"value\":\"\"},\"__get_gd_contents\":{\"sync\":false,\"id\":\"13420352164341123737\",\"value\":\"\"},\"_downloadImage\":{\"sync\":false,\"id\":\"14776795767256952963\",\"value\":{}},\"relayout\":{\"sync\":false,\"id\":\"6364041893140522882\",\"value\":{}},\"_commands\":{\"sync\":false,\"id\":\"7446926837582050151\",\"value\":[]}}},\"children\":[{\"props\":{\"id\":\"plot-3711ce0d-f661-4799-b68a-5e0e956fb917\"},\"nodeType\":\"DOM\",\"type\":\"node\",\"instanceArgs\":{\"namespace\":\"html\",\"tag\":\"div\"},\"children\":[]}]},\n",
       "        window,\n",
       "    );\n",
       "    })()\n",
       "    </script>\n",
       "</div>\n"
      ],
      "text/plain": [
       "data: [\n",
       "  \"scatter with fields mode, type, x, and y\"\n",
       "]\n",
       "\n",
       "layout: \"layout with fields legend, margin, template, title, xaxis, and yaxis\"\n",
       "\n"
      ]
     },
     "execution_count": 416,
     "metadata": {},
     "output_type": "execute_result"
    }
   ],
   "source": [
    "temperature_range_K = 273.0:300.0\n",
    "\n",
    "plot(\n",
    "    [\n",
    "        scatter(\n",
    "            mode=\"markers+lines\",\n",
    "            x=temperature_range_K,\n",
    "            y=[get_velocity_infinity_ms(T) for T in temperature_range_K]\n",
    "        )\n",
    "    ],\n",
    "    Layout(\n",
    "        title=\"Terminal Velocity Model\",\n",
    "        xaxis_title=\"Temperature (Kelvin)\",\n",
    "        yaxis_title=\"Velocity (meters / seconds)\",\n",
    "        legend_title=\"Legend Title\",\n",
    "    ),\n",
    "    config=PlotConfig(scrollZoom=true)\n",
    ")"
   ]
  },
  {
   "cell_type": "code",
   "execution_count": 417,
   "id": "c2c7a6a8",
   "metadata": {},
   "outputs": [
    {
     "data": {
      "application/vnd.plotly.v1+json": {
       "config": {
        "editable": false,
        "responsive": true,
        "scrollZoom": true,
        "showLink": false,
        "staticPlot": false
       },
       "data": [
        {
         "mode": "markers+lines",
         "type": "scatter",
         "x": [
          0,
          100,
          200,
          300,
          400,
          500,
          600,
          700,
          800,
          900,
          1000,
          1100,
          1200,
          1300,
          1400,
          1500,
          1600,
          1700,
          1800,
          1900,
          2000,
          2100,
          2200,
          2300,
          2400,
          2500,
          2600,
          2700,
          2800,
          2900,
          3000
         ],
         "y": [
          288.706,
          288.02250000000004,
          287.339,
          286.6555,
          285.97200000000004,
          285.2885,
          284.605,
          283.92150000000004,
          283.238,
          282.5545,
          281.87100000000004,
          281.1875,
          280.504,
          279.82050000000004,
          279.137,
          278.4535,
          277.77000000000004,
          277.0865,
          276.403,
          275.71950000000004,
          275.036,
          274.3525,
          273.66900000000004,
          272.9855,
          272.302,
          271.61850000000004,
          270.935,
          270.2515,
          269.56800000000004,
          268.8845,
          268.201
         ]
        }
       ],
       "frames": [],
       "layout": {
        "legend": {
         "title": "Legend Title"
        },
        "margin": {
         "b": 50,
         "l": 50,
         "r": 50,
         "t": 60
        },
        "template": {
         "data": {
          "bar": [
           {
            "error_x": {
             "color": "#2a3f5f"
            },
            "error_y": {
             "color": "#2a3f5f"
            },
            "marker": {
             "line": {
              "color": "#E5ECF6",
              "width": 0.5
             }
            },
            "type": "bar"
           }
          ],
          "barpolar": [
           {
            "marker": {
             "line": {
              "color": "#E5ECF6",
              "width": 0.5
             }
            },
            "type": "barpolar"
           }
          ],
          "carpet": [
           {
            "aaxis": {
             "endlinecolor": "#2a3f5f",
             "gridcolor": "white",
             "linecolor": "white",
             "minorgridcolor": "white",
             "startlinecolor": "#2a3f5f"
            },
            "baxis": {
             "endlinecolor": "#2a3f5f",
             "gridcolor": "white",
             "linecolor": "white",
             "minorgridcolor": "white",
             "startlinecolor": "#2a3f5f"
            },
            "type": "carpet"
           }
          ],
          "choropleth": [
           {
            "colorbar": {
             "outlinewidth": 0,
             "ticks": ""
            },
            "type": "choropleth"
           }
          ],
          "contour": [
           {
            "colorbar": {
             "outlinewidth": 0,
             "ticks": ""
            },
            "colorscale": [
             [
              0,
              "#0d0887"
             ],
             [
              0.1111111111111111,
              "#46039f"
             ],
             [
              0.2222222222222222,
              "#7201a8"
             ],
             [
              0.3333333333333333,
              "#9c179e"
             ],
             [
              0.4444444444444444,
              "#bd3786"
             ],
             [
              0.5555555555555556,
              "#d8576b"
             ],
             [
              0.6666666666666666,
              "#ed7953"
             ],
             [
              0.7777777777777778,
              "#fb9f3a"
             ],
             [
              0.8888888888888888,
              "#fdca26"
             ],
             [
              1,
              "#f0f921"
             ]
            ],
            "type": "contour"
           }
          ],
          "contourcarpet": [
           {
            "colorbar": {
             "outlinewidth": 0,
             "ticks": ""
            },
            "type": "contourcarpet"
           }
          ],
          "heatmap": [
           {
            "colorbar": {
             "outlinewidth": 0,
             "ticks": ""
            },
            "colorscale": [
             [
              0,
              "#0d0887"
             ],
             [
              0.1111111111111111,
              "#46039f"
             ],
             [
              0.2222222222222222,
              "#7201a8"
             ],
             [
              0.3333333333333333,
              "#9c179e"
             ],
             [
              0.4444444444444444,
              "#bd3786"
             ],
             [
              0.5555555555555556,
              "#d8576b"
             ],
             [
              0.6666666666666666,
              "#ed7953"
             ],
             [
              0.7777777777777778,
              "#fb9f3a"
             ],
             [
              0.8888888888888888,
              "#fdca26"
             ],
             [
              1,
              "#f0f921"
             ]
            ],
            "type": "heatmap"
           }
          ],
          "heatmapgl": [
           {
            "colorbar": {
             "outlinewidth": 0,
             "ticks": ""
            },
            "colorscale": [
             [
              0,
              "#0d0887"
             ],
             [
              0.1111111111111111,
              "#46039f"
             ],
             [
              0.2222222222222222,
              "#7201a8"
             ],
             [
              0.3333333333333333,
              "#9c179e"
             ],
             [
              0.4444444444444444,
              "#bd3786"
             ],
             [
              0.5555555555555556,
              "#d8576b"
             ],
             [
              0.6666666666666666,
              "#ed7953"
             ],
             [
              0.7777777777777778,
              "#fb9f3a"
             ],
             [
              0.8888888888888888,
              "#fdca26"
             ],
             [
              1,
              "#f0f921"
             ]
            ],
            "type": "heatmapgl"
           }
          ],
          "histogram": [
           {
            "marker": {
             "colorbar": {
              "outlinewidth": 0,
              "ticks": ""
             }
            },
            "type": "histogram"
           }
          ],
          "histogram2d": [
           {
            "colorbar": {
             "outlinewidth": 0,
             "ticks": ""
            },
            "colorscale": [
             [
              0,
              "#0d0887"
             ],
             [
              0.1111111111111111,
              "#46039f"
             ],
             [
              0.2222222222222222,
              "#7201a8"
             ],
             [
              0.3333333333333333,
              "#9c179e"
             ],
             [
              0.4444444444444444,
              "#bd3786"
             ],
             [
              0.5555555555555556,
              "#d8576b"
             ],
             [
              0.6666666666666666,
              "#ed7953"
             ],
             [
              0.7777777777777778,
              "#fb9f3a"
             ],
             [
              0.8888888888888888,
              "#fdca26"
             ],
             [
              1,
              "#f0f921"
             ]
            ],
            "type": "histogram2d"
           }
          ],
          "histogram2dcontour": [
           {
            "colorbar": {
             "outlinewidth": 0,
             "ticks": ""
            },
            "colorscale": [
             [
              0,
              "#0d0887"
             ],
             [
              0.1111111111111111,
              "#46039f"
             ],
             [
              0.2222222222222222,
              "#7201a8"
             ],
             [
              0.3333333333333333,
              "#9c179e"
             ],
             [
              0.4444444444444444,
              "#bd3786"
             ],
             [
              0.5555555555555556,
              "#d8576b"
             ],
             [
              0.6666666666666666,
              "#ed7953"
             ],
             [
              0.7777777777777778,
              "#fb9f3a"
             ],
             [
              0.8888888888888888,
              "#fdca26"
             ],
             [
              1,
              "#f0f921"
             ]
            ],
            "type": "histogram2dcontour"
           }
          ],
          "mesh3d": [
           {
            "colorbar": {
             "outlinewidth": 0,
             "ticks": ""
            },
            "type": "mesh3d"
           }
          ],
          "parcoords": [
           {
            "line": {
             "colorbar": {
              "outlinewidth": 0,
              "ticks": ""
             }
            },
            "type": "parcoords"
           }
          ],
          "pie": [
           {
            "automargin": true,
            "type": "pie"
           }
          ],
          "scatter": [
           {
            "marker": {
             "colorbar": {
              "outlinewidth": 0,
              "ticks": ""
             }
            },
            "type": "scatter"
           }
          ],
          "scatter3d": [
           {
            "line": {
             "colorbar": {
              "outlinewidth": 0,
              "ticks": ""
             }
            },
            "marker": {
             "colorbar": {
              "outlinewidth": 0,
              "ticks": ""
             }
            },
            "type": "scatter3d"
           }
          ],
          "scattercarpet": [
           {
            "marker": {
             "colorbar": {
              "outlinewidth": 0,
              "ticks": ""
             }
            },
            "type": "scattercarpet"
           }
          ],
          "scattergeo": [
           {
            "marker": {
             "colorbar": {
              "outlinewidth": 0,
              "ticks": ""
             }
            },
            "type": "scattergeo"
           }
          ],
          "scattergl": [
           {
            "marker": {
             "colorbar": {
              "outlinewidth": 0,
              "ticks": ""
             }
            },
            "type": "scattergl"
           }
          ],
          "scattermapbox": [
           {
            "marker": {
             "colorbar": {
              "outlinewidth": 0,
              "ticks": ""
             }
            },
            "type": "scattermapbox"
           }
          ],
          "scatterpolar": [
           {
            "marker": {
             "colorbar": {
              "outlinewidth": 0,
              "ticks": ""
             }
            },
            "type": "scatterpolar"
           }
          ],
          "scatterpolargl": [
           {
            "marker": {
             "colorbar": {
              "outlinewidth": 0,
              "ticks": ""
             }
            },
            "type": "scatterpolargl"
           }
          ],
          "scatterternary": [
           {
            "marker": {
             "colorbar": {
              "outlinewidth": 0,
              "ticks": ""
             }
            },
            "type": "scatterternary"
           }
          ],
          "surface": [
           {
            "colorbar": {
             "outlinewidth": 0,
             "ticks": ""
            },
            "colorscale": [
             [
              0,
              "#0d0887"
             ],
             [
              0.1111111111111111,
              "#46039f"
             ],
             [
              0.2222222222222222,
              "#7201a8"
             ],
             [
              0.3333333333333333,
              "#9c179e"
             ],
             [
              0.4444444444444444,
              "#bd3786"
             ],
             [
              0.5555555555555556,
              "#d8576b"
             ],
             [
              0.6666666666666666,
              "#ed7953"
             ],
             [
              0.7777777777777778,
              "#fb9f3a"
             ],
             [
              0.8888888888888888,
              "#fdca26"
             ],
             [
              1,
              "#f0f921"
             ]
            ],
            "type": "surface"
           }
          ],
          "table": [
           {
            "cells": {
             "fill": {
              "color": "#EBF0F8"
             },
             "line": {
              "color": "white"
             }
            },
            "header": {
             "fill": {
              "color": "#C8D4E3"
             },
             "line": {
              "color": "white"
             }
            },
            "type": "table"
           }
          ]
         },
         "layout": {
          "annotationdefaults": {
           "arrowcolor": "#2a3f5f",
           "arrowhead": 0,
           "arrowwidth": 1
          },
          "autotypenumbers": "strict",
          "coloraxis": {
           "colorbar": {
            "outlinewidth": 0,
            "ticks": ""
           }
          },
          "colorscale": {
           "diverging": [
            [
             0,
             "#8e0152"
            ],
            [
             0.1,
             "#c51b7d"
            ],
            [
             0.2,
             "#de77ae"
            ],
            [
             0.3,
             "#f1b6da"
            ],
            [
             0.4,
             "#fde0ef"
            ],
            [
             0.5,
             "#f7f7f7"
            ],
            [
             0.6,
             "#e6f5d0"
            ],
            [
             0.7,
             "#b8e186"
            ],
            [
             0.8,
             "#7fbc41"
            ],
            [
             0.9,
             "#4d9221"
            ],
            [
             1,
             "#276419"
            ]
           ],
           "sequential": [
            [
             0,
             "#0d0887"
            ],
            [
             0.1111111111111111,
             "#46039f"
            ],
            [
             0.2222222222222222,
             "#7201a8"
            ],
            [
             0.3333333333333333,
             "#9c179e"
            ],
            [
             0.4444444444444444,
             "#bd3786"
            ],
            [
             0.5555555555555556,
             "#d8576b"
            ],
            [
             0.6666666666666666,
             "#ed7953"
            ],
            [
             0.7777777777777778,
             "#fb9f3a"
            ],
            [
             0.8888888888888888,
             "#fdca26"
            ],
            [
             1,
             "#f0f921"
            ]
           ],
           "sequentialminus": [
            [
             0,
             "#0d0887"
            ],
            [
             0.1111111111111111,
             "#46039f"
            ],
            [
             0.2222222222222222,
             "#7201a8"
            ],
            [
             0.3333333333333333,
             "#9c179e"
            ],
            [
             0.4444444444444444,
             "#bd3786"
            ],
            [
             0.5555555555555556,
             "#d8576b"
            ],
            [
             0.6666666666666666,
             "#ed7953"
            ],
            [
             0.7777777777777778,
             "#fb9f3a"
            ],
            [
             0.8888888888888888,
             "#fdca26"
            ],
            [
             1,
             "#f0f921"
            ]
           ]
          },
          "colorway": [
           "#636efa",
           "#EF553B",
           "#00cc96",
           "#ab63fa",
           "#FFA15A",
           "#19d3f3",
           "#FF6692",
           "#B6E880",
           "#FF97FF",
           "#FECB52"
          ],
          "font": {
           "color": "#2a3f5f"
          },
          "geo": {
           "bgcolor": "white",
           "lakecolor": "white",
           "landcolor": "#E5ECF6",
           "showlakes": true,
           "showland": true,
           "subunitcolor": "white"
          },
          "hoverlabel": {
           "align": "left"
          },
          "hovermode": "closest",
          "mapbox": {
           "style": "light"
          },
          "paper_bgcolor": "white",
          "plot_bgcolor": "#E5ECF6",
          "polar": {
           "angularaxis": {
            "gridcolor": "white",
            "linecolor": "white",
            "ticks": ""
           },
           "bgcolor": "#E5ECF6",
           "radialaxis": {
            "gridcolor": "white",
            "linecolor": "white",
            "ticks": ""
           }
          },
          "scene": {
           "xaxis": {
            "backgroundcolor": "#E5ECF6",
            "gridcolor": "white",
            "gridwidth": 2,
            "linecolor": "white",
            "showbackground": true,
            "ticks": "",
            "zerolinecolor": "white"
           },
           "yaxis": {
            "backgroundcolor": "#E5ECF6",
            "gridcolor": "white",
            "gridwidth": 2,
            "linecolor": "white",
            "showbackground": true,
            "ticks": "",
            "zerolinecolor": "white"
           },
           "zaxis": {
            "backgroundcolor": "#E5ECF6",
            "gridcolor": "white",
            "gridwidth": 2,
            "linecolor": "white",
            "showbackground": true,
            "ticks": "",
            "zerolinecolor": "white"
           }
          },
          "shapedefaults": {
           "line": {
            "color": "#2a3f5f"
           }
          },
          "ternary": {
           "aaxis": {
            "gridcolor": "white",
            "linecolor": "white",
            "ticks": ""
           },
           "baxis": {
            "gridcolor": "white",
            "linecolor": "white",
            "ticks": ""
           },
           "bgcolor": "#E5ECF6",
           "caxis": {
            "gridcolor": "white",
            "linecolor": "white",
            "ticks": ""
           }
          },
          "title": {
           "x": 0.05
          },
          "xaxis": {
           "automargin": true,
           "gridcolor": "white",
           "linecolor": "white",
           "ticks": "",
           "title": {
            "standoff": 15
           },
           "zerolinecolor": "white",
           "zerolinewidth": 2
          },
          "yaxis": {
           "automargin": true,
           "gridcolor": "white",
           "linecolor": "white",
           "ticks": "",
           "title": {
            "standoff": 15
           },
           "zerolinecolor": "white",
           "zerolinewidth": 2
          }
         }
        },
        "title": "Temperature Model",
        "xaxis": {
         "title": {
          "text": "Altitude (meters)"
         }
        },
        "yaxis": {
         "title": {
          "text": "Temperature (Kelvin)"
         }
        }
       }
      },
      "text/html": [
       "<div\n",
       "    class=\"webio-mountpoint\"\n",
       "    data-webio-mountpoint=\"2001877892516341220\"\n",
       ">\n",
       "    <script>\n",
       "    (function(){\n",
       "    // Some integrations (namely, IJulia/Jupyter) use an alternate render pathway than\n",
       "    // just putting the html on the page. If WebIO isn't defined, then it's pretty likely\n",
       "    // that we're in one of those situations and the integration just isn't installed\n",
       "    // correctly.\n",
       "    if (typeof window.WebIO === \"undefined\") {\n",
       "        document\n",
       "            .querySelector('[data-webio-mountpoint=\"2001877892516341220\"]')\n",
       "            .innerHTML = (\n",
       "                '<div style=\"padding: 1em; background-color: #f8d6da; border: 1px solid #f5c6cb; font-weight: bold;\">' +\n",
       "                '<p><strong>WebIO not detected.</strong></p>' +\n",
       "                '<p>Please read ' +\n",
       "                '<a href=\"https://juliagizmos.github.io/WebIO.jl/latest/troubleshooting/not-detected/\" target=\"_blank\">the troubleshooting guide</a> ' +\n",
       "                'for more information on how to resolve this issue.</p>' +\n",
       "                '<p><a href=\"https://juliagizmos.github.io/WebIO.jl/latest/troubleshooting/not-detected/\" target=\"_blank\">https://juliagizmos.github.io/WebIO.jl/latest/troubleshooting/not-detected/</a></p>' +\n",
       "                '</div>'\n",
       "            );\n",
       "        return;\n",
       "    }\n",
       "    WebIO.mount(\n",
       "        document.querySelector('[data-webio-mountpoint=\"2001877892516341220\"]'),\n",
       "        {\"props\":{},\"nodeType\":\"Scope\",\"type\":\"node\",\"instanceArgs\":{\"imports\":{\"data\":[{\"name\":\"Plotly\",\"type\":\"js\",\"url\":\"\\/assetserver\\/627f17ff06762af3874159c00b9b1e00e50688bc-plotly.min.js\"},{\"name\":null,\"type\":\"js\",\"url\":\"\\/assetserver\\/1a276a0acb11ad47020d3f379225d41bbd0aeef0-plotly_webio.bundle.js\"}],\"type\":\"async_block\"},\"id\":\"8244852179936616341\",\"handlers\":{\"_toImage\":[\"(function (options){return this.Plotly.toImage(this.plotElem,options).then((function (data){return WebIO.setval({\\\"name\\\":\\\"image\\\",\\\"scope\\\":\\\"8244852179936616341\\\",\\\"id\\\":\\\"12797631485060902396\\\",\\\"type\\\":\\\"observable\\\"},data)}))})\"],\"__get_gd_contents\":[\"(function (prop){prop==\\\"data\\\" ? (WebIO.setval({\\\"name\\\":\\\"__gd_contents\\\",\\\"scope\\\":\\\"8244852179936616341\\\",\\\"id\\\":\\\"1503022663577888471\\\",\\\"type\\\":\\\"observable\\\"},this.plotElem.data)) : undefined; return prop==\\\"layout\\\" ? (WebIO.setval({\\\"name\\\":\\\"__gd_contents\\\",\\\"scope\\\":\\\"8244852179936616341\\\",\\\"id\\\":\\\"1503022663577888471\\\",\\\"type\\\":\\\"observable\\\"},this.plotElem.layout)) : undefined})\"],\"_downloadImage\":[\"(function (options){return this.Plotly.downloadImage(this.plotElem,options)})\"],\"_commands\":[\"(function (args){var fn=args.shift(); var elem=this.plotElem; var Plotly=this.Plotly; args.unshift(elem); return Plotly[fn].apply(this,args)})\"]},\"systemjs_options\":null,\"mount_callbacks\":[\"function () {\\n    var handler = ((function (Plotly,PlotlyWebIO){PlotlyWebIO.init(WebIO); var gd=this.dom.querySelector(\\\"#plot-b7d3a394-369d-40e4-b32a-7ec4175390ea\\\"); this.plotElem=gd; this.Plotly=Plotly; (window.Blink!==undefined) ? (gd.style.width=\\\"100%\\\", gd.style.height=\\\"100vh\\\", gd.style.marginLeft=\\\"0%\\\", gd.style.marginTop=\\\"0vh\\\") : undefined; window.onresize=(function (){return Plotly.Plots.resize(gd)}); Plotly.newPlot(gd,[{\\\"mode\\\":\\\"markers+lines\\\",\\\"y\\\":[288.706,288.02250000000004,287.339,286.6555,285.97200000000004,285.2885,284.605,283.92150000000004,283.238,282.5545,281.87100000000004,281.1875,280.504,279.82050000000004,279.137,278.4535,277.77000000000004,277.0865,276.403,275.71950000000004,275.036,274.3525,273.66900000000004,272.9855,272.302,271.61850000000004,270.935,270.2515,269.56800000000004,268.8845,268.201],\\\"type\\\":\\\"scatter\\\",\\\"x\\\":[0.0,100.0,200.0,300.0,400.0,500.0,600.0,700.0,800.0,900.0,1000.0,1100.0,1200.0,1300.0,1400.0,1500.0,1600.0,1700.0,1800.0,1900.0,2000.0,2100.0,2200.0,2300.0,2400.0,2500.0,2600.0,2700.0,2800.0,2900.0,3000.0]}],{\\\"xaxis\\\":{\\\"title\\\":{\\\"text\\\":\\\"Altitude (meters)\\\"}},\\\"template\\\":{\\\"layout\\\":{\\\"coloraxis\\\":{\\\"colorbar\\\":{\\\"ticks\\\":\\\"\\\",\\\"outlinewidth\\\":0}},\\\"xaxis\\\":{\\\"gridcolor\\\":\\\"white\\\",\\\"zerolinewidth\\\":2,\\\"title\\\":{\\\"standoff\\\":15},\\\"ticks\\\":\\\"\\\",\\\"zerolinecolor\\\":\\\"white\\\",\\\"automargin\\\":true,\\\"linecolor\\\":\\\"white\\\"},\\\"hovermode\\\":\\\"closest\\\",\\\"paper_bgcolor\\\":\\\"white\\\",\\\"geo\\\":{\\\"showlakes\\\":true,\\\"showland\\\":true,\\\"landcolor\\\":\\\"#E5ECF6\\\",\\\"bgcolor\\\":\\\"white\\\",\\\"subunitcolor\\\":\\\"white\\\",\\\"lakecolor\\\":\\\"white\\\"},\\\"colorscale\\\":{\\\"sequential\\\":[[0.0,\\\"#0d0887\\\"],[0.1111111111111111,\\\"#46039f\\\"],[0.2222222222222222,\\\"#7201a8\\\"],[0.3333333333333333,\\\"#9c179e\\\"],[0.4444444444444444,\\\"#bd3786\\\"],[0.5555555555555556,\\\"#d8576b\\\"],[0.6666666666666666,\\\"#ed7953\\\"],[0.7777777777777778,\\\"#fb9f3a\\\"],[0.8888888888888888,\\\"#fdca26\\\"],[1.0,\\\"#f0f921\\\"]],\\\"diverging\\\":[[0,\\\"#8e0152\\\"],[0.1,\\\"#c51b7d\\\"],[0.2,\\\"#de77ae\\\"],[0.3,\\\"#f1b6da\\\"],[0.4,\\\"#fde0ef\\\"],[0.5,\\\"#f7f7f7\\\"],[0.6,\\\"#e6f5d0\\\"],[0.7,\\\"#b8e186\\\"],[0.8,\\\"#7fbc41\\\"],[0.9,\\\"#4d9221\\\"],[1,\\\"#276419\\\"]],\\\"sequentialminus\\\":[[0.0,\\\"#0d0887\\\"],[0.1111111111111111,\\\"#46039f\\\"],[0.2222222222222222,\\\"#7201a8\\\"],[0.3333333333333333,\\\"#9c179e\\\"],[0.4444444444444444,\\\"#bd3786\\\"],[0.5555555555555556,\\\"#d8576b\\\"],[0.6666666666666666,\\\"#ed7953\\\"],[0.7777777777777778,\\\"#fb9f3a\\\"],[0.8888888888888888,\\\"#fdca26\\\"],[1.0,\\\"#f0f921\\\"]]},\\\"yaxis\\\":{\\\"gridcolor\\\":\\\"white\\\",\\\"zerolinewidth\\\":2,\\\"title\\\":{\\\"standoff\\\":15},\\\"ticks\\\":\\\"\\\",\\\"zerolinecolor\\\":\\\"white\\\",\\\"automargin\\\":true,\\\"linecolor\\\":\\\"white\\\"},\\\"shapedefaults\\\":{\\\"line\\\":{\\\"color\\\":\\\"#2a3f5f\\\"}},\\\"hoverlabel\\\":{\\\"align\\\":\\\"left\\\"},\\\"mapbox\\\":{\\\"style\\\":\\\"light\\\"},\\\"polar\\\":{\\\"angularaxis\\\":{\\\"gridcolor\\\":\\\"white\\\",\\\"ticks\\\":\\\"\\\",\\\"linecolor\\\":\\\"white\\\"},\\\"bgcolor\\\":\\\"#E5ECF6\\\",\\\"radialaxis\\\":{\\\"gridcolor\\\":\\\"white\\\",\\\"ticks\\\":\\\"\\\",\\\"linecolor\\\":\\\"white\\\"}},\\\"autotypenumbers\\\":\\\"strict\\\",\\\"font\\\":{\\\"color\\\":\\\"#2a3f5f\\\"},\\\"ternary\\\":{\\\"baxis\\\":{\\\"gridcolor\\\":\\\"white\\\",\\\"ticks\\\":\\\"\\\",\\\"linecolor\\\":\\\"white\\\"},\\\"bgcolor\\\":\\\"#E5ECF6\\\",\\\"caxis\\\":{\\\"gridcolor\\\":\\\"white\\\",\\\"ticks\\\":\\\"\\\",\\\"linecolor\\\":\\\"white\\\"},\\\"aaxis\\\":{\\\"gridcolor\\\":\\\"white\\\",\\\"ticks\\\":\\\"\\\",\\\"linecolor\\\":\\\"white\\\"}},\\\"annotationdefaults\\\":{\\\"arrowhead\\\":0,\\\"arrowwidth\\\":1,\\\"arrowcolor\\\":\\\"#2a3f5f\\\"},\\\"plot_bgcolor\\\":\\\"#E5ECF6\\\",\\\"title\\\":{\\\"x\\\":0.05},\\\"scene\\\":{\\\"xaxis\\\":{\\\"gridcolor\\\":\\\"white\\\",\\\"gridwidth\\\":2,\\\"backgroundcolor\\\":\\\"#E5ECF6\\\",\\\"ticks\\\":\\\"\\\",\\\"showbackground\\\":true,\\\"zerolinecolor\\\":\\\"white\\\",\\\"linecolor\\\":\\\"white\\\"},\\\"zaxis\\\":{\\\"gridcolor\\\":\\\"white\\\",\\\"gridwidth\\\":2,\\\"backgroundcolor\\\":\\\"#E5ECF6\\\",\\\"ticks\\\":\\\"\\\",\\\"showbackground\\\":true,\\\"zerolinecolor\\\":\\\"white\\\",\\\"linecolor\\\":\\\"white\\\"},\\\"yaxis\\\":{\\\"gridcolor\\\":\\\"white\\\",\\\"gridwidth\\\":2,\\\"backgroundcolor\\\":\\\"#E5ECF6\\\",\\\"ticks\\\":\\\"\\\",\\\"showbackground\\\":true,\\\"zerolinecolor\\\":\\\"white\\\",\\\"linecolor\\\":\\\"white\\\"}},\\\"colorway\\\":[\\\"#636efa\\\",\\\"#EF553B\\\",\\\"#00cc96\\\",\\\"#ab63fa\\\",\\\"#FFA15A\\\",\\\"#19d3f3\\\",\\\"#FF6692\\\",\\\"#B6E880\\\",\\\"#FF97FF\\\",\\\"#FECB52\\\"]},\\\"data\\\":{\\\"barpolar\\\":[{\\\"type\\\":\\\"barpolar\\\",\\\"marker\\\":{\\\"line\\\":{\\\"color\\\":\\\"#E5ECF6\\\",\\\"width\\\":0.5}}}],\\\"carpet\\\":[{\\\"aaxis\\\":{\\\"gridcolor\\\":\\\"white\\\",\\\"endlinecolor\\\":\\\"#2a3f5f\\\",\\\"minorgridcolor\\\":\\\"white\\\",\\\"startlinecolor\\\":\\\"#2a3f5f\\\",\\\"linecolor\\\":\\\"white\\\"},\\\"type\\\":\\\"carpet\\\",\\\"baxis\\\":{\\\"gridcolor\\\":\\\"white\\\",\\\"endlinecolor\\\":\\\"#2a3f5f\\\",\\\"minorgridcolor\\\":\\\"white\\\",\\\"startlinecolor\\\":\\\"#2a3f5f\\\",\\\"linecolor\\\":\\\"white\\\"}}],\\\"scatterpolar\\\":[{\\\"type\\\":\\\"scatterpolar\\\",\\\"marker\\\":{\\\"colorbar\\\":{\\\"ticks\\\":\\\"\\\",\\\"outlinewidth\\\":0}}}],\\\"parcoords\\\":[{\\\"line\\\":{\\\"colorbar\\\":{\\\"ticks\\\":\\\"\\\",\\\"outlinewidth\\\":0}},\\\"type\\\":\\\"parcoords\\\"}],\\\"scatter\\\":[{\\\"type\\\":\\\"scatter\\\",\\\"marker\\\":{\\\"colorbar\\\":{\\\"ticks\\\":\\\"\\\",\\\"outlinewidth\\\":0}}}],\\\"histogram2dcontour\\\":[{\\\"colorbar\\\":{\\\"ticks\\\":\\\"\\\",\\\"outlinewidth\\\":0},\\\"type\\\":\\\"histogram2dcontour\\\",\\\"colorscale\\\":[[0.0,\\\"#0d0887\\\"],[0.1111111111111111,\\\"#46039f\\\"],[0.2222222222222222,\\\"#7201a8\\\"],[0.3333333333333333,\\\"#9c179e\\\"],[0.4444444444444444,\\\"#bd3786\\\"],[0.5555555555555556,\\\"#d8576b\\\"],[0.6666666666666666,\\\"#ed7953\\\"],[0.7777777777777778,\\\"#fb9f3a\\\"],[0.8888888888888888,\\\"#fdca26\\\"],[1.0,\\\"#f0f921\\\"]]}],\\\"contour\\\":[{\\\"colorbar\\\":{\\\"ticks\\\":\\\"\\\",\\\"outlinewidth\\\":0},\\\"type\\\":\\\"contour\\\",\\\"colorscale\\\":[[0.0,\\\"#0d0887\\\"],[0.1111111111111111,\\\"#46039f\\\"],[0.2222222222222222,\\\"#7201a8\\\"],[0.3333333333333333,\\\"#9c179e\\\"],[0.4444444444444444,\\\"#bd3786\\\"],[0.5555555555555556,\\\"#d8576b\\\"],[0.6666666666666666,\\\"#ed7953\\\"],[0.7777777777777778,\\\"#fb9f3a\\\"],[0.8888888888888888,\\\"#fdca26\\\"],[1.0,\\\"#f0f921\\\"]]}],\\\"scattercarpet\\\":[{\\\"type\\\":\\\"scattercarpet\\\",\\\"marker\\\":{\\\"colorbar\\\":{\\\"ticks\\\":\\\"\\\",\\\"outlinewidth\\\":0}}}],\\\"mesh3d\\\":[{\\\"colorbar\\\":{\\\"ticks\\\":\\\"\\\",\\\"outlinewidth\\\":0},\\\"type\\\":\\\"mesh3d\\\"}],\\\"surface\\\":[{\\\"colorbar\\\":{\\\"ticks\\\":\\\"\\\",\\\"outlinewidth\\\":0},\\\"type\\\":\\\"surface\\\",\\\"colorscale\\\":[[0.0,\\\"#0d0887\\\"],[0.1111111111111111,\\\"#46039f\\\"],[0.2222222222222222,\\\"#7201a8\\\"],[0.3333333333333333,\\\"#9c179e\\\"],[0.4444444444444444,\\\"#bd3786\\\"],[0.5555555555555556,\\\"#d8576b\\\"],[0.6666666666666666,\\\"#ed7953\\\"],[0.7777777777777778,\\\"#fb9f3a\\\"],[0.8888888888888888,\\\"#fdca26\\\"],[1.0,\\\"#f0f921\\\"]]}],\\\"scattermapbox\\\":[{\\\"type\\\":\\\"scattermapbox\\\",\\\"marker\\\":{\\\"colorbar\\\":{\\\"ticks\\\":\\\"\\\",\\\"outlinewidth\\\":0}}}],\\\"scattergeo\\\":[{\\\"type\\\":\\\"scattergeo\\\",\\\"marker\\\":{\\\"colorbar\\\":{\\\"ticks\\\":\\\"\\\",\\\"outlinewidth\\\":0}}}],\\\"histogram\\\":[{\\\"type\\\":\\\"histogram\\\",\\\"marker\\\":{\\\"colorbar\\\":{\\\"ticks\\\":\\\"\\\",\\\"outlinewidth\\\":0}}}],\\\"pie\\\":[{\\\"type\\\":\\\"pie\\\",\\\"automargin\\\":true}],\\\"choropleth\\\":[{\\\"colorbar\\\":{\\\"ticks\\\":\\\"\\\",\\\"outlinewidth\\\":0},\\\"type\\\":\\\"choropleth\\\"}],\\\"heatmapgl\\\":[{\\\"colorbar\\\":{\\\"ticks\\\":\\\"\\\",\\\"outlinewidth\\\":0},\\\"type\\\":\\\"heatmapgl\\\",\\\"colorscale\\\":[[0.0,\\\"#0d0887\\\"],[0.1111111111111111,\\\"#46039f\\\"],[0.2222222222222222,\\\"#7201a8\\\"],[0.3333333333333333,\\\"#9c179e\\\"],[0.4444444444444444,\\\"#bd3786\\\"],[0.5555555555555556,\\\"#d8576b\\\"],[0.6666666666666666,\\\"#ed7953\\\"],[0.7777777777777778,\\\"#fb9f3a\\\"],[0.8888888888888888,\\\"#fdca26\\\"],[1.0,\\\"#f0f921\\\"]]}],\\\"bar\\\":[{\\\"type\\\":\\\"bar\\\",\\\"error_y\\\":{\\\"color\\\":\\\"#2a3f5f\\\"},\\\"error_x\\\":{\\\"color\\\":\\\"#2a3f5f\\\"},\\\"marker\\\":{\\\"line\\\":{\\\"color\\\":\\\"#E5ECF6\\\",\\\"width\\\":0.5}}}],\\\"heatmap\\\":[{\\\"colorbar\\\":{\\\"ticks\\\":\\\"\\\",\\\"outlinewidth\\\":0},\\\"type\\\":\\\"heatmap\\\",\\\"colorscale\\\":[[0.0,\\\"#0d0887\\\"],[0.1111111111111111,\\\"#46039f\\\"],[0.2222222222222222,\\\"#7201a8\\\"],[0.3333333333333333,\\\"#9c179e\\\"],[0.4444444444444444,\\\"#bd3786\\\"],[0.5555555555555556,\\\"#d8576b\\\"],[0.6666666666666666,\\\"#ed7953\\\"],[0.7777777777777778,\\\"#fb9f3a\\\"],[0.8888888888888888,\\\"#fdca26\\\"],[1.0,\\\"#f0f921\\\"]]}],\\\"contourcarpet\\\":[{\\\"colorbar\\\":{\\\"ticks\\\":\\\"\\\",\\\"outlinewidth\\\":0},\\\"type\\\":\\\"contourcarpet\\\"}],\\\"table\\\":[{\\\"type\\\":\\\"table\\\",\\\"header\\\":{\\\"line\\\":{\\\"color\\\":\\\"white\\\"},\\\"fill\\\":{\\\"color\\\":\\\"#C8D4E3\\\"}},\\\"cells\\\":{\\\"line\\\":{\\\"color\\\":\\\"white\\\"},\\\"fill\\\":{\\\"color\\\":\\\"#EBF0F8\\\"}}}],\\\"scatter3d\\\":[{\\\"line\\\":{\\\"colorbar\\\":{\\\"ticks\\\":\\\"\\\",\\\"outlinewidth\\\":0}},\\\"type\\\":\\\"scatter3d\\\",\\\"marker\\\":{\\\"colorbar\\\":{\\\"ticks\\\":\\\"\\\",\\\"outlinewidth\\\":0}}}],\\\"scattergl\\\":[{\\\"type\\\":\\\"scattergl\\\",\\\"marker\\\":{\\\"colorbar\\\":{\\\"ticks\\\":\\\"\\\",\\\"outlinewidth\\\":0}}}],\\\"histogram2d\\\":[{\\\"colorbar\\\":{\\\"ticks\\\":\\\"\\\",\\\"outlinewidth\\\":0},\\\"type\\\":\\\"histogram2d\\\",\\\"colorscale\\\":[[0.0,\\\"#0d0887\\\"],[0.1111111111111111,\\\"#46039f\\\"],[0.2222222222222222,\\\"#7201a8\\\"],[0.3333333333333333,\\\"#9c179e\\\"],[0.4444444444444444,\\\"#bd3786\\\"],[0.5555555555555556,\\\"#d8576b\\\"],[0.6666666666666666,\\\"#ed7953\\\"],[0.7777777777777778,\\\"#fb9f3a\\\"],[0.8888888888888888,\\\"#fdca26\\\"],[1.0,\\\"#f0f921\\\"]]}],\\\"scatterternary\\\":[{\\\"type\\\":\\\"scatterternary\\\",\\\"marker\\\":{\\\"colorbar\\\":{\\\"ticks\\\":\\\"\\\",\\\"outlinewidth\\\":0}}}],\\\"scatterpolargl\\\":[{\\\"type\\\":\\\"scatterpolargl\\\",\\\"marker\\\":{\\\"colorbar\\\":{\\\"ticks\\\":\\\"\\\",\\\"outlinewidth\\\":0}}}]}},\\\"legend\\\":{\\\"title\\\":\\\"Legend Title\\\"},\\\"margin\\\":{\\\"l\\\":50,\\\"b\\\":50,\\\"r\\\":50,\\\"t\\\":60},\\\"title\\\":\\\"Temperature Model\\\",\\\"yaxis\\\":{\\\"title\\\":{\\\"text\\\":\\\"Temperature (Kelvin)\\\"}}},{\\\"showLink\\\":false,\\\"editable\\\":false,\\\"responsive\\\":true,\\\"staticPlot\\\":false,\\\"scrollZoom\\\":true}); gd.on(\\\"plotly_hover\\\",(function (data){var filtered_data=WebIO.PlotlyCommands.filterEventData(gd,data,\\\"hover\\\"); return !(filtered_data.isnil) ? (WebIO.setval({\\\"name\\\":\\\"hover\\\",\\\"scope\\\":\\\"8244852179936616341\\\",\\\"id\\\":\\\"3314957343119537782\\\",\\\"type\\\":\\\"observable\\\"},filtered_data.out)) : undefined})); gd.on(\\\"plotly_unhover\\\",(function (){return WebIO.setval({\\\"name\\\":\\\"hover\\\",\\\"scope\\\":\\\"8244852179936616341\\\",\\\"id\\\":\\\"3314957343119537782\\\",\\\"type\\\":\\\"observable\\\"},{})})); gd.on(\\\"plotly_selected\\\",(function (data){var filtered_data=WebIO.PlotlyCommands.filterEventData(gd,data,\\\"selected\\\"); return !(filtered_data.isnil) ? (WebIO.setval({\\\"name\\\":\\\"selected\\\",\\\"scope\\\":\\\"8244852179936616341\\\",\\\"id\\\":\\\"7896118646707960395\\\",\\\"type\\\":\\\"observable\\\"},filtered_data.out)) : undefined})); gd.on(\\\"plotly_deselect\\\",(function (){return WebIO.setval({\\\"name\\\":\\\"selected\\\",\\\"scope\\\":\\\"8244852179936616341\\\",\\\"id\\\":\\\"7896118646707960395\\\",\\\"type\\\":\\\"observable\\\"},{})})); gd.on(\\\"plotly_relayout\\\",(function (data){var filtered_data=WebIO.PlotlyCommands.filterEventData(gd,data,\\\"relayout\\\"); return !(filtered_data.isnil) ? (WebIO.setval({\\\"name\\\":\\\"relayout\\\",\\\"scope\\\":\\\"8244852179936616341\\\",\\\"id\\\":\\\"16801907180059821666\\\",\\\"type\\\":\\\"observable\\\"},filtered_data.out)) : undefined})); return gd.on(\\\"plotly_click\\\",(function (data){var filtered_data=WebIO.PlotlyCommands.filterEventData(gd,data,\\\"click\\\"); return !(filtered_data.isnil) ? (WebIO.setval({\\\"name\\\":\\\"click\\\",\\\"scope\\\":\\\"8244852179936616341\\\",\\\"id\\\":\\\"9664021766039621077\\\",\\\"type\\\":\\\"observable\\\"},filtered_data.out)) : undefined}))}));\\n    (WebIO.importBlock({\\\"data\\\":[{\\\"name\\\":\\\"Plotly\\\",\\\"type\\\":\\\"js\\\",\\\"url\\\":\\\"\\/assetserver\\/627f17ff06762af3874159c00b9b1e00e50688bc-plotly.min.js\\\"},{\\\"name\\\":null,\\\"type\\\":\\\"js\\\",\\\"url\\\":\\\"\\/assetserver\\/1a276a0acb11ad47020d3f379225d41bbd0aeef0-plotly_webio.bundle.js\\\"}],\\\"type\\\":\\\"async_block\\\"})).then((imports) => handler.apply(this, imports));\\n}\\n\"],\"observables\":{\"_toImage\":{\"sync\":false,\"id\":\"6179473078007378098\",\"value\":{}},\"hover\":{\"sync\":false,\"id\":\"3314957343119537782\",\"value\":{}},\"selected\":{\"sync\":false,\"id\":\"7896118646707960395\",\"value\":{}},\"__gd_contents\":{\"sync\":false,\"id\":\"1503022663577888471\",\"value\":{}},\"click\":{\"sync\":false,\"id\":\"9664021766039621077\",\"value\":{}},\"image\":{\"sync\":true,\"id\":\"12797631485060902396\",\"value\":\"\"},\"__get_gd_contents\":{\"sync\":false,\"id\":\"4550217754380050491\",\"value\":\"\"},\"_downloadImage\":{\"sync\":false,\"id\":\"15961032486683039922\",\"value\":{}},\"relayout\":{\"sync\":false,\"id\":\"16801907180059821666\",\"value\":{}},\"_commands\":{\"sync\":false,\"id\":\"14019610059992184876\",\"value\":[]}}},\"children\":[{\"props\":{\"id\":\"plot-b7d3a394-369d-40e4-b32a-7ec4175390ea\"},\"nodeType\":\"DOM\",\"type\":\"node\",\"instanceArgs\":{\"namespace\":\"html\",\"tag\":\"div\"},\"children\":[]}]},\n",
       "        window,\n",
       "    );\n",
       "    })()\n",
       "    </script>\n",
       "</div>\n"
      ],
      "text/plain": [
       "data: [\n",
       "  \"scatter with fields mode, type, x, and y\"\n",
       "]\n",
       "\n",
       "layout: \"layout with fields legend, margin, template, title, xaxis, and yaxis\"\n",
       "\n"
      ]
     },
     "execution_count": 417,
     "metadata": {},
     "output_type": "execute_result"
    }
   ],
   "source": [
    "altitude_range_m = 0.0:100.0:3000.0\n",
    "\n",
    "plot(\n",
    "    [\n",
    "        scatter(\n",
    "            mode=\"markers+lines\",\n",
    "            x=altitude_range_m,\n",
    "            y=[get_temperature_K(A) for A in altitude_range_m]\n",
    "        )\n",
    "    ],\n",
    "    Layout(\n",
    "        title=\"Temperature Model\",\n",
    "        xaxis_title=\"Altitude (meters)\",\n",
    "        yaxis_title=\"Temperature (Kelvin)\",\n",
    "        legend_title=\"Legend Title\",\n",
    "    ),\n",
    "    config=PlotConfig(scrollZoom=true)\n",
    ")"
   ]
  },
  {
   "cell_type": "markdown",
   "id": "811e16aa",
   "metadata": {},
   "source": [
    "With those two models established, let's define the observation matrix as\n",
    "\n",
    "$$\n",
    "\\begin{align}\n",
    "H &= H(t) \\\\\n",
    "&=\n",
    "\\begin{bmatrix}\n",
    "T(a)/a \\\\\n",
    "0\n",
    "\\end{bmatrix}\n",
    "\\end{align}\n",
    "$$\n",
    "\n",
    "where $a$ is the altitude and $T$ is the temperature as a function of $a$"
   ]
  },
  {
   "cell_type": "code",
   "execution_count": 418,
   "id": "be7891ef",
   "metadata": {},
   "outputs": [],
   "source": [
    "\"\"\"\n",
    "    get_observation_mat(altitude_m[, vary_slope_by, vary_intercept_by])\n",
    "\n",
    "Get the observations matrix given an atltitude above the Earth's surface which can be varied with the last two optional parameters\n",
    "\n",
    "# Arguments\n",
    "- `altitude_m::Number`: The altitude above Earth in meters\n",
    "\n",
    "# Optional Arguments\n",
    "- `vary_slope_by::Number`: Positive definite constant to vary the slope of temperature changes\n",
    "- `vary_intercept_by::Number`: Positive definite constant to vary the intercept of temperature changes\n",
    "\n",
    "# Returns\n",
    "`Float64` of the observations matrix\n",
    "\"\"\"\n",
    "function get_observation_mat(\n",
    "        altitude_m::Number,\n",
    "        vary_temperature_slope_by::Number=0.0,\n",
    "        vary_temperature_intercept_by::Number=0.0\n",
    "    )::Matrix{Float64}\n",
    "    temperature_K = get_temperature_K(\n",
    "        altitude_m, \n",
    "        vary_temperature_slope_by, \n",
    "        vary_temperature_intercept_by\n",
    "    )\n",
    "    velocity_terminal_ms = get_velocity_infinity_ms(temperature_K)\n",
    "    observation_mat = [temperature_K/altitude_m 0.0]\n",
    "    return observation_mat\n",
    "end;"
   ]
  },
  {
   "cell_type": "markdown",
   "id": "576b5982",
   "metadata": {},
   "source": [
    "Let's consider the state transition and control matrices. They are given by\n",
    "$$\n",
    "\\begin{align}\n",
    "x_n =& F x_{n-1} + G u \\\\\n",
    "    =& \n",
    "\\begin{bmatrix}\n",
    "1 & \\Delta t \\\\\n",
    "0 & 1\n",
    "\\end{bmatrix}\n",
    "\\begin{bmatrix}\n",
    "h_{n-1} \\\\\n",
    "v_{n-1}\n",
    "\\end{bmatrix}\n",
    "+\n",
    "\\begin{bmatrix}\n",
    "\\frac{1}{2} \\left(\\Delta t\\right)^2 & \\frac{1}{3!} \\left(\\Delta t\\right)^3 \\\\\n",
    "\\Delta t & \\frac{1}{2} \\left(\\Delta t\\right)^2\n",
    "\\end{bmatrix}\n",
    "\\begin{bmatrix}\n",
    "a(T) \\\\\n",
    "j(T)\n",
    "\\end{bmatrix} \\\\\n",
    "\\begin{bmatrix}\n",
    "h_n \\\\\n",
    "v_n\n",
    "\\end{bmatrix}\n",
    "=& \n",
    "\\begin{bmatrix}\n",
    "h(t_{n-1}) + v(t_{n-1}) \\Delta t + \\frac{1}{2} a(t_n) \\left(\\Delta t\\right)^2 + \\frac{1}{3!} j(t_{n-1}) \\left(\\Delta t\\right)^3 \\\\\n",
    "v(t_{n-1}) + a(t_{n-1}) \\Delta t + \\frac{1}{2} j(t_{n-1}) \\left(\\Delta t\\right)^2\n",
    "\\end{bmatrix}\n",
    "\\end{align}\n",
    "$$"
   ]
  },
  {
   "cell_type": "markdown",
   "id": "028a1e68",
   "metadata": {},
   "source": [
    "For ease of coding, I chose to write $Gu$ instead as\n",
    "\n",
    "$$\n",
    "Gu = \n",
    "\\begin{bmatrix}\n",
    "\\frac{1}{2} a(T) \\left(\\Delta t\\right)^2  + \\frac{1}{3!} j(T) \\left(\\Delta t\\right)^3 & 0\\\\\n",
    "0 & a(T) \\Delta t + \\frac{1}{2} j(T) \\left(\\Delta t\\right)^2\n",
    "\\end{bmatrix}\n",
    "\\begin{bmatrix}\n",
    "1 \\\\\n",
    "1\n",
    "\\end{bmatrix}\n",
    "$$"
   ]
  },
  {
   "cell_type": "code",
   "execution_count": 419,
   "id": "0e0b4b8d",
   "metadata": {},
   "outputs": [],
   "source": [
    "\"\"\"\n",
    "    get_control_mat(state_vec, total_time_sec, delta_time_sec)\n",
    "\n",
    "Get the control matrix\n",
    "\n",
    "# Arguments\n",
    "-`state_vec` Must be a 2-item vector exactly as `Vector{Float64}([p, v])` where `p` is the position and `v` is the velocity\n",
    "-`total_time_sec` Total time of system measurements\n",
    "-`delta_time_sec:`Time differential between measurements\n",
    "\n",
    "# Returns\n",
    "`Matrix{Float64}` of the control matrix\n",
    "\"\"\"\n",
    "function get_control_mat(\n",
    "        state_vec::Vector,\n",
    "        total_time_sec::Number,\n",
    "        delta_time_sec::Number\n",
    "    )::Matrix{Float64}\n",
    "    temperature_K = get_temperature_K(state_vec[1])\n",
    "    vel_inf_ms = get_velocity_infinity_ms(temperature_K)\n",
    "    arg = accel_ms2 * total_time_sec / vel_inf_ms\n",
    "    current_acceleration_ms2 = accel_ms2 * sech(arg)^2\n",
    "    current_jerk_ms3 = -2 * accel_ms2^2 / vel_inf_ms * sech(arg)^2 * tanh(arg)\n",
    "    control_mat11 = (1. / factorial(2) * current_acceleration_ms2 * delta_time_sec^2\n",
    "                     + 1. / factorial(3) * current_jerk_ms3 * delta_time_sec^3)\n",
    "    control_mat_22 = (current_acceleration_ms2 * delta_time_sec\n",
    "                       + 1. / factorial(2) * current_jerk_ms3 * delta_time_sec^2)\n",
    "    control_mat = Diagonal([control_mat11, control_mat_22])\n",
    "    return control_mat\n",
    "end;"
   ]
  },
  {
   "cell_type": "code",
   "execution_count": 420,
   "id": "76f11b5e",
   "metadata": {},
   "outputs": [],
   "source": [
    "\"\"\"\n",
    "    get_model_estimate(state_vec, total_time_sec, delta_time_sec)\n",
    "\n",
    "Get the model estimate for the given state vector.\n",
    "\n",
    "# Arguments\n",
    "-`state_vec` Must be a 2-item vector exactly as `Vector{Float64}([p, v])` where `p` is the position and `v` is the velocity\n",
    "-`total_time_sec` Total time of system measurements\n",
    "-`delta_time_sec:`Time differential between measurements\n",
    "\n",
    "# Returns\n",
    "`Vector{Float64}` of the state estimate\n",
    "\"\"\"\n",
    "function get_model_estimate(\n",
    "        state_vec::Vector,\n",
    "        total_time_sec::Number,\n",
    "        delta_time_sec::Number\n",
    "    )::Vector{Float64}\n",
    "    \"\"\"Get the model estimate for current state\n",
    "\n",
    "    :param state_vec: State vector\n",
    "    :param total_time_sec: Total time of system measurements\n",
    "    :param delta_time_sec: Time differential between measurements\n",
    "    :returns: Vector\n",
    "    \"\"\"\n",
    "\n",
    "    state_transition = [1.0 delta_time_sec; 0.0 1.0]\n",
    "    control_mat = get_control_mat(state_vec, total_time_sec, delta_time_sec)\n",
    "    external_input_vector = Vector([1, 1])\n",
    "    model_estimate_vec = (state_transition * state_vec\n",
    "                          + control_mat * external_input_vector)\n",
    "    return model_estimate_vec\n",
    "end\n",
    "\n",
    "\"\"\"\n",
    "    get_model_estimate(true_state, total_time_sec, delta_time_sec, artificial_noise_K)\n",
    "\n",
    "Get the simulated measurement as a function of the true state\n",
    "\n",
    "# Arguments\n",
    " -`true_state`: The true state vector which must be a 2-item vector exactly as `Vector{Float64}([p, v])` where `p` is the position and `v` is the velocity\n",
    " -`total_time_sec`: Total time of system measurements\n",
    " -`delta_time_sec`: Time differential between measurements\n",
    " -`artificial_noise_K`: Artificial noise magnitude of temperatrue measurement \n",
    "\n",
    "# Returns\n",
    "`Vector{Float64}` of the model estimate\n",
    "\"\"\"\n",
    "function get_measurement_vec(\n",
    "        true_state::Vector,\n",
    "        vary_temperature_slope_by::Float64=0.0,\n",
    "        vary_temperature_intercept_by::Float64=0.0,\n",
    "        artificial_noise_K::Float64=0.1\n",
    "    )::Vector{Float64}\n",
    "    \"\"\"In a 'real' physical system, we would not need to simulate the measurement\"\"\"\n",
    "    altitude_m = true_state[1]\n",
    "    observation_mat = get_observation_mat(\n",
    "        altitude_m, \n",
    "        vary_temperature_slope_by, \n",
    "        vary_temperature_intercept_by\n",
    "    )\n",
    "\n",
    "    measurement_vec::Vector = observation_mat * true_state + Vector([artificial_noise_K])\n",
    "    return measurement_vec\n",
    "\n",
    "end;"
   ]
  },
  {
   "cell_type": "code",
   "execution_count": 421,
   "id": "b49028c4",
   "metadata": {},
   "outputs": [],
   "source": [
    "\"\"\"Use these two variables to simulate differences variations between the truth and observation\n",
    "for the temperature vs altitude\n",
    "\"\"\"\n",
    "temperature_variation_slope = 0.0\n",
    "temperature_variation_intercept = 0.0\n",
    "\n",
    "\"\"\"Temperature variations\"\"\"\n",
    "artificial_noise_K = 0.1  # Kelvin\n",
    "observation_cov = 5.0^2 * I(1)  # Kelvin^2\n",
    "\n",
    "\"\"\"Define a system where a falling object is thought to be released at rest \n",
    "at 3 km above the Earth's surface with wind resistence. The true position \n",
    "is 3020.\n",
    "\"\"\"\n",
    "true_state_vector = Vector([3020.0, +0.05])\n",
    "initial_state_vector = Vector([3000.0, -0.001])\n",
    "initial_state_cov = [100.0^2 10.0; 10.0 1.0^2]  # Diagonal([100.0^2, 1.0^2])\n",
    "initial_state = kfstate{Float64}(initial_state_vector, initial_state_cov)\n",
    "\n",
    "\"\"\"Initialize the transition and control matrices at first time step\"\"\"\n",
    "state_transition_mat = [1.0 delta_time_sec; 0.0 1.0]\n",
    "control_mat = get_control_mat(initial_state_vector, delta_time_sec, delta_time_sec)\n",
    "system_noise_mat = Diagonal([10.0^2, 1.0^2])\n",
    "external_input_vector = Vector([1, 1])\n",
    "system = kfsystem{Float64}(state_transition_mat, control_mat, system_noise_mat)\n",
    "\n",
    "\"\"\"Initialize the observation matrix\"\"\"\n",
    "observation_mat = get_observation_mat(\n",
    "    initial_state.state[1],\n",
    "    temperature_variation_slope,\n",
    "    temperature_variation_intercept)\n",
    "observations = kfobservation{Float64}(observation_mat, observation_cov);"
   ]
  },
  {
   "cell_type": "code",
   "execution_count": 422,
   "id": "c241649d",
   "metadata": {},
   "outputs": [],
   "source": [
    "next_state = kfstate{Float64}(initial_state.state, initial_state.cov)\n",
    "states_fcn_time = Vector{kfstate{Float64}}(undef, time_steps)\n",
    "true_state_fcn_time = Array{Vector{Float64}}(undef, time_steps)\n",
    "measurements_array = Array{Float64}(undef, time_steps);"
   ]
  },
  {
   "cell_type": "code",
   "execution_count": 423,
   "id": "2c288fed",
   "metadata": {},
   "outputs": [],
   "source": [
    "for step in 1:time_steps\n",
    "\n",
    "    # At current time, get measurement\n",
    "    time_sec = (step - 1) * delta_time_sec\n",
    "    true_state_vector = get_model_estimate(true_state_vector, time_sec, delta_time_sec)\n",
    "    measurement_vec = get_measurement_vec(\n",
    "        true_state_vector,\n",
    "        temperature_variation_slope,\n",
    "        temperature_variation_intercept,\n",
    "        artificial_noise_K\n",
    "    )\n",
    "    true_state_fcn_time[step] = true_state_vector\n",
    "    \n",
    "    # Predict the next state\n",
    "    predicted_state = extrapulate_state(next_state, system, external_input_vector)\n",
    "\n",
    "    # Update the observation matrix estimate\n",
    "    new_observations_mat = get_observation_mat(\n",
    "        predicted_state.state[1],\n",
    "        temperature_variation_slope,\n",
    "        temperature_variation_intercept\n",
    "    )\n",
    "    observations.obs = new_observations_mat\n",
    "    \n",
    "    # Correct/update the state prediction\n",
    "    next_state = update_state(predicted_state, observations, measurement_vec)\n",
    "\n",
    "    # Update the system control and observation matrix for the next measurement\n",
    "    new_control_mat = get_control_mat(next_state.state, time_sec, delta_time_sec)\n",
    "    system.control = new_control_mat\n",
    "\n",
    "    # Save the results\n",
    "    measurements_array[step] = measurement_vec[1]\n",
    "    states_fcn_time[step] = next_state\n",
    "\n",
    "end"
   ]
  },
  {
   "cell_type": "code",
   "execution_count": 424,
   "id": "d1133cce",
   "metadata": {},
   "outputs": [
    {
     "data": {
      "application/vnd.plotly.v1+json": {
       "config": {
        "editable": false,
        "responsive": true,
        "scrollZoom": true,
        "showLink": false,
        "staticPlot": false
       },
       "data": [
        {
         "mode": "markers",
         "name": "Measurement",
         "type": "scatter",
         "x": [
          0,
          0.15,
          0.3,
          0.44999999999999996,
          0.6,
          0.75,
          0.8999999999999999,
          1.05,
          1.2,
          1.3499999999999999,
          1.5,
          1.65,
          1.7999999999999998,
          1.95,
          2.1,
          2.25,
          2.4,
          2.55,
          2.6999999999999997,
          2.85,
          3,
          3.15,
          3.3,
          3.4499999999999997,
          3.5999999999999996,
          3.75,
          3.9,
          4.05,
          4.2,
          4.35,
          4.5,
          4.6499999999999995,
          4.8,
          4.95,
          5.1,
          5.25,
          5.3999999999999995,
          5.55,
          5.7,
          5.85,
          6,
          6.1499999999999995,
          6.3,
          6.45,
          6.6,
          6.75,
          6.8999999999999995,
          7.05,
          7.199999999999999,
          7.35,
          7.5,
          7.6499999999999995,
          7.8,
          7.949999999999999,
          8.1,
          8.25,
          8.4,
          8.549999999999999,
          8.7,
          8.85,
          9,
          9.15,
          9.299999999999999,
          9.45,
          9.6,
          9.75,
          9.9,
          10.049999999999999,
          10.2,
          10.35,
          10.5,
          10.65,
          10.799999999999999,
          10.95,
          11.1,
          11.25,
          11.4,
          11.549999999999999,
          11.7,
          11.85,
          12,
          12.15,
          12.299999999999999,
          12.45,
          12.6,
          12.75,
          12.9,
          13.049999999999999,
          13.2,
          13.35,
          13.5,
          13.65,
          13.799999999999999,
          13.95,
          14.1,
          14.25,
          14.399999999999999,
          14.549999999999999,
          14.7,
          14.85
         ],
         "y": [
          268.16500229625007,
          268.1672108048815,
          268.17092227254136,
          268.1761312969264,
          268.18283035748016,
          268.1910098578463,
          268.20065817957516,
          268.21176174645257,
          268.2243050987106,
          268.23827097627543,
          268.2536404101289,
          268.2703928207923,
          268.28850612289256,
          268.30795683474184,
          268.3287201918481,
          268.3507702632785,
          268.37408006981866,
          268.3986217029036,
          268.4243664433464,
          268.4512848789471,
          268.4793470201341,
          268.5085224128645,
          268.5387802480908,
          268.5700894671861,
          268.60241886280465,
          268.63573717474054,
          268.6700131804322,
          268.70521577984067,
          268.74131407450875,
          268.7782774406789,
          268.816075596417,
          268.8546786627496,
          268.8940572188769,
          268.9341823515747,
          268.9750256989369,
          269.0165594886511,
          269.0587565710248,
          269.1015904470073,
          269.14503529146975,
          269.1890659720183,
          269.2336580636268,
          269.27878785937787,
          269.32443237760333,
          269.37056936571395,
          269.4171773010018,
          269.4642353886928,
          269.5117235575181,
          269.559622453061,
          269.60791342912603,
          269.6565785373635,
          269.7056005153688,
          269.7549627734637,
          269.8046493803512,
          269.8546450478232,
          269.90493511468645,
          269.9555055300569,
          270.00634283616307,
          270.05743415078365,
          270.1087671494335,
          270.16033004740206,
          270.2121115817351,
          270.2641009932434,
          270.3162880086101,
          270.36866282266146,
          270.42121608085586,
          270.4739388620414,
          270.52682266152107,
          270.57985937446244,
          270.6330412796811,
          270.6863610238207,
          270.7398116059508,
          270.7933863625963,
          270.84707895321054,
          270.90088334609965,
          270.95479380480344,
          271.0088048749342,
          271.062911371474,
          271.11710836652844,
          271.17139117753146,
          271.2257553558973,
          271.28019667611176,
          271.3347111252543,
          271.38929489294327,
          271.44394436169335,
          271.49865609767545,
          271.5534268418676,
          271.60825350158586,
          271.66313314238454,
          271.7180629803118,
          271.7730403745111,
          271.8280628201552,
          271.8831279417016,
          271.9382334864567,
          271.99337731843826,
          272.04855741252385,
          272.10377184887386,
          272.1590188076188,
          272.2142965637994,
          272.26960348254903,
          272.3249380145086
         ]
        }
       ],
       "frames": [],
       "layout": {
        "legend": {
         "title": "Legend Title"
        },
        "margin": {
         "b": 50,
         "l": 50,
         "r": 50,
         "t": 60
        },
        "template": {
         "data": {
          "bar": [
           {
            "error_x": {
             "color": "#2a3f5f"
            },
            "error_y": {
             "color": "#2a3f5f"
            },
            "marker": {
             "line": {
              "color": "#E5ECF6",
              "width": 0.5
             }
            },
            "type": "bar"
           }
          ],
          "barpolar": [
           {
            "marker": {
             "line": {
              "color": "#E5ECF6",
              "width": 0.5
             }
            },
            "type": "barpolar"
           }
          ],
          "carpet": [
           {
            "aaxis": {
             "endlinecolor": "#2a3f5f",
             "gridcolor": "white",
             "linecolor": "white",
             "minorgridcolor": "white",
             "startlinecolor": "#2a3f5f"
            },
            "baxis": {
             "endlinecolor": "#2a3f5f",
             "gridcolor": "white",
             "linecolor": "white",
             "minorgridcolor": "white",
             "startlinecolor": "#2a3f5f"
            },
            "type": "carpet"
           }
          ],
          "choropleth": [
           {
            "colorbar": {
             "outlinewidth": 0,
             "ticks": ""
            },
            "type": "choropleth"
           }
          ],
          "contour": [
           {
            "colorbar": {
             "outlinewidth": 0,
             "ticks": ""
            },
            "colorscale": [
             [
              0,
              "#0d0887"
             ],
             [
              0.1111111111111111,
              "#46039f"
             ],
             [
              0.2222222222222222,
              "#7201a8"
             ],
             [
              0.3333333333333333,
              "#9c179e"
             ],
             [
              0.4444444444444444,
              "#bd3786"
             ],
             [
              0.5555555555555556,
              "#d8576b"
             ],
             [
              0.6666666666666666,
              "#ed7953"
             ],
             [
              0.7777777777777778,
              "#fb9f3a"
             ],
             [
              0.8888888888888888,
              "#fdca26"
             ],
             [
              1,
              "#f0f921"
             ]
            ],
            "type": "contour"
           }
          ],
          "contourcarpet": [
           {
            "colorbar": {
             "outlinewidth": 0,
             "ticks": ""
            },
            "type": "contourcarpet"
           }
          ],
          "heatmap": [
           {
            "colorbar": {
             "outlinewidth": 0,
             "ticks": ""
            },
            "colorscale": [
             [
              0,
              "#0d0887"
             ],
             [
              0.1111111111111111,
              "#46039f"
             ],
             [
              0.2222222222222222,
              "#7201a8"
             ],
             [
              0.3333333333333333,
              "#9c179e"
             ],
             [
              0.4444444444444444,
              "#bd3786"
             ],
             [
              0.5555555555555556,
              "#d8576b"
             ],
             [
              0.6666666666666666,
              "#ed7953"
             ],
             [
              0.7777777777777778,
              "#fb9f3a"
             ],
             [
              0.8888888888888888,
              "#fdca26"
             ],
             [
              1,
              "#f0f921"
             ]
            ],
            "type": "heatmap"
           }
          ],
          "heatmapgl": [
           {
            "colorbar": {
             "outlinewidth": 0,
             "ticks": ""
            },
            "colorscale": [
             [
              0,
              "#0d0887"
             ],
             [
              0.1111111111111111,
              "#46039f"
             ],
             [
              0.2222222222222222,
              "#7201a8"
             ],
             [
              0.3333333333333333,
              "#9c179e"
             ],
             [
              0.4444444444444444,
              "#bd3786"
             ],
             [
              0.5555555555555556,
              "#d8576b"
             ],
             [
              0.6666666666666666,
              "#ed7953"
             ],
             [
              0.7777777777777778,
              "#fb9f3a"
             ],
             [
              0.8888888888888888,
              "#fdca26"
             ],
             [
              1,
              "#f0f921"
             ]
            ],
            "type": "heatmapgl"
           }
          ],
          "histogram": [
           {
            "marker": {
             "colorbar": {
              "outlinewidth": 0,
              "ticks": ""
             }
            },
            "type": "histogram"
           }
          ],
          "histogram2d": [
           {
            "colorbar": {
             "outlinewidth": 0,
             "ticks": ""
            },
            "colorscale": [
             [
              0,
              "#0d0887"
             ],
             [
              0.1111111111111111,
              "#46039f"
             ],
             [
              0.2222222222222222,
              "#7201a8"
             ],
             [
              0.3333333333333333,
              "#9c179e"
             ],
             [
              0.4444444444444444,
              "#bd3786"
             ],
             [
              0.5555555555555556,
              "#d8576b"
             ],
             [
              0.6666666666666666,
              "#ed7953"
             ],
             [
              0.7777777777777778,
              "#fb9f3a"
             ],
             [
              0.8888888888888888,
              "#fdca26"
             ],
             [
              1,
              "#f0f921"
             ]
            ],
            "type": "histogram2d"
           }
          ],
          "histogram2dcontour": [
           {
            "colorbar": {
             "outlinewidth": 0,
             "ticks": ""
            },
            "colorscale": [
             [
              0,
              "#0d0887"
             ],
             [
              0.1111111111111111,
              "#46039f"
             ],
             [
              0.2222222222222222,
              "#7201a8"
             ],
             [
              0.3333333333333333,
              "#9c179e"
             ],
             [
              0.4444444444444444,
              "#bd3786"
             ],
             [
              0.5555555555555556,
              "#d8576b"
             ],
             [
              0.6666666666666666,
              "#ed7953"
             ],
             [
              0.7777777777777778,
              "#fb9f3a"
             ],
             [
              0.8888888888888888,
              "#fdca26"
             ],
             [
              1,
              "#f0f921"
             ]
            ],
            "type": "histogram2dcontour"
           }
          ],
          "mesh3d": [
           {
            "colorbar": {
             "outlinewidth": 0,
             "ticks": ""
            },
            "type": "mesh3d"
           }
          ],
          "parcoords": [
           {
            "line": {
             "colorbar": {
              "outlinewidth": 0,
              "ticks": ""
             }
            },
            "type": "parcoords"
           }
          ],
          "pie": [
           {
            "automargin": true,
            "type": "pie"
           }
          ],
          "scatter": [
           {
            "marker": {
             "colorbar": {
              "outlinewidth": 0,
              "ticks": ""
             }
            },
            "type": "scatter"
           }
          ],
          "scatter3d": [
           {
            "line": {
             "colorbar": {
              "outlinewidth": 0,
              "ticks": ""
             }
            },
            "marker": {
             "colorbar": {
              "outlinewidth": 0,
              "ticks": ""
             }
            },
            "type": "scatter3d"
           }
          ],
          "scattercarpet": [
           {
            "marker": {
             "colorbar": {
              "outlinewidth": 0,
              "ticks": ""
             }
            },
            "type": "scattercarpet"
           }
          ],
          "scattergeo": [
           {
            "marker": {
             "colorbar": {
              "outlinewidth": 0,
              "ticks": ""
             }
            },
            "type": "scattergeo"
           }
          ],
          "scattergl": [
           {
            "marker": {
             "colorbar": {
              "outlinewidth": 0,
              "ticks": ""
             }
            },
            "type": "scattergl"
           }
          ],
          "scattermapbox": [
           {
            "marker": {
             "colorbar": {
              "outlinewidth": 0,
              "ticks": ""
             }
            },
            "type": "scattermapbox"
           }
          ],
          "scatterpolar": [
           {
            "marker": {
             "colorbar": {
              "outlinewidth": 0,
              "ticks": ""
             }
            },
            "type": "scatterpolar"
           }
          ],
          "scatterpolargl": [
           {
            "marker": {
             "colorbar": {
              "outlinewidth": 0,
              "ticks": ""
             }
            },
            "type": "scatterpolargl"
           }
          ],
          "scatterternary": [
           {
            "marker": {
             "colorbar": {
              "outlinewidth": 0,
              "ticks": ""
             }
            },
            "type": "scatterternary"
           }
          ],
          "surface": [
           {
            "colorbar": {
             "outlinewidth": 0,
             "ticks": ""
            },
            "colorscale": [
             [
              0,
              "#0d0887"
             ],
             [
              0.1111111111111111,
              "#46039f"
             ],
             [
              0.2222222222222222,
              "#7201a8"
             ],
             [
              0.3333333333333333,
              "#9c179e"
             ],
             [
              0.4444444444444444,
              "#bd3786"
             ],
             [
              0.5555555555555556,
              "#d8576b"
             ],
             [
              0.6666666666666666,
              "#ed7953"
             ],
             [
              0.7777777777777778,
              "#fb9f3a"
             ],
             [
              0.8888888888888888,
              "#fdca26"
             ],
             [
              1,
              "#f0f921"
             ]
            ],
            "type": "surface"
           }
          ],
          "table": [
           {
            "cells": {
             "fill": {
              "color": "#EBF0F8"
             },
             "line": {
              "color": "white"
             }
            },
            "header": {
             "fill": {
              "color": "#C8D4E3"
             },
             "line": {
              "color": "white"
             }
            },
            "type": "table"
           }
          ]
         },
         "layout": {
          "annotationdefaults": {
           "arrowcolor": "#2a3f5f",
           "arrowhead": 0,
           "arrowwidth": 1
          },
          "autotypenumbers": "strict",
          "coloraxis": {
           "colorbar": {
            "outlinewidth": 0,
            "ticks": ""
           }
          },
          "colorscale": {
           "diverging": [
            [
             0,
             "#8e0152"
            ],
            [
             0.1,
             "#c51b7d"
            ],
            [
             0.2,
             "#de77ae"
            ],
            [
             0.3,
             "#f1b6da"
            ],
            [
             0.4,
             "#fde0ef"
            ],
            [
             0.5,
             "#f7f7f7"
            ],
            [
             0.6,
             "#e6f5d0"
            ],
            [
             0.7,
             "#b8e186"
            ],
            [
             0.8,
             "#7fbc41"
            ],
            [
             0.9,
             "#4d9221"
            ],
            [
             1,
             "#276419"
            ]
           ],
           "sequential": [
            [
             0,
             "#0d0887"
            ],
            [
             0.1111111111111111,
             "#46039f"
            ],
            [
             0.2222222222222222,
             "#7201a8"
            ],
            [
             0.3333333333333333,
             "#9c179e"
            ],
            [
             0.4444444444444444,
             "#bd3786"
            ],
            [
             0.5555555555555556,
             "#d8576b"
            ],
            [
             0.6666666666666666,
             "#ed7953"
            ],
            [
             0.7777777777777778,
             "#fb9f3a"
            ],
            [
             0.8888888888888888,
             "#fdca26"
            ],
            [
             1,
             "#f0f921"
            ]
           ],
           "sequentialminus": [
            [
             0,
             "#0d0887"
            ],
            [
             0.1111111111111111,
             "#46039f"
            ],
            [
             0.2222222222222222,
             "#7201a8"
            ],
            [
             0.3333333333333333,
             "#9c179e"
            ],
            [
             0.4444444444444444,
             "#bd3786"
            ],
            [
             0.5555555555555556,
             "#d8576b"
            ],
            [
             0.6666666666666666,
             "#ed7953"
            ],
            [
             0.7777777777777778,
             "#fb9f3a"
            ],
            [
             0.8888888888888888,
             "#fdca26"
            ],
            [
             1,
             "#f0f921"
            ]
           ]
          },
          "colorway": [
           "#636efa",
           "#EF553B",
           "#00cc96",
           "#ab63fa",
           "#FFA15A",
           "#19d3f3",
           "#FF6692",
           "#B6E880",
           "#FF97FF",
           "#FECB52"
          ],
          "font": {
           "color": "#2a3f5f"
          },
          "geo": {
           "bgcolor": "white",
           "lakecolor": "white",
           "landcolor": "#E5ECF6",
           "showlakes": true,
           "showland": true,
           "subunitcolor": "white"
          },
          "hoverlabel": {
           "align": "left"
          },
          "hovermode": "closest",
          "mapbox": {
           "style": "light"
          },
          "paper_bgcolor": "white",
          "plot_bgcolor": "#E5ECF6",
          "polar": {
           "angularaxis": {
            "gridcolor": "white",
            "linecolor": "white",
            "ticks": ""
           },
           "bgcolor": "#E5ECF6",
           "radialaxis": {
            "gridcolor": "white",
            "linecolor": "white",
            "ticks": ""
           }
          },
          "scene": {
           "xaxis": {
            "backgroundcolor": "#E5ECF6",
            "gridcolor": "white",
            "gridwidth": 2,
            "linecolor": "white",
            "showbackground": true,
            "ticks": "",
            "zerolinecolor": "white"
           },
           "yaxis": {
            "backgroundcolor": "#E5ECF6",
            "gridcolor": "white",
            "gridwidth": 2,
            "linecolor": "white",
            "showbackground": true,
            "ticks": "",
            "zerolinecolor": "white"
           },
           "zaxis": {
            "backgroundcolor": "#E5ECF6",
            "gridcolor": "white",
            "gridwidth": 2,
            "linecolor": "white",
            "showbackground": true,
            "ticks": "",
            "zerolinecolor": "white"
           }
          },
          "shapedefaults": {
           "line": {
            "color": "#2a3f5f"
           }
          },
          "ternary": {
           "aaxis": {
            "gridcolor": "white",
            "linecolor": "white",
            "ticks": ""
           },
           "baxis": {
            "gridcolor": "white",
            "linecolor": "white",
            "ticks": ""
           },
           "bgcolor": "#E5ECF6",
           "caxis": {
            "gridcolor": "white",
            "linecolor": "white",
            "ticks": ""
           }
          },
          "title": {
           "x": 0.05
          },
          "xaxis": {
           "automargin": true,
           "gridcolor": "white",
           "linecolor": "white",
           "ticks": "",
           "title": {
            "standoff": 15
           },
           "zerolinecolor": "white",
           "zerolinewidth": 2
          },
          "yaxis": {
           "automargin": true,
           "gridcolor": "white",
           "linecolor": "white",
           "ticks": "",
           "title": {
            "standoff": 15
           },
           "zerolinecolor": "white",
           "zerolinewidth": 2
          }
         }
        },
        "title": "Measurement",
        "xaxis": {
         "title": {
          "text": "Time (second)"
         }
        },
        "yaxis": {
         "title": {
          "text": "Temperature (Kelvin)"
         }
        }
       }
      },
      "text/html": [
       "<div\n",
       "    class=\"webio-mountpoint\"\n",
       "    data-webio-mountpoint=\"9330952323724678328\"\n",
       ">\n",
       "    <script>\n",
       "    (function(){\n",
       "    // Some integrations (namely, IJulia/Jupyter) use an alternate render pathway than\n",
       "    // just putting the html on the page. If WebIO isn't defined, then it's pretty likely\n",
       "    // that we're in one of those situations and the integration just isn't installed\n",
       "    // correctly.\n",
       "    if (typeof window.WebIO === \"undefined\") {\n",
       "        document\n",
       "            .querySelector('[data-webio-mountpoint=\"9330952323724678328\"]')\n",
       "            .innerHTML = (\n",
       "                '<div style=\"padding: 1em; background-color: #f8d6da; border: 1px solid #f5c6cb; font-weight: bold;\">' +\n",
       "                '<p><strong>WebIO not detected.</strong></p>' +\n",
       "                '<p>Please read ' +\n",
       "                '<a href=\"https://juliagizmos.github.io/WebIO.jl/latest/troubleshooting/not-detected/\" target=\"_blank\">the troubleshooting guide</a> ' +\n",
       "                'for more information on how to resolve this issue.</p>' +\n",
       "                '<p><a href=\"https://juliagizmos.github.io/WebIO.jl/latest/troubleshooting/not-detected/\" target=\"_blank\">https://juliagizmos.github.io/WebIO.jl/latest/troubleshooting/not-detected/</a></p>' +\n",
       "                '</div>'\n",
       "            );\n",
       "        return;\n",
       "    }\n",
       "    WebIO.mount(\n",
       "        document.querySelector('[data-webio-mountpoint=\"9330952323724678328\"]'),\n",
       "        {\"props\":{},\"nodeType\":\"Scope\",\"type\":\"node\",\"instanceArgs\":{\"imports\":{\"data\":[{\"name\":\"Plotly\",\"type\":\"js\",\"url\":\"\\/assetserver\\/627f17ff06762af3874159c00b9b1e00e50688bc-plotly.min.js\"},{\"name\":null,\"type\":\"js\",\"url\":\"\\/assetserver\\/1a276a0acb11ad47020d3f379225d41bbd0aeef0-plotly_webio.bundle.js\"}],\"type\":\"async_block\"},\"id\":\"12251492703454403161\",\"handlers\":{\"_toImage\":[\"(function (options){return this.Plotly.toImage(this.plotElem,options).then((function (data){return WebIO.setval({\\\"name\\\":\\\"image\\\",\\\"scope\\\":\\\"12251492703454403161\\\",\\\"id\\\":\\\"18254581818697636256\\\",\\\"type\\\":\\\"observable\\\"},data)}))})\"],\"__get_gd_contents\":[\"(function (prop){prop==\\\"data\\\" ? (WebIO.setval({\\\"name\\\":\\\"__gd_contents\\\",\\\"scope\\\":\\\"12251492703454403161\\\",\\\"id\\\":\\\"3001056572108963889\\\",\\\"type\\\":\\\"observable\\\"},this.plotElem.data)) : undefined; return prop==\\\"layout\\\" ? (WebIO.setval({\\\"name\\\":\\\"__gd_contents\\\",\\\"scope\\\":\\\"12251492703454403161\\\",\\\"id\\\":\\\"3001056572108963889\\\",\\\"type\\\":\\\"observable\\\"},this.plotElem.layout)) : undefined})\"],\"_downloadImage\":[\"(function (options){return this.Plotly.downloadImage(this.plotElem,options)})\"],\"_commands\":[\"(function (args){var fn=args.shift(); var elem=this.plotElem; var Plotly=this.Plotly; args.unshift(elem); return Plotly[fn].apply(this,args)})\"]},\"systemjs_options\":null,\"mount_callbacks\":[\"function () {\\n    var handler = ((function (Plotly,PlotlyWebIO){PlotlyWebIO.init(WebIO); var gd=this.dom.querySelector(\\\"#plot-9930eab7-e77c-46f8-a48a-ba7590e842d8\\\"); this.plotElem=gd; this.Plotly=Plotly; (window.Blink!==undefined) ? (gd.style.width=\\\"100%\\\", gd.style.height=\\\"100vh\\\", gd.style.marginLeft=\\\"0%\\\", gd.style.marginTop=\\\"0vh\\\") : undefined; window.onresize=(function (){return Plotly.Plots.resize(gd)}); Plotly.newPlot(gd,[{\\\"mode\\\":\\\"markers\\\",\\\"y\\\":[268.16500229625007,268.1672108048815,268.17092227254136,268.1761312969264,268.18283035748016,268.1910098578463,268.20065817957516,268.21176174645257,268.2243050987106,268.23827097627543,268.2536404101289,268.2703928207923,268.28850612289256,268.30795683474184,268.3287201918481,268.3507702632785,268.37408006981866,268.3986217029036,268.4243664433464,268.4512848789471,268.4793470201341,268.5085224128645,268.5387802480908,268.5700894671861,268.60241886280465,268.63573717474054,268.6700131804322,268.70521577984067,268.74131407450875,268.7782774406789,268.816075596417,268.8546786627496,268.8940572188769,268.9341823515747,268.9750256989369,269.0165594886511,269.0587565710248,269.1015904470073,269.14503529146975,269.1890659720183,269.2336580636268,269.27878785937787,269.32443237760333,269.37056936571395,269.4171773010018,269.4642353886928,269.5117235575181,269.559622453061,269.60791342912603,269.6565785373635,269.7056005153688,269.7549627734637,269.8046493803512,269.8546450478232,269.90493511468645,269.9555055300569,270.00634283616307,270.05743415078365,270.1087671494335,270.16033004740206,270.2121115817351,270.2641009932434,270.3162880086101,270.36866282266146,270.42121608085586,270.4739388620414,270.52682266152107,270.57985937446244,270.6330412796811,270.6863610238207,270.7398116059508,270.7933863625963,270.84707895321054,270.90088334609965,270.95479380480344,271.0088048749342,271.062911371474,271.11710836652844,271.17139117753146,271.2257553558973,271.28019667611176,271.3347111252543,271.38929489294327,271.44394436169335,271.49865609767545,271.5534268418676,271.60825350158586,271.66313314238454,271.7180629803118,271.7730403745111,271.8280628201552,271.8831279417016,271.9382334864567,271.99337731843826,272.04855741252385,272.10377184887386,272.1590188076188,272.2142965637994,272.26960348254903,272.3249380145086],\\\"type\\\":\\\"scatter\\\",\\\"name\\\":\\\"Measurement\\\",\\\"x\\\":[0.0,0.15,0.3,0.44999999999999996,0.6,0.75,0.8999999999999999,1.05,1.2,1.3499999999999999,1.5,1.65,1.7999999999999998,1.95,2.1,2.25,2.4,2.55,2.6999999999999997,2.85,3.0,3.15,3.3,3.4499999999999997,3.5999999999999996,3.75,3.9,4.05,4.2,4.35,4.5,4.6499999999999995,4.8,4.95,5.1,5.25,5.3999999999999995,5.55,5.7,5.85,6.0,6.1499999999999995,6.3,6.45,6.6,6.75,6.8999999999999995,7.05,7.199999999999999,7.35,7.5,7.6499999999999995,7.8,7.949999999999999,8.1,8.25,8.4,8.549999999999999,8.7,8.85,9.0,9.15,9.299999999999999,9.45,9.6,9.75,9.9,10.049999999999999,10.2,10.35,10.5,10.65,10.799999999999999,10.95,11.1,11.25,11.4,11.549999999999999,11.7,11.85,12.0,12.15,12.299999999999999,12.45,12.6,12.75,12.9,13.049999999999999,13.2,13.35,13.5,13.65,13.799999999999999,13.95,14.1,14.25,14.399999999999999,14.549999999999999,14.7,14.85]}],{\\\"xaxis\\\":{\\\"title\\\":{\\\"text\\\":\\\"Time (second)\\\"}},\\\"template\\\":{\\\"layout\\\":{\\\"coloraxis\\\":{\\\"colorbar\\\":{\\\"ticks\\\":\\\"\\\",\\\"outlinewidth\\\":0}},\\\"xaxis\\\":{\\\"gridcolor\\\":\\\"white\\\",\\\"zerolinewidth\\\":2,\\\"title\\\":{\\\"standoff\\\":15},\\\"ticks\\\":\\\"\\\",\\\"zerolinecolor\\\":\\\"white\\\",\\\"automargin\\\":true,\\\"linecolor\\\":\\\"white\\\"},\\\"hovermode\\\":\\\"closest\\\",\\\"paper_bgcolor\\\":\\\"white\\\",\\\"geo\\\":{\\\"showlakes\\\":true,\\\"showland\\\":true,\\\"landcolor\\\":\\\"#E5ECF6\\\",\\\"bgcolor\\\":\\\"white\\\",\\\"subunitcolor\\\":\\\"white\\\",\\\"lakecolor\\\":\\\"white\\\"},\\\"colorscale\\\":{\\\"sequential\\\":[[0.0,\\\"#0d0887\\\"],[0.1111111111111111,\\\"#46039f\\\"],[0.2222222222222222,\\\"#7201a8\\\"],[0.3333333333333333,\\\"#9c179e\\\"],[0.4444444444444444,\\\"#bd3786\\\"],[0.5555555555555556,\\\"#d8576b\\\"],[0.6666666666666666,\\\"#ed7953\\\"],[0.7777777777777778,\\\"#fb9f3a\\\"],[0.8888888888888888,\\\"#fdca26\\\"],[1.0,\\\"#f0f921\\\"]],\\\"diverging\\\":[[0,\\\"#8e0152\\\"],[0.1,\\\"#c51b7d\\\"],[0.2,\\\"#de77ae\\\"],[0.3,\\\"#f1b6da\\\"],[0.4,\\\"#fde0ef\\\"],[0.5,\\\"#f7f7f7\\\"],[0.6,\\\"#e6f5d0\\\"],[0.7,\\\"#b8e186\\\"],[0.8,\\\"#7fbc41\\\"],[0.9,\\\"#4d9221\\\"],[1,\\\"#276419\\\"]],\\\"sequentialminus\\\":[[0.0,\\\"#0d0887\\\"],[0.1111111111111111,\\\"#46039f\\\"],[0.2222222222222222,\\\"#7201a8\\\"],[0.3333333333333333,\\\"#9c179e\\\"],[0.4444444444444444,\\\"#bd3786\\\"],[0.5555555555555556,\\\"#d8576b\\\"],[0.6666666666666666,\\\"#ed7953\\\"],[0.7777777777777778,\\\"#fb9f3a\\\"],[0.8888888888888888,\\\"#fdca26\\\"],[1.0,\\\"#f0f921\\\"]]},\\\"yaxis\\\":{\\\"gridcolor\\\":\\\"white\\\",\\\"zerolinewidth\\\":2,\\\"title\\\":{\\\"standoff\\\":15},\\\"ticks\\\":\\\"\\\",\\\"zerolinecolor\\\":\\\"white\\\",\\\"automargin\\\":true,\\\"linecolor\\\":\\\"white\\\"},\\\"shapedefaults\\\":{\\\"line\\\":{\\\"color\\\":\\\"#2a3f5f\\\"}},\\\"hoverlabel\\\":{\\\"align\\\":\\\"left\\\"},\\\"mapbox\\\":{\\\"style\\\":\\\"light\\\"},\\\"polar\\\":{\\\"angularaxis\\\":{\\\"gridcolor\\\":\\\"white\\\",\\\"ticks\\\":\\\"\\\",\\\"linecolor\\\":\\\"white\\\"},\\\"bgcolor\\\":\\\"#E5ECF6\\\",\\\"radialaxis\\\":{\\\"gridcolor\\\":\\\"white\\\",\\\"ticks\\\":\\\"\\\",\\\"linecolor\\\":\\\"white\\\"}},\\\"autotypenumbers\\\":\\\"strict\\\",\\\"font\\\":{\\\"color\\\":\\\"#2a3f5f\\\"},\\\"ternary\\\":{\\\"baxis\\\":{\\\"gridcolor\\\":\\\"white\\\",\\\"ticks\\\":\\\"\\\",\\\"linecolor\\\":\\\"white\\\"},\\\"bgcolor\\\":\\\"#E5ECF6\\\",\\\"caxis\\\":{\\\"gridcolor\\\":\\\"white\\\",\\\"ticks\\\":\\\"\\\",\\\"linecolor\\\":\\\"white\\\"},\\\"aaxis\\\":{\\\"gridcolor\\\":\\\"white\\\",\\\"ticks\\\":\\\"\\\",\\\"linecolor\\\":\\\"white\\\"}},\\\"annotationdefaults\\\":{\\\"arrowhead\\\":0,\\\"arrowwidth\\\":1,\\\"arrowcolor\\\":\\\"#2a3f5f\\\"},\\\"plot_bgcolor\\\":\\\"#E5ECF6\\\",\\\"title\\\":{\\\"x\\\":0.05},\\\"scene\\\":{\\\"xaxis\\\":{\\\"gridcolor\\\":\\\"white\\\",\\\"gridwidth\\\":2,\\\"backgroundcolor\\\":\\\"#E5ECF6\\\",\\\"ticks\\\":\\\"\\\",\\\"showbackground\\\":true,\\\"zerolinecolor\\\":\\\"white\\\",\\\"linecolor\\\":\\\"white\\\"},\\\"zaxis\\\":{\\\"gridcolor\\\":\\\"white\\\",\\\"gridwidth\\\":2,\\\"backgroundcolor\\\":\\\"#E5ECF6\\\",\\\"ticks\\\":\\\"\\\",\\\"showbackground\\\":true,\\\"zerolinecolor\\\":\\\"white\\\",\\\"linecolor\\\":\\\"white\\\"},\\\"yaxis\\\":{\\\"gridcolor\\\":\\\"white\\\",\\\"gridwidth\\\":2,\\\"backgroundcolor\\\":\\\"#E5ECF6\\\",\\\"ticks\\\":\\\"\\\",\\\"showbackground\\\":true,\\\"zerolinecolor\\\":\\\"white\\\",\\\"linecolor\\\":\\\"white\\\"}},\\\"colorway\\\":[\\\"#636efa\\\",\\\"#EF553B\\\",\\\"#00cc96\\\",\\\"#ab63fa\\\",\\\"#FFA15A\\\",\\\"#19d3f3\\\",\\\"#FF6692\\\",\\\"#B6E880\\\",\\\"#FF97FF\\\",\\\"#FECB52\\\"]},\\\"data\\\":{\\\"barpolar\\\":[{\\\"type\\\":\\\"barpolar\\\",\\\"marker\\\":{\\\"line\\\":{\\\"color\\\":\\\"#E5ECF6\\\",\\\"width\\\":0.5}}}],\\\"carpet\\\":[{\\\"aaxis\\\":{\\\"gridcolor\\\":\\\"white\\\",\\\"endlinecolor\\\":\\\"#2a3f5f\\\",\\\"minorgridcolor\\\":\\\"white\\\",\\\"startlinecolor\\\":\\\"#2a3f5f\\\",\\\"linecolor\\\":\\\"white\\\"},\\\"type\\\":\\\"carpet\\\",\\\"baxis\\\":{\\\"gridcolor\\\":\\\"white\\\",\\\"endlinecolor\\\":\\\"#2a3f5f\\\",\\\"minorgridcolor\\\":\\\"white\\\",\\\"startlinecolor\\\":\\\"#2a3f5f\\\",\\\"linecolor\\\":\\\"white\\\"}}],\\\"scatterpolar\\\":[{\\\"type\\\":\\\"scatterpolar\\\",\\\"marker\\\":{\\\"colorbar\\\":{\\\"ticks\\\":\\\"\\\",\\\"outlinewidth\\\":0}}}],\\\"parcoords\\\":[{\\\"line\\\":{\\\"colorbar\\\":{\\\"ticks\\\":\\\"\\\",\\\"outlinewidth\\\":0}},\\\"type\\\":\\\"parcoords\\\"}],\\\"scatter\\\":[{\\\"type\\\":\\\"scatter\\\",\\\"marker\\\":{\\\"colorbar\\\":{\\\"ticks\\\":\\\"\\\",\\\"outlinewidth\\\":0}}}],\\\"histogram2dcontour\\\":[{\\\"colorbar\\\":{\\\"ticks\\\":\\\"\\\",\\\"outlinewidth\\\":0},\\\"type\\\":\\\"histogram2dcontour\\\",\\\"colorscale\\\":[[0.0,\\\"#0d0887\\\"],[0.1111111111111111,\\\"#46039f\\\"],[0.2222222222222222,\\\"#7201a8\\\"],[0.3333333333333333,\\\"#9c179e\\\"],[0.4444444444444444,\\\"#bd3786\\\"],[0.5555555555555556,\\\"#d8576b\\\"],[0.6666666666666666,\\\"#ed7953\\\"],[0.7777777777777778,\\\"#fb9f3a\\\"],[0.8888888888888888,\\\"#fdca26\\\"],[1.0,\\\"#f0f921\\\"]]}],\\\"contour\\\":[{\\\"colorbar\\\":{\\\"ticks\\\":\\\"\\\",\\\"outlinewidth\\\":0},\\\"type\\\":\\\"contour\\\",\\\"colorscale\\\":[[0.0,\\\"#0d0887\\\"],[0.1111111111111111,\\\"#46039f\\\"],[0.2222222222222222,\\\"#7201a8\\\"],[0.3333333333333333,\\\"#9c179e\\\"],[0.4444444444444444,\\\"#bd3786\\\"],[0.5555555555555556,\\\"#d8576b\\\"],[0.6666666666666666,\\\"#ed7953\\\"],[0.7777777777777778,\\\"#fb9f3a\\\"],[0.8888888888888888,\\\"#fdca26\\\"],[1.0,\\\"#f0f921\\\"]]}],\\\"scattercarpet\\\":[{\\\"type\\\":\\\"scattercarpet\\\",\\\"marker\\\":{\\\"colorbar\\\":{\\\"ticks\\\":\\\"\\\",\\\"outlinewidth\\\":0}}}],\\\"mesh3d\\\":[{\\\"colorbar\\\":{\\\"ticks\\\":\\\"\\\",\\\"outlinewidth\\\":0},\\\"type\\\":\\\"mesh3d\\\"}],\\\"surface\\\":[{\\\"colorbar\\\":{\\\"ticks\\\":\\\"\\\",\\\"outlinewidth\\\":0},\\\"type\\\":\\\"surface\\\",\\\"colorscale\\\":[[0.0,\\\"#0d0887\\\"],[0.1111111111111111,\\\"#46039f\\\"],[0.2222222222222222,\\\"#7201a8\\\"],[0.3333333333333333,\\\"#9c179e\\\"],[0.4444444444444444,\\\"#bd3786\\\"],[0.5555555555555556,\\\"#d8576b\\\"],[0.6666666666666666,\\\"#ed7953\\\"],[0.7777777777777778,\\\"#fb9f3a\\\"],[0.8888888888888888,\\\"#fdca26\\\"],[1.0,\\\"#f0f921\\\"]]}],\\\"scattermapbox\\\":[{\\\"type\\\":\\\"scattermapbox\\\",\\\"marker\\\":{\\\"colorbar\\\":{\\\"ticks\\\":\\\"\\\",\\\"outlinewidth\\\":0}}}],\\\"scattergeo\\\":[{\\\"type\\\":\\\"scattergeo\\\",\\\"marker\\\":{\\\"colorbar\\\":{\\\"ticks\\\":\\\"\\\",\\\"outlinewidth\\\":0}}}],\\\"histogram\\\":[{\\\"type\\\":\\\"histogram\\\",\\\"marker\\\":{\\\"colorbar\\\":{\\\"ticks\\\":\\\"\\\",\\\"outlinewidth\\\":0}}}],\\\"pie\\\":[{\\\"type\\\":\\\"pie\\\",\\\"automargin\\\":true}],\\\"choropleth\\\":[{\\\"colorbar\\\":{\\\"ticks\\\":\\\"\\\",\\\"outlinewidth\\\":0},\\\"type\\\":\\\"choropleth\\\"}],\\\"heatmapgl\\\":[{\\\"colorbar\\\":{\\\"ticks\\\":\\\"\\\",\\\"outlinewidth\\\":0},\\\"type\\\":\\\"heatmapgl\\\",\\\"colorscale\\\":[[0.0,\\\"#0d0887\\\"],[0.1111111111111111,\\\"#46039f\\\"],[0.2222222222222222,\\\"#7201a8\\\"],[0.3333333333333333,\\\"#9c179e\\\"],[0.4444444444444444,\\\"#bd3786\\\"],[0.5555555555555556,\\\"#d8576b\\\"],[0.6666666666666666,\\\"#ed7953\\\"],[0.7777777777777778,\\\"#fb9f3a\\\"],[0.8888888888888888,\\\"#fdca26\\\"],[1.0,\\\"#f0f921\\\"]]}],\\\"bar\\\":[{\\\"type\\\":\\\"bar\\\",\\\"error_y\\\":{\\\"color\\\":\\\"#2a3f5f\\\"},\\\"error_x\\\":{\\\"color\\\":\\\"#2a3f5f\\\"},\\\"marker\\\":{\\\"line\\\":{\\\"color\\\":\\\"#E5ECF6\\\",\\\"width\\\":0.5}}}],\\\"heatmap\\\":[{\\\"colorbar\\\":{\\\"ticks\\\":\\\"\\\",\\\"outlinewidth\\\":0},\\\"type\\\":\\\"heatmap\\\",\\\"colorscale\\\":[[0.0,\\\"#0d0887\\\"],[0.1111111111111111,\\\"#46039f\\\"],[0.2222222222222222,\\\"#7201a8\\\"],[0.3333333333333333,\\\"#9c179e\\\"],[0.4444444444444444,\\\"#bd3786\\\"],[0.5555555555555556,\\\"#d8576b\\\"],[0.6666666666666666,\\\"#ed7953\\\"],[0.7777777777777778,\\\"#fb9f3a\\\"],[0.8888888888888888,\\\"#fdca26\\\"],[1.0,\\\"#f0f921\\\"]]}],\\\"contourcarpet\\\":[{\\\"colorbar\\\":{\\\"ticks\\\":\\\"\\\",\\\"outlinewidth\\\":0},\\\"type\\\":\\\"contourcarpet\\\"}],\\\"table\\\":[{\\\"type\\\":\\\"table\\\",\\\"header\\\":{\\\"line\\\":{\\\"color\\\":\\\"white\\\"},\\\"fill\\\":{\\\"color\\\":\\\"#C8D4E3\\\"}},\\\"cells\\\":{\\\"line\\\":{\\\"color\\\":\\\"white\\\"},\\\"fill\\\":{\\\"color\\\":\\\"#EBF0F8\\\"}}}],\\\"scatter3d\\\":[{\\\"line\\\":{\\\"colorbar\\\":{\\\"ticks\\\":\\\"\\\",\\\"outlinewidth\\\":0}},\\\"type\\\":\\\"scatter3d\\\",\\\"marker\\\":{\\\"colorbar\\\":{\\\"ticks\\\":\\\"\\\",\\\"outlinewidth\\\":0}}}],\\\"scattergl\\\":[{\\\"type\\\":\\\"scattergl\\\",\\\"marker\\\":{\\\"colorbar\\\":{\\\"ticks\\\":\\\"\\\",\\\"outlinewidth\\\":0}}}],\\\"histogram2d\\\":[{\\\"colorbar\\\":{\\\"ticks\\\":\\\"\\\",\\\"outlinewidth\\\":0},\\\"type\\\":\\\"histogram2d\\\",\\\"colorscale\\\":[[0.0,\\\"#0d0887\\\"],[0.1111111111111111,\\\"#46039f\\\"],[0.2222222222222222,\\\"#7201a8\\\"],[0.3333333333333333,\\\"#9c179e\\\"],[0.4444444444444444,\\\"#bd3786\\\"],[0.5555555555555556,\\\"#d8576b\\\"],[0.6666666666666666,\\\"#ed7953\\\"],[0.7777777777777778,\\\"#fb9f3a\\\"],[0.8888888888888888,\\\"#fdca26\\\"],[1.0,\\\"#f0f921\\\"]]}],\\\"scatterternary\\\":[{\\\"type\\\":\\\"scatterternary\\\",\\\"marker\\\":{\\\"colorbar\\\":{\\\"ticks\\\":\\\"\\\",\\\"outlinewidth\\\":0}}}],\\\"scatterpolargl\\\":[{\\\"type\\\":\\\"scatterpolargl\\\",\\\"marker\\\":{\\\"colorbar\\\":{\\\"ticks\\\":\\\"\\\",\\\"outlinewidth\\\":0}}}]}},\\\"legend\\\":{\\\"title\\\":\\\"Legend Title\\\"},\\\"margin\\\":{\\\"l\\\":50,\\\"b\\\":50,\\\"r\\\":50,\\\"t\\\":60},\\\"title\\\":\\\"Measurement\\\",\\\"yaxis\\\":{\\\"title\\\":{\\\"text\\\":\\\"Temperature (Kelvin)\\\"}}},{\\\"showLink\\\":false,\\\"editable\\\":false,\\\"responsive\\\":true,\\\"staticPlot\\\":false,\\\"scrollZoom\\\":true}); gd.on(\\\"plotly_hover\\\",(function (data){var filtered_data=WebIO.PlotlyCommands.filterEventData(gd,data,\\\"hover\\\"); return !(filtered_data.isnil) ? (WebIO.setval({\\\"name\\\":\\\"hover\\\",\\\"scope\\\":\\\"12251492703454403161\\\",\\\"id\\\":\\\"1905115502607131952\\\",\\\"type\\\":\\\"observable\\\"},filtered_data.out)) : undefined})); gd.on(\\\"plotly_unhover\\\",(function (){return WebIO.setval({\\\"name\\\":\\\"hover\\\",\\\"scope\\\":\\\"12251492703454403161\\\",\\\"id\\\":\\\"1905115502607131952\\\",\\\"type\\\":\\\"observable\\\"},{})})); gd.on(\\\"plotly_selected\\\",(function (data){var filtered_data=WebIO.PlotlyCommands.filterEventData(gd,data,\\\"selected\\\"); return !(filtered_data.isnil) ? (WebIO.setval({\\\"name\\\":\\\"selected\\\",\\\"scope\\\":\\\"12251492703454403161\\\",\\\"id\\\":\\\"12893625679106211904\\\",\\\"type\\\":\\\"observable\\\"},filtered_data.out)) : undefined})); gd.on(\\\"plotly_deselect\\\",(function (){return WebIO.setval({\\\"name\\\":\\\"selected\\\",\\\"scope\\\":\\\"12251492703454403161\\\",\\\"id\\\":\\\"12893625679106211904\\\",\\\"type\\\":\\\"observable\\\"},{})})); gd.on(\\\"plotly_relayout\\\",(function (data){var filtered_data=WebIO.PlotlyCommands.filterEventData(gd,data,\\\"relayout\\\"); return !(filtered_data.isnil) ? (WebIO.setval({\\\"name\\\":\\\"relayout\\\",\\\"scope\\\":\\\"12251492703454403161\\\",\\\"id\\\":\\\"5169038491557067344\\\",\\\"type\\\":\\\"observable\\\"},filtered_data.out)) : undefined})); return gd.on(\\\"plotly_click\\\",(function (data){var filtered_data=WebIO.PlotlyCommands.filterEventData(gd,data,\\\"click\\\"); return !(filtered_data.isnil) ? (WebIO.setval({\\\"name\\\":\\\"click\\\",\\\"scope\\\":\\\"12251492703454403161\\\",\\\"id\\\":\\\"7470765782859203129\\\",\\\"type\\\":\\\"observable\\\"},filtered_data.out)) : undefined}))}));\\n    (WebIO.importBlock({\\\"data\\\":[{\\\"name\\\":\\\"Plotly\\\",\\\"type\\\":\\\"js\\\",\\\"url\\\":\\\"\\/assetserver\\/627f17ff06762af3874159c00b9b1e00e50688bc-plotly.min.js\\\"},{\\\"name\\\":null,\\\"type\\\":\\\"js\\\",\\\"url\\\":\\\"\\/assetserver\\/1a276a0acb11ad47020d3f379225d41bbd0aeef0-plotly_webio.bundle.js\\\"}],\\\"type\\\":\\\"async_block\\\"})).then((imports) => handler.apply(this, imports));\\n}\\n\"],\"observables\":{\"_toImage\":{\"sync\":false,\"id\":\"12274689190310778806\",\"value\":{}},\"hover\":{\"sync\":false,\"id\":\"1905115502607131952\",\"value\":{}},\"selected\":{\"sync\":false,\"id\":\"12893625679106211904\",\"value\":{}},\"__gd_contents\":{\"sync\":false,\"id\":\"3001056572108963889\",\"value\":{}},\"click\":{\"sync\":false,\"id\":\"7470765782859203129\",\"value\":{}},\"image\":{\"sync\":true,\"id\":\"18254581818697636256\",\"value\":\"\"},\"__get_gd_contents\":{\"sync\":false,\"id\":\"2056416999968338854\",\"value\":\"\"},\"_downloadImage\":{\"sync\":false,\"id\":\"6508994060760736071\",\"value\":{}},\"relayout\":{\"sync\":false,\"id\":\"5169038491557067344\",\"value\":{}},\"_commands\":{\"sync\":false,\"id\":\"14171437267690868153\",\"value\":[]}}},\"children\":[{\"props\":{\"id\":\"plot-9930eab7-e77c-46f8-a48a-ba7590e842d8\"},\"nodeType\":\"DOM\",\"type\":\"node\",\"instanceArgs\":{\"namespace\":\"html\",\"tag\":\"div\"},\"children\":[]}]},\n",
       "        window,\n",
       "    );\n",
       "    })()\n",
       "    </script>\n",
       "</div>\n"
      ],
      "text/plain": [
       "data: [\n",
       "  \"scatter with fields mode, name, type, x, and y\"\n",
       "]\n",
       "\n",
       "layout: \"layout with fields legend, margin, template, title, xaxis, and yaxis\"\n",
       "\n"
      ]
     },
     "execution_count": 424,
     "metadata": {},
     "output_type": "execute_result"
    }
   ],
   "source": [
    "plot(\n",
    "    [\n",
    "        # True position\n",
    "        scatter(\n",
    "            mode=\"markers\",\n",
    "            x=time_axis_sec,\n",
    "            y=measurements_array,\n",
    "            name=\"Measurement\"\n",
    "        )\n",
    "    ],\n",
    "    Layout(\n",
    "        title=\"Measurement\",\n",
    "        xaxis_title=\"Time (second)\",\n",
    "        yaxis_title=\"Temperature (Kelvin)\",\n",
    "        legend_title=\"Legend Title\",\n",
    "    ),\n",
    "    config=PlotConfig(scrollZoom=true)\n",
    ")"
   ]
  },
  {
   "cell_type": "code",
   "execution_count": 425,
   "id": "ac0e2ffa",
   "metadata": {},
   "outputs": [
    {
     "data": {
      "application/vnd.plotly.v1+json": {
       "config": {
        "editable": false,
        "responsive": true,
        "scrollZoom": true,
        "showLink": false,
        "staticPlot": false
       },
       "data": [
        {
         "mode": "markers",
         "name": "True Position",
         "type": "scatter",
         "x": [
          0,
          0.15,
          0.3,
          0.44999999999999996,
          0.6,
          0.75,
          0.8999999999999999,
          1.05,
          1.2,
          1.3499999999999999,
          1.5,
          1.65,
          1.7999999999999998,
          1.95,
          2.1,
          2.25,
          2.4,
          2.55,
          2.6999999999999997,
          2.85,
          3,
          3.15,
          3.3,
          3.4499999999999997,
          3.5999999999999996,
          3.75,
          3.9,
          4.05,
          4.2,
          4.35,
          4.5,
          4.6499999999999995,
          4.8,
          4.95,
          5.1,
          5.25,
          5.3999999999999995,
          5.55,
          5.7,
          5.85,
          6,
          6.1499999999999995,
          6.3,
          6.45,
          6.6,
          6.75,
          6.8999999999999995,
          7.05,
          7.199999999999999,
          7.35,
          7.5,
          7.6499999999999995,
          7.8,
          7.949999999999999,
          8.1,
          8.25,
          8.4,
          8.549999999999999,
          8.7,
          8.85,
          9,
          9.15,
          9.299999999999999,
          9.45,
          9.6,
          9.75,
          9.9,
          10.049999999999999,
          10.2,
          10.35,
          10.5,
          10.65,
          10.799999999999999,
          10.95,
          11.1,
          11.25,
          11.4,
          11.549999999999999,
          11.7,
          11.85,
          12,
          12.15,
          12.299999999999999,
          12.45,
          12.6,
          12.75,
          12.9,
          13.049999999999999,
          13.2,
          13.35,
          13.5,
          13.65,
          13.799999999999999,
          13.95,
          14.1,
          14.25,
          14.399999999999999,
          14.549999999999999,
          14.7,
          14.85
         ],
         "y": [
          3019.89725,
          3019.5741324240735,
          3019.0311232565705,
          3018.2690128856825,
          3017.2889016122763,
          3016.0921934387275,
          3014.6805882113968,
          3013.0560722088444,
          3011.2209072844794,
          3009.177618686849,
          3006.928981692923,
          3004.4780071993746,
          3001.8279264239163,
          2998.9821748731806,
          2995.9443757354734,
          2992.7183228561116,
          2989.30796345009,
          2985.717380701744,
          2981.950776394095,
          2978.0124537019647,
          2973.9068002729914,
          2969.6382717096603,
          2965.2113755536598,
          2960.6306558615884,
          2955.900678448485,
          2951.0260168631294,
          2946.011239146726,
          2940.8608954146885,
          2935.5795062898765,
          2930.171552204995,
          2924.6414635820042,
          2918.9936118874098,
          2913.232301554222,
          2907.361762754259,
          2901.3861449982633,
          2895.309511536052,
          2889.1358345245403,
          2882.868990927974,
          2876.5127591119676,
          2870.070816090967,
          2863.54673538745,
          2856.943985460449,
          2850.265928660819,
          2843.5158206709693,
          2836.6968103874556,
          2829.8119402058855,
          2822.8641466688973,
          2815.856261439508,
          2808.7910125638628,
          2801.671025989253,
          2794.498827305225,
          2787.276843677588,
          2780.007405947163,
          2772.6927508671265,
          2765.3350234548043,
          2757.9362794357226,
          2750.4984877596157,
          2743.023533169921,
          2735.5132188100265,
          2727.9692688512073,
          2720.393331128744,
          2712.7869797742,
          2705.151717833198,
          2697.4889798593426,
          2689.800134476103,
          2682.086486899579,
          2674.3492814160927,
          2666.5897038094477,
          2658.808883733566,
          2651.0078970269656,
          2643.1877679662352,
          2635.3494714562894,
          2627.493935155746,
          2619.6220415362645,
          2611.7346298751386,
          2603.8324981808128,
          2595.916405051356,
          2587.987071466219,
          2580.0451825118644,
          2572.091389042092,
          2564.1263092740705,
          2556.150530321252,
          2548.164609664491,
          2540.1690765627905,
          2532.164433405204,
          2524.151157005485,
          2516.1296998411367,
          2508.1004912385506,
          2500.0639385059617,
          2492.020428015942,
          2483.970326239184,
          2475.9139807313013,
          2467.851721074375,
          2459.783859774946,
          2451.7106931201433,
          2443.632501993588,
          2435.5495526527034,
          2427.462097469005,
          2419.3703756329223,
          2411.274613824644
         ]
        },
        {
         "error_y": {
          "array": [
           48.870557517303446,
           37.22588477641779,
           31.736283741340426,
           28.594302258970654,
           26.63469372153233,
           25.356615410523982,
           24.501706227123783,
           23.921221957904287,
           23.523436089134325,
           23.249252268685595,
           23.059505383452727,
           22.927755502043496,
           22.83593412321257,
           22.771592908631614,
           22.726109057591273,
           22.69348840220393,
           22.669554684778458,
           22.651394463032208,
           22.636974183527144,
           22.624874648517284,
           22.6141062261584,
           22.60397993550924,
           22.594017361544907,
           22.583887634012715,
           22.57336330683338,
           22.56228945447667,
           22.55056201864245,
           22.53811263232714,
           22.524897980797192,
           22.510892340648724,
           22.49608234510512,
           22.48046330869857,
           22.464036644159304,
           22.446808044272423,
           22.42878619953649,
           22.409981891186987,
           22.390407347301736,
           22.37007578343353,
           22.349001072830387,
           22.327197507830295,
           22.304679625577776,
           22.281462079291234,
           22.257559541956486,
           22.232986633264733,
           22.20775786336432,
           22.181887588914257,
           22.155389978264882,
           22.128278983522524,
           22.100568317903974,
           22.07227143723867,
           22.043401524791296,
           22.01397147879753,
           21.983993902259233,
           21.953481094653483,
           21.922445045285908,
           21.890897428073178,
           21.85884959757849,
           21.826312586152532,
           21.793297102053668,
           21.759813528437448,
           21.725871923118167,
           21.691482019015687,
           21.656653225209052,
           21.621394628525863,
           21.58571499560267,
           21.549622775357218,
           21.51312610181849,
           21.476232797265173,
           21.438950375627215,
           21.401286046109252,
           21.36324671699816,
           21.324838999620354,
           21.286069212417548,
           21.2469433851125,
           21.20746726293898,
           21.16764631091257,
           21.127485718121143,
           21.08699040201594,
           21.046165012686117,
           21.005013937101197,
           20.96354130330767,
           20.92175098456725,
           20.879646603425673,
           20.837231535702184,
           20.794508914390843,
           20.751481633465836,
           20.708152351583834,
           20.664523495677294,
           20.620597264433275,
           20.576375631653004,
           20.53186034948803,
           20.487052951549337,
           20.441954755886208,
           20.396566867832085,
           20.35089018271506,
           20.304925388430863,
           20.258672967876656,
           20.212133201244,
           20.16530616816976,
           20.11819174974376
          ],
          "type": "data"
         },
         "mode": "markers",
         "name": "Estimated Position",
         "type": "scatter",
         "x": [
          0,
          0.15,
          0.3,
          0.44999999999999996,
          0.6,
          0.75,
          0.8999999999999999,
          1.05,
          1.2,
          1.3499999999999999,
          1.5,
          1.65,
          1.7999999999999998,
          1.95,
          2.1,
          2.25,
          2.4,
          2.55,
          2.6999999999999997,
          2.85,
          3,
          3.15,
          3.3,
          3.4499999999999997,
          3.5999999999999996,
          3.75,
          3.9,
          4.05,
          4.2,
          4.35,
          4.5,
          4.6499999999999995,
          4.8,
          4.95,
          5.1,
          5.25,
          5.3999999999999995,
          5.55,
          5.7,
          5.85,
          6,
          6.1499999999999995,
          6.3,
          6.45,
          6.6,
          6.75,
          6.8999999999999995,
          7.05,
          7.199999999999999,
          7.35,
          7.5,
          7.6499999999999995,
          7.8,
          7.949999999999999,
          8.1,
          8.25,
          8.4,
          8.549999999999999,
          8.7,
          8.85,
          9,
          9.15,
          9.299999999999999,
          9.45,
          9.6,
          9.75,
          9.9,
          10.049999999999999,
          10.2,
          10.35,
          10.5,
          10.65,
          10.799999999999999,
          10.95,
          11.1,
          11.25,
          11.4,
          11.549999999999999,
          11.7,
          11.85,
          12,
          12.15,
          12.299999999999999,
          12.45,
          12.6,
          12.75,
          12.9,
          13.049999999999999,
          13.2,
          13.35,
          13.5,
          13.65,
          13.799999999999999,
          13.95,
          14.1,
          14.25,
          14.399999999999999,
          14.549999999999999,
          14.7,
          14.85
         ],
         "y": [
          2999.5758373938656,
          2999.052147289332,
          2998.3558099298602,
          2997.4637785797286,
          2996.3663258515235,
          2995.0589777708865,
          2993.5398635745255,
          2991.808623302055,
          2989.8658828575517,
          2987.7129709928968,
          2985.351751858831,
          2982.784517754441,
          2980.013915427955,
          2977.042892107437,
          2973.8746536451645,
          2970.5126303713523,
          2966.960448014639,
          2963.2219020622633,
          2959.300934543002,
          2955.2016125946875,
          2950.928108418899,
          2946.484680380636,
          2941.8756551112892,
          2937.1054105377666,
          2932.178359801193,
          2927.0989360529447,
          2921.871578129124,
          2916.5007171105053,
          2910.9907637759934,
          2905.3460969554285,
          2899.571052783445,
          2893.6699148508674,
          2887.646905244458,
          2881.5061764601146,
          2875.2518041691933,
          2868.8877808126526,
          2862.418009993318,
          2855.846301632832,
          2849.176367856779,
          2842.4118195690708,
          2835.5561636749385,
          2828.6128009107133,
          2821.585024237986,
          2814.476017759651,
          2807.2888561156774,
          2800.026504317195,
          2792.691817978527,
          2785.287543908147,
          2777.8163210210637,
          2770.280681536885,
          2762.683052429632,
          2755.0257570973276,
          2747.311017221362,
          2739.5409547876507,
          2731.717594243617,
          2723.8428647670053,
          2715.9186026244747,
          2707.9465535998106,
          2699.928375473393,
          2691.8656405363063,
          2683.7598381241146,
          2675.61237715688,
          2667.424588673475,
          2659.197728349597,
          2650.932978990184,
          2642.6314529880824,
          2634.2941947419486,
          2625.922183027329,
          2617.5163333158116,
          2609.077500037954,
          2600.6064787864775,
          2592.104008456878,
          2583.570773323248,
          2575.0074050476414,
          2566.414484621821,
          2557.7925442406618,
          2549.1420691068797,
          2540.4634991670955,
          2531.7572307795417,
          2523.023618313992,
          2514.262975684706,
          2505.475577817384,
          2496.661662051286,
          2487.821429477808,
          2478.955046216926,
          2470.0626446329975,
          2461.1443244915044,
          2452.2001540583556,
          2443.2301711434216,
          2434.234384089999,
          2425.2127727119187,
          2416.1652891800127,
          2407.091858859661,
          2397.9923811011195,
          2388.8667299843223,
          2379.7147550198197,
          2370.5362818074927,
          2361.3311126546573,
          2352.099027155119,
          2342.8397827307267
         ]
        }
       ],
       "frames": [],
       "layout": {
        "legend": {
         "title": "Legend Title"
        },
        "margin": {
         "b": 50,
         "l": 50,
         "r": 50,
         "t": 60
        },
        "template": {
         "data": {
          "bar": [
           {
            "error_x": {
             "color": "#2a3f5f"
            },
            "error_y": {
             "color": "#2a3f5f"
            },
            "marker": {
             "line": {
              "color": "#E5ECF6",
              "width": 0.5
             }
            },
            "type": "bar"
           }
          ],
          "barpolar": [
           {
            "marker": {
             "line": {
              "color": "#E5ECF6",
              "width": 0.5
             }
            },
            "type": "barpolar"
           }
          ],
          "carpet": [
           {
            "aaxis": {
             "endlinecolor": "#2a3f5f",
             "gridcolor": "white",
             "linecolor": "white",
             "minorgridcolor": "white",
             "startlinecolor": "#2a3f5f"
            },
            "baxis": {
             "endlinecolor": "#2a3f5f",
             "gridcolor": "white",
             "linecolor": "white",
             "minorgridcolor": "white",
             "startlinecolor": "#2a3f5f"
            },
            "type": "carpet"
           }
          ],
          "choropleth": [
           {
            "colorbar": {
             "outlinewidth": 0,
             "ticks": ""
            },
            "type": "choropleth"
           }
          ],
          "contour": [
           {
            "colorbar": {
             "outlinewidth": 0,
             "ticks": ""
            },
            "colorscale": [
             [
              0,
              "#0d0887"
             ],
             [
              0.1111111111111111,
              "#46039f"
             ],
             [
              0.2222222222222222,
              "#7201a8"
             ],
             [
              0.3333333333333333,
              "#9c179e"
             ],
             [
              0.4444444444444444,
              "#bd3786"
             ],
             [
              0.5555555555555556,
              "#d8576b"
             ],
             [
              0.6666666666666666,
              "#ed7953"
             ],
             [
              0.7777777777777778,
              "#fb9f3a"
             ],
             [
              0.8888888888888888,
              "#fdca26"
             ],
             [
              1,
              "#f0f921"
             ]
            ],
            "type": "contour"
           }
          ],
          "contourcarpet": [
           {
            "colorbar": {
             "outlinewidth": 0,
             "ticks": ""
            },
            "type": "contourcarpet"
           }
          ],
          "heatmap": [
           {
            "colorbar": {
             "outlinewidth": 0,
             "ticks": ""
            },
            "colorscale": [
             [
              0,
              "#0d0887"
             ],
             [
              0.1111111111111111,
              "#46039f"
             ],
             [
              0.2222222222222222,
              "#7201a8"
             ],
             [
              0.3333333333333333,
              "#9c179e"
             ],
             [
              0.4444444444444444,
              "#bd3786"
             ],
             [
              0.5555555555555556,
              "#d8576b"
             ],
             [
              0.6666666666666666,
              "#ed7953"
             ],
             [
              0.7777777777777778,
              "#fb9f3a"
             ],
             [
              0.8888888888888888,
              "#fdca26"
             ],
             [
              1,
              "#f0f921"
             ]
            ],
            "type": "heatmap"
           }
          ],
          "heatmapgl": [
           {
            "colorbar": {
             "outlinewidth": 0,
             "ticks": ""
            },
            "colorscale": [
             [
              0,
              "#0d0887"
             ],
             [
              0.1111111111111111,
              "#46039f"
             ],
             [
              0.2222222222222222,
              "#7201a8"
             ],
             [
              0.3333333333333333,
              "#9c179e"
             ],
             [
              0.4444444444444444,
              "#bd3786"
             ],
             [
              0.5555555555555556,
              "#d8576b"
             ],
             [
              0.6666666666666666,
              "#ed7953"
             ],
             [
              0.7777777777777778,
              "#fb9f3a"
             ],
             [
              0.8888888888888888,
              "#fdca26"
             ],
             [
              1,
              "#f0f921"
             ]
            ],
            "type": "heatmapgl"
           }
          ],
          "histogram": [
           {
            "marker": {
             "colorbar": {
              "outlinewidth": 0,
              "ticks": ""
             }
            },
            "type": "histogram"
           }
          ],
          "histogram2d": [
           {
            "colorbar": {
             "outlinewidth": 0,
             "ticks": ""
            },
            "colorscale": [
             [
              0,
              "#0d0887"
             ],
             [
              0.1111111111111111,
              "#46039f"
             ],
             [
              0.2222222222222222,
              "#7201a8"
             ],
             [
              0.3333333333333333,
              "#9c179e"
             ],
             [
              0.4444444444444444,
              "#bd3786"
             ],
             [
              0.5555555555555556,
              "#d8576b"
             ],
             [
              0.6666666666666666,
              "#ed7953"
             ],
             [
              0.7777777777777778,
              "#fb9f3a"
             ],
             [
              0.8888888888888888,
              "#fdca26"
             ],
             [
              1,
              "#f0f921"
             ]
            ],
            "type": "histogram2d"
           }
          ],
          "histogram2dcontour": [
           {
            "colorbar": {
             "outlinewidth": 0,
             "ticks": ""
            },
            "colorscale": [
             [
              0,
              "#0d0887"
             ],
             [
              0.1111111111111111,
              "#46039f"
             ],
             [
              0.2222222222222222,
              "#7201a8"
             ],
             [
              0.3333333333333333,
              "#9c179e"
             ],
             [
              0.4444444444444444,
              "#bd3786"
             ],
             [
              0.5555555555555556,
              "#d8576b"
             ],
             [
              0.6666666666666666,
              "#ed7953"
             ],
             [
              0.7777777777777778,
              "#fb9f3a"
             ],
             [
              0.8888888888888888,
              "#fdca26"
             ],
             [
              1,
              "#f0f921"
             ]
            ],
            "type": "histogram2dcontour"
           }
          ],
          "mesh3d": [
           {
            "colorbar": {
             "outlinewidth": 0,
             "ticks": ""
            },
            "type": "mesh3d"
           }
          ],
          "parcoords": [
           {
            "line": {
             "colorbar": {
              "outlinewidth": 0,
              "ticks": ""
             }
            },
            "type": "parcoords"
           }
          ],
          "pie": [
           {
            "automargin": true,
            "type": "pie"
           }
          ],
          "scatter": [
           {
            "marker": {
             "colorbar": {
              "outlinewidth": 0,
              "ticks": ""
             }
            },
            "type": "scatter"
           }
          ],
          "scatter3d": [
           {
            "line": {
             "colorbar": {
              "outlinewidth": 0,
              "ticks": ""
             }
            },
            "marker": {
             "colorbar": {
              "outlinewidth": 0,
              "ticks": ""
             }
            },
            "type": "scatter3d"
           }
          ],
          "scattercarpet": [
           {
            "marker": {
             "colorbar": {
              "outlinewidth": 0,
              "ticks": ""
             }
            },
            "type": "scattercarpet"
           }
          ],
          "scattergeo": [
           {
            "marker": {
             "colorbar": {
              "outlinewidth": 0,
              "ticks": ""
             }
            },
            "type": "scattergeo"
           }
          ],
          "scattergl": [
           {
            "marker": {
             "colorbar": {
              "outlinewidth": 0,
              "ticks": ""
             }
            },
            "type": "scattergl"
           }
          ],
          "scattermapbox": [
           {
            "marker": {
             "colorbar": {
              "outlinewidth": 0,
              "ticks": ""
             }
            },
            "type": "scattermapbox"
           }
          ],
          "scatterpolar": [
           {
            "marker": {
             "colorbar": {
              "outlinewidth": 0,
              "ticks": ""
             }
            },
            "type": "scatterpolar"
           }
          ],
          "scatterpolargl": [
           {
            "marker": {
             "colorbar": {
              "outlinewidth": 0,
              "ticks": ""
             }
            },
            "type": "scatterpolargl"
           }
          ],
          "scatterternary": [
           {
            "marker": {
             "colorbar": {
              "outlinewidth": 0,
              "ticks": ""
             }
            },
            "type": "scatterternary"
           }
          ],
          "surface": [
           {
            "colorbar": {
             "outlinewidth": 0,
             "ticks": ""
            },
            "colorscale": [
             [
              0,
              "#0d0887"
             ],
             [
              0.1111111111111111,
              "#46039f"
             ],
             [
              0.2222222222222222,
              "#7201a8"
             ],
             [
              0.3333333333333333,
              "#9c179e"
             ],
             [
              0.4444444444444444,
              "#bd3786"
             ],
             [
              0.5555555555555556,
              "#d8576b"
             ],
             [
              0.6666666666666666,
              "#ed7953"
             ],
             [
              0.7777777777777778,
              "#fb9f3a"
             ],
             [
              0.8888888888888888,
              "#fdca26"
             ],
             [
              1,
              "#f0f921"
             ]
            ],
            "type": "surface"
           }
          ],
          "table": [
           {
            "cells": {
             "fill": {
              "color": "#EBF0F8"
             },
             "line": {
              "color": "white"
             }
            },
            "header": {
             "fill": {
              "color": "#C8D4E3"
             },
             "line": {
              "color": "white"
             }
            },
            "type": "table"
           }
          ]
         },
         "layout": {
          "annotationdefaults": {
           "arrowcolor": "#2a3f5f",
           "arrowhead": 0,
           "arrowwidth": 1
          },
          "autotypenumbers": "strict",
          "coloraxis": {
           "colorbar": {
            "outlinewidth": 0,
            "ticks": ""
           }
          },
          "colorscale": {
           "diverging": [
            [
             0,
             "#8e0152"
            ],
            [
             0.1,
             "#c51b7d"
            ],
            [
             0.2,
             "#de77ae"
            ],
            [
             0.3,
             "#f1b6da"
            ],
            [
             0.4,
             "#fde0ef"
            ],
            [
             0.5,
             "#f7f7f7"
            ],
            [
             0.6,
             "#e6f5d0"
            ],
            [
             0.7,
             "#b8e186"
            ],
            [
             0.8,
             "#7fbc41"
            ],
            [
             0.9,
             "#4d9221"
            ],
            [
             1,
             "#276419"
            ]
           ],
           "sequential": [
            [
             0,
             "#0d0887"
            ],
            [
             0.1111111111111111,
             "#46039f"
            ],
            [
             0.2222222222222222,
             "#7201a8"
            ],
            [
             0.3333333333333333,
             "#9c179e"
            ],
            [
             0.4444444444444444,
             "#bd3786"
            ],
            [
             0.5555555555555556,
             "#d8576b"
            ],
            [
             0.6666666666666666,
             "#ed7953"
            ],
            [
             0.7777777777777778,
             "#fb9f3a"
            ],
            [
             0.8888888888888888,
             "#fdca26"
            ],
            [
             1,
             "#f0f921"
            ]
           ],
           "sequentialminus": [
            [
             0,
             "#0d0887"
            ],
            [
             0.1111111111111111,
             "#46039f"
            ],
            [
             0.2222222222222222,
             "#7201a8"
            ],
            [
             0.3333333333333333,
             "#9c179e"
            ],
            [
             0.4444444444444444,
             "#bd3786"
            ],
            [
             0.5555555555555556,
             "#d8576b"
            ],
            [
             0.6666666666666666,
             "#ed7953"
            ],
            [
             0.7777777777777778,
             "#fb9f3a"
            ],
            [
             0.8888888888888888,
             "#fdca26"
            ],
            [
             1,
             "#f0f921"
            ]
           ]
          },
          "colorway": [
           "#636efa",
           "#EF553B",
           "#00cc96",
           "#ab63fa",
           "#FFA15A",
           "#19d3f3",
           "#FF6692",
           "#B6E880",
           "#FF97FF",
           "#FECB52"
          ],
          "font": {
           "color": "#2a3f5f"
          },
          "geo": {
           "bgcolor": "white",
           "lakecolor": "white",
           "landcolor": "#E5ECF6",
           "showlakes": true,
           "showland": true,
           "subunitcolor": "white"
          },
          "hoverlabel": {
           "align": "left"
          },
          "hovermode": "closest",
          "mapbox": {
           "style": "light"
          },
          "paper_bgcolor": "white",
          "plot_bgcolor": "#E5ECF6",
          "polar": {
           "angularaxis": {
            "gridcolor": "white",
            "linecolor": "white",
            "ticks": ""
           },
           "bgcolor": "#E5ECF6",
           "radialaxis": {
            "gridcolor": "white",
            "linecolor": "white",
            "ticks": ""
           }
          },
          "scene": {
           "xaxis": {
            "backgroundcolor": "#E5ECF6",
            "gridcolor": "white",
            "gridwidth": 2,
            "linecolor": "white",
            "showbackground": true,
            "ticks": "",
            "zerolinecolor": "white"
           },
           "yaxis": {
            "backgroundcolor": "#E5ECF6",
            "gridcolor": "white",
            "gridwidth": 2,
            "linecolor": "white",
            "showbackground": true,
            "ticks": "",
            "zerolinecolor": "white"
           },
           "zaxis": {
            "backgroundcolor": "#E5ECF6",
            "gridcolor": "white",
            "gridwidth": 2,
            "linecolor": "white",
            "showbackground": true,
            "ticks": "",
            "zerolinecolor": "white"
           }
          },
          "shapedefaults": {
           "line": {
            "color": "#2a3f5f"
           }
          },
          "ternary": {
           "aaxis": {
            "gridcolor": "white",
            "linecolor": "white",
            "ticks": ""
           },
           "baxis": {
            "gridcolor": "white",
            "linecolor": "white",
            "ticks": ""
           },
           "bgcolor": "#E5ECF6",
           "caxis": {
            "gridcolor": "white",
            "linecolor": "white",
            "ticks": ""
           }
          },
          "title": {
           "x": 0.05
          },
          "xaxis": {
           "automargin": true,
           "gridcolor": "white",
           "linecolor": "white",
           "ticks": "",
           "title": {
            "standoff": 15
           },
           "zerolinecolor": "white",
           "zerolinewidth": 2
          },
          "yaxis": {
           "automargin": true,
           "gridcolor": "white",
           "linecolor": "white",
           "ticks": "",
           "title": {
            "standoff": 15
           },
           "zerolinecolor": "white",
           "zerolinewidth": 2
          }
         }
        },
        "title": "Position Measurement",
        "xaxis": {
         "title": {
          "text": "Time (second)"
         }
        },
        "yaxis": {
         "title": {
          "text": "Position (meters)"
         }
        }
       }
      },
      "text/html": [
       "<div\n",
       "    class=\"webio-mountpoint\"\n",
       "    data-webio-mountpoint=\"16172570053849965991\"\n",
       ">\n",
       "    <script>\n",
       "    (function(){\n",
       "    // Some integrations (namely, IJulia/Jupyter) use an alternate render pathway than\n",
       "    // just putting the html on the page. If WebIO isn't defined, then it's pretty likely\n",
       "    // that we're in one of those situations and the integration just isn't installed\n",
       "    // correctly.\n",
       "    if (typeof window.WebIO === \"undefined\") {\n",
       "        document\n",
       "            .querySelector('[data-webio-mountpoint=\"16172570053849965991\"]')\n",
       "            .innerHTML = (\n",
       "                '<div style=\"padding: 1em; background-color: #f8d6da; border: 1px solid #f5c6cb; font-weight: bold;\">' +\n",
       "                '<p><strong>WebIO not detected.</strong></p>' +\n",
       "                '<p>Please read ' +\n",
       "                '<a href=\"https://juliagizmos.github.io/WebIO.jl/latest/troubleshooting/not-detected/\" target=\"_blank\">the troubleshooting guide</a> ' +\n",
       "                'for more information on how to resolve this issue.</p>' +\n",
       "                '<p><a href=\"https://juliagizmos.github.io/WebIO.jl/latest/troubleshooting/not-detected/\" target=\"_blank\">https://juliagizmos.github.io/WebIO.jl/latest/troubleshooting/not-detected/</a></p>' +\n",
       "                '</div>'\n",
       "            );\n",
       "        return;\n",
       "    }\n",
       "    WebIO.mount(\n",
       "        document.querySelector('[data-webio-mountpoint=\"16172570053849965991\"]'),\n",
       "        {\"props\":{},\"nodeType\":\"Scope\",\"type\":\"node\",\"instanceArgs\":{\"imports\":{\"data\":[{\"name\":\"Plotly\",\"type\":\"js\",\"url\":\"\\/assetserver\\/627f17ff06762af3874159c00b9b1e00e50688bc-plotly.min.js\"},{\"name\":null,\"type\":\"js\",\"url\":\"\\/assetserver\\/1a276a0acb11ad47020d3f379225d41bbd0aeef0-plotly_webio.bundle.js\"}],\"type\":\"async_block\"},\"id\":\"4681176708259840923\",\"handlers\":{\"_toImage\":[\"(function (options){return this.Plotly.toImage(this.plotElem,options).then((function (data){return WebIO.setval({\\\"name\\\":\\\"image\\\",\\\"scope\\\":\\\"4681176708259840923\\\",\\\"id\\\":\\\"15730866891896347535\\\",\\\"type\\\":\\\"observable\\\"},data)}))})\"],\"__get_gd_contents\":[\"(function (prop){prop==\\\"data\\\" ? (WebIO.setval({\\\"name\\\":\\\"__gd_contents\\\",\\\"scope\\\":\\\"4681176708259840923\\\",\\\"id\\\":\\\"10179119410050486841\\\",\\\"type\\\":\\\"observable\\\"},this.plotElem.data)) : undefined; return prop==\\\"layout\\\" ? (WebIO.setval({\\\"name\\\":\\\"__gd_contents\\\",\\\"scope\\\":\\\"4681176708259840923\\\",\\\"id\\\":\\\"10179119410050486841\\\",\\\"type\\\":\\\"observable\\\"},this.plotElem.layout)) : undefined})\"],\"_downloadImage\":[\"(function (options){return this.Plotly.downloadImage(this.plotElem,options)})\"],\"_commands\":[\"(function (args){var fn=args.shift(); var elem=this.plotElem; var Plotly=this.Plotly; args.unshift(elem); return Plotly[fn].apply(this,args)})\"]},\"systemjs_options\":null,\"mount_callbacks\":[\"function () {\\n    var handler = ((function (Plotly,PlotlyWebIO){PlotlyWebIO.init(WebIO); var gd=this.dom.querySelector(\\\"#plot-dcd06e90-78df-41f0-a18b-b0c26141eee8\\\"); this.plotElem=gd; this.Plotly=Plotly; (window.Blink!==undefined) ? (gd.style.width=\\\"100%\\\", gd.style.height=\\\"100vh\\\", gd.style.marginLeft=\\\"0%\\\", gd.style.marginTop=\\\"0vh\\\") : undefined; window.onresize=(function (){return Plotly.Plots.resize(gd)}); Plotly.newPlot(gd,[{\\\"mode\\\":\\\"markers\\\",\\\"y\\\":[3019.89725,3019.5741324240735,3019.0311232565705,3018.2690128856825,3017.2889016122763,3016.0921934387275,3014.6805882113968,3013.0560722088444,3011.2209072844794,3009.177618686849,3006.928981692923,3004.4780071993746,3001.8279264239163,2998.9821748731806,2995.9443757354734,2992.7183228561116,2989.30796345009,2985.717380701744,2981.950776394095,2978.0124537019647,2973.9068002729914,2969.6382717096603,2965.2113755536598,2960.6306558615884,2955.900678448485,2951.0260168631294,2946.011239146726,2940.8608954146885,2935.5795062898765,2930.171552204995,2924.6414635820042,2918.9936118874098,2913.232301554222,2907.361762754259,2901.3861449982633,2895.309511536052,2889.1358345245403,2882.868990927974,2876.5127591119676,2870.070816090967,2863.54673538745,2856.943985460449,2850.265928660819,2843.5158206709693,2836.6968103874556,2829.8119402058855,2822.8641466688973,2815.856261439508,2808.7910125638628,2801.671025989253,2794.498827305225,2787.276843677588,2780.007405947163,2772.6927508671265,2765.3350234548043,2757.9362794357226,2750.4984877596157,2743.023533169921,2735.5132188100265,2727.9692688512073,2720.393331128744,2712.7869797742,2705.151717833198,2697.4889798593426,2689.800134476103,2682.086486899579,2674.3492814160927,2666.5897038094477,2658.808883733566,2651.0078970269656,2643.1877679662352,2635.3494714562894,2627.493935155746,2619.6220415362645,2611.7346298751386,2603.8324981808128,2595.916405051356,2587.987071466219,2580.0451825118644,2572.091389042092,2564.1263092740705,2556.150530321252,2548.164609664491,2540.1690765627905,2532.164433405204,2524.151157005485,2516.1296998411367,2508.1004912385506,2500.0639385059617,2492.020428015942,2483.970326239184,2475.9139807313013,2467.851721074375,2459.783859774946,2451.7106931201433,2443.632501993588,2435.5495526527034,2427.462097469005,2419.3703756329223,2411.274613824644],\\\"type\\\":\\\"scatter\\\",\\\"name\\\":\\\"True Position\\\",\\\"x\\\":[0.0,0.15,0.3,0.44999999999999996,0.6,0.75,0.8999999999999999,1.05,1.2,1.3499999999999999,1.5,1.65,1.7999999999999998,1.95,2.1,2.25,2.4,2.55,2.6999999999999997,2.85,3.0,3.15,3.3,3.4499999999999997,3.5999999999999996,3.75,3.9,4.05,4.2,4.35,4.5,4.6499999999999995,4.8,4.95,5.1,5.25,5.3999999999999995,5.55,5.7,5.85,6.0,6.1499999999999995,6.3,6.45,6.6,6.75,6.8999999999999995,7.05,7.199999999999999,7.35,7.5,7.6499999999999995,7.8,7.949999999999999,8.1,8.25,8.4,8.549999999999999,8.7,8.85,9.0,9.15,9.299999999999999,9.45,9.6,9.75,9.9,10.049999999999999,10.2,10.35,10.5,10.65,10.799999999999999,10.95,11.1,11.25,11.4,11.549999999999999,11.7,11.85,12.0,12.15,12.299999999999999,12.45,12.6,12.75,12.9,13.049999999999999,13.2,13.35,13.5,13.65,13.799999999999999,13.95,14.1,14.25,14.399999999999999,14.549999999999999,14.7,14.85]},{\\\"mode\\\":\\\"markers\\\",\\\"y\\\":[2999.5758373938656,2999.052147289332,2998.3558099298602,2997.4637785797286,2996.3663258515235,2995.0589777708865,2993.5398635745255,2991.808623302055,2989.8658828575517,2987.7129709928968,2985.351751858831,2982.784517754441,2980.013915427955,2977.042892107437,2973.8746536451645,2970.5126303713523,2966.960448014639,2963.2219020622633,2959.300934543002,2955.2016125946875,2950.928108418899,2946.484680380636,2941.8756551112892,2937.1054105377666,2932.178359801193,2927.0989360529447,2921.871578129124,2916.5007171105053,2910.9907637759934,2905.3460969554285,2899.571052783445,2893.6699148508674,2887.646905244458,2881.5061764601146,2875.2518041691933,2868.8877808126526,2862.418009993318,2855.846301632832,2849.176367856779,2842.4118195690708,2835.5561636749385,2828.6128009107133,2821.585024237986,2814.476017759651,2807.2888561156774,2800.026504317195,2792.691817978527,2785.287543908147,2777.8163210210637,2770.280681536885,2762.683052429632,2755.0257570973276,2747.311017221362,2739.5409547876507,2731.717594243617,2723.8428647670053,2715.9186026244747,2707.9465535998106,2699.928375473393,2691.8656405363063,2683.7598381241146,2675.61237715688,2667.424588673475,2659.197728349597,2650.932978990184,2642.6314529880824,2634.2941947419486,2625.922183027329,2617.5163333158116,2609.077500037954,2600.6064787864775,2592.104008456878,2583.570773323248,2575.0074050476414,2566.414484621821,2557.7925442406618,2549.1420691068797,2540.4634991670955,2531.7572307795417,2523.023618313992,2514.262975684706,2505.475577817384,2496.661662051286,2487.821429477808,2478.955046216926,2470.0626446329975,2461.1443244915044,2452.2001540583556,2443.2301711434216,2434.234384089999,2425.2127727119187,2416.1652891800127,2407.091858859661,2397.9923811011195,2388.8667299843223,2379.7147550198197,2370.5362818074927,2361.3311126546573,2352.099027155119,2342.8397827307267],\\\"type\\\":\\\"scatter\\\",\\\"name\\\":\\\"Estimated Position\\\",\\\"error_y\\\":{\\\"type\\\":\\\"data\\\",\\\"array\\\":[48.870557517303446,37.22588477641779,31.736283741340426,28.594302258970654,26.63469372153233,25.356615410523982,24.501706227123783,23.921221957904287,23.523436089134325,23.249252268685595,23.059505383452727,22.927755502043496,22.83593412321257,22.771592908631614,22.726109057591273,22.69348840220393,22.669554684778458,22.651394463032208,22.636974183527144,22.624874648517284,22.6141062261584,22.60397993550924,22.594017361544907,22.583887634012715,22.57336330683338,22.56228945447667,22.55056201864245,22.53811263232714,22.524897980797192,22.510892340648724,22.49608234510512,22.48046330869857,22.464036644159304,22.446808044272423,22.42878619953649,22.409981891186987,22.390407347301736,22.37007578343353,22.349001072830387,22.327197507830295,22.304679625577776,22.281462079291234,22.257559541956486,22.232986633264733,22.20775786336432,22.181887588914257,22.155389978264882,22.128278983522524,22.100568317903974,22.07227143723867,22.043401524791296,22.01397147879753,21.983993902259233,21.953481094653483,21.922445045285908,21.890897428073178,21.85884959757849,21.826312586152532,21.793297102053668,21.759813528437448,21.725871923118167,21.691482019015687,21.656653225209052,21.621394628525863,21.58571499560267,21.549622775357218,21.51312610181849,21.476232797265173,21.438950375627215,21.401286046109252,21.36324671699816,21.324838999620354,21.286069212417548,21.2469433851125,21.20746726293898,21.16764631091257,21.127485718121143,21.08699040201594,21.046165012686117,21.005013937101197,20.96354130330767,20.92175098456725,20.879646603425673,20.837231535702184,20.794508914390843,20.751481633465836,20.708152351583834,20.664523495677294,20.620597264433275,20.576375631653004,20.53186034948803,20.487052951549337,20.441954755886208,20.396566867832085,20.35089018271506,20.304925388430863,20.258672967876656,20.212133201244,20.16530616816976,20.11819174974376]},\\\"x\\\":[0.0,0.15,0.3,0.44999999999999996,0.6,0.75,0.8999999999999999,1.05,1.2,1.3499999999999999,1.5,1.65,1.7999999999999998,1.95,2.1,2.25,2.4,2.55,2.6999999999999997,2.85,3.0,3.15,3.3,3.4499999999999997,3.5999999999999996,3.75,3.9,4.05,4.2,4.35,4.5,4.6499999999999995,4.8,4.95,5.1,5.25,5.3999999999999995,5.55,5.7,5.85,6.0,6.1499999999999995,6.3,6.45,6.6,6.75,6.8999999999999995,7.05,7.199999999999999,7.35,7.5,7.6499999999999995,7.8,7.949999999999999,8.1,8.25,8.4,8.549999999999999,8.7,8.85,9.0,9.15,9.299999999999999,9.45,9.6,9.75,9.9,10.049999999999999,10.2,10.35,10.5,10.65,10.799999999999999,10.95,11.1,11.25,11.4,11.549999999999999,11.7,11.85,12.0,12.15,12.299999999999999,12.45,12.6,12.75,12.9,13.049999999999999,13.2,13.35,13.5,13.65,13.799999999999999,13.95,14.1,14.25,14.399999999999999,14.549999999999999,14.7,14.85]}],{\\\"xaxis\\\":{\\\"title\\\":{\\\"text\\\":\\\"Time (second)\\\"}},\\\"template\\\":{\\\"layout\\\":{\\\"coloraxis\\\":{\\\"colorbar\\\":{\\\"ticks\\\":\\\"\\\",\\\"outlinewidth\\\":0}},\\\"xaxis\\\":{\\\"gridcolor\\\":\\\"white\\\",\\\"zerolinewidth\\\":2,\\\"title\\\":{\\\"standoff\\\":15},\\\"ticks\\\":\\\"\\\",\\\"zerolinecolor\\\":\\\"white\\\",\\\"automargin\\\":true,\\\"linecolor\\\":\\\"white\\\"},\\\"hovermode\\\":\\\"closest\\\",\\\"paper_bgcolor\\\":\\\"white\\\",\\\"geo\\\":{\\\"showlakes\\\":true,\\\"showland\\\":true,\\\"landcolor\\\":\\\"#E5ECF6\\\",\\\"bgcolor\\\":\\\"white\\\",\\\"subunitcolor\\\":\\\"white\\\",\\\"lakecolor\\\":\\\"white\\\"},\\\"colorscale\\\":{\\\"sequential\\\":[[0.0,\\\"#0d0887\\\"],[0.1111111111111111,\\\"#46039f\\\"],[0.2222222222222222,\\\"#7201a8\\\"],[0.3333333333333333,\\\"#9c179e\\\"],[0.4444444444444444,\\\"#bd3786\\\"],[0.5555555555555556,\\\"#d8576b\\\"],[0.6666666666666666,\\\"#ed7953\\\"],[0.7777777777777778,\\\"#fb9f3a\\\"],[0.8888888888888888,\\\"#fdca26\\\"],[1.0,\\\"#f0f921\\\"]],\\\"diverging\\\":[[0,\\\"#8e0152\\\"],[0.1,\\\"#c51b7d\\\"],[0.2,\\\"#de77ae\\\"],[0.3,\\\"#f1b6da\\\"],[0.4,\\\"#fde0ef\\\"],[0.5,\\\"#f7f7f7\\\"],[0.6,\\\"#e6f5d0\\\"],[0.7,\\\"#b8e186\\\"],[0.8,\\\"#7fbc41\\\"],[0.9,\\\"#4d9221\\\"],[1,\\\"#276419\\\"]],\\\"sequentialminus\\\":[[0.0,\\\"#0d0887\\\"],[0.1111111111111111,\\\"#46039f\\\"],[0.2222222222222222,\\\"#7201a8\\\"],[0.3333333333333333,\\\"#9c179e\\\"],[0.4444444444444444,\\\"#bd3786\\\"],[0.5555555555555556,\\\"#d8576b\\\"],[0.6666666666666666,\\\"#ed7953\\\"],[0.7777777777777778,\\\"#fb9f3a\\\"],[0.8888888888888888,\\\"#fdca26\\\"],[1.0,\\\"#f0f921\\\"]]},\\\"yaxis\\\":{\\\"gridcolor\\\":\\\"white\\\",\\\"zerolinewidth\\\":2,\\\"title\\\":{\\\"standoff\\\":15},\\\"ticks\\\":\\\"\\\",\\\"zerolinecolor\\\":\\\"white\\\",\\\"automargin\\\":true,\\\"linecolor\\\":\\\"white\\\"},\\\"shapedefaults\\\":{\\\"line\\\":{\\\"color\\\":\\\"#2a3f5f\\\"}},\\\"hoverlabel\\\":{\\\"align\\\":\\\"left\\\"},\\\"mapbox\\\":{\\\"style\\\":\\\"light\\\"},\\\"polar\\\":{\\\"angularaxis\\\":{\\\"gridcolor\\\":\\\"white\\\",\\\"ticks\\\":\\\"\\\",\\\"linecolor\\\":\\\"white\\\"},\\\"bgcolor\\\":\\\"#E5ECF6\\\",\\\"radialaxis\\\":{\\\"gridcolor\\\":\\\"white\\\",\\\"ticks\\\":\\\"\\\",\\\"linecolor\\\":\\\"white\\\"}},\\\"autotypenumbers\\\":\\\"strict\\\",\\\"font\\\":{\\\"color\\\":\\\"#2a3f5f\\\"},\\\"ternary\\\":{\\\"baxis\\\":{\\\"gridcolor\\\":\\\"white\\\",\\\"ticks\\\":\\\"\\\",\\\"linecolor\\\":\\\"white\\\"},\\\"bgcolor\\\":\\\"#E5ECF6\\\",\\\"caxis\\\":{\\\"gridcolor\\\":\\\"white\\\",\\\"ticks\\\":\\\"\\\",\\\"linecolor\\\":\\\"white\\\"},\\\"aaxis\\\":{\\\"gridcolor\\\":\\\"white\\\",\\\"ticks\\\":\\\"\\\",\\\"linecolor\\\":\\\"white\\\"}},\\\"annotationdefaults\\\":{\\\"arrowhead\\\":0,\\\"arrowwidth\\\":1,\\\"arrowcolor\\\":\\\"#2a3f5f\\\"},\\\"plot_bgcolor\\\":\\\"#E5ECF6\\\",\\\"title\\\":{\\\"x\\\":0.05},\\\"scene\\\":{\\\"xaxis\\\":{\\\"gridcolor\\\":\\\"white\\\",\\\"gridwidth\\\":2,\\\"backgroundcolor\\\":\\\"#E5ECF6\\\",\\\"ticks\\\":\\\"\\\",\\\"showbackground\\\":true,\\\"zerolinecolor\\\":\\\"white\\\",\\\"linecolor\\\":\\\"white\\\"},\\\"zaxis\\\":{\\\"gridcolor\\\":\\\"white\\\",\\\"gridwidth\\\":2,\\\"backgroundcolor\\\":\\\"#E5ECF6\\\",\\\"ticks\\\":\\\"\\\",\\\"showbackground\\\":true,\\\"zerolinecolor\\\":\\\"white\\\",\\\"linecolor\\\":\\\"white\\\"},\\\"yaxis\\\":{\\\"gridcolor\\\":\\\"white\\\",\\\"gridwidth\\\":2,\\\"backgroundcolor\\\":\\\"#E5ECF6\\\",\\\"ticks\\\":\\\"\\\",\\\"showbackground\\\":true,\\\"zerolinecolor\\\":\\\"white\\\",\\\"linecolor\\\":\\\"white\\\"}},\\\"colorway\\\":[\\\"#636efa\\\",\\\"#EF553B\\\",\\\"#00cc96\\\",\\\"#ab63fa\\\",\\\"#FFA15A\\\",\\\"#19d3f3\\\",\\\"#FF6692\\\",\\\"#B6E880\\\",\\\"#FF97FF\\\",\\\"#FECB52\\\"]},\\\"data\\\":{\\\"barpolar\\\":[{\\\"type\\\":\\\"barpolar\\\",\\\"marker\\\":{\\\"line\\\":{\\\"color\\\":\\\"#E5ECF6\\\",\\\"width\\\":0.5}}}],\\\"carpet\\\":[{\\\"aaxis\\\":{\\\"gridcolor\\\":\\\"white\\\",\\\"endlinecolor\\\":\\\"#2a3f5f\\\",\\\"minorgridcolor\\\":\\\"white\\\",\\\"startlinecolor\\\":\\\"#2a3f5f\\\",\\\"linecolor\\\":\\\"white\\\"},\\\"type\\\":\\\"carpet\\\",\\\"baxis\\\":{\\\"gridcolor\\\":\\\"white\\\",\\\"endlinecolor\\\":\\\"#2a3f5f\\\",\\\"minorgridcolor\\\":\\\"white\\\",\\\"startlinecolor\\\":\\\"#2a3f5f\\\",\\\"linecolor\\\":\\\"white\\\"}}],\\\"scatterpolar\\\":[{\\\"type\\\":\\\"scatterpolar\\\",\\\"marker\\\":{\\\"colorbar\\\":{\\\"ticks\\\":\\\"\\\",\\\"outlinewidth\\\":0}}}],\\\"parcoords\\\":[{\\\"line\\\":{\\\"colorbar\\\":{\\\"ticks\\\":\\\"\\\",\\\"outlinewidth\\\":0}},\\\"type\\\":\\\"parcoords\\\"}],\\\"scatter\\\":[{\\\"type\\\":\\\"scatter\\\",\\\"marker\\\":{\\\"colorbar\\\":{\\\"ticks\\\":\\\"\\\",\\\"outlinewidth\\\":0}}}],\\\"histogram2dcontour\\\":[{\\\"colorbar\\\":{\\\"ticks\\\":\\\"\\\",\\\"outlinewidth\\\":0},\\\"type\\\":\\\"histogram2dcontour\\\",\\\"colorscale\\\":[[0.0,\\\"#0d0887\\\"],[0.1111111111111111,\\\"#46039f\\\"],[0.2222222222222222,\\\"#7201a8\\\"],[0.3333333333333333,\\\"#9c179e\\\"],[0.4444444444444444,\\\"#bd3786\\\"],[0.5555555555555556,\\\"#d8576b\\\"],[0.6666666666666666,\\\"#ed7953\\\"],[0.7777777777777778,\\\"#fb9f3a\\\"],[0.8888888888888888,\\\"#fdca26\\\"],[1.0,\\\"#f0f921\\\"]]}],\\\"contour\\\":[{\\\"colorbar\\\":{\\\"ticks\\\":\\\"\\\",\\\"outlinewidth\\\":0},\\\"type\\\":\\\"contour\\\",\\\"colorscale\\\":[[0.0,\\\"#0d0887\\\"],[0.1111111111111111,\\\"#46039f\\\"],[0.2222222222222222,\\\"#7201a8\\\"],[0.3333333333333333,\\\"#9c179e\\\"],[0.4444444444444444,\\\"#bd3786\\\"],[0.5555555555555556,\\\"#d8576b\\\"],[0.6666666666666666,\\\"#ed7953\\\"],[0.7777777777777778,\\\"#fb9f3a\\\"],[0.8888888888888888,\\\"#fdca26\\\"],[1.0,\\\"#f0f921\\\"]]}],\\\"scattercarpet\\\":[{\\\"type\\\":\\\"scattercarpet\\\",\\\"marker\\\":{\\\"colorbar\\\":{\\\"ticks\\\":\\\"\\\",\\\"outlinewidth\\\":0}}}],\\\"mesh3d\\\":[{\\\"colorbar\\\":{\\\"ticks\\\":\\\"\\\",\\\"outlinewidth\\\":0},\\\"type\\\":\\\"mesh3d\\\"}],\\\"surface\\\":[{\\\"colorbar\\\":{\\\"ticks\\\":\\\"\\\",\\\"outlinewidth\\\":0},\\\"type\\\":\\\"surface\\\",\\\"colorscale\\\":[[0.0,\\\"#0d0887\\\"],[0.1111111111111111,\\\"#46039f\\\"],[0.2222222222222222,\\\"#7201a8\\\"],[0.3333333333333333,\\\"#9c179e\\\"],[0.4444444444444444,\\\"#bd3786\\\"],[0.5555555555555556,\\\"#d8576b\\\"],[0.6666666666666666,\\\"#ed7953\\\"],[0.7777777777777778,\\\"#fb9f3a\\\"],[0.8888888888888888,\\\"#fdca26\\\"],[1.0,\\\"#f0f921\\\"]]}],\\\"scattermapbox\\\":[{\\\"type\\\":\\\"scattermapbox\\\",\\\"marker\\\":{\\\"colorbar\\\":{\\\"ticks\\\":\\\"\\\",\\\"outlinewidth\\\":0}}}],\\\"scattergeo\\\":[{\\\"type\\\":\\\"scattergeo\\\",\\\"marker\\\":{\\\"colorbar\\\":{\\\"ticks\\\":\\\"\\\",\\\"outlinewidth\\\":0}}}],\\\"histogram\\\":[{\\\"type\\\":\\\"histogram\\\",\\\"marker\\\":{\\\"colorbar\\\":{\\\"ticks\\\":\\\"\\\",\\\"outlinewidth\\\":0}}}],\\\"pie\\\":[{\\\"type\\\":\\\"pie\\\",\\\"automargin\\\":true}],\\\"choropleth\\\":[{\\\"colorbar\\\":{\\\"ticks\\\":\\\"\\\",\\\"outlinewidth\\\":0},\\\"type\\\":\\\"choropleth\\\"}],\\\"heatmapgl\\\":[{\\\"colorbar\\\":{\\\"ticks\\\":\\\"\\\",\\\"outlinewidth\\\":0},\\\"type\\\":\\\"heatmapgl\\\",\\\"colorscale\\\":[[0.0,\\\"#0d0887\\\"],[0.1111111111111111,\\\"#46039f\\\"],[0.2222222222222222,\\\"#7201a8\\\"],[0.3333333333333333,\\\"#9c179e\\\"],[0.4444444444444444,\\\"#bd3786\\\"],[0.5555555555555556,\\\"#d8576b\\\"],[0.6666666666666666,\\\"#ed7953\\\"],[0.7777777777777778,\\\"#fb9f3a\\\"],[0.8888888888888888,\\\"#fdca26\\\"],[1.0,\\\"#f0f921\\\"]]}],\\\"bar\\\":[{\\\"type\\\":\\\"bar\\\",\\\"error_y\\\":{\\\"color\\\":\\\"#2a3f5f\\\"},\\\"error_x\\\":{\\\"color\\\":\\\"#2a3f5f\\\"},\\\"marker\\\":{\\\"line\\\":{\\\"color\\\":\\\"#E5ECF6\\\",\\\"width\\\":0.5}}}],\\\"heatmap\\\":[{\\\"colorbar\\\":{\\\"ticks\\\":\\\"\\\",\\\"outlinewidth\\\":0},\\\"type\\\":\\\"heatmap\\\",\\\"colorscale\\\":[[0.0,\\\"#0d0887\\\"],[0.1111111111111111,\\\"#46039f\\\"],[0.2222222222222222,\\\"#7201a8\\\"],[0.3333333333333333,\\\"#9c179e\\\"],[0.4444444444444444,\\\"#bd3786\\\"],[0.5555555555555556,\\\"#d8576b\\\"],[0.6666666666666666,\\\"#ed7953\\\"],[0.7777777777777778,\\\"#fb9f3a\\\"],[0.8888888888888888,\\\"#fdca26\\\"],[1.0,\\\"#f0f921\\\"]]}],\\\"contourcarpet\\\":[{\\\"colorbar\\\":{\\\"ticks\\\":\\\"\\\",\\\"outlinewidth\\\":0},\\\"type\\\":\\\"contourcarpet\\\"}],\\\"table\\\":[{\\\"type\\\":\\\"table\\\",\\\"header\\\":{\\\"line\\\":{\\\"color\\\":\\\"white\\\"},\\\"fill\\\":{\\\"color\\\":\\\"#C8D4E3\\\"}},\\\"cells\\\":{\\\"line\\\":{\\\"color\\\":\\\"white\\\"},\\\"fill\\\":{\\\"color\\\":\\\"#EBF0F8\\\"}}}],\\\"scatter3d\\\":[{\\\"line\\\":{\\\"colorbar\\\":{\\\"ticks\\\":\\\"\\\",\\\"outlinewidth\\\":0}},\\\"type\\\":\\\"scatter3d\\\",\\\"marker\\\":{\\\"colorbar\\\":{\\\"ticks\\\":\\\"\\\",\\\"outlinewidth\\\":0}}}],\\\"scattergl\\\":[{\\\"type\\\":\\\"scattergl\\\",\\\"marker\\\":{\\\"colorbar\\\":{\\\"ticks\\\":\\\"\\\",\\\"outlinewidth\\\":0}}}],\\\"histogram2d\\\":[{\\\"colorbar\\\":{\\\"ticks\\\":\\\"\\\",\\\"outlinewidth\\\":0},\\\"type\\\":\\\"histogram2d\\\",\\\"colorscale\\\":[[0.0,\\\"#0d0887\\\"],[0.1111111111111111,\\\"#46039f\\\"],[0.2222222222222222,\\\"#7201a8\\\"],[0.3333333333333333,\\\"#9c179e\\\"],[0.4444444444444444,\\\"#bd3786\\\"],[0.5555555555555556,\\\"#d8576b\\\"],[0.6666666666666666,\\\"#ed7953\\\"],[0.7777777777777778,\\\"#fb9f3a\\\"],[0.8888888888888888,\\\"#fdca26\\\"],[1.0,\\\"#f0f921\\\"]]}],\\\"scatterternary\\\":[{\\\"type\\\":\\\"scatterternary\\\",\\\"marker\\\":{\\\"colorbar\\\":{\\\"ticks\\\":\\\"\\\",\\\"outlinewidth\\\":0}}}],\\\"scatterpolargl\\\":[{\\\"type\\\":\\\"scatterpolargl\\\",\\\"marker\\\":{\\\"colorbar\\\":{\\\"ticks\\\":\\\"\\\",\\\"outlinewidth\\\":0}}}]}},\\\"legend\\\":{\\\"title\\\":\\\"Legend Title\\\"},\\\"margin\\\":{\\\"l\\\":50,\\\"b\\\":50,\\\"r\\\":50,\\\"t\\\":60},\\\"title\\\":\\\"Position Measurement\\\",\\\"yaxis\\\":{\\\"title\\\":{\\\"text\\\":\\\"Position (meters)\\\"}}},{\\\"showLink\\\":false,\\\"editable\\\":false,\\\"responsive\\\":true,\\\"staticPlot\\\":false,\\\"scrollZoom\\\":true}); gd.on(\\\"plotly_hover\\\",(function (data){var filtered_data=WebIO.PlotlyCommands.filterEventData(gd,data,\\\"hover\\\"); return !(filtered_data.isnil) ? (WebIO.setval({\\\"name\\\":\\\"hover\\\",\\\"scope\\\":\\\"4681176708259840923\\\",\\\"id\\\":\\\"4206046236250121247\\\",\\\"type\\\":\\\"observable\\\"},filtered_data.out)) : undefined})); gd.on(\\\"plotly_unhover\\\",(function (){return WebIO.setval({\\\"name\\\":\\\"hover\\\",\\\"scope\\\":\\\"4681176708259840923\\\",\\\"id\\\":\\\"4206046236250121247\\\",\\\"type\\\":\\\"observable\\\"},{})})); gd.on(\\\"plotly_selected\\\",(function (data){var filtered_data=WebIO.PlotlyCommands.filterEventData(gd,data,\\\"selected\\\"); return !(filtered_data.isnil) ? (WebIO.setval({\\\"name\\\":\\\"selected\\\",\\\"scope\\\":\\\"4681176708259840923\\\",\\\"id\\\":\\\"17093651842228983697\\\",\\\"type\\\":\\\"observable\\\"},filtered_data.out)) : undefined})); gd.on(\\\"plotly_deselect\\\",(function (){return WebIO.setval({\\\"name\\\":\\\"selected\\\",\\\"scope\\\":\\\"4681176708259840923\\\",\\\"id\\\":\\\"17093651842228983697\\\",\\\"type\\\":\\\"observable\\\"},{})})); gd.on(\\\"plotly_relayout\\\",(function (data){var filtered_data=WebIO.PlotlyCommands.filterEventData(gd,data,\\\"relayout\\\"); return !(filtered_data.isnil) ? (WebIO.setval({\\\"name\\\":\\\"relayout\\\",\\\"scope\\\":\\\"4681176708259840923\\\",\\\"id\\\":\\\"12534389760849284760\\\",\\\"type\\\":\\\"observable\\\"},filtered_data.out)) : undefined})); return gd.on(\\\"plotly_click\\\",(function (data){var filtered_data=WebIO.PlotlyCommands.filterEventData(gd,data,\\\"click\\\"); return !(filtered_data.isnil) ? (WebIO.setval({\\\"name\\\":\\\"click\\\",\\\"scope\\\":\\\"4681176708259840923\\\",\\\"id\\\":\\\"18038220787927359376\\\",\\\"type\\\":\\\"observable\\\"},filtered_data.out)) : undefined}))}));\\n    (WebIO.importBlock({\\\"data\\\":[{\\\"name\\\":\\\"Plotly\\\",\\\"type\\\":\\\"js\\\",\\\"url\\\":\\\"\\/assetserver\\/627f17ff06762af3874159c00b9b1e00e50688bc-plotly.min.js\\\"},{\\\"name\\\":null,\\\"type\\\":\\\"js\\\",\\\"url\\\":\\\"\\/assetserver\\/1a276a0acb11ad47020d3f379225d41bbd0aeef0-plotly_webio.bundle.js\\\"}],\\\"type\\\":\\\"async_block\\\"})).then((imports) => handler.apply(this, imports));\\n}\\n\"],\"observables\":{\"_toImage\":{\"sync\":false,\"id\":\"1554781348604432251\",\"value\":{}},\"hover\":{\"sync\":false,\"id\":\"4206046236250121247\",\"value\":{}},\"selected\":{\"sync\":false,\"id\":\"17093651842228983697\",\"value\":{}},\"__gd_contents\":{\"sync\":false,\"id\":\"10179119410050486841\",\"value\":{}},\"click\":{\"sync\":false,\"id\":\"18038220787927359376\",\"value\":{}},\"image\":{\"sync\":true,\"id\":\"15730866891896347535\",\"value\":\"\"},\"__get_gd_contents\":{\"sync\":false,\"id\":\"7666043527554888551\",\"value\":\"\"},\"_downloadImage\":{\"sync\":false,\"id\":\"13305162925701057644\",\"value\":{}},\"relayout\":{\"sync\":false,\"id\":\"12534389760849284760\",\"value\":{}},\"_commands\":{\"sync\":false,\"id\":\"9459618211887546895\",\"value\":[]}}},\"children\":[{\"props\":{\"id\":\"plot-dcd06e90-78df-41f0-a18b-b0c26141eee8\"},\"nodeType\":\"DOM\",\"type\":\"node\",\"instanceArgs\":{\"namespace\":\"html\",\"tag\":\"div\"},\"children\":[]}]},\n",
       "        window,\n",
       "    );\n",
       "    })()\n",
       "    </script>\n",
       "</div>\n"
      ],
      "text/plain": [
       "data: [\n",
       "  \"scatter with fields mode, name, type, x, and y\",\n",
       "  \"scatter with fields error_y, mode, name, type, x, and y\"\n",
       "]\n",
       "\n",
       "layout: \"layout with fields legend, margin, template, title, xaxis, and yaxis\"\n",
       "\n"
      ]
     },
     "execution_count": 425,
     "metadata": {},
     "output_type": "execute_result"
    }
   ],
   "source": [
    "plot(\n",
    "    [\n",
    "        # True position\n",
    "        scatter(\n",
    "            mode=\"markers\",\n",
    "            x=time_axis_sec,\n",
    "            y=[tr_st[1] for tr_st in true_state_fcn_time],\n",
    "            name=\"True Position\"\n",
    "        ),\n",
    "        # Estimated position\n",
    "        scatter(\n",
    "            mode=\"markers\",\n",
    "            x=time_axis_sec,\n",
    "            y=[s.state[1] for s in states_fcn_time],\n",
    "            error_y=attr(\n",
    "                type=\"data\",\n",
    "                array=[sqrt(s.cov[1, 1]) for s in states_fcn_time]\n",
    "            ),\n",
    "            name=\"Estimated Position\"\n",
    "        )\n",
    "    ],\n",
    "    Layout(\n",
    "        title=\"Position Measurement\",\n",
    "        xaxis_title=\"Time (second)\",\n",
    "        yaxis_title=\"Position (meters)\",\n",
    "        legend_title=\"Legend Title\",\n",
    "    ),\n",
    "    config=PlotConfig(scrollZoom=true)\n",
    ")"
   ]
  },
  {
   "cell_type": "code",
   "execution_count": 426,
   "id": "d5e967dd",
   "metadata": {},
   "outputs": [
    {
     "data": {
      "application/vnd.plotly.v1+json": {
       "config": {
        "editable": false,
        "responsive": true,
        "scrollZoom": true,
        "showLink": false,
        "staticPlot": false
       },
       "data": [
        {
         "mode": "markers",
         "name": "True Velocity",
         "type": "scatter",
         "x": [
          0,
          0.15,
          0.3,
          0.44999999999999996,
          0.6,
          0.75,
          0.8999999999999999,
          1.05,
          1.2,
          1.3499999999999999,
          1.5,
          1.65,
          1.7999999999999998,
          1.95,
          2.1,
          2.25,
          2.4,
          2.55,
          2.6999999999999997,
          2.85,
          3,
          3.15,
          3.3,
          3.4499999999999997,
          3.5999999999999996,
          3.75,
          3.9,
          4.05,
          4.2,
          4.35,
          4.5,
          4.6499999999999995,
          4.8,
          4.95,
          5.1,
          5.25,
          5.3999999999999995,
          5.55,
          5.7,
          5.85,
          6,
          6.1499999999999995,
          6.3,
          6.45,
          6.6,
          6.75,
          6.8999999999999995,
          7.05,
          7.199999999999999,
          7.35,
          7.5,
          7.6499999999999995,
          7.8,
          7.949999999999999,
          8.1,
          8.25,
          8.4,
          8.549999999999999,
          8.7,
          8.85,
          9,
          9.15,
          9.299999999999999,
          9.45,
          9.6,
          9.75,
          9.9,
          10.049999999999999,
          10.2,
          10.35,
          10.5,
          10.65,
          10.799999999999999,
          10.95,
          11.1,
          11.25,
          11.4,
          11.549999999999999,
          11.7,
          11.85,
          12,
          12.15,
          12.299999999999999,
          12.45,
          12.6,
          12.75,
          12.9,
          13.049999999999999,
          13.2,
          13.35,
          13.5,
          13.65,
          13.799999999999999,
          13.95,
          14.1,
          14.25,
          14.399999999999999,
          14.549999999999999,
          14.7,
          14.85
         ],
         "y": [
          -1.42,
          -2.887881316675402,
          -4.3515368827399925,
          -5.80888371366094,
          -7.257874575914898,
          -8.69650922912353,
          -10.122845113788573,
          -11.535007367438162,
          -12.931198065207317,
          -14.309704595815438,
          -15.668907100141707,
          -17.007284916682522,
          -18.323421995645425,
          -19.61601126084488,
          -20.883857915497064,
          -22.12588170408384,
          -23.341118157340514,
          -24.528718860846972,
          -25.6879507994579,
          -26.818194839751065,
          -27.91894342072153,
          -28.989797529083337,
          -30.03046303979164,
          -31.0407465048487,
          -32.02055047422749,
          -32.969868431989276,
          -33.888779428561314,
          -34.77744248686823,
          -35.636090855772146,
          -36.465026179269415,
          -37.264612644307604,
          -38.03527116410517,
          -38.7774736476457,
          -39.491737399727114,
          -40.178619689705705,
          -40.83871252099603,
          -41.47263762756286,
          -42.08104171814307,
          -42.66459198381906,
          -43.223971879868884,
          -43.7598771885661,
          -44.27301236580467,
          -44.76408717108111,
          -45.23381357746769,
          -45.68290295574007,
          -46.11206352475753,
          -46.521998058507194,
          -46.913401838884845,
          -47.28696084226402,
          -47.64335014716792,
          -47.98323254987501,
          -48.30725737452647,
          -48.61605946423247,
          -48.910258339766095,
          -49.19045751266235,
          -49.45724393988084,
          -49.711187607622385,
          -49.95284123239223,
          -50.182740067958484,
          -50.4014018074478,
          -50.60932657043877,
          -50.80699696554457,
          -50.99487821961105,
          -51.173418365286274,
          -51.3430484793359,
          -51.50418296468043,
          -51.65721986971089,
          -51.802541238995715,
          -51.94051349002156,
          -52.071487811112036,
          -52.19580057614089,
          -52.313773772098806,
          -52.42571543598627,
          -52.53192009788892,
          -52.63266922744724,
          -52.728231681260354,
          -52.81886414906503,
          -52.90481159680677,
          -52.98630770497198,
          -53.063575300779206,
          -53.136826783035474,
          -53.206264538651354,
          -53.27208134997793,
          -53.334460792280765,
          -53.39357762080188,
          -53.44959814698234,
          -53.50268060352567,
          -53.55297549807771,
          -53.60062595538276,
          -53.645768047849465,
          -53.68853111452437,
          -53.729038068526904,
          -53.767405693047806,
          -53.80374492605427,
          -53.83816113388011,
          -53.87075437390871,
          -53.90161964658114,
          -53.93084713698155,
          -53.95852244626838,
          -53.98472681323218
         ]
        },
        {
         "error_y": {
          "array": [
           1.4114578980044392,
           1.72942673699349,
           1.997521322518748,
           2.2336560863598534,
           2.4470508170892717,
           2.6431749022887336,
           2.8255795051823944,
           2.996718946577688,
           3.15836920759945,
           3.31186168327149,
           3.4582230868976156,
           3.5982637985463515,
           3.732636086168231,
           3.8618738235913286,
           3.9864203741499016,
           4.106648647733198,
           4.222875835122546,
           4.33537443554744,
           4.4443806492098155,
           4.550100862259103,
           4.6527167279605175,
           4.752389199026319,
           4.849261765201876,
           4.943463080626218,
           5.035109116779171,
           5.124304942259802,
           5.211146205797304,
           5.295720380825971,
           5.378107816662048,
           5.458382631430554,
           5.536613474453092,
           5.612864180155723,
           5.687194331216748,
           5.759659745309789,
           5.830312897164263,
           5.8992032855856005,
           5.966377753421088,
           6.03188076712716,
           6.095754661518016,
           6.15803985439891,
           6.218775035068706,
           6.277997330083251,
           6.335742449179119,
           6.3920448138467565,
           6.446937670697921,
           6.500453191482439,
           6.5526225613639095,
           6.603476056855583,
           6.653043114639686,
           6.701352392341098,
           6.748431822195261,
           6.794308658437072,
           6.839009519139637,
           6.882560423146645,
           6.9249868226679485,
           6.966313632043128,
           7.006565253120896,
           7.045765597652259,
           7.0839381070512,
           7.12110576983775,
           7.1572911370437255,
           7.1925163358308195,
           7.226803081543438,
           7.260172688394379,
           7.29264607895979,
           7.324243792640406,
           7.354985993228758,
           7.384892475706481,
           7.413982672381885,
           7.442275658465465,
           7.469790157169771,
           7.496544544409964,
           7.522556853172316,
           7.547844777609757,
           7.57242567691626,
           7.596316579025268,
           7.619534184171471,
           7.642094868349961,
           7.664014686702034,
           7.685309376852668,
           7.705994362220933,
           7.726084755321174,
           7.745595361069826,
           7.7645406801100165,
           7.782934912163737,
           7.800791959419292,
           7.818125429959843,
           7.834948641237267,
           7.851274623594107,
           7.867116123835169,
           7.88248560884923,
           7.897395269280402,
           7.911857023247924,
           7.925882520112443,
           7.939483144286335,
           7.952670019085104,
           7.96545401061657,
           7.977845731704198,
           7.989855545840739,
           8.00149357116816
          ],
          "type": "data"
         },
         "mode": "markers",
         "name": "Estimated Velocity",
         "type": "scatter",
         "x": [
          0,
          0.15,
          0.3,
          0.44999999999999996,
          0.6,
          0.75,
          0.8999999999999999,
          1.05,
          1.2,
          1.3499999999999999,
          1.5,
          1.65,
          1.7999999999999998,
          1.95,
          2.1,
          2.25,
          2.4,
          2.55,
          2.6999999999999997,
          2.85,
          3,
          3.15,
          3.3,
          3.4499999999999997,
          3.5999999999999996,
          3.75,
          3.9,
          4.05,
          4.2,
          4.35,
          4.5,
          4.6499999999999995,
          4.8,
          4.95,
          5.1,
          5.25,
          5.3999999999999995,
          5.55,
          5.7,
          5.85,
          6,
          6.1499999999999995,
          6.3,
          6.45,
          6.6,
          6.75,
          6.8999999999999995,
          7.05,
          7.199999999999999,
          7.35,
          7.5,
          7.6499999999999995,
          7.8,
          7.949999999999999,
          8.1,
          8.25,
          8.4,
          8.549999999999999,
          8.7,
          8.85,
          9,
          9.15,
          9.299999999999999,
          9.45,
          9.6,
          9.75,
          9.9,
          10.049999999999999,
          10.2,
          10.35,
          10.5,
          10.65,
          10.799999999999999,
          10.95,
          11.1,
          11.25,
          11.4,
          11.549999999999999,
          11.7,
          11.85,
          12,
          12.15,
          12.299999999999999,
          12.45,
          12.6,
          12.75,
          12.9,
          13.049999999999999,
          13.2,
          13.35,
          13.5,
          13.65,
          13.799999999999999,
          13.95,
          14.1,
          14.25,
          14.399999999999999,
          14.549999999999999,
          14.7,
          14.85
         ],
         "y": [
          -1.4691951125053608,
          -2.9394043973300295,
          -4.407474809897132,
          -5.871335345297601,
          -7.328925431615483,
          -8.77821446348162,
          -10.217215602149745,
          -11.643997544866945,
          -13.056695116024502,
          -14.453518882841442,
          -15.832763816027699,
          -17.192816963830033,
          -18.532164099386065,
          -19.849395309129235,
          -21.143209504031873,
          -22.412417851509968,
          -23.655946141868586,
          -24.87283611824945,
          -26.062245812628767,
          -27.223448942224206,
          -28.355833430563763,
          -29.45889912539348,
          -30.532254791565066,
          -31.575614461107726,
          -32.58879322494936,
          -33.571702551343485,
          -34.52434521513691,
          -35.446809919757655,
          -36.339265690402044,
          -37.201956112550086,
          -38.03519348483449,
          -38.839352949620356,
          -39.61486665859806,
          -40.36221802441714,
          -41.08193610304115,
          -41.77459014521296,
          -42.44078434929722,
          -43.08115284190269,
          -43.69635490715464,
          -44.287070480340205,
          -44.853995916926934,
          -45.39784004367886,
          -45.91932049477649,
          -46.419160332486406,
          -46.89808494901309,
          -47.356819243682395,
          -47.79608506753072,
          -48.21659892567837,
          -48.619069926520886,
          -49.004197965745014,
          -49.372672132436044,
          -49.725169324056374,
          -50.062353056811226,
          -50.384872457845276,
          -50.6933614258062,
          -50.98843794654013,
          -51.2707035510265,
          -51.540742903092884,
          -51.799123504954885,
          -52.04639550918386,
          -52.283091626301406,
          -52.50972711781998,
          -52.726799865182585,
          -52.93479050569186,
          -53.13416262715085,
          -53.32536301355868,
          -53.50882193480833,
          -53.68495347391648,
          -53.85415588587389,
          -54.01681198273665,
          -54.173289540082074,
          -54.323941720427165,
          -54.46910750965227,
          -54.60911216288724,
          -54.74426765670296,
          -54.874873144808106,
          -55.00121541478004,
          -55.123569343661345,
          -55.24219835053056,
          -55.35735484440856,
          -55.469280666092246,
          -55.57820752271577,
          -55.68435741402826,
          -55.78794304954701,
          -55.889168255897594,
          -55.98822837378927,
          -56.08531064419554,
          -56.180594583418184,
          -56.2742523468089,
          -56.36644908100691,
          -56.45734326462519,
          -56.547087037382354,
          -56.63582651773368,
          -56.72370210910256,
          -56.8108487948557,
          -56.89739642220014,
          -56.98346997520968,
          -57.069189837213024,
          -57.15467204279586,
          -57.240028519684934
         ]
        }
       ],
       "frames": [],
       "layout": {
        "legend": {
         "title": "Legend Title"
        },
        "margin": {
         "b": 50,
         "l": 50,
         "r": 50,
         "t": 60
        },
        "template": {
         "data": {
          "bar": [
           {
            "error_x": {
             "color": "#2a3f5f"
            },
            "error_y": {
             "color": "#2a3f5f"
            },
            "marker": {
             "line": {
              "color": "#E5ECF6",
              "width": 0.5
             }
            },
            "type": "bar"
           }
          ],
          "barpolar": [
           {
            "marker": {
             "line": {
              "color": "#E5ECF6",
              "width": 0.5
             }
            },
            "type": "barpolar"
           }
          ],
          "carpet": [
           {
            "aaxis": {
             "endlinecolor": "#2a3f5f",
             "gridcolor": "white",
             "linecolor": "white",
             "minorgridcolor": "white",
             "startlinecolor": "#2a3f5f"
            },
            "baxis": {
             "endlinecolor": "#2a3f5f",
             "gridcolor": "white",
             "linecolor": "white",
             "minorgridcolor": "white",
             "startlinecolor": "#2a3f5f"
            },
            "type": "carpet"
           }
          ],
          "choropleth": [
           {
            "colorbar": {
             "outlinewidth": 0,
             "ticks": ""
            },
            "type": "choropleth"
           }
          ],
          "contour": [
           {
            "colorbar": {
             "outlinewidth": 0,
             "ticks": ""
            },
            "colorscale": [
             [
              0,
              "#0d0887"
             ],
             [
              0.1111111111111111,
              "#46039f"
             ],
             [
              0.2222222222222222,
              "#7201a8"
             ],
             [
              0.3333333333333333,
              "#9c179e"
             ],
             [
              0.4444444444444444,
              "#bd3786"
             ],
             [
              0.5555555555555556,
              "#d8576b"
             ],
             [
              0.6666666666666666,
              "#ed7953"
             ],
             [
              0.7777777777777778,
              "#fb9f3a"
             ],
             [
              0.8888888888888888,
              "#fdca26"
             ],
             [
              1,
              "#f0f921"
             ]
            ],
            "type": "contour"
           }
          ],
          "contourcarpet": [
           {
            "colorbar": {
             "outlinewidth": 0,
             "ticks": ""
            },
            "type": "contourcarpet"
           }
          ],
          "heatmap": [
           {
            "colorbar": {
             "outlinewidth": 0,
             "ticks": ""
            },
            "colorscale": [
             [
              0,
              "#0d0887"
             ],
             [
              0.1111111111111111,
              "#46039f"
             ],
             [
              0.2222222222222222,
              "#7201a8"
             ],
             [
              0.3333333333333333,
              "#9c179e"
             ],
             [
              0.4444444444444444,
              "#bd3786"
             ],
             [
              0.5555555555555556,
              "#d8576b"
             ],
             [
              0.6666666666666666,
              "#ed7953"
             ],
             [
              0.7777777777777778,
              "#fb9f3a"
             ],
             [
              0.8888888888888888,
              "#fdca26"
             ],
             [
              1,
              "#f0f921"
             ]
            ],
            "type": "heatmap"
           }
          ],
          "heatmapgl": [
           {
            "colorbar": {
             "outlinewidth": 0,
             "ticks": ""
            },
            "colorscale": [
             [
              0,
              "#0d0887"
             ],
             [
              0.1111111111111111,
              "#46039f"
             ],
             [
              0.2222222222222222,
              "#7201a8"
             ],
             [
              0.3333333333333333,
              "#9c179e"
             ],
             [
              0.4444444444444444,
              "#bd3786"
             ],
             [
              0.5555555555555556,
              "#d8576b"
             ],
             [
              0.6666666666666666,
              "#ed7953"
             ],
             [
              0.7777777777777778,
              "#fb9f3a"
             ],
             [
              0.8888888888888888,
              "#fdca26"
             ],
             [
              1,
              "#f0f921"
             ]
            ],
            "type": "heatmapgl"
           }
          ],
          "histogram": [
           {
            "marker": {
             "colorbar": {
              "outlinewidth": 0,
              "ticks": ""
             }
            },
            "type": "histogram"
           }
          ],
          "histogram2d": [
           {
            "colorbar": {
             "outlinewidth": 0,
             "ticks": ""
            },
            "colorscale": [
             [
              0,
              "#0d0887"
             ],
             [
              0.1111111111111111,
              "#46039f"
             ],
             [
              0.2222222222222222,
              "#7201a8"
             ],
             [
              0.3333333333333333,
              "#9c179e"
             ],
             [
              0.4444444444444444,
              "#bd3786"
             ],
             [
              0.5555555555555556,
              "#d8576b"
             ],
             [
              0.6666666666666666,
              "#ed7953"
             ],
             [
              0.7777777777777778,
              "#fb9f3a"
             ],
             [
              0.8888888888888888,
              "#fdca26"
             ],
             [
              1,
              "#f0f921"
             ]
            ],
            "type": "histogram2d"
           }
          ],
          "histogram2dcontour": [
           {
            "colorbar": {
             "outlinewidth": 0,
             "ticks": ""
            },
            "colorscale": [
             [
              0,
              "#0d0887"
             ],
             [
              0.1111111111111111,
              "#46039f"
             ],
             [
              0.2222222222222222,
              "#7201a8"
             ],
             [
              0.3333333333333333,
              "#9c179e"
             ],
             [
              0.4444444444444444,
              "#bd3786"
             ],
             [
              0.5555555555555556,
              "#d8576b"
             ],
             [
              0.6666666666666666,
              "#ed7953"
             ],
             [
              0.7777777777777778,
              "#fb9f3a"
             ],
             [
              0.8888888888888888,
              "#fdca26"
             ],
             [
              1,
              "#f0f921"
             ]
            ],
            "type": "histogram2dcontour"
           }
          ],
          "mesh3d": [
           {
            "colorbar": {
             "outlinewidth": 0,
             "ticks": ""
            },
            "type": "mesh3d"
           }
          ],
          "parcoords": [
           {
            "line": {
             "colorbar": {
              "outlinewidth": 0,
              "ticks": ""
             }
            },
            "type": "parcoords"
           }
          ],
          "pie": [
           {
            "automargin": true,
            "type": "pie"
           }
          ],
          "scatter": [
           {
            "marker": {
             "colorbar": {
              "outlinewidth": 0,
              "ticks": ""
             }
            },
            "type": "scatter"
           }
          ],
          "scatter3d": [
           {
            "line": {
             "colorbar": {
              "outlinewidth": 0,
              "ticks": ""
             }
            },
            "marker": {
             "colorbar": {
              "outlinewidth": 0,
              "ticks": ""
             }
            },
            "type": "scatter3d"
           }
          ],
          "scattercarpet": [
           {
            "marker": {
             "colorbar": {
              "outlinewidth": 0,
              "ticks": ""
             }
            },
            "type": "scattercarpet"
           }
          ],
          "scattergeo": [
           {
            "marker": {
             "colorbar": {
              "outlinewidth": 0,
              "ticks": ""
             }
            },
            "type": "scattergeo"
           }
          ],
          "scattergl": [
           {
            "marker": {
             "colorbar": {
              "outlinewidth": 0,
              "ticks": ""
             }
            },
            "type": "scattergl"
           }
          ],
          "scattermapbox": [
           {
            "marker": {
             "colorbar": {
              "outlinewidth": 0,
              "ticks": ""
             }
            },
            "type": "scattermapbox"
           }
          ],
          "scatterpolar": [
           {
            "marker": {
             "colorbar": {
              "outlinewidth": 0,
              "ticks": ""
             }
            },
            "type": "scatterpolar"
           }
          ],
          "scatterpolargl": [
           {
            "marker": {
             "colorbar": {
              "outlinewidth": 0,
              "ticks": ""
             }
            },
            "type": "scatterpolargl"
           }
          ],
          "scatterternary": [
           {
            "marker": {
             "colorbar": {
              "outlinewidth": 0,
              "ticks": ""
             }
            },
            "type": "scatterternary"
           }
          ],
          "surface": [
           {
            "colorbar": {
             "outlinewidth": 0,
             "ticks": ""
            },
            "colorscale": [
             [
              0,
              "#0d0887"
             ],
             [
              0.1111111111111111,
              "#46039f"
             ],
             [
              0.2222222222222222,
              "#7201a8"
             ],
             [
              0.3333333333333333,
              "#9c179e"
             ],
             [
              0.4444444444444444,
              "#bd3786"
             ],
             [
              0.5555555555555556,
              "#d8576b"
             ],
             [
              0.6666666666666666,
              "#ed7953"
             ],
             [
              0.7777777777777778,
              "#fb9f3a"
             ],
             [
              0.8888888888888888,
              "#fdca26"
             ],
             [
              1,
              "#f0f921"
             ]
            ],
            "type": "surface"
           }
          ],
          "table": [
           {
            "cells": {
             "fill": {
              "color": "#EBF0F8"
             },
             "line": {
              "color": "white"
             }
            },
            "header": {
             "fill": {
              "color": "#C8D4E3"
             },
             "line": {
              "color": "white"
             }
            },
            "type": "table"
           }
          ]
         },
         "layout": {
          "annotationdefaults": {
           "arrowcolor": "#2a3f5f",
           "arrowhead": 0,
           "arrowwidth": 1
          },
          "autotypenumbers": "strict",
          "coloraxis": {
           "colorbar": {
            "outlinewidth": 0,
            "ticks": ""
           }
          },
          "colorscale": {
           "diverging": [
            [
             0,
             "#8e0152"
            ],
            [
             0.1,
             "#c51b7d"
            ],
            [
             0.2,
             "#de77ae"
            ],
            [
             0.3,
             "#f1b6da"
            ],
            [
             0.4,
             "#fde0ef"
            ],
            [
             0.5,
             "#f7f7f7"
            ],
            [
             0.6,
             "#e6f5d0"
            ],
            [
             0.7,
             "#b8e186"
            ],
            [
             0.8,
             "#7fbc41"
            ],
            [
             0.9,
             "#4d9221"
            ],
            [
             1,
             "#276419"
            ]
           ],
           "sequential": [
            [
             0,
             "#0d0887"
            ],
            [
             0.1111111111111111,
             "#46039f"
            ],
            [
             0.2222222222222222,
             "#7201a8"
            ],
            [
             0.3333333333333333,
             "#9c179e"
            ],
            [
             0.4444444444444444,
             "#bd3786"
            ],
            [
             0.5555555555555556,
             "#d8576b"
            ],
            [
             0.6666666666666666,
             "#ed7953"
            ],
            [
             0.7777777777777778,
             "#fb9f3a"
            ],
            [
             0.8888888888888888,
             "#fdca26"
            ],
            [
             1,
             "#f0f921"
            ]
           ],
           "sequentialminus": [
            [
             0,
             "#0d0887"
            ],
            [
             0.1111111111111111,
             "#46039f"
            ],
            [
             0.2222222222222222,
             "#7201a8"
            ],
            [
             0.3333333333333333,
             "#9c179e"
            ],
            [
             0.4444444444444444,
             "#bd3786"
            ],
            [
             0.5555555555555556,
             "#d8576b"
            ],
            [
             0.6666666666666666,
             "#ed7953"
            ],
            [
             0.7777777777777778,
             "#fb9f3a"
            ],
            [
             0.8888888888888888,
             "#fdca26"
            ],
            [
             1,
             "#f0f921"
            ]
           ]
          },
          "colorway": [
           "#636efa",
           "#EF553B",
           "#00cc96",
           "#ab63fa",
           "#FFA15A",
           "#19d3f3",
           "#FF6692",
           "#B6E880",
           "#FF97FF",
           "#FECB52"
          ],
          "font": {
           "color": "#2a3f5f"
          },
          "geo": {
           "bgcolor": "white",
           "lakecolor": "white",
           "landcolor": "#E5ECF6",
           "showlakes": true,
           "showland": true,
           "subunitcolor": "white"
          },
          "hoverlabel": {
           "align": "left"
          },
          "hovermode": "closest",
          "mapbox": {
           "style": "light"
          },
          "paper_bgcolor": "white",
          "plot_bgcolor": "#E5ECF6",
          "polar": {
           "angularaxis": {
            "gridcolor": "white",
            "linecolor": "white",
            "ticks": ""
           },
           "bgcolor": "#E5ECF6",
           "radialaxis": {
            "gridcolor": "white",
            "linecolor": "white",
            "ticks": ""
           }
          },
          "scene": {
           "xaxis": {
            "backgroundcolor": "#E5ECF6",
            "gridcolor": "white",
            "gridwidth": 2,
            "linecolor": "white",
            "showbackground": true,
            "ticks": "",
            "zerolinecolor": "white"
           },
           "yaxis": {
            "backgroundcolor": "#E5ECF6",
            "gridcolor": "white",
            "gridwidth": 2,
            "linecolor": "white",
            "showbackground": true,
            "ticks": "",
            "zerolinecolor": "white"
           },
           "zaxis": {
            "backgroundcolor": "#E5ECF6",
            "gridcolor": "white",
            "gridwidth": 2,
            "linecolor": "white",
            "showbackground": true,
            "ticks": "",
            "zerolinecolor": "white"
           }
          },
          "shapedefaults": {
           "line": {
            "color": "#2a3f5f"
           }
          },
          "ternary": {
           "aaxis": {
            "gridcolor": "white",
            "linecolor": "white",
            "ticks": ""
           },
           "baxis": {
            "gridcolor": "white",
            "linecolor": "white",
            "ticks": ""
           },
           "bgcolor": "#E5ECF6",
           "caxis": {
            "gridcolor": "white",
            "linecolor": "white",
            "ticks": ""
           }
          },
          "title": {
           "x": 0.05
          },
          "xaxis": {
           "automargin": true,
           "gridcolor": "white",
           "linecolor": "white",
           "ticks": "",
           "title": {
            "standoff": 15
           },
           "zerolinecolor": "white",
           "zerolinewidth": 2
          },
          "yaxis": {
           "automargin": true,
           "gridcolor": "white",
           "linecolor": "white",
           "ticks": "",
           "title": {
            "standoff": 15
           },
           "zerolinecolor": "white",
           "zerolinewidth": 2
          }
         }
        },
        "title": "Velocity Measurement",
        "xaxis": {
         "title": {
          "text": "Time (second)"
         }
        },
        "yaxis": {
         "title": {
          "text": "Velocity (meters / seconds)"
         }
        }
       }
      },
      "text/html": [
       "<div\n",
       "    class=\"webio-mountpoint\"\n",
       "    data-webio-mountpoint=\"18019612615472040821\"\n",
       ">\n",
       "    <script>\n",
       "    (function(){\n",
       "    // Some integrations (namely, IJulia/Jupyter) use an alternate render pathway than\n",
       "    // just putting the html on the page. If WebIO isn't defined, then it's pretty likely\n",
       "    // that we're in one of those situations and the integration just isn't installed\n",
       "    // correctly.\n",
       "    if (typeof window.WebIO === \"undefined\") {\n",
       "        document\n",
       "            .querySelector('[data-webio-mountpoint=\"18019612615472040821\"]')\n",
       "            .innerHTML = (\n",
       "                '<div style=\"padding: 1em; background-color: #f8d6da; border: 1px solid #f5c6cb; font-weight: bold;\">' +\n",
       "                '<p><strong>WebIO not detected.</strong></p>' +\n",
       "                '<p>Please read ' +\n",
       "                '<a href=\"https://juliagizmos.github.io/WebIO.jl/latest/troubleshooting/not-detected/\" target=\"_blank\">the troubleshooting guide</a> ' +\n",
       "                'for more information on how to resolve this issue.</p>' +\n",
       "                '<p><a href=\"https://juliagizmos.github.io/WebIO.jl/latest/troubleshooting/not-detected/\" target=\"_blank\">https://juliagizmos.github.io/WebIO.jl/latest/troubleshooting/not-detected/</a></p>' +\n",
       "                '</div>'\n",
       "            );\n",
       "        return;\n",
       "    }\n",
       "    WebIO.mount(\n",
       "        document.querySelector('[data-webio-mountpoint=\"18019612615472040821\"]'),\n",
       "        {\"props\":{},\"nodeType\":\"Scope\",\"type\":\"node\",\"instanceArgs\":{\"imports\":{\"data\":[{\"name\":\"Plotly\",\"type\":\"js\",\"url\":\"\\/assetserver\\/627f17ff06762af3874159c00b9b1e00e50688bc-plotly.min.js\"},{\"name\":null,\"type\":\"js\",\"url\":\"\\/assetserver\\/1a276a0acb11ad47020d3f379225d41bbd0aeef0-plotly_webio.bundle.js\"}],\"type\":\"async_block\"},\"id\":\"1925980577919614368\",\"handlers\":{\"_toImage\":[\"(function (options){return this.Plotly.toImage(this.plotElem,options).then((function (data){return WebIO.setval({\\\"name\\\":\\\"image\\\",\\\"scope\\\":\\\"1925980577919614368\\\",\\\"id\\\":\\\"11279178672397648453\\\",\\\"type\\\":\\\"observable\\\"},data)}))})\"],\"__get_gd_contents\":[\"(function (prop){prop==\\\"data\\\" ? (WebIO.setval({\\\"name\\\":\\\"__gd_contents\\\",\\\"scope\\\":\\\"1925980577919614368\\\",\\\"id\\\":\\\"2065712232438883848\\\",\\\"type\\\":\\\"observable\\\"},this.plotElem.data)) : undefined; return prop==\\\"layout\\\" ? (WebIO.setval({\\\"name\\\":\\\"__gd_contents\\\",\\\"scope\\\":\\\"1925980577919614368\\\",\\\"id\\\":\\\"2065712232438883848\\\",\\\"type\\\":\\\"observable\\\"},this.plotElem.layout)) : undefined})\"],\"_downloadImage\":[\"(function (options){return this.Plotly.downloadImage(this.plotElem,options)})\"],\"_commands\":[\"(function (args){var fn=args.shift(); var elem=this.plotElem; var Plotly=this.Plotly; args.unshift(elem); return Plotly[fn].apply(this,args)})\"]},\"systemjs_options\":null,\"mount_callbacks\":[\"function () {\\n    var handler = ((function (Plotly,PlotlyWebIO){PlotlyWebIO.init(WebIO); var gd=this.dom.querySelector(\\\"#plot-0d792349-c136-4ecf-9de2-76329318ff04\\\"); this.plotElem=gd; this.Plotly=Plotly; (window.Blink!==undefined) ? (gd.style.width=\\\"100%\\\", gd.style.height=\\\"100vh\\\", gd.style.marginLeft=\\\"0%\\\", gd.style.marginTop=\\\"0vh\\\") : undefined; window.onresize=(function (){return Plotly.Plots.resize(gd)}); Plotly.newPlot(gd,[{\\\"mode\\\":\\\"markers\\\",\\\"y\\\":[-1.42,-2.887881316675402,-4.3515368827399925,-5.80888371366094,-7.257874575914898,-8.69650922912353,-10.122845113788573,-11.535007367438162,-12.931198065207317,-14.309704595815438,-15.668907100141707,-17.007284916682522,-18.323421995645425,-19.61601126084488,-20.883857915497064,-22.12588170408384,-23.341118157340514,-24.528718860846972,-25.6879507994579,-26.818194839751065,-27.91894342072153,-28.989797529083337,-30.03046303979164,-31.0407465048487,-32.02055047422749,-32.969868431989276,-33.888779428561314,-34.77744248686823,-35.636090855772146,-36.465026179269415,-37.264612644307604,-38.03527116410517,-38.7774736476457,-39.491737399727114,-40.178619689705705,-40.83871252099603,-41.47263762756286,-42.08104171814307,-42.66459198381906,-43.223971879868884,-43.7598771885661,-44.27301236580467,-44.76408717108111,-45.23381357746769,-45.68290295574007,-46.11206352475753,-46.521998058507194,-46.913401838884845,-47.28696084226402,-47.64335014716792,-47.98323254987501,-48.30725737452647,-48.61605946423247,-48.910258339766095,-49.19045751266235,-49.45724393988084,-49.711187607622385,-49.95284123239223,-50.182740067958484,-50.4014018074478,-50.60932657043877,-50.80699696554457,-50.99487821961105,-51.173418365286274,-51.3430484793359,-51.50418296468043,-51.65721986971089,-51.802541238995715,-51.94051349002156,-52.071487811112036,-52.19580057614089,-52.313773772098806,-52.42571543598627,-52.53192009788892,-52.63266922744724,-52.728231681260354,-52.81886414906503,-52.90481159680677,-52.98630770497198,-53.063575300779206,-53.136826783035474,-53.206264538651354,-53.27208134997793,-53.334460792280765,-53.39357762080188,-53.44959814698234,-53.50268060352567,-53.55297549807771,-53.60062595538276,-53.645768047849465,-53.68853111452437,-53.729038068526904,-53.767405693047806,-53.80374492605427,-53.83816113388011,-53.87075437390871,-53.90161964658114,-53.93084713698155,-53.95852244626838,-53.98472681323218],\\\"type\\\":\\\"scatter\\\",\\\"name\\\":\\\"True Velocity\\\",\\\"x\\\":[0.0,0.15,0.3,0.44999999999999996,0.6,0.75,0.8999999999999999,1.05,1.2,1.3499999999999999,1.5,1.65,1.7999999999999998,1.95,2.1,2.25,2.4,2.55,2.6999999999999997,2.85,3.0,3.15,3.3,3.4499999999999997,3.5999999999999996,3.75,3.9,4.05,4.2,4.35,4.5,4.6499999999999995,4.8,4.95,5.1,5.25,5.3999999999999995,5.55,5.7,5.85,6.0,6.1499999999999995,6.3,6.45,6.6,6.75,6.8999999999999995,7.05,7.199999999999999,7.35,7.5,7.6499999999999995,7.8,7.949999999999999,8.1,8.25,8.4,8.549999999999999,8.7,8.85,9.0,9.15,9.299999999999999,9.45,9.6,9.75,9.9,10.049999999999999,10.2,10.35,10.5,10.65,10.799999999999999,10.95,11.1,11.25,11.4,11.549999999999999,11.7,11.85,12.0,12.15,12.299999999999999,12.45,12.6,12.75,12.9,13.049999999999999,13.2,13.35,13.5,13.65,13.799999999999999,13.95,14.1,14.25,14.399999999999999,14.549999999999999,14.7,14.85]},{\\\"mode\\\":\\\"markers\\\",\\\"y\\\":[-1.4691951125053608,-2.9394043973300295,-4.407474809897132,-5.871335345297601,-7.328925431615483,-8.77821446348162,-10.217215602149745,-11.643997544866945,-13.056695116024502,-14.453518882841442,-15.832763816027699,-17.192816963830033,-18.532164099386065,-19.849395309129235,-21.143209504031873,-22.412417851509968,-23.655946141868586,-24.87283611824945,-26.062245812628767,-27.223448942224206,-28.355833430563763,-29.45889912539348,-30.532254791565066,-31.575614461107726,-32.58879322494936,-33.571702551343485,-34.52434521513691,-35.446809919757655,-36.339265690402044,-37.201956112550086,-38.03519348483449,-38.839352949620356,-39.61486665859806,-40.36221802441714,-41.08193610304115,-41.77459014521296,-42.44078434929722,-43.08115284190269,-43.69635490715464,-44.287070480340205,-44.853995916926934,-45.39784004367886,-45.91932049477649,-46.419160332486406,-46.89808494901309,-47.356819243682395,-47.79608506753072,-48.21659892567837,-48.619069926520886,-49.004197965745014,-49.372672132436044,-49.725169324056374,-50.062353056811226,-50.384872457845276,-50.6933614258062,-50.98843794654013,-51.2707035510265,-51.540742903092884,-51.799123504954885,-52.04639550918386,-52.283091626301406,-52.50972711781998,-52.726799865182585,-52.93479050569186,-53.13416262715085,-53.32536301355868,-53.50882193480833,-53.68495347391648,-53.85415588587389,-54.01681198273665,-54.173289540082074,-54.323941720427165,-54.46910750965227,-54.60911216288724,-54.74426765670296,-54.874873144808106,-55.00121541478004,-55.123569343661345,-55.24219835053056,-55.35735484440856,-55.469280666092246,-55.57820752271577,-55.68435741402826,-55.78794304954701,-55.889168255897594,-55.98822837378927,-56.08531064419554,-56.180594583418184,-56.2742523468089,-56.36644908100691,-56.45734326462519,-56.547087037382354,-56.63582651773368,-56.72370210910256,-56.8108487948557,-56.89739642220014,-56.98346997520968,-57.069189837213024,-57.15467204279586,-57.240028519684934],\\\"type\\\":\\\"scatter\\\",\\\"name\\\":\\\"Estimated Velocity\\\",\\\"error_y\\\":{\\\"type\\\":\\\"data\\\",\\\"array\\\":[1.4114578980044392,1.72942673699349,1.997521322518748,2.2336560863598534,2.4470508170892717,2.6431749022887336,2.8255795051823944,2.996718946577688,3.15836920759945,3.31186168327149,3.4582230868976156,3.5982637985463515,3.732636086168231,3.8618738235913286,3.9864203741499016,4.106648647733198,4.222875835122546,4.33537443554744,4.4443806492098155,4.550100862259103,4.6527167279605175,4.752389199026319,4.849261765201876,4.943463080626218,5.035109116779171,5.124304942259802,5.211146205797304,5.295720380825971,5.378107816662048,5.458382631430554,5.536613474453092,5.612864180155723,5.687194331216748,5.759659745309789,5.830312897164263,5.8992032855856005,5.966377753421088,6.03188076712716,6.095754661518016,6.15803985439891,6.218775035068706,6.277997330083251,6.335742449179119,6.3920448138467565,6.446937670697921,6.500453191482439,6.5526225613639095,6.603476056855583,6.653043114639686,6.701352392341098,6.748431822195261,6.794308658437072,6.839009519139637,6.882560423146645,6.9249868226679485,6.966313632043128,7.006565253120896,7.045765597652259,7.0839381070512,7.12110576983775,7.1572911370437255,7.1925163358308195,7.226803081543438,7.260172688394379,7.29264607895979,7.324243792640406,7.354985993228758,7.384892475706481,7.413982672381885,7.442275658465465,7.469790157169771,7.496544544409964,7.522556853172316,7.547844777609757,7.57242567691626,7.596316579025268,7.619534184171471,7.642094868349961,7.664014686702034,7.685309376852668,7.705994362220933,7.726084755321174,7.745595361069826,7.7645406801100165,7.782934912163737,7.800791959419292,7.818125429959843,7.834948641237267,7.851274623594107,7.867116123835169,7.88248560884923,7.897395269280402,7.911857023247924,7.925882520112443,7.939483144286335,7.952670019085104,7.96545401061657,7.977845731704198,7.989855545840739,8.00149357116816]},\\\"x\\\":[0.0,0.15,0.3,0.44999999999999996,0.6,0.75,0.8999999999999999,1.05,1.2,1.3499999999999999,1.5,1.65,1.7999999999999998,1.95,2.1,2.25,2.4,2.55,2.6999999999999997,2.85,3.0,3.15,3.3,3.4499999999999997,3.5999999999999996,3.75,3.9,4.05,4.2,4.35,4.5,4.6499999999999995,4.8,4.95,5.1,5.25,5.3999999999999995,5.55,5.7,5.85,6.0,6.1499999999999995,6.3,6.45,6.6,6.75,6.8999999999999995,7.05,7.199999999999999,7.35,7.5,7.6499999999999995,7.8,7.949999999999999,8.1,8.25,8.4,8.549999999999999,8.7,8.85,9.0,9.15,9.299999999999999,9.45,9.6,9.75,9.9,10.049999999999999,10.2,10.35,10.5,10.65,10.799999999999999,10.95,11.1,11.25,11.4,11.549999999999999,11.7,11.85,12.0,12.15,12.299999999999999,12.45,12.6,12.75,12.9,13.049999999999999,13.2,13.35,13.5,13.65,13.799999999999999,13.95,14.1,14.25,14.399999999999999,14.549999999999999,14.7,14.85]}],{\\\"xaxis\\\":{\\\"title\\\":{\\\"text\\\":\\\"Time (second)\\\"}},\\\"template\\\":{\\\"layout\\\":{\\\"coloraxis\\\":{\\\"colorbar\\\":{\\\"ticks\\\":\\\"\\\",\\\"outlinewidth\\\":0}},\\\"xaxis\\\":{\\\"gridcolor\\\":\\\"white\\\",\\\"zerolinewidth\\\":2,\\\"title\\\":{\\\"standoff\\\":15},\\\"ticks\\\":\\\"\\\",\\\"zerolinecolor\\\":\\\"white\\\",\\\"automargin\\\":true,\\\"linecolor\\\":\\\"white\\\"},\\\"hovermode\\\":\\\"closest\\\",\\\"paper_bgcolor\\\":\\\"white\\\",\\\"geo\\\":{\\\"showlakes\\\":true,\\\"showland\\\":true,\\\"landcolor\\\":\\\"#E5ECF6\\\",\\\"bgcolor\\\":\\\"white\\\",\\\"subunitcolor\\\":\\\"white\\\",\\\"lakecolor\\\":\\\"white\\\"},\\\"colorscale\\\":{\\\"sequential\\\":[[0.0,\\\"#0d0887\\\"],[0.1111111111111111,\\\"#46039f\\\"],[0.2222222222222222,\\\"#7201a8\\\"],[0.3333333333333333,\\\"#9c179e\\\"],[0.4444444444444444,\\\"#bd3786\\\"],[0.5555555555555556,\\\"#d8576b\\\"],[0.6666666666666666,\\\"#ed7953\\\"],[0.7777777777777778,\\\"#fb9f3a\\\"],[0.8888888888888888,\\\"#fdca26\\\"],[1.0,\\\"#f0f921\\\"]],\\\"diverging\\\":[[0,\\\"#8e0152\\\"],[0.1,\\\"#c51b7d\\\"],[0.2,\\\"#de77ae\\\"],[0.3,\\\"#f1b6da\\\"],[0.4,\\\"#fde0ef\\\"],[0.5,\\\"#f7f7f7\\\"],[0.6,\\\"#e6f5d0\\\"],[0.7,\\\"#b8e186\\\"],[0.8,\\\"#7fbc41\\\"],[0.9,\\\"#4d9221\\\"],[1,\\\"#276419\\\"]],\\\"sequentialminus\\\":[[0.0,\\\"#0d0887\\\"],[0.1111111111111111,\\\"#46039f\\\"],[0.2222222222222222,\\\"#7201a8\\\"],[0.3333333333333333,\\\"#9c179e\\\"],[0.4444444444444444,\\\"#bd3786\\\"],[0.5555555555555556,\\\"#d8576b\\\"],[0.6666666666666666,\\\"#ed7953\\\"],[0.7777777777777778,\\\"#fb9f3a\\\"],[0.8888888888888888,\\\"#fdca26\\\"],[1.0,\\\"#f0f921\\\"]]},\\\"yaxis\\\":{\\\"gridcolor\\\":\\\"white\\\",\\\"zerolinewidth\\\":2,\\\"title\\\":{\\\"standoff\\\":15},\\\"ticks\\\":\\\"\\\",\\\"zerolinecolor\\\":\\\"white\\\",\\\"automargin\\\":true,\\\"linecolor\\\":\\\"white\\\"},\\\"shapedefaults\\\":{\\\"line\\\":{\\\"color\\\":\\\"#2a3f5f\\\"}},\\\"hoverlabel\\\":{\\\"align\\\":\\\"left\\\"},\\\"mapbox\\\":{\\\"style\\\":\\\"light\\\"},\\\"polar\\\":{\\\"angularaxis\\\":{\\\"gridcolor\\\":\\\"white\\\",\\\"ticks\\\":\\\"\\\",\\\"linecolor\\\":\\\"white\\\"},\\\"bgcolor\\\":\\\"#E5ECF6\\\",\\\"radialaxis\\\":{\\\"gridcolor\\\":\\\"white\\\",\\\"ticks\\\":\\\"\\\",\\\"linecolor\\\":\\\"white\\\"}},\\\"autotypenumbers\\\":\\\"strict\\\",\\\"font\\\":{\\\"color\\\":\\\"#2a3f5f\\\"},\\\"ternary\\\":{\\\"baxis\\\":{\\\"gridcolor\\\":\\\"white\\\",\\\"ticks\\\":\\\"\\\",\\\"linecolor\\\":\\\"white\\\"},\\\"bgcolor\\\":\\\"#E5ECF6\\\",\\\"caxis\\\":{\\\"gridcolor\\\":\\\"white\\\",\\\"ticks\\\":\\\"\\\",\\\"linecolor\\\":\\\"white\\\"},\\\"aaxis\\\":{\\\"gridcolor\\\":\\\"white\\\",\\\"ticks\\\":\\\"\\\",\\\"linecolor\\\":\\\"white\\\"}},\\\"annotationdefaults\\\":{\\\"arrowhead\\\":0,\\\"arrowwidth\\\":1,\\\"arrowcolor\\\":\\\"#2a3f5f\\\"},\\\"plot_bgcolor\\\":\\\"#E5ECF6\\\",\\\"title\\\":{\\\"x\\\":0.05},\\\"scene\\\":{\\\"xaxis\\\":{\\\"gridcolor\\\":\\\"white\\\",\\\"gridwidth\\\":2,\\\"backgroundcolor\\\":\\\"#E5ECF6\\\",\\\"ticks\\\":\\\"\\\",\\\"showbackground\\\":true,\\\"zerolinecolor\\\":\\\"white\\\",\\\"linecolor\\\":\\\"white\\\"},\\\"zaxis\\\":{\\\"gridcolor\\\":\\\"white\\\",\\\"gridwidth\\\":2,\\\"backgroundcolor\\\":\\\"#E5ECF6\\\",\\\"ticks\\\":\\\"\\\",\\\"showbackground\\\":true,\\\"zerolinecolor\\\":\\\"white\\\",\\\"linecolor\\\":\\\"white\\\"},\\\"yaxis\\\":{\\\"gridcolor\\\":\\\"white\\\",\\\"gridwidth\\\":2,\\\"backgroundcolor\\\":\\\"#E5ECF6\\\",\\\"ticks\\\":\\\"\\\",\\\"showbackground\\\":true,\\\"zerolinecolor\\\":\\\"white\\\",\\\"linecolor\\\":\\\"white\\\"}},\\\"colorway\\\":[\\\"#636efa\\\",\\\"#EF553B\\\",\\\"#00cc96\\\",\\\"#ab63fa\\\",\\\"#FFA15A\\\",\\\"#19d3f3\\\",\\\"#FF6692\\\",\\\"#B6E880\\\",\\\"#FF97FF\\\",\\\"#FECB52\\\"]},\\\"data\\\":{\\\"barpolar\\\":[{\\\"type\\\":\\\"barpolar\\\",\\\"marker\\\":{\\\"line\\\":{\\\"color\\\":\\\"#E5ECF6\\\",\\\"width\\\":0.5}}}],\\\"carpet\\\":[{\\\"aaxis\\\":{\\\"gridcolor\\\":\\\"white\\\",\\\"endlinecolor\\\":\\\"#2a3f5f\\\",\\\"minorgridcolor\\\":\\\"white\\\",\\\"startlinecolor\\\":\\\"#2a3f5f\\\",\\\"linecolor\\\":\\\"white\\\"},\\\"type\\\":\\\"carpet\\\",\\\"baxis\\\":{\\\"gridcolor\\\":\\\"white\\\",\\\"endlinecolor\\\":\\\"#2a3f5f\\\",\\\"minorgridcolor\\\":\\\"white\\\",\\\"startlinecolor\\\":\\\"#2a3f5f\\\",\\\"linecolor\\\":\\\"white\\\"}}],\\\"scatterpolar\\\":[{\\\"type\\\":\\\"scatterpolar\\\",\\\"marker\\\":{\\\"colorbar\\\":{\\\"ticks\\\":\\\"\\\",\\\"outlinewidth\\\":0}}}],\\\"parcoords\\\":[{\\\"line\\\":{\\\"colorbar\\\":{\\\"ticks\\\":\\\"\\\",\\\"outlinewidth\\\":0}},\\\"type\\\":\\\"parcoords\\\"}],\\\"scatter\\\":[{\\\"type\\\":\\\"scatter\\\",\\\"marker\\\":{\\\"colorbar\\\":{\\\"ticks\\\":\\\"\\\",\\\"outlinewidth\\\":0}}}],\\\"histogram2dcontour\\\":[{\\\"colorbar\\\":{\\\"ticks\\\":\\\"\\\",\\\"outlinewidth\\\":0},\\\"type\\\":\\\"histogram2dcontour\\\",\\\"colorscale\\\":[[0.0,\\\"#0d0887\\\"],[0.1111111111111111,\\\"#46039f\\\"],[0.2222222222222222,\\\"#7201a8\\\"],[0.3333333333333333,\\\"#9c179e\\\"],[0.4444444444444444,\\\"#bd3786\\\"],[0.5555555555555556,\\\"#d8576b\\\"],[0.6666666666666666,\\\"#ed7953\\\"],[0.7777777777777778,\\\"#fb9f3a\\\"],[0.8888888888888888,\\\"#fdca26\\\"],[1.0,\\\"#f0f921\\\"]]}],\\\"contour\\\":[{\\\"colorbar\\\":{\\\"ticks\\\":\\\"\\\",\\\"outlinewidth\\\":0},\\\"type\\\":\\\"contour\\\",\\\"colorscale\\\":[[0.0,\\\"#0d0887\\\"],[0.1111111111111111,\\\"#46039f\\\"],[0.2222222222222222,\\\"#7201a8\\\"],[0.3333333333333333,\\\"#9c179e\\\"],[0.4444444444444444,\\\"#bd3786\\\"],[0.5555555555555556,\\\"#d8576b\\\"],[0.6666666666666666,\\\"#ed7953\\\"],[0.7777777777777778,\\\"#fb9f3a\\\"],[0.8888888888888888,\\\"#fdca26\\\"],[1.0,\\\"#f0f921\\\"]]}],\\\"scattercarpet\\\":[{\\\"type\\\":\\\"scattercarpet\\\",\\\"marker\\\":{\\\"colorbar\\\":{\\\"ticks\\\":\\\"\\\",\\\"outlinewidth\\\":0}}}],\\\"mesh3d\\\":[{\\\"colorbar\\\":{\\\"ticks\\\":\\\"\\\",\\\"outlinewidth\\\":0},\\\"type\\\":\\\"mesh3d\\\"}],\\\"surface\\\":[{\\\"colorbar\\\":{\\\"ticks\\\":\\\"\\\",\\\"outlinewidth\\\":0},\\\"type\\\":\\\"surface\\\",\\\"colorscale\\\":[[0.0,\\\"#0d0887\\\"],[0.1111111111111111,\\\"#46039f\\\"],[0.2222222222222222,\\\"#7201a8\\\"],[0.3333333333333333,\\\"#9c179e\\\"],[0.4444444444444444,\\\"#bd3786\\\"],[0.5555555555555556,\\\"#d8576b\\\"],[0.6666666666666666,\\\"#ed7953\\\"],[0.7777777777777778,\\\"#fb9f3a\\\"],[0.8888888888888888,\\\"#fdca26\\\"],[1.0,\\\"#f0f921\\\"]]}],\\\"scattermapbox\\\":[{\\\"type\\\":\\\"scattermapbox\\\",\\\"marker\\\":{\\\"colorbar\\\":{\\\"ticks\\\":\\\"\\\",\\\"outlinewidth\\\":0}}}],\\\"scattergeo\\\":[{\\\"type\\\":\\\"scattergeo\\\",\\\"marker\\\":{\\\"colorbar\\\":{\\\"ticks\\\":\\\"\\\",\\\"outlinewidth\\\":0}}}],\\\"histogram\\\":[{\\\"type\\\":\\\"histogram\\\",\\\"marker\\\":{\\\"colorbar\\\":{\\\"ticks\\\":\\\"\\\",\\\"outlinewidth\\\":0}}}],\\\"pie\\\":[{\\\"type\\\":\\\"pie\\\",\\\"automargin\\\":true}],\\\"choropleth\\\":[{\\\"colorbar\\\":{\\\"ticks\\\":\\\"\\\",\\\"outlinewidth\\\":0},\\\"type\\\":\\\"choropleth\\\"}],\\\"heatmapgl\\\":[{\\\"colorbar\\\":{\\\"ticks\\\":\\\"\\\",\\\"outlinewidth\\\":0},\\\"type\\\":\\\"heatmapgl\\\",\\\"colorscale\\\":[[0.0,\\\"#0d0887\\\"],[0.1111111111111111,\\\"#46039f\\\"],[0.2222222222222222,\\\"#7201a8\\\"],[0.3333333333333333,\\\"#9c179e\\\"],[0.4444444444444444,\\\"#bd3786\\\"],[0.5555555555555556,\\\"#d8576b\\\"],[0.6666666666666666,\\\"#ed7953\\\"],[0.7777777777777778,\\\"#fb9f3a\\\"],[0.8888888888888888,\\\"#fdca26\\\"],[1.0,\\\"#f0f921\\\"]]}],\\\"bar\\\":[{\\\"type\\\":\\\"bar\\\",\\\"error_y\\\":{\\\"color\\\":\\\"#2a3f5f\\\"},\\\"error_x\\\":{\\\"color\\\":\\\"#2a3f5f\\\"},\\\"marker\\\":{\\\"line\\\":{\\\"color\\\":\\\"#E5ECF6\\\",\\\"width\\\":0.5}}}],\\\"heatmap\\\":[{\\\"colorbar\\\":{\\\"ticks\\\":\\\"\\\",\\\"outlinewidth\\\":0},\\\"type\\\":\\\"heatmap\\\",\\\"colorscale\\\":[[0.0,\\\"#0d0887\\\"],[0.1111111111111111,\\\"#46039f\\\"],[0.2222222222222222,\\\"#7201a8\\\"],[0.3333333333333333,\\\"#9c179e\\\"],[0.4444444444444444,\\\"#bd3786\\\"],[0.5555555555555556,\\\"#d8576b\\\"],[0.6666666666666666,\\\"#ed7953\\\"],[0.7777777777777778,\\\"#fb9f3a\\\"],[0.8888888888888888,\\\"#fdca26\\\"],[1.0,\\\"#f0f921\\\"]]}],\\\"contourcarpet\\\":[{\\\"colorbar\\\":{\\\"ticks\\\":\\\"\\\",\\\"outlinewidth\\\":0},\\\"type\\\":\\\"contourcarpet\\\"}],\\\"table\\\":[{\\\"type\\\":\\\"table\\\",\\\"header\\\":{\\\"line\\\":{\\\"color\\\":\\\"white\\\"},\\\"fill\\\":{\\\"color\\\":\\\"#C8D4E3\\\"}},\\\"cells\\\":{\\\"line\\\":{\\\"color\\\":\\\"white\\\"},\\\"fill\\\":{\\\"color\\\":\\\"#EBF0F8\\\"}}}],\\\"scatter3d\\\":[{\\\"line\\\":{\\\"colorbar\\\":{\\\"ticks\\\":\\\"\\\",\\\"outlinewidth\\\":0}},\\\"type\\\":\\\"scatter3d\\\",\\\"marker\\\":{\\\"colorbar\\\":{\\\"ticks\\\":\\\"\\\",\\\"outlinewidth\\\":0}}}],\\\"scattergl\\\":[{\\\"type\\\":\\\"scattergl\\\",\\\"marker\\\":{\\\"colorbar\\\":{\\\"ticks\\\":\\\"\\\",\\\"outlinewidth\\\":0}}}],\\\"histogram2d\\\":[{\\\"colorbar\\\":{\\\"ticks\\\":\\\"\\\",\\\"outlinewidth\\\":0},\\\"type\\\":\\\"histogram2d\\\",\\\"colorscale\\\":[[0.0,\\\"#0d0887\\\"],[0.1111111111111111,\\\"#46039f\\\"],[0.2222222222222222,\\\"#7201a8\\\"],[0.3333333333333333,\\\"#9c179e\\\"],[0.4444444444444444,\\\"#bd3786\\\"],[0.5555555555555556,\\\"#d8576b\\\"],[0.6666666666666666,\\\"#ed7953\\\"],[0.7777777777777778,\\\"#fb9f3a\\\"],[0.8888888888888888,\\\"#fdca26\\\"],[1.0,\\\"#f0f921\\\"]]}],\\\"scatterternary\\\":[{\\\"type\\\":\\\"scatterternary\\\",\\\"marker\\\":{\\\"colorbar\\\":{\\\"ticks\\\":\\\"\\\",\\\"outlinewidth\\\":0}}}],\\\"scatterpolargl\\\":[{\\\"type\\\":\\\"scatterpolargl\\\",\\\"marker\\\":{\\\"colorbar\\\":{\\\"ticks\\\":\\\"\\\",\\\"outlinewidth\\\":0}}}]}},\\\"legend\\\":{\\\"title\\\":\\\"Legend Title\\\"},\\\"margin\\\":{\\\"l\\\":50,\\\"b\\\":50,\\\"r\\\":50,\\\"t\\\":60},\\\"title\\\":\\\"Velocity Measurement\\\",\\\"yaxis\\\":{\\\"title\\\":{\\\"text\\\":\\\"Velocity (meters \\/ seconds)\\\"}}},{\\\"showLink\\\":false,\\\"editable\\\":false,\\\"responsive\\\":true,\\\"staticPlot\\\":false,\\\"scrollZoom\\\":true}); gd.on(\\\"plotly_hover\\\",(function (data){var filtered_data=WebIO.PlotlyCommands.filterEventData(gd,data,\\\"hover\\\"); return !(filtered_data.isnil) ? (WebIO.setval({\\\"name\\\":\\\"hover\\\",\\\"scope\\\":\\\"1925980577919614368\\\",\\\"id\\\":\\\"13384547167006120824\\\",\\\"type\\\":\\\"observable\\\"},filtered_data.out)) : undefined})); gd.on(\\\"plotly_unhover\\\",(function (){return WebIO.setval({\\\"name\\\":\\\"hover\\\",\\\"scope\\\":\\\"1925980577919614368\\\",\\\"id\\\":\\\"13384547167006120824\\\",\\\"type\\\":\\\"observable\\\"},{})})); gd.on(\\\"plotly_selected\\\",(function (data){var filtered_data=WebIO.PlotlyCommands.filterEventData(gd,data,\\\"selected\\\"); return !(filtered_data.isnil) ? (WebIO.setval({\\\"name\\\":\\\"selected\\\",\\\"scope\\\":\\\"1925980577919614368\\\",\\\"id\\\":\\\"3565046970702667288\\\",\\\"type\\\":\\\"observable\\\"},filtered_data.out)) : undefined})); gd.on(\\\"plotly_deselect\\\",(function (){return WebIO.setval({\\\"name\\\":\\\"selected\\\",\\\"scope\\\":\\\"1925980577919614368\\\",\\\"id\\\":\\\"3565046970702667288\\\",\\\"type\\\":\\\"observable\\\"},{})})); gd.on(\\\"plotly_relayout\\\",(function (data){var filtered_data=WebIO.PlotlyCommands.filterEventData(gd,data,\\\"relayout\\\"); return !(filtered_data.isnil) ? (WebIO.setval({\\\"name\\\":\\\"relayout\\\",\\\"scope\\\":\\\"1925980577919614368\\\",\\\"id\\\":\\\"1243991748886429574\\\",\\\"type\\\":\\\"observable\\\"},filtered_data.out)) : undefined})); return gd.on(\\\"plotly_click\\\",(function (data){var filtered_data=WebIO.PlotlyCommands.filterEventData(gd,data,\\\"click\\\"); return !(filtered_data.isnil) ? (WebIO.setval({\\\"name\\\":\\\"click\\\",\\\"scope\\\":\\\"1925980577919614368\\\",\\\"id\\\":\\\"6372237085574359226\\\",\\\"type\\\":\\\"observable\\\"},filtered_data.out)) : undefined}))}));\\n    (WebIO.importBlock({\\\"data\\\":[{\\\"name\\\":\\\"Plotly\\\",\\\"type\\\":\\\"js\\\",\\\"url\\\":\\\"\\/assetserver\\/627f17ff06762af3874159c00b9b1e00e50688bc-plotly.min.js\\\"},{\\\"name\\\":null,\\\"type\\\":\\\"js\\\",\\\"url\\\":\\\"\\/assetserver\\/1a276a0acb11ad47020d3f379225d41bbd0aeef0-plotly_webio.bundle.js\\\"}],\\\"type\\\":\\\"async_block\\\"})).then((imports) => handler.apply(this, imports));\\n}\\n\"],\"observables\":{\"_toImage\":{\"sync\":false,\"id\":\"10088245235640350716\",\"value\":{}},\"hover\":{\"sync\":false,\"id\":\"13384547167006120824\",\"value\":{}},\"selected\":{\"sync\":false,\"id\":\"3565046970702667288\",\"value\":{}},\"__gd_contents\":{\"sync\":false,\"id\":\"2065712232438883848\",\"value\":{}},\"click\":{\"sync\":false,\"id\":\"6372237085574359226\",\"value\":{}},\"image\":{\"sync\":true,\"id\":\"11279178672397648453\",\"value\":\"\"},\"__get_gd_contents\":{\"sync\":false,\"id\":\"759602734267806926\",\"value\":\"\"},\"_downloadImage\":{\"sync\":false,\"id\":\"16987718887554311873\",\"value\":{}},\"relayout\":{\"sync\":false,\"id\":\"1243991748886429574\",\"value\":{}},\"_commands\":{\"sync\":false,\"id\":\"12125354291723040141\",\"value\":[]}}},\"children\":[{\"props\":{\"id\":\"plot-0d792349-c136-4ecf-9de2-76329318ff04\"},\"nodeType\":\"DOM\",\"type\":\"node\",\"instanceArgs\":{\"namespace\":\"html\",\"tag\":\"div\"},\"children\":[]}]},\n",
       "        window,\n",
       "    );\n",
       "    })()\n",
       "    </script>\n",
       "</div>\n"
      ],
      "text/plain": [
       "data: [\n",
       "  \"scatter with fields mode, name, type, x, and y\",\n",
       "  \"scatter with fields error_y, mode, name, type, x, and y\"\n",
       "]\n",
       "\n",
       "layout: \"layout with fields legend, margin, template, title, xaxis, and yaxis\"\n",
       "\n"
      ]
     },
     "execution_count": 426,
     "metadata": {},
     "output_type": "execute_result"
    }
   ],
   "source": [
    "plot(\n",
    "    [\n",
    "        # True velocity\n",
    "        scatter(\n",
    "            mode=\"markers\",\n",
    "            x=time_axis_sec,\n",
    "            y=[tr_st[2] for tr_st in true_state_fcn_time],\n",
    "            name=\"True Velocity\"\n",
    "        ),\n",
    "        # Estimated velocity\n",
    "        scatter(\n",
    "            mode=\"markers\",\n",
    "            x=time_axis_sec,\n",
    "            y=[s.state[2] for s in states_fcn_time],\n",
    "            error_y=attr(\n",
    "                type=\"data\",\n",
    "                array=[sqrt(s.cov[2, 2]) for s in states_fcn_time]\n",
    "            ),\n",
    "            name=\"Estimated Velocity\"\n",
    "        )\n",
    "    ],\n",
    "    Layout(\n",
    "        title=\"Velocity Measurement\",\n",
    "        xaxis_title=\"Time (second)\",\n",
    "        yaxis_title=\"Velocity (meters / seconds)\",\n",
    "        legend_title=\"Legend Title\",\n",
    "    ),\n",
    "    config=PlotConfig(scrollZoom=true)\n",
    ")"
   ]
  },
  {
   "cell_type": "code",
   "execution_count": null,
   "id": "2b299fef",
   "metadata": {},
   "outputs": [],
   "source": []
  }
 ],
 "metadata": {
  "@webio": {
   "lastCommId": "4a35e22dabd94df69da4ecae17f393a4",
   "lastKernelId": "00dc84fd-a614-40ee-949e-c08debdb1bb5"
  },
  "kernelspec": {
   "display_name": "Julia 1.7.1",
   "language": "julia",
   "name": "julia-1.7"
  },
  "language_info": {
   "file_extension": ".jl",
   "mimetype": "application/julia",
   "name": "julia",
   "version": "1.7.1"
  }
 },
 "nbformat": 4,
 "nbformat_minor": 5
}
