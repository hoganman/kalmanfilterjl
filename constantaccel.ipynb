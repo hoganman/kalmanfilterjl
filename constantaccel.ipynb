{
 "cells": [
  {
   "cell_type": "markdown",
   "id": "50d55246",
   "metadata": {},
   "source": [
    "In this notebook, we analyze an object in free fall under constant acceleration. As a first demonstration of the Kalman filter, there are no hidden variables. Said another way, the measurement vector are the same variables as the state vector."
   ]
  },
  {
   "cell_type": "code",
   "execution_count": 1,
   "id": "73886288",
   "metadata": {},
   "outputs": [
    {
     "data": {
      "application/vnd.webio.node+json": {
       "children": [],
       "instanceArgs": {
        "namespace": "html",
        "tag": "div"
       },
       "nodeType": "DOM",
       "props": {},
       "type": "node"
      },
      "text/html": [
       "<div style=\"padding: 1em; background-color: #f8d6da; border: 1px solid #f5c6cb; font-weight: bold;\">\n",
       "<p>The WebIO Jupyter extension was not detected. See the\n",
       "<a href=\"https://juliagizmos.github.io/WebIO.jl/latest/providers/ijulia/\" target=\"_blank\">\n",
       "    WebIO Jupyter integration documentation\n",
       "</a>\n",
       "for more information.\n",
       "</div>\n"
      ],
      "text/plain": [
       "WebIO._IJuliaInit()"
      ]
     },
     "metadata": {
      "application/vnd.webio.node+json": {
       "kernelId": "e5d49348-5ec7-4669-8d72-1f7d7191a135"
      }
     },
     "output_type": "display_data"
    }
   ],
   "source": [
    "using LinearAlgebra\n",
    "using Random\n",
    "using PlotlyJS\n",
    "\n",
    "include(\"kalmanflt.jl\");"
   ]
  },
  {
   "cell_type": "markdown",
   "id": "9695e274",
   "metadata": {},
   "source": [
    "The system is a particle falling due to gravity without air resistance. The equation of state are:"
   ]
  },
  {
   "cell_type": "markdown",
   "id": "be9d7b6a",
   "metadata": {},
   "source": [
    "$$\n",
    "\\begin{align}\n",
    "h &= h_{0} + v_{0} t + \\frac{1}{2} a t^{2} \\\\\n",
    "v &= v_{0} + a t\n",
    "\\end{align}\n",
    "$$"
   ]
  },
  {
   "cell_type": "code",
   "execution_count": 2,
   "id": "0bf7b027",
   "metadata": {},
   "outputs": [],
   "source": [
    "time_steps = 125\n",
    "delta_time_sec = 0.02  # sec\n",
    "accel_ms2 = 9.8;  # meter / sec / sec"
   ]
  },
  {
   "cell_type": "code",
   "execution_count": 3,
   "id": "6252747a",
   "metadata": {},
   "outputs": [],
   "source": [
    "\"\"\"\n",
    "    get_model_estimate(initial_state, measurement_time_sec)\n",
    "\n",
    "Assuming constant acceleration, compute how the position and velocity change from their initial state\n",
    "\n",
    "# Arguments\n",
    "- `initial_state::Vector`: Must be a 2-item vector exactly as `Vector{Float64}([p, v])` where `p` is the position and `v` is the velocity\n",
    "- `measurement_time_sec::Number`: The number of seconds from the initial state\n",
    "\n",
    "# Returns\n",
    "`Vector` of the state estimate\n",
    "\n",
    "# Examples\n",
    "```jldoctest\n",
    "julia> v = get_model_estimate(Vector([9.8, 0.]), sqrt(2.))\n",
    "2-element Vector{Float64}:\n",
    "  -1.7763568394002505e-15\n",
    " -13.859292911256333\n",
    "```\n",
    "\"\"\"\n",
    "function get_model_estimate(\n",
    "    initial_state::Vector,\n",
    "    measurement_time_sec::Number)::Vector\n",
    "    \n",
    "    transition_mat = [1.0 measurement_time_sec; \n",
    "                      0.0 1.0]\n",
    "    external_input_vector = Vector([-accel_ms2, -accel_ms2])\n",
    "    control_mat = [0.5 * measurement_time_sec^2 0.0; \n",
    "                   0.0 measurement_time_sec]\n",
    "    return ((transition_mat * initial_state)\n",
    "            + (control_mat * external_input_vector))\n",
    "end;"
   ]
  },
  {
   "cell_type": "markdown",
   "id": "795ca94e",
   "metadata": {},
   "source": [
    "Initialize the initial and true states"
   ]
  },
  {
   "cell_type": "code",
   "execution_count": 4,
   "id": "3f7b623b",
   "metadata": {},
   "outputs": [],
   "source": [
    "initial_state_vector = Vector([1000., 0.])\n",
    "true_state_vector = Vector([1015., 2.5]);"
   ]
  },
  {
   "cell_type": "markdown",
   "id": "2e1596fb",
   "metadata": {},
   "source": [
    "Populate an array of the true state evolution in time"
   ]
  },
  {
   "cell_type": "code",
   "execution_count": 5,
   "id": "8c56df3c",
   "metadata": {},
   "outputs": [],
   "source": [
    "true_state_fcn_time = zeros(Float64, (2, time_steps))\n",
    "for time_step_index = 1:time_steps\n",
    "    time_sec = delta_time_sec * (time_step_index - 1)\n",
    "    true_state_fcn_time[:, time_step_index] = get_model_estimate(true_state_vector, time_sec)\n",
    "end;"
   ]
  },
  {
   "cell_type": "markdown",
   "id": "2597b561",
   "metadata": {},
   "source": [
    "Plot the true position"
   ]
  },
  {
   "cell_type": "code",
   "execution_count": 6,
   "id": "f6deab65",
   "metadata": {},
   "outputs": [
    {
     "data": {
      "application/vnd.plotly.v1+json": {
       "config": {
        "editable": false,
        "responsive": true,
        "scrollZoom": true,
        "showLink": false,
        "staticPlot": false
       },
       "data": [
        {
         "mode": "markers",
         "name": "True Position",
         "type": "scatter",
         "x": [
          0,
          0.02,
          0.04,
          0.06,
          0.08,
          0.1,
          0.12,
          0.14,
          0.16,
          0.18,
          0.2,
          0.22,
          0.24,
          0.26,
          0.28,
          0.3,
          0.32,
          0.34,
          0.36,
          0.38,
          0.4,
          0.42,
          0.44,
          0.46,
          0.48,
          0.5,
          0.52,
          0.54,
          0.56,
          0.58,
          0.6,
          0.62,
          0.64,
          0.66,
          0.68,
          0.7000000000000001,
          0.72,
          0.74,
          0.76,
          0.78,
          0.8,
          0.8200000000000001,
          0.84,
          0.86,
          0.88,
          0.9,
          0.92,
          0.9400000000000001,
          0.96,
          0.98,
          1,
          1.02,
          1.04,
          1.06,
          1.08,
          1.1,
          1.12,
          1.1400000000000001,
          1.16,
          1.18,
          1.2,
          1.22,
          1.24,
          1.26,
          1.28,
          1.3,
          1.32,
          1.34,
          1.36,
          1.3800000000000001,
          1.4000000000000001,
          1.42,
          1.44,
          1.46,
          1.48,
          1.5,
          1.52,
          1.54,
          1.56,
          1.58,
          1.6,
          1.62,
          1.6400000000000001,
          1.6600000000000001,
          1.68,
          1.7,
          1.72,
          1.74,
          1.76,
          1.78,
          1.8,
          1.82,
          1.84,
          1.86,
          1.8800000000000001,
          1.9000000000000001,
          1.92,
          1.94,
          1.96,
          1.98,
          2,
          2.02,
          2.04,
          2.06,
          2.08,
          2.1,
          2.12,
          2.14,
          2.16,
          2.18,
          2.2,
          2.22,
          2.24,
          2.2600000000000002,
          2.2800000000000002,
          2.3000000000000003,
          2.32,
          2.34,
          2.36,
          2.38,
          2.4,
          2.42,
          2.44,
          2.46,
          2.48
         ],
         "y": [
          1015,
          1015.0480399999999,
          1015.09216,
          1015.13236,
          1015.1686400000001,
          1015.201,
          1015.22944,
          1015.25396,
          1015.27456,
          1015.29124,
          1015.304,
          1015.3128399999999,
          1015.31776,
          1015.31876,
          1015.3158400000001,
          1015.309,
          1015.29824,
          1015.28356,
          1015.26496,
          1015.2424400000001,
          1015.216,
          1015.1856399999999,
          1015.1513600000001,
          1015.11316,
          1015.07104,
          1015.025,
          1014.9750399999999,
          1014.92116,
          1014.86336,
          1014.80164,
          1014.736,
          1014.66644,
          1014.5929600000001,
          1014.5155599999999,
          1014.43424,
          1014.349,
          1014.2598399999999,
          1014.1667600000001,
          1014.06976,
          1013.96884,
          1013.864,
          1013.75524,
          1013.64256,
          1013.5259599999999,
          1013.40544,
          1013.281,
          1013.1526399999999,
          1013.02036,
          1012.88416,
          1012.74404,
          1012.6,
          1012.4520399999999,
          1012.30016,
          1012.14436,
          1011.98464,
          1011.821,
          1011.6534399999999,
          1011.4819600000001,
          1011.30656,
          1011.12724,
          1010.944,
          1010.75684,
          1010.5657600000001,
          1010.37076,
          1010.1718400000001,
          1009.969,
          1009.7622399999999,
          1009.55156,
          1009.33696,
          1009.1184400000001,
          1008.896,
          1008.66964,
          1008.4393600000001,
          1008.20516,
          1007.96704,
          1007.725,
          1007.4790399999999,
          1007.22916,
          1006.97536,
          1006.7176400000001,
          1006.456,
          1006.19044,
          1005.92096,
          1005.64756,
          1005.3702400000001,
          1005.089,
          1004.8038399999999,
          1004.51476,
          1004.22176,
          1003.92484,
          1003.624,
          1003.3192399999999,
          1003.01056,
          1002.69796,
          1002.38144,
          1002.061,
          1001.73664,
          1001.40836,
          1001.07616,
          1000.74004,
          1000.4,
          1000.0560399999999,
          999.70816,
          999.35636,
          999.0006400000001,
          998.641,
          998.27744,
          997.9099600000001,
          997.53856,
          997.1632400000001,
          996.784,
          996.4008399999999,
          996.01376,
          995.62276,
          995.22784,
          994.829,
          994.42624,
          994.0195600000001,
          993.60896,
          993.1944400000001,
          992.776,
          992.3536399999999,
          991.92736,
          991.49716,
          991.06304
         ]
        }
       ],
       "frames": [],
       "layout": {
        "legend": {
         "title": "Legend Title"
        },
        "margin": {
         "b": 50,
         "l": 50,
         "r": 50,
         "t": 60
        },
        "template": {
         "data": {
          "bar": [
           {
            "error_x": {
             "color": "#2a3f5f"
            },
            "error_y": {
             "color": "#2a3f5f"
            },
            "marker": {
             "line": {
              "color": "#E5ECF6",
              "width": 0.5
             }
            },
            "type": "bar"
           }
          ],
          "barpolar": [
           {
            "marker": {
             "line": {
              "color": "#E5ECF6",
              "width": 0.5
             }
            },
            "type": "barpolar"
           }
          ],
          "carpet": [
           {
            "aaxis": {
             "endlinecolor": "#2a3f5f",
             "gridcolor": "white",
             "linecolor": "white",
             "minorgridcolor": "white",
             "startlinecolor": "#2a3f5f"
            },
            "baxis": {
             "endlinecolor": "#2a3f5f",
             "gridcolor": "white",
             "linecolor": "white",
             "minorgridcolor": "white",
             "startlinecolor": "#2a3f5f"
            },
            "type": "carpet"
           }
          ],
          "choropleth": [
           {
            "colorbar": {
             "outlinewidth": 0,
             "ticks": ""
            },
            "type": "choropleth"
           }
          ],
          "contour": [
           {
            "colorbar": {
             "outlinewidth": 0,
             "ticks": ""
            },
            "colorscale": [
             [
              0,
              "#0d0887"
             ],
             [
              0.1111111111111111,
              "#46039f"
             ],
             [
              0.2222222222222222,
              "#7201a8"
             ],
             [
              0.3333333333333333,
              "#9c179e"
             ],
             [
              0.4444444444444444,
              "#bd3786"
             ],
             [
              0.5555555555555556,
              "#d8576b"
             ],
             [
              0.6666666666666666,
              "#ed7953"
             ],
             [
              0.7777777777777778,
              "#fb9f3a"
             ],
             [
              0.8888888888888888,
              "#fdca26"
             ],
             [
              1,
              "#f0f921"
             ]
            ],
            "type": "contour"
           }
          ],
          "contourcarpet": [
           {
            "colorbar": {
             "outlinewidth": 0,
             "ticks": ""
            },
            "type": "contourcarpet"
           }
          ],
          "heatmap": [
           {
            "colorbar": {
             "outlinewidth": 0,
             "ticks": ""
            },
            "colorscale": [
             [
              0,
              "#0d0887"
             ],
             [
              0.1111111111111111,
              "#46039f"
             ],
             [
              0.2222222222222222,
              "#7201a8"
             ],
             [
              0.3333333333333333,
              "#9c179e"
             ],
             [
              0.4444444444444444,
              "#bd3786"
             ],
             [
              0.5555555555555556,
              "#d8576b"
             ],
             [
              0.6666666666666666,
              "#ed7953"
             ],
             [
              0.7777777777777778,
              "#fb9f3a"
             ],
             [
              0.8888888888888888,
              "#fdca26"
             ],
             [
              1,
              "#f0f921"
             ]
            ],
            "type": "heatmap"
           }
          ],
          "heatmapgl": [
           {
            "colorbar": {
             "outlinewidth": 0,
             "ticks": ""
            },
            "colorscale": [
             [
              0,
              "#0d0887"
             ],
             [
              0.1111111111111111,
              "#46039f"
             ],
             [
              0.2222222222222222,
              "#7201a8"
             ],
             [
              0.3333333333333333,
              "#9c179e"
             ],
             [
              0.4444444444444444,
              "#bd3786"
             ],
             [
              0.5555555555555556,
              "#d8576b"
             ],
             [
              0.6666666666666666,
              "#ed7953"
             ],
             [
              0.7777777777777778,
              "#fb9f3a"
             ],
             [
              0.8888888888888888,
              "#fdca26"
             ],
             [
              1,
              "#f0f921"
             ]
            ],
            "type": "heatmapgl"
           }
          ],
          "histogram": [
           {
            "marker": {
             "colorbar": {
              "outlinewidth": 0,
              "ticks": ""
             }
            },
            "type": "histogram"
           }
          ],
          "histogram2d": [
           {
            "colorbar": {
             "outlinewidth": 0,
             "ticks": ""
            },
            "colorscale": [
             [
              0,
              "#0d0887"
             ],
             [
              0.1111111111111111,
              "#46039f"
             ],
             [
              0.2222222222222222,
              "#7201a8"
             ],
             [
              0.3333333333333333,
              "#9c179e"
             ],
             [
              0.4444444444444444,
              "#bd3786"
             ],
             [
              0.5555555555555556,
              "#d8576b"
             ],
             [
              0.6666666666666666,
              "#ed7953"
             ],
             [
              0.7777777777777778,
              "#fb9f3a"
             ],
             [
              0.8888888888888888,
              "#fdca26"
             ],
             [
              1,
              "#f0f921"
             ]
            ],
            "type": "histogram2d"
           }
          ],
          "histogram2dcontour": [
           {
            "colorbar": {
             "outlinewidth": 0,
             "ticks": ""
            },
            "colorscale": [
             [
              0,
              "#0d0887"
             ],
             [
              0.1111111111111111,
              "#46039f"
             ],
             [
              0.2222222222222222,
              "#7201a8"
             ],
             [
              0.3333333333333333,
              "#9c179e"
             ],
             [
              0.4444444444444444,
              "#bd3786"
             ],
             [
              0.5555555555555556,
              "#d8576b"
             ],
             [
              0.6666666666666666,
              "#ed7953"
             ],
             [
              0.7777777777777778,
              "#fb9f3a"
             ],
             [
              0.8888888888888888,
              "#fdca26"
             ],
             [
              1,
              "#f0f921"
             ]
            ],
            "type": "histogram2dcontour"
           }
          ],
          "mesh3d": [
           {
            "colorbar": {
             "outlinewidth": 0,
             "ticks": ""
            },
            "type": "mesh3d"
           }
          ],
          "parcoords": [
           {
            "line": {
             "colorbar": {
              "outlinewidth": 0,
              "ticks": ""
             }
            },
            "type": "parcoords"
           }
          ],
          "pie": [
           {
            "automargin": true,
            "type": "pie"
           }
          ],
          "scatter": [
           {
            "marker": {
             "colorbar": {
              "outlinewidth": 0,
              "ticks": ""
             }
            },
            "type": "scatter"
           }
          ],
          "scatter3d": [
           {
            "line": {
             "colorbar": {
              "outlinewidth": 0,
              "ticks": ""
             }
            },
            "marker": {
             "colorbar": {
              "outlinewidth": 0,
              "ticks": ""
             }
            },
            "type": "scatter3d"
           }
          ],
          "scattercarpet": [
           {
            "marker": {
             "colorbar": {
              "outlinewidth": 0,
              "ticks": ""
             }
            },
            "type": "scattercarpet"
           }
          ],
          "scattergeo": [
           {
            "marker": {
             "colorbar": {
              "outlinewidth": 0,
              "ticks": ""
             }
            },
            "type": "scattergeo"
           }
          ],
          "scattergl": [
           {
            "marker": {
             "colorbar": {
              "outlinewidth": 0,
              "ticks": ""
             }
            },
            "type": "scattergl"
           }
          ],
          "scattermapbox": [
           {
            "marker": {
             "colorbar": {
              "outlinewidth": 0,
              "ticks": ""
             }
            },
            "type": "scattermapbox"
           }
          ],
          "scatterpolar": [
           {
            "marker": {
             "colorbar": {
              "outlinewidth": 0,
              "ticks": ""
             }
            },
            "type": "scatterpolar"
           }
          ],
          "scatterpolargl": [
           {
            "marker": {
             "colorbar": {
              "outlinewidth": 0,
              "ticks": ""
             }
            },
            "type": "scatterpolargl"
           }
          ],
          "scatterternary": [
           {
            "marker": {
             "colorbar": {
              "outlinewidth": 0,
              "ticks": ""
             }
            },
            "type": "scatterternary"
           }
          ],
          "surface": [
           {
            "colorbar": {
             "outlinewidth": 0,
             "ticks": ""
            },
            "colorscale": [
             [
              0,
              "#0d0887"
             ],
             [
              0.1111111111111111,
              "#46039f"
             ],
             [
              0.2222222222222222,
              "#7201a8"
             ],
             [
              0.3333333333333333,
              "#9c179e"
             ],
             [
              0.4444444444444444,
              "#bd3786"
             ],
             [
              0.5555555555555556,
              "#d8576b"
             ],
             [
              0.6666666666666666,
              "#ed7953"
             ],
             [
              0.7777777777777778,
              "#fb9f3a"
             ],
             [
              0.8888888888888888,
              "#fdca26"
             ],
             [
              1,
              "#f0f921"
             ]
            ],
            "type": "surface"
           }
          ],
          "table": [
           {
            "cells": {
             "fill": {
              "color": "#EBF0F8"
             },
             "line": {
              "color": "white"
             }
            },
            "header": {
             "fill": {
              "color": "#C8D4E3"
             },
             "line": {
              "color": "white"
             }
            },
            "type": "table"
           }
          ]
         },
         "layout": {
          "annotationdefaults": {
           "arrowcolor": "#2a3f5f",
           "arrowhead": 0,
           "arrowwidth": 1
          },
          "autotypenumbers": "strict",
          "coloraxis": {
           "colorbar": {
            "outlinewidth": 0,
            "ticks": ""
           }
          },
          "colorscale": {
           "diverging": [
            [
             0,
             "#8e0152"
            ],
            [
             0.1,
             "#c51b7d"
            ],
            [
             0.2,
             "#de77ae"
            ],
            [
             0.3,
             "#f1b6da"
            ],
            [
             0.4,
             "#fde0ef"
            ],
            [
             0.5,
             "#f7f7f7"
            ],
            [
             0.6,
             "#e6f5d0"
            ],
            [
             0.7,
             "#b8e186"
            ],
            [
             0.8,
             "#7fbc41"
            ],
            [
             0.9,
             "#4d9221"
            ],
            [
             1,
             "#276419"
            ]
           ],
           "sequential": [
            [
             0,
             "#0d0887"
            ],
            [
             0.1111111111111111,
             "#46039f"
            ],
            [
             0.2222222222222222,
             "#7201a8"
            ],
            [
             0.3333333333333333,
             "#9c179e"
            ],
            [
             0.4444444444444444,
             "#bd3786"
            ],
            [
             0.5555555555555556,
             "#d8576b"
            ],
            [
             0.6666666666666666,
             "#ed7953"
            ],
            [
             0.7777777777777778,
             "#fb9f3a"
            ],
            [
             0.8888888888888888,
             "#fdca26"
            ],
            [
             1,
             "#f0f921"
            ]
           ],
           "sequentialminus": [
            [
             0,
             "#0d0887"
            ],
            [
             0.1111111111111111,
             "#46039f"
            ],
            [
             0.2222222222222222,
             "#7201a8"
            ],
            [
             0.3333333333333333,
             "#9c179e"
            ],
            [
             0.4444444444444444,
             "#bd3786"
            ],
            [
             0.5555555555555556,
             "#d8576b"
            ],
            [
             0.6666666666666666,
             "#ed7953"
            ],
            [
             0.7777777777777778,
             "#fb9f3a"
            ],
            [
             0.8888888888888888,
             "#fdca26"
            ],
            [
             1,
             "#f0f921"
            ]
           ]
          },
          "colorway": [
           "#636efa",
           "#EF553B",
           "#00cc96",
           "#ab63fa",
           "#FFA15A",
           "#19d3f3",
           "#FF6692",
           "#B6E880",
           "#FF97FF",
           "#FECB52"
          ],
          "font": {
           "color": "#2a3f5f"
          },
          "geo": {
           "bgcolor": "white",
           "lakecolor": "white",
           "landcolor": "#E5ECF6",
           "showlakes": true,
           "showland": true,
           "subunitcolor": "white"
          },
          "hoverlabel": {
           "align": "left"
          },
          "hovermode": "closest",
          "mapbox": {
           "style": "light"
          },
          "paper_bgcolor": "white",
          "plot_bgcolor": "#E5ECF6",
          "polar": {
           "angularaxis": {
            "gridcolor": "white",
            "linecolor": "white",
            "ticks": ""
           },
           "bgcolor": "#E5ECF6",
           "radialaxis": {
            "gridcolor": "white",
            "linecolor": "white",
            "ticks": ""
           }
          },
          "scene": {
           "xaxis": {
            "backgroundcolor": "#E5ECF6",
            "gridcolor": "white",
            "gridwidth": 2,
            "linecolor": "white",
            "showbackground": true,
            "ticks": "",
            "zerolinecolor": "white"
           },
           "yaxis": {
            "backgroundcolor": "#E5ECF6",
            "gridcolor": "white",
            "gridwidth": 2,
            "linecolor": "white",
            "showbackground": true,
            "ticks": "",
            "zerolinecolor": "white"
           },
           "zaxis": {
            "backgroundcolor": "#E5ECF6",
            "gridcolor": "white",
            "gridwidth": 2,
            "linecolor": "white",
            "showbackground": true,
            "ticks": "",
            "zerolinecolor": "white"
           }
          },
          "shapedefaults": {
           "line": {
            "color": "#2a3f5f"
           }
          },
          "ternary": {
           "aaxis": {
            "gridcolor": "white",
            "linecolor": "white",
            "ticks": ""
           },
           "baxis": {
            "gridcolor": "white",
            "linecolor": "white",
            "ticks": ""
           },
           "bgcolor": "#E5ECF6",
           "caxis": {
            "gridcolor": "white",
            "linecolor": "white",
            "ticks": ""
           }
          },
          "title": {
           "x": 0.05
          },
          "xaxis": {
           "automargin": true,
           "gridcolor": "white",
           "linecolor": "white",
           "ticks": "",
           "title": {
            "standoff": 15
           },
           "zerolinecolor": "white",
           "zerolinewidth": 2
          },
          "yaxis": {
           "automargin": true,
           "gridcolor": "white",
           "linecolor": "white",
           "ticks": "",
           "title": {
            "standoff": 15
           },
           "zerolinecolor": "white",
           "zerolinewidth": 2
          }
         }
        },
        "title": "True Position",
        "xaxis": {
         "title": {
          "text": "Time (second)"
         }
        },
        "yaxis": {
         "title": {
          "text": "Position (meters)"
         }
        }
       }
      },
      "text/html": [
       "<div\n",
       "    class=\"webio-mountpoint\"\n",
       "    data-webio-mountpoint=\"17517879235046891419\"\n",
       ">\n",
       "    <script>\n",
       "    (function(){\n",
       "    // Some integrations (namely, IJulia/Jupyter) use an alternate render pathway than\n",
       "    // just putting the html on the page. If WebIO isn't defined, then it's pretty likely\n",
       "    // that we're in one of those situations and the integration just isn't installed\n",
       "    // correctly.\n",
       "    if (typeof window.WebIO === \"undefined\") {\n",
       "        document\n",
       "            .querySelector('[data-webio-mountpoint=\"17517879235046891419\"]')\n",
       "            .innerHTML = (\n",
       "                '<div style=\"padding: 1em; background-color: #f8d6da; border: 1px solid #f5c6cb; font-weight: bold;\">' +\n",
       "                '<p><strong>WebIO not detected.</strong></p>' +\n",
       "                '<p>Please read ' +\n",
       "                '<a href=\"https://juliagizmos.github.io/WebIO.jl/latest/troubleshooting/not-detected/\" target=\"_blank\">the troubleshooting guide</a> ' +\n",
       "                'for more information on how to resolve this issue.</p>' +\n",
       "                '<p><a href=\"https://juliagizmos.github.io/WebIO.jl/latest/troubleshooting/not-detected/\" target=\"_blank\">https://juliagizmos.github.io/WebIO.jl/latest/troubleshooting/not-detected/</a></p>' +\n",
       "                '</div>'\n",
       "            );\n",
       "        return;\n",
       "    }\n",
       "    WebIO.mount(\n",
       "        document.querySelector('[data-webio-mountpoint=\"17517879235046891419\"]'),\n",
       "        {\"props\":{},\"nodeType\":\"Scope\",\"type\":\"node\",\"instanceArgs\":{\"imports\":{\"data\":[{\"name\":\"Plotly\",\"type\":\"js\",\"url\":\"\\/assetserver\\/627f17ff06762af3874159c00b9b1e00e50688bc-plotly.min.js\"},{\"name\":null,\"type\":\"js\",\"url\":\"\\/assetserver\\/1a276a0acb11ad47020d3f379225d41bbd0aeef0-plotly_webio.bundle.js\"}],\"type\":\"async_block\"},\"id\":\"1640488485161587535\",\"handlers\":{\"_toImage\":[\"(function (options){return this.Plotly.toImage(this.plotElem,options).then((function (data){return WebIO.setval({\\\"name\\\":\\\"image\\\",\\\"scope\\\":\\\"1640488485161587535\\\",\\\"id\\\":\\\"6905796113318043694\\\",\\\"type\\\":\\\"observable\\\"},data)}))})\"],\"__get_gd_contents\":[\"(function (prop){prop==\\\"data\\\" ? (WebIO.setval({\\\"name\\\":\\\"__gd_contents\\\",\\\"scope\\\":\\\"1640488485161587535\\\",\\\"id\\\":\\\"8680453734445748770\\\",\\\"type\\\":\\\"observable\\\"},this.plotElem.data)) : undefined; return prop==\\\"layout\\\" ? (WebIO.setval({\\\"name\\\":\\\"__gd_contents\\\",\\\"scope\\\":\\\"1640488485161587535\\\",\\\"id\\\":\\\"8680453734445748770\\\",\\\"type\\\":\\\"observable\\\"},this.plotElem.layout)) : undefined})\"],\"_downloadImage\":[\"(function (options){return this.Plotly.downloadImage(this.plotElem,options)})\"],\"_commands\":[\"(function (args){var fn=args.shift(); var elem=this.plotElem; var Plotly=this.Plotly; args.unshift(elem); return Plotly[fn].apply(this,args)})\"]},\"systemjs_options\":null,\"mount_callbacks\":[\"function () {\\n    var handler = ((function (Plotly,PlotlyWebIO){PlotlyWebIO.init(WebIO); var gd=this.dom.querySelector(\\\"#plot-de01ca9c-75f9-4613-9415-20a179cc76bf\\\"); this.plotElem=gd; this.Plotly=Plotly; (window.Blink!==undefined) ? (gd.style.width=\\\"100%\\\", gd.style.height=\\\"100vh\\\", gd.style.marginLeft=\\\"0%\\\", gd.style.marginTop=\\\"0vh\\\") : undefined; window.onresize=(function (){return Plotly.Plots.resize(gd)}); Plotly.newPlot(gd,[{\\\"mode\\\":\\\"markers\\\",\\\"y\\\":[1015.0,1015.0480399999999,1015.09216,1015.13236,1015.1686400000001,1015.201,1015.22944,1015.25396,1015.27456,1015.29124,1015.304,1015.3128399999999,1015.31776,1015.31876,1015.3158400000001,1015.309,1015.29824,1015.28356,1015.26496,1015.2424400000001,1015.216,1015.1856399999999,1015.1513600000001,1015.11316,1015.07104,1015.025,1014.9750399999999,1014.92116,1014.86336,1014.80164,1014.736,1014.66644,1014.5929600000001,1014.5155599999999,1014.43424,1014.349,1014.2598399999999,1014.1667600000001,1014.06976,1013.96884,1013.864,1013.75524,1013.64256,1013.5259599999999,1013.40544,1013.281,1013.1526399999999,1013.02036,1012.88416,1012.74404,1012.6,1012.4520399999999,1012.30016,1012.14436,1011.98464,1011.821,1011.6534399999999,1011.4819600000001,1011.30656,1011.12724,1010.944,1010.75684,1010.5657600000001,1010.37076,1010.1718400000001,1009.969,1009.7622399999999,1009.55156,1009.33696,1009.1184400000001,1008.896,1008.66964,1008.4393600000001,1008.20516,1007.96704,1007.725,1007.4790399999999,1007.22916,1006.97536,1006.7176400000001,1006.456,1006.19044,1005.92096,1005.64756,1005.3702400000001,1005.089,1004.8038399999999,1004.51476,1004.22176,1003.92484,1003.624,1003.3192399999999,1003.01056,1002.69796,1002.38144,1002.061,1001.73664,1001.40836,1001.07616,1000.74004,1000.4,1000.0560399999999,999.70816,999.35636,999.0006400000001,998.641,998.27744,997.9099600000001,997.53856,997.1632400000001,996.784,996.4008399999999,996.01376,995.62276,995.22784,994.829,994.42624,994.0195600000001,993.60896,993.1944400000001,992.776,992.3536399999999,991.92736,991.49716,991.06304],\\\"type\\\":\\\"scatter\\\",\\\"name\\\":\\\"True Position\\\",\\\"x\\\":[0.0,0.02,0.04,0.06,0.08,0.1,0.12,0.14,0.16,0.18,0.2,0.22,0.24,0.26,0.28,0.3,0.32,0.34,0.36,0.38,0.4,0.42,0.44,0.46,0.48,0.5,0.52,0.54,0.56,0.58,0.6,0.62,0.64,0.66,0.68,0.7000000000000001,0.72,0.74,0.76,0.78,0.8,0.8200000000000001,0.84,0.86,0.88,0.9,0.92,0.9400000000000001,0.96,0.98,1.0,1.02,1.04,1.06,1.08,1.1,1.12,1.1400000000000001,1.16,1.18,1.2,1.22,1.24,1.26,1.28,1.3,1.32,1.34,1.36,1.3800000000000001,1.4000000000000001,1.42,1.44,1.46,1.48,1.5,1.52,1.54,1.56,1.58,1.6,1.62,1.6400000000000001,1.6600000000000001,1.68,1.7,1.72,1.74,1.76,1.78,1.8,1.82,1.84,1.86,1.8800000000000001,1.9000000000000001,1.92,1.94,1.96,1.98,2.0,2.02,2.04,2.06,2.08,2.1,2.12,2.14,2.16,2.18,2.2,2.22,2.24,2.2600000000000002,2.2800000000000002,2.3000000000000003,2.32,2.34,2.36,2.38,2.4,2.42,2.44,2.46,2.48]}],{\\\"xaxis\\\":{\\\"title\\\":{\\\"text\\\":\\\"Time (second)\\\"}},\\\"template\\\":{\\\"layout\\\":{\\\"coloraxis\\\":{\\\"colorbar\\\":{\\\"ticks\\\":\\\"\\\",\\\"outlinewidth\\\":0}},\\\"xaxis\\\":{\\\"gridcolor\\\":\\\"white\\\",\\\"zerolinewidth\\\":2,\\\"title\\\":{\\\"standoff\\\":15},\\\"ticks\\\":\\\"\\\",\\\"zerolinecolor\\\":\\\"white\\\",\\\"automargin\\\":true,\\\"linecolor\\\":\\\"white\\\"},\\\"hovermode\\\":\\\"closest\\\",\\\"paper_bgcolor\\\":\\\"white\\\",\\\"geo\\\":{\\\"showlakes\\\":true,\\\"showland\\\":true,\\\"landcolor\\\":\\\"#E5ECF6\\\",\\\"bgcolor\\\":\\\"white\\\",\\\"subunitcolor\\\":\\\"white\\\",\\\"lakecolor\\\":\\\"white\\\"},\\\"colorscale\\\":{\\\"sequential\\\":[[0.0,\\\"#0d0887\\\"],[0.1111111111111111,\\\"#46039f\\\"],[0.2222222222222222,\\\"#7201a8\\\"],[0.3333333333333333,\\\"#9c179e\\\"],[0.4444444444444444,\\\"#bd3786\\\"],[0.5555555555555556,\\\"#d8576b\\\"],[0.6666666666666666,\\\"#ed7953\\\"],[0.7777777777777778,\\\"#fb9f3a\\\"],[0.8888888888888888,\\\"#fdca26\\\"],[1.0,\\\"#f0f921\\\"]],\\\"diverging\\\":[[0,\\\"#8e0152\\\"],[0.1,\\\"#c51b7d\\\"],[0.2,\\\"#de77ae\\\"],[0.3,\\\"#f1b6da\\\"],[0.4,\\\"#fde0ef\\\"],[0.5,\\\"#f7f7f7\\\"],[0.6,\\\"#e6f5d0\\\"],[0.7,\\\"#b8e186\\\"],[0.8,\\\"#7fbc41\\\"],[0.9,\\\"#4d9221\\\"],[1,\\\"#276419\\\"]],\\\"sequentialminus\\\":[[0.0,\\\"#0d0887\\\"],[0.1111111111111111,\\\"#46039f\\\"],[0.2222222222222222,\\\"#7201a8\\\"],[0.3333333333333333,\\\"#9c179e\\\"],[0.4444444444444444,\\\"#bd3786\\\"],[0.5555555555555556,\\\"#d8576b\\\"],[0.6666666666666666,\\\"#ed7953\\\"],[0.7777777777777778,\\\"#fb9f3a\\\"],[0.8888888888888888,\\\"#fdca26\\\"],[1.0,\\\"#f0f921\\\"]]},\\\"yaxis\\\":{\\\"gridcolor\\\":\\\"white\\\",\\\"zerolinewidth\\\":2,\\\"title\\\":{\\\"standoff\\\":15},\\\"ticks\\\":\\\"\\\",\\\"zerolinecolor\\\":\\\"white\\\",\\\"automargin\\\":true,\\\"linecolor\\\":\\\"white\\\"},\\\"shapedefaults\\\":{\\\"line\\\":{\\\"color\\\":\\\"#2a3f5f\\\"}},\\\"hoverlabel\\\":{\\\"align\\\":\\\"left\\\"},\\\"mapbox\\\":{\\\"style\\\":\\\"light\\\"},\\\"polar\\\":{\\\"angularaxis\\\":{\\\"gridcolor\\\":\\\"white\\\",\\\"ticks\\\":\\\"\\\",\\\"linecolor\\\":\\\"white\\\"},\\\"bgcolor\\\":\\\"#E5ECF6\\\",\\\"radialaxis\\\":{\\\"gridcolor\\\":\\\"white\\\",\\\"ticks\\\":\\\"\\\",\\\"linecolor\\\":\\\"white\\\"}},\\\"autotypenumbers\\\":\\\"strict\\\",\\\"font\\\":{\\\"color\\\":\\\"#2a3f5f\\\"},\\\"ternary\\\":{\\\"baxis\\\":{\\\"gridcolor\\\":\\\"white\\\",\\\"ticks\\\":\\\"\\\",\\\"linecolor\\\":\\\"white\\\"},\\\"bgcolor\\\":\\\"#E5ECF6\\\",\\\"caxis\\\":{\\\"gridcolor\\\":\\\"white\\\",\\\"ticks\\\":\\\"\\\",\\\"linecolor\\\":\\\"white\\\"},\\\"aaxis\\\":{\\\"gridcolor\\\":\\\"white\\\",\\\"ticks\\\":\\\"\\\",\\\"linecolor\\\":\\\"white\\\"}},\\\"annotationdefaults\\\":{\\\"arrowhead\\\":0,\\\"arrowwidth\\\":1,\\\"arrowcolor\\\":\\\"#2a3f5f\\\"},\\\"plot_bgcolor\\\":\\\"#E5ECF6\\\",\\\"title\\\":{\\\"x\\\":0.05},\\\"scene\\\":{\\\"xaxis\\\":{\\\"gridcolor\\\":\\\"white\\\",\\\"gridwidth\\\":2,\\\"backgroundcolor\\\":\\\"#E5ECF6\\\",\\\"ticks\\\":\\\"\\\",\\\"showbackground\\\":true,\\\"zerolinecolor\\\":\\\"white\\\",\\\"linecolor\\\":\\\"white\\\"},\\\"zaxis\\\":{\\\"gridcolor\\\":\\\"white\\\",\\\"gridwidth\\\":2,\\\"backgroundcolor\\\":\\\"#E5ECF6\\\",\\\"ticks\\\":\\\"\\\",\\\"showbackground\\\":true,\\\"zerolinecolor\\\":\\\"white\\\",\\\"linecolor\\\":\\\"white\\\"},\\\"yaxis\\\":{\\\"gridcolor\\\":\\\"white\\\",\\\"gridwidth\\\":2,\\\"backgroundcolor\\\":\\\"#E5ECF6\\\",\\\"ticks\\\":\\\"\\\",\\\"showbackground\\\":true,\\\"zerolinecolor\\\":\\\"white\\\",\\\"linecolor\\\":\\\"white\\\"}},\\\"colorway\\\":[\\\"#636efa\\\",\\\"#EF553B\\\",\\\"#00cc96\\\",\\\"#ab63fa\\\",\\\"#FFA15A\\\",\\\"#19d3f3\\\",\\\"#FF6692\\\",\\\"#B6E880\\\",\\\"#FF97FF\\\",\\\"#FECB52\\\"]},\\\"data\\\":{\\\"barpolar\\\":[{\\\"type\\\":\\\"barpolar\\\",\\\"marker\\\":{\\\"line\\\":{\\\"color\\\":\\\"#E5ECF6\\\",\\\"width\\\":0.5}}}],\\\"carpet\\\":[{\\\"aaxis\\\":{\\\"gridcolor\\\":\\\"white\\\",\\\"endlinecolor\\\":\\\"#2a3f5f\\\",\\\"minorgridcolor\\\":\\\"white\\\",\\\"startlinecolor\\\":\\\"#2a3f5f\\\",\\\"linecolor\\\":\\\"white\\\"},\\\"type\\\":\\\"carpet\\\",\\\"baxis\\\":{\\\"gridcolor\\\":\\\"white\\\",\\\"endlinecolor\\\":\\\"#2a3f5f\\\",\\\"minorgridcolor\\\":\\\"white\\\",\\\"startlinecolor\\\":\\\"#2a3f5f\\\",\\\"linecolor\\\":\\\"white\\\"}}],\\\"scatterpolar\\\":[{\\\"type\\\":\\\"scatterpolar\\\",\\\"marker\\\":{\\\"colorbar\\\":{\\\"ticks\\\":\\\"\\\",\\\"outlinewidth\\\":0}}}],\\\"parcoords\\\":[{\\\"line\\\":{\\\"colorbar\\\":{\\\"ticks\\\":\\\"\\\",\\\"outlinewidth\\\":0}},\\\"type\\\":\\\"parcoords\\\"}],\\\"scatter\\\":[{\\\"type\\\":\\\"scatter\\\",\\\"marker\\\":{\\\"colorbar\\\":{\\\"ticks\\\":\\\"\\\",\\\"outlinewidth\\\":0}}}],\\\"histogram2dcontour\\\":[{\\\"colorbar\\\":{\\\"ticks\\\":\\\"\\\",\\\"outlinewidth\\\":0},\\\"type\\\":\\\"histogram2dcontour\\\",\\\"colorscale\\\":[[0.0,\\\"#0d0887\\\"],[0.1111111111111111,\\\"#46039f\\\"],[0.2222222222222222,\\\"#7201a8\\\"],[0.3333333333333333,\\\"#9c179e\\\"],[0.4444444444444444,\\\"#bd3786\\\"],[0.5555555555555556,\\\"#d8576b\\\"],[0.6666666666666666,\\\"#ed7953\\\"],[0.7777777777777778,\\\"#fb9f3a\\\"],[0.8888888888888888,\\\"#fdca26\\\"],[1.0,\\\"#f0f921\\\"]]}],\\\"contour\\\":[{\\\"colorbar\\\":{\\\"ticks\\\":\\\"\\\",\\\"outlinewidth\\\":0},\\\"type\\\":\\\"contour\\\",\\\"colorscale\\\":[[0.0,\\\"#0d0887\\\"],[0.1111111111111111,\\\"#46039f\\\"],[0.2222222222222222,\\\"#7201a8\\\"],[0.3333333333333333,\\\"#9c179e\\\"],[0.4444444444444444,\\\"#bd3786\\\"],[0.5555555555555556,\\\"#d8576b\\\"],[0.6666666666666666,\\\"#ed7953\\\"],[0.7777777777777778,\\\"#fb9f3a\\\"],[0.8888888888888888,\\\"#fdca26\\\"],[1.0,\\\"#f0f921\\\"]]}],\\\"scattercarpet\\\":[{\\\"type\\\":\\\"scattercarpet\\\",\\\"marker\\\":{\\\"colorbar\\\":{\\\"ticks\\\":\\\"\\\",\\\"outlinewidth\\\":0}}}],\\\"mesh3d\\\":[{\\\"colorbar\\\":{\\\"ticks\\\":\\\"\\\",\\\"outlinewidth\\\":0},\\\"type\\\":\\\"mesh3d\\\"}],\\\"surface\\\":[{\\\"colorbar\\\":{\\\"ticks\\\":\\\"\\\",\\\"outlinewidth\\\":0},\\\"type\\\":\\\"surface\\\",\\\"colorscale\\\":[[0.0,\\\"#0d0887\\\"],[0.1111111111111111,\\\"#46039f\\\"],[0.2222222222222222,\\\"#7201a8\\\"],[0.3333333333333333,\\\"#9c179e\\\"],[0.4444444444444444,\\\"#bd3786\\\"],[0.5555555555555556,\\\"#d8576b\\\"],[0.6666666666666666,\\\"#ed7953\\\"],[0.7777777777777778,\\\"#fb9f3a\\\"],[0.8888888888888888,\\\"#fdca26\\\"],[1.0,\\\"#f0f921\\\"]]}],\\\"scattermapbox\\\":[{\\\"type\\\":\\\"scattermapbox\\\",\\\"marker\\\":{\\\"colorbar\\\":{\\\"ticks\\\":\\\"\\\",\\\"outlinewidth\\\":0}}}],\\\"scattergeo\\\":[{\\\"type\\\":\\\"scattergeo\\\",\\\"marker\\\":{\\\"colorbar\\\":{\\\"ticks\\\":\\\"\\\",\\\"outlinewidth\\\":0}}}],\\\"histogram\\\":[{\\\"type\\\":\\\"histogram\\\",\\\"marker\\\":{\\\"colorbar\\\":{\\\"ticks\\\":\\\"\\\",\\\"outlinewidth\\\":0}}}],\\\"pie\\\":[{\\\"type\\\":\\\"pie\\\",\\\"automargin\\\":true}],\\\"choropleth\\\":[{\\\"colorbar\\\":{\\\"ticks\\\":\\\"\\\",\\\"outlinewidth\\\":0},\\\"type\\\":\\\"choropleth\\\"}],\\\"heatmapgl\\\":[{\\\"colorbar\\\":{\\\"ticks\\\":\\\"\\\",\\\"outlinewidth\\\":0},\\\"type\\\":\\\"heatmapgl\\\",\\\"colorscale\\\":[[0.0,\\\"#0d0887\\\"],[0.1111111111111111,\\\"#46039f\\\"],[0.2222222222222222,\\\"#7201a8\\\"],[0.3333333333333333,\\\"#9c179e\\\"],[0.4444444444444444,\\\"#bd3786\\\"],[0.5555555555555556,\\\"#d8576b\\\"],[0.6666666666666666,\\\"#ed7953\\\"],[0.7777777777777778,\\\"#fb9f3a\\\"],[0.8888888888888888,\\\"#fdca26\\\"],[1.0,\\\"#f0f921\\\"]]}],\\\"bar\\\":[{\\\"type\\\":\\\"bar\\\",\\\"error_y\\\":{\\\"color\\\":\\\"#2a3f5f\\\"},\\\"error_x\\\":{\\\"color\\\":\\\"#2a3f5f\\\"},\\\"marker\\\":{\\\"line\\\":{\\\"color\\\":\\\"#E5ECF6\\\",\\\"width\\\":0.5}}}],\\\"heatmap\\\":[{\\\"colorbar\\\":{\\\"ticks\\\":\\\"\\\",\\\"outlinewidth\\\":0},\\\"type\\\":\\\"heatmap\\\",\\\"colorscale\\\":[[0.0,\\\"#0d0887\\\"],[0.1111111111111111,\\\"#46039f\\\"],[0.2222222222222222,\\\"#7201a8\\\"],[0.3333333333333333,\\\"#9c179e\\\"],[0.4444444444444444,\\\"#bd3786\\\"],[0.5555555555555556,\\\"#d8576b\\\"],[0.6666666666666666,\\\"#ed7953\\\"],[0.7777777777777778,\\\"#fb9f3a\\\"],[0.8888888888888888,\\\"#fdca26\\\"],[1.0,\\\"#f0f921\\\"]]}],\\\"contourcarpet\\\":[{\\\"colorbar\\\":{\\\"ticks\\\":\\\"\\\",\\\"outlinewidth\\\":0},\\\"type\\\":\\\"contourcarpet\\\"}],\\\"table\\\":[{\\\"type\\\":\\\"table\\\",\\\"header\\\":{\\\"line\\\":{\\\"color\\\":\\\"white\\\"},\\\"fill\\\":{\\\"color\\\":\\\"#C8D4E3\\\"}},\\\"cells\\\":{\\\"line\\\":{\\\"color\\\":\\\"white\\\"},\\\"fill\\\":{\\\"color\\\":\\\"#EBF0F8\\\"}}}],\\\"scatter3d\\\":[{\\\"line\\\":{\\\"colorbar\\\":{\\\"ticks\\\":\\\"\\\",\\\"outlinewidth\\\":0}},\\\"type\\\":\\\"scatter3d\\\",\\\"marker\\\":{\\\"colorbar\\\":{\\\"ticks\\\":\\\"\\\",\\\"outlinewidth\\\":0}}}],\\\"scattergl\\\":[{\\\"type\\\":\\\"scattergl\\\",\\\"marker\\\":{\\\"colorbar\\\":{\\\"ticks\\\":\\\"\\\",\\\"outlinewidth\\\":0}}}],\\\"histogram2d\\\":[{\\\"colorbar\\\":{\\\"ticks\\\":\\\"\\\",\\\"outlinewidth\\\":0},\\\"type\\\":\\\"histogram2d\\\",\\\"colorscale\\\":[[0.0,\\\"#0d0887\\\"],[0.1111111111111111,\\\"#46039f\\\"],[0.2222222222222222,\\\"#7201a8\\\"],[0.3333333333333333,\\\"#9c179e\\\"],[0.4444444444444444,\\\"#bd3786\\\"],[0.5555555555555556,\\\"#d8576b\\\"],[0.6666666666666666,\\\"#ed7953\\\"],[0.7777777777777778,\\\"#fb9f3a\\\"],[0.8888888888888888,\\\"#fdca26\\\"],[1.0,\\\"#f0f921\\\"]]}],\\\"scatterternary\\\":[{\\\"type\\\":\\\"scatterternary\\\",\\\"marker\\\":{\\\"colorbar\\\":{\\\"ticks\\\":\\\"\\\",\\\"outlinewidth\\\":0}}}],\\\"scatterpolargl\\\":[{\\\"type\\\":\\\"scatterpolargl\\\",\\\"marker\\\":{\\\"colorbar\\\":{\\\"ticks\\\":\\\"\\\",\\\"outlinewidth\\\":0}}}]}},\\\"legend\\\":{\\\"title\\\":\\\"Legend Title\\\"},\\\"margin\\\":{\\\"l\\\":50,\\\"b\\\":50,\\\"r\\\":50,\\\"t\\\":60},\\\"title\\\":\\\"True Position\\\",\\\"yaxis\\\":{\\\"title\\\":{\\\"text\\\":\\\"Position (meters)\\\"}}},{\\\"showLink\\\":false,\\\"editable\\\":false,\\\"responsive\\\":true,\\\"staticPlot\\\":false,\\\"scrollZoom\\\":true}); gd.on(\\\"plotly_hover\\\",(function (data){var filtered_data=WebIO.PlotlyCommands.filterEventData(gd,data,\\\"hover\\\"); return !(filtered_data.isnil) ? (WebIO.setval({\\\"name\\\":\\\"hover\\\",\\\"scope\\\":\\\"1640488485161587535\\\",\\\"id\\\":\\\"9102487067360499879\\\",\\\"type\\\":\\\"observable\\\"},filtered_data.out)) : undefined})); gd.on(\\\"plotly_unhover\\\",(function (){return WebIO.setval({\\\"name\\\":\\\"hover\\\",\\\"scope\\\":\\\"1640488485161587535\\\",\\\"id\\\":\\\"9102487067360499879\\\",\\\"type\\\":\\\"observable\\\"},{})})); gd.on(\\\"plotly_selected\\\",(function (data){var filtered_data=WebIO.PlotlyCommands.filterEventData(gd,data,\\\"selected\\\"); return !(filtered_data.isnil) ? (WebIO.setval({\\\"name\\\":\\\"selected\\\",\\\"scope\\\":\\\"1640488485161587535\\\",\\\"id\\\":\\\"14362663362671711099\\\",\\\"type\\\":\\\"observable\\\"},filtered_data.out)) : undefined})); gd.on(\\\"plotly_deselect\\\",(function (){return WebIO.setval({\\\"name\\\":\\\"selected\\\",\\\"scope\\\":\\\"1640488485161587535\\\",\\\"id\\\":\\\"14362663362671711099\\\",\\\"type\\\":\\\"observable\\\"},{})})); gd.on(\\\"plotly_relayout\\\",(function (data){var filtered_data=WebIO.PlotlyCommands.filterEventData(gd,data,\\\"relayout\\\"); return !(filtered_data.isnil) ? (WebIO.setval({\\\"name\\\":\\\"relayout\\\",\\\"scope\\\":\\\"1640488485161587535\\\",\\\"id\\\":\\\"8248567729370257609\\\",\\\"type\\\":\\\"observable\\\"},filtered_data.out)) : undefined})); return gd.on(\\\"plotly_click\\\",(function (data){var filtered_data=WebIO.PlotlyCommands.filterEventData(gd,data,\\\"click\\\"); return !(filtered_data.isnil) ? (WebIO.setval({\\\"name\\\":\\\"click\\\",\\\"scope\\\":\\\"1640488485161587535\\\",\\\"id\\\":\\\"11206575038943147636\\\",\\\"type\\\":\\\"observable\\\"},filtered_data.out)) : undefined}))}));\\n    (WebIO.importBlock({\\\"data\\\":[{\\\"name\\\":\\\"Plotly\\\",\\\"type\\\":\\\"js\\\",\\\"url\\\":\\\"\\/assetserver\\/627f17ff06762af3874159c00b9b1e00e50688bc-plotly.min.js\\\"},{\\\"name\\\":null,\\\"type\\\":\\\"js\\\",\\\"url\\\":\\\"\\/assetserver\\/1a276a0acb11ad47020d3f379225d41bbd0aeef0-plotly_webio.bundle.js\\\"}],\\\"type\\\":\\\"async_block\\\"})).then((imports) => handler.apply(this, imports));\\n}\\n\"],\"observables\":{\"_toImage\":{\"sync\":false,\"id\":\"13428321359023605027\",\"value\":{}},\"hover\":{\"sync\":false,\"id\":\"9102487067360499879\",\"value\":{}},\"selected\":{\"sync\":false,\"id\":\"14362663362671711099\",\"value\":{}},\"__gd_contents\":{\"sync\":false,\"id\":\"8680453734445748770\",\"value\":{}},\"click\":{\"sync\":false,\"id\":\"11206575038943147636\",\"value\":{}},\"image\":{\"sync\":true,\"id\":\"6905796113318043694\",\"value\":\"\"},\"__get_gd_contents\":{\"sync\":false,\"id\":\"5072035792945497791\",\"value\":\"\"},\"_downloadImage\":{\"sync\":false,\"id\":\"15149099925365239365\",\"value\":{}},\"relayout\":{\"sync\":false,\"id\":\"8248567729370257609\",\"value\":{}},\"_commands\":{\"sync\":false,\"id\":\"5508263565432081413\",\"value\":[]}}},\"children\":[{\"props\":{\"id\":\"plot-de01ca9c-75f9-4613-9415-20a179cc76bf\"},\"nodeType\":\"DOM\",\"type\":\"node\",\"instanceArgs\":{\"namespace\":\"html\",\"tag\":\"div\"},\"children\":[]}]},\n",
       "        window,\n",
       "    );\n",
       "    })()\n",
       "    </script>\n",
       "</div>\n"
      ],
      "text/plain": [
       "data: [\n",
       "  \"scatter with fields mode, name, type, x, and y\"\n",
       "]\n",
       "\n",
       "layout: \"layout with fields legend, margin, template, title, xaxis, and yaxis\"\n",
       "\n"
      ]
     },
     "execution_count": 6,
     "metadata": {},
     "output_type": "execute_result"
    }
   ],
   "source": [
    "time_axis_sec = [delta_time_sec * (t-1) for t in 1:time_steps]\n",
    "\n",
    "plot(\n",
    "    scatter(\n",
    "        mode=\"markers\",\n",
    "        x=time_axis_sec,\n",
    "        y=true_state_fcn_time[1, :],\n",
    "        name=\"True Position\"\n",
    "    ),\n",
    "    Layout(\n",
    "        title=\"True Position\",\n",
    "        xaxis_title=\"Time (second)\",\n",
    "        yaxis_title=\"Position (meters)\",\n",
    "        legend_title=\"Legend Title\",\n",
    "    ),\n",
    "    config=PlotConfig(scrollZoom=true)\n",
    ")"
   ]
  },
  {
   "cell_type": "markdown",
   "id": "3aeee694",
   "metadata": {},
   "source": [
    "Plot the true velocity"
   ]
  },
  {
   "cell_type": "code",
   "execution_count": 7,
   "id": "a182de7e",
   "metadata": {},
   "outputs": [
    {
     "data": {
      "application/vnd.plotly.v1+json": {
       "config": {
        "editable": false,
        "responsive": true,
        "scrollZoom": true,
        "showLink": false,
        "staticPlot": false
       },
       "data": [
        {
         "mode": "markers",
         "name": "True Position",
         "type": "scatter",
         "x": [
          0,
          0.02,
          0.04,
          0.06,
          0.08,
          0.1,
          0.12,
          0.14,
          0.16,
          0.18,
          0.2,
          0.22,
          0.24,
          0.26,
          0.28,
          0.3,
          0.32,
          0.34,
          0.36,
          0.38,
          0.4,
          0.42,
          0.44,
          0.46,
          0.48,
          0.5,
          0.52,
          0.54,
          0.56,
          0.58,
          0.6,
          0.62,
          0.64,
          0.66,
          0.68,
          0.7000000000000001,
          0.72,
          0.74,
          0.76,
          0.78,
          0.8,
          0.8200000000000001,
          0.84,
          0.86,
          0.88,
          0.9,
          0.92,
          0.9400000000000001,
          0.96,
          0.98,
          1,
          1.02,
          1.04,
          1.06,
          1.08,
          1.1,
          1.12,
          1.1400000000000001,
          1.16,
          1.18,
          1.2,
          1.22,
          1.24,
          1.26,
          1.28,
          1.3,
          1.32,
          1.34,
          1.36,
          1.3800000000000001,
          1.4000000000000001,
          1.42,
          1.44,
          1.46,
          1.48,
          1.5,
          1.52,
          1.54,
          1.56,
          1.58,
          1.6,
          1.62,
          1.6400000000000001,
          1.6600000000000001,
          1.68,
          1.7,
          1.72,
          1.74,
          1.76,
          1.78,
          1.8,
          1.82,
          1.84,
          1.86,
          1.8800000000000001,
          1.9000000000000001,
          1.92,
          1.94,
          1.96,
          1.98,
          2,
          2.02,
          2.04,
          2.06,
          2.08,
          2.1,
          2.12,
          2.14,
          2.16,
          2.18,
          2.2,
          2.22,
          2.24,
          2.2600000000000002,
          2.2800000000000002,
          2.3000000000000003,
          2.32,
          2.34,
          2.36,
          2.38,
          2.4,
          2.42,
          2.44,
          2.46,
          2.48
         ],
         "y": [
          2.5,
          2.304,
          2.108,
          1.912,
          1.716,
          1.52,
          1.324,
          1.1279999999999997,
          0.9319999999999999,
          0.736,
          0.5399999999999998,
          0.34399999999999986,
          0.14800000000000013,
          -0.04800000000000049,
          -0.24400000000000066,
          -0.43999999999999995,
          -0.6360000000000001,
          -0.8320000000000003,
          -1.028,
          -1.2240000000000002,
          -1.4200000000000004,
          -1.6160000000000005,
          -1.8120000000000003,
          -2.008000000000001,
          -2.2039999999999997,
          -2.4000000000000004,
          -2.596000000000001,
          -2.7920000000000007,
          -2.9880000000000013,
          -3.184,
          -3.38,
          -3.5760000000000005,
          -3.7720000000000002,
          -3.968000000000001,
          -4.164000000000001,
          -4.360000000000001,
          -4.556,
          -4.752000000000001,
          -4.948,
          -5.144000000000001,
          -5.340000000000001,
          -5.536000000000001,
          -5.732000000000001,
          -5.928000000000001,
          -6.1240000000000006,
          -6.32,
          -6.516000000000002,
          -6.7120000000000015,
          -6.9079999999999995,
          -7.104000000000001,
          -7.300000000000001,
          -7.496,
          -7.692000000000002,
          -7.888000000000002,
          -8.084000000000001,
          -8.280000000000001,
          -8.476000000000003,
          -8.672000000000002,
          -8.868,
          -9.064,
          -9.26,
          -9.456000000000001,
          -9.652000000000001,
          -9.848,
          -10.044,
          -10.240000000000002,
          -10.436000000000002,
          -10.632000000000001,
          -10.828000000000001,
          -11.024000000000003,
          -11.220000000000002,
          -11.416,
          -11.612,
          -11.808,
          -12.004000000000001,
          -12.200000000000001,
          -12.396,
          -12.592000000000002,
          -12.788000000000002,
          -12.984000000000002,
          -13.180000000000001,
          -13.376000000000003,
          -13.572000000000003,
          -13.768000000000004,
          -13.964000000000002,
          -14.16,
          -14.356000000000002,
          -14.552,
          -14.748000000000001,
          -14.944000000000003,
          -15.14,
          -15.336000000000002,
          -15.532000000000004,
          -15.728000000000002,
          -15.924000000000003,
          -16.12,
          -16.316,
          -16.512,
          -16.708000000000002,
          -16.904,
          -17.1,
          -17.296000000000003,
          -17.492,
          -17.688000000000002,
          -17.884000000000004,
          -18.080000000000002,
          -18.276000000000003,
          -18.472,
          -18.668000000000003,
          -18.864000000000004,
          -19.060000000000002,
          -19.256000000000004,
          -19.452000000000005,
          -19.648000000000003,
          -19.844000000000005,
          -20.040000000000003,
          -20.236,
          -20.432,
          -20.628,
          -20.824,
          -21.02,
          -21.216,
          -21.412000000000003,
          -21.608,
          -21.804000000000002
         ]
        }
       ],
       "frames": [],
       "layout": {
        "legend": {
         "title": "Legend Title"
        },
        "margin": {
         "b": 50,
         "l": 50,
         "r": 50,
         "t": 60
        },
        "template": {
         "data": {
          "bar": [
           {
            "error_x": {
             "color": "#2a3f5f"
            },
            "error_y": {
             "color": "#2a3f5f"
            },
            "marker": {
             "line": {
              "color": "#E5ECF6",
              "width": 0.5
             }
            },
            "type": "bar"
           }
          ],
          "barpolar": [
           {
            "marker": {
             "line": {
              "color": "#E5ECF6",
              "width": 0.5
             }
            },
            "type": "barpolar"
           }
          ],
          "carpet": [
           {
            "aaxis": {
             "endlinecolor": "#2a3f5f",
             "gridcolor": "white",
             "linecolor": "white",
             "minorgridcolor": "white",
             "startlinecolor": "#2a3f5f"
            },
            "baxis": {
             "endlinecolor": "#2a3f5f",
             "gridcolor": "white",
             "linecolor": "white",
             "minorgridcolor": "white",
             "startlinecolor": "#2a3f5f"
            },
            "type": "carpet"
           }
          ],
          "choropleth": [
           {
            "colorbar": {
             "outlinewidth": 0,
             "ticks": ""
            },
            "type": "choropleth"
           }
          ],
          "contour": [
           {
            "colorbar": {
             "outlinewidth": 0,
             "ticks": ""
            },
            "colorscale": [
             [
              0,
              "#0d0887"
             ],
             [
              0.1111111111111111,
              "#46039f"
             ],
             [
              0.2222222222222222,
              "#7201a8"
             ],
             [
              0.3333333333333333,
              "#9c179e"
             ],
             [
              0.4444444444444444,
              "#bd3786"
             ],
             [
              0.5555555555555556,
              "#d8576b"
             ],
             [
              0.6666666666666666,
              "#ed7953"
             ],
             [
              0.7777777777777778,
              "#fb9f3a"
             ],
             [
              0.8888888888888888,
              "#fdca26"
             ],
             [
              1,
              "#f0f921"
             ]
            ],
            "type": "contour"
           }
          ],
          "contourcarpet": [
           {
            "colorbar": {
             "outlinewidth": 0,
             "ticks": ""
            },
            "type": "contourcarpet"
           }
          ],
          "heatmap": [
           {
            "colorbar": {
             "outlinewidth": 0,
             "ticks": ""
            },
            "colorscale": [
             [
              0,
              "#0d0887"
             ],
             [
              0.1111111111111111,
              "#46039f"
             ],
             [
              0.2222222222222222,
              "#7201a8"
             ],
             [
              0.3333333333333333,
              "#9c179e"
             ],
             [
              0.4444444444444444,
              "#bd3786"
             ],
             [
              0.5555555555555556,
              "#d8576b"
             ],
             [
              0.6666666666666666,
              "#ed7953"
             ],
             [
              0.7777777777777778,
              "#fb9f3a"
             ],
             [
              0.8888888888888888,
              "#fdca26"
             ],
             [
              1,
              "#f0f921"
             ]
            ],
            "type": "heatmap"
           }
          ],
          "heatmapgl": [
           {
            "colorbar": {
             "outlinewidth": 0,
             "ticks": ""
            },
            "colorscale": [
             [
              0,
              "#0d0887"
             ],
             [
              0.1111111111111111,
              "#46039f"
             ],
             [
              0.2222222222222222,
              "#7201a8"
             ],
             [
              0.3333333333333333,
              "#9c179e"
             ],
             [
              0.4444444444444444,
              "#bd3786"
             ],
             [
              0.5555555555555556,
              "#d8576b"
             ],
             [
              0.6666666666666666,
              "#ed7953"
             ],
             [
              0.7777777777777778,
              "#fb9f3a"
             ],
             [
              0.8888888888888888,
              "#fdca26"
             ],
             [
              1,
              "#f0f921"
             ]
            ],
            "type": "heatmapgl"
           }
          ],
          "histogram": [
           {
            "marker": {
             "colorbar": {
              "outlinewidth": 0,
              "ticks": ""
             }
            },
            "type": "histogram"
           }
          ],
          "histogram2d": [
           {
            "colorbar": {
             "outlinewidth": 0,
             "ticks": ""
            },
            "colorscale": [
             [
              0,
              "#0d0887"
             ],
             [
              0.1111111111111111,
              "#46039f"
             ],
             [
              0.2222222222222222,
              "#7201a8"
             ],
             [
              0.3333333333333333,
              "#9c179e"
             ],
             [
              0.4444444444444444,
              "#bd3786"
             ],
             [
              0.5555555555555556,
              "#d8576b"
             ],
             [
              0.6666666666666666,
              "#ed7953"
             ],
             [
              0.7777777777777778,
              "#fb9f3a"
             ],
             [
              0.8888888888888888,
              "#fdca26"
             ],
             [
              1,
              "#f0f921"
             ]
            ],
            "type": "histogram2d"
           }
          ],
          "histogram2dcontour": [
           {
            "colorbar": {
             "outlinewidth": 0,
             "ticks": ""
            },
            "colorscale": [
             [
              0,
              "#0d0887"
             ],
             [
              0.1111111111111111,
              "#46039f"
             ],
             [
              0.2222222222222222,
              "#7201a8"
             ],
             [
              0.3333333333333333,
              "#9c179e"
             ],
             [
              0.4444444444444444,
              "#bd3786"
             ],
             [
              0.5555555555555556,
              "#d8576b"
             ],
             [
              0.6666666666666666,
              "#ed7953"
             ],
             [
              0.7777777777777778,
              "#fb9f3a"
             ],
             [
              0.8888888888888888,
              "#fdca26"
             ],
             [
              1,
              "#f0f921"
             ]
            ],
            "type": "histogram2dcontour"
           }
          ],
          "mesh3d": [
           {
            "colorbar": {
             "outlinewidth": 0,
             "ticks": ""
            },
            "type": "mesh3d"
           }
          ],
          "parcoords": [
           {
            "line": {
             "colorbar": {
              "outlinewidth": 0,
              "ticks": ""
             }
            },
            "type": "parcoords"
           }
          ],
          "pie": [
           {
            "automargin": true,
            "type": "pie"
           }
          ],
          "scatter": [
           {
            "marker": {
             "colorbar": {
              "outlinewidth": 0,
              "ticks": ""
             }
            },
            "type": "scatter"
           }
          ],
          "scatter3d": [
           {
            "line": {
             "colorbar": {
              "outlinewidth": 0,
              "ticks": ""
             }
            },
            "marker": {
             "colorbar": {
              "outlinewidth": 0,
              "ticks": ""
             }
            },
            "type": "scatter3d"
           }
          ],
          "scattercarpet": [
           {
            "marker": {
             "colorbar": {
              "outlinewidth": 0,
              "ticks": ""
             }
            },
            "type": "scattercarpet"
           }
          ],
          "scattergeo": [
           {
            "marker": {
             "colorbar": {
              "outlinewidth": 0,
              "ticks": ""
             }
            },
            "type": "scattergeo"
           }
          ],
          "scattergl": [
           {
            "marker": {
             "colorbar": {
              "outlinewidth": 0,
              "ticks": ""
             }
            },
            "type": "scattergl"
           }
          ],
          "scattermapbox": [
           {
            "marker": {
             "colorbar": {
              "outlinewidth": 0,
              "ticks": ""
             }
            },
            "type": "scattermapbox"
           }
          ],
          "scatterpolar": [
           {
            "marker": {
             "colorbar": {
              "outlinewidth": 0,
              "ticks": ""
             }
            },
            "type": "scatterpolar"
           }
          ],
          "scatterpolargl": [
           {
            "marker": {
             "colorbar": {
              "outlinewidth": 0,
              "ticks": ""
             }
            },
            "type": "scatterpolargl"
           }
          ],
          "scatterternary": [
           {
            "marker": {
             "colorbar": {
              "outlinewidth": 0,
              "ticks": ""
             }
            },
            "type": "scatterternary"
           }
          ],
          "surface": [
           {
            "colorbar": {
             "outlinewidth": 0,
             "ticks": ""
            },
            "colorscale": [
             [
              0,
              "#0d0887"
             ],
             [
              0.1111111111111111,
              "#46039f"
             ],
             [
              0.2222222222222222,
              "#7201a8"
             ],
             [
              0.3333333333333333,
              "#9c179e"
             ],
             [
              0.4444444444444444,
              "#bd3786"
             ],
             [
              0.5555555555555556,
              "#d8576b"
             ],
             [
              0.6666666666666666,
              "#ed7953"
             ],
             [
              0.7777777777777778,
              "#fb9f3a"
             ],
             [
              0.8888888888888888,
              "#fdca26"
             ],
             [
              1,
              "#f0f921"
             ]
            ],
            "type": "surface"
           }
          ],
          "table": [
           {
            "cells": {
             "fill": {
              "color": "#EBF0F8"
             },
             "line": {
              "color": "white"
             }
            },
            "header": {
             "fill": {
              "color": "#C8D4E3"
             },
             "line": {
              "color": "white"
             }
            },
            "type": "table"
           }
          ]
         },
         "layout": {
          "annotationdefaults": {
           "arrowcolor": "#2a3f5f",
           "arrowhead": 0,
           "arrowwidth": 1
          },
          "autotypenumbers": "strict",
          "coloraxis": {
           "colorbar": {
            "outlinewidth": 0,
            "ticks": ""
           }
          },
          "colorscale": {
           "diverging": [
            [
             0,
             "#8e0152"
            ],
            [
             0.1,
             "#c51b7d"
            ],
            [
             0.2,
             "#de77ae"
            ],
            [
             0.3,
             "#f1b6da"
            ],
            [
             0.4,
             "#fde0ef"
            ],
            [
             0.5,
             "#f7f7f7"
            ],
            [
             0.6,
             "#e6f5d0"
            ],
            [
             0.7,
             "#b8e186"
            ],
            [
             0.8,
             "#7fbc41"
            ],
            [
             0.9,
             "#4d9221"
            ],
            [
             1,
             "#276419"
            ]
           ],
           "sequential": [
            [
             0,
             "#0d0887"
            ],
            [
             0.1111111111111111,
             "#46039f"
            ],
            [
             0.2222222222222222,
             "#7201a8"
            ],
            [
             0.3333333333333333,
             "#9c179e"
            ],
            [
             0.4444444444444444,
             "#bd3786"
            ],
            [
             0.5555555555555556,
             "#d8576b"
            ],
            [
             0.6666666666666666,
             "#ed7953"
            ],
            [
             0.7777777777777778,
             "#fb9f3a"
            ],
            [
             0.8888888888888888,
             "#fdca26"
            ],
            [
             1,
             "#f0f921"
            ]
           ],
           "sequentialminus": [
            [
             0,
             "#0d0887"
            ],
            [
             0.1111111111111111,
             "#46039f"
            ],
            [
             0.2222222222222222,
             "#7201a8"
            ],
            [
             0.3333333333333333,
             "#9c179e"
            ],
            [
             0.4444444444444444,
             "#bd3786"
            ],
            [
             0.5555555555555556,
             "#d8576b"
            ],
            [
             0.6666666666666666,
             "#ed7953"
            ],
            [
             0.7777777777777778,
             "#fb9f3a"
            ],
            [
             0.8888888888888888,
             "#fdca26"
            ],
            [
             1,
             "#f0f921"
            ]
           ]
          },
          "colorway": [
           "#636efa",
           "#EF553B",
           "#00cc96",
           "#ab63fa",
           "#FFA15A",
           "#19d3f3",
           "#FF6692",
           "#B6E880",
           "#FF97FF",
           "#FECB52"
          ],
          "font": {
           "color": "#2a3f5f"
          },
          "geo": {
           "bgcolor": "white",
           "lakecolor": "white",
           "landcolor": "#E5ECF6",
           "showlakes": true,
           "showland": true,
           "subunitcolor": "white"
          },
          "hoverlabel": {
           "align": "left"
          },
          "hovermode": "closest",
          "mapbox": {
           "style": "light"
          },
          "paper_bgcolor": "white",
          "plot_bgcolor": "#E5ECF6",
          "polar": {
           "angularaxis": {
            "gridcolor": "white",
            "linecolor": "white",
            "ticks": ""
           },
           "bgcolor": "#E5ECF6",
           "radialaxis": {
            "gridcolor": "white",
            "linecolor": "white",
            "ticks": ""
           }
          },
          "scene": {
           "xaxis": {
            "backgroundcolor": "#E5ECF6",
            "gridcolor": "white",
            "gridwidth": 2,
            "linecolor": "white",
            "showbackground": true,
            "ticks": "",
            "zerolinecolor": "white"
           },
           "yaxis": {
            "backgroundcolor": "#E5ECF6",
            "gridcolor": "white",
            "gridwidth": 2,
            "linecolor": "white",
            "showbackground": true,
            "ticks": "",
            "zerolinecolor": "white"
           },
           "zaxis": {
            "backgroundcolor": "#E5ECF6",
            "gridcolor": "white",
            "gridwidth": 2,
            "linecolor": "white",
            "showbackground": true,
            "ticks": "",
            "zerolinecolor": "white"
           }
          },
          "shapedefaults": {
           "line": {
            "color": "#2a3f5f"
           }
          },
          "ternary": {
           "aaxis": {
            "gridcolor": "white",
            "linecolor": "white",
            "ticks": ""
           },
           "baxis": {
            "gridcolor": "white",
            "linecolor": "white",
            "ticks": ""
           },
           "bgcolor": "#E5ECF6",
           "caxis": {
            "gridcolor": "white",
            "linecolor": "white",
            "ticks": ""
           }
          },
          "title": {
           "x": 0.05
          },
          "xaxis": {
           "automargin": true,
           "gridcolor": "white",
           "linecolor": "white",
           "ticks": "",
           "title": {
            "standoff": 15
           },
           "zerolinecolor": "white",
           "zerolinewidth": 2
          },
          "yaxis": {
           "automargin": true,
           "gridcolor": "white",
           "linecolor": "white",
           "ticks": "",
           "title": {
            "standoff": 15
           },
           "zerolinecolor": "white",
           "zerolinewidth": 2
          }
         }
        },
        "title": "True Velocity",
        "xaxis": {
         "title": {
          "text": "Time (second)"
         }
        },
        "yaxis": {
         "title": {
          "text": "Velocity (meters / second)"
         }
        }
       }
      },
      "text/html": [
       "<div\n",
       "    class=\"webio-mountpoint\"\n",
       "    data-webio-mountpoint=\"12845159761121246477\"\n",
       ">\n",
       "    <script>\n",
       "    (function(){\n",
       "    // Some integrations (namely, IJulia/Jupyter) use an alternate render pathway than\n",
       "    // just putting the html on the page. If WebIO isn't defined, then it's pretty likely\n",
       "    // that we're in one of those situations and the integration just isn't installed\n",
       "    // correctly.\n",
       "    if (typeof window.WebIO === \"undefined\") {\n",
       "        document\n",
       "            .querySelector('[data-webio-mountpoint=\"12845159761121246477\"]')\n",
       "            .innerHTML = (\n",
       "                '<div style=\"padding: 1em; background-color: #f8d6da; border: 1px solid #f5c6cb; font-weight: bold;\">' +\n",
       "                '<p><strong>WebIO not detected.</strong></p>' +\n",
       "                '<p>Please read ' +\n",
       "                '<a href=\"https://juliagizmos.github.io/WebIO.jl/latest/troubleshooting/not-detected/\" target=\"_blank\">the troubleshooting guide</a> ' +\n",
       "                'for more information on how to resolve this issue.</p>' +\n",
       "                '<p><a href=\"https://juliagizmos.github.io/WebIO.jl/latest/troubleshooting/not-detected/\" target=\"_blank\">https://juliagizmos.github.io/WebIO.jl/latest/troubleshooting/not-detected/</a></p>' +\n",
       "                '</div>'\n",
       "            );\n",
       "        return;\n",
       "    }\n",
       "    WebIO.mount(\n",
       "        document.querySelector('[data-webio-mountpoint=\"12845159761121246477\"]'),\n",
       "        {\"props\":{},\"nodeType\":\"Scope\",\"type\":\"node\",\"instanceArgs\":{\"imports\":{\"data\":[{\"name\":\"Plotly\",\"type\":\"js\",\"url\":\"\\/assetserver\\/627f17ff06762af3874159c00b9b1e00e50688bc-plotly.min.js\"},{\"name\":null,\"type\":\"js\",\"url\":\"\\/assetserver\\/1a276a0acb11ad47020d3f379225d41bbd0aeef0-plotly_webio.bundle.js\"}],\"type\":\"async_block\"},\"id\":\"750958175233411304\",\"handlers\":{\"_toImage\":[\"(function (options){return this.Plotly.toImage(this.plotElem,options).then((function (data){return WebIO.setval({\\\"name\\\":\\\"image\\\",\\\"scope\\\":\\\"750958175233411304\\\",\\\"id\\\":\\\"885095952392003552\\\",\\\"type\\\":\\\"observable\\\"},data)}))})\"],\"__get_gd_contents\":[\"(function (prop){prop==\\\"data\\\" ? (WebIO.setval({\\\"name\\\":\\\"__gd_contents\\\",\\\"scope\\\":\\\"750958175233411304\\\",\\\"id\\\":\\\"5806733534329601451\\\",\\\"type\\\":\\\"observable\\\"},this.plotElem.data)) : undefined; return prop==\\\"layout\\\" ? (WebIO.setval({\\\"name\\\":\\\"__gd_contents\\\",\\\"scope\\\":\\\"750958175233411304\\\",\\\"id\\\":\\\"5806733534329601451\\\",\\\"type\\\":\\\"observable\\\"},this.plotElem.layout)) : undefined})\"],\"_downloadImage\":[\"(function (options){return this.Plotly.downloadImage(this.plotElem,options)})\"],\"_commands\":[\"(function (args){var fn=args.shift(); var elem=this.plotElem; var Plotly=this.Plotly; args.unshift(elem); return Plotly[fn].apply(this,args)})\"]},\"systemjs_options\":null,\"mount_callbacks\":[\"function () {\\n    var handler = ((function (Plotly,PlotlyWebIO){PlotlyWebIO.init(WebIO); var gd=this.dom.querySelector(\\\"#plot-c93f44ee-3b51-40d1-9cbc-107a28a17a0b\\\"); this.plotElem=gd; this.Plotly=Plotly; (window.Blink!==undefined) ? (gd.style.width=\\\"100%\\\", gd.style.height=\\\"100vh\\\", gd.style.marginLeft=\\\"0%\\\", gd.style.marginTop=\\\"0vh\\\") : undefined; window.onresize=(function (){return Plotly.Plots.resize(gd)}); Plotly.newPlot(gd,[{\\\"mode\\\":\\\"markers\\\",\\\"y\\\":[2.5,2.304,2.108,1.912,1.716,1.52,1.324,1.1279999999999997,0.9319999999999999,0.736,0.5399999999999998,0.34399999999999986,0.14800000000000013,-0.04800000000000049,-0.24400000000000066,-0.43999999999999995,-0.6360000000000001,-0.8320000000000003,-1.028,-1.2240000000000002,-1.4200000000000004,-1.6160000000000005,-1.8120000000000003,-2.008000000000001,-2.2039999999999997,-2.4000000000000004,-2.596000000000001,-2.7920000000000007,-2.9880000000000013,-3.184,-3.38,-3.5760000000000005,-3.7720000000000002,-3.968000000000001,-4.164000000000001,-4.360000000000001,-4.556,-4.752000000000001,-4.948,-5.144000000000001,-5.340000000000001,-5.536000000000001,-5.732000000000001,-5.928000000000001,-6.1240000000000006,-6.32,-6.516000000000002,-6.7120000000000015,-6.9079999999999995,-7.104000000000001,-7.300000000000001,-7.496,-7.692000000000002,-7.888000000000002,-8.084000000000001,-8.280000000000001,-8.476000000000003,-8.672000000000002,-8.868,-9.064,-9.26,-9.456000000000001,-9.652000000000001,-9.848,-10.044,-10.240000000000002,-10.436000000000002,-10.632000000000001,-10.828000000000001,-11.024000000000003,-11.220000000000002,-11.416,-11.612,-11.808,-12.004000000000001,-12.200000000000001,-12.396,-12.592000000000002,-12.788000000000002,-12.984000000000002,-13.180000000000001,-13.376000000000003,-13.572000000000003,-13.768000000000004,-13.964000000000002,-14.16,-14.356000000000002,-14.552,-14.748000000000001,-14.944000000000003,-15.14,-15.336000000000002,-15.532000000000004,-15.728000000000002,-15.924000000000003,-16.12,-16.316,-16.512,-16.708000000000002,-16.904,-17.1,-17.296000000000003,-17.492,-17.688000000000002,-17.884000000000004,-18.080000000000002,-18.276000000000003,-18.472,-18.668000000000003,-18.864000000000004,-19.060000000000002,-19.256000000000004,-19.452000000000005,-19.648000000000003,-19.844000000000005,-20.040000000000003,-20.236,-20.432,-20.628,-20.824,-21.02,-21.216,-21.412000000000003,-21.608,-21.804000000000002],\\\"type\\\":\\\"scatter\\\",\\\"name\\\":\\\"True Position\\\",\\\"x\\\":[0.0,0.02,0.04,0.06,0.08,0.1,0.12,0.14,0.16,0.18,0.2,0.22,0.24,0.26,0.28,0.3,0.32,0.34,0.36,0.38,0.4,0.42,0.44,0.46,0.48,0.5,0.52,0.54,0.56,0.58,0.6,0.62,0.64,0.66,0.68,0.7000000000000001,0.72,0.74,0.76,0.78,0.8,0.8200000000000001,0.84,0.86,0.88,0.9,0.92,0.9400000000000001,0.96,0.98,1.0,1.02,1.04,1.06,1.08,1.1,1.12,1.1400000000000001,1.16,1.18,1.2,1.22,1.24,1.26,1.28,1.3,1.32,1.34,1.36,1.3800000000000001,1.4000000000000001,1.42,1.44,1.46,1.48,1.5,1.52,1.54,1.56,1.58,1.6,1.62,1.6400000000000001,1.6600000000000001,1.68,1.7,1.72,1.74,1.76,1.78,1.8,1.82,1.84,1.86,1.8800000000000001,1.9000000000000001,1.92,1.94,1.96,1.98,2.0,2.02,2.04,2.06,2.08,2.1,2.12,2.14,2.16,2.18,2.2,2.22,2.24,2.2600000000000002,2.2800000000000002,2.3000000000000003,2.32,2.34,2.36,2.38,2.4,2.42,2.44,2.46,2.48]}],{\\\"xaxis\\\":{\\\"title\\\":{\\\"text\\\":\\\"Time (second)\\\"}},\\\"template\\\":{\\\"layout\\\":{\\\"coloraxis\\\":{\\\"colorbar\\\":{\\\"ticks\\\":\\\"\\\",\\\"outlinewidth\\\":0}},\\\"xaxis\\\":{\\\"gridcolor\\\":\\\"white\\\",\\\"zerolinewidth\\\":2,\\\"title\\\":{\\\"standoff\\\":15},\\\"ticks\\\":\\\"\\\",\\\"zerolinecolor\\\":\\\"white\\\",\\\"automargin\\\":true,\\\"linecolor\\\":\\\"white\\\"},\\\"hovermode\\\":\\\"closest\\\",\\\"paper_bgcolor\\\":\\\"white\\\",\\\"geo\\\":{\\\"showlakes\\\":true,\\\"showland\\\":true,\\\"landcolor\\\":\\\"#E5ECF6\\\",\\\"bgcolor\\\":\\\"white\\\",\\\"subunitcolor\\\":\\\"white\\\",\\\"lakecolor\\\":\\\"white\\\"},\\\"colorscale\\\":{\\\"sequential\\\":[[0.0,\\\"#0d0887\\\"],[0.1111111111111111,\\\"#46039f\\\"],[0.2222222222222222,\\\"#7201a8\\\"],[0.3333333333333333,\\\"#9c179e\\\"],[0.4444444444444444,\\\"#bd3786\\\"],[0.5555555555555556,\\\"#d8576b\\\"],[0.6666666666666666,\\\"#ed7953\\\"],[0.7777777777777778,\\\"#fb9f3a\\\"],[0.8888888888888888,\\\"#fdca26\\\"],[1.0,\\\"#f0f921\\\"]],\\\"diverging\\\":[[0,\\\"#8e0152\\\"],[0.1,\\\"#c51b7d\\\"],[0.2,\\\"#de77ae\\\"],[0.3,\\\"#f1b6da\\\"],[0.4,\\\"#fde0ef\\\"],[0.5,\\\"#f7f7f7\\\"],[0.6,\\\"#e6f5d0\\\"],[0.7,\\\"#b8e186\\\"],[0.8,\\\"#7fbc41\\\"],[0.9,\\\"#4d9221\\\"],[1,\\\"#276419\\\"]],\\\"sequentialminus\\\":[[0.0,\\\"#0d0887\\\"],[0.1111111111111111,\\\"#46039f\\\"],[0.2222222222222222,\\\"#7201a8\\\"],[0.3333333333333333,\\\"#9c179e\\\"],[0.4444444444444444,\\\"#bd3786\\\"],[0.5555555555555556,\\\"#d8576b\\\"],[0.6666666666666666,\\\"#ed7953\\\"],[0.7777777777777778,\\\"#fb9f3a\\\"],[0.8888888888888888,\\\"#fdca26\\\"],[1.0,\\\"#f0f921\\\"]]},\\\"yaxis\\\":{\\\"gridcolor\\\":\\\"white\\\",\\\"zerolinewidth\\\":2,\\\"title\\\":{\\\"standoff\\\":15},\\\"ticks\\\":\\\"\\\",\\\"zerolinecolor\\\":\\\"white\\\",\\\"automargin\\\":true,\\\"linecolor\\\":\\\"white\\\"},\\\"shapedefaults\\\":{\\\"line\\\":{\\\"color\\\":\\\"#2a3f5f\\\"}},\\\"hoverlabel\\\":{\\\"align\\\":\\\"left\\\"},\\\"mapbox\\\":{\\\"style\\\":\\\"light\\\"},\\\"polar\\\":{\\\"angularaxis\\\":{\\\"gridcolor\\\":\\\"white\\\",\\\"ticks\\\":\\\"\\\",\\\"linecolor\\\":\\\"white\\\"},\\\"bgcolor\\\":\\\"#E5ECF6\\\",\\\"radialaxis\\\":{\\\"gridcolor\\\":\\\"white\\\",\\\"ticks\\\":\\\"\\\",\\\"linecolor\\\":\\\"white\\\"}},\\\"autotypenumbers\\\":\\\"strict\\\",\\\"font\\\":{\\\"color\\\":\\\"#2a3f5f\\\"},\\\"ternary\\\":{\\\"baxis\\\":{\\\"gridcolor\\\":\\\"white\\\",\\\"ticks\\\":\\\"\\\",\\\"linecolor\\\":\\\"white\\\"},\\\"bgcolor\\\":\\\"#E5ECF6\\\",\\\"caxis\\\":{\\\"gridcolor\\\":\\\"white\\\",\\\"ticks\\\":\\\"\\\",\\\"linecolor\\\":\\\"white\\\"},\\\"aaxis\\\":{\\\"gridcolor\\\":\\\"white\\\",\\\"ticks\\\":\\\"\\\",\\\"linecolor\\\":\\\"white\\\"}},\\\"annotationdefaults\\\":{\\\"arrowhead\\\":0,\\\"arrowwidth\\\":1,\\\"arrowcolor\\\":\\\"#2a3f5f\\\"},\\\"plot_bgcolor\\\":\\\"#E5ECF6\\\",\\\"title\\\":{\\\"x\\\":0.05},\\\"scene\\\":{\\\"xaxis\\\":{\\\"gridcolor\\\":\\\"white\\\",\\\"gridwidth\\\":2,\\\"backgroundcolor\\\":\\\"#E5ECF6\\\",\\\"ticks\\\":\\\"\\\",\\\"showbackground\\\":true,\\\"zerolinecolor\\\":\\\"white\\\",\\\"linecolor\\\":\\\"white\\\"},\\\"zaxis\\\":{\\\"gridcolor\\\":\\\"white\\\",\\\"gridwidth\\\":2,\\\"backgroundcolor\\\":\\\"#E5ECF6\\\",\\\"ticks\\\":\\\"\\\",\\\"showbackground\\\":true,\\\"zerolinecolor\\\":\\\"white\\\",\\\"linecolor\\\":\\\"white\\\"},\\\"yaxis\\\":{\\\"gridcolor\\\":\\\"white\\\",\\\"gridwidth\\\":2,\\\"backgroundcolor\\\":\\\"#E5ECF6\\\",\\\"ticks\\\":\\\"\\\",\\\"showbackground\\\":true,\\\"zerolinecolor\\\":\\\"white\\\",\\\"linecolor\\\":\\\"white\\\"}},\\\"colorway\\\":[\\\"#636efa\\\",\\\"#EF553B\\\",\\\"#00cc96\\\",\\\"#ab63fa\\\",\\\"#FFA15A\\\",\\\"#19d3f3\\\",\\\"#FF6692\\\",\\\"#B6E880\\\",\\\"#FF97FF\\\",\\\"#FECB52\\\"]},\\\"data\\\":{\\\"barpolar\\\":[{\\\"type\\\":\\\"barpolar\\\",\\\"marker\\\":{\\\"line\\\":{\\\"color\\\":\\\"#E5ECF6\\\",\\\"width\\\":0.5}}}],\\\"carpet\\\":[{\\\"aaxis\\\":{\\\"gridcolor\\\":\\\"white\\\",\\\"endlinecolor\\\":\\\"#2a3f5f\\\",\\\"minorgridcolor\\\":\\\"white\\\",\\\"startlinecolor\\\":\\\"#2a3f5f\\\",\\\"linecolor\\\":\\\"white\\\"},\\\"type\\\":\\\"carpet\\\",\\\"baxis\\\":{\\\"gridcolor\\\":\\\"white\\\",\\\"endlinecolor\\\":\\\"#2a3f5f\\\",\\\"minorgridcolor\\\":\\\"white\\\",\\\"startlinecolor\\\":\\\"#2a3f5f\\\",\\\"linecolor\\\":\\\"white\\\"}}],\\\"scatterpolar\\\":[{\\\"type\\\":\\\"scatterpolar\\\",\\\"marker\\\":{\\\"colorbar\\\":{\\\"ticks\\\":\\\"\\\",\\\"outlinewidth\\\":0}}}],\\\"parcoords\\\":[{\\\"line\\\":{\\\"colorbar\\\":{\\\"ticks\\\":\\\"\\\",\\\"outlinewidth\\\":0}},\\\"type\\\":\\\"parcoords\\\"}],\\\"scatter\\\":[{\\\"type\\\":\\\"scatter\\\",\\\"marker\\\":{\\\"colorbar\\\":{\\\"ticks\\\":\\\"\\\",\\\"outlinewidth\\\":0}}}],\\\"histogram2dcontour\\\":[{\\\"colorbar\\\":{\\\"ticks\\\":\\\"\\\",\\\"outlinewidth\\\":0},\\\"type\\\":\\\"histogram2dcontour\\\",\\\"colorscale\\\":[[0.0,\\\"#0d0887\\\"],[0.1111111111111111,\\\"#46039f\\\"],[0.2222222222222222,\\\"#7201a8\\\"],[0.3333333333333333,\\\"#9c179e\\\"],[0.4444444444444444,\\\"#bd3786\\\"],[0.5555555555555556,\\\"#d8576b\\\"],[0.6666666666666666,\\\"#ed7953\\\"],[0.7777777777777778,\\\"#fb9f3a\\\"],[0.8888888888888888,\\\"#fdca26\\\"],[1.0,\\\"#f0f921\\\"]]}],\\\"contour\\\":[{\\\"colorbar\\\":{\\\"ticks\\\":\\\"\\\",\\\"outlinewidth\\\":0},\\\"type\\\":\\\"contour\\\",\\\"colorscale\\\":[[0.0,\\\"#0d0887\\\"],[0.1111111111111111,\\\"#46039f\\\"],[0.2222222222222222,\\\"#7201a8\\\"],[0.3333333333333333,\\\"#9c179e\\\"],[0.4444444444444444,\\\"#bd3786\\\"],[0.5555555555555556,\\\"#d8576b\\\"],[0.6666666666666666,\\\"#ed7953\\\"],[0.7777777777777778,\\\"#fb9f3a\\\"],[0.8888888888888888,\\\"#fdca26\\\"],[1.0,\\\"#f0f921\\\"]]}],\\\"scattercarpet\\\":[{\\\"type\\\":\\\"scattercarpet\\\",\\\"marker\\\":{\\\"colorbar\\\":{\\\"ticks\\\":\\\"\\\",\\\"outlinewidth\\\":0}}}],\\\"mesh3d\\\":[{\\\"colorbar\\\":{\\\"ticks\\\":\\\"\\\",\\\"outlinewidth\\\":0},\\\"type\\\":\\\"mesh3d\\\"}],\\\"surface\\\":[{\\\"colorbar\\\":{\\\"ticks\\\":\\\"\\\",\\\"outlinewidth\\\":0},\\\"type\\\":\\\"surface\\\",\\\"colorscale\\\":[[0.0,\\\"#0d0887\\\"],[0.1111111111111111,\\\"#46039f\\\"],[0.2222222222222222,\\\"#7201a8\\\"],[0.3333333333333333,\\\"#9c179e\\\"],[0.4444444444444444,\\\"#bd3786\\\"],[0.5555555555555556,\\\"#d8576b\\\"],[0.6666666666666666,\\\"#ed7953\\\"],[0.7777777777777778,\\\"#fb9f3a\\\"],[0.8888888888888888,\\\"#fdca26\\\"],[1.0,\\\"#f0f921\\\"]]}],\\\"scattermapbox\\\":[{\\\"type\\\":\\\"scattermapbox\\\",\\\"marker\\\":{\\\"colorbar\\\":{\\\"ticks\\\":\\\"\\\",\\\"outlinewidth\\\":0}}}],\\\"scattergeo\\\":[{\\\"type\\\":\\\"scattergeo\\\",\\\"marker\\\":{\\\"colorbar\\\":{\\\"ticks\\\":\\\"\\\",\\\"outlinewidth\\\":0}}}],\\\"histogram\\\":[{\\\"type\\\":\\\"histogram\\\",\\\"marker\\\":{\\\"colorbar\\\":{\\\"ticks\\\":\\\"\\\",\\\"outlinewidth\\\":0}}}],\\\"pie\\\":[{\\\"type\\\":\\\"pie\\\",\\\"automargin\\\":true}],\\\"choropleth\\\":[{\\\"colorbar\\\":{\\\"ticks\\\":\\\"\\\",\\\"outlinewidth\\\":0},\\\"type\\\":\\\"choropleth\\\"}],\\\"heatmapgl\\\":[{\\\"colorbar\\\":{\\\"ticks\\\":\\\"\\\",\\\"outlinewidth\\\":0},\\\"type\\\":\\\"heatmapgl\\\",\\\"colorscale\\\":[[0.0,\\\"#0d0887\\\"],[0.1111111111111111,\\\"#46039f\\\"],[0.2222222222222222,\\\"#7201a8\\\"],[0.3333333333333333,\\\"#9c179e\\\"],[0.4444444444444444,\\\"#bd3786\\\"],[0.5555555555555556,\\\"#d8576b\\\"],[0.6666666666666666,\\\"#ed7953\\\"],[0.7777777777777778,\\\"#fb9f3a\\\"],[0.8888888888888888,\\\"#fdca26\\\"],[1.0,\\\"#f0f921\\\"]]}],\\\"bar\\\":[{\\\"type\\\":\\\"bar\\\",\\\"error_y\\\":{\\\"color\\\":\\\"#2a3f5f\\\"},\\\"error_x\\\":{\\\"color\\\":\\\"#2a3f5f\\\"},\\\"marker\\\":{\\\"line\\\":{\\\"color\\\":\\\"#E5ECF6\\\",\\\"width\\\":0.5}}}],\\\"heatmap\\\":[{\\\"colorbar\\\":{\\\"ticks\\\":\\\"\\\",\\\"outlinewidth\\\":0},\\\"type\\\":\\\"heatmap\\\",\\\"colorscale\\\":[[0.0,\\\"#0d0887\\\"],[0.1111111111111111,\\\"#46039f\\\"],[0.2222222222222222,\\\"#7201a8\\\"],[0.3333333333333333,\\\"#9c179e\\\"],[0.4444444444444444,\\\"#bd3786\\\"],[0.5555555555555556,\\\"#d8576b\\\"],[0.6666666666666666,\\\"#ed7953\\\"],[0.7777777777777778,\\\"#fb9f3a\\\"],[0.8888888888888888,\\\"#fdca26\\\"],[1.0,\\\"#f0f921\\\"]]}],\\\"contourcarpet\\\":[{\\\"colorbar\\\":{\\\"ticks\\\":\\\"\\\",\\\"outlinewidth\\\":0},\\\"type\\\":\\\"contourcarpet\\\"}],\\\"table\\\":[{\\\"type\\\":\\\"table\\\",\\\"header\\\":{\\\"line\\\":{\\\"color\\\":\\\"white\\\"},\\\"fill\\\":{\\\"color\\\":\\\"#C8D4E3\\\"}},\\\"cells\\\":{\\\"line\\\":{\\\"color\\\":\\\"white\\\"},\\\"fill\\\":{\\\"color\\\":\\\"#EBF0F8\\\"}}}],\\\"scatter3d\\\":[{\\\"line\\\":{\\\"colorbar\\\":{\\\"ticks\\\":\\\"\\\",\\\"outlinewidth\\\":0}},\\\"type\\\":\\\"scatter3d\\\",\\\"marker\\\":{\\\"colorbar\\\":{\\\"ticks\\\":\\\"\\\",\\\"outlinewidth\\\":0}}}],\\\"scattergl\\\":[{\\\"type\\\":\\\"scattergl\\\",\\\"marker\\\":{\\\"colorbar\\\":{\\\"ticks\\\":\\\"\\\",\\\"outlinewidth\\\":0}}}],\\\"histogram2d\\\":[{\\\"colorbar\\\":{\\\"ticks\\\":\\\"\\\",\\\"outlinewidth\\\":0},\\\"type\\\":\\\"histogram2d\\\",\\\"colorscale\\\":[[0.0,\\\"#0d0887\\\"],[0.1111111111111111,\\\"#46039f\\\"],[0.2222222222222222,\\\"#7201a8\\\"],[0.3333333333333333,\\\"#9c179e\\\"],[0.4444444444444444,\\\"#bd3786\\\"],[0.5555555555555556,\\\"#d8576b\\\"],[0.6666666666666666,\\\"#ed7953\\\"],[0.7777777777777778,\\\"#fb9f3a\\\"],[0.8888888888888888,\\\"#fdca26\\\"],[1.0,\\\"#f0f921\\\"]]}],\\\"scatterternary\\\":[{\\\"type\\\":\\\"scatterternary\\\",\\\"marker\\\":{\\\"colorbar\\\":{\\\"ticks\\\":\\\"\\\",\\\"outlinewidth\\\":0}}}],\\\"scatterpolargl\\\":[{\\\"type\\\":\\\"scatterpolargl\\\",\\\"marker\\\":{\\\"colorbar\\\":{\\\"ticks\\\":\\\"\\\",\\\"outlinewidth\\\":0}}}]}},\\\"legend\\\":{\\\"title\\\":\\\"Legend Title\\\"},\\\"margin\\\":{\\\"l\\\":50,\\\"b\\\":50,\\\"r\\\":50,\\\"t\\\":60},\\\"title\\\":\\\"True Velocity\\\",\\\"yaxis\\\":{\\\"title\\\":{\\\"text\\\":\\\"Velocity (meters \\/ second)\\\"}}},{\\\"showLink\\\":false,\\\"editable\\\":false,\\\"responsive\\\":true,\\\"staticPlot\\\":false,\\\"scrollZoom\\\":true}); gd.on(\\\"plotly_hover\\\",(function (data){var filtered_data=WebIO.PlotlyCommands.filterEventData(gd,data,\\\"hover\\\"); return !(filtered_data.isnil) ? (WebIO.setval({\\\"name\\\":\\\"hover\\\",\\\"scope\\\":\\\"750958175233411304\\\",\\\"id\\\":\\\"16425187125114722425\\\",\\\"type\\\":\\\"observable\\\"},filtered_data.out)) : undefined})); gd.on(\\\"plotly_unhover\\\",(function (){return WebIO.setval({\\\"name\\\":\\\"hover\\\",\\\"scope\\\":\\\"750958175233411304\\\",\\\"id\\\":\\\"16425187125114722425\\\",\\\"type\\\":\\\"observable\\\"},{})})); gd.on(\\\"plotly_selected\\\",(function (data){var filtered_data=WebIO.PlotlyCommands.filterEventData(gd,data,\\\"selected\\\"); return !(filtered_data.isnil) ? (WebIO.setval({\\\"name\\\":\\\"selected\\\",\\\"scope\\\":\\\"750958175233411304\\\",\\\"id\\\":\\\"4794851056523270058\\\",\\\"type\\\":\\\"observable\\\"},filtered_data.out)) : undefined})); gd.on(\\\"plotly_deselect\\\",(function (){return WebIO.setval({\\\"name\\\":\\\"selected\\\",\\\"scope\\\":\\\"750958175233411304\\\",\\\"id\\\":\\\"4794851056523270058\\\",\\\"type\\\":\\\"observable\\\"},{})})); gd.on(\\\"plotly_relayout\\\",(function (data){var filtered_data=WebIO.PlotlyCommands.filterEventData(gd,data,\\\"relayout\\\"); return !(filtered_data.isnil) ? (WebIO.setval({\\\"name\\\":\\\"relayout\\\",\\\"scope\\\":\\\"750958175233411304\\\",\\\"id\\\":\\\"17304201503907439812\\\",\\\"type\\\":\\\"observable\\\"},filtered_data.out)) : undefined})); return gd.on(\\\"plotly_click\\\",(function (data){var filtered_data=WebIO.PlotlyCommands.filterEventData(gd,data,\\\"click\\\"); return !(filtered_data.isnil) ? (WebIO.setval({\\\"name\\\":\\\"click\\\",\\\"scope\\\":\\\"750958175233411304\\\",\\\"id\\\":\\\"16249169242004814171\\\",\\\"type\\\":\\\"observable\\\"},filtered_data.out)) : undefined}))}));\\n    (WebIO.importBlock({\\\"data\\\":[{\\\"name\\\":\\\"Plotly\\\",\\\"type\\\":\\\"js\\\",\\\"url\\\":\\\"\\/assetserver\\/627f17ff06762af3874159c00b9b1e00e50688bc-plotly.min.js\\\"},{\\\"name\\\":null,\\\"type\\\":\\\"js\\\",\\\"url\\\":\\\"\\/assetserver\\/1a276a0acb11ad47020d3f379225d41bbd0aeef0-plotly_webio.bundle.js\\\"}],\\\"type\\\":\\\"async_block\\\"})).then((imports) => handler.apply(this, imports));\\n}\\n\"],\"observables\":{\"_toImage\":{\"sync\":false,\"id\":\"5020726272943165522\",\"value\":{}},\"hover\":{\"sync\":false,\"id\":\"16425187125114722425\",\"value\":{}},\"selected\":{\"sync\":false,\"id\":\"4794851056523270058\",\"value\":{}},\"__gd_contents\":{\"sync\":false,\"id\":\"5806733534329601451\",\"value\":{}},\"click\":{\"sync\":false,\"id\":\"16249169242004814171\",\"value\":{}},\"image\":{\"sync\":true,\"id\":\"885095952392003552\",\"value\":\"\"},\"__get_gd_contents\":{\"sync\":false,\"id\":\"18263262846090316587\",\"value\":\"\"},\"_downloadImage\":{\"sync\":false,\"id\":\"4227448488767191148\",\"value\":{}},\"relayout\":{\"sync\":false,\"id\":\"17304201503907439812\",\"value\":{}},\"_commands\":{\"sync\":false,\"id\":\"6957513167199093148\",\"value\":[]}}},\"children\":[{\"props\":{\"id\":\"plot-c93f44ee-3b51-40d1-9cbc-107a28a17a0b\"},\"nodeType\":\"DOM\",\"type\":\"node\",\"instanceArgs\":{\"namespace\":\"html\",\"tag\":\"div\"},\"children\":[]}]},\n",
       "        window,\n",
       "    );\n",
       "    })()\n",
       "    </script>\n",
       "</div>\n"
      ],
      "text/plain": [
       "data: [\n",
       "  \"scatter with fields mode, name, type, x, and y\"\n",
       "]\n",
       "\n",
       "layout: \"layout with fields legend, margin, template, title, xaxis, and yaxis\"\n",
       "\n"
      ]
     },
     "execution_count": 7,
     "metadata": {},
     "output_type": "execute_result"
    }
   ],
   "source": [
    "plot(\n",
    "    scatter(\n",
    "        mode=\"markers\",\n",
    "        x=time_axis_sec,\n",
    "        y=true_state_fcn_time[2, :],\n",
    "        name=\"True Position\"\n",
    "    ),\n",
    "    Layout(\n",
    "        title=\"True Velocity\",\n",
    "        xaxis_title=\"Time (second)\",\n",
    "        yaxis_title=\"Velocity (meters / second)\",\n",
    "        legend_title=\"Legend Title\",\n",
    "    ),\n",
    "    config=PlotConfig(scrollZoom=true),\n",
    ")"
   ]
  },
  {
   "cell_type": "code",
   "execution_count": 8,
   "id": "93e87960",
   "metadata": {},
   "outputs": [],
   "source": [
    "\"\"\"\n",
    "    get_measurement(true_state, measurement_time_sec)\n",
    "\n",
    "Simulate the measurement at the specified time given the true state. Artificial noise is added to simulate a real system\n",
    "\n",
    "# Arguments\n",
    "- `true_state::Vector`: Must be a 2-item vector exactly as `Vector{Float64}([p, v])` where `p` is the position and `v` is the velocity\n",
    "- `measurement_time_sec::Number`: The number of seconds from the true starting state\n",
    "\n",
    "# Returns\n",
    "`Vector` of the measurement\n",
    "\n",
    "See also [`get_model_estimate`](@ref) for an example\n",
    "\"\"\"\n",
    "function get_measurement(\n",
    "    true_state::Vector,\n",
    "    measurement_time_sec)::Vector\n",
    "    \"\"\"Get the next measurement\n",
    "    In a 'real' physical system, we would not need to simulate the measurement\n",
    "    \"\"\"\n",
    "\n",
    "    model_estimate_vec = get_model_estimate(\n",
    "        true_state, measurement_time_sec\n",
    "    )\n",
    "    # Pseudo-measurement using classical physics calculation with noise\n",
    "    position_noise_m = 1.0  # meter\n",
    "    velocity_noise_ms = 0.5  # meter / sec\n",
    "    artificial_noise_vec = Vector([position_noise_m * randn(1); \n",
    "                                   velocity_noise_ms * randn(1)]\n",
    "    )\n",
    "    measurement::Vector = model_estimate_vec + artificial_noise_vec\n",
    "    return measurement\n",
    "end;"
   ]
  },
  {
   "cell_type": "markdown",
   "id": "e42c2937",
   "metadata": {},
   "source": [
    "The state vector is position, velocity. We will use very generous covariance values here as values too small provide no little room for the algorithm to work."
   ]
  },
  {
   "cell_type": "code",
   "execution_count": 9,
   "id": "59f6cfb2",
   "metadata": {},
   "outputs": [],
   "source": [
    "initial_state_cov = Diagonal([100.0^2, # meters^2\n",
    "                              10.0^2])  # (meters / seconds)^2\n",
    "initial_state = kfstate{Float64}(initial_state_vector, initial_state_cov);"
   ]
  },
  {
   "cell_type": "code",
   "execution_count": 10,
   "id": "81ccc340",
   "metadata": {},
   "outputs": [],
   "source": [
    "state_transition_mat = [1.0 delta_time_sec; \n",
    "                        0.0 1.0]\n",
    "control_mat = [0.5 * delta_time_sec^2 0; \n",
    "               0                      delta_time_sec]\n",
    "system_noise_mat = [0.1  0.05;\n",
    "                    0.05 0.01]\n",
    "external_input_vector = -1 * Vector([accel_ms2, accel_ms2])\n",
    "system = kfsystem{Float64}(state_transition_mat, control_mat, system_noise_mat);"
   ]
  },
  {
   "cell_type": "markdown",
   "id": "c7f3d412",
   "metadata": {},
   "source": [
    "Initialize the observation matrix. The measurement and state is one-to-one. For the measurement, the variance for the position (velocity) is 100 meters-squared (1 meters-squared/sec-squared)"
   ]
  },
  {
   "cell_type": "markdown",
   "id": "6f76f538",
   "metadata": {},
   "source": [
    "$$\n",
    "\\begin{align}\n",
    "z_{n} &= H x_{n} \\\\\n",
    "\\begin{pmatrix}\n",
    "h_{z_{n}} \\\\\n",
    "v_{z_{n}}\n",
    "\\end{pmatrix} &= \\begin{pmatrix}\n",
    "1 & 0\\\\\n",
    "0 & 1\n",
    "\\end{pmatrix}\n",
    "\\begin{pmatrix}\n",
    "h_{x_{n}} \\\\\n",
    "v_{x_{n}}\n",
    "\\end{pmatrix} \\\\\n",
    "\\text{cov}\\left(z\\right) &= \n",
    "\\begin{pmatrix}\n",
    "10^2 & 0 \\\\\n",
    "0   & 1^2\n",
    "\\end{pmatrix}\n",
    "\\end{align}\n",
    "$$"
   ]
  },
  {
   "cell_type": "code",
   "execution_count": 11,
   "id": "77525a73",
   "metadata": {},
   "outputs": [],
   "source": [
    "obs_mat = I(2)\n",
    "obsCov = Diagonal([10^2, 5^2])\n",
    "observations = kfobservation{Float64}(obs_mat, obsCov);"
   ]
  },
  {
   "cell_type": "markdown",
   "id": "33605964",
   "metadata": {},
   "source": [
    "Gather measurements and update the state"
   ]
  },
  {
   "cell_type": "code",
   "execution_count": 12,
   "id": "1a5acf26",
   "metadata": {},
   "outputs": [],
   "source": [
    "states_fcn_time = Vector{kfstate{Float64}}(undef, time_steps);\n",
    "# This is the seed for the algorithm\n",
    "next_state = kfstate{Float64}(initial_state.state, initial_state.cov)\n",
    "\n",
    "for step in 1:time_steps\n",
    "    # At current time, get measurement\n",
    "    time_sec = (step - 1) * delta_time_sec\n",
    "    measurement_vec = get_measurement(true_state_vector, time_sec)\n",
    "    true_state_vec = get_model_estimate(true_state_vector, time_sec)\n",
    "\n",
    "    # Predict the next state\n",
    "    predicted_state = extrapulate_state(next_state, system, external_input_vector)\n",
    "\n",
    "    # Update the estimate\n",
    "    next_state = update_state(predicted_state, observations, measurement_vec)\n",
    "    states_fcn_time[step] = next_state\n",
    "\n",
    "end;"
   ]
  },
  {
   "cell_type": "markdown",
   "id": "9e018545",
   "metadata": {},
   "source": [
    "Plot the true and estimated position"
   ]
  },
  {
   "cell_type": "code",
   "execution_count": 13,
   "id": "fd40f8b9",
   "metadata": {},
   "outputs": [
    {
     "data": {
      "application/vnd.plotly.v1+json": {
       "config": {
        "editable": false,
        "responsive": true,
        "scrollZoom": true,
        "showLink": false,
        "staticPlot": false
       },
       "data": [
        {
         "mode": "markers",
         "name": "True Position",
         "type": "scatter",
         "x": [
          0,
          0.02,
          0.04,
          0.06,
          0.08,
          0.1,
          0.12,
          0.14,
          0.16,
          0.18,
          0.2,
          0.22,
          0.24,
          0.26,
          0.28,
          0.3,
          0.32,
          0.34,
          0.36,
          0.38,
          0.4,
          0.42,
          0.44,
          0.46,
          0.48,
          0.5,
          0.52,
          0.54,
          0.56,
          0.58,
          0.6,
          0.62,
          0.64,
          0.66,
          0.68,
          0.7000000000000001,
          0.72,
          0.74,
          0.76,
          0.78,
          0.8,
          0.8200000000000001,
          0.84,
          0.86,
          0.88,
          0.9,
          0.92,
          0.9400000000000001,
          0.96,
          0.98,
          1,
          1.02,
          1.04,
          1.06,
          1.08,
          1.1,
          1.12,
          1.1400000000000001,
          1.16,
          1.18,
          1.2,
          1.22,
          1.24,
          1.26,
          1.28,
          1.3,
          1.32,
          1.34,
          1.36,
          1.3800000000000001,
          1.4000000000000001,
          1.42,
          1.44,
          1.46,
          1.48,
          1.5,
          1.52,
          1.54,
          1.56,
          1.58,
          1.6,
          1.62,
          1.6400000000000001,
          1.6600000000000001,
          1.68,
          1.7,
          1.72,
          1.74,
          1.76,
          1.78,
          1.8,
          1.82,
          1.84,
          1.86,
          1.8800000000000001,
          1.9000000000000001,
          1.92,
          1.94,
          1.96,
          1.98,
          2,
          2.02,
          2.04,
          2.06,
          2.08,
          2.1,
          2.12,
          2.14,
          2.16,
          2.18,
          2.2,
          2.22,
          2.24,
          2.2600000000000002,
          2.2800000000000002,
          2.3000000000000003,
          2.32,
          2.34,
          2.36,
          2.38,
          2.4,
          2.42,
          2.44,
          2.46,
          2.48
         ],
         "y": [
          1015,
          1015.0480399999999,
          1015.09216,
          1015.13236,
          1015.1686400000001,
          1015.201,
          1015.22944,
          1015.25396,
          1015.27456,
          1015.29124,
          1015.304,
          1015.3128399999999,
          1015.31776,
          1015.31876,
          1015.3158400000001,
          1015.309,
          1015.29824,
          1015.28356,
          1015.26496,
          1015.2424400000001,
          1015.216,
          1015.1856399999999,
          1015.1513600000001,
          1015.11316,
          1015.07104,
          1015.025,
          1014.9750399999999,
          1014.92116,
          1014.86336,
          1014.80164,
          1014.736,
          1014.66644,
          1014.5929600000001,
          1014.5155599999999,
          1014.43424,
          1014.349,
          1014.2598399999999,
          1014.1667600000001,
          1014.06976,
          1013.96884,
          1013.864,
          1013.75524,
          1013.64256,
          1013.5259599999999,
          1013.40544,
          1013.281,
          1013.1526399999999,
          1013.02036,
          1012.88416,
          1012.74404,
          1012.6,
          1012.4520399999999,
          1012.30016,
          1012.14436,
          1011.98464,
          1011.821,
          1011.6534399999999,
          1011.4819600000001,
          1011.30656,
          1011.12724,
          1010.944,
          1010.75684,
          1010.5657600000001,
          1010.37076,
          1010.1718400000001,
          1009.969,
          1009.7622399999999,
          1009.55156,
          1009.33696,
          1009.1184400000001,
          1008.896,
          1008.66964,
          1008.4393600000001,
          1008.20516,
          1007.96704,
          1007.725,
          1007.4790399999999,
          1007.22916,
          1006.97536,
          1006.7176400000001,
          1006.456,
          1006.19044,
          1005.92096,
          1005.64756,
          1005.3702400000001,
          1005.089,
          1004.8038399999999,
          1004.51476,
          1004.22176,
          1003.92484,
          1003.624,
          1003.3192399999999,
          1003.01056,
          1002.69796,
          1002.38144,
          1002.061,
          1001.73664,
          1001.40836,
          1001.07616,
          1000.74004,
          1000.4,
          1000.0560399999999,
          999.70816,
          999.35636,
          999.0006400000001,
          998.641,
          998.27744,
          997.9099600000001,
          997.53856,
          997.1632400000001,
          996.784,
          996.4008399999999,
          996.01376,
          995.62276,
          995.22784,
          994.829,
          994.42624,
          994.0195600000001,
          993.60896,
          993.1944400000001,
          992.776,
          992.3536399999999,
          991.92736,
          991.49716,
          991.06304
         ]
        },
        {
         "error_y": {
          "array": [
           9.950372426127688,
           7.055309105968284,
           5.768974518772975,
           5.003011447918132,
           4.481878166676354,
           4.098916531337146,
           3.8029889625686404,
           3.5661005713958827,
           3.3714627118218248,
           3.20831070186863,
           3.0693788632428776,
           2.9495594012446262,
           2.845140516435938,
           2.7533495533971353,
           2.672066621576732,
           2.5996382775247526,
           2.534752414300414,
           2.4763519330074213,
           2.423573746398925,
           2.375704774222371,
           2.3321496054556112,
           2.2924063391344673,
           2.256048265646082,
           2.222709788824677,
           2.192075474016523,
           2.163871432071664,
           2.1378584708142325,
           2.1138265992698866,
           2.0915905782120534,
           2.070986287936884,
           2.0518677401445875,
           2.034104601787126,
           2.0175801290841178,
           2.00218943260387,
           1.9878380114443288,
           1.9744405076054,
           1.961919641674346,
           1.9502052987112686,
           1.9392337392774512,
           1.9289469153043926,
           1.9192918742592129,
           1.9102202380501343,
           1.9016877455053471,
           1.8936538491802015,
           1.886081358801051,
           1.8789361249161056,
           1.8721867573539106,
           1.865804373935028,
           1.8597623755785893,
           1.8540362445212988,
           1.8486033628450118,
           1.8434428489081973,
           1.8385354096110007,
           1.833863206704776,
           1.829409735594309,
           1.8251597152820243,
           1.8210989882744777,
           1.8172144294173638,
           1.8134938627502588,
           1.8099259855797434,
           1.8065002990621775,
           1.8032070446675519,
           1.80003714596542,
           1.7969821552344847,
           1.7940342044503417,
           1.7911859602522384,
           1.788430582530433,
           1.7857616863116295,
           1.783173306651662,
           1.7806598662726754,
           1.7782161457069747,
           1.7758372557318896,
           1.7735186118997777,
           1.7712559109849546,
           1.769045109185158,
           1.766882401929327,
           1.7647642051562118,
           1.762687137939779,
           1.7606480063476748,
           1.758643788428292,
           1.7566716202303543,
           1.7547287827664684,
           1.7528126898389005,
           1.7509208766519544,
           1.7490509891408539,
           1.7472007739519837,
           1.7453680690138014,
           1.7435507946417,
           1.7417469451236578,
           1.7399545807366406,
           1.7381718201464802,
           1.7363968331463504,
           1.734627833691017,
           1.7328630731857582,
           1.7311008339902616,
           1.7293394230988812,
           1.7275771659594232,
           1.72581240039308,
           1.7240434705782737,
           1.722268721060976,
           1.720486490753526,
           1.718695106883069,
           1.7168928788494284,
           1.7150780919505129,
           1.713249000931157,
           1.7114038233086146,
           1.7095407324246379,
           1.7076578501701847,
           1.7057532393241694,
           1.7038248954422264,
           1.7018707382251026,
           1.6998886022888322,
           1.697876227250202,
           1.6958312470308892,
           1.6937511782719306,
           1.6916334077364648,
           1.6894751785627604,
           1.6872735752109131,
           1.6850255069248603,
           1.6827276895058931,
           1.680376625163988,
           1.6779685801781665,
           1.6754995600557132,
           1.6729652818311727,
           1.6703611430880938
          ],
          "type": "data"
         },
         "mode": "markers",
         "name": "Estimated Position",
         "type": "scatter",
         "x": [
          0,
          0.02,
          0.04,
          0.06,
          0.08,
          0.1,
          0.12,
          0.14,
          0.16,
          0.18,
          0.2,
          0.22,
          0.24,
          0.26,
          0.28,
          0.3,
          0.32,
          0.34,
          0.36,
          0.38,
          0.4,
          0.42,
          0.44,
          0.46,
          0.48,
          0.5,
          0.52,
          0.54,
          0.56,
          0.58,
          0.6,
          0.62,
          0.64,
          0.66,
          0.68,
          0.7000000000000001,
          0.72,
          0.74,
          0.76,
          0.78,
          0.8,
          0.8200000000000001,
          0.84,
          0.86,
          0.88,
          0.9,
          0.92,
          0.9400000000000001,
          0.96,
          0.98,
          1,
          1.02,
          1.04,
          1.06,
          1.08,
          1.1,
          1.12,
          1.1400000000000001,
          1.16,
          1.18,
          1.2,
          1.22,
          1.24,
          1.26,
          1.28,
          1.3,
          1.32,
          1.34,
          1.36,
          1.3800000000000001,
          1.4000000000000001,
          1.42,
          1.44,
          1.46,
          1.48,
          1.5,
          1.52,
          1.54,
          1.56,
          1.58,
          1.6,
          1.62,
          1.6400000000000001,
          1.6600000000000001,
          1.68,
          1.7,
          1.72,
          1.74,
          1.76,
          1.78,
          1.8,
          1.82,
          1.84,
          1.86,
          1.8800000000000001,
          1.9000000000000001,
          1.92,
          1.94,
          1.96,
          1.98,
          2,
          2.02,
          2.04,
          2.06,
          2.08,
          2.1,
          2.12,
          2.14,
          2.16,
          2.18,
          2.2,
          2.22,
          2.24,
          2.2600000000000002,
          2.2800000000000002,
          2.3000000000000003,
          2.32,
          2.34,
          2.36,
          2.38,
          2.4,
          2.42,
          2.44,
          2.46,
          2.48
         ],
         "y": [
          1017.0637362857506,
          1016.4322764462601,
          1015.9586888286806,
          1015.7915222780858,
          1015.7915521793971,
          1015.5568553216759,
          1015.3111912255192,
          1015.4480727189814,
          1015.466364577388,
          1015.6006692362162,
          1015.7173816104319,
          1015.8005857855842,
          1015.7628270245366,
          1015.804886110079,
          1015.829806022719,
          1015.6762740779412,
          1015.6225831055852,
          1015.530841545109,
          1015.6185293215223,
          1015.49324651087,
          1015.4621537941603,
          1015.390104511437,
          1015.2350388601659,
          1015.1906620767118,
          1015.068918892932,
          1015.0815069630089,
          1014.9370511895751,
          1014.8277580367759,
          1014.8107918190587,
          1014.767614923602,
          1014.7074457633388,
          1014.5717785962722,
          1014.5408825308413,
          1014.4676545385273,
          1014.3296382858892,
          1014.2521518388585,
          1014.2093387442582,
          1014.0862192502855,
          1014.0075092828511,
          1013.935146203573,
          1013.8318790441489,
          1013.7539897874688,
          1013.6438403988934,
          1013.5641314650409,
          1013.4055308999838,
          1013.300372988459,
          1013.1149671946322,
          1012.9696515733478,
          1012.7923763432444,
          1012.6532825108732,
          1012.4851543486897,
          1012.3300618175781,
          1012.1999980939889,
          1012.0099964810425,
          1011.7850105295836,
          1011.655548615887,
          1011.5346877579295,
          1011.3787897559648,
          1011.1804436733286,
          1010.9361648611703,
          1010.6831795555134,
          1010.5545934710908,
          1010.3776954040261,
          1010.204122953776,
          1010.0600592305827,
          1009.9195617234428,
          1009.6764360261982,
          1009.4277029845962,
          1009.2267268618791,
          1009.0777487046716,
          1008.8201767531025,
          1008.6596631407397,
          1008.4813755074822,
          1008.2360956041273,
          1007.9754169575525,
          1007.8000127685576,
          1007.5929556746886,
          1007.2617137360099,
          1007.0149944574127,
          1006.7687044412343,
          1006.5650634170971,
          1006.2411123055964,
          1005.9278038409743,
          1005.5861761305372,
          1005.3424145199986,
          1005.0815225564864,
          1004.7554432822948,
          1004.4374039654676,
          1004.0998888247248,
          1003.7952146993374,
          1003.4555118395256,
          1003.1999402635796,
          1002.8844082897178,
          1002.6120664588692,
          1002.308140628302,
          1002.0215834232738,
          1001.6612898224103,
          1001.3641699560527,
          1000.9946130735223,
          1000.6056191158116,
          1000.2800182870901,
          999.8706814628772,
          999.548145674031,
          999.2184862231678,
          998.8797165766786,
          998.5570814543728,
          998.1854725469034,
          997.8358095225129,
          997.4629868346711,
          997.1170537645604,
          996.7055291996403,
          996.3072790942255,
          995.9515084328467,
          995.5980986891832,
          995.2534969889629,
          994.8658042667039,
          994.449275209872,
          994.0604378488645,
          993.7018706564098,
          993.281535726863,
          992.8596783592941,
          992.4844243384131,
          992.0619052958683,
          991.6547046048755,
          991.1808982787159
         ]
        }
       ],
       "frames": [],
       "layout": {
        "legend": {
         "title": "Legend Title"
        },
        "margin": {
         "b": 50,
         "l": 50,
         "r": 50,
         "t": 60
        },
        "template": {
         "data": {
          "bar": [
           {
            "error_x": {
             "color": "#2a3f5f"
            },
            "error_y": {
             "color": "#2a3f5f"
            },
            "marker": {
             "line": {
              "color": "#E5ECF6",
              "width": 0.5
             }
            },
            "type": "bar"
           }
          ],
          "barpolar": [
           {
            "marker": {
             "line": {
              "color": "#E5ECF6",
              "width": 0.5
             }
            },
            "type": "barpolar"
           }
          ],
          "carpet": [
           {
            "aaxis": {
             "endlinecolor": "#2a3f5f",
             "gridcolor": "white",
             "linecolor": "white",
             "minorgridcolor": "white",
             "startlinecolor": "#2a3f5f"
            },
            "baxis": {
             "endlinecolor": "#2a3f5f",
             "gridcolor": "white",
             "linecolor": "white",
             "minorgridcolor": "white",
             "startlinecolor": "#2a3f5f"
            },
            "type": "carpet"
           }
          ],
          "choropleth": [
           {
            "colorbar": {
             "outlinewidth": 0,
             "ticks": ""
            },
            "type": "choropleth"
           }
          ],
          "contour": [
           {
            "colorbar": {
             "outlinewidth": 0,
             "ticks": ""
            },
            "colorscale": [
             [
              0,
              "#0d0887"
             ],
             [
              0.1111111111111111,
              "#46039f"
             ],
             [
              0.2222222222222222,
              "#7201a8"
             ],
             [
              0.3333333333333333,
              "#9c179e"
             ],
             [
              0.4444444444444444,
              "#bd3786"
             ],
             [
              0.5555555555555556,
              "#d8576b"
             ],
             [
              0.6666666666666666,
              "#ed7953"
             ],
             [
              0.7777777777777778,
              "#fb9f3a"
             ],
             [
              0.8888888888888888,
              "#fdca26"
             ],
             [
              1,
              "#f0f921"
             ]
            ],
            "type": "contour"
           }
          ],
          "contourcarpet": [
           {
            "colorbar": {
             "outlinewidth": 0,
             "ticks": ""
            },
            "type": "contourcarpet"
           }
          ],
          "heatmap": [
           {
            "colorbar": {
             "outlinewidth": 0,
             "ticks": ""
            },
            "colorscale": [
             [
              0,
              "#0d0887"
             ],
             [
              0.1111111111111111,
              "#46039f"
             ],
             [
              0.2222222222222222,
              "#7201a8"
             ],
             [
              0.3333333333333333,
              "#9c179e"
             ],
             [
              0.4444444444444444,
              "#bd3786"
             ],
             [
              0.5555555555555556,
              "#d8576b"
             ],
             [
              0.6666666666666666,
              "#ed7953"
             ],
             [
              0.7777777777777778,
              "#fb9f3a"
             ],
             [
              0.8888888888888888,
              "#fdca26"
             ],
             [
              1,
              "#f0f921"
             ]
            ],
            "type": "heatmap"
           }
          ],
          "heatmapgl": [
           {
            "colorbar": {
             "outlinewidth": 0,
             "ticks": ""
            },
            "colorscale": [
             [
              0,
              "#0d0887"
             ],
             [
              0.1111111111111111,
              "#46039f"
             ],
             [
              0.2222222222222222,
              "#7201a8"
             ],
             [
              0.3333333333333333,
              "#9c179e"
             ],
             [
              0.4444444444444444,
              "#bd3786"
             ],
             [
              0.5555555555555556,
              "#d8576b"
             ],
             [
              0.6666666666666666,
              "#ed7953"
             ],
             [
              0.7777777777777778,
              "#fb9f3a"
             ],
             [
              0.8888888888888888,
              "#fdca26"
             ],
             [
              1,
              "#f0f921"
             ]
            ],
            "type": "heatmapgl"
           }
          ],
          "histogram": [
           {
            "marker": {
             "colorbar": {
              "outlinewidth": 0,
              "ticks": ""
             }
            },
            "type": "histogram"
           }
          ],
          "histogram2d": [
           {
            "colorbar": {
             "outlinewidth": 0,
             "ticks": ""
            },
            "colorscale": [
             [
              0,
              "#0d0887"
             ],
             [
              0.1111111111111111,
              "#46039f"
             ],
             [
              0.2222222222222222,
              "#7201a8"
             ],
             [
              0.3333333333333333,
              "#9c179e"
             ],
             [
              0.4444444444444444,
              "#bd3786"
             ],
             [
              0.5555555555555556,
              "#d8576b"
             ],
             [
              0.6666666666666666,
              "#ed7953"
             ],
             [
              0.7777777777777778,
              "#fb9f3a"
             ],
             [
              0.8888888888888888,
              "#fdca26"
             ],
             [
              1,
              "#f0f921"
             ]
            ],
            "type": "histogram2d"
           }
          ],
          "histogram2dcontour": [
           {
            "colorbar": {
             "outlinewidth": 0,
             "ticks": ""
            },
            "colorscale": [
             [
              0,
              "#0d0887"
             ],
             [
              0.1111111111111111,
              "#46039f"
             ],
             [
              0.2222222222222222,
              "#7201a8"
             ],
             [
              0.3333333333333333,
              "#9c179e"
             ],
             [
              0.4444444444444444,
              "#bd3786"
             ],
             [
              0.5555555555555556,
              "#d8576b"
             ],
             [
              0.6666666666666666,
              "#ed7953"
             ],
             [
              0.7777777777777778,
              "#fb9f3a"
             ],
             [
              0.8888888888888888,
              "#fdca26"
             ],
             [
              1,
              "#f0f921"
             ]
            ],
            "type": "histogram2dcontour"
           }
          ],
          "mesh3d": [
           {
            "colorbar": {
             "outlinewidth": 0,
             "ticks": ""
            },
            "type": "mesh3d"
           }
          ],
          "parcoords": [
           {
            "line": {
             "colorbar": {
              "outlinewidth": 0,
              "ticks": ""
             }
            },
            "type": "parcoords"
           }
          ],
          "pie": [
           {
            "automargin": true,
            "type": "pie"
           }
          ],
          "scatter": [
           {
            "marker": {
             "colorbar": {
              "outlinewidth": 0,
              "ticks": ""
             }
            },
            "type": "scatter"
           }
          ],
          "scatter3d": [
           {
            "line": {
             "colorbar": {
              "outlinewidth": 0,
              "ticks": ""
             }
            },
            "marker": {
             "colorbar": {
              "outlinewidth": 0,
              "ticks": ""
             }
            },
            "type": "scatter3d"
           }
          ],
          "scattercarpet": [
           {
            "marker": {
             "colorbar": {
              "outlinewidth": 0,
              "ticks": ""
             }
            },
            "type": "scattercarpet"
           }
          ],
          "scattergeo": [
           {
            "marker": {
             "colorbar": {
              "outlinewidth": 0,
              "ticks": ""
             }
            },
            "type": "scattergeo"
           }
          ],
          "scattergl": [
           {
            "marker": {
             "colorbar": {
              "outlinewidth": 0,
              "ticks": ""
             }
            },
            "type": "scattergl"
           }
          ],
          "scattermapbox": [
           {
            "marker": {
             "colorbar": {
              "outlinewidth": 0,
              "ticks": ""
             }
            },
            "type": "scattermapbox"
           }
          ],
          "scatterpolar": [
           {
            "marker": {
             "colorbar": {
              "outlinewidth": 0,
              "ticks": ""
             }
            },
            "type": "scatterpolar"
           }
          ],
          "scatterpolargl": [
           {
            "marker": {
             "colorbar": {
              "outlinewidth": 0,
              "ticks": ""
             }
            },
            "type": "scatterpolargl"
           }
          ],
          "scatterternary": [
           {
            "marker": {
             "colorbar": {
              "outlinewidth": 0,
              "ticks": ""
             }
            },
            "type": "scatterternary"
           }
          ],
          "surface": [
           {
            "colorbar": {
             "outlinewidth": 0,
             "ticks": ""
            },
            "colorscale": [
             [
              0,
              "#0d0887"
             ],
             [
              0.1111111111111111,
              "#46039f"
             ],
             [
              0.2222222222222222,
              "#7201a8"
             ],
             [
              0.3333333333333333,
              "#9c179e"
             ],
             [
              0.4444444444444444,
              "#bd3786"
             ],
             [
              0.5555555555555556,
              "#d8576b"
             ],
             [
              0.6666666666666666,
              "#ed7953"
             ],
             [
              0.7777777777777778,
              "#fb9f3a"
             ],
             [
              0.8888888888888888,
              "#fdca26"
             ],
             [
              1,
              "#f0f921"
             ]
            ],
            "type": "surface"
           }
          ],
          "table": [
           {
            "cells": {
             "fill": {
              "color": "#EBF0F8"
             },
             "line": {
              "color": "white"
             }
            },
            "header": {
             "fill": {
              "color": "#C8D4E3"
             },
             "line": {
              "color": "white"
             }
            },
            "type": "table"
           }
          ]
         },
         "layout": {
          "annotationdefaults": {
           "arrowcolor": "#2a3f5f",
           "arrowhead": 0,
           "arrowwidth": 1
          },
          "autotypenumbers": "strict",
          "coloraxis": {
           "colorbar": {
            "outlinewidth": 0,
            "ticks": ""
           }
          },
          "colorscale": {
           "diverging": [
            [
             0,
             "#8e0152"
            ],
            [
             0.1,
             "#c51b7d"
            ],
            [
             0.2,
             "#de77ae"
            ],
            [
             0.3,
             "#f1b6da"
            ],
            [
             0.4,
             "#fde0ef"
            ],
            [
             0.5,
             "#f7f7f7"
            ],
            [
             0.6,
             "#e6f5d0"
            ],
            [
             0.7,
             "#b8e186"
            ],
            [
             0.8,
             "#7fbc41"
            ],
            [
             0.9,
             "#4d9221"
            ],
            [
             1,
             "#276419"
            ]
           ],
           "sequential": [
            [
             0,
             "#0d0887"
            ],
            [
             0.1111111111111111,
             "#46039f"
            ],
            [
             0.2222222222222222,
             "#7201a8"
            ],
            [
             0.3333333333333333,
             "#9c179e"
            ],
            [
             0.4444444444444444,
             "#bd3786"
            ],
            [
             0.5555555555555556,
             "#d8576b"
            ],
            [
             0.6666666666666666,
             "#ed7953"
            ],
            [
             0.7777777777777778,
             "#fb9f3a"
            ],
            [
             0.8888888888888888,
             "#fdca26"
            ],
            [
             1,
             "#f0f921"
            ]
           ],
           "sequentialminus": [
            [
             0,
             "#0d0887"
            ],
            [
             0.1111111111111111,
             "#46039f"
            ],
            [
             0.2222222222222222,
             "#7201a8"
            ],
            [
             0.3333333333333333,
             "#9c179e"
            ],
            [
             0.4444444444444444,
             "#bd3786"
            ],
            [
             0.5555555555555556,
             "#d8576b"
            ],
            [
             0.6666666666666666,
             "#ed7953"
            ],
            [
             0.7777777777777778,
             "#fb9f3a"
            ],
            [
             0.8888888888888888,
             "#fdca26"
            ],
            [
             1,
             "#f0f921"
            ]
           ]
          },
          "colorway": [
           "#636efa",
           "#EF553B",
           "#00cc96",
           "#ab63fa",
           "#FFA15A",
           "#19d3f3",
           "#FF6692",
           "#B6E880",
           "#FF97FF",
           "#FECB52"
          ],
          "font": {
           "color": "#2a3f5f"
          },
          "geo": {
           "bgcolor": "white",
           "lakecolor": "white",
           "landcolor": "#E5ECF6",
           "showlakes": true,
           "showland": true,
           "subunitcolor": "white"
          },
          "hoverlabel": {
           "align": "left"
          },
          "hovermode": "closest",
          "mapbox": {
           "style": "light"
          },
          "paper_bgcolor": "white",
          "plot_bgcolor": "#E5ECF6",
          "polar": {
           "angularaxis": {
            "gridcolor": "white",
            "linecolor": "white",
            "ticks": ""
           },
           "bgcolor": "#E5ECF6",
           "radialaxis": {
            "gridcolor": "white",
            "linecolor": "white",
            "ticks": ""
           }
          },
          "scene": {
           "xaxis": {
            "backgroundcolor": "#E5ECF6",
            "gridcolor": "white",
            "gridwidth": 2,
            "linecolor": "white",
            "showbackground": true,
            "ticks": "",
            "zerolinecolor": "white"
           },
           "yaxis": {
            "backgroundcolor": "#E5ECF6",
            "gridcolor": "white",
            "gridwidth": 2,
            "linecolor": "white",
            "showbackground": true,
            "ticks": "",
            "zerolinecolor": "white"
           },
           "zaxis": {
            "backgroundcolor": "#E5ECF6",
            "gridcolor": "white",
            "gridwidth": 2,
            "linecolor": "white",
            "showbackground": true,
            "ticks": "",
            "zerolinecolor": "white"
           }
          },
          "shapedefaults": {
           "line": {
            "color": "#2a3f5f"
           }
          },
          "ternary": {
           "aaxis": {
            "gridcolor": "white",
            "linecolor": "white",
            "ticks": ""
           },
           "baxis": {
            "gridcolor": "white",
            "linecolor": "white",
            "ticks": ""
           },
           "bgcolor": "#E5ECF6",
           "caxis": {
            "gridcolor": "white",
            "linecolor": "white",
            "ticks": ""
           }
          },
          "title": {
           "x": 0.05
          },
          "xaxis": {
           "automargin": true,
           "gridcolor": "white",
           "linecolor": "white",
           "ticks": "",
           "title": {
            "standoff": 15
           },
           "zerolinecolor": "white",
           "zerolinewidth": 2
          },
          "yaxis": {
           "automargin": true,
           "gridcolor": "white",
           "linecolor": "white",
           "ticks": "",
           "title": {
            "standoff": 15
           },
           "zerolinecolor": "white",
           "zerolinewidth": 2
          }
         }
        },
        "title": "Position Measurement",
        "xaxis": {
         "title": {
          "text": "Time (second)"
         }
        },
        "yaxis": {
         "title": {
          "text": "Position (meters)"
         }
        }
       }
      },
      "text/html": [
       "<div\n",
       "    class=\"webio-mountpoint\"\n",
       "    data-webio-mountpoint=\"13565711077674696494\"\n",
       ">\n",
       "    <script>\n",
       "    (function(){\n",
       "    // Some integrations (namely, IJulia/Jupyter) use an alternate render pathway than\n",
       "    // just putting the html on the page. If WebIO isn't defined, then it's pretty likely\n",
       "    // that we're in one of those situations and the integration just isn't installed\n",
       "    // correctly.\n",
       "    if (typeof window.WebIO === \"undefined\") {\n",
       "        document\n",
       "            .querySelector('[data-webio-mountpoint=\"13565711077674696494\"]')\n",
       "            .innerHTML = (\n",
       "                '<div style=\"padding: 1em; background-color: #f8d6da; border: 1px solid #f5c6cb; font-weight: bold;\">' +\n",
       "                '<p><strong>WebIO not detected.</strong></p>' +\n",
       "                '<p>Please read ' +\n",
       "                '<a href=\"https://juliagizmos.github.io/WebIO.jl/latest/troubleshooting/not-detected/\" target=\"_blank\">the troubleshooting guide</a> ' +\n",
       "                'for more information on how to resolve this issue.</p>' +\n",
       "                '<p><a href=\"https://juliagizmos.github.io/WebIO.jl/latest/troubleshooting/not-detected/\" target=\"_blank\">https://juliagizmos.github.io/WebIO.jl/latest/troubleshooting/not-detected/</a></p>' +\n",
       "                '</div>'\n",
       "            );\n",
       "        return;\n",
       "    }\n",
       "    WebIO.mount(\n",
       "        document.querySelector('[data-webio-mountpoint=\"13565711077674696494\"]'),\n",
       "        {\"props\":{},\"nodeType\":\"Scope\",\"type\":\"node\",\"instanceArgs\":{\"imports\":{\"data\":[{\"name\":\"Plotly\",\"type\":\"js\",\"url\":\"\\/assetserver\\/627f17ff06762af3874159c00b9b1e00e50688bc-plotly.min.js\"},{\"name\":null,\"type\":\"js\",\"url\":\"\\/assetserver\\/1a276a0acb11ad47020d3f379225d41bbd0aeef0-plotly_webio.bundle.js\"}],\"type\":\"async_block\"},\"id\":\"13134790735150072907\",\"handlers\":{\"_toImage\":[\"(function (options){return this.Plotly.toImage(this.plotElem,options).then((function (data){return WebIO.setval({\\\"name\\\":\\\"image\\\",\\\"scope\\\":\\\"13134790735150072907\\\",\\\"id\\\":\\\"10919542604141268943\\\",\\\"type\\\":\\\"observable\\\"},data)}))})\"],\"__get_gd_contents\":[\"(function (prop){prop==\\\"data\\\" ? (WebIO.setval({\\\"name\\\":\\\"__gd_contents\\\",\\\"scope\\\":\\\"13134790735150072907\\\",\\\"id\\\":\\\"15265962875931983253\\\",\\\"type\\\":\\\"observable\\\"},this.plotElem.data)) : undefined; return prop==\\\"layout\\\" ? (WebIO.setval({\\\"name\\\":\\\"__gd_contents\\\",\\\"scope\\\":\\\"13134790735150072907\\\",\\\"id\\\":\\\"15265962875931983253\\\",\\\"type\\\":\\\"observable\\\"},this.plotElem.layout)) : undefined})\"],\"_downloadImage\":[\"(function (options){return this.Plotly.downloadImage(this.plotElem,options)})\"],\"_commands\":[\"(function (args){var fn=args.shift(); var elem=this.plotElem; var Plotly=this.Plotly; args.unshift(elem); return Plotly[fn].apply(this,args)})\"]},\"systemjs_options\":null,\"mount_callbacks\":[\"function () {\\n    var handler = ((function (Plotly,PlotlyWebIO){PlotlyWebIO.init(WebIO); var gd=this.dom.querySelector(\\\"#plot-e58619e0-69d9-454f-8d68-cf00ef981a12\\\"); this.plotElem=gd; this.Plotly=Plotly; (window.Blink!==undefined) ? (gd.style.width=\\\"100%\\\", gd.style.height=\\\"100vh\\\", gd.style.marginLeft=\\\"0%\\\", gd.style.marginTop=\\\"0vh\\\") : undefined; window.onresize=(function (){return Plotly.Plots.resize(gd)}); Plotly.newPlot(gd,[{\\\"mode\\\":\\\"markers\\\",\\\"y\\\":[1015.0,1015.0480399999999,1015.09216,1015.13236,1015.1686400000001,1015.201,1015.22944,1015.25396,1015.27456,1015.29124,1015.304,1015.3128399999999,1015.31776,1015.31876,1015.3158400000001,1015.309,1015.29824,1015.28356,1015.26496,1015.2424400000001,1015.216,1015.1856399999999,1015.1513600000001,1015.11316,1015.07104,1015.025,1014.9750399999999,1014.92116,1014.86336,1014.80164,1014.736,1014.66644,1014.5929600000001,1014.5155599999999,1014.43424,1014.349,1014.2598399999999,1014.1667600000001,1014.06976,1013.96884,1013.864,1013.75524,1013.64256,1013.5259599999999,1013.40544,1013.281,1013.1526399999999,1013.02036,1012.88416,1012.74404,1012.6,1012.4520399999999,1012.30016,1012.14436,1011.98464,1011.821,1011.6534399999999,1011.4819600000001,1011.30656,1011.12724,1010.944,1010.75684,1010.5657600000001,1010.37076,1010.1718400000001,1009.969,1009.7622399999999,1009.55156,1009.33696,1009.1184400000001,1008.896,1008.66964,1008.4393600000001,1008.20516,1007.96704,1007.725,1007.4790399999999,1007.22916,1006.97536,1006.7176400000001,1006.456,1006.19044,1005.92096,1005.64756,1005.3702400000001,1005.089,1004.8038399999999,1004.51476,1004.22176,1003.92484,1003.624,1003.3192399999999,1003.01056,1002.69796,1002.38144,1002.061,1001.73664,1001.40836,1001.07616,1000.74004,1000.4,1000.0560399999999,999.70816,999.35636,999.0006400000001,998.641,998.27744,997.9099600000001,997.53856,997.1632400000001,996.784,996.4008399999999,996.01376,995.62276,995.22784,994.829,994.42624,994.0195600000001,993.60896,993.1944400000001,992.776,992.3536399999999,991.92736,991.49716,991.06304],\\\"type\\\":\\\"scatter\\\",\\\"name\\\":\\\"True Position\\\",\\\"x\\\":[0.0,0.02,0.04,0.06,0.08,0.1,0.12,0.14,0.16,0.18,0.2,0.22,0.24,0.26,0.28,0.3,0.32,0.34,0.36,0.38,0.4,0.42,0.44,0.46,0.48,0.5,0.52,0.54,0.56,0.58,0.6,0.62,0.64,0.66,0.68,0.7000000000000001,0.72,0.74,0.76,0.78,0.8,0.8200000000000001,0.84,0.86,0.88,0.9,0.92,0.9400000000000001,0.96,0.98,1.0,1.02,1.04,1.06,1.08,1.1,1.12,1.1400000000000001,1.16,1.18,1.2,1.22,1.24,1.26,1.28,1.3,1.32,1.34,1.36,1.3800000000000001,1.4000000000000001,1.42,1.44,1.46,1.48,1.5,1.52,1.54,1.56,1.58,1.6,1.62,1.6400000000000001,1.6600000000000001,1.68,1.7,1.72,1.74,1.76,1.78,1.8,1.82,1.84,1.86,1.8800000000000001,1.9000000000000001,1.92,1.94,1.96,1.98,2.0,2.02,2.04,2.06,2.08,2.1,2.12,2.14,2.16,2.18,2.2,2.22,2.24,2.2600000000000002,2.2800000000000002,2.3000000000000003,2.32,2.34,2.36,2.38,2.4,2.42,2.44,2.46,2.48]},{\\\"mode\\\":\\\"markers\\\",\\\"y\\\":[1017.0637362857506,1016.4322764462601,1015.9586888286806,1015.7915222780858,1015.7915521793971,1015.5568553216759,1015.3111912255192,1015.4480727189814,1015.466364577388,1015.6006692362162,1015.7173816104319,1015.8005857855842,1015.7628270245366,1015.804886110079,1015.829806022719,1015.6762740779412,1015.6225831055852,1015.530841545109,1015.6185293215223,1015.49324651087,1015.4621537941603,1015.390104511437,1015.2350388601659,1015.1906620767118,1015.068918892932,1015.0815069630089,1014.9370511895751,1014.8277580367759,1014.8107918190587,1014.767614923602,1014.7074457633388,1014.5717785962722,1014.5408825308413,1014.4676545385273,1014.3296382858892,1014.2521518388585,1014.2093387442582,1014.0862192502855,1014.0075092828511,1013.935146203573,1013.8318790441489,1013.7539897874688,1013.6438403988934,1013.5641314650409,1013.4055308999838,1013.300372988459,1013.1149671946322,1012.9696515733478,1012.7923763432444,1012.6532825108732,1012.4851543486897,1012.3300618175781,1012.1999980939889,1012.0099964810425,1011.7850105295836,1011.655548615887,1011.5346877579295,1011.3787897559648,1011.1804436733286,1010.9361648611703,1010.6831795555134,1010.5545934710908,1010.3776954040261,1010.204122953776,1010.0600592305827,1009.9195617234428,1009.6764360261982,1009.4277029845962,1009.2267268618791,1009.0777487046716,1008.8201767531025,1008.6596631407397,1008.4813755074822,1008.2360956041273,1007.9754169575525,1007.8000127685576,1007.5929556746886,1007.2617137360099,1007.0149944574127,1006.7687044412343,1006.5650634170971,1006.2411123055964,1005.9278038409743,1005.5861761305372,1005.3424145199986,1005.0815225564864,1004.7554432822948,1004.4374039654676,1004.0998888247248,1003.7952146993374,1003.4555118395256,1003.1999402635796,1002.8844082897178,1002.6120664588692,1002.308140628302,1002.0215834232738,1001.6612898224103,1001.3641699560527,1000.9946130735223,1000.6056191158116,1000.2800182870901,999.8706814628772,999.548145674031,999.2184862231678,998.8797165766786,998.5570814543728,998.1854725469034,997.8358095225129,997.4629868346711,997.1170537645604,996.7055291996403,996.3072790942255,995.9515084328467,995.5980986891832,995.2534969889629,994.8658042667039,994.449275209872,994.0604378488645,993.7018706564098,993.281535726863,992.8596783592941,992.4844243384131,992.0619052958683,991.6547046048755,991.1808982787159],\\\"type\\\":\\\"scatter\\\",\\\"name\\\":\\\"Estimated Position\\\",\\\"error_y\\\":{\\\"type\\\":\\\"data\\\",\\\"array\\\":[9.950372426127688,7.055309105968284,5.768974518772975,5.003011447918132,4.481878166676354,4.098916531337146,3.8029889625686404,3.5661005713958827,3.3714627118218248,3.20831070186863,3.0693788632428776,2.9495594012446262,2.845140516435938,2.7533495533971353,2.672066621576732,2.5996382775247526,2.534752414300414,2.4763519330074213,2.423573746398925,2.375704774222371,2.3321496054556112,2.2924063391344673,2.256048265646082,2.222709788824677,2.192075474016523,2.163871432071664,2.1378584708142325,2.1138265992698866,2.0915905782120534,2.070986287936884,2.0518677401445875,2.034104601787126,2.0175801290841178,2.00218943260387,1.9878380114443288,1.9744405076054,1.961919641674346,1.9502052987112686,1.9392337392774512,1.9289469153043926,1.9192918742592129,1.9102202380501343,1.9016877455053471,1.8936538491802015,1.886081358801051,1.8789361249161056,1.8721867573539106,1.865804373935028,1.8597623755785893,1.8540362445212988,1.8486033628450118,1.8434428489081973,1.8385354096110007,1.833863206704776,1.829409735594309,1.8251597152820243,1.8210989882744777,1.8172144294173638,1.8134938627502588,1.8099259855797434,1.8065002990621775,1.8032070446675519,1.80003714596542,1.7969821552344847,1.7940342044503417,1.7911859602522384,1.788430582530433,1.7857616863116295,1.783173306651662,1.7806598662726754,1.7782161457069747,1.7758372557318896,1.7735186118997777,1.7712559109849546,1.769045109185158,1.766882401929327,1.7647642051562118,1.762687137939779,1.7606480063476748,1.758643788428292,1.7566716202303543,1.7547287827664684,1.7528126898389005,1.7509208766519544,1.7490509891408539,1.7472007739519837,1.7453680690138014,1.7435507946417,1.7417469451236578,1.7399545807366406,1.7381718201464802,1.7363968331463504,1.734627833691017,1.7328630731857582,1.7311008339902616,1.7293394230988812,1.7275771659594232,1.72581240039308,1.7240434705782737,1.722268721060976,1.720486490753526,1.718695106883069,1.7168928788494284,1.7150780919505129,1.713249000931157,1.7114038233086146,1.7095407324246379,1.7076578501701847,1.7057532393241694,1.7038248954422264,1.7018707382251026,1.6998886022888322,1.697876227250202,1.6958312470308892,1.6937511782719306,1.6916334077364648,1.6894751785627604,1.6872735752109131,1.6850255069248603,1.6827276895058931,1.680376625163988,1.6779685801781665,1.6754995600557132,1.6729652818311727,1.6703611430880938]},\\\"x\\\":[0.0,0.02,0.04,0.06,0.08,0.1,0.12,0.14,0.16,0.18,0.2,0.22,0.24,0.26,0.28,0.3,0.32,0.34,0.36,0.38,0.4,0.42,0.44,0.46,0.48,0.5,0.52,0.54,0.56,0.58,0.6,0.62,0.64,0.66,0.68,0.7000000000000001,0.72,0.74,0.76,0.78,0.8,0.8200000000000001,0.84,0.86,0.88,0.9,0.92,0.9400000000000001,0.96,0.98,1.0,1.02,1.04,1.06,1.08,1.1,1.12,1.1400000000000001,1.16,1.18,1.2,1.22,1.24,1.26,1.28,1.3,1.32,1.34,1.36,1.3800000000000001,1.4000000000000001,1.42,1.44,1.46,1.48,1.5,1.52,1.54,1.56,1.58,1.6,1.62,1.6400000000000001,1.6600000000000001,1.68,1.7,1.72,1.74,1.76,1.78,1.8,1.82,1.84,1.86,1.8800000000000001,1.9000000000000001,1.92,1.94,1.96,1.98,2.0,2.02,2.04,2.06,2.08,2.1,2.12,2.14,2.16,2.18,2.2,2.22,2.24,2.2600000000000002,2.2800000000000002,2.3000000000000003,2.32,2.34,2.36,2.38,2.4,2.42,2.44,2.46,2.48]}],{\\\"xaxis\\\":{\\\"title\\\":{\\\"text\\\":\\\"Time (second)\\\"}},\\\"template\\\":{\\\"layout\\\":{\\\"coloraxis\\\":{\\\"colorbar\\\":{\\\"ticks\\\":\\\"\\\",\\\"outlinewidth\\\":0}},\\\"xaxis\\\":{\\\"gridcolor\\\":\\\"white\\\",\\\"zerolinewidth\\\":2,\\\"title\\\":{\\\"standoff\\\":15},\\\"ticks\\\":\\\"\\\",\\\"zerolinecolor\\\":\\\"white\\\",\\\"automargin\\\":true,\\\"linecolor\\\":\\\"white\\\"},\\\"hovermode\\\":\\\"closest\\\",\\\"paper_bgcolor\\\":\\\"white\\\",\\\"geo\\\":{\\\"showlakes\\\":true,\\\"showland\\\":true,\\\"landcolor\\\":\\\"#E5ECF6\\\",\\\"bgcolor\\\":\\\"white\\\",\\\"subunitcolor\\\":\\\"white\\\",\\\"lakecolor\\\":\\\"white\\\"},\\\"colorscale\\\":{\\\"sequential\\\":[[0.0,\\\"#0d0887\\\"],[0.1111111111111111,\\\"#46039f\\\"],[0.2222222222222222,\\\"#7201a8\\\"],[0.3333333333333333,\\\"#9c179e\\\"],[0.4444444444444444,\\\"#bd3786\\\"],[0.5555555555555556,\\\"#d8576b\\\"],[0.6666666666666666,\\\"#ed7953\\\"],[0.7777777777777778,\\\"#fb9f3a\\\"],[0.8888888888888888,\\\"#fdca26\\\"],[1.0,\\\"#f0f921\\\"]],\\\"diverging\\\":[[0,\\\"#8e0152\\\"],[0.1,\\\"#c51b7d\\\"],[0.2,\\\"#de77ae\\\"],[0.3,\\\"#f1b6da\\\"],[0.4,\\\"#fde0ef\\\"],[0.5,\\\"#f7f7f7\\\"],[0.6,\\\"#e6f5d0\\\"],[0.7,\\\"#b8e186\\\"],[0.8,\\\"#7fbc41\\\"],[0.9,\\\"#4d9221\\\"],[1,\\\"#276419\\\"]],\\\"sequentialminus\\\":[[0.0,\\\"#0d0887\\\"],[0.1111111111111111,\\\"#46039f\\\"],[0.2222222222222222,\\\"#7201a8\\\"],[0.3333333333333333,\\\"#9c179e\\\"],[0.4444444444444444,\\\"#bd3786\\\"],[0.5555555555555556,\\\"#d8576b\\\"],[0.6666666666666666,\\\"#ed7953\\\"],[0.7777777777777778,\\\"#fb9f3a\\\"],[0.8888888888888888,\\\"#fdca26\\\"],[1.0,\\\"#f0f921\\\"]]},\\\"yaxis\\\":{\\\"gridcolor\\\":\\\"white\\\",\\\"zerolinewidth\\\":2,\\\"title\\\":{\\\"standoff\\\":15},\\\"ticks\\\":\\\"\\\",\\\"zerolinecolor\\\":\\\"white\\\",\\\"automargin\\\":true,\\\"linecolor\\\":\\\"white\\\"},\\\"shapedefaults\\\":{\\\"line\\\":{\\\"color\\\":\\\"#2a3f5f\\\"}},\\\"hoverlabel\\\":{\\\"align\\\":\\\"left\\\"},\\\"mapbox\\\":{\\\"style\\\":\\\"light\\\"},\\\"polar\\\":{\\\"angularaxis\\\":{\\\"gridcolor\\\":\\\"white\\\",\\\"ticks\\\":\\\"\\\",\\\"linecolor\\\":\\\"white\\\"},\\\"bgcolor\\\":\\\"#E5ECF6\\\",\\\"radialaxis\\\":{\\\"gridcolor\\\":\\\"white\\\",\\\"ticks\\\":\\\"\\\",\\\"linecolor\\\":\\\"white\\\"}},\\\"autotypenumbers\\\":\\\"strict\\\",\\\"font\\\":{\\\"color\\\":\\\"#2a3f5f\\\"},\\\"ternary\\\":{\\\"baxis\\\":{\\\"gridcolor\\\":\\\"white\\\",\\\"ticks\\\":\\\"\\\",\\\"linecolor\\\":\\\"white\\\"},\\\"bgcolor\\\":\\\"#E5ECF6\\\",\\\"caxis\\\":{\\\"gridcolor\\\":\\\"white\\\",\\\"ticks\\\":\\\"\\\",\\\"linecolor\\\":\\\"white\\\"},\\\"aaxis\\\":{\\\"gridcolor\\\":\\\"white\\\",\\\"ticks\\\":\\\"\\\",\\\"linecolor\\\":\\\"white\\\"}},\\\"annotationdefaults\\\":{\\\"arrowhead\\\":0,\\\"arrowwidth\\\":1,\\\"arrowcolor\\\":\\\"#2a3f5f\\\"},\\\"plot_bgcolor\\\":\\\"#E5ECF6\\\",\\\"title\\\":{\\\"x\\\":0.05},\\\"scene\\\":{\\\"xaxis\\\":{\\\"gridcolor\\\":\\\"white\\\",\\\"gridwidth\\\":2,\\\"backgroundcolor\\\":\\\"#E5ECF6\\\",\\\"ticks\\\":\\\"\\\",\\\"showbackground\\\":true,\\\"zerolinecolor\\\":\\\"white\\\",\\\"linecolor\\\":\\\"white\\\"},\\\"zaxis\\\":{\\\"gridcolor\\\":\\\"white\\\",\\\"gridwidth\\\":2,\\\"backgroundcolor\\\":\\\"#E5ECF6\\\",\\\"ticks\\\":\\\"\\\",\\\"showbackground\\\":true,\\\"zerolinecolor\\\":\\\"white\\\",\\\"linecolor\\\":\\\"white\\\"},\\\"yaxis\\\":{\\\"gridcolor\\\":\\\"white\\\",\\\"gridwidth\\\":2,\\\"backgroundcolor\\\":\\\"#E5ECF6\\\",\\\"ticks\\\":\\\"\\\",\\\"showbackground\\\":true,\\\"zerolinecolor\\\":\\\"white\\\",\\\"linecolor\\\":\\\"white\\\"}},\\\"colorway\\\":[\\\"#636efa\\\",\\\"#EF553B\\\",\\\"#00cc96\\\",\\\"#ab63fa\\\",\\\"#FFA15A\\\",\\\"#19d3f3\\\",\\\"#FF6692\\\",\\\"#B6E880\\\",\\\"#FF97FF\\\",\\\"#FECB52\\\"]},\\\"data\\\":{\\\"barpolar\\\":[{\\\"type\\\":\\\"barpolar\\\",\\\"marker\\\":{\\\"line\\\":{\\\"color\\\":\\\"#E5ECF6\\\",\\\"width\\\":0.5}}}],\\\"carpet\\\":[{\\\"aaxis\\\":{\\\"gridcolor\\\":\\\"white\\\",\\\"endlinecolor\\\":\\\"#2a3f5f\\\",\\\"minorgridcolor\\\":\\\"white\\\",\\\"startlinecolor\\\":\\\"#2a3f5f\\\",\\\"linecolor\\\":\\\"white\\\"},\\\"type\\\":\\\"carpet\\\",\\\"baxis\\\":{\\\"gridcolor\\\":\\\"white\\\",\\\"endlinecolor\\\":\\\"#2a3f5f\\\",\\\"minorgridcolor\\\":\\\"white\\\",\\\"startlinecolor\\\":\\\"#2a3f5f\\\",\\\"linecolor\\\":\\\"white\\\"}}],\\\"scatterpolar\\\":[{\\\"type\\\":\\\"scatterpolar\\\",\\\"marker\\\":{\\\"colorbar\\\":{\\\"ticks\\\":\\\"\\\",\\\"outlinewidth\\\":0}}}],\\\"parcoords\\\":[{\\\"line\\\":{\\\"colorbar\\\":{\\\"ticks\\\":\\\"\\\",\\\"outlinewidth\\\":0}},\\\"type\\\":\\\"parcoords\\\"}],\\\"scatter\\\":[{\\\"type\\\":\\\"scatter\\\",\\\"marker\\\":{\\\"colorbar\\\":{\\\"ticks\\\":\\\"\\\",\\\"outlinewidth\\\":0}}}],\\\"histogram2dcontour\\\":[{\\\"colorbar\\\":{\\\"ticks\\\":\\\"\\\",\\\"outlinewidth\\\":0},\\\"type\\\":\\\"histogram2dcontour\\\",\\\"colorscale\\\":[[0.0,\\\"#0d0887\\\"],[0.1111111111111111,\\\"#46039f\\\"],[0.2222222222222222,\\\"#7201a8\\\"],[0.3333333333333333,\\\"#9c179e\\\"],[0.4444444444444444,\\\"#bd3786\\\"],[0.5555555555555556,\\\"#d8576b\\\"],[0.6666666666666666,\\\"#ed7953\\\"],[0.7777777777777778,\\\"#fb9f3a\\\"],[0.8888888888888888,\\\"#fdca26\\\"],[1.0,\\\"#f0f921\\\"]]}],\\\"contour\\\":[{\\\"colorbar\\\":{\\\"ticks\\\":\\\"\\\",\\\"outlinewidth\\\":0},\\\"type\\\":\\\"contour\\\",\\\"colorscale\\\":[[0.0,\\\"#0d0887\\\"],[0.1111111111111111,\\\"#46039f\\\"],[0.2222222222222222,\\\"#7201a8\\\"],[0.3333333333333333,\\\"#9c179e\\\"],[0.4444444444444444,\\\"#bd3786\\\"],[0.5555555555555556,\\\"#d8576b\\\"],[0.6666666666666666,\\\"#ed7953\\\"],[0.7777777777777778,\\\"#fb9f3a\\\"],[0.8888888888888888,\\\"#fdca26\\\"],[1.0,\\\"#f0f921\\\"]]}],\\\"scattercarpet\\\":[{\\\"type\\\":\\\"scattercarpet\\\",\\\"marker\\\":{\\\"colorbar\\\":{\\\"ticks\\\":\\\"\\\",\\\"outlinewidth\\\":0}}}],\\\"mesh3d\\\":[{\\\"colorbar\\\":{\\\"ticks\\\":\\\"\\\",\\\"outlinewidth\\\":0},\\\"type\\\":\\\"mesh3d\\\"}],\\\"surface\\\":[{\\\"colorbar\\\":{\\\"ticks\\\":\\\"\\\",\\\"outlinewidth\\\":0},\\\"type\\\":\\\"surface\\\",\\\"colorscale\\\":[[0.0,\\\"#0d0887\\\"],[0.1111111111111111,\\\"#46039f\\\"],[0.2222222222222222,\\\"#7201a8\\\"],[0.3333333333333333,\\\"#9c179e\\\"],[0.4444444444444444,\\\"#bd3786\\\"],[0.5555555555555556,\\\"#d8576b\\\"],[0.6666666666666666,\\\"#ed7953\\\"],[0.7777777777777778,\\\"#fb9f3a\\\"],[0.8888888888888888,\\\"#fdca26\\\"],[1.0,\\\"#f0f921\\\"]]}],\\\"scattermapbox\\\":[{\\\"type\\\":\\\"scattermapbox\\\",\\\"marker\\\":{\\\"colorbar\\\":{\\\"ticks\\\":\\\"\\\",\\\"outlinewidth\\\":0}}}],\\\"scattergeo\\\":[{\\\"type\\\":\\\"scattergeo\\\",\\\"marker\\\":{\\\"colorbar\\\":{\\\"ticks\\\":\\\"\\\",\\\"outlinewidth\\\":0}}}],\\\"histogram\\\":[{\\\"type\\\":\\\"histogram\\\",\\\"marker\\\":{\\\"colorbar\\\":{\\\"ticks\\\":\\\"\\\",\\\"outlinewidth\\\":0}}}],\\\"pie\\\":[{\\\"type\\\":\\\"pie\\\",\\\"automargin\\\":true}],\\\"choropleth\\\":[{\\\"colorbar\\\":{\\\"ticks\\\":\\\"\\\",\\\"outlinewidth\\\":0},\\\"type\\\":\\\"choropleth\\\"}],\\\"heatmapgl\\\":[{\\\"colorbar\\\":{\\\"ticks\\\":\\\"\\\",\\\"outlinewidth\\\":0},\\\"type\\\":\\\"heatmapgl\\\",\\\"colorscale\\\":[[0.0,\\\"#0d0887\\\"],[0.1111111111111111,\\\"#46039f\\\"],[0.2222222222222222,\\\"#7201a8\\\"],[0.3333333333333333,\\\"#9c179e\\\"],[0.4444444444444444,\\\"#bd3786\\\"],[0.5555555555555556,\\\"#d8576b\\\"],[0.6666666666666666,\\\"#ed7953\\\"],[0.7777777777777778,\\\"#fb9f3a\\\"],[0.8888888888888888,\\\"#fdca26\\\"],[1.0,\\\"#f0f921\\\"]]}],\\\"bar\\\":[{\\\"type\\\":\\\"bar\\\",\\\"error_y\\\":{\\\"color\\\":\\\"#2a3f5f\\\"},\\\"error_x\\\":{\\\"color\\\":\\\"#2a3f5f\\\"},\\\"marker\\\":{\\\"line\\\":{\\\"color\\\":\\\"#E5ECF6\\\",\\\"width\\\":0.5}}}],\\\"heatmap\\\":[{\\\"colorbar\\\":{\\\"ticks\\\":\\\"\\\",\\\"outlinewidth\\\":0},\\\"type\\\":\\\"heatmap\\\",\\\"colorscale\\\":[[0.0,\\\"#0d0887\\\"],[0.1111111111111111,\\\"#46039f\\\"],[0.2222222222222222,\\\"#7201a8\\\"],[0.3333333333333333,\\\"#9c179e\\\"],[0.4444444444444444,\\\"#bd3786\\\"],[0.5555555555555556,\\\"#d8576b\\\"],[0.6666666666666666,\\\"#ed7953\\\"],[0.7777777777777778,\\\"#fb9f3a\\\"],[0.8888888888888888,\\\"#fdca26\\\"],[1.0,\\\"#f0f921\\\"]]}],\\\"contourcarpet\\\":[{\\\"colorbar\\\":{\\\"ticks\\\":\\\"\\\",\\\"outlinewidth\\\":0},\\\"type\\\":\\\"contourcarpet\\\"}],\\\"table\\\":[{\\\"type\\\":\\\"table\\\",\\\"header\\\":{\\\"line\\\":{\\\"color\\\":\\\"white\\\"},\\\"fill\\\":{\\\"color\\\":\\\"#C8D4E3\\\"}},\\\"cells\\\":{\\\"line\\\":{\\\"color\\\":\\\"white\\\"},\\\"fill\\\":{\\\"color\\\":\\\"#EBF0F8\\\"}}}],\\\"scatter3d\\\":[{\\\"line\\\":{\\\"colorbar\\\":{\\\"ticks\\\":\\\"\\\",\\\"outlinewidth\\\":0}},\\\"type\\\":\\\"scatter3d\\\",\\\"marker\\\":{\\\"colorbar\\\":{\\\"ticks\\\":\\\"\\\",\\\"outlinewidth\\\":0}}}],\\\"scattergl\\\":[{\\\"type\\\":\\\"scattergl\\\",\\\"marker\\\":{\\\"colorbar\\\":{\\\"ticks\\\":\\\"\\\",\\\"outlinewidth\\\":0}}}],\\\"histogram2d\\\":[{\\\"colorbar\\\":{\\\"ticks\\\":\\\"\\\",\\\"outlinewidth\\\":0},\\\"type\\\":\\\"histogram2d\\\",\\\"colorscale\\\":[[0.0,\\\"#0d0887\\\"],[0.1111111111111111,\\\"#46039f\\\"],[0.2222222222222222,\\\"#7201a8\\\"],[0.3333333333333333,\\\"#9c179e\\\"],[0.4444444444444444,\\\"#bd3786\\\"],[0.5555555555555556,\\\"#d8576b\\\"],[0.6666666666666666,\\\"#ed7953\\\"],[0.7777777777777778,\\\"#fb9f3a\\\"],[0.8888888888888888,\\\"#fdca26\\\"],[1.0,\\\"#f0f921\\\"]]}],\\\"scatterternary\\\":[{\\\"type\\\":\\\"scatterternary\\\",\\\"marker\\\":{\\\"colorbar\\\":{\\\"ticks\\\":\\\"\\\",\\\"outlinewidth\\\":0}}}],\\\"scatterpolargl\\\":[{\\\"type\\\":\\\"scatterpolargl\\\",\\\"marker\\\":{\\\"colorbar\\\":{\\\"ticks\\\":\\\"\\\",\\\"outlinewidth\\\":0}}}]}},\\\"legend\\\":{\\\"title\\\":\\\"Legend Title\\\"},\\\"margin\\\":{\\\"l\\\":50,\\\"b\\\":50,\\\"r\\\":50,\\\"t\\\":60},\\\"title\\\":\\\"Position Measurement\\\",\\\"yaxis\\\":{\\\"title\\\":{\\\"text\\\":\\\"Position (meters)\\\"}}},{\\\"showLink\\\":false,\\\"editable\\\":false,\\\"responsive\\\":true,\\\"staticPlot\\\":false,\\\"scrollZoom\\\":true}); gd.on(\\\"plotly_hover\\\",(function (data){var filtered_data=WebIO.PlotlyCommands.filterEventData(gd,data,\\\"hover\\\"); return !(filtered_data.isnil) ? (WebIO.setval({\\\"name\\\":\\\"hover\\\",\\\"scope\\\":\\\"13134790735150072907\\\",\\\"id\\\":\\\"6401500028295118874\\\",\\\"type\\\":\\\"observable\\\"},filtered_data.out)) : undefined})); gd.on(\\\"plotly_unhover\\\",(function (){return WebIO.setval({\\\"name\\\":\\\"hover\\\",\\\"scope\\\":\\\"13134790735150072907\\\",\\\"id\\\":\\\"6401500028295118874\\\",\\\"type\\\":\\\"observable\\\"},{})})); gd.on(\\\"plotly_selected\\\",(function (data){var filtered_data=WebIO.PlotlyCommands.filterEventData(gd,data,\\\"selected\\\"); return !(filtered_data.isnil) ? (WebIO.setval({\\\"name\\\":\\\"selected\\\",\\\"scope\\\":\\\"13134790735150072907\\\",\\\"id\\\":\\\"12507465483922470951\\\",\\\"type\\\":\\\"observable\\\"},filtered_data.out)) : undefined})); gd.on(\\\"plotly_deselect\\\",(function (){return WebIO.setval({\\\"name\\\":\\\"selected\\\",\\\"scope\\\":\\\"13134790735150072907\\\",\\\"id\\\":\\\"12507465483922470951\\\",\\\"type\\\":\\\"observable\\\"},{})})); gd.on(\\\"plotly_relayout\\\",(function (data){var filtered_data=WebIO.PlotlyCommands.filterEventData(gd,data,\\\"relayout\\\"); return !(filtered_data.isnil) ? (WebIO.setval({\\\"name\\\":\\\"relayout\\\",\\\"scope\\\":\\\"13134790735150072907\\\",\\\"id\\\":\\\"5629134098443203529\\\",\\\"type\\\":\\\"observable\\\"},filtered_data.out)) : undefined})); return gd.on(\\\"plotly_click\\\",(function (data){var filtered_data=WebIO.PlotlyCommands.filterEventData(gd,data,\\\"click\\\"); return !(filtered_data.isnil) ? (WebIO.setval({\\\"name\\\":\\\"click\\\",\\\"scope\\\":\\\"13134790735150072907\\\",\\\"id\\\":\\\"6678667457879626292\\\",\\\"type\\\":\\\"observable\\\"},filtered_data.out)) : undefined}))}));\\n    (WebIO.importBlock({\\\"data\\\":[{\\\"name\\\":\\\"Plotly\\\",\\\"type\\\":\\\"js\\\",\\\"url\\\":\\\"\\/assetserver\\/627f17ff06762af3874159c00b9b1e00e50688bc-plotly.min.js\\\"},{\\\"name\\\":null,\\\"type\\\":\\\"js\\\",\\\"url\\\":\\\"\\/assetserver\\/1a276a0acb11ad47020d3f379225d41bbd0aeef0-plotly_webio.bundle.js\\\"}],\\\"type\\\":\\\"async_block\\\"})).then((imports) => handler.apply(this, imports));\\n}\\n\"],\"observables\":{\"_toImage\":{\"sync\":false,\"id\":\"17785159952263068950\",\"value\":{}},\"hover\":{\"sync\":false,\"id\":\"6401500028295118874\",\"value\":{}},\"selected\":{\"sync\":false,\"id\":\"12507465483922470951\",\"value\":{}},\"__gd_contents\":{\"sync\":false,\"id\":\"15265962875931983253\",\"value\":{}},\"click\":{\"sync\":false,\"id\":\"6678667457879626292\",\"value\":{}},\"image\":{\"sync\":true,\"id\":\"10919542604141268943\",\"value\":\"\"},\"__get_gd_contents\":{\"sync\":false,\"id\":\"3301395179514325336\",\"value\":\"\"},\"_downloadImage\":{\"sync\":false,\"id\":\"15880170204152790260\",\"value\":{}},\"relayout\":{\"sync\":false,\"id\":\"5629134098443203529\",\"value\":{}},\"_commands\":{\"sync\":false,\"id\":\"11901111808348733622\",\"value\":[]}}},\"children\":[{\"props\":{\"id\":\"plot-e58619e0-69d9-454f-8d68-cf00ef981a12\"},\"nodeType\":\"DOM\",\"type\":\"node\",\"instanceArgs\":{\"namespace\":\"html\",\"tag\":\"div\"},\"children\":[]}]},\n",
       "        window,\n",
       "    );\n",
       "    })()\n",
       "    </script>\n",
       "</div>\n"
      ],
      "text/plain": [
       "data: [\n",
       "  \"scatter with fields mode, name, type, x, and y\",\n",
       "  \"scatter with fields error_y, mode, name, type, x, and y\"\n",
       "]\n",
       "\n",
       "layout: \"layout with fields legend, margin, template, title, xaxis, and yaxis\"\n",
       "\n"
      ]
     },
     "execution_count": 13,
     "metadata": {},
     "output_type": "execute_result"
    }
   ],
   "source": [
    "plot(\n",
    "    [\n",
    "        # True position\n",
    "        scatter(\n",
    "            mode=\"markers\",\n",
    "            x=time_axis_sec,\n",
    "            y=true_state_fcn_time[1, :],\n",
    "            name=\"True Position\"\n",
    "        ),\n",
    "        # Estimated position\n",
    "        scatter(\n",
    "            mode=\"markers\",\n",
    "            x=time_axis_sec,\n",
    "            y=[s.state[1] for s in states_fcn_time],\n",
    "            error_y=attr(\n",
    "                type=\"data\",\n",
    "                array=[sqrt(s.cov[1, 1]) for s in states_fcn_time]\n",
    "            ),\n",
    "            name=\"Estimated Position\"\n",
    "        )\n",
    "    ],\n",
    "    Layout(\n",
    "        title=\"Position Measurement\",\n",
    "        xaxis_title=\"Time (second)\",\n",
    "        yaxis_title=\"Position (meters)\",\n",
    "        legend_title=\"Legend Title\",\n",
    "    ),\n",
    "    config=PlotConfig(scrollZoom=true)\n",
    ")"
   ]
  },
  {
   "cell_type": "markdown",
   "id": "3fba3979",
   "metadata": {},
   "source": [
    "Plot the true and estimated velocity"
   ]
  },
  {
   "cell_type": "code",
   "execution_count": 15,
   "id": "513f48b3",
   "metadata": {},
   "outputs": [
    {
     "data": {
      "application/vnd.plotly.v1+json": {
       "config": {
        "editable": false,
        "responsive": true,
        "scrollZoom": true,
        "showLink": false,
        "staticPlot": false
       },
       "data": [
        {
         "mode": "markers",
         "name": "True Velocity",
         "type": "scatter",
         "x": [
          0,
          0.02,
          0.04,
          0.06,
          0.08,
          0.1,
          0.12,
          0.14,
          0.16,
          0.18,
          0.2,
          0.22,
          0.24,
          0.26,
          0.28,
          0.3,
          0.32,
          0.34,
          0.36,
          0.38,
          0.4,
          0.42,
          0.44,
          0.46,
          0.48,
          0.5,
          0.52,
          0.54,
          0.56,
          0.58,
          0.6,
          0.62,
          0.64,
          0.66,
          0.68,
          0.7000000000000001,
          0.72,
          0.74,
          0.76,
          0.78,
          0.8,
          0.8200000000000001,
          0.84,
          0.86,
          0.88,
          0.9,
          0.92,
          0.9400000000000001,
          0.96,
          0.98,
          1,
          1.02,
          1.04,
          1.06,
          1.08,
          1.1,
          1.12,
          1.1400000000000001,
          1.16,
          1.18,
          1.2,
          1.22,
          1.24,
          1.26,
          1.28,
          1.3,
          1.32,
          1.34,
          1.36,
          1.3800000000000001,
          1.4000000000000001,
          1.42,
          1.44,
          1.46,
          1.48,
          1.5,
          1.52,
          1.54,
          1.56,
          1.58,
          1.6,
          1.62,
          1.6400000000000001,
          1.6600000000000001,
          1.68,
          1.7,
          1.72,
          1.74,
          1.76,
          1.78,
          1.8,
          1.82,
          1.84,
          1.86,
          1.8800000000000001,
          1.9000000000000001,
          1.92,
          1.94,
          1.96,
          1.98,
          2,
          2.02,
          2.04,
          2.06,
          2.08,
          2.1,
          2.12,
          2.14,
          2.16,
          2.18,
          2.2,
          2.22,
          2.24,
          2.2600000000000002,
          2.2800000000000002,
          2.3000000000000003,
          2.32,
          2.34,
          2.36,
          2.38,
          2.4,
          2.42,
          2.44,
          2.46,
          2.48
         ],
         "y": [
          2.5,
          2.304,
          2.108,
          1.912,
          1.716,
          1.52,
          1.324,
          1.1279999999999997,
          0.9319999999999999,
          0.736,
          0.5399999999999998,
          0.34399999999999986,
          0.14800000000000013,
          -0.04800000000000049,
          -0.24400000000000066,
          -0.43999999999999995,
          -0.6360000000000001,
          -0.8320000000000003,
          -1.028,
          -1.2240000000000002,
          -1.4200000000000004,
          -1.6160000000000005,
          -1.8120000000000003,
          -2.008000000000001,
          -2.2039999999999997,
          -2.4000000000000004,
          -2.596000000000001,
          -2.7920000000000007,
          -2.9880000000000013,
          -3.184,
          -3.38,
          -3.5760000000000005,
          -3.7720000000000002,
          -3.968000000000001,
          -4.164000000000001,
          -4.360000000000001,
          -4.556,
          -4.752000000000001,
          -4.948,
          -5.144000000000001,
          -5.340000000000001,
          -5.536000000000001,
          -5.732000000000001,
          -5.928000000000001,
          -6.1240000000000006,
          -6.32,
          -6.516000000000002,
          -6.7120000000000015,
          -6.9079999999999995,
          -7.104000000000001,
          -7.300000000000001,
          -7.496,
          -7.692000000000002,
          -7.888000000000002,
          -8.084000000000001,
          -8.280000000000001,
          -8.476000000000003,
          -8.672000000000002,
          -8.868,
          -9.064,
          -9.26,
          -9.456000000000001,
          -9.652000000000001,
          -9.848,
          -10.044,
          -10.240000000000002,
          -10.436000000000002,
          -10.632000000000001,
          -10.828000000000001,
          -11.024000000000003,
          -11.220000000000002,
          -11.416,
          -11.612,
          -11.808,
          -12.004000000000001,
          -12.200000000000001,
          -12.396,
          -12.592000000000002,
          -12.788000000000002,
          -12.984000000000002,
          -13.180000000000001,
          -13.376000000000003,
          -13.572000000000003,
          -13.768000000000004,
          -13.964000000000002,
          -14.16,
          -14.356000000000002,
          -14.552,
          -14.748000000000001,
          -14.944000000000003,
          -15.14,
          -15.336000000000002,
          -15.532000000000004,
          -15.728000000000002,
          -15.924000000000003,
          -16.12,
          -16.316,
          -16.512,
          -16.708000000000002,
          -16.904,
          -17.1,
          -17.296000000000003,
          -17.492,
          -17.688000000000002,
          -17.884000000000004,
          -18.080000000000002,
          -18.276000000000003,
          -18.472,
          -18.668000000000003,
          -18.864000000000004,
          -19.060000000000002,
          -19.256000000000004,
          -19.452000000000005,
          -19.648000000000003,
          -19.844000000000005,
          -20.040000000000003,
          -20.236,
          -20.432,
          -20.628,
          -20.824,
          -21.02,
          -21.216,
          -21.412000000000003,
          -21.608,
          -21.804000000000002
         ]
        },
        {
         "error_y": {
          "array": [
           4.47217881208658,
           3.3337659875247594,
           2.774522003340299,
           2.427107111767007,
           2.184770441177529,
           2.0035226711587617,
           1.861482398059988,
           1.7463748897615297,
           1.650710174647911,
           1.5696235784982764,
           1.4997993028413381,
           1.4388885761196313,
           1.385174466244139,
           1.3373685932795714,
           1.2944824848885488,
           1.2557432054896809,
           1.2205363091366255,
           1.1883662381650753,
           1.1588281934313873,
           1.1315877445889513,
           1.1063657827548565,
           1.0829272359572228,
           1.0610724832154774,
           1.0406307358704119,
           1.0214548743295508,
           1.0034173761236846,
           0.9864070723682976,
           0.9703265401859572,
           0.9550899884463048,
           0.9406215298648977,
           0.9268537583984032,
           0.9137265698884233,
           0.901186178021158,
           0.8891842882546065,
           0.8776774003775247,
           0.8666262164837691,
           0.8559951358580912,
           0.8457518219267429,
           0.8358668292854744,
           0.8263132810682468,
           0.8170665887032954,
           0.8081042075248277,
           0.799405422848581,
           0.7909511620385776,
           0.7827238288373483,
           0.7747071568386791,
           0.7668860794785347,
           0.759246614328052,
           0.7517757598095723,
           0.7444614027361124,
           0.7372922353072414,
           0.7302576803886055,
           0.7233478240652068,
           0.716553354595523,
           0.7098655070091349,
           0.7032760126883237,
           0.6967770533570786,
           0.6903612189715114,
           0.6840214690658069,
           0.6777510971591535,
           0.6715436978729415,
           0.6653931364449875,
           0.6592935203595583,
           0.653239172839263,
           0.6472246079680929,
           0.6412445072345089,
           0.6352936972999239,
           0.6293671288115396,
           0.6234598560895216,
           0.6175670175271577,
           0.6116838165490538,
           0.6058055029767069,
           0.599927354652961,
           0.5940446591769212,
           0.58815269559878,
           0.582246715919612,
           0.5763219262343037,
           0.5703734673461857,
           0.5643963946692573,
           0.5583856572177344,
           0.5523360754624297,
           0.5462423178085091,
           0.5400988754185521,
           0.5339000350674794,
           0.5276398496703646,
           0.5213121060686489,
           0.5149102895925404,
           0.5084275448345102,
           0.501856631967068,
           0.4951898778125892,
           0.4884191207176331,
           0.4815356480907119,
           0.4745301252200541,
           0.4673925136821131,
           0.4601119772630835,
           0.4526767728182401,
           0.4450741228515777,
           0.4372900657611891,
           0.42930927859428564,
           0.4211148656906347,
           0.4126881046218405,
           0.4040081381479699,
           0.3950515972031951,
           0.3857921347209904,
           0.37619984269701395,
           0.36624051413137537,
           0.35587469556714524,
           0.3450564518330361,
           0.33373172717338284,
           0.3218361271846846,
           0.30929184740935806,
           0.29600330571062156,
           0.2818507339466515,
           0.2666804170217352,
           0.2502891320869171,
           0.232397891005417,
           0.21260427470575044,
           0.1902870082647822,
           0.16438639295755947,
           0.13277589210391957,
           0.08952988344071303,
           0.04281055445287637,
           0.10922782517663511,
           0.1493136098239532,
           0.18149849085918993
          ],
          "type": "data"
         },
         "mode": "markers",
         "name": "Estimated Velocity",
         "type": "scatter",
         "x": [
          0,
          0.02,
          0.04,
          0.06,
          0.08,
          0.1,
          0.12,
          0.14,
          0.16,
          0.18,
          0.2,
          0.22,
          0.24,
          0.26,
          0.28,
          0.3,
          0.32,
          0.34,
          0.36,
          0.38,
          0.4,
          0.42,
          0.44,
          0.46,
          0.48,
          0.5,
          0.52,
          0.54,
          0.56,
          0.58,
          0.6,
          0.62,
          0.64,
          0.66,
          0.68,
          0.7000000000000001,
          0.72,
          0.74,
          0.76,
          0.78,
          0.8,
          0.8200000000000001,
          0.84,
          0.86,
          0.88,
          0.9,
          0.92,
          0.9400000000000001,
          0.96,
          0.98,
          1,
          1.02,
          1.04,
          1.06,
          1.08,
          1.1,
          1.12,
          1.1400000000000001,
          1.16,
          1.18,
          1.2,
          1.22,
          1.24,
          1.26,
          1.28,
          1.3,
          1.32,
          1.34,
          1.36,
          1.3800000000000001,
          1.4000000000000001,
          1.42,
          1.44,
          1.46,
          1.48,
          1.5,
          1.52,
          1.54,
          1.56,
          1.58,
          1.6,
          1.62,
          1.6400000000000001,
          1.6600000000000001,
          1.68,
          1.7,
          1.72,
          1.74,
          1.76,
          1.78,
          1.8,
          1.82,
          1.84,
          1.86,
          1.8800000000000001,
          1.9000000000000001,
          1.92,
          1.94,
          1.96,
          1.98,
          2,
          2.02,
          2.04,
          2.06,
          2.08,
          2.1,
          2.12,
          2.14,
          2.16,
          2.18,
          2.2,
          2.22,
          2.24,
          2.2600000000000002,
          2.2800000000000002,
          2.3000000000000003,
          2.32,
          2.34,
          2.36,
          2.38,
          2.4,
          2.42,
          2.44,
          2.46,
          2.48
         ],
         "y": [
          1.5770597658879044,
          1.624439528465246,
          1.5745743241251717,
          1.640048301274545,
          1.4674463211008602,
          1.2165650472122385,
          0.9731576940275717,
          0.9622723683148331,
          0.7849539765065994,
          0.6674187742926306,
          0.47947265276701284,
          0.35090449067020124,
          0.2116439328632947,
          0.05327372281289096,
          -0.14117794723841562,
          -0.39146250819818884,
          -0.6148203037973914,
          -0.8183639912239199,
          -0.9452279335532523,
          -1.1771476360929554,
          -1.3572245242940713,
          -1.5809311847759848,
          -1.818020881411613,
          -2.0432145006134848,
          -2.2530032812876604,
          -2.4040553809435123,
          -2.6351093549752322,
          -2.8733932883188755,
          -3.0470560585737623,
          -3.2439779800825566,
          -3.412335774694231,
          -3.6322645352653753,
          -3.847750692365607,
          -4.035234799274757,
          -4.2369166821411,
          -4.424930270084578,
          -4.630606051045611,
          -4.835987703814497,
          -5.008700937881252,
          -5.20088753985029,
          -5.3863921958837775,
          -5.562884126591502,
          -5.760796197058573,
          -5.938886475351629,
          -6.145394472366571,
          -6.341248418293635,
          -6.551300354430831,
          -6.73888184106353,
          -6.9413074915747135,
          -7.12944836160734,
          -7.334200761210065,
          -7.527969277621322,
          -7.708658736209269,
          -7.92716529810697,
          -8.144196300681939,
          -8.328660957155753,
          -8.503567132847934,
          -8.694667482193172,
          -8.896371295319943,
          -9.110826613824914,
          -9.332711560068555,
          -9.502692224566811,
          -9.695261273940094,
          -9.886165999764572,
          -10.064039598099967,
          -10.240405964499567,
          -10.450009689055605,
          -10.65840694659008,
          -10.849025069061272,
          -11.021729789863148,
          -11.22983349664672,
          -11.403965876105534,
          -11.582519818582467,
          -11.782559468542901,
          -11.986909971433187,
          -12.160312965701442,
          -12.344072237903347,
          -12.56831121318961,
          -12.764019151781904,
          -12.95649614285289,
          -13.13138565711354,
          -13.347510965400422,
          -13.55971587500268,
          -13.779548437766458,
          -13.964025491671968,
          -14.152938861167735,
          -14.366056526918252,
          -14.565942198787228,
          -14.77704797260683,
          -14.974335125996081,
          -15.185709543737824,
          -15.366863046985872,
          -15.560820448275322,
          -15.741270855137836,
          -15.927292537038506,
          -16.112718950691477,
          -16.324826402665206,
          -16.50591194108006,
          -16.7092706494648,
          -16.92568286692301,
          -17.123340113834484,
          -17.34058149923271,
          -17.521049019491173,
          -17.708782258528398,
          -17.909192310675067,
          -18.09134852843896,
          -18.29251451824368,
          -18.48065911689592,
          -18.678043758676004,
          -18.867797742542272,
          -19.07030840808205,
          -19.26705632098001,
          -19.455026730491763,
          -19.63823478711164,
          -19.824110293128843,
          -20.018350472512434,
          -20.201427566579078,
          -20.393300447309205,
          -20.583087230977224,
          -20.791234654656378,
          -20.98368548789596,
          -21.17335655493464,
          -21.37264261404111,
          -21.571656642878526,
          -21.751336878601155
         ]
        }
       ],
       "frames": [],
       "layout": {
        "legend": {
         "title": "Legend Title"
        },
        "margin": {
         "b": 50,
         "l": 50,
         "r": 50,
         "t": 60
        },
        "template": {
         "data": {
          "bar": [
           {
            "error_x": {
             "color": "#2a3f5f"
            },
            "error_y": {
             "color": "#2a3f5f"
            },
            "marker": {
             "line": {
              "color": "#E5ECF6",
              "width": 0.5
             }
            },
            "type": "bar"
           }
          ],
          "barpolar": [
           {
            "marker": {
             "line": {
              "color": "#E5ECF6",
              "width": 0.5
             }
            },
            "type": "barpolar"
           }
          ],
          "carpet": [
           {
            "aaxis": {
             "endlinecolor": "#2a3f5f",
             "gridcolor": "white",
             "linecolor": "white",
             "minorgridcolor": "white",
             "startlinecolor": "#2a3f5f"
            },
            "baxis": {
             "endlinecolor": "#2a3f5f",
             "gridcolor": "white",
             "linecolor": "white",
             "minorgridcolor": "white",
             "startlinecolor": "#2a3f5f"
            },
            "type": "carpet"
           }
          ],
          "choropleth": [
           {
            "colorbar": {
             "outlinewidth": 0,
             "ticks": ""
            },
            "type": "choropleth"
           }
          ],
          "contour": [
           {
            "colorbar": {
             "outlinewidth": 0,
             "ticks": ""
            },
            "colorscale": [
             [
              0,
              "#0d0887"
             ],
             [
              0.1111111111111111,
              "#46039f"
             ],
             [
              0.2222222222222222,
              "#7201a8"
             ],
             [
              0.3333333333333333,
              "#9c179e"
             ],
             [
              0.4444444444444444,
              "#bd3786"
             ],
             [
              0.5555555555555556,
              "#d8576b"
             ],
             [
              0.6666666666666666,
              "#ed7953"
             ],
             [
              0.7777777777777778,
              "#fb9f3a"
             ],
             [
              0.8888888888888888,
              "#fdca26"
             ],
             [
              1,
              "#f0f921"
             ]
            ],
            "type": "contour"
           }
          ],
          "contourcarpet": [
           {
            "colorbar": {
             "outlinewidth": 0,
             "ticks": ""
            },
            "type": "contourcarpet"
           }
          ],
          "heatmap": [
           {
            "colorbar": {
             "outlinewidth": 0,
             "ticks": ""
            },
            "colorscale": [
             [
              0,
              "#0d0887"
             ],
             [
              0.1111111111111111,
              "#46039f"
             ],
             [
              0.2222222222222222,
              "#7201a8"
             ],
             [
              0.3333333333333333,
              "#9c179e"
             ],
             [
              0.4444444444444444,
              "#bd3786"
             ],
             [
              0.5555555555555556,
              "#d8576b"
             ],
             [
              0.6666666666666666,
              "#ed7953"
             ],
             [
              0.7777777777777778,
              "#fb9f3a"
             ],
             [
              0.8888888888888888,
              "#fdca26"
             ],
             [
              1,
              "#f0f921"
             ]
            ],
            "type": "heatmap"
           }
          ],
          "heatmapgl": [
           {
            "colorbar": {
             "outlinewidth": 0,
             "ticks": ""
            },
            "colorscale": [
             [
              0,
              "#0d0887"
             ],
             [
              0.1111111111111111,
              "#46039f"
             ],
             [
              0.2222222222222222,
              "#7201a8"
             ],
             [
              0.3333333333333333,
              "#9c179e"
             ],
             [
              0.4444444444444444,
              "#bd3786"
             ],
             [
              0.5555555555555556,
              "#d8576b"
             ],
             [
              0.6666666666666666,
              "#ed7953"
             ],
             [
              0.7777777777777778,
              "#fb9f3a"
             ],
             [
              0.8888888888888888,
              "#fdca26"
             ],
             [
              1,
              "#f0f921"
             ]
            ],
            "type": "heatmapgl"
           }
          ],
          "histogram": [
           {
            "marker": {
             "colorbar": {
              "outlinewidth": 0,
              "ticks": ""
             }
            },
            "type": "histogram"
           }
          ],
          "histogram2d": [
           {
            "colorbar": {
             "outlinewidth": 0,
             "ticks": ""
            },
            "colorscale": [
             [
              0,
              "#0d0887"
             ],
             [
              0.1111111111111111,
              "#46039f"
             ],
             [
              0.2222222222222222,
              "#7201a8"
             ],
             [
              0.3333333333333333,
              "#9c179e"
             ],
             [
              0.4444444444444444,
              "#bd3786"
             ],
             [
              0.5555555555555556,
              "#d8576b"
             ],
             [
              0.6666666666666666,
              "#ed7953"
             ],
             [
              0.7777777777777778,
              "#fb9f3a"
             ],
             [
              0.8888888888888888,
              "#fdca26"
             ],
             [
              1,
              "#f0f921"
             ]
            ],
            "type": "histogram2d"
           }
          ],
          "histogram2dcontour": [
           {
            "colorbar": {
             "outlinewidth": 0,
             "ticks": ""
            },
            "colorscale": [
             [
              0,
              "#0d0887"
             ],
             [
              0.1111111111111111,
              "#46039f"
             ],
             [
              0.2222222222222222,
              "#7201a8"
             ],
             [
              0.3333333333333333,
              "#9c179e"
             ],
             [
              0.4444444444444444,
              "#bd3786"
             ],
             [
              0.5555555555555556,
              "#d8576b"
             ],
             [
              0.6666666666666666,
              "#ed7953"
             ],
             [
              0.7777777777777778,
              "#fb9f3a"
             ],
             [
              0.8888888888888888,
              "#fdca26"
             ],
             [
              1,
              "#f0f921"
             ]
            ],
            "type": "histogram2dcontour"
           }
          ],
          "mesh3d": [
           {
            "colorbar": {
             "outlinewidth": 0,
             "ticks": ""
            },
            "type": "mesh3d"
           }
          ],
          "parcoords": [
           {
            "line": {
             "colorbar": {
              "outlinewidth": 0,
              "ticks": ""
             }
            },
            "type": "parcoords"
           }
          ],
          "pie": [
           {
            "automargin": true,
            "type": "pie"
           }
          ],
          "scatter": [
           {
            "marker": {
             "colorbar": {
              "outlinewidth": 0,
              "ticks": ""
             }
            },
            "type": "scatter"
           }
          ],
          "scatter3d": [
           {
            "line": {
             "colorbar": {
              "outlinewidth": 0,
              "ticks": ""
             }
            },
            "marker": {
             "colorbar": {
              "outlinewidth": 0,
              "ticks": ""
             }
            },
            "type": "scatter3d"
           }
          ],
          "scattercarpet": [
           {
            "marker": {
             "colorbar": {
              "outlinewidth": 0,
              "ticks": ""
             }
            },
            "type": "scattercarpet"
           }
          ],
          "scattergeo": [
           {
            "marker": {
             "colorbar": {
              "outlinewidth": 0,
              "ticks": ""
             }
            },
            "type": "scattergeo"
           }
          ],
          "scattergl": [
           {
            "marker": {
             "colorbar": {
              "outlinewidth": 0,
              "ticks": ""
             }
            },
            "type": "scattergl"
           }
          ],
          "scattermapbox": [
           {
            "marker": {
             "colorbar": {
              "outlinewidth": 0,
              "ticks": ""
             }
            },
            "type": "scattermapbox"
           }
          ],
          "scatterpolar": [
           {
            "marker": {
             "colorbar": {
              "outlinewidth": 0,
              "ticks": ""
             }
            },
            "type": "scatterpolar"
           }
          ],
          "scatterpolargl": [
           {
            "marker": {
             "colorbar": {
              "outlinewidth": 0,
              "ticks": ""
             }
            },
            "type": "scatterpolargl"
           }
          ],
          "scatterternary": [
           {
            "marker": {
             "colorbar": {
              "outlinewidth": 0,
              "ticks": ""
             }
            },
            "type": "scatterternary"
           }
          ],
          "surface": [
           {
            "colorbar": {
             "outlinewidth": 0,
             "ticks": ""
            },
            "colorscale": [
             [
              0,
              "#0d0887"
             ],
             [
              0.1111111111111111,
              "#46039f"
             ],
             [
              0.2222222222222222,
              "#7201a8"
             ],
             [
              0.3333333333333333,
              "#9c179e"
             ],
             [
              0.4444444444444444,
              "#bd3786"
             ],
             [
              0.5555555555555556,
              "#d8576b"
             ],
             [
              0.6666666666666666,
              "#ed7953"
             ],
             [
              0.7777777777777778,
              "#fb9f3a"
             ],
             [
              0.8888888888888888,
              "#fdca26"
             ],
             [
              1,
              "#f0f921"
             ]
            ],
            "type": "surface"
           }
          ],
          "table": [
           {
            "cells": {
             "fill": {
              "color": "#EBF0F8"
             },
             "line": {
              "color": "white"
             }
            },
            "header": {
             "fill": {
              "color": "#C8D4E3"
             },
             "line": {
              "color": "white"
             }
            },
            "type": "table"
           }
          ]
         },
         "layout": {
          "annotationdefaults": {
           "arrowcolor": "#2a3f5f",
           "arrowhead": 0,
           "arrowwidth": 1
          },
          "autotypenumbers": "strict",
          "coloraxis": {
           "colorbar": {
            "outlinewidth": 0,
            "ticks": ""
           }
          },
          "colorscale": {
           "diverging": [
            [
             0,
             "#8e0152"
            ],
            [
             0.1,
             "#c51b7d"
            ],
            [
             0.2,
             "#de77ae"
            ],
            [
             0.3,
             "#f1b6da"
            ],
            [
             0.4,
             "#fde0ef"
            ],
            [
             0.5,
             "#f7f7f7"
            ],
            [
             0.6,
             "#e6f5d0"
            ],
            [
             0.7,
             "#b8e186"
            ],
            [
             0.8,
             "#7fbc41"
            ],
            [
             0.9,
             "#4d9221"
            ],
            [
             1,
             "#276419"
            ]
           ],
           "sequential": [
            [
             0,
             "#0d0887"
            ],
            [
             0.1111111111111111,
             "#46039f"
            ],
            [
             0.2222222222222222,
             "#7201a8"
            ],
            [
             0.3333333333333333,
             "#9c179e"
            ],
            [
             0.4444444444444444,
             "#bd3786"
            ],
            [
             0.5555555555555556,
             "#d8576b"
            ],
            [
             0.6666666666666666,
             "#ed7953"
            ],
            [
             0.7777777777777778,
             "#fb9f3a"
            ],
            [
             0.8888888888888888,
             "#fdca26"
            ],
            [
             1,
             "#f0f921"
            ]
           ],
           "sequentialminus": [
            [
             0,
             "#0d0887"
            ],
            [
             0.1111111111111111,
             "#46039f"
            ],
            [
             0.2222222222222222,
             "#7201a8"
            ],
            [
             0.3333333333333333,
             "#9c179e"
            ],
            [
             0.4444444444444444,
             "#bd3786"
            ],
            [
             0.5555555555555556,
             "#d8576b"
            ],
            [
             0.6666666666666666,
             "#ed7953"
            ],
            [
             0.7777777777777778,
             "#fb9f3a"
            ],
            [
             0.8888888888888888,
             "#fdca26"
            ],
            [
             1,
             "#f0f921"
            ]
           ]
          },
          "colorway": [
           "#636efa",
           "#EF553B",
           "#00cc96",
           "#ab63fa",
           "#FFA15A",
           "#19d3f3",
           "#FF6692",
           "#B6E880",
           "#FF97FF",
           "#FECB52"
          ],
          "font": {
           "color": "#2a3f5f"
          },
          "geo": {
           "bgcolor": "white",
           "lakecolor": "white",
           "landcolor": "#E5ECF6",
           "showlakes": true,
           "showland": true,
           "subunitcolor": "white"
          },
          "hoverlabel": {
           "align": "left"
          },
          "hovermode": "closest",
          "mapbox": {
           "style": "light"
          },
          "paper_bgcolor": "white",
          "plot_bgcolor": "#E5ECF6",
          "polar": {
           "angularaxis": {
            "gridcolor": "white",
            "linecolor": "white",
            "ticks": ""
           },
           "bgcolor": "#E5ECF6",
           "radialaxis": {
            "gridcolor": "white",
            "linecolor": "white",
            "ticks": ""
           }
          },
          "scene": {
           "xaxis": {
            "backgroundcolor": "#E5ECF6",
            "gridcolor": "white",
            "gridwidth": 2,
            "linecolor": "white",
            "showbackground": true,
            "ticks": "",
            "zerolinecolor": "white"
           },
           "yaxis": {
            "backgroundcolor": "#E5ECF6",
            "gridcolor": "white",
            "gridwidth": 2,
            "linecolor": "white",
            "showbackground": true,
            "ticks": "",
            "zerolinecolor": "white"
           },
           "zaxis": {
            "backgroundcolor": "#E5ECF6",
            "gridcolor": "white",
            "gridwidth": 2,
            "linecolor": "white",
            "showbackground": true,
            "ticks": "",
            "zerolinecolor": "white"
           }
          },
          "shapedefaults": {
           "line": {
            "color": "#2a3f5f"
           }
          },
          "ternary": {
           "aaxis": {
            "gridcolor": "white",
            "linecolor": "white",
            "ticks": ""
           },
           "baxis": {
            "gridcolor": "white",
            "linecolor": "white",
            "ticks": ""
           },
           "bgcolor": "#E5ECF6",
           "caxis": {
            "gridcolor": "white",
            "linecolor": "white",
            "ticks": ""
           }
          },
          "title": {
           "x": 0.05
          },
          "xaxis": {
           "automargin": true,
           "gridcolor": "white",
           "linecolor": "white",
           "ticks": "",
           "title": {
            "standoff": 15
           },
           "zerolinecolor": "white",
           "zerolinewidth": 2
          },
          "yaxis": {
           "automargin": true,
           "gridcolor": "white",
           "linecolor": "white",
           "ticks": "",
           "title": {
            "standoff": 15
           },
           "zerolinecolor": "white",
           "zerolinewidth": 2
          }
         }
        },
        "title": "Velocity Measurement",
        "xaxis": {
         "title": {
          "text": "Time (second)"
         }
        },
        "yaxis": {
         "title": {
          "text": "Velocity (meters / second)"
         }
        }
       }
      },
      "text/html": [
       "<div\n",
       "    class=\"webio-mountpoint\"\n",
       "    data-webio-mountpoint=\"10047854687854023007\"\n",
       ">\n",
       "    <script>\n",
       "    (function(){\n",
       "    // Some integrations (namely, IJulia/Jupyter) use an alternate render pathway than\n",
       "    // just putting the html on the page. If WebIO isn't defined, then it's pretty likely\n",
       "    // that we're in one of those situations and the integration just isn't installed\n",
       "    // correctly.\n",
       "    if (typeof window.WebIO === \"undefined\") {\n",
       "        document\n",
       "            .querySelector('[data-webio-mountpoint=\"10047854687854023007\"]')\n",
       "            .innerHTML = (\n",
       "                '<div style=\"padding: 1em; background-color: #f8d6da; border: 1px solid #f5c6cb; font-weight: bold;\">' +\n",
       "                '<p><strong>WebIO not detected.</strong></p>' +\n",
       "                '<p>Please read ' +\n",
       "                '<a href=\"https://juliagizmos.github.io/WebIO.jl/latest/troubleshooting/not-detected/\" target=\"_blank\">the troubleshooting guide</a> ' +\n",
       "                'for more information on how to resolve this issue.</p>' +\n",
       "                '<p><a href=\"https://juliagizmos.github.io/WebIO.jl/latest/troubleshooting/not-detected/\" target=\"_blank\">https://juliagizmos.github.io/WebIO.jl/latest/troubleshooting/not-detected/</a></p>' +\n",
       "                '</div>'\n",
       "            );\n",
       "        return;\n",
       "    }\n",
       "    WebIO.mount(\n",
       "        document.querySelector('[data-webio-mountpoint=\"10047854687854023007\"]'),\n",
       "        {\"props\":{},\"nodeType\":\"Scope\",\"type\":\"node\",\"instanceArgs\":{\"imports\":{\"data\":[{\"name\":\"Plotly\",\"type\":\"js\",\"url\":\"\\/assetserver\\/627f17ff06762af3874159c00b9b1e00e50688bc-plotly.min.js\"},{\"name\":null,\"type\":\"js\",\"url\":\"\\/assetserver\\/1a276a0acb11ad47020d3f379225d41bbd0aeef0-plotly_webio.bundle.js\"}],\"type\":\"async_block\"},\"id\":\"4263350582406146779\",\"handlers\":{\"_toImage\":[\"(function (options){return this.Plotly.toImage(this.plotElem,options).then((function (data){return WebIO.setval({\\\"name\\\":\\\"image\\\",\\\"scope\\\":\\\"4263350582406146779\\\",\\\"id\\\":\\\"10147380779835366186\\\",\\\"type\\\":\\\"observable\\\"},data)}))})\"],\"__get_gd_contents\":[\"(function (prop){prop==\\\"data\\\" ? (WebIO.setval({\\\"name\\\":\\\"__gd_contents\\\",\\\"scope\\\":\\\"4263350582406146779\\\",\\\"id\\\":\\\"2771561985756516429\\\",\\\"type\\\":\\\"observable\\\"},this.plotElem.data)) : undefined; return prop==\\\"layout\\\" ? (WebIO.setval({\\\"name\\\":\\\"__gd_contents\\\",\\\"scope\\\":\\\"4263350582406146779\\\",\\\"id\\\":\\\"2771561985756516429\\\",\\\"type\\\":\\\"observable\\\"},this.plotElem.layout)) : undefined})\"],\"_downloadImage\":[\"(function (options){return this.Plotly.downloadImage(this.plotElem,options)})\"],\"_commands\":[\"(function (args){var fn=args.shift(); var elem=this.plotElem; var Plotly=this.Plotly; args.unshift(elem); return Plotly[fn].apply(this,args)})\"]},\"systemjs_options\":null,\"mount_callbacks\":[\"function () {\\n    var handler = ((function (Plotly,PlotlyWebIO){PlotlyWebIO.init(WebIO); var gd=this.dom.querySelector(\\\"#plot-e0074d31-2132-43dc-8f58-979f30b8dc33\\\"); this.plotElem=gd; this.Plotly=Plotly; (window.Blink!==undefined) ? (gd.style.width=\\\"100%\\\", gd.style.height=\\\"100vh\\\", gd.style.marginLeft=\\\"0%\\\", gd.style.marginTop=\\\"0vh\\\") : undefined; window.onresize=(function (){return Plotly.Plots.resize(gd)}); Plotly.newPlot(gd,[{\\\"mode\\\":\\\"markers\\\",\\\"y\\\":[2.5,2.304,2.108,1.912,1.716,1.52,1.324,1.1279999999999997,0.9319999999999999,0.736,0.5399999999999998,0.34399999999999986,0.14800000000000013,-0.04800000000000049,-0.24400000000000066,-0.43999999999999995,-0.6360000000000001,-0.8320000000000003,-1.028,-1.2240000000000002,-1.4200000000000004,-1.6160000000000005,-1.8120000000000003,-2.008000000000001,-2.2039999999999997,-2.4000000000000004,-2.596000000000001,-2.7920000000000007,-2.9880000000000013,-3.184,-3.38,-3.5760000000000005,-3.7720000000000002,-3.968000000000001,-4.164000000000001,-4.360000000000001,-4.556,-4.752000000000001,-4.948,-5.144000000000001,-5.340000000000001,-5.536000000000001,-5.732000000000001,-5.928000000000001,-6.1240000000000006,-6.32,-6.516000000000002,-6.7120000000000015,-6.9079999999999995,-7.104000000000001,-7.300000000000001,-7.496,-7.692000000000002,-7.888000000000002,-8.084000000000001,-8.280000000000001,-8.476000000000003,-8.672000000000002,-8.868,-9.064,-9.26,-9.456000000000001,-9.652000000000001,-9.848,-10.044,-10.240000000000002,-10.436000000000002,-10.632000000000001,-10.828000000000001,-11.024000000000003,-11.220000000000002,-11.416,-11.612,-11.808,-12.004000000000001,-12.200000000000001,-12.396,-12.592000000000002,-12.788000000000002,-12.984000000000002,-13.180000000000001,-13.376000000000003,-13.572000000000003,-13.768000000000004,-13.964000000000002,-14.16,-14.356000000000002,-14.552,-14.748000000000001,-14.944000000000003,-15.14,-15.336000000000002,-15.532000000000004,-15.728000000000002,-15.924000000000003,-16.12,-16.316,-16.512,-16.708000000000002,-16.904,-17.1,-17.296000000000003,-17.492,-17.688000000000002,-17.884000000000004,-18.080000000000002,-18.276000000000003,-18.472,-18.668000000000003,-18.864000000000004,-19.060000000000002,-19.256000000000004,-19.452000000000005,-19.648000000000003,-19.844000000000005,-20.040000000000003,-20.236,-20.432,-20.628,-20.824,-21.02,-21.216,-21.412000000000003,-21.608,-21.804000000000002],\\\"type\\\":\\\"scatter\\\",\\\"name\\\":\\\"True Velocity\\\",\\\"x\\\":[0.0,0.02,0.04,0.06,0.08,0.1,0.12,0.14,0.16,0.18,0.2,0.22,0.24,0.26,0.28,0.3,0.32,0.34,0.36,0.38,0.4,0.42,0.44,0.46,0.48,0.5,0.52,0.54,0.56,0.58,0.6,0.62,0.64,0.66,0.68,0.7000000000000001,0.72,0.74,0.76,0.78,0.8,0.8200000000000001,0.84,0.86,0.88,0.9,0.92,0.9400000000000001,0.96,0.98,1.0,1.02,1.04,1.06,1.08,1.1,1.12,1.1400000000000001,1.16,1.18,1.2,1.22,1.24,1.26,1.28,1.3,1.32,1.34,1.36,1.3800000000000001,1.4000000000000001,1.42,1.44,1.46,1.48,1.5,1.52,1.54,1.56,1.58,1.6,1.62,1.6400000000000001,1.6600000000000001,1.68,1.7,1.72,1.74,1.76,1.78,1.8,1.82,1.84,1.86,1.8800000000000001,1.9000000000000001,1.92,1.94,1.96,1.98,2.0,2.02,2.04,2.06,2.08,2.1,2.12,2.14,2.16,2.18,2.2,2.22,2.24,2.2600000000000002,2.2800000000000002,2.3000000000000003,2.32,2.34,2.36,2.38,2.4,2.42,2.44,2.46,2.48]},{\\\"mode\\\":\\\"markers\\\",\\\"y\\\":[1.5770597658879044,1.624439528465246,1.5745743241251717,1.640048301274545,1.4674463211008602,1.2165650472122385,0.9731576940275717,0.9622723683148331,0.7849539765065994,0.6674187742926306,0.47947265276701284,0.35090449067020124,0.2116439328632947,0.05327372281289096,-0.14117794723841562,-0.39146250819818884,-0.6148203037973914,-0.8183639912239199,-0.9452279335532523,-1.1771476360929554,-1.3572245242940713,-1.5809311847759848,-1.818020881411613,-2.0432145006134848,-2.2530032812876604,-2.4040553809435123,-2.6351093549752322,-2.8733932883188755,-3.0470560585737623,-3.2439779800825566,-3.412335774694231,-3.6322645352653753,-3.847750692365607,-4.035234799274757,-4.2369166821411,-4.424930270084578,-4.630606051045611,-4.835987703814497,-5.008700937881252,-5.20088753985029,-5.3863921958837775,-5.562884126591502,-5.760796197058573,-5.938886475351629,-6.145394472366571,-6.341248418293635,-6.551300354430831,-6.73888184106353,-6.9413074915747135,-7.12944836160734,-7.334200761210065,-7.527969277621322,-7.708658736209269,-7.92716529810697,-8.144196300681939,-8.328660957155753,-8.503567132847934,-8.694667482193172,-8.896371295319943,-9.110826613824914,-9.332711560068555,-9.502692224566811,-9.695261273940094,-9.886165999764572,-10.064039598099967,-10.240405964499567,-10.450009689055605,-10.65840694659008,-10.849025069061272,-11.021729789863148,-11.22983349664672,-11.403965876105534,-11.582519818582467,-11.782559468542901,-11.986909971433187,-12.160312965701442,-12.344072237903347,-12.56831121318961,-12.764019151781904,-12.95649614285289,-13.13138565711354,-13.347510965400422,-13.55971587500268,-13.779548437766458,-13.964025491671968,-14.152938861167735,-14.366056526918252,-14.565942198787228,-14.77704797260683,-14.974335125996081,-15.185709543737824,-15.366863046985872,-15.560820448275322,-15.741270855137836,-15.927292537038506,-16.112718950691477,-16.324826402665206,-16.50591194108006,-16.7092706494648,-16.92568286692301,-17.123340113834484,-17.34058149923271,-17.521049019491173,-17.708782258528398,-17.909192310675067,-18.09134852843896,-18.29251451824368,-18.48065911689592,-18.678043758676004,-18.867797742542272,-19.07030840808205,-19.26705632098001,-19.455026730491763,-19.63823478711164,-19.824110293128843,-20.018350472512434,-20.201427566579078,-20.393300447309205,-20.583087230977224,-20.791234654656378,-20.98368548789596,-21.17335655493464,-21.37264261404111,-21.571656642878526,-21.751336878601155],\\\"type\\\":\\\"scatter\\\",\\\"name\\\":\\\"Estimated Velocity\\\",\\\"error_y\\\":{\\\"type\\\":\\\"data\\\",\\\"array\\\":[4.47217881208658,3.3337659875247594,2.774522003340299,2.427107111767007,2.184770441177529,2.0035226711587617,1.861482398059988,1.7463748897615297,1.650710174647911,1.5696235784982764,1.4997993028413381,1.4388885761196313,1.385174466244139,1.3373685932795714,1.2944824848885488,1.2557432054896809,1.2205363091366255,1.1883662381650753,1.1588281934313873,1.1315877445889513,1.1063657827548565,1.0829272359572228,1.0610724832154774,1.0406307358704119,1.0214548743295508,1.0034173761236846,0.9864070723682976,0.9703265401859572,0.9550899884463048,0.9406215298648977,0.9268537583984032,0.9137265698884233,0.901186178021158,0.8891842882546065,0.8776774003775247,0.8666262164837691,0.8559951358580912,0.8457518219267429,0.8358668292854744,0.8263132810682468,0.8170665887032954,0.8081042075248277,0.799405422848581,0.7909511620385776,0.7827238288373483,0.7747071568386791,0.7668860794785347,0.759246614328052,0.7517757598095723,0.7444614027361124,0.7372922353072414,0.7302576803886055,0.7233478240652068,0.716553354595523,0.7098655070091349,0.7032760126883237,0.6967770533570786,0.6903612189715114,0.6840214690658069,0.6777510971591535,0.6715436978729415,0.6653931364449875,0.6592935203595583,0.653239172839263,0.6472246079680929,0.6412445072345089,0.6352936972999239,0.6293671288115396,0.6234598560895216,0.6175670175271577,0.6116838165490538,0.6058055029767069,0.599927354652961,0.5940446591769212,0.58815269559878,0.582246715919612,0.5763219262343037,0.5703734673461857,0.5643963946692573,0.5583856572177344,0.5523360754624297,0.5462423178085091,0.5400988754185521,0.5339000350674794,0.5276398496703646,0.5213121060686489,0.5149102895925404,0.5084275448345102,0.501856631967068,0.4951898778125892,0.4884191207176331,0.4815356480907119,0.4745301252200541,0.4673925136821131,0.4601119772630835,0.4526767728182401,0.4450741228515777,0.4372900657611891,0.42930927859428564,0.4211148656906347,0.4126881046218405,0.4040081381479699,0.3950515972031951,0.3857921347209904,0.37619984269701395,0.36624051413137537,0.35587469556714524,0.3450564518330361,0.33373172717338284,0.3218361271846846,0.30929184740935806,0.29600330571062156,0.2818507339466515,0.2666804170217352,0.2502891320869171,0.232397891005417,0.21260427470575044,0.1902870082647822,0.16438639295755947,0.13277589210391957,0.08952988344071303,0.04281055445287637,0.10922782517663511,0.1493136098239532,0.18149849085918993]},\\\"x\\\":[0.0,0.02,0.04,0.06,0.08,0.1,0.12,0.14,0.16,0.18,0.2,0.22,0.24,0.26,0.28,0.3,0.32,0.34,0.36,0.38,0.4,0.42,0.44,0.46,0.48,0.5,0.52,0.54,0.56,0.58,0.6,0.62,0.64,0.66,0.68,0.7000000000000001,0.72,0.74,0.76,0.78,0.8,0.8200000000000001,0.84,0.86,0.88,0.9,0.92,0.9400000000000001,0.96,0.98,1.0,1.02,1.04,1.06,1.08,1.1,1.12,1.1400000000000001,1.16,1.18,1.2,1.22,1.24,1.26,1.28,1.3,1.32,1.34,1.36,1.3800000000000001,1.4000000000000001,1.42,1.44,1.46,1.48,1.5,1.52,1.54,1.56,1.58,1.6,1.62,1.6400000000000001,1.6600000000000001,1.68,1.7,1.72,1.74,1.76,1.78,1.8,1.82,1.84,1.86,1.8800000000000001,1.9000000000000001,1.92,1.94,1.96,1.98,2.0,2.02,2.04,2.06,2.08,2.1,2.12,2.14,2.16,2.18,2.2,2.22,2.24,2.2600000000000002,2.2800000000000002,2.3000000000000003,2.32,2.34,2.36,2.38,2.4,2.42,2.44,2.46,2.48]}],{\\\"xaxis\\\":{\\\"title\\\":{\\\"text\\\":\\\"Time (second)\\\"}},\\\"template\\\":{\\\"layout\\\":{\\\"coloraxis\\\":{\\\"colorbar\\\":{\\\"ticks\\\":\\\"\\\",\\\"outlinewidth\\\":0}},\\\"xaxis\\\":{\\\"gridcolor\\\":\\\"white\\\",\\\"zerolinewidth\\\":2,\\\"title\\\":{\\\"standoff\\\":15},\\\"ticks\\\":\\\"\\\",\\\"zerolinecolor\\\":\\\"white\\\",\\\"automargin\\\":true,\\\"linecolor\\\":\\\"white\\\"},\\\"hovermode\\\":\\\"closest\\\",\\\"paper_bgcolor\\\":\\\"white\\\",\\\"geo\\\":{\\\"showlakes\\\":true,\\\"showland\\\":true,\\\"landcolor\\\":\\\"#E5ECF6\\\",\\\"bgcolor\\\":\\\"white\\\",\\\"subunitcolor\\\":\\\"white\\\",\\\"lakecolor\\\":\\\"white\\\"},\\\"colorscale\\\":{\\\"sequential\\\":[[0.0,\\\"#0d0887\\\"],[0.1111111111111111,\\\"#46039f\\\"],[0.2222222222222222,\\\"#7201a8\\\"],[0.3333333333333333,\\\"#9c179e\\\"],[0.4444444444444444,\\\"#bd3786\\\"],[0.5555555555555556,\\\"#d8576b\\\"],[0.6666666666666666,\\\"#ed7953\\\"],[0.7777777777777778,\\\"#fb9f3a\\\"],[0.8888888888888888,\\\"#fdca26\\\"],[1.0,\\\"#f0f921\\\"]],\\\"diverging\\\":[[0,\\\"#8e0152\\\"],[0.1,\\\"#c51b7d\\\"],[0.2,\\\"#de77ae\\\"],[0.3,\\\"#f1b6da\\\"],[0.4,\\\"#fde0ef\\\"],[0.5,\\\"#f7f7f7\\\"],[0.6,\\\"#e6f5d0\\\"],[0.7,\\\"#b8e186\\\"],[0.8,\\\"#7fbc41\\\"],[0.9,\\\"#4d9221\\\"],[1,\\\"#276419\\\"]],\\\"sequentialminus\\\":[[0.0,\\\"#0d0887\\\"],[0.1111111111111111,\\\"#46039f\\\"],[0.2222222222222222,\\\"#7201a8\\\"],[0.3333333333333333,\\\"#9c179e\\\"],[0.4444444444444444,\\\"#bd3786\\\"],[0.5555555555555556,\\\"#d8576b\\\"],[0.6666666666666666,\\\"#ed7953\\\"],[0.7777777777777778,\\\"#fb9f3a\\\"],[0.8888888888888888,\\\"#fdca26\\\"],[1.0,\\\"#f0f921\\\"]]},\\\"yaxis\\\":{\\\"gridcolor\\\":\\\"white\\\",\\\"zerolinewidth\\\":2,\\\"title\\\":{\\\"standoff\\\":15},\\\"ticks\\\":\\\"\\\",\\\"zerolinecolor\\\":\\\"white\\\",\\\"automargin\\\":true,\\\"linecolor\\\":\\\"white\\\"},\\\"shapedefaults\\\":{\\\"line\\\":{\\\"color\\\":\\\"#2a3f5f\\\"}},\\\"hoverlabel\\\":{\\\"align\\\":\\\"left\\\"},\\\"mapbox\\\":{\\\"style\\\":\\\"light\\\"},\\\"polar\\\":{\\\"angularaxis\\\":{\\\"gridcolor\\\":\\\"white\\\",\\\"ticks\\\":\\\"\\\",\\\"linecolor\\\":\\\"white\\\"},\\\"bgcolor\\\":\\\"#E5ECF6\\\",\\\"radialaxis\\\":{\\\"gridcolor\\\":\\\"white\\\",\\\"ticks\\\":\\\"\\\",\\\"linecolor\\\":\\\"white\\\"}},\\\"autotypenumbers\\\":\\\"strict\\\",\\\"font\\\":{\\\"color\\\":\\\"#2a3f5f\\\"},\\\"ternary\\\":{\\\"baxis\\\":{\\\"gridcolor\\\":\\\"white\\\",\\\"ticks\\\":\\\"\\\",\\\"linecolor\\\":\\\"white\\\"},\\\"bgcolor\\\":\\\"#E5ECF6\\\",\\\"caxis\\\":{\\\"gridcolor\\\":\\\"white\\\",\\\"ticks\\\":\\\"\\\",\\\"linecolor\\\":\\\"white\\\"},\\\"aaxis\\\":{\\\"gridcolor\\\":\\\"white\\\",\\\"ticks\\\":\\\"\\\",\\\"linecolor\\\":\\\"white\\\"}},\\\"annotationdefaults\\\":{\\\"arrowhead\\\":0,\\\"arrowwidth\\\":1,\\\"arrowcolor\\\":\\\"#2a3f5f\\\"},\\\"plot_bgcolor\\\":\\\"#E5ECF6\\\",\\\"title\\\":{\\\"x\\\":0.05},\\\"scene\\\":{\\\"xaxis\\\":{\\\"gridcolor\\\":\\\"white\\\",\\\"gridwidth\\\":2,\\\"backgroundcolor\\\":\\\"#E5ECF6\\\",\\\"ticks\\\":\\\"\\\",\\\"showbackground\\\":true,\\\"zerolinecolor\\\":\\\"white\\\",\\\"linecolor\\\":\\\"white\\\"},\\\"zaxis\\\":{\\\"gridcolor\\\":\\\"white\\\",\\\"gridwidth\\\":2,\\\"backgroundcolor\\\":\\\"#E5ECF6\\\",\\\"ticks\\\":\\\"\\\",\\\"showbackground\\\":true,\\\"zerolinecolor\\\":\\\"white\\\",\\\"linecolor\\\":\\\"white\\\"},\\\"yaxis\\\":{\\\"gridcolor\\\":\\\"white\\\",\\\"gridwidth\\\":2,\\\"backgroundcolor\\\":\\\"#E5ECF6\\\",\\\"ticks\\\":\\\"\\\",\\\"showbackground\\\":true,\\\"zerolinecolor\\\":\\\"white\\\",\\\"linecolor\\\":\\\"white\\\"}},\\\"colorway\\\":[\\\"#636efa\\\",\\\"#EF553B\\\",\\\"#00cc96\\\",\\\"#ab63fa\\\",\\\"#FFA15A\\\",\\\"#19d3f3\\\",\\\"#FF6692\\\",\\\"#B6E880\\\",\\\"#FF97FF\\\",\\\"#FECB52\\\"]},\\\"data\\\":{\\\"barpolar\\\":[{\\\"type\\\":\\\"barpolar\\\",\\\"marker\\\":{\\\"line\\\":{\\\"color\\\":\\\"#E5ECF6\\\",\\\"width\\\":0.5}}}],\\\"carpet\\\":[{\\\"aaxis\\\":{\\\"gridcolor\\\":\\\"white\\\",\\\"endlinecolor\\\":\\\"#2a3f5f\\\",\\\"minorgridcolor\\\":\\\"white\\\",\\\"startlinecolor\\\":\\\"#2a3f5f\\\",\\\"linecolor\\\":\\\"white\\\"},\\\"type\\\":\\\"carpet\\\",\\\"baxis\\\":{\\\"gridcolor\\\":\\\"white\\\",\\\"endlinecolor\\\":\\\"#2a3f5f\\\",\\\"minorgridcolor\\\":\\\"white\\\",\\\"startlinecolor\\\":\\\"#2a3f5f\\\",\\\"linecolor\\\":\\\"white\\\"}}],\\\"scatterpolar\\\":[{\\\"type\\\":\\\"scatterpolar\\\",\\\"marker\\\":{\\\"colorbar\\\":{\\\"ticks\\\":\\\"\\\",\\\"outlinewidth\\\":0}}}],\\\"parcoords\\\":[{\\\"line\\\":{\\\"colorbar\\\":{\\\"ticks\\\":\\\"\\\",\\\"outlinewidth\\\":0}},\\\"type\\\":\\\"parcoords\\\"}],\\\"scatter\\\":[{\\\"type\\\":\\\"scatter\\\",\\\"marker\\\":{\\\"colorbar\\\":{\\\"ticks\\\":\\\"\\\",\\\"outlinewidth\\\":0}}}],\\\"histogram2dcontour\\\":[{\\\"colorbar\\\":{\\\"ticks\\\":\\\"\\\",\\\"outlinewidth\\\":0},\\\"type\\\":\\\"histogram2dcontour\\\",\\\"colorscale\\\":[[0.0,\\\"#0d0887\\\"],[0.1111111111111111,\\\"#46039f\\\"],[0.2222222222222222,\\\"#7201a8\\\"],[0.3333333333333333,\\\"#9c179e\\\"],[0.4444444444444444,\\\"#bd3786\\\"],[0.5555555555555556,\\\"#d8576b\\\"],[0.6666666666666666,\\\"#ed7953\\\"],[0.7777777777777778,\\\"#fb9f3a\\\"],[0.8888888888888888,\\\"#fdca26\\\"],[1.0,\\\"#f0f921\\\"]]}],\\\"contour\\\":[{\\\"colorbar\\\":{\\\"ticks\\\":\\\"\\\",\\\"outlinewidth\\\":0},\\\"type\\\":\\\"contour\\\",\\\"colorscale\\\":[[0.0,\\\"#0d0887\\\"],[0.1111111111111111,\\\"#46039f\\\"],[0.2222222222222222,\\\"#7201a8\\\"],[0.3333333333333333,\\\"#9c179e\\\"],[0.4444444444444444,\\\"#bd3786\\\"],[0.5555555555555556,\\\"#d8576b\\\"],[0.6666666666666666,\\\"#ed7953\\\"],[0.7777777777777778,\\\"#fb9f3a\\\"],[0.8888888888888888,\\\"#fdca26\\\"],[1.0,\\\"#f0f921\\\"]]}],\\\"scattercarpet\\\":[{\\\"type\\\":\\\"scattercarpet\\\",\\\"marker\\\":{\\\"colorbar\\\":{\\\"ticks\\\":\\\"\\\",\\\"outlinewidth\\\":0}}}],\\\"mesh3d\\\":[{\\\"colorbar\\\":{\\\"ticks\\\":\\\"\\\",\\\"outlinewidth\\\":0},\\\"type\\\":\\\"mesh3d\\\"}],\\\"surface\\\":[{\\\"colorbar\\\":{\\\"ticks\\\":\\\"\\\",\\\"outlinewidth\\\":0},\\\"type\\\":\\\"surface\\\",\\\"colorscale\\\":[[0.0,\\\"#0d0887\\\"],[0.1111111111111111,\\\"#46039f\\\"],[0.2222222222222222,\\\"#7201a8\\\"],[0.3333333333333333,\\\"#9c179e\\\"],[0.4444444444444444,\\\"#bd3786\\\"],[0.5555555555555556,\\\"#d8576b\\\"],[0.6666666666666666,\\\"#ed7953\\\"],[0.7777777777777778,\\\"#fb9f3a\\\"],[0.8888888888888888,\\\"#fdca26\\\"],[1.0,\\\"#f0f921\\\"]]}],\\\"scattermapbox\\\":[{\\\"type\\\":\\\"scattermapbox\\\",\\\"marker\\\":{\\\"colorbar\\\":{\\\"ticks\\\":\\\"\\\",\\\"outlinewidth\\\":0}}}],\\\"scattergeo\\\":[{\\\"type\\\":\\\"scattergeo\\\",\\\"marker\\\":{\\\"colorbar\\\":{\\\"ticks\\\":\\\"\\\",\\\"outlinewidth\\\":0}}}],\\\"histogram\\\":[{\\\"type\\\":\\\"histogram\\\",\\\"marker\\\":{\\\"colorbar\\\":{\\\"ticks\\\":\\\"\\\",\\\"outlinewidth\\\":0}}}],\\\"pie\\\":[{\\\"type\\\":\\\"pie\\\",\\\"automargin\\\":true}],\\\"choropleth\\\":[{\\\"colorbar\\\":{\\\"ticks\\\":\\\"\\\",\\\"outlinewidth\\\":0},\\\"type\\\":\\\"choropleth\\\"}],\\\"heatmapgl\\\":[{\\\"colorbar\\\":{\\\"ticks\\\":\\\"\\\",\\\"outlinewidth\\\":0},\\\"type\\\":\\\"heatmapgl\\\",\\\"colorscale\\\":[[0.0,\\\"#0d0887\\\"],[0.1111111111111111,\\\"#46039f\\\"],[0.2222222222222222,\\\"#7201a8\\\"],[0.3333333333333333,\\\"#9c179e\\\"],[0.4444444444444444,\\\"#bd3786\\\"],[0.5555555555555556,\\\"#d8576b\\\"],[0.6666666666666666,\\\"#ed7953\\\"],[0.7777777777777778,\\\"#fb9f3a\\\"],[0.8888888888888888,\\\"#fdca26\\\"],[1.0,\\\"#f0f921\\\"]]}],\\\"bar\\\":[{\\\"type\\\":\\\"bar\\\",\\\"error_y\\\":{\\\"color\\\":\\\"#2a3f5f\\\"},\\\"error_x\\\":{\\\"color\\\":\\\"#2a3f5f\\\"},\\\"marker\\\":{\\\"line\\\":{\\\"color\\\":\\\"#E5ECF6\\\",\\\"width\\\":0.5}}}],\\\"heatmap\\\":[{\\\"colorbar\\\":{\\\"ticks\\\":\\\"\\\",\\\"outlinewidth\\\":0},\\\"type\\\":\\\"heatmap\\\",\\\"colorscale\\\":[[0.0,\\\"#0d0887\\\"],[0.1111111111111111,\\\"#46039f\\\"],[0.2222222222222222,\\\"#7201a8\\\"],[0.3333333333333333,\\\"#9c179e\\\"],[0.4444444444444444,\\\"#bd3786\\\"],[0.5555555555555556,\\\"#d8576b\\\"],[0.6666666666666666,\\\"#ed7953\\\"],[0.7777777777777778,\\\"#fb9f3a\\\"],[0.8888888888888888,\\\"#fdca26\\\"],[1.0,\\\"#f0f921\\\"]]}],\\\"contourcarpet\\\":[{\\\"colorbar\\\":{\\\"ticks\\\":\\\"\\\",\\\"outlinewidth\\\":0},\\\"type\\\":\\\"contourcarpet\\\"}],\\\"table\\\":[{\\\"type\\\":\\\"table\\\",\\\"header\\\":{\\\"line\\\":{\\\"color\\\":\\\"white\\\"},\\\"fill\\\":{\\\"color\\\":\\\"#C8D4E3\\\"}},\\\"cells\\\":{\\\"line\\\":{\\\"color\\\":\\\"white\\\"},\\\"fill\\\":{\\\"color\\\":\\\"#EBF0F8\\\"}}}],\\\"scatter3d\\\":[{\\\"line\\\":{\\\"colorbar\\\":{\\\"ticks\\\":\\\"\\\",\\\"outlinewidth\\\":0}},\\\"type\\\":\\\"scatter3d\\\",\\\"marker\\\":{\\\"colorbar\\\":{\\\"ticks\\\":\\\"\\\",\\\"outlinewidth\\\":0}}}],\\\"scattergl\\\":[{\\\"type\\\":\\\"scattergl\\\",\\\"marker\\\":{\\\"colorbar\\\":{\\\"ticks\\\":\\\"\\\",\\\"outlinewidth\\\":0}}}],\\\"histogram2d\\\":[{\\\"colorbar\\\":{\\\"ticks\\\":\\\"\\\",\\\"outlinewidth\\\":0},\\\"type\\\":\\\"histogram2d\\\",\\\"colorscale\\\":[[0.0,\\\"#0d0887\\\"],[0.1111111111111111,\\\"#46039f\\\"],[0.2222222222222222,\\\"#7201a8\\\"],[0.3333333333333333,\\\"#9c179e\\\"],[0.4444444444444444,\\\"#bd3786\\\"],[0.5555555555555556,\\\"#d8576b\\\"],[0.6666666666666666,\\\"#ed7953\\\"],[0.7777777777777778,\\\"#fb9f3a\\\"],[0.8888888888888888,\\\"#fdca26\\\"],[1.0,\\\"#f0f921\\\"]]}],\\\"scatterternary\\\":[{\\\"type\\\":\\\"scatterternary\\\",\\\"marker\\\":{\\\"colorbar\\\":{\\\"ticks\\\":\\\"\\\",\\\"outlinewidth\\\":0}}}],\\\"scatterpolargl\\\":[{\\\"type\\\":\\\"scatterpolargl\\\",\\\"marker\\\":{\\\"colorbar\\\":{\\\"ticks\\\":\\\"\\\",\\\"outlinewidth\\\":0}}}]}},\\\"legend\\\":{\\\"title\\\":\\\"Legend Title\\\"},\\\"margin\\\":{\\\"l\\\":50,\\\"b\\\":50,\\\"r\\\":50,\\\"t\\\":60},\\\"title\\\":\\\"Velocity Measurement\\\",\\\"yaxis\\\":{\\\"title\\\":{\\\"text\\\":\\\"Velocity (meters \\/ second)\\\"}}},{\\\"showLink\\\":false,\\\"editable\\\":false,\\\"responsive\\\":true,\\\"staticPlot\\\":false,\\\"scrollZoom\\\":true}); gd.on(\\\"plotly_hover\\\",(function (data){var filtered_data=WebIO.PlotlyCommands.filterEventData(gd,data,\\\"hover\\\"); return !(filtered_data.isnil) ? (WebIO.setval({\\\"name\\\":\\\"hover\\\",\\\"scope\\\":\\\"4263350582406146779\\\",\\\"id\\\":\\\"12197440809441498182\\\",\\\"type\\\":\\\"observable\\\"},filtered_data.out)) : undefined})); gd.on(\\\"plotly_unhover\\\",(function (){return WebIO.setval({\\\"name\\\":\\\"hover\\\",\\\"scope\\\":\\\"4263350582406146779\\\",\\\"id\\\":\\\"12197440809441498182\\\",\\\"type\\\":\\\"observable\\\"},{})})); gd.on(\\\"plotly_selected\\\",(function (data){var filtered_data=WebIO.PlotlyCommands.filterEventData(gd,data,\\\"selected\\\"); return !(filtered_data.isnil) ? (WebIO.setval({\\\"name\\\":\\\"selected\\\",\\\"scope\\\":\\\"4263350582406146779\\\",\\\"id\\\":\\\"3317990437195140609\\\",\\\"type\\\":\\\"observable\\\"},filtered_data.out)) : undefined})); gd.on(\\\"plotly_deselect\\\",(function (){return WebIO.setval({\\\"name\\\":\\\"selected\\\",\\\"scope\\\":\\\"4263350582406146779\\\",\\\"id\\\":\\\"3317990437195140609\\\",\\\"type\\\":\\\"observable\\\"},{})})); gd.on(\\\"plotly_relayout\\\",(function (data){var filtered_data=WebIO.PlotlyCommands.filterEventData(gd,data,\\\"relayout\\\"); return !(filtered_data.isnil) ? (WebIO.setval({\\\"name\\\":\\\"relayout\\\",\\\"scope\\\":\\\"4263350582406146779\\\",\\\"id\\\":\\\"6639524728058534742\\\",\\\"type\\\":\\\"observable\\\"},filtered_data.out)) : undefined})); return gd.on(\\\"plotly_click\\\",(function (data){var filtered_data=WebIO.PlotlyCommands.filterEventData(gd,data,\\\"click\\\"); return !(filtered_data.isnil) ? (WebIO.setval({\\\"name\\\":\\\"click\\\",\\\"scope\\\":\\\"4263350582406146779\\\",\\\"id\\\":\\\"4100889093593080165\\\",\\\"type\\\":\\\"observable\\\"},filtered_data.out)) : undefined}))}));\\n    (WebIO.importBlock({\\\"data\\\":[{\\\"name\\\":\\\"Plotly\\\",\\\"type\\\":\\\"js\\\",\\\"url\\\":\\\"\\/assetserver\\/627f17ff06762af3874159c00b9b1e00e50688bc-plotly.min.js\\\"},{\\\"name\\\":null,\\\"type\\\":\\\"js\\\",\\\"url\\\":\\\"\\/assetserver\\/1a276a0acb11ad47020d3f379225d41bbd0aeef0-plotly_webio.bundle.js\\\"}],\\\"type\\\":\\\"async_block\\\"})).then((imports) => handler.apply(this, imports));\\n}\\n\"],\"observables\":{\"_toImage\":{\"sync\":false,\"id\":\"2142429564564006576\",\"value\":{}},\"hover\":{\"sync\":false,\"id\":\"12197440809441498182\",\"value\":{}},\"selected\":{\"sync\":false,\"id\":\"3317990437195140609\",\"value\":{}},\"__gd_contents\":{\"sync\":false,\"id\":\"2771561985756516429\",\"value\":{}},\"click\":{\"sync\":false,\"id\":\"4100889093593080165\",\"value\":{}},\"image\":{\"sync\":true,\"id\":\"10147380779835366186\",\"value\":\"\"},\"__get_gd_contents\":{\"sync\":false,\"id\":\"8006364151136106403\",\"value\":\"\"},\"_downloadImage\":{\"sync\":false,\"id\":\"15393189754546305137\",\"value\":{}},\"relayout\":{\"sync\":false,\"id\":\"6639524728058534742\",\"value\":{}},\"_commands\":{\"sync\":false,\"id\":\"5791229155817827614\",\"value\":[]}}},\"children\":[{\"props\":{\"id\":\"plot-e0074d31-2132-43dc-8f58-979f30b8dc33\"},\"nodeType\":\"DOM\",\"type\":\"node\",\"instanceArgs\":{\"namespace\":\"html\",\"tag\":\"div\"},\"children\":[]}]},\n",
       "        window,\n",
       "    );\n",
       "    })()\n",
       "    </script>\n",
       "</div>\n"
      ],
      "text/plain": [
       "data: [\n",
       "  \"scatter with fields mode, name, type, x, and y\",\n",
       "  \"scatter with fields error_y, mode, name, type, x, and y\"\n",
       "]\n",
       "\n",
       "layout: \"layout with fields legend, margin, template, title, xaxis, and yaxis\"\n",
       "\n"
      ]
     },
     "execution_count": 15,
     "metadata": {},
     "output_type": "execute_result"
    }
   ],
   "source": [
    "plot(\n",
    "    [\n",
    "        # True velocity\n",
    "        scatter(\n",
    "            mode=\"markers\",\n",
    "            x=time_axis_sec,\n",
    "            y=true_state_fcn_time[2, :],\n",
    "            name=\"True Velocity\"\n",
    "        ),\n",
    "        # Estimated velocity\n",
    "        scatter(\n",
    "            mode=\"markers\",\n",
    "            x=time_axis_sec,\n",
    "            y=[s.state[2] for s in states_fcn_time],\n",
    "            error_y=attr(\n",
    "                type=\"data\",\n",
    "                array=[sqrt(abs(s.cov[2, 2])) for s in states_fcn_time]\n",
    "            ),\n",
    "            name=\"Estimated Velocity\"\n",
    "        )\n",
    "    ],\n",
    "    Layout(\n",
    "        title=\"Velocity Measurement\",\n",
    "        xaxis_title=\"Time (second)\",\n",
    "        yaxis_title=\"Velocity (meters / second)\",\n",
    "        legend_title=\"Legend Title\",\n",
    "    ),\n",
    "    config=PlotConfig(scrollZoom=true)\n",
    ")"
   ]
  },
  {
   "cell_type": "code",
   "execution_count": null,
   "id": "4aae68e4",
   "metadata": {},
   "outputs": [],
   "source": []
  }
 ],
 "metadata": {
  "@webio": {
   "lastCommId": "223e5ec68e3040bdac48aa57aa29ee42",
   "lastKernelId": "e5d49348-5ec7-4669-8d72-1f7d7191a135"
  },
  "kernelspec": {
   "display_name": "Julia 1.7.1",
   "language": "julia",
   "name": "julia-1.7"
  },
  "language_info": {
   "file_extension": ".jl",
   "mimetype": "application/julia",
   "name": "julia",
   "version": "1.7.1"
  }
 },
 "nbformat": 4,
 "nbformat_minor": 5
}
